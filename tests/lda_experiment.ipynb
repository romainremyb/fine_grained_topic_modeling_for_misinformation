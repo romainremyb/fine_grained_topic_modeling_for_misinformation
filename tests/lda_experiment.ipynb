{
 "cells": [
  {
   "cell_type": "code",
   "execution_count": 1,
   "metadata": {},
   "outputs": [],
   "source": [
    "import sys, os\n",
    "import re, nltk\n",
    "from nltk import pos_tag\n",
    "import pandas as pd\n",
    "import numpy as np\n",
    "import matplotlib.pyplot as plt\n",
    "import sklearn, gensim\n",
    "from sklearn.decomposition import PCA\n",
    "from gensim.corpora import Dictionary\n",
    "sys.path.append(os.path.expanduser(\"~\")+'/Desktop/topic_modeling/fine_grained_topic_modeling_for_misinformation/src/')\n",
    "os.chdir(os.path.expanduser(\"~\")+'/Desktop/topic_modeling/fine_grained_topic_modeling_for_misinformation/data/')\n",
    "from utils import preprocess_for_bow\n",
    "from models import LDAwrapper"
   ]
  },
  {
   "cell_type": "code",
   "execution_count": 2,
   "metadata": {},
   "outputs": [
    {
     "name": "stderr",
     "output_type": "stream",
     "text": [
      "[nltk_data] Downloading package stopwords to\n",
      "[nltk_data]     /Users/romainbourgeois/nltk_data...\n",
      "[nltk_data]   Package stopwords is already up-to-date!\n",
      "[nltk_data] Downloading package wordnet to\n",
      "[nltk_data]     /Users/romainbourgeois/nltk_data...\n",
      "[nltk_data]   Package wordnet is already up-to-date!\n",
      "[nltk_data] Downloading package averaged_perceptron_tagger to\n",
      "[nltk_data]     /Users/romainbourgeois/nltk_data...\n",
      "[nltk_data]   Package averaged_perceptron_tagger is already up-to-\n",
      "[nltk_data]       date!\n"
     ]
    }
   ],
   "source": [
    "data = preprocess_for_bow('data.csv')"
   ]
  },
  {
   "cell_type": "code",
   "execution_count": 3,
   "metadata": {},
   "outputs": [
    {
     "data": {
      "text/plain": [
       "dict_keys(['text', 'ids', 'tokenized_data', 'dictionary', 'corpus'])"
      ]
     },
     "execution_count": 3,
     "metadata": {},
     "output_type": "execute_result"
    }
   ],
   "source": [
    "data.keys()"
   ]
  },
  {
   "cell_type": "code",
   "execution_count": 4,
   "metadata": {},
   "outputs": [],
   "source": [
    "lda=LDAwrapper('LdaModel', data['corpus'], data['dictionary'], 10, )"
   ]
  },
  {
   "cell_type": "code",
   "execution_count": 5,
   "metadata": {},
   "outputs": [
    {
     "data": {
      "text/plain": [
       "30191"
      ]
     },
     "execution_count": 5,
     "metadata": {},
     "output_type": "execute_result"
    }
   ],
   "source": [
    "g=lda.get_document_topics(data['corpus'], minimum_probability=0.6)\n",
    "len(g)"
   ]
  },
  {
   "cell_type": "code",
   "execution_count": 6,
   "metadata": {},
   "outputs": [
    {
     "data": {
      "text/plain": [
       "30191"
      ]
     },
     "execution_count": 6,
     "metadata": {},
     "output_type": "execute_result"
    }
   ],
   "source": [
    "len(data['corpus'])"
   ]
  },
  {
   "cell_type": "code",
   "execution_count": 8,
   "metadata": {},
   "outputs": [
    {
     "name": "stdout",
     "output_type": "stream",
     "text": [
      "1793\n",
      "2332\n",
      "6021\n",
      "2653\n",
      "2406\n",
      "2184\n",
      "3257\n",
      "2664\n",
      "2487\n",
      "2645\n"
     ]
    }
   ],
   "source": [
    "d=lda.get_indexes_per_topics(data['corpus'], 0.6, data['ids'])\n",
    "for k in d.keys():\n",
    "    print(len(d[k]))"
   ]
  },
  {
   "cell_type": "code",
   "execution_count": 9,
   "metadata": {},
   "outputs": [
    {
     "data": {
      "text/plain": [
       "{'0': [('show', 0.007),\n",
       "  ('covid', 0.007),\n",
       "  ('election', 0.005),\n",
       "  ('say', 0.005),\n",
       "  ('vote', 0.005),\n",
       "  ('trump', 0.005),\n",
       "  ('state', 0.004),\n",
       "  ('police', 0.004),\n",
       "  ('year', 0.004),\n",
       "  ('get', 0.004)],\n",
       " '1': [('covid', 0.006),\n",
       "  ('video', 0.006),\n",
       "  ('vaccine', 0.006),\n",
       "  ('trump', 0.005),\n",
       "  ('twitter', 0.005),\n",
       "  ('woman', 0.004),\n",
       "  ('show', 0.003),\n",
       "  ('make', 0.003),\n",
       "  ('com', 0.003),\n",
       "  ('day', 0.003)],\n",
       " '2': [('covid', 0.009),\n",
       "  ('president', 0.007),\n",
       "  ('show', 0.007),\n",
       "  ('state', 0.006),\n",
       "  ('say', 0.006),\n",
       "  ('image', 0.006),\n",
       "  ('vaccine', 0.005),\n",
       "  ('people', 0.005),\n",
       "  ('man', 0.004),\n",
       "  ('mask', 0.004)],\n",
       " '3': [('show', 0.016),\n",
       "  ('trump', 0.01),\n",
       "  ('video', 0.007),\n",
       "  ('president', 0.006),\n",
       "  ('people', 0.006),\n",
       "  ('covid', 0.006),\n",
       "  ('biden', 0.005),\n",
       "  ('election', 0.005),\n",
       "  ('get', 0.004),\n",
       "  ('china', 0.004)],\n",
       " '4': [('show', 0.013),\n",
       "  ('people', 0.011),\n",
       "  ('covid', 0.01),\n",
       "  ('video', 0.009),\n",
       "  ('coronavirus', 0.005),\n",
       "  ('vaccine', 0.005),\n",
       "  ('protest', 0.004),\n",
       "  ('state', 0.004),\n",
       "  ('take', 0.003),\n",
       "  ('use', 0.003)],\n",
       " '5': [('covid', 0.014),\n",
       "  ('trump', 0.01),\n",
       "  ('say', 0.008),\n",
       "  ('president', 0.007),\n",
       "  ('people', 0.006),\n",
       "  ('take', 0.005),\n",
       "  ('test', 0.005),\n",
       "  ('mask', 0.005),\n",
       "  ('coronavirus', 0.005),\n",
       "  ('world', 0.004)],\n",
       " '6': [('covid', 0.018),\n",
       "  ('vaccine', 0.01),\n",
       "  ('people', 0.008),\n",
       "  ('get', 0.008),\n",
       "  ('show', 0.005),\n",
       "  ('video', 0.005),\n",
       "  ('year', 0.004),\n",
       "  ('make', 0.004),\n",
       "  ('give', 0.003),\n",
       "  ('take', 0.003)],\n",
       " '7': [('show', 0.017),\n",
       "  ('say', 0.01),\n",
       "  ('covid', 0.009),\n",
       "  ('people', 0.009),\n",
       "  ('trump', 0.008),\n",
       "  ('video', 0.008),\n",
       "  ('vaccine', 0.007),\n",
       "  ('photo', 0.007),\n",
       "  ('president', 0.006),\n",
       "  ('get', 0.006)],\n",
       " '8': [('tweet', 0.026),\n",
       "  ('want', 0.015),\n",
       "  ('try', 0.013),\n",
       "  ('add', 0.013),\n",
       "  ('hit', 0.013),\n",
       "  ('birdwatch', 0.013),\n",
       "  ('mislead', 0.013),\n",
       "  ('menu', 0.013),\n",
       "  ('contribute', 0.013),\n",
       "  ('helpfulcontext', 0.012)],\n",
       " '9': [('president', 0.014),\n",
       "  ('trump', 0.013),\n",
       "  ('show', 0.009),\n",
       "  ('donald', 0.007),\n",
       "  ('us', 0.005),\n",
       "  ('election', 0.004),\n",
       "  ('people', 0.004),\n",
       "  ('kill', 0.003),\n",
       "  ('get', 0.003),\n",
       "  ('world', 0.003)]}"
      ]
     },
     "execution_count": 9,
     "metadata": {},
     "output_type": "execute_result"
    }
   ],
   "source": [
    "lda.get_term_topic_distributions()"
   ]
  },
  {
   "cell_type": "code",
   "execution_count": null,
   "metadata": {},
   "outputs": [],
   "source": []
  }
 ],
 "metadata": {
  "kernelspec": {
   "display_name": "tomodapiArm",
   "language": "python",
   "name": "python3"
  },
  "language_info": {
   "codemirror_mode": {
    "name": "ipython",
    "version": 3
   },
   "file_extension": ".py",
   "mimetype": "text/x-python",
   "name": "python",
   "nbconvert_exporter": "python",
   "pygments_lexer": "ipython3",
   "version": "3.8.18"
  }
 },
 "nbformat": 4,
 "nbformat_minor": 2
}
