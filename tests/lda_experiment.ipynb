{
 "cells": [
  {
   "cell_type": "code",
   "execution_count": 2,
   "metadata": {},
   "outputs": [],
   "source": [
    "import sys, os\n",
    "import re, nltk\n",
    "from nltk import pos_tag\n",
    "import pandas as pd\n",
    "import numpy as np\n",
    "import matplotlib.pyplot as plt\n",
    "import sklearn, gensim\n",
    "from sklearn.decomposition import PCA\n",
    "from gensim.corpora import Dictionary\n",
    "sys.path.append(os.path.expanduser(\"~\")+'/Desktop/topic_modeling/fine_grained_topic_modeling_for_misinformation/src/')\n",
    "os.chdir(os.path.expanduser(\"~\")+'/Desktop/topic_modeling/fine_grained_topic_modeling_for_misinformation/data/')\n",
    "from utils import preprocess_for_bow\n",
    "from models import LDAwrappers"
   ]
  },
  {
   "cell_type": "code",
   "execution_count": 3,
   "metadata": {},
   "outputs": [
    {
     "name": "stderr",
     "output_type": "stream",
     "text": [
      "[nltk_data] Downloading package stopwords to\n",
      "[nltk_data]     /Users/romainbourgeois/nltk_data...\n",
      "[nltk_data]   Package stopwords is already up-to-date!\n",
      "[nltk_data] Downloading package wordnet to\n",
      "[nltk_data]     /Users/romainbourgeois/nltk_data...\n",
      "[nltk_data]   Package wordnet is already up-to-date!\n",
      "[nltk_data] Downloading package averaged_perceptron_tagger to\n",
      "[nltk_data]     /Users/romainbourgeois/nltk_data...\n",
      "[nltk_data]   Package averaged_perceptron_tagger is already up-to-\n",
      "[nltk_data]       date!\n"
     ]
    }
   ],
   "source": [
    "data = preprocess_for_bow('data.csv')"
   ]
  },
  {
   "cell_type": "code",
   "execution_count": 4,
   "metadata": {},
   "outputs": [
    {
     "data": {
      "text/plain": [
       "dict_keys(['text', 'ids', 'tokenized_data', 'dictionary', 'corpus'])"
      ]
     },
     "execution_count": 4,
     "metadata": {},
     "output_type": "execute_result"
    }
   ],
   "source": [
    "data.keys()"
   ]
  },
  {
   "cell_type": "code",
   "execution_count": 5,
   "metadata": {},
   "outputs": [],
   "source": [
    "lda=LDAwrappers(data['corpus'], data['dictionary'], 'LdaModelGensim', 10)"
   ]
  },
  {
   "cell_type": "code",
   "execution_count": 6,
   "metadata": {},
   "outputs": [
    {
     "data": {
      "text/plain": [
       "30191"
      ]
     },
     "execution_count": 6,
     "metadata": {},
     "output_type": "execute_result"
    }
   ],
   "source": [
    "g=lda.get_document_topics(data['corpus'], minimum_probability=0.6)\n",
    "len(g)"
   ]
  },
  {
   "cell_type": "code",
   "execution_count": 7,
   "metadata": {},
   "outputs": [
    {
     "data": {
      "text/plain": [
       "30191"
      ]
     },
     "execution_count": 7,
     "metadata": {},
     "output_type": "execute_result"
    }
   ],
   "source": [
    "len(data['corpus'])"
   ]
  },
  {
   "cell_type": "code",
   "execution_count": 8,
   "metadata": {},
   "outputs": [
    {
     "name": "stdout",
     "output_type": "stream",
     "text": [
      "3172\n",
      "2729\n",
      "2667\n",
      "3055\n",
      "4588\n",
      "2649\n",
      "2420\n",
      "2614\n",
      "1821\n",
      "2792\n"
     ]
    }
   ],
   "source": [
    "d=lda.get_indexes_per_topics(data['corpus'], 0.6, data['ids'])\n",
    "for k in d.keys():\n",
    "    print(len(d[k]))"
   ]
  },
  {
   "cell_type": "code",
   "execution_count": 10,
   "metadata": {},
   "outputs": [
    {
     "data": {
      "text/plain": [
       "{'0': [('trump', 0.011),\n",
       "  ('covid', 0.009),\n",
       "  ('people', 0.007),\n",
       "  ('show', 0.006),\n",
       "  ('video', 0.005),\n",
       "  ('use', 0.005),\n",
       "  ('photo', 0.004),\n",
       "  ('president', 0.004),\n",
       "  ('election', 0.004),\n",
       "  ('woman', 0.004)],\n",
       " '1': [('show', 0.018),\n",
       "  ('video', 0.012),\n",
       "  ('covid', 0.011),\n",
       "  ('trump', 0.007),\n",
       "  ('people', 0.007),\n",
       "  ('say', 0.007),\n",
       "  ('state', 0.006),\n",
       "  ('get', 0.006),\n",
       "  ('president', 0.005),\n",
       "  ('take', 0.005)],\n",
       " '2': [('covid', 0.012),\n",
       "  ('show', 0.011),\n",
       "  ('say', 0.008),\n",
       "  ('vaccine', 0.008),\n",
       "  ('get', 0.006),\n",
       "  ('people', 0.006),\n",
       "  ('photo', 0.006),\n",
       "  ('year', 0.005),\n",
       "  ('coronavirus', 0.004),\n",
       "  ('make', 0.004)],\n",
       " '3': [('tweet', 0.021),\n",
       "  ('show', 0.013),\n",
       "  ('want', 0.011),\n",
       "  ('birdwatch', 0.01),\n",
       "  ('try', 0.01),\n",
       "  ('add', 0.01),\n",
       "  ('hit', 0.01),\n",
       "  ('context', 0.01),\n",
       "  ('mislead', 0.01),\n",
       "  ('menu', 0.01)],\n",
       " '4': [('biden', 0.011),\n",
       "  ('covid', 0.01),\n",
       "  ('vaccine', 0.01),\n",
       "  ('show', 0.009),\n",
       "  ('joe', 0.008),\n",
       "  ('president', 0.007),\n",
       "  ('people', 0.005),\n",
       "  ('video', 0.005),\n",
       "  ('make', 0.005),\n",
       "  ('trump', 0.004)],\n",
       " '5': [('show', 0.008),\n",
       "  ('people', 0.008),\n",
       "  ('trump', 0.007),\n",
       "  ('say', 0.006),\n",
       "  ('covid', 0.006),\n",
       "  ('child', 0.006),\n",
       "  ('get', 0.005),\n",
       "  ('image', 0.004),\n",
       "  ('year', 0.004),\n",
       "  ('president', 0.004)],\n",
       " '6': [('president', 0.011),\n",
       "  ('coronavirus', 0.01),\n",
       "  ('trump', 0.008),\n",
       "  ('people', 0.008),\n",
       "  ('covid', 0.007),\n",
       "  ('vaccine', 0.007),\n",
       "  ('show', 0.006),\n",
       "  ('say', 0.006),\n",
       "  ('call', 0.005),\n",
       "  ('donald', 0.004)],\n",
       " '7': [('covid', 0.008),\n",
       "  ('vaccine', 0.007),\n",
       "  ('trump', 0.007),\n",
       "  ('people', 0.006),\n",
       "  ('world', 0.006),\n",
       "  ('show', 0.006),\n",
       "  ('win', 0.005),\n",
       "  ('coronavirus', 0.004),\n",
       "  ('claim', 0.004),\n",
       "  ('bill', 0.004)],\n",
       " '8': [('president', 0.01),\n",
       "  ('covid', 0.008),\n",
       "  ('show', 0.008),\n",
       "  ('people', 0.007),\n",
       "  ('trump', 0.007),\n",
       "  ('coronavirus', 0.006),\n",
       "  ('us', 0.006),\n",
       "  ('get', 0.005),\n",
       "  ('state', 0.004),\n",
       "  ('say', 0.004)],\n",
       " '9': [('tweet', 0.013),\n",
       "  ('covid', 0.01),\n",
       "  ('trump', 0.008),\n",
       "  ('say', 0.008),\n",
       "  ('try', 0.007),\n",
       "  ('show', 0.007),\n",
       "  ('birdwatch', 0.006),\n",
       "  ('add', 0.006),\n",
       "  ('want', 0.006),\n",
       "  ('context', 0.006)]}"
      ]
     },
     "execution_count": 10,
     "metadata": {},
     "output_type": "execute_result"
    }
   ],
   "source": [
    "lda.get_term_topic_distributions()"
   ]
  },
  {
   "cell_type": "code",
   "execution_count": 13,
   "metadata": {},
   "outputs": [
    {
     "data": {
      "text/plain": [
       "[('trump', 0.010813204),\n",
       " ('covid', 0.008946353),\n",
       " ('people', 0.0065409313),\n",
       " ('show', 0.00550275),\n",
       " ('video', 0.0053545143),\n",
       " ('use', 0.0052354634),\n",
       " ('photo', 0.004365879),\n",
       " ('president', 0.00420036),\n",
       " ('election', 0.0040580807),\n",
       " ('woman', 0.0035609526)]"
      ]
     },
     "execution_count": 13,
     "metadata": {},
     "output_type": "execute_result"
    }
   ],
   "source": [
    "lda.lda.show_topic(0, topn=10)"
   ]
  },
  {
   "cell_type": "code",
   "execution_count": null,
   "metadata": {},
   "outputs": [],
   "source": []
  }
 ],
 "metadata": {
  "kernelspec": {
   "display_name": "tomodapiArm",
   "language": "python",
   "name": "python3"
  },
  "language_info": {
   "codemirror_mode": {
    "name": "ipython",
    "version": 3
   },
   "file_extension": ".py",
   "mimetype": "text/x-python",
   "name": "python",
   "nbconvert_exporter": "python",
   "pygments_lexer": "ipython3",
   "version": "3.8.18"
  }
 },
 "nbformat": 4,
 "nbformat_minor": 2
}
