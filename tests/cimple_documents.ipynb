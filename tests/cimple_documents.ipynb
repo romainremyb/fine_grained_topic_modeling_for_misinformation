{
 "cells": [
  {
   "cell_type": "code",
   "execution_count": 1,
   "metadata": {},
   "outputs": [],
   "source": [
    "import sys, os\n",
    "from collections import defaultdict\n",
    "from rdflib import Graph, Literal, URIRef\n",
    "\n",
    "\n",
    "sys.path.append(os.path.expanduser(\"~\")+'/Desktop/topic_modeling/fine_grained_topic_modeling_for_misinformation/src/')\n",
    "from cimple_querying import localGraph\n",
    "\n",
    "cimple = localGraph('KGs_v6/')\n",
    "\n",
    "uris_in_namespaces, unique_uris_in_namespaces = cimple.get_full_namespace_dict()"
   ]
  },
  {
   "cell_type": "code",
   "execution_count": 2,
   "metadata": {},
   "outputs": [],
   "source": [
    "type_statements = cimple.get_all_triples_from_predicate(URIRef('http://www.w3.org/1999/02/22-rdf-syntax-ns#type'))\n",
    "predicates_per_types = defaultdict(dict)\n",
    "for i in set(type_statements.values()):\n",
    "    predicates_per_types[i]['as_subjects']=cimple.get_unique_predicates_for_recordType(i, as_subject=True)\n",
    "    predicates_per_types[i]['as_objects']=cimple.get_unique_predicates_for_recordType(i, as_subject=False)"
   ]
  },
  {
   "cell_type": "code",
   "execution_count": 3,
   "metadata": {},
   "outputs": [
    {
     "data": {
      "text/plain": [
       "dict_keys([rdflib.term.URIRef('http://schema.org/Rating'), rdflib.term.URIRef('http://schema.org/ClaimReview'), rdflib.term.URIRef('http://schema.org/Review'), rdflib.term.URIRef('http://schema.org/SocialMediaPosting'), rdflib.term.URIRef('http://www.w3.org/2002/07/owl#Ontology'), rdflib.term.URIRef('http://schema.org/Organization'), rdflib.term.URIRef('http://schema.org/NewsArticle'), rdflib.term.URIRef('http://www.w3.org/2002/07/owl#ObjectProperty'), rdflib.term.URIRef('http://schema.org/Claim'), rdflib.term.URIRef('http://www.w3.org/2004/02/skos/core#Concept')])"
      ]
     },
     "execution_count": 3,
     "metadata": {},
     "output_type": "execute_result"
    }
   ],
   "source": [
    "predicates_per_types.keys()"
   ]
  },
  {
   "cell_type": "markdown",
   "metadata": {},
   "source": [
    "## TWITTS"
   ]
  },
  {
   "cell_type": "code",
   "execution_count": 4,
   "metadata": {},
   "outputs": [
    {
     "data": {
      "text/plain": [
       "{'as_subjects': {rdflib.term.URIRef('http://data.cimple.eu/ontology#hasEmotion'),\n",
       "  rdflib.term.URIRef('http://data.cimple.eu/ontology#hasPoliticalLeaning'),\n",
       "  rdflib.term.URIRef('http://data.cimple.eu/ontology#hasSentiment'),\n",
       "  rdflib.term.URIRef('http://data.cimple.eu/ontology#mentionsConspiracy'),\n",
       "  rdflib.term.URIRef('http://data.cimple.eu/ontology#promotesConspiracy'),\n",
       "  rdflib.term.URIRef('http://data.cimple.eu/ontology#readability_score'),\n",
       "  rdflib.term.URIRef('http://data.cimple.eu/ontology#related'),\n",
       "  rdflib.term.URIRef('http://schema.org/dateCreated'),\n",
       "  rdflib.term.URIRef('http://schema.org/mentions'),\n",
       "  rdflib.term.URIRef('http://schema.org/text'),\n",
       "  rdflib.term.URIRef('http://www.w3.org/1999/02/22-rdf-syntax-ns#type')},\n",
       " 'as_objects': {rdflib.term.URIRef('http://schema.org/itemReviewed')}}"
      ]
     },
     "execution_count": 4,
     "metadata": {},
     "output_type": "execute_result"
    }
   ],
   "source": [
    "predicates_per_types[URIRef('http://schema.org/SocialMediaPosting')]"
   ]
  },
  {
   "cell_type": "code",
   "execution_count": 22,
   "metadata": {},
   "outputs": [],
   "source": [
    "twitts = cimple.get_all_triples_from_predicate_subjectobject(URIRef('http://schema.org/text'), URIRef('http://schema.org/SocialMediaPosting'), subject=True)\n",
    "twitter_data = dict()\n",
    "for uri in twitts.keys():\n",
    "    twitter_data[str(uri).rsplit('/', 1)[-1]]=str(twitts[uri])"
   ]
  },
  {
   "cell_type": "code",
   "execution_count": 23,
   "metadata": {},
   "outputs": [
    {
     "name": "stdout",
     "output_type": "stream",
     "text": [
      "Rate of missing data is 0.010993212885957365 out of 10461 total documents\n"
     ]
    }
   ],
   "source": [
    "missing_c=0\n",
    "for text in twitter_data.values():\n",
    "    if len(text)==0:\n",
    "        missing_c+=1\n",
    "print(f\"Rate of missing data is {missing_c/len(twitter_data)} out of {len(twitter_data)} total documents\")"
   ]
  },
  {
   "cell_type": "markdown",
   "metadata": {},
   "source": [
    "## AFP"
   ]
  },
  {
   "cell_type": "code",
   "execution_count": 24,
   "metadata": {},
   "outputs": [
    {
     "data": {
      "text/plain": [
       "{'as_subjects': {rdflib.term.URIRef('http://data.cimple.eu/ontology#hasEmotion'),\n",
       "  rdflib.term.URIRef('http://data.cimple.eu/ontology#hasPoliticalLeaning'),\n",
       "  rdflib.term.URIRef('http://data.cimple.eu/ontology#hasSentiment'),\n",
       "  rdflib.term.URIRef('http://data.cimple.eu/ontology#mentionsConspiracy'),\n",
       "  rdflib.term.URIRef('http://data.cimple.eu/ontology#promotesConspiracy'),\n",
       "  rdflib.term.URIRef('http://data.cimple.eu/ontology#readability_score'),\n",
       "  rdflib.term.URIRef('http://schema.org/articleBody'),\n",
       "  rdflib.term.URIRef('http://schema.org/author'),\n",
       "  rdflib.term.URIRef('http://schema.org/dateCreated'),\n",
       "  rdflib.term.URIRef('http://schema.org/headline'),\n",
       "  rdflib.term.URIRef('http://schema.org/mentions'),\n",
       "  rdflib.term.URIRef('http://www.w3.org/1999/02/22-rdf-syntax-ns#type')},\n",
       " 'as_objects': set()}"
      ]
     },
     "execution_count": 24,
     "metadata": {},
     "output_type": "execute_result"
    }
   ],
   "source": [
    "predicates_per_types[URIRef('http://schema.org/NewsArticle')]"
   ]
  },
  {
   "cell_type": "code",
   "execution_count": 25,
   "metadata": {},
   "outputs": [],
   "source": [
    "afp = cimple.get_all_triples_from_predicate_subjectobject(URIRef('http://schema.org/articleBody'), URIRef('http://schema.org/NewsArticle'), subject=True)\n",
    "afp_data = dict()\n",
    "for uri in afp.keys():\n",
    "    afp_data[str(uri).rsplit('/', 1)[-1]]=str(afp[uri])"
   ]
  },
  {
   "cell_type": "code",
   "execution_count": 26,
   "metadata": {},
   "outputs": [
    {
     "name": "stdout",
     "output_type": "stream",
     "text": [
      "Rate of missing data is 0.0 out of 193932 total documents\n"
     ]
    }
   ],
   "source": [
    "missing_c=0\n",
    "for text in afp_data.values():\n",
    "    if len(text)==0:\n",
    "        missing_c+=1\n",
    "print(f\"Rate of missing data is {missing_c/len(afp_data)} out of {len(afp_data)} total documents\")"
   ]
  },
  {
   "cell_type": "code",
   "execution_count": null,
   "metadata": {},
   "outputs": [],
   "source": []
  }
 ],
 "metadata": {
  "kernelspec": {
   "display_name": "tomodapiArm",
   "language": "python",
   "name": "python3"
  },
  "language_info": {
   "codemirror_mode": {
    "name": "ipython",
    "version": 3
   },
   "file_extension": ".py",
   "mimetype": "text/x-python",
   "name": "python",
   "nbconvert_exporter": "python",
   "pygments_lexer": "ipython3",
   "version": "3.8.18"
  }
 },
 "nbformat": 4,
 "nbformat_minor": 2
}
