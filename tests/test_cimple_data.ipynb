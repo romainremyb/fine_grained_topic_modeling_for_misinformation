{
 "cells": [
  {
   "cell_type": "code",
   "execution_count": 7,
   "metadata": {},
   "outputs": [
    {
     "ename": "SPARQLConnectorException",
     "evalue": "Query endpoint not set!",
     "output_type": "error",
     "traceback": [
      "\u001b[0;31m---------------------------------------------------------------------------\u001b[0m",
      "\u001b[0;31mSPARQLConnectorException\u001b[0m                  Traceback (most recent call last)",
      "\u001b[1;32m/Users/romainbourgeois/Desktop/topic_modeling/fine_grained_topic_modeling_for_misinformation/tests/test_cimple_data.ipynb Cell 1\u001b[0m line \u001b[0;36m1\n\u001b[1;32m      <a href='vscode-notebook-cell:/Users/romainbourgeois/Desktop/topic_modeling/fine_grained_topic_modeling_for_misinformation/tests/test_cimple_data.ipynb#W0sZmlsZQ%3D%3D?line=6'>7</a>\u001b[0m g \u001b[39m=\u001b[39m Graph(store)\n\u001b[1;32m      <a href='vscode-notebook-cell:/Users/romainbourgeois/Desktop/topic_modeling/fine_grained_topic_modeling_for_misinformation/tests/test_cimple_data.ipynb#W0sZmlsZQ%3D%3D?line=8'>9</a>\u001b[0m query \u001b[39m=\u001b[39m \u001b[39m\"\"\"\u001b[39m\n\u001b[1;32m     <a href='vscode-notebook-cell:/Users/romainbourgeois/Desktop/topic_modeling/fine_grained_topic_modeling_for_misinformation/tests/test_cimple_data.ipynb#W0sZmlsZQ%3D%3D?line=9'>10</a>\u001b[0m \u001b[39mSELECT DISTINCT count(?s) as ?nb ?type\u001b[39m\n\u001b[1;32m     <a href='vscode-notebook-cell:/Users/romainbourgeois/Desktop/topic_modeling/fine_grained_topic_modeling_for_misinformation/tests/test_cimple_data.ipynb#W0sZmlsZQ%3D%3D?line=10'>11</a>\u001b[0m \u001b[39mWHERE \u001b[39m\u001b[39m{\u001b[39m\n\u001b[0;32m   (...)\u001b[0m\n\u001b[1;32m     <a href='vscode-notebook-cell:/Users/romainbourgeois/Desktop/topic_modeling/fine_grained_topic_modeling_for_misinformation/tests/test_cimple_data.ipynb#W0sZmlsZQ%3D%3D?line=14'>15</a>\u001b[0m \u001b[39mORDER BY DESC(?nb)\u001b[39m\n\u001b[1;32m     <a href='vscode-notebook-cell:/Users/romainbourgeois/Desktop/topic_modeling/fine_grained_topic_modeling_for_misinformation/tests/test_cimple_data.ipynb#W0sZmlsZQ%3D%3D?line=15'>16</a>\u001b[0m \u001b[39m\"\"\"\u001b[39m\n\u001b[0;32m---> <a href='vscode-notebook-cell:/Users/romainbourgeois/Desktop/topic_modeling/fine_grained_topic_modeling_for_misinformation/tests/test_cimple_data.ipynb#W0sZmlsZQ%3D%3D?line=17'>18</a>\u001b[0m results \u001b[39m=\u001b[39m g\u001b[39m.\u001b[39;49mquery(query)\n\u001b[1;32m     <a href='vscode-notebook-cell:/Users/romainbourgeois/Desktop/topic_modeling/fine_grained_topic_modeling_for_misinformation/tests/test_cimple_data.ipynb#W0sZmlsZQ%3D%3D?line=18'>19</a>\u001b[0m \u001b[39mfor\u001b[39;00m row \u001b[39min\u001b[39;00m results:\n\u001b[1;32m     <a href='vscode-notebook-cell:/Users/romainbourgeois/Desktop/topic_modeling/fine_grained_topic_modeling_for_misinformation/tests/test_cimple_data.ipynb#W0sZmlsZQ%3D%3D?line=19'>20</a>\u001b[0m     \u001b[39mprint\u001b[39m(row)\n",
      "File \u001b[0;32m/opt/homebrew/Caskroom/miniforge/base/envs/topic_modeling/lib/python3.8/site-packages/rdflib/graph.py:1549\u001b[0m, in \u001b[0;36mGraph.query\u001b[0;34m(self, query_object, processor, result, initNs, initBindings, use_store_provided, **kwargs)\u001b[0m\n\u001b[1;32m   1547\u001b[0m \u001b[39mif\u001b[39;00m \u001b[39mhasattr\u001b[39m(\u001b[39mself\u001b[39m\u001b[39m.\u001b[39mstore, \u001b[39m\"\u001b[39m\u001b[39mquery\u001b[39m\u001b[39m\"\u001b[39m) \u001b[39mand\u001b[39;00m use_store_provided:\n\u001b[1;32m   1548\u001b[0m     \u001b[39mtry\u001b[39;00m:\n\u001b[0;32m-> 1549\u001b[0m         \u001b[39mreturn\u001b[39;00m \u001b[39mself\u001b[39;49m\u001b[39m.\u001b[39;49mstore\u001b[39m.\u001b[39;49mquery(\n\u001b[1;32m   1550\u001b[0m             query_object,\n\u001b[1;32m   1551\u001b[0m             initNs,\n\u001b[1;32m   1552\u001b[0m             initBindings,\n\u001b[1;32m   1553\u001b[0m             \u001b[39mself\u001b[39;49m\u001b[39m.\u001b[39;49mdefault_union \u001b[39mand\u001b[39;49;00m \u001b[39m\"\u001b[39;49m\u001b[39m__UNION__\u001b[39;49m\u001b[39m\"\u001b[39;49m \u001b[39mor\u001b[39;49;00m \u001b[39mself\u001b[39;49m\u001b[39m.\u001b[39;49midentifier,\n\u001b[1;32m   1554\u001b[0m             \u001b[39m*\u001b[39;49m\u001b[39m*\u001b[39;49mkwargs,\n\u001b[1;32m   1555\u001b[0m         )\n\u001b[1;32m   1556\u001b[0m     \u001b[39mexcept\u001b[39;00m \u001b[39mNotImplementedError\u001b[39;00m:\n\u001b[1;32m   1557\u001b[0m         \u001b[39mpass\u001b[39;00m  \u001b[39m# store has no own implementation\u001b[39;00m\n",
      "File \u001b[0;32m/opt/homebrew/Caskroom/miniforge/base/envs/topic_modeling/lib/python3.8/site-packages/rdflib/plugins/stores/sparqlstore.py:246\u001b[0m, in \u001b[0;36mSPARQLStore.query\u001b[0;34m(self, query, initNs, initBindings, queryGraph, DEBUG)\u001b[0m\n\u001b[1;32m    240\u001b[0m     \u001b[39m# VALUES was added to SPARQL 1.1 on 2012/07/24\u001b[39;00m\n\u001b[1;32m    241\u001b[0m     query \u001b[39m+\u001b[39m\u001b[39m=\u001b[39m \u001b[39m\"\u001b[39m\u001b[39m\\n\u001b[39;00m\u001b[39mVALUES ( \u001b[39m\u001b[39m%s\u001b[39;00m\u001b[39m )\u001b[39m\u001b[39m\\n\u001b[39;00m\u001b[39m{\u001b[39m\u001b[39m ( \u001b[39m\u001b[39m%s\u001b[39;00m\u001b[39m ) }\u001b[39m\u001b[39m\\n\u001b[39;00m\u001b[39m\"\u001b[39m \u001b[39m%\u001b[39m (\n\u001b[1;32m    242\u001b[0m         \u001b[39m\"\u001b[39m\u001b[39m \u001b[39m\u001b[39m\"\u001b[39m\u001b[39m.\u001b[39mjoin(\u001b[39m\"\u001b[39m\u001b[39m?\u001b[39m\u001b[39m\"\u001b[39m \u001b[39m+\u001b[39m \u001b[39mstr\u001b[39m(x) \u001b[39mfor\u001b[39;00m x \u001b[39min\u001b[39;00m v),\n\u001b[1;32m    243\u001b[0m         \u001b[39m\"\u001b[39m\u001b[39m \u001b[39m\u001b[39m\"\u001b[39m\u001b[39m.\u001b[39mjoin(\u001b[39mself\u001b[39m\u001b[39m.\u001b[39mnode_to_sparql(initBindings[x]) \u001b[39mfor\u001b[39;00m x \u001b[39min\u001b[39;00m v),\n\u001b[1;32m    244\u001b[0m     )\n\u001b[0;32m--> 246\u001b[0m \u001b[39mreturn\u001b[39;00m \u001b[39mself\u001b[39;49m\u001b[39m.\u001b[39;49m_query(\n\u001b[1;32m    247\u001b[0m     query, default_graph\u001b[39m=\u001b[39;49mqueryGraph \u001b[39mif\u001b[39;49;00m \u001b[39mself\u001b[39;49m\u001b[39m.\u001b[39;49m_is_contextual(queryGraph) \u001b[39melse\u001b[39;49;00m \u001b[39mNone\u001b[39;49;00m\n\u001b[1;32m    248\u001b[0m )\n",
      "File \u001b[0;32m/opt/homebrew/Caskroom/miniforge/base/envs/topic_modeling/lib/python3.8/site-packages/rdflib/plugins/stores/sparqlstore.py:205\u001b[0m, in \u001b[0;36mSPARQLStore._query\u001b[0;34m(self, *args, **kwargs)\u001b[0m\n\u001b[1;32m    202\u001b[0m \u001b[39mdef\u001b[39;00m \u001b[39m_query\u001b[39m(\u001b[39mself\u001b[39m, \u001b[39m*\u001b[39margs: Any, \u001b[39m*\u001b[39m\u001b[39m*\u001b[39mkwargs: Any) \u001b[39m-\u001b[39m\u001b[39m>\u001b[39m \u001b[39m\"\u001b[39m\u001b[39mResult\u001b[39m\u001b[39m\"\u001b[39m:\n\u001b[1;32m    203\u001b[0m     \u001b[39mself\u001b[39m\u001b[39m.\u001b[39m_queries \u001b[39m+\u001b[39m\u001b[39m=\u001b[39m \u001b[39m1\u001b[39m\n\u001b[0;32m--> 205\u001b[0m     \u001b[39mreturn\u001b[39;00m \u001b[39msuper\u001b[39;49m(SPARQLStore, \u001b[39mself\u001b[39;49m)\u001b[39m.\u001b[39;49mquery(\u001b[39m*\u001b[39;49margs, \u001b[39m*\u001b[39;49m\u001b[39m*\u001b[39;49mkwargs)\n",
      "File \u001b[0;32m/opt/homebrew/Caskroom/miniforge/base/envs/topic_modeling/lib/python3.8/site-packages/rdflib/plugins/stores/sparqlconnector.py:89\u001b[0m, in \u001b[0;36mSPARQLConnector.query\u001b[0;34m(self, query, default_graph, named_graph)\u001b[0m\n\u001b[1;32m     82\u001b[0m \u001b[39mdef\u001b[39;00m \u001b[39mquery\u001b[39m(\n\u001b[1;32m     83\u001b[0m     \u001b[39mself\u001b[39m,\n\u001b[1;32m     84\u001b[0m     query: \u001b[39mstr\u001b[39m,\n\u001b[1;32m     85\u001b[0m     default_graph: Optional[\u001b[39mstr\u001b[39m] \u001b[39m=\u001b[39m \u001b[39mNone\u001b[39;00m,\n\u001b[1;32m     86\u001b[0m     named_graph: Optional[\u001b[39mstr\u001b[39m] \u001b[39m=\u001b[39m \u001b[39mNone\u001b[39;00m,\n\u001b[1;32m     87\u001b[0m ) \u001b[39m-\u001b[39m\u001b[39m>\u001b[39m \u001b[39m\"\u001b[39m\u001b[39mResult\u001b[39m\u001b[39m\"\u001b[39m:\n\u001b[1;32m     88\u001b[0m     \u001b[39mif\u001b[39;00m \u001b[39mnot\u001b[39;00m \u001b[39mself\u001b[39m\u001b[39m.\u001b[39mquery_endpoint:\n\u001b[0;32m---> 89\u001b[0m         \u001b[39mraise\u001b[39;00m SPARQLConnectorException(\u001b[39m\"\u001b[39m\u001b[39mQuery endpoint not set!\u001b[39m\u001b[39m\"\u001b[39m)\n\u001b[1;32m     91\u001b[0m     params \u001b[39m=\u001b[39m {}\n\u001b[1;32m     92\u001b[0m     \u001b[39m# this test ensures we don't have a useless (BNode) default graph URI, which calls to Graph().query() will add\u001b[39;00m\n",
      "\u001b[0;31mSPARQLConnectorException\u001b[0m: Query endpoint not set!"
     ]
    }
   ],
   "source": [
    "from rdflib import Graph\n",
    "from rdflib.plugins.stores.sparqlstore import SPARQLStore\n",
    "\n",
    "endpoint_url = \"https://data.cimple.eu/sparql\"  \n",
    "\n",
    "store = SPARQLStore(endpoint=endpoint_url)\n",
    "g = Graph(store)\n",
    "\n",
    "query = \"\"\"\n",
    "SELECT DISTINCT count(?s) as ?nb ?type\n",
    "WHERE {\n",
    "  ?s a ?type .\n",
    "}\n",
    "GROUP BY ?type\n",
    "ORDER BY DESC(?nb)\n",
    "\"\"\"\n",
    "\n",
    "results = g.query(query)\n",
    "for row in results:\n",
    "    print(row)"
   ]
  },
  {
   "cell_type": "code",
   "execution_count": null,
   "metadata": {},
   "outputs": [],
   "source": []
  }
 ],
 "metadata": {
  "kernelspec": {
   "display_name": "topic_modeling",
   "language": "python",
   "name": "python3"
  },
  "language_info": {
   "codemirror_mode": {
    "name": "ipython",
    "version": 3
   },
   "file_extension": ".py",
   "mimetype": "text/x-python",
   "name": "python",
   "nbconvert_exporter": "python",
   "pygments_lexer": "ipython3",
   "version": "3.8.18"
  }
 },
 "nbformat": 4,
 "nbformat_minor": 2
}
