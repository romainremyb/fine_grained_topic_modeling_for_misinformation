{
 "cells": [
  {
   "cell_type": "code",
   "execution_count": 1,
   "metadata": {},
   "outputs": [],
   "source": [
    "import sys, os\n",
    "from collections import defaultdict\n",
    "sys.path.append(os.path.expanduser(\"~\")+'/Desktop/topic_modeling/fine_grained_topic_modeling_for_misinformation/src/')\n",
    "from cimple_querying import build_SPARQL_wrapper, request, get_predicates_recordType, \\\n",
    "            get_all_statements_with_predicate, get_all_subjects_objects_pairs_from_property_and_subject\n",
    "\n",
    "wrapper=build_SPARQL_wrapper('https://data.cimple.eu/sparql')"
   ]
  },
  {
   "cell_type": "code",
   "execution_count": 2,
   "metadata": {},
   "outputs": [],
   "source": [
    "# uses namespaces as keys \n",
    "concept_types=defaultdict(list)\n",
    "for statement in request(wrapper,'select distinct ?Concept where {[] a ?Concept} LIMIT 100'):\n",
    "    if statement['Concept']['value'][:18]=='http://schema.org/':\n",
    "        concept_types['schema'].append(statement['Concept']['value'].split('/')[-1])\n",
    "    elif statement['Concept']['value'][:18]=='http://www.w3.org/':\n",
    "        concept_types['w3'].append(statement['Concept']['value'])\n",
    "    elif statement['Concept']['value'][:16]=='http://purl.org/':\n",
    "        concept_types['dc'].append(statement['Concept']['value'])\n",
    "    elif statement['Concept']['value'][:26]=='http://www.openlinksw.com/':\n",
    "        concept_types['openlinksw'].append(statement['Concept']['value'])\n",
    "    else:\n",
    "        concept_types['others'].append(statement['Concept']['value'])\n"
   ]
  },
  {
   "cell_type": "code",
   "execution_count": 3,
   "metadata": {},
   "outputs": [
    {
     "data": {
      "text/plain": [
       "['Review',\n",
       " 'NewsArticle',\n",
       " 'Organization',\n",
       " 'SocialMediaPosting',\n",
       " 'Rating',\n",
       " 'ClaimReview',\n",
       " 'Claim']"
      ]
     },
     "execution_count": 3,
     "metadata": {},
     "output_type": "execute_result"
    }
   ],
   "source": [
    "concept_types['schema']"
   ]
  },
  {
   "cell_type": "markdown",
   "metadata": {},
   "source": [
    "## Counts on records"
   ]
  },
  {
   "cell_type": "code",
   "execution_count": 14,
   "metadata": {},
   "outputs": [
    {
     "name": "stdout",
     "output_type": "stream",
     "text": [
      "Review  -> 1983 records\n",
      "NewsArticle  -> 10000 records\n",
      "Organization  -> 120 records\n",
      "SocialMediaPosting  -> 10000 records\n",
      "Rating  -> 10000 records\n",
      "ClaimReview  -> 10000 records\n",
      "Claim  -> 10000 records\n"
     ]
    }
   ],
   "source": [
    "def countquery(recordtype):\n",
    "    count_query=\"\"\"SELECT ?s\n",
    "    WHERE |\n",
    "    ?s a schema:{}.\n",
    "    ¨\"\"\".format(recordtype).replace('|','{').replace('¨','}')\n",
    "    return len(request(wrapper, count_query))\n",
    "for i in concept_types['schema']:\n",
    "    print(i,' ->', countquery(i),'records')"
   ]
  },
  {
   "cell_type": "markdown",
   "metadata": {},
   "source": []
  },
  {
   "cell_type": "code",
   "execution_count": 4,
   "metadata": {},
   "outputs": [],
   "source": [
    "def extract_predicates(record_type, as_subject=True):\n",
    "    cimple_predicates=[]\n",
    "    schema_predicates=[]\n",
    "    other=[]\n",
    "    for statement in request(wrapper, get_predicates_recordType(record_type, as_subject=as_subject)):\n",
    "        if statement['predicate']['value'][:31]=='http://data.cimple.eu/ontology#':\n",
    "            cimple_predicates.append(statement['predicate']['value'])\n",
    "        elif statement['predicate']['value'][:18]=='http://schema.org/':\n",
    "            schema_predicates.append(statement['predicate']['value'])\n",
    "        else:\n",
    "            other.append(statement['predicate']['value'])\n",
    "    other=[]\n",
    "    return cimple_predicates, schema_predicates, other\n"
   ]
  },
  {
   "cell_type": "markdown",
   "metadata": {},
   "source": [
    "## predicates for record types def as subjects"
   ]
  },
  {
   "cell_type": "code",
   "execution_count": 16,
   "metadata": {},
   "outputs": [],
   "source": [
    "recordType_schema=defaultdict(dict)\n",
    "for type in concept_types['schema']:\n",
    "    r=extract_predicates(type, as_subject=True)\n",
    "    recordType_schema[type]['cimple_predicates']=r[0]\n",
    "    recordType_schema[type]['schema_predicates']=r[1]\n",
    "    recordType_schema[type]['others']=r[2]"
   ]
  },
  {
   "cell_type": "code",
   "execution_count": 17,
   "metadata": {},
   "outputs": [
    {
     "name": "stdout",
     "output_type": "stream",
     "text": [
      "schema_predicates\n",
      "Review  ->  ['http://schema.org/mentions', 'http://schema.org/reviewRating', 'http://schema.org/itemReviewed', 'http://schema.org/reviewBody', 'http://schema.org/isBasedOnURL']\n",
      "NewsArticle  ->  ['http://schema.org/articleBody', 'http://schema.org/headline', 'http://schema.org/mentions', 'http://schema.org/dateCreated', 'http://schema.org/author']\n",
      "Organization  ->  ['http://schema.org/name', 'http://schema.org/url']\n",
      "SocialMediaPosting  ->  ['http://schema.org/text', 'http://schema.org/mentions', 'http://schema.org/dateCreated']\n",
      "Rating  ->  ['http://schema.org/name', 'http://schema.org/sameAs', 'http://schema.org/ratingValue', 'http://schema.org/author']\n",
      "ClaimReview  ->  ['http://schema.org/url', 'http://schema.org/headline', 'http://schema.org/alternativeHeadline', 'http://schema.org/mentions', 'http://schema.org/reviewRating', 'http://schema.org/dateCreated', 'http://schema.org/author', 'http://schema.org/datePublished', 'http://schema.org/inLanguage', 'http://schema.org/itemReviewed']\n",
      "Claim  ->  ['http://schema.org/appearance', 'http://schema.org/text', 'http://schema.org/mentions']\n"
     ]
    }
   ],
   "source": [
    "print('schema_predicates')\n",
    "for type in recordType_schema.keys():\n",
    "    print(type, ' -> ', recordType_schema[type]['schema_predicates'])\n"
   ]
  },
  {
   "cell_type": "code",
   "execution_count": 18,
   "metadata": {},
   "outputs": [
    {
     "name": "stdout",
     "output_type": "stream",
     "text": [
      "cimple_predicates\n",
      "Review  ->  ['http://data.cimple.eu/ontology#normalizedReviewRating', 'http://data.cimple.eu/ontology#readability_score']\n",
      "NewsArticle  ->  ['http://data.cimple.eu/ontology#hasPoliticalLeaning', 'http://data.cimple.eu/ontology#hasSentiment', 'http://data.cimple.eu/ontology#readability_score', 'http://data.cimple.eu/ontology#hasEmotion', 'http://data.cimple.eu/ontology#promotesConspiracy', 'http://data.cimple.eu/ontology#mentionsConspiracy']\n",
      "Organization  ->  []\n",
      "SocialMediaPosting  ->  ['http://data.cimple.eu/ontology#related', 'http://data.cimple.eu/ontology#hasPoliticalLeaning', 'http://data.cimple.eu/ontology#hasSentiment', 'http://data.cimple.eu/ontology#readability_score', 'http://data.cimple.eu/ontology#hasEmotion', 'http://data.cimple.eu/ontology#promotesConspiracy', 'http://data.cimple.eu/ontology#mentionsConspiracy']\n",
      "Rating  ->  []\n",
      "ClaimReview  ->  ['http://data.cimple.eu/ontology#normalizedReviewRating', 'http://data.cimple.eu/ontology#hasPoliticalLeaning', 'http://data.cimple.eu/ontology#hasSentiment', 'http://data.cimple.eu/ontology#readability_score', 'http://data.cimple.eu/ontology#hasEmotion', 'http://data.cimple.eu/ontology#mentionsConspiracy', 'http://data.cimple.eu/ontology#promotesConspiracy']\n",
      "Claim  ->  ['http://data.cimple.eu/ontology#hasPoliticalLeaning', 'http://data.cimple.eu/ontology#hasSentiment', 'http://data.cimple.eu/ontology#readability_score', 'http://data.cimple.eu/ontology#hasEmotion', 'http://data.cimple.eu/ontology#promotesConspiracy', 'http://data.cimple.eu/ontology#mentionsConspiracy', 'http://data.cimple.eu/ontology#usesPropagandaTechnique']\n"
     ]
    }
   ],
   "source": [
    "print('cimple_predicates')\n",
    "for type in recordType_schema.keys():\n",
    "    print(type, ' -> ', recordType_schema[type]['cimple_predicates'])"
   ]
  },
  {
   "cell_type": "markdown",
   "metadata": {},
   "source": [
    "## predicates for record types def as objects"
   ]
  },
  {
   "cell_type": "code",
   "execution_count": 19,
   "metadata": {},
   "outputs": [],
   "source": [
    "recordType_schema_objects=defaultdict(dict)\n",
    "for type in concept_types['schema']:\n",
    "    r=extract_predicates(type, as_subject=False)\n",
    "    recordType_schema_objects[type]['cimple_predicates']=r[0]\n",
    "    recordType_schema_objects[type]['schema_predicates']=r[1]\n",
    "    recordType_schema_objects[type]['others']=r[2]"
   ]
  },
  {
   "cell_type": "code",
   "execution_count": 20,
   "metadata": {},
   "outputs": [
    {
     "name": "stdout",
     "output_type": "stream",
     "text": [
      "Review  ->  []\n",
      "NewsArticle  ->  []\n",
      "Organization  ->  ['http://schema.org/author']\n",
      "SocialMediaPosting  ->  ['http://schema.org/itemReviewed']\n",
      "Rating  ->  ['http://schema.org/sameAs', 'http://schema.org/reviewRating']\n",
      "ClaimReview  ->  []\n",
      "Claim  ->  ['http://schema.org/itemReviewed']\n"
     ]
    }
   ],
   "source": [
    "for type in recordType_schema_objects.keys():\n",
    "    print(type, ' -> ', recordType_schema_objects[type]['schema_predicates'])"
   ]
  },
  {
   "cell_type": "code",
   "execution_count": 21,
   "metadata": {},
   "outputs": [
    {
     "name": "stdout",
     "output_type": "stream",
     "text": [
      "Review  ->  []\n",
      "NewsArticle  ->  []\n",
      "Organization  ->  []\n",
      "SocialMediaPosting  ->  []\n",
      "Rating  ->  ['http://data.cimple.eu/ontology#normalizedReviewRating']\n",
      "ClaimReview  ->  ['http://data.cimple.eu/ontology#related']\n",
      "Claim  ->  []\n"
     ]
    }
   ],
   "source": [
    "for type in recordType_schema_objects.keys():\n",
    "    print(type, ' -> ', recordType_schema_objects[type]['cimple_predicates'])"
   ]
  },
  {
   "cell_type": "code",
   "execution_count": null,
   "metadata": {},
   "outputs": [],
   "source": []
  },
  {
   "cell_type": "markdown",
   "metadata": {},
   "source": [
    "## Count of ClaimReview predicates"
   ]
  },
  {
   "cell_type": "code",
   "execution_count": 23,
   "metadata": {},
   "outputs": [
    {
     "name": "stdout",
     "output_type": "stream",
     "text": [
      "http://schema.org/url has count -> 10000\n",
      "http://schema.org/headline has count -> 5069\n",
      "http://schema.org/alternativeHeadline has count -> 5069\n",
      "http://schema.org/mentions has count -> 10000\n",
      "http://schema.org/reviewRating has count -> 10000\n",
      "http://schema.org/dateCreated has count -> 10000\n",
      "http://schema.org/author has count -> 10000\n",
      "http://schema.org/datePublished has count -> 10000\n",
      "http://schema.org/inLanguage has count -> 10000\n",
      "http://schema.org/itemReviewed has count -> 10000\n"
     ]
    }
   ],
   "source": [
    "for predicate in recordType_schema['ClaimReview']['schema_predicates']:\n",
    "    print(predicate, 'has count ->', len(get_all_subjects_objects_pairs_from_property_and_subject(wrapper, 'ClaimReview', predicate)))"
   ]
  },
  {
   "cell_type": "code",
   "execution_count": 24,
   "metadata": {},
   "outputs": [
    {
     "name": "stdout",
     "output_type": "stream",
     "text": [
      "http://data.cimple.eu/ontology#normalizedReviewRating has count -> 10000\n",
      "http://data.cimple.eu/ontology#hasPoliticalLeaning has count -> 5069\n",
      "http://data.cimple.eu/ontology#hasSentiment has count -> 5069\n",
      "http://data.cimple.eu/ontology#readability_score has count -> 5069\n",
      "http://data.cimple.eu/ontology#hasEmotion has count -> 3900\n",
      "http://data.cimple.eu/ontology#mentionsConspiracy has count -> 391\n",
      "http://data.cimple.eu/ontology#promotesConspiracy has count -> 22\n"
     ]
    }
   ],
   "source": [
    "for predicate in recordType_schema['ClaimReview']['cimple_predicates']:\n",
    "    print(predicate, 'has count ->', len(get_all_subjects_objects_pairs_from_property_and_subject(wrapper, 'ClaimReview', predicate)))"
   ]
  },
  {
   "cell_type": "code",
   "execution_count": null,
   "metadata": {},
   "outputs": [],
   "source": []
  }
 ],
 "metadata": {
  "kernelspec": {
   "display_name": "topic_modeling",
   "language": "python",
   "name": "python3"
  },
  "language_info": {
   "codemirror_mode": {
    "name": "ipython",
    "version": 3
   },
   "file_extension": ".py",
   "mimetype": "text/x-python",
   "name": "python",
   "nbconvert_exporter": "python",
   "pygments_lexer": "ipython3",
   "version": "3.8.18"
  }
 },
 "nbformat": 4,
 "nbformat_minor": 2
}
