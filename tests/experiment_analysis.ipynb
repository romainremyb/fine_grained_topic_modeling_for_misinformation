{
 "cells": [
  {
   "cell_type": "code",
   "execution_count": 1,
   "metadata": {},
   "outputs": [],
   "source": [
    "import sys, os, json\n",
    "import re, nltk\n",
    "from nltk import pos_tag\n",
    "import pandas as pd\n",
    "import numpy as np\n",
    "import matplotlib.pyplot as plt\n",
    "import sklearn, gensim\n",
    "from sklearn.decomposition import PCA\n",
    "import itertools\n",
    "from gensim.corpora import Dictionary\n",
    "from collections import defaultdict\n",
    "import statsmodels.api as sm\n",
    "sys.path.append(os.path.expanduser(\"~\")+'/Desktop/topic_modeling/fine_grained_topic_modeling_for_misinformation/src/')\n",
    "sys.path.append(os.path.expanduser(\"~\")+'/Desktop/topic_modeling/fine_grained_topic_modeling_for_misinformation/src/')\n",
    "os.chdir(os.path.expanduser(\"~\")+'/Desktop/topic_modeling/fine_grained_topic_modeling_for_misinformation/data/')\n",
    "from utils import preprocess_for_bow, experiment_result\n",
    "from models.lda import LDAwrappers\n",
    "from models.hdp import HDPwrapper\n",
    "from models.gsdmm import MovieGroupProcessWrapper\n",
    "from models.lftm import LFTMwrapper"
   ]
  },
  {
   "cell_type": "code",
   "execution_count": 2,
   "metadata": {},
   "outputs": [],
   "source": [
    "with open('experiments_dataset1.json', 'r') as fout:\n",
    "    res=json.load(fout)"
   ]
  },
  {
   "cell_type": "code",
   "execution_count": 3,
   "metadata": {},
   "outputs": [
    {
     "data": {
      "text/plain": [
       "dict_keys(['lda_experiment', 'gsdmm_experiment', 'hdp_experiment', 'lftm_experiment'])"
      ]
     },
     "execution_count": 3,
     "metadata": {},
     "output_type": "execute_result"
    }
   ],
   "source": [
    "res.keys()"
   ]
  },
  {
   "cell_type": "code",
   "execution_count": 4,
   "metadata": {},
   "outputs": [],
   "source": [
    "with open('experiments_dataset2.json', 'r') as fout:\n",
    "    res2=json.load(fout)"
   ]
  },
  {
   "cell_type": "code",
   "execution_count": 5,
   "metadata": {},
   "outputs": [],
   "source": [
    "import pandas as pd\n",
    "def to_df(res):\n",
    "    params=defaultdict(list)\n",
    "    for exp in res.keys():\n",
    "        params['c_we'].append(res[exp]['coherence_metrics']['c_we']['c_we'])\n",
    "        params['c_we_std'].append(res[exp]['coherence_metrics']['c_we']['c_we_std'])\n",
    "        #params['num_topics'].append(res[exp]['number_topics'])\n",
    "        for p in res[exp]['hyperparameters'].keys():\n",
    "            params[p].append(res[exp]['hyperparameters'][p])\n",
    "    #if params['num_topics'][0]==None:\n",
    "    #    del params['num_topics']\n",
    "    return pd.DataFrame(params)\n",
    "    #return params\n"
   ]
  },
  {
   "cell_type": "code",
   "execution_count": 6,
   "metadata": {},
   "outputs": [],
   "source": [
    "def to_df2(res):\n",
    "    params=defaultdict(list)\n",
    "    for exp in res.keys():\n",
    "        params['u_mass'].append(res[exp]['coherence_metrics']['u_mass']['u_mass'])\n",
    "        params['u_mass_std'].append(res[exp]['coherence_metrics']['u_mass']['u_mass_std'])\n",
    "        #params['num_topics'].append(res[exp]['number_topics'])\n",
    "        for p in res[exp]['hyperparameters'].keys():\n",
    "            params[p].append(res[exp]['hyperparameters'][p])\n",
    "    #if params['num_topics'][0]==None:\n",
    "    #    del params['num_topics']\n",
    "    return pd.DataFrame(params)"
   ]
  },
  {
   "cell_type": "code",
   "execution_count": 7,
   "metadata": {},
   "outputs": [],
   "source": [
    "def to_df3(res):\n",
    "    params=defaultdict(list)\n",
    "    for exp in res.keys():\n",
    "        params['excl_we'].append(res[exp]['coherence_metrics']['c_we']['excl_we'])\n",
    "        params['excl_we_std'].append(res[exp]['coherence_metrics']['c_we']['excl_we_std'])\n",
    "        #params['num_topics'].append(res[exp]['number_topics'])\n",
    "        for p in res[exp]['hyperparameters'].keys():\n",
    "            params[p].append(res[exp]['hyperparameters'][p])\n",
    "    #if params['num_topics'][0]==None:\n",
    "    #    del params['num_topics']\n",
    "    return pd.DataFrame(params)"
   ]
  },
  {
   "cell_type": "markdown",
   "metadata": {},
   "source": [
    "## LDA: word embedding coherence"
   ]
  },
  {
   "cell_type": "markdown",
   "metadata": {},
   "source": [
    "#### DATASET 1"
   ]
  },
  {
   "cell_type": "code",
   "execution_count": 38,
   "metadata": {},
   "outputs": [
    {
     "data": {
      "text/html": [
       "<div>\n",
       "<style scoped>\n",
       "    .dataframe tbody tr th:only-of-type {\n",
       "        vertical-align: middle;\n",
       "    }\n",
       "\n",
       "    .dataframe tbody tr th {\n",
       "        vertical-align: top;\n",
       "    }\n",
       "\n",
       "    .dataframe thead th {\n",
       "        text-align: right;\n",
       "    }\n",
       "</style>\n",
       "<table border=\"1\" class=\"dataframe\">\n",
       "  <thead>\n",
       "    <tr style=\"text-align: right;\">\n",
       "      <th></th>\n",
       "      <th>c_we</th>\n",
       "      <th>c_we_std</th>\n",
       "      <th>num_topics</th>\n",
       "      <th>decay</th>\n",
       "      <th>passes</th>\n",
       "    </tr>\n",
       "  </thead>\n",
       "  <tbody>\n",
       "    <tr>\n",
       "      <th>23</th>\n",
       "      <td>0.228105</td>\n",
       "      <td>0.063241</td>\n",
       "      <td>13</td>\n",
       "      <td>0.75</td>\n",
       "      <td>5</td>\n",
       "    </tr>\n",
       "    <tr>\n",
       "      <th>6</th>\n",
       "      <td>0.227736</td>\n",
       "      <td>0.071636</td>\n",
       "      <td>7</td>\n",
       "      <td>0.90</td>\n",
       "      <td>1</td>\n",
       "    </tr>\n",
       "    <tr>\n",
       "      <th>16</th>\n",
       "      <td>0.219584</td>\n",
       "      <td>0.049335</td>\n",
       "      <td>10</td>\n",
       "      <td>0.90</td>\n",
       "      <td>2</td>\n",
       "    </tr>\n",
       "    <tr>\n",
       "      <th>17</th>\n",
       "      <td>0.215695</td>\n",
       "      <td>0.064932</td>\n",
       "      <td>10</td>\n",
       "      <td>0.90</td>\n",
       "      <td>5</td>\n",
       "    </tr>\n",
       "    <tr>\n",
       "      <th>2</th>\n",
       "      <td>0.213179</td>\n",
       "      <td>0.059625</td>\n",
       "      <td>7</td>\n",
       "      <td>0.50</td>\n",
       "      <td>5</td>\n",
       "    </tr>\n",
       "  </tbody>\n",
       "</table>\n",
       "</div>"
      ],
      "text/plain": [
       "        c_we  c_we_std  num_topics  decay  passes\n",
       "23  0.228105  0.063241          13   0.75       5\n",
       "6   0.227736  0.071636           7   0.90       1\n",
       "16  0.219584  0.049335          10   0.90       2\n",
       "17  0.215695  0.064932          10   0.90       5\n",
       "2   0.213179  0.059625           7   0.50       5"
      ]
     },
     "execution_count": 38,
     "metadata": {},
     "output_type": "execute_result"
    }
   ],
   "source": [
    "lda=to_df(res['lda_experiment'])\n",
    "lda.iloc[lda.nlargest(5, 'c_we').index]"
   ]
  },
  {
   "cell_type": "code",
   "execution_count": 43,
   "metadata": {},
   "outputs": [],
   "source": [
    "with open('res.txt', 'w') as fout:\n",
    "    for i in range(10):\n",
    "        fout.write('\\n')\n",
    "        for t in res2['lda_experiment']['exp_23']['word_topic_pvalues']:\n",
    "            fout.write(t['words'][i]+' & ')\n",
    "\n"
   ]
  },
  {
   "cell_type": "code",
   "execution_count": 9,
   "metadata": {},
   "outputs": [
    {
     "data": {
      "text/html": [
       "<div>\n",
       "<style scoped>\n",
       "    .dataframe tbody tr th:only-of-type {\n",
       "        vertical-align: middle;\n",
       "    }\n",
       "\n",
       "    .dataframe tbody tr th {\n",
       "        vertical-align: top;\n",
       "    }\n",
       "\n",
       "    .dataframe thead th {\n",
       "        text-align: right;\n",
       "    }\n",
       "</style>\n",
       "<table border=\"1\" class=\"dataframe\">\n",
       "  <thead>\n",
       "    <tr style=\"text-align: right;\">\n",
       "      <th></th>\n",
       "      <th>c_we</th>\n",
       "      <th>c_we_std</th>\n",
       "      <th>num_topics</th>\n",
       "      <th>decay</th>\n",
       "      <th>passes</th>\n",
       "    </tr>\n",
       "  </thead>\n",
       "  <tbody>\n",
       "    <tr>\n",
       "      <th>15</th>\n",
       "      <td>0.170765</td>\n",
       "      <td>0.034695</td>\n",
       "      <td>10</td>\n",
       "      <td>0.9</td>\n",
       "      <td>1</td>\n",
       "    </tr>\n",
       "    <tr>\n",
       "      <th>11</th>\n",
       "      <td>0.202779</td>\n",
       "      <td>0.038363</td>\n",
       "      <td>10</td>\n",
       "      <td>0.5</td>\n",
       "      <td>5</td>\n",
       "    </tr>\n",
       "    <tr>\n",
       "      <th>18</th>\n",
       "      <td>0.192849</td>\n",
       "      <td>0.039004</td>\n",
       "      <td>13</td>\n",
       "      <td>0.5</td>\n",
       "      <td>1</td>\n",
       "    </tr>\n",
       "    <tr>\n",
       "      <th>7</th>\n",
       "      <td>0.188668</td>\n",
       "      <td>0.042965</td>\n",
       "      <td>7</td>\n",
       "      <td>0.9</td>\n",
       "      <td>2</td>\n",
       "    </tr>\n",
       "    <tr>\n",
       "      <th>8</th>\n",
       "      <td>0.179143</td>\n",
       "      <td>0.043504</td>\n",
       "      <td>7</td>\n",
       "      <td>0.9</td>\n",
       "      <td>5</td>\n",
       "    </tr>\n",
       "  </tbody>\n",
       "</table>\n",
       "</div>"
      ],
      "text/plain": [
       "        c_we  c_we_std  num_topics  decay  passes\n",
       "15  0.170765  0.034695          10    0.9       1\n",
       "11  0.202779  0.038363          10    0.5       5\n",
       "18  0.192849  0.039004          13    0.5       1\n",
       "7   0.188668  0.042965           7    0.9       2\n",
       "8   0.179143  0.043504           7    0.9       5"
      ]
     },
     "execution_count": 9,
     "metadata": {},
     "output_type": "execute_result"
    }
   ],
   "source": [
    "lda.iloc[lda.nsmallest(5, 'c_we_std').index]"
   ]
  },
  {
   "cell_type": "code",
   "execution_count": 10,
   "metadata": {},
   "outputs": [
    {
     "name": "stdout",
     "output_type": "stream",
     "text": [
      "                            OLS Regression Results                            \n",
      "==============================================================================\n",
      "Dep. Variable:                   c_we   R-squared:                       0.054\n",
      "Model:                            OLS   Adj. R-squared:                 -0.069\n",
      "Method:                 Least Squares   F-statistic:                    0.4409\n",
      "Date:                Mon, 06 Nov 2023   Prob (F-statistic):              0.726\n",
      "Time:                        15:00:18   Log-Likelihood:                 78.817\n",
      "No. Observations:                  27   AIC:                            -149.6\n",
      "Df Residuals:                      23   BIC:                            -144.4\n",
      "Df Model:                           3                                         \n",
      "Covariance Type:            nonrobust                                         \n",
      "==============================================================================\n",
      "                 coef    std err          t      P>|t|      [0.025      0.975]\n",
      "------------------------------------------------------------------------------\n",
      "const          0.1918      0.017     11.278      0.000       0.157       0.227\n",
      "num_topics     0.0007      0.001      0.625      0.538      -0.002       0.003\n",
      "decay         -0.0025      0.017     -0.153      0.880      -0.037       0.032\n",
      "passes         0.0015      0.002      0.953      0.350      -0.002       0.005\n",
      "==============================================================================\n",
      "Omnibus:                        0.726   Durbin-Watson:                   2.275\n",
      "Prob(Omnibus):                  0.696   Jarque-Bera (JB):                0.250\n",
      "Skew:                           0.233   Prob(JB):                        0.882\n",
      "Kurtosis:                       3.066   Cond. No.                         85.7\n",
      "==============================================================================\n",
      "\n",
      "Notes:\n",
      "[1] Standard Errors assume that the covariance matrix of the errors is correctly specified.\n"
     ]
    }
   ],
   "source": [
    "import statsmodels.api as sm\n",
    "y = lda['c_we']\n",
    "x=lda.drop(columns=['c_we', 'c_we_std'])\n",
    "x = sm.add_constant(x)\n",
    "model = sm.OLS(y, x).fit()\n",
    "print(model.summary())"
   ]
  },
  {
   "cell_type": "markdown",
   "metadata": {},
   "source": [
    "#### DATASET 2\n"
   ]
  },
  {
   "cell_type": "code",
   "execution_count": 14,
   "metadata": {},
   "outputs": [
    {
     "data": {
      "text/html": [
       "<div>\n",
       "<style scoped>\n",
       "    .dataframe tbody tr th:only-of-type {\n",
       "        vertical-align: middle;\n",
       "    }\n",
       "\n",
       "    .dataframe tbody tr th {\n",
       "        vertical-align: top;\n",
       "    }\n",
       "\n",
       "    .dataframe thead th {\n",
       "        text-align: right;\n",
       "    }\n",
       "</style>\n",
       "<table border=\"1\" class=\"dataframe\">\n",
       "  <thead>\n",
       "    <tr style=\"text-align: right;\">\n",
       "      <th></th>\n",
       "      <th>c_we</th>\n",
       "      <th>c_we_std</th>\n",
       "      <th>num_topics</th>\n",
       "      <th>decay</th>\n",
       "      <th>passes</th>\n",
       "    </tr>\n",
       "  </thead>\n",
       "  <tbody>\n",
       "    <tr>\n",
       "      <th>25</th>\n",
       "      <td>0.245817</td>\n",
       "      <td>0.080681</td>\n",
       "      <td>13</td>\n",
       "      <td>0.9</td>\n",
       "      <td>2</td>\n",
       "    </tr>\n",
       "    <tr>\n",
       "      <th>8</th>\n",
       "      <td>0.241227</td>\n",
       "      <td>0.104337</td>\n",
       "      <td>7</td>\n",
       "      <td>0.9</td>\n",
       "      <td>5</td>\n",
       "    </tr>\n",
       "    <tr>\n",
       "      <th>16</th>\n",
       "      <td>0.241086</td>\n",
       "      <td>0.091643</td>\n",
       "      <td>10</td>\n",
       "      <td>0.9</td>\n",
       "      <td>2</td>\n",
       "    </tr>\n",
       "    <tr>\n",
       "      <th>10</th>\n",
       "      <td>0.239848</td>\n",
       "      <td>0.096336</td>\n",
       "      <td>10</td>\n",
       "      <td>0.5</td>\n",
       "      <td>2</td>\n",
       "    </tr>\n",
       "    <tr>\n",
       "      <th>9</th>\n",
       "      <td>0.237105</td>\n",
       "      <td>0.083887</td>\n",
       "      <td>10</td>\n",
       "      <td>0.5</td>\n",
       "      <td>1</td>\n",
       "    </tr>\n",
       "  </tbody>\n",
       "</table>\n",
       "</div>"
      ],
      "text/plain": [
       "        c_we  c_we_std  num_topics  decay  passes\n",
       "25  0.245817  0.080681          13    0.9       2\n",
       "8   0.241227  0.104337           7    0.9       5\n",
       "16  0.241086  0.091643          10    0.9       2\n",
       "10  0.239848  0.096336          10    0.5       2\n",
       "9   0.237105  0.083887          10    0.5       1"
      ]
     },
     "execution_count": 14,
     "metadata": {},
     "output_type": "execute_result"
    }
   ],
   "source": [
    "lda2=to_df(res2['lda_experiment'])\n",
    "lda2.iloc[lda2.nlargest(5, 'c_we').index]"
   ]
  },
  {
   "cell_type": "code",
   "execution_count": 15,
   "metadata": {},
   "outputs": [],
   "source": [
    "with open('res.txt', 'w') as fout:\n",
    "    for i in range(10):\n",
    "        fout.write('\\n')\n",
    "        for t in res2['lda_experiment']['exp_25']['word_topic_pvalues']:\n",
    "            fout.write(t['words'][i]+' & ')"
   ]
  },
  {
   "cell_type": "code",
   "execution_count": 9,
   "metadata": {},
   "outputs": [
    {
     "data": {
      "text/html": [
       "<div>\n",
       "<style scoped>\n",
       "    .dataframe tbody tr th:only-of-type {\n",
       "        vertical-align: middle;\n",
       "    }\n",
       "\n",
       "    .dataframe tbody tr th {\n",
       "        vertical-align: top;\n",
       "    }\n",
       "\n",
       "    .dataframe thead th {\n",
       "        text-align: right;\n",
       "    }\n",
       "</style>\n",
       "<table border=\"1\" class=\"dataframe\">\n",
       "  <thead>\n",
       "    <tr style=\"text-align: right;\">\n",
       "      <th></th>\n",
       "      <th>c_we</th>\n",
       "      <th>c_we_std</th>\n",
       "      <th>num_topics</th>\n",
       "      <th>decay</th>\n",
       "      <th>passes</th>\n",
       "    </tr>\n",
       "  </thead>\n",
       "  <tbody>\n",
       "    <tr>\n",
       "      <th>12</th>\n",
       "      <td>0.231812</td>\n",
       "      <td>0.079083</td>\n",
       "      <td>10</td>\n",
       "      <td>0.75</td>\n",
       "      <td>1</td>\n",
       "    </tr>\n",
       "    <tr>\n",
       "      <th>25</th>\n",
       "      <td>0.245817</td>\n",
       "      <td>0.080681</td>\n",
       "      <td>13</td>\n",
       "      <td>0.90</td>\n",
       "      <td>2</td>\n",
       "    </tr>\n",
       "    <tr>\n",
       "      <th>9</th>\n",
       "      <td>0.237105</td>\n",
       "      <td>0.083887</td>\n",
       "      <td>10</td>\n",
       "      <td>0.50</td>\n",
       "      <td>1</td>\n",
       "    </tr>\n",
       "    <tr>\n",
       "      <th>7</th>\n",
       "      <td>0.209926</td>\n",
       "      <td>0.091174</td>\n",
       "      <td>7</td>\n",
       "      <td>0.90</td>\n",
       "      <td>2</td>\n",
       "    </tr>\n",
       "    <tr>\n",
       "      <th>16</th>\n",
       "      <td>0.241086</td>\n",
       "      <td>0.091643</td>\n",
       "      <td>10</td>\n",
       "      <td>0.90</td>\n",
       "      <td>2</td>\n",
       "    </tr>\n",
       "  </tbody>\n",
       "</table>\n",
       "</div>"
      ],
      "text/plain": [
       "        c_we  c_we_std  num_topics  decay  passes\n",
       "12  0.231812  0.079083          10   0.75       1\n",
       "25  0.245817  0.080681          13   0.90       2\n",
       "9   0.237105  0.083887          10   0.50       1\n",
       "7   0.209926  0.091174           7   0.90       2\n",
       "16  0.241086  0.091643          10   0.90       2"
      ]
     },
     "execution_count": 9,
     "metadata": {},
     "output_type": "execute_result"
    }
   ],
   "source": [
    "lda2.iloc[lda2.nsmallest(5, 'c_we_std').index]"
   ]
  },
  {
   "cell_type": "code",
   "execution_count": 16,
   "metadata": {},
   "outputs": [
    {
     "name": "stdout",
     "output_type": "stream",
     "text": [
      "                            OLS Regression Results                            \n",
      "==============================================================================\n",
      "Dep. Variable:                   c_we   R-squared:                       0.230\n",
      "Model:                            OLS   Adj. R-squared:                  0.130\n",
      "Method:                 Least Squares   F-statistic:                     2.296\n",
      "Date:                Mon, 06 Nov 2023   Prob (F-statistic):              0.105\n",
      "Time:                        17:45:17   Log-Likelihood:                 69.101\n",
      "No. Observations:                  27   AIC:                            -130.2\n",
      "Df Residuals:                      23   BIC:                            -125.0\n",
      "Df Model:                           3                                         \n",
      "Covariance Type:            nonrobust                                         \n",
      "==============================================================================\n",
      "                 coef    std err          t      P>|t|      [0.025      0.975]\n",
      "------------------------------------------------------------------------------\n",
      "const          0.2505      0.024     10.277      0.000       0.200       0.301\n",
      "num_topics    -0.0030      0.002     -1.914      0.068      -0.006       0.000\n",
      "decay          0.0058      0.024      0.247      0.807      -0.043       0.055\n",
      "passes        -0.0041      0.002     -1.779      0.088      -0.009       0.001\n",
      "==============================================================================\n",
      "Omnibus:                        0.145   Durbin-Watson:                   1.884\n",
      "Prob(Omnibus):                  0.930   Jarque-Bera (JB):                0.358\n",
      "Skew:                          -0.072   Prob(JB):                        0.836\n",
      "Kurtosis:                       2.454   Cond. No.                         85.7\n",
      "==============================================================================\n",
      "\n",
      "Notes:\n",
      "[1] Standard Errors assume that the covariance matrix of the errors is correctly specified.\n"
     ]
    }
   ],
   "source": [
    "import statsmodels.api as sm\n",
    "y = lda2['c_we']\n",
    "x=lda2.drop(columns=['c_we', 'c_we_std'])\n",
    "x = sm.add_constant(x)\n",
    "model = sm.OLS(y, x).fit()\n",
    "print(model.summary())"
   ]
  },
  {
   "cell_type": "code",
   "execution_count": 12,
   "metadata": {},
   "outputs": [
    {
     "name": "stdout",
     "output_type": "stream",
     "text": [
      "                            OLS Regression Results                            \n",
      "==============================================================================\n",
      "Dep. Variable:               c_we_std   R-squared:                       0.330\n",
      "Model:                            OLS   Adj. R-squared:                  0.243\n",
      "Method:                 Least Squares   F-statistic:                     3.781\n",
      "Date:                Mon, 06 Nov 2023   Prob (F-statistic):             0.0243\n",
      "Time:                        17:41:01   Log-Likelihood:                 79.610\n",
      "No. Observations:                  27   AIC:                            -151.2\n",
      "Df Residuals:                      23   BIC:                            -146.0\n",
      "Df Model:                           3                                         \n",
      "Covariance Type:            nonrobust                                         \n",
      "==============================================================================\n",
      "                 coef    std err          t      P>|t|      [0.025      0.975]\n",
      "------------------------------------------------------------------------------\n",
      "const          0.0674      0.017      4.079      0.000       0.033       0.102\n",
      "num_topics     0.0031      0.001      2.830      0.009       0.001       0.005\n",
      "decay          0.0003      0.016      0.019      0.985      -0.033       0.033\n",
      "passes         0.0028      0.002      1.826      0.081      -0.000       0.006\n",
      "==============================================================================\n",
      "Omnibus:                        1.525   Durbin-Watson:                   2.574\n",
      "Prob(Omnibus):                  0.466   Jarque-Bera (JB):                0.554\n",
      "Skew:                          -0.288   Prob(JB):                        0.758\n",
      "Kurtosis:                       3.401   Cond. No.                         85.7\n",
      "==============================================================================\n",
      "\n",
      "Notes:\n",
      "[1] Standard Errors assume that the covariance matrix of the errors is correctly specified.\n"
     ]
    }
   ],
   "source": [
    "y = lda2['c_we_std']\n",
    "x=lda2.drop(columns=['c_we', 'c_we_std'])\n",
    "x = sm.add_constant(x)\n",
    "model = sm.OLS(y, x).fit()\n",
    "print(model.summary())"
   ]
  },
  {
   "cell_type": "markdown",
   "metadata": {},
   "source": [
    "## LDA: UMASS coherence"
   ]
  },
  {
   "cell_type": "markdown",
   "metadata": {},
   "source": [
    "#### dataset 1\n"
   ]
  },
  {
   "cell_type": "code",
   "execution_count": 50,
   "metadata": {},
   "outputs": [
    {
     "data": {
      "text/html": [
       "<div>\n",
       "<style scoped>\n",
       "    .dataframe tbody tr th:only-of-type {\n",
       "        vertical-align: middle;\n",
       "    }\n",
       "\n",
       "    .dataframe tbody tr th {\n",
       "        vertical-align: top;\n",
       "    }\n",
       "\n",
       "    .dataframe thead th {\n",
       "        text-align: right;\n",
       "    }\n",
       "</style>\n",
       "<table border=\"1\" class=\"dataframe\">\n",
       "  <thead>\n",
       "    <tr style=\"text-align: right;\">\n",
       "      <th></th>\n",
       "      <th>u_mass</th>\n",
       "      <th>u_mass_std</th>\n",
       "      <th>num_topics</th>\n",
       "      <th>decay</th>\n",
       "      <th>passes</th>\n",
       "    </tr>\n",
       "  </thead>\n",
       "  <tbody>\n",
       "    <tr>\n",
       "      <th>8</th>\n",
       "      <td>-2.689002</td>\n",
       "      <td>0.921021</td>\n",
       "      <td>7</td>\n",
       "      <td>0.90</td>\n",
       "      <td>5</td>\n",
       "    </tr>\n",
       "    <tr>\n",
       "      <th>12</th>\n",
       "      <td>-2.842383</td>\n",
       "      <td>0.833301</td>\n",
       "      <td>10</td>\n",
       "      <td>0.75</td>\n",
       "      <td>1</td>\n",
       "    </tr>\n",
       "    <tr>\n",
       "      <th>20</th>\n",
       "      <td>-2.882799</td>\n",
       "      <td>0.758300</td>\n",
       "      <td>13</td>\n",
       "      <td>0.50</td>\n",
       "      <td>5</td>\n",
       "    </tr>\n",
       "    <tr>\n",
       "      <th>13</th>\n",
       "      <td>-2.893313</td>\n",
       "      <td>0.436060</td>\n",
       "      <td>10</td>\n",
       "      <td>0.75</td>\n",
       "      <td>2</td>\n",
       "    </tr>\n",
       "    <tr>\n",
       "      <th>4</th>\n",
       "      <td>-2.910037</td>\n",
       "      <td>0.498769</td>\n",
       "      <td>7</td>\n",
       "      <td>0.75</td>\n",
       "      <td>2</td>\n",
       "    </tr>\n",
       "  </tbody>\n",
       "</table>\n",
       "</div>"
      ],
      "text/plain": [
       "      u_mass  u_mass_std  num_topics  decay  passes\n",
       "8  -2.689002    0.921021           7   0.90       5\n",
       "12 -2.842383    0.833301          10   0.75       1\n",
       "20 -2.882799    0.758300          13   0.50       5\n",
       "13 -2.893313    0.436060          10   0.75       2\n",
       "4  -2.910037    0.498769           7   0.75       2"
      ]
     },
     "execution_count": 50,
     "metadata": {},
     "output_type": "execute_result"
    }
   ],
   "source": [
    "lda=to_df2(res['lda_experiment'])\n",
    "lda.iloc[lda.nlargest(5, 'u_mass').index]"
   ]
  },
  {
   "cell_type": "code",
   "execution_count": 51,
   "metadata": {},
   "outputs": [],
   "source": [
    "with open('res.txt', 'w') as fout:\n",
    "    for i in range(10):\n",
    "        fout.write('\\n')\n",
    "        for t in res2['lda_experiment']['exp_8']['word_topic_pvalues']:\n",
    "            fout.write(t['words'][i]+' & ')"
   ]
  },
  {
   "cell_type": "code",
   "execution_count": 46,
   "metadata": {},
   "outputs": [
    {
     "data": {
      "text/html": [
       "<div>\n",
       "<style scoped>\n",
       "    .dataframe tbody tr th:only-of-type {\n",
       "        vertical-align: middle;\n",
       "    }\n",
       "\n",
       "    .dataframe tbody tr th {\n",
       "        vertical-align: top;\n",
       "    }\n",
       "\n",
       "    .dataframe thead th {\n",
       "        text-align: right;\n",
       "    }\n",
       "</style>\n",
       "<table border=\"1\" class=\"dataframe\">\n",
       "  <thead>\n",
       "    <tr style=\"text-align: right;\">\n",
       "      <th></th>\n",
       "      <th>u_mass</th>\n",
       "      <th>u_mass_std</th>\n",
       "      <th>num_topics</th>\n",
       "      <th>decay</th>\n",
       "      <th>passes</th>\n",
       "    </tr>\n",
       "  </thead>\n",
       "  <tbody>\n",
       "    <tr>\n",
       "      <th>15</th>\n",
       "      <td>0.214349</td>\n",
       "      <td>0.018445</td>\n",
       "      <td>10</td>\n",
       "      <td>0.90</td>\n",
       "      <td>1</td>\n",
       "    </tr>\n",
       "    <tr>\n",
       "      <th>5</th>\n",
       "      <td>0.236633</td>\n",
       "      <td>0.022921</td>\n",
       "      <td>7</td>\n",
       "      <td>0.75</td>\n",
       "      <td>5</td>\n",
       "    </tr>\n",
       "    <tr>\n",
       "      <th>8</th>\n",
       "      <td>0.198883</td>\n",
       "      <td>0.024456</td>\n",
       "      <td>7</td>\n",
       "      <td>0.90</td>\n",
       "      <td>5</td>\n",
       "    </tr>\n",
       "    <tr>\n",
       "      <th>1</th>\n",
       "      <td>0.216574</td>\n",
       "      <td>0.024633</td>\n",
       "      <td>7</td>\n",
       "      <td>0.50</td>\n",
       "      <td>2</td>\n",
       "    </tr>\n",
       "    <tr>\n",
       "      <th>18</th>\n",
       "      <td>0.221758</td>\n",
       "      <td>0.024796</td>\n",
       "      <td>13</td>\n",
       "      <td>0.50</td>\n",
       "      <td>1</td>\n",
       "    </tr>\n",
       "  </tbody>\n",
       "</table>\n",
       "</div>"
      ],
      "text/plain": [
       "      u_mass  u_mass_std  num_topics  decay  passes\n",
       "15  0.214349    0.018445          10   0.90       1\n",
       "5   0.236633    0.022921           7   0.75       5\n",
       "8   0.198883    0.024456           7   0.90       5\n",
       "1   0.216574    0.024633           7   0.50       2\n",
       "18  0.221758    0.024796          13   0.50       1"
      ]
     },
     "execution_count": 46,
     "metadata": {},
     "output_type": "execute_result"
    }
   ],
   "source": [
    "lda.iloc[lda.nsmallest(5, 'u_mass_std').index]"
   ]
  },
  {
   "cell_type": "code",
   "execution_count": 14,
   "metadata": {},
   "outputs": [
    {
     "name": "stdout",
     "output_type": "stream",
     "text": [
      "                            OLS Regression Results                            \n",
      "==============================================================================\n",
      "Dep. Variable:                 u_mass   R-squared:                       0.095\n",
      "Model:                            OLS   Adj. R-squared:                 -0.023\n",
      "Method:                 Least Squares   F-statistic:                    0.8036\n",
      "Date:                Mon, 06 Nov 2023   Prob (F-statistic):              0.505\n",
      "Time:                        16:01:21   Log-Likelihood:                 4.7188\n",
      "No. Observations:                  27   AIC:                            -1.438\n",
      "Df Residuals:                      23   BIC:                             3.746\n",
      "Df Model:                           3                                         \n",
      "Covariance Type:            nonrobust                                         \n",
      "==============================================================================\n",
      "                 coef    std err          t      P>|t|      [0.025      0.975]\n",
      "------------------------------------------------------------------------------\n",
      "const         -3.4413      0.265    -13.008      0.000      -3.989      -2.894\n",
      "num_topics     0.0126      0.017      0.731      0.472      -0.023       0.048\n",
      "decay          0.1997      0.257      0.778      0.445      -0.331       0.731\n",
      "passes         0.0281      0.025      1.128      0.271      -0.023       0.080\n",
      "==============================================================================\n",
      "Omnibus:                        4.055   Durbin-Watson:                   1.750\n",
      "Prob(Omnibus):                  0.132   Jarque-Bera (JB):                2.523\n",
      "Skew:                          -0.704   Prob(JB):                        0.283\n",
      "Kurtosis:                       3.513   Cond. No.                         85.7\n",
      "==============================================================================\n",
      "\n",
      "Notes:\n",
      "[1] Standard Errors assume that the covariance matrix of the errors is correctly specified.\n"
     ]
    }
   ],
   "source": [
    "y = lda['u_mass']\n",
    "x=lda.drop(columns=['u_mass', 'u_mass_std'])\n",
    "x = sm.add_constant(x)\n",
    "model = sm.OLS(y, x).fit()\n",
    "print(model.summary())"
   ]
  },
  {
   "cell_type": "code",
   "execution_count": 15,
   "metadata": {},
   "outputs": [
    {
     "name": "stdout",
     "output_type": "stream",
     "text": [
      "                            OLS Regression Results                            \n",
      "==============================================================================\n",
      "Dep. Variable:             u_mass_std   R-squared:                       0.211\n",
      "Model:                            OLS   Adj. R-squared:                  0.108\n",
      "Method:                 Least Squares   F-statistic:                     2.046\n",
      "Date:                Mon, 06 Nov 2023   Prob (F-statistic):              0.135\n",
      "Time:                        16:01:24   Log-Likelihood:                -3.4295\n",
      "No. Observations:                  27   AIC:                             14.86\n",
      "Df Residuals:                      23   BIC:                             20.04\n",
      "Df Model:                           3                                         \n",
      "Covariance Type:            nonrobust                                         \n",
      "==============================================================================\n",
      "                 coef    std err          t      P>|t|      [0.025      0.975]\n",
      "------------------------------------------------------------------------------\n",
      "const          0.9240      0.358      2.583      0.017       0.184       1.664\n",
      "num_topics     0.0221      0.023      0.944      0.355      -0.026       0.070\n",
      "decay         -0.7815      0.347     -2.251      0.034      -1.500      -0.063\n",
      "passes         0.0143      0.034      0.424      0.675      -0.055       0.084\n",
      "==============================================================================\n",
      "Omnibus:                        3.003   Durbin-Watson:                   1.814\n",
      "Prob(Omnibus):                  0.223   Jarque-Bera (JB):                2.039\n",
      "Skew:                           0.480   Prob(JB):                        0.361\n",
      "Kurtosis:                       2.056   Cond. No.                         85.7\n",
      "==============================================================================\n",
      "\n",
      "Notes:\n",
      "[1] Standard Errors assume that the covariance matrix of the errors is correctly specified.\n"
     ]
    }
   ],
   "source": [
    "y = lda['u_mass_std']\n",
    "x=lda.drop(columns=['u_mass', 'u_mass_std'])\n",
    "x = sm.add_constant(x)\n",
    "model = sm.OLS(y, x).fit()\n",
    "print(model.summary())"
   ]
  },
  {
   "cell_type": "markdown",
   "metadata": {},
   "source": [
    "### LDA exclusivity metric"
   ]
  },
  {
   "cell_type": "code",
   "execution_count": 55,
   "metadata": {},
   "outputs": [
    {
     "data": {
      "text/html": [
       "<div>\n",
       "<style scoped>\n",
       "    .dataframe tbody tr th:only-of-type {\n",
       "        vertical-align: middle;\n",
       "    }\n",
       "\n",
       "    .dataframe tbody tr th {\n",
       "        vertical-align: top;\n",
       "    }\n",
       "\n",
       "    .dataframe thead th {\n",
       "        text-align: right;\n",
       "    }\n",
       "</style>\n",
       "<table border=\"1\" class=\"dataframe\">\n",
       "  <thead>\n",
       "    <tr style=\"text-align: right;\">\n",
       "      <th></th>\n",
       "      <th>excl_we</th>\n",
       "      <th>excl_we_std</th>\n",
       "      <th>num_topics</th>\n",
       "      <th>decay</th>\n",
       "      <th>passes</th>\n",
       "    </tr>\n",
       "  </thead>\n",
       "  <tbody>\n",
       "    <tr>\n",
       "      <th>8</th>\n",
       "      <td>0.198883</td>\n",
       "      <td>0.024456</td>\n",
       "      <td>7</td>\n",
       "      <td>0.90</td>\n",
       "      <td>5</td>\n",
       "    </tr>\n",
       "    <tr>\n",
       "      <th>11</th>\n",
       "      <td>0.208448</td>\n",
       "      <td>0.027347</td>\n",
       "      <td>10</td>\n",
       "      <td>0.50</td>\n",
       "      <td>5</td>\n",
       "    </tr>\n",
       "    <tr>\n",
       "      <th>26</th>\n",
       "      <td>0.209971</td>\n",
       "      <td>0.027718</td>\n",
       "      <td>13</td>\n",
       "      <td>0.90</td>\n",
       "      <td>5</td>\n",
       "    </tr>\n",
       "    <tr>\n",
       "      <th>10</th>\n",
       "      <td>0.210594</td>\n",
       "      <td>0.037027</td>\n",
       "      <td>10</td>\n",
       "      <td>0.50</td>\n",
       "      <td>2</td>\n",
       "    </tr>\n",
       "    <tr>\n",
       "      <th>12</th>\n",
       "      <td>0.210659</td>\n",
       "      <td>0.029742</td>\n",
       "      <td>10</td>\n",
       "      <td>0.75</td>\n",
       "      <td>1</td>\n",
       "    </tr>\n",
       "  </tbody>\n",
       "</table>\n",
       "</div>"
      ],
      "text/plain": [
       "     excl_we  excl_we_std  num_topics  decay  passes\n",
       "8   0.198883     0.024456           7   0.90       5\n",
       "11  0.208448     0.027347          10   0.50       5\n",
       "26  0.209971     0.027718          13   0.90       5\n",
       "10  0.210594     0.037027          10   0.50       2\n",
       "12  0.210659     0.029742          10   0.75       1"
      ]
     },
     "execution_count": 55,
     "metadata": {},
     "output_type": "execute_result"
    }
   ],
   "source": [
    "lda=to_df3(res['lda_experiment'])\n",
    "lda.iloc[lda.nsmallest(5, 'excl_we').index]"
   ]
  },
  {
   "cell_type": "code",
   "execution_count": null,
   "metadata": {},
   "outputs": [],
   "source": [
    "with open('res.txt', 'w') as fout:\n",
    "    for i in range(10):\n",
    "        fout.write('\\n')\n",
    "        for t in res2['lda_experiment']['exp_8']['word_topic_pvalues']:\n",
    "            fout.write(t['words'][i]+' & ')"
   ]
  },
  {
   "cell_type": "code",
   "execution_count": 37,
   "metadata": {},
   "outputs": [
    {
     "name": "stdout",
     "output_type": "stream",
     "text": [
      "                            OLS Regression Results                            \n",
      "==============================================================================\n",
      "Dep. Variable:                excl_we   R-squared:                       0.085\n",
      "Model:                            OLS   Adj. R-squared:                 -0.035\n",
      "Method:                 Least Squares   F-statistic:                    0.7084\n",
      "Date:                Mon, 06 Nov 2023   Prob (F-statistic):              0.557\n",
      "Time:                        16:32:17   Log-Likelihood:                 81.294\n",
      "No. Observations:                  27   AIC:                            -154.6\n",
      "Df Residuals:                      23   BIC:                            -149.4\n",
      "Df Model:                           3                                         \n",
      "Covariance Type:            nonrobust                                         \n",
      "==============================================================================\n",
      "                 coef    std err          t      P>|t|      [0.025      0.975]\n",
      "------------------------------------------------------------------------------\n",
      "const          0.2094      0.016     13.494      0.000       0.177       0.241\n",
      "num_topics     0.0006      0.001      0.548      0.589      -0.002       0.003\n",
      "decay          0.0172      0.015      1.141      0.266      -0.014       0.048\n",
      "passes        -0.0011      0.001     -0.723      0.477      -0.004       0.002\n",
      "==============================================================================\n",
      "Omnibus:                        0.067   Durbin-Watson:                   1.786\n",
      "Prob(Omnibus):                  0.967   Jarque-Bera (JB):                0.187\n",
      "Skew:                           0.103   Prob(JB):                        0.911\n",
      "Kurtosis:                       2.648   Cond. No.                         85.7\n",
      "==============================================================================\n",
      "\n",
      "Notes:\n",
      "[1] Standard Errors assume that the covariance matrix of the errors is correctly specified.\n"
     ]
    }
   ],
   "source": [
    "y = lda['excl_we']\n",
    "x=lda.drop(columns=['excl_we', 'excl_we_std'])\n",
    "x = sm.add_constant(x)\n",
    "model = sm.OLS(y, x).fit()\n",
    "print(model.summary())"
   ]
  },
  {
   "cell_type": "code",
   "execution_count": null,
   "metadata": {},
   "outputs": [],
   "source": []
  },
  {
   "cell_type": "code",
   "execution_count": null,
   "metadata": {},
   "outputs": [],
   "source": []
  },
  {
   "cell_type": "markdown",
   "metadata": {},
   "source": [
    "#### dataset 2"
   ]
  },
  {
   "cell_type": "code",
   "execution_count": 147,
   "metadata": {},
   "outputs": [
    {
     "data": {
      "text/html": [
       "<div>\n",
       "<style scoped>\n",
       "    .dataframe tbody tr th:only-of-type {\n",
       "        vertical-align: middle;\n",
       "    }\n",
       "\n",
       "    .dataframe tbody tr th {\n",
       "        vertical-align: top;\n",
       "    }\n",
       "\n",
       "    .dataframe thead th {\n",
       "        text-align: right;\n",
       "    }\n",
       "</style>\n",
       "<table border=\"1\" class=\"dataframe\">\n",
       "  <thead>\n",
       "    <tr style=\"text-align: right;\">\n",
       "      <th></th>\n",
       "      <th>u_mass</th>\n",
       "      <th>u_mass_std</th>\n",
       "      <th>num_topics</th>\n",
       "      <th>decay</th>\n",
       "      <th>passes</th>\n",
       "    </tr>\n",
       "  </thead>\n",
       "  <tbody>\n",
       "    <tr>\n",
       "      <th>25</th>\n",
       "      <td>-0.461509</td>\n",
       "      <td>0.377412</td>\n",
       "      <td>10</td>\n",
       "      <td>0.90</td>\n",
       "      <td>2</td>\n",
       "    </tr>\n",
       "    <tr>\n",
       "      <th>4</th>\n",
       "      <td>-0.554065</td>\n",
       "      <td>0.100125</td>\n",
       "      <td>6</td>\n",
       "      <td>0.75</td>\n",
       "      <td>2</td>\n",
       "    </tr>\n",
       "    <tr>\n",
       "      <th>3</th>\n",
       "      <td>-0.570491</td>\n",
       "      <td>0.343090</td>\n",
       "      <td>6</td>\n",
       "      <td>0.75</td>\n",
       "      <td>1</td>\n",
       "    </tr>\n",
       "    <tr>\n",
       "      <th>17</th>\n",
       "      <td>-0.587406</td>\n",
       "      <td>0.492029</td>\n",
       "      <td>8</td>\n",
       "      <td>0.90</td>\n",
       "      <td>5</td>\n",
       "    </tr>\n",
       "    <tr>\n",
       "      <th>0</th>\n",
       "      <td>-0.594014</td>\n",
       "      <td>0.434840</td>\n",
       "      <td>6</td>\n",
       "      <td>0.50</td>\n",
       "      <td>1</td>\n",
       "    </tr>\n",
       "  </tbody>\n",
       "</table>\n",
       "</div>"
      ],
      "text/plain": [
       "      u_mass  u_mass_std  num_topics  decay  passes\n",
       "25 -0.461509    0.377412          10   0.90       2\n",
       "4  -0.554065    0.100125           6   0.75       2\n",
       "3  -0.570491    0.343090           6   0.75       1\n",
       "17 -0.587406    0.492029           8   0.90       5\n",
       "0  -0.594014    0.434840           6   0.50       1"
      ]
     },
     "execution_count": 147,
     "metadata": {},
     "output_type": "execute_result"
    }
   ],
   "source": [
    "lda2=to_df2(res2['lda_experiment'])\n",
    "lda2.iloc[lda2.nlargest(5, 'u_mass').index]"
   ]
  },
  {
   "cell_type": "code",
   "execution_count": 156,
   "metadata": {},
   "outputs": [
    {
     "data": {
      "text/plain": [
       "['claim',\n",
       " 'covid',\n",
       " 'fact',\n",
       " 'say',\n",
       " 'video',\n",
       " 'check',\n",
       " 'use',\n",
       " 'share',\n",
       " 'news',\n",
       " 'story']"
      ]
     },
     "execution_count": 156,
     "metadata": {},
     "output_type": "execute_result"
    }
   ],
   "source": [
    "res2['lda_experiment']['exp_4']['word_topic_pvalues'][3]['words']"
   ]
  },
  {
   "cell_type": "code",
   "execution_count": 148,
   "metadata": {},
   "outputs": [
    {
     "data": {
      "text/html": [
       "<div>\n",
       "<style scoped>\n",
       "    .dataframe tbody tr th:only-of-type {\n",
       "        vertical-align: middle;\n",
       "    }\n",
       "\n",
       "    .dataframe tbody tr th {\n",
       "        vertical-align: top;\n",
       "    }\n",
       "\n",
       "    .dataframe thead th {\n",
       "        text-align: right;\n",
       "    }\n",
       "</style>\n",
       "<table border=\"1\" class=\"dataframe\">\n",
       "  <thead>\n",
       "    <tr style=\"text-align: right;\">\n",
       "      <th></th>\n",
       "      <th>u_mass</th>\n",
       "      <th>u_mass_std</th>\n",
       "      <th>num_topics</th>\n",
       "      <th>decay</th>\n",
       "      <th>passes</th>\n",
       "    </tr>\n",
       "  </thead>\n",
       "  <tbody>\n",
       "    <tr>\n",
       "      <th>4</th>\n",
       "      <td>-0.554065</td>\n",
       "      <td>0.100125</td>\n",
       "      <td>6</td>\n",
       "      <td>0.75</td>\n",
       "      <td>2</td>\n",
       "    </tr>\n",
       "    <tr>\n",
       "      <th>15</th>\n",
       "      <td>-0.653324</td>\n",
       "      <td>0.316765</td>\n",
       "      <td>8</td>\n",
       "      <td>0.90</td>\n",
       "      <td>1</td>\n",
       "    </tr>\n",
       "    <tr>\n",
       "      <th>3</th>\n",
       "      <td>-0.570491</td>\n",
       "      <td>0.343090</td>\n",
       "      <td>6</td>\n",
       "      <td>0.75</td>\n",
       "      <td>1</td>\n",
       "    </tr>\n",
       "    <tr>\n",
       "      <th>46</th>\n",
       "      <td>-0.713196</td>\n",
       "      <td>0.352016</td>\n",
       "      <td>16</td>\n",
       "      <td>0.50</td>\n",
       "      <td>2</td>\n",
       "    </tr>\n",
       "    <tr>\n",
       "      <th>25</th>\n",
       "      <td>-0.461509</td>\n",
       "      <td>0.377412</td>\n",
       "      <td>10</td>\n",
       "      <td>0.90</td>\n",
       "      <td>2</td>\n",
       "    </tr>\n",
       "  </tbody>\n",
       "</table>\n",
       "</div>"
      ],
      "text/plain": [
       "      u_mass  u_mass_std  num_topics  decay  passes\n",
       "4  -0.554065    0.100125           6   0.75       2\n",
       "15 -0.653324    0.316765           8   0.90       1\n",
       "3  -0.570491    0.343090           6   0.75       1\n",
       "46 -0.713196    0.352016          16   0.50       2\n",
       "25 -0.461509    0.377412          10   0.90       2"
      ]
     },
     "execution_count": 148,
     "metadata": {},
     "output_type": "execute_result"
    }
   ],
   "source": [
    "lda2.iloc[lda2.nsmallest(5, 'u_mass_std').index]"
   ]
  },
  {
   "cell_type": "code",
   "execution_count": 149,
   "metadata": {},
   "outputs": [
    {
     "name": "stdout",
     "output_type": "stream",
     "text": [
      "                            OLS Regression Results                            \n",
      "==============================================================================\n",
      "Dep. Variable:                 u_mass   R-squared:                       0.061\n",
      "Model:                            OLS   Adj. R-squared:                  0.013\n",
      "Method:                 Least Squares   F-statistic:                     1.274\n",
      "Date:                Fri, 03 Nov 2023   Prob (F-statistic):              0.292\n",
      "Time:                        09:46:37   Log-Likelihood:                -12.349\n",
      "No. Observations:                  63   AIC:                             32.70\n",
      "Df Residuals:                      59   BIC:                             41.27\n",
      "Df Model:                           3                                         \n",
      "Covariance Type:            nonrobust                                         \n",
      "==============================================================================\n",
      "                 coef    std err          t      P>|t|      [0.025      0.975]\n",
      "------------------------------------------------------------------------------\n",
      "const         -0.8466      0.215     -3.947      0.000      -1.276      -0.417\n",
      "num_topics    -0.0177      0.010     -1.843      0.070      -0.037       0.002\n",
      "decay          0.1510      0.232      0.650      0.518      -0.314       0.616\n",
      "passes        -0.0010      0.023     -0.046      0.963      -0.046       0.044\n",
      "==============================================================================\n",
      "Omnibus:                       21.235   Durbin-Watson:                   2.291\n",
      "Prob(Omnibus):                  0.000   Jarque-Bera (JB):               28.996\n",
      "Skew:                          -1.345   Prob(JB):                     5.05e-07\n",
      "Kurtosis:                       4.952   Cond. No.                         101.\n",
      "==============================================================================\n",
      "\n",
      "Notes:\n",
      "[1] Standard Errors assume that the covariance matrix of the errors is correctly specified.\n"
     ]
    }
   ],
   "source": [
    "y = lda2['u_mass']\n",
    "x=lda2.drop(columns=['u_mass', 'u_mass_std'])\n",
    "x = sm.add_constant(x)\n",
    "model = sm.OLS(y, x).fit()\n",
    "print(model.summary())"
   ]
  },
  {
   "cell_type": "code",
   "execution_count": 112,
   "metadata": {},
   "outputs": [
    {
     "name": "stdout",
     "output_type": "stream",
     "text": [
      "                            OLS Regression Results                            \n",
      "==============================================================================\n",
      "Dep. Variable:             u_mass_std   R-squared:                       0.073\n",
      "Model:                            OLS   Adj. R-squared:                  0.026\n",
      "Method:                 Least Squares   F-statistic:                     1.553\n",
      "Date:                Thu, 02 Nov 2023   Prob (F-statistic):              0.210\n",
      "Time:                        15:11:34   Log-Likelihood:                -54.773\n",
      "No. Observations:                  63   AIC:                             117.5\n",
      "Df Residuals:                      59   BIC:                             126.1\n",
      "Df Model:                           3                                         \n",
      "Covariance Type:            nonrobust                                         \n",
      "==============================================================================\n",
      "                 coef    std err          t      P>|t|      [0.025      0.975]\n",
      "------------------------------------------------------------------------------\n",
      "const          0.7614      0.421      1.810      0.075      -0.080       1.603\n",
      "num_topics     0.0364      0.019      1.940      0.057      -0.001       0.074\n",
      "decay         -0.4241      0.455     -0.931      0.356      -1.335       0.487\n",
      "passes         0.0076      0.044      0.171      0.864      -0.081       0.096\n",
      "==============================================================================\n",
      "Omnibus:                       33.385   Durbin-Watson:                   2.214\n",
      "Prob(Omnibus):                  0.000   Jarque-Bera (JB):               65.706\n",
      "Skew:                           1.825   Prob(JB):                     5.40e-15\n",
      "Kurtosis:                       6.423   Cond. No.                         101.\n",
      "==============================================================================\n",
      "\n",
      "Notes:\n",
      "[1] Standard Errors assume that the covariance matrix of the errors is correctly specified.\n"
     ]
    }
   ],
   "source": [
    "y = lda2['u_mass_std']\n",
    "x=lda2.drop(columns=['u_mass', 'u_mass_std'])\n",
    "x = sm.add_constant(x)\n",
    "model = sm.OLS(y, x).fit()\n",
    "print(model.summary())"
   ]
  },
  {
   "cell_type": "code",
   "execution_count": null,
   "metadata": {},
   "outputs": [],
   "source": []
  },
  {
   "cell_type": "code",
   "execution_count": null,
   "metadata": {},
   "outputs": [],
   "source": []
  },
  {
   "cell_type": "markdown",
   "metadata": {},
   "source": [
    "## GSDMM: word embedding coherence"
   ]
  },
  {
   "cell_type": "markdown",
   "metadata": {},
   "source": [
    "#### dataset 1"
   ]
  },
  {
   "cell_type": "code",
   "execution_count": 139,
   "metadata": {},
   "outputs": [
    {
     "data": {
      "text/html": [
       "<div>\n",
       "<style scoped>\n",
       "    .dataframe tbody tr th:only-of-type {\n",
       "        vertical-align: middle;\n",
       "    }\n",
       "\n",
       "    .dataframe tbody tr th {\n",
       "        vertical-align: top;\n",
       "    }\n",
       "\n",
       "    .dataframe thead th {\n",
       "        text-align: right;\n",
       "    }\n",
       "</style>\n",
       "<table border=\"1\" class=\"dataframe\">\n",
       "  <thead>\n",
       "    <tr style=\"text-align: right;\">\n",
       "      <th></th>\n",
       "      <th>c_we</th>\n",
       "      <th>c_we_std</th>\n",
       "      <th>K</th>\n",
       "      <th>alpha</th>\n",
       "      <th>beta</th>\n",
       "      <th>n_iters</th>\n",
       "    </tr>\n",
       "  </thead>\n",
       "  <tbody>\n",
       "    <tr>\n",
       "      <th>1</th>\n",
       "      <td>0.365417</td>\n",
       "      <td>0.0</td>\n",
       "      <td>6</td>\n",
       "      <td>0.1</td>\n",
       "      <td>0.1</td>\n",
       "      <td>5</td>\n",
       "    </tr>\n",
       "    <tr>\n",
       "      <th>34</th>\n",
       "      <td>0.365417</td>\n",
       "      <td>0.0</td>\n",
       "      <td>12</td>\n",
       "      <td>0.2</td>\n",
       "      <td>0.2</td>\n",
       "      <td>5</td>\n",
       "    </tr>\n",
       "    <tr>\n",
       "      <th>2</th>\n",
       "      <td>0.352392</td>\n",
       "      <td>0.0</td>\n",
       "      <td>6</td>\n",
       "      <td>0.1</td>\n",
       "      <td>0.1</td>\n",
       "      <td>15</td>\n",
       "    </tr>\n",
       "    <tr>\n",
       "      <th>13</th>\n",
       "      <td>0.332914</td>\n",
       "      <td>0.0</td>\n",
       "      <td>9</td>\n",
       "      <td>0.1</td>\n",
       "      <td>0.1</td>\n",
       "      <td>5</td>\n",
       "    </tr>\n",
       "    <tr>\n",
       "      <th>61</th>\n",
       "      <td>0.322158</td>\n",
       "      <td>0.0</td>\n",
       "      <td>21</td>\n",
       "      <td>0.1</td>\n",
       "      <td>0.1</td>\n",
       "      <td>5</td>\n",
       "    </tr>\n",
       "  </tbody>\n",
       "</table>\n",
       "</div>"
      ],
      "text/plain": [
       "        c_we  c_we_std   K  alpha  beta  n_iters\n",
       "1   0.365417       0.0   6    0.1   0.1        5\n",
       "34  0.365417       0.0  12    0.2   0.2        5\n",
       "2   0.352392       0.0   6    0.1   0.1       15\n",
       "13  0.332914       0.0   9    0.1   0.1        5\n",
       "61  0.322158       0.0  21    0.1   0.1        5"
      ]
     },
     "execution_count": 139,
     "metadata": {},
     "output_type": "execute_result"
    }
   ],
   "source": [
    "gsdmm=to_df(res['gsdmm_experiment'])\n",
    "gsdmm.iloc[gsdmm.nlargest(5, 'c_we').index]"
   ]
  },
  {
   "cell_type": "code",
   "execution_count": 115,
   "metadata": {},
   "outputs": [
    {
     "data": {
      "text/html": [
       "<div>\n",
       "<style scoped>\n",
       "    .dataframe tbody tr th:only-of-type {\n",
       "        vertical-align: middle;\n",
       "    }\n",
       "\n",
       "    .dataframe tbody tr th {\n",
       "        vertical-align: top;\n",
       "    }\n",
       "\n",
       "    .dataframe thead th {\n",
       "        text-align: right;\n",
       "    }\n",
       "</style>\n",
       "<table border=\"1\" class=\"dataframe\">\n",
       "  <thead>\n",
       "    <tr style=\"text-align: right;\">\n",
       "      <th></th>\n",
       "      <th>c_we</th>\n",
       "      <th>c_we_std</th>\n",
       "      <th>K</th>\n",
       "      <th>alpha</th>\n",
       "      <th>beta</th>\n",
       "      <th>n_iters</th>\n",
       "    </tr>\n",
       "  </thead>\n",
       "  <tbody>\n",
       "    <tr>\n",
       "      <th>0</th>\n",
       "      <td>0.184020</td>\n",
       "      <td>0.0</td>\n",
       "      <td>6</td>\n",
       "      <td>0.1</td>\n",
       "      <td>0.1</td>\n",
       "      <td>1</td>\n",
       "    </tr>\n",
       "    <tr>\n",
       "      <th>1</th>\n",
       "      <td>0.365417</td>\n",
       "      <td>0.0</td>\n",
       "      <td>6</td>\n",
       "      <td>0.1</td>\n",
       "      <td>0.1</td>\n",
       "      <td>5</td>\n",
       "    </tr>\n",
       "    <tr>\n",
       "      <th>2</th>\n",
       "      <td>0.352392</td>\n",
       "      <td>0.0</td>\n",
       "      <td>6</td>\n",
       "      <td>0.1</td>\n",
       "      <td>0.1</td>\n",
       "      <td>15</td>\n",
       "    </tr>\n",
       "    <tr>\n",
       "      <th>3</th>\n",
       "      <td>0.183047</td>\n",
       "      <td>0.0</td>\n",
       "      <td>6</td>\n",
       "      <td>0.1</td>\n",
       "      <td>0.2</td>\n",
       "      <td>1</td>\n",
       "    </tr>\n",
       "    <tr>\n",
       "      <th>4</th>\n",
       "      <td>0.240072</td>\n",
       "      <td>0.0</td>\n",
       "      <td>6</td>\n",
       "      <td>0.1</td>\n",
       "      <td>0.2</td>\n",
       "      <td>5</td>\n",
       "    </tr>\n",
       "  </tbody>\n",
       "</table>\n",
       "</div>"
      ],
      "text/plain": [
       "       c_we  c_we_std  K  alpha  beta  n_iters\n",
       "0  0.184020       0.0  6    0.1   0.1        1\n",
       "1  0.365417       0.0  6    0.1   0.1        5\n",
       "2  0.352392       0.0  6    0.1   0.1       15\n",
       "3  0.183047       0.0  6    0.1   0.2        1\n",
       "4  0.240072       0.0  6    0.1   0.2        5"
      ]
     },
     "execution_count": 115,
     "metadata": {},
     "output_type": "execute_result"
    }
   ],
   "source": [
    "gsdmm.iloc[gsdmm.nsmallest(5, 'c_we_std').index]"
   ]
  },
  {
   "cell_type": "code",
   "execution_count": 117,
   "metadata": {},
   "outputs": [
    {
     "name": "stdout",
     "output_type": "stream",
     "text": [
      "                            OLS Regression Results                            \n",
      "==============================================================================\n",
      "Dep. Variable:                   c_we   R-squared:                       0.103\n",
      "Model:                            OLS   Adj. R-squared:                  0.058\n",
      "Method:                 Least Squares   F-statistic:                     2.273\n",
      "Date:                Thu, 02 Nov 2023   Prob (F-statistic):             0.0687\n",
      "Time:                        15:14:52   Log-Likelihood:                 118.37\n",
      "No. Observations:                  84   AIC:                            -226.7\n",
      "Df Residuals:                      79   BIC:                            -214.6\n",
      "Df Model:                           4                                         \n",
      "Covariance Type:            nonrobust                                         \n",
      "==============================================================================\n",
      "                 coef    std err          t      P>|t|      [0.025      0.975]\n",
      "------------------------------------------------------------------------------\n",
      "const          0.3047      0.034      8.869      0.000       0.236       0.373\n",
      "K             -0.0013      0.001     -1.176      0.243      -0.004       0.001\n",
      "alpha         -0.1018      0.133     -0.765      0.446      -0.367       0.163\n",
      "beta          -0.3472      0.133     -2.609      0.011      -0.612      -0.082\n",
      "n_iters       -0.0006      0.001     -0.561      0.577      -0.003       0.002\n",
      "==============================================================================\n",
      "Omnibus:                        1.750   Durbin-Watson:                   2.006\n",
      "Prob(Omnibus):                  0.417   Jarque-Bera (JB):                1.684\n",
      "Skew:                           0.255   Prob(JB):                        0.431\n",
      "Kurtosis:                       2.530   Cond. No.                         361.\n",
      "==============================================================================\n",
      "\n",
      "Notes:\n",
      "[1] Standard Errors assume that the covariance matrix of the errors is correctly specified.\n"
     ]
    }
   ],
   "source": [
    "y = gsdmm['c_we']\n",
    "x=gsdmm.drop(columns=['c_we', 'c_we_std'])\n",
    "x = sm.add_constant(x)\n",
    "model = sm.OLS(y, x).fit()\n",
    "print(model.summary())"
   ]
  },
  {
   "cell_type": "markdown",
   "metadata": {},
   "source": [
    "#### dataset 2"
   ]
  },
  {
   "cell_type": "code",
   "execution_count": 136,
   "metadata": {},
   "outputs": [
    {
     "data": {
      "text/html": [
       "<div>\n",
       "<style scoped>\n",
       "    .dataframe tbody tr th:only-of-type {\n",
       "        vertical-align: middle;\n",
       "    }\n",
       "\n",
       "    .dataframe tbody tr th {\n",
       "        vertical-align: top;\n",
       "    }\n",
       "\n",
       "    .dataframe thead th {\n",
       "        text-align: right;\n",
       "    }\n",
       "</style>\n",
       "<table border=\"1\" class=\"dataframe\">\n",
       "  <thead>\n",
       "    <tr style=\"text-align: right;\">\n",
       "      <th></th>\n",
       "      <th>u_mass</th>\n",
       "      <th>u_mass_std</th>\n",
       "      <th>K</th>\n",
       "      <th>alpha</th>\n",
       "      <th>beta</th>\n",
       "      <th>n_iters</th>\n",
       "    </tr>\n",
       "  </thead>\n",
       "  <tbody>\n",
       "    <tr>\n",
       "      <th>4</th>\n",
       "      <td>-0.509983</td>\n",
       "      <td>0.054108</td>\n",
       "      <td>6</td>\n",
       "      <td>0.1</td>\n",
       "      <td>0.2</td>\n",
       "      <td>5</td>\n",
       "    </tr>\n",
       "    <tr>\n",
       "      <th>43</th>\n",
       "      <td>-0.636831</td>\n",
       "      <td>0.184751</td>\n",
       "      <td>15</td>\n",
       "      <td>0.2</td>\n",
       "      <td>0.1</td>\n",
       "      <td>5</td>\n",
       "    </tr>\n",
       "    <tr>\n",
       "      <th>26</th>\n",
       "      <td>-0.683594</td>\n",
       "      <td>0.249467</td>\n",
       "      <td>12</td>\n",
       "      <td>0.1</td>\n",
       "      <td>0.1</td>\n",
       "      <td>15</td>\n",
       "    </tr>\n",
       "    <tr>\n",
       "      <th>50</th>\n",
       "      <td>-0.687103</td>\n",
       "      <td>0.254352</td>\n",
       "      <td>18</td>\n",
       "      <td>0.1</td>\n",
       "      <td>0.1</td>\n",
       "      <td>15</td>\n",
       "    </tr>\n",
       "    <tr>\n",
       "      <th>65</th>\n",
       "      <td>-0.733169</td>\n",
       "      <td>0.318711</td>\n",
       "      <td>21</td>\n",
       "      <td>0.1</td>\n",
       "      <td>0.2</td>\n",
       "      <td>15</td>\n",
       "    </tr>\n",
       "  </tbody>\n",
       "</table>\n",
       "</div>"
      ],
      "text/plain": [
       "      u_mass  u_mass_std   K  alpha  beta  n_iters\n",
       "4  -0.509983    0.054108   6    0.1   0.2        5\n",
       "43 -0.636831    0.184751  15    0.2   0.1        5\n",
       "26 -0.683594    0.249467  12    0.1   0.1       15\n",
       "50 -0.687103    0.254352  18    0.1   0.1       15\n",
       "65 -0.733169    0.318711  21    0.1   0.2       15"
      ]
     },
     "execution_count": 136,
     "metadata": {},
     "output_type": "execute_result"
    }
   ],
   "source": [
    "gsdmm=to_df2(res2['gsdmm_experiment'])\n",
    "gsdmm.iloc[gsdmm.nlargest(5, 'u_mass').index]"
   ]
  },
  {
   "cell_type": "code",
   "execution_count": 137,
   "metadata": {},
   "outputs": [
    {
     "data": {
      "text/html": [
       "<div>\n",
       "<style scoped>\n",
       "    .dataframe tbody tr th:only-of-type {\n",
       "        vertical-align: middle;\n",
       "    }\n",
       "\n",
       "    .dataframe tbody tr th {\n",
       "        vertical-align: top;\n",
       "    }\n",
       "\n",
       "    .dataframe thead th {\n",
       "        text-align: right;\n",
       "    }\n",
       "</style>\n",
       "<table border=\"1\" class=\"dataframe\">\n",
       "  <thead>\n",
       "    <tr style=\"text-align: right;\">\n",
       "      <th></th>\n",
       "      <th>u_mass</th>\n",
       "      <th>u_mass_std</th>\n",
       "      <th>K</th>\n",
       "      <th>alpha</th>\n",
       "      <th>beta</th>\n",
       "      <th>n_iters</th>\n",
       "    </tr>\n",
       "  </thead>\n",
       "  <tbody>\n",
       "    <tr>\n",
       "      <th>4</th>\n",
       "      <td>-0.509983</td>\n",
       "      <td>0.054108</td>\n",
       "      <td>6</td>\n",
       "      <td>0.1</td>\n",
       "      <td>0.2</td>\n",
       "      <td>5</td>\n",
       "    </tr>\n",
       "    <tr>\n",
       "      <th>43</th>\n",
       "      <td>-0.636831</td>\n",
       "      <td>0.184751</td>\n",
       "      <td>15</td>\n",
       "      <td>0.2</td>\n",
       "      <td>0.1</td>\n",
       "      <td>5</td>\n",
       "    </tr>\n",
       "    <tr>\n",
       "      <th>26</th>\n",
       "      <td>-0.683594</td>\n",
       "      <td>0.249467</td>\n",
       "      <td>12</td>\n",
       "      <td>0.1</td>\n",
       "      <td>0.1</td>\n",
       "      <td>15</td>\n",
       "    </tr>\n",
       "    <tr>\n",
       "      <th>50</th>\n",
       "      <td>-0.687103</td>\n",
       "      <td>0.254352</td>\n",
       "      <td>18</td>\n",
       "      <td>0.1</td>\n",
       "      <td>0.1</td>\n",
       "      <td>15</td>\n",
       "    </tr>\n",
       "    <tr>\n",
       "      <th>65</th>\n",
       "      <td>-0.733169</td>\n",
       "      <td>0.318711</td>\n",
       "      <td>21</td>\n",
       "      <td>0.1</td>\n",
       "      <td>0.2</td>\n",
       "      <td>15</td>\n",
       "    </tr>\n",
       "  </tbody>\n",
       "</table>\n",
       "</div>"
      ],
      "text/plain": [
       "      u_mass  u_mass_std   K  alpha  beta  n_iters\n",
       "4  -0.509983    0.054108   6    0.1   0.2        5\n",
       "43 -0.636831    0.184751  15    0.2   0.1        5\n",
       "26 -0.683594    0.249467  12    0.1   0.1       15\n",
       "50 -0.687103    0.254352  18    0.1   0.1       15\n",
       "65 -0.733169    0.318711  21    0.1   0.2       15"
      ]
     },
     "execution_count": 137,
     "metadata": {},
     "output_type": "execute_result"
    }
   ],
   "source": [
    "gsdmm.iloc[gsdmm.nsmallest(5, 'u_mass_std').index]"
   ]
  },
  {
   "cell_type": "code",
   "execution_count": 138,
   "metadata": {},
   "outputs": [
    {
     "name": "stdout",
     "output_type": "stream",
     "text": [
      "                            OLS Regression Results                            \n",
      "==============================================================================\n",
      "Dep. Variable:                 u_mass   R-squared:                       0.334\n",
      "Model:                            OLS   Adj. R-squared:                  0.301\n",
      "Method:                 Least Squares   F-statistic:                     9.916\n",
      "Date:                Fri, 03 Nov 2023   Prob (F-statistic):           1.49e-06\n",
      "Time:                        08:27:35   Log-Likelihood:                -18.533\n",
      "No. Observations:                  84   AIC:                             47.07\n",
      "Df Residuals:                      79   BIC:                             59.22\n",
      "Df Model:                           4                                         \n",
      "Covariance Type:            nonrobust                                         \n",
      "==============================================================================\n",
      "                 coef    std err          t      P>|t|      [0.025      0.975]\n",
      "------------------------------------------------------------------------------\n",
      "const         -1.0336      0.175     -5.897      0.000      -1.383      -0.685\n",
      "K             -0.0256      0.006     -4.531      0.000      -0.037      -0.014\n",
      "alpha         -0.4349      0.679     -0.641      0.524      -1.786       0.916\n",
      "beta          -0.1391      0.679     -0.205      0.838      -1.490       1.212\n",
      "n_iters        0.0249      0.006      4.322      0.000       0.013       0.036\n",
      "==============================================================================\n",
      "Omnibus:                        0.581   Durbin-Watson:                   2.389\n",
      "Prob(Omnibus):                  0.748   Jarque-Bera (JB):                0.703\n",
      "Skew:                           0.082   Prob(JB):                        0.704\n",
      "Kurtosis:                       2.583   Cond. No.                         361.\n",
      "==============================================================================\n",
      "\n",
      "Notes:\n",
      "[1] Standard Errors assume that the covariance matrix of the errors is correctly specified.\n"
     ]
    }
   ],
   "source": [
    "y = gsdmm['u_mass']\n",
    "x=gsdmm.drop(columns=['u_mass', 'u_mass_std'])\n",
    "x = sm.add_constant(x)\n",
    "model = sm.OLS(y, x).fit()\n",
    "print(model.summary())"
   ]
  },
  {
   "cell_type": "markdown",
   "metadata": {},
   "source": [
    "## GSDMM: UMASS coherence"
   ]
  },
  {
   "cell_type": "markdown",
   "metadata": {},
   "source": [
    "#### dataset 1"
   ]
  },
  {
   "cell_type": "code",
   "execution_count": 145,
   "metadata": {},
   "outputs": [
    {
     "data": {
      "text/html": [
       "<div>\n",
       "<style scoped>\n",
       "    .dataframe tbody tr th:only-of-type {\n",
       "        vertical-align: middle;\n",
       "    }\n",
       "\n",
       "    .dataframe tbody tr th {\n",
       "        vertical-align: top;\n",
       "    }\n",
       "\n",
       "    .dataframe thead th {\n",
       "        text-align: right;\n",
       "    }\n",
       "</style>\n",
       "<table border=\"1\" class=\"dataframe\">\n",
       "  <thead>\n",
       "    <tr style=\"text-align: right;\">\n",
       "      <th></th>\n",
       "      <th>u_mass</th>\n",
       "      <th>u_mass_std</th>\n",
       "      <th>K</th>\n",
       "      <th>alpha</th>\n",
       "      <th>beta</th>\n",
       "      <th>n_iters</th>\n",
       "    </tr>\n",
       "  </thead>\n",
       "  <tbody>\n",
       "    <tr>\n",
       "      <th>2</th>\n",
       "      <td>-2.448810</td>\n",
       "      <td>0.978883</td>\n",
       "      <td>6</td>\n",
       "      <td>0.1</td>\n",
       "      <td>0.1</td>\n",
       "      <td>15</td>\n",
       "    </tr>\n",
       "    <tr>\n",
       "      <th>1</th>\n",
       "      <td>-2.456073</td>\n",
       "      <td>0.978553</td>\n",
       "      <td>6</td>\n",
       "      <td>0.1</td>\n",
       "      <td>0.1</td>\n",
       "      <td>5</td>\n",
       "    </tr>\n",
       "    <tr>\n",
       "      <th>10</th>\n",
       "      <td>-2.472700</td>\n",
       "      <td>1.012691</td>\n",
       "      <td>6</td>\n",
       "      <td>0.2</td>\n",
       "      <td>0.2</td>\n",
       "      <td>5</td>\n",
       "    </tr>\n",
       "    <tr>\n",
       "      <th>8</th>\n",
       "      <td>-2.474787</td>\n",
       "      <td>0.989685</td>\n",
       "      <td>6</td>\n",
       "      <td>0.2</td>\n",
       "      <td>0.1</td>\n",
       "      <td>15</td>\n",
       "    </tr>\n",
       "    <tr>\n",
       "      <th>0</th>\n",
       "      <td>-2.549945</td>\n",
       "      <td>0.977607</td>\n",
       "      <td>6</td>\n",
       "      <td>0.1</td>\n",
       "      <td>0.1</td>\n",
       "      <td>1</td>\n",
       "    </tr>\n",
       "  </tbody>\n",
       "</table>\n",
       "</div>"
      ],
      "text/plain": [
       "      u_mass  u_mass_std  K  alpha  beta  n_iters\n",
       "2  -2.448810    0.978883  6    0.1   0.1       15\n",
       "1  -2.456073    0.978553  6    0.1   0.1        5\n",
       "10 -2.472700    1.012691  6    0.2   0.2        5\n",
       "8  -2.474787    0.989685  6    0.2   0.1       15\n",
       "0  -2.549945    0.977607  6    0.1   0.1        1"
      ]
     },
     "execution_count": 145,
     "metadata": {},
     "output_type": "execute_result"
    }
   ],
   "source": [
    "gsdmm=to_df2(res['gsdmm_experiment'])\n",
    "gsdmm.iloc[gsdmm.nlargest(5, 'u_mass').index]"
   ]
  },
  {
   "cell_type": "code",
   "execution_count": 146,
   "metadata": {},
   "outputs": [
    {
     "name": "stdout",
     "output_type": "stream",
     "text": [
      "                            OLS Regression Results                            \n",
      "==============================================================================\n",
      "Dep. Variable:             u_mass_std   R-squared:                       0.528\n",
      "Model:                            OLS   Adj. R-squared:                  0.504\n",
      "Method:                 Least Squares   F-statistic:                     22.12\n",
      "Date:                Fri, 03 Nov 2023   Prob (F-statistic):           2.81e-12\n",
      "Time:                        09:09:27   Log-Likelihood:                -90.780\n",
      "No. Observations:                  84   AIC:                             191.6\n",
      "Df Residuals:                      79   BIC:                             203.7\n",
      "Df Model:                           4                                         \n",
      "Covariance Type:            nonrobust                                         \n",
      "==============================================================================\n",
      "                 coef    std err          t      P>|t|      [0.025      0.975]\n",
      "------------------------------------------------------------------------------\n",
      "const         -0.5306      0.414     -1.281      0.204      -1.355       0.294\n",
      "K              0.0728      0.013      5.446      0.000       0.046       0.099\n",
      "alpha         -0.4318      1.604     -0.269      0.789      -3.625       2.762\n",
      "beta           3.8441      1.604      2.396      0.019       0.650       7.038\n",
      "n_iters        0.0992      0.014      7.281      0.000       0.072       0.126\n",
      "==============================================================================\n",
      "Omnibus:                        1.902   Durbin-Watson:                   2.542\n",
      "Prob(Omnibus):                  0.386   Jarque-Bera (JB):                1.703\n",
      "Skew:                           0.347   Prob(JB):                        0.427\n",
      "Kurtosis:                       2.930   Cond. No.                         361.\n",
      "==============================================================================\n",
      "\n",
      "Notes:\n",
      "[1] Standard Errors assume that the covariance matrix of the errors is correctly specified.\n"
     ]
    }
   ],
   "source": [
    "y = gsdmm['u_mass_std']\n",
    "x=gsdmm.drop(columns=['u_mass', 'u_mass_std'])\n",
    "x = sm.add_constant(x)\n",
    "model = sm.OLS(y, x).fit()\n",
    "print(model.summary())"
   ]
  },
  {
   "cell_type": "markdown",
   "metadata": {},
   "source": [
    "#### dataset 2"
   ]
  },
  {
   "cell_type": "code",
   "execution_count": 143,
   "metadata": {},
   "outputs": [
    {
     "data": {
      "text/html": [
       "<div>\n",
       "<style scoped>\n",
       "    .dataframe tbody tr th:only-of-type {\n",
       "        vertical-align: middle;\n",
       "    }\n",
       "\n",
       "    .dataframe tbody tr th {\n",
       "        vertical-align: top;\n",
       "    }\n",
       "\n",
       "    .dataframe thead th {\n",
       "        text-align: right;\n",
       "    }\n",
       "</style>\n",
       "<table border=\"1\" class=\"dataframe\">\n",
       "  <thead>\n",
       "    <tr style=\"text-align: right;\">\n",
       "      <th></th>\n",
       "      <th>u_mass</th>\n",
       "      <th>u_mass_std</th>\n",
       "      <th>K</th>\n",
       "      <th>alpha</th>\n",
       "      <th>beta</th>\n",
       "      <th>n_iters</th>\n",
       "    </tr>\n",
       "  </thead>\n",
       "  <tbody>\n",
       "    <tr>\n",
       "      <th>4</th>\n",
       "      <td>-0.509983</td>\n",
       "      <td>0.054108</td>\n",
       "      <td>6</td>\n",
       "      <td>0.1</td>\n",
       "      <td>0.2</td>\n",
       "      <td>5</td>\n",
       "    </tr>\n",
       "    <tr>\n",
       "      <th>43</th>\n",
       "      <td>-0.636831</td>\n",
       "      <td>0.184751</td>\n",
       "      <td>15</td>\n",
       "      <td>0.2</td>\n",
       "      <td>0.1</td>\n",
       "      <td>5</td>\n",
       "    </tr>\n",
       "    <tr>\n",
       "      <th>26</th>\n",
       "      <td>-0.683594</td>\n",
       "      <td>0.249467</td>\n",
       "      <td>12</td>\n",
       "      <td>0.1</td>\n",
       "      <td>0.1</td>\n",
       "      <td>15</td>\n",
       "    </tr>\n",
       "    <tr>\n",
       "      <th>50</th>\n",
       "      <td>-0.687103</td>\n",
       "      <td>0.254352</td>\n",
       "      <td>18</td>\n",
       "      <td>0.1</td>\n",
       "      <td>0.1</td>\n",
       "      <td>15</td>\n",
       "    </tr>\n",
       "    <tr>\n",
       "      <th>65</th>\n",
       "      <td>-0.733169</td>\n",
       "      <td>0.318711</td>\n",
       "      <td>21</td>\n",
       "      <td>0.1</td>\n",
       "      <td>0.2</td>\n",
       "      <td>15</td>\n",
       "    </tr>\n",
       "  </tbody>\n",
       "</table>\n",
       "</div>"
      ],
      "text/plain": [
       "      u_mass  u_mass_std   K  alpha  beta  n_iters\n",
       "4  -0.509983    0.054108   6    0.1   0.2        5\n",
       "43 -0.636831    0.184751  15    0.2   0.1        5\n",
       "26 -0.683594    0.249467  12    0.1   0.1       15\n",
       "50 -0.687103    0.254352  18    0.1   0.1       15\n",
       "65 -0.733169    0.318711  21    0.1   0.2       15"
      ]
     },
     "execution_count": 143,
     "metadata": {},
     "output_type": "execute_result"
    }
   ],
   "source": [
    "gsdmm=to_df2(res2['gsdmm_experiment'])\n",
    "gsdmm.iloc[gsdmm.nlargest(5, 'u_mass').index]"
   ]
  },
  {
   "cell_type": "code",
   "execution_count": 144,
   "metadata": {},
   "outputs": [
    {
     "name": "stdout",
     "output_type": "stream",
     "text": [
      "                            OLS Regression Results                            \n",
      "==============================================================================\n",
      "Dep. Variable:             u_mass_std   R-squared:                       0.121\n",
      "Model:                            OLS   Adj. R-squared:                  0.077\n",
      "Method:                 Least Squares   F-statistic:                     2.728\n",
      "Date:                Fri, 03 Nov 2023   Prob (F-statistic):             0.0349\n",
      "Time:                        08:57:34   Log-Likelihood:                -8.3064\n",
      "No. Observations:                  84   AIC:                             26.61\n",
      "Df Residuals:                      79   BIC:                             38.77\n",
      "Df Model:                           4                                         \n",
      "Covariance Type:            nonrobust                                         \n",
      "==============================================================================\n",
      "                 coef    std err          t      P>|t|      [0.025      0.975]\n",
      "------------------------------------------------------------------------------\n",
      "const          0.5481      0.155      3.532      0.001       0.239       0.857\n",
      "K              0.0161      0.005      3.220      0.002       0.006       0.026\n",
      "alpha          0.3835      0.601      0.638      0.525      -0.813       1.580\n",
      "beta           0.1879      0.601      0.313      0.755      -1.008       1.384\n",
      "n_iters        0.0010      0.005      0.192      0.849      -0.009       0.011\n",
      "==============================================================================\n",
      "Omnibus:                        8.482   Durbin-Watson:                   2.138\n",
      "Prob(Omnibus):                  0.014   Jarque-Bera (JB):                8.323\n",
      "Skew:                          -0.758   Prob(JB):                       0.0156\n",
      "Kurtosis:                       3.282   Cond. No.                         361.\n",
      "==============================================================================\n",
      "\n",
      "Notes:\n",
      "[1] Standard Errors assume that the covariance matrix of the errors is correctly specified.\n"
     ]
    }
   ],
   "source": [
    "y = gsdmm['u_mass_std']\n",
    "x=gsdmm.drop(columns=['u_mass', 'u_mass_std'])\n",
    "x = sm.add_constant(x)\n",
    "model = sm.OLS(y, x).fit()\n",
    "print(model.summary())"
   ]
  },
  {
   "cell_type": "code",
   "execution_count": null,
   "metadata": {},
   "outputs": [],
   "source": []
  },
  {
   "cell_type": "code",
   "execution_count": null,
   "metadata": {},
   "outputs": [],
   "source": []
  },
  {
   "cell_type": "markdown",
   "metadata": {},
   "source": [
    "### LDA: cluster title generation"
   ]
  },
  {
   "cell_type": "code",
   "execution_count": 97,
   "metadata": {},
   "outputs": [
    {
     "data": {
      "application/vnd.jupyter.widget-view+json": {
       "model_id": "d1e6ed303f9b49f29de0bf7599b4ab43",
       "version_major": 2,
       "version_minor": 0
      },
      "text/plain": [
       "Downloading (…)lve/main/config.json:   0%|          | 0.00/1.40k [00:00<?, ?B/s]"
      ]
     },
     "metadata": {},
     "output_type": "display_data"
    },
    {
     "data": {
      "application/vnd.jupyter.widget-view+json": {
       "model_id": "d824b7dcdc294cbc80d5f4a808172847",
       "version_major": 2,
       "version_minor": 0
      },
      "text/plain": [
       "Downloading model.safetensors:   0%|          | 0.00/990M [00:00<?, ?B/s]"
      ]
     },
     "metadata": {},
     "output_type": "display_data"
    },
    {
     "data": {
      "application/vnd.jupyter.widget-view+json": {
       "model_id": "351795dc7a0c4a1999ae55f08a33edd1",
       "version_major": 2,
       "version_minor": 0
      },
      "text/plain": [
       "Downloading (…)neration_config.json:   0%|          | 0.00/147 [00:00<?, ?B/s]"
      ]
     },
     "metadata": {},
     "output_type": "display_data"
    },
    {
     "data": {
      "application/vnd.jupyter.widget-view+json": {
       "model_id": "836dcd551baa40a5bef6b3f47b07ad01",
       "version_major": 2,
       "version_minor": 0
      },
      "text/plain": [
       "Downloading (…)okenizer_config.json:   0%|          | 0.00/2.54k [00:00<?, ?B/s]"
      ]
     },
     "metadata": {},
     "output_type": "display_data"
    },
    {
     "data": {
      "application/vnd.jupyter.widget-view+json": {
       "model_id": "95a7c9be1ceb44f1be64521d7a0d5629",
       "version_major": 2,
       "version_minor": 0
      },
      "text/plain": [
       "Downloading spiece.model:   0%|          | 0.00/792k [00:00<?, ?B/s]"
      ]
     },
     "metadata": {},
     "output_type": "display_data"
    },
    {
     "data": {
      "application/vnd.jupyter.widget-view+json": {
       "model_id": "b9e56d60fbba47c89ebb69b62c37d54d",
       "version_major": 2,
       "version_minor": 0
      },
      "text/plain": [
       "Downloading (…)/main/tokenizer.json:   0%|          | 0.00/2.42M [00:00<?, ?B/s]"
      ]
     },
     "metadata": {},
     "output_type": "display_data"
    },
    {
     "data": {
      "application/vnd.jupyter.widget-view+json": {
       "model_id": "1d09f3807ccc4c3db8dbd96998b60555",
       "version_major": 2,
       "version_minor": 0
      },
      "text/plain": [
       "Downloading (…)cial_tokens_map.json:   0%|          | 0.00/2.20k [00:00<?, ?B/s]"
      ]
     },
     "metadata": {},
     "output_type": "display_data"
    }
   ],
   "source": [
    "from transformers import pipeline\n",
    "from bertopic.representation import TextGeneration\n",
    "\n",
    "def prompt(topicwords):\n",
    "    prompt= f\"I have a topic described by the following keywords: [{', '.join(map(str, topicwords))}]. Based on the previous keywords, what is this topic about?\"\n",
    "    return prompt\n",
    "\n",
    "# Create your representation model\n",
    "generator = pipeline('text2text-generation', model='google/flan-t5-base')\n",
    "representation_model = TextGeneration(generator)"
   ]
  },
  {
   "cell_type": "code",
   "execution_count": null,
   "metadata": {},
   "outputs": [],
   "source": []
  },
  {
   "cell_type": "code",
   "execution_count": null,
   "metadata": {},
   "outputs": [],
   "source": []
  },
  {
   "cell_type": "code",
   "execution_count": null,
   "metadata": {},
   "outputs": [],
   "source": []
  }
 ],
 "metadata": {
  "kernelspec": {
   "display_name": "tomodapiArm",
   "language": "python",
   "name": "python3"
  },
  "language_info": {
   "codemirror_mode": {
    "name": "ipython",
    "version": 3
   },
   "file_extension": ".py",
   "mimetype": "text/x-python",
   "name": "python",
   "nbconvert_exporter": "python",
   "pygments_lexer": "ipython3",
   "version": "3.8.18"
  }
 },
 "nbformat": 4,
 "nbformat_minor": 2
}
