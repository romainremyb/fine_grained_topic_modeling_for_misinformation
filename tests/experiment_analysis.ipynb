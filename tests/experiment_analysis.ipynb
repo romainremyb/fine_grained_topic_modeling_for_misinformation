{
 "cells": [
  {
   "cell_type": "code",
   "execution_count": 124,
   "metadata": {},
   "outputs": [],
   "source": [
    "import sys, os, json\n",
    "import re, nltk\n",
    "from nltk import pos_tag\n",
    "import pandas as pd\n",
    "import numpy as np\n",
    "import matplotlib.pyplot as plt\n",
    "import sklearn, gensim\n",
    "from sklearn.decomposition import PCA\n",
    "import itertools\n",
    "from gensim.corpora import Dictionary\n",
    "from collections import defaultdict\n",
    "import statsmodels.api as sm\n",
    "sys.path.append(os.path.expanduser(\"~\")+'/Desktop/topic_modeling/fine_grained_topic_modeling_for_misinformation/src/')\n",
    "sys.path.append(os.path.expanduser(\"~\")+'/Desktop/topic_modeling/fine_grained_topic_modeling_for_misinformation/src/')\n",
    "os.chdir(os.path.expanduser(\"~\")+'/Desktop/topic_modeling/fine_grained_topic_modeling_for_misinformation/data/')\n",
    "from utils import preprocess_for_bow, experiment_result\n",
    "from models.lda import LDAwrappers\n",
    "from models.hdp import HDPwrapper\n",
    "from models.gsdmm import MovieGroupProcessWrapper\n",
    "from models.lftm import LFTMwrapper\n",
    "from transformers import T5ForConditionalGeneration, T5Tokenizer"
   ]
  },
  {
   "cell_type": "code",
   "execution_count": 125,
   "metadata": {},
   "outputs": [
    {
     "name": "stderr",
     "output_type": "stream",
     "text": [
      "Special tokens have been added in the vocabulary, make sure the associated word embeddings are fine-tuned or trained.\n"
     ]
    }
   ],
   "source": [
    "model_name = \"google/flan-t5-base\"\n",
    "model = T5ForConditionalGeneration.from_pretrained(model_name)\n",
    "tokenizer = T5Tokenizer.from_pretrained(model_name)"
   ]
  },
  {
   "cell_type": "code",
   "execution_count": 126,
   "metadata": {},
   "outputs": [],
   "source": [
    "def gen_topic_titles(experiment_result, exp_number):\n",
    "    exp_id=\"exp_{}\".format(exp_number)\n",
    "    n=1\n",
    "    for keywords in experiment_result[exp_id]['word_topic_pvalues']:\n",
    "        prompt = \"I have a topic described by the following keywords: [{}]. Based on the previous keywords, \\\n",
    "            what is this topic about? \".format(\", \".join(keywords['words']))\n",
    "        input_ids = tokenizer.encode(prompt, return_tensors=\"pt\", max_length=512, truncation=True)\n",
    "        output = model.generate(input_ids, max_length=100, num_return_sequences=1, num_beams=4)\n",
    "        generated_text = tokenizer.decode(output[0], skip_special_tokens=True)\n",
    "        print('topic',n,'generated topic name: ', generated_text)\n",
    "        n+=1\n"
   ]
  },
  {
   "cell_type": "code",
   "execution_count": null,
   "metadata": {},
   "outputs": [],
   "source": []
  },
  {
   "cell_type": "code",
   "execution_count": 92,
   "metadata": {},
   "outputs": [],
   "source": [
    "with open('experiments_dataset1.json', 'r') as fout:\n",
    "    res=json.load(fout)"
   ]
  },
  {
   "cell_type": "code",
   "execution_count": 93,
   "metadata": {},
   "outputs": [
    {
     "data": {
      "text/plain": [
       "dict_keys(['lda_experiment', 'gsdmm_experiment', 'hdp_experiment', 'lftm_experiment'])"
      ]
     },
     "execution_count": 93,
     "metadata": {},
     "output_type": "execute_result"
    }
   ],
   "source": [
    "res.keys()"
   ]
  },
  {
   "cell_type": "code",
   "execution_count": 94,
   "metadata": {},
   "outputs": [],
   "source": [
    "with open('experiments_dataset2.json', 'r') as fout:\n",
    "    res2=json.load(fout)"
   ]
  },
  {
   "cell_type": "code",
   "execution_count": 95,
   "metadata": {},
   "outputs": [],
   "source": [
    "import pandas as pd\n",
    "def to_df(res):\n",
    "    params=defaultdict(list)\n",
    "    for exp in res.keys():\n",
    "        params['c_we'].append(res[exp]['coherence_metrics']['c_we']['c_we'])\n",
    "        params['c_we_std'].append(res[exp]['coherence_metrics']['c_we']['c_we_std'])\n",
    "        #params['num_topics'].append(res[exp]['number_topics'])\n",
    "        for p in res[exp]['hyperparameters'].keys():\n",
    "            params[p].append(res[exp]['hyperparameters'][p])\n",
    "    #if params['num_topics'][0]==None:\n",
    "    #    del params['num_topics']\n",
    "    return pd.DataFrame(params)\n",
    "    #return params\n"
   ]
  },
  {
   "cell_type": "code",
   "execution_count": 96,
   "metadata": {},
   "outputs": [],
   "source": [
    "def to_df2(res):\n",
    "    params=defaultdict(list)\n",
    "    for exp in res.keys():\n",
    "        params['u_mass'].append(res[exp]['coherence_metrics']['u_mass']['u_mass'])\n",
    "        params['u_mass_std'].append(res[exp]['coherence_metrics']['u_mass']['u_mass_std'])\n",
    "        #params['num_topics'].append(res[exp]['number_topics'])\n",
    "        for p in res[exp]['hyperparameters'].keys():\n",
    "            params[p].append(res[exp]['hyperparameters'][p])\n",
    "    #if params['num_topics'][0]==None:\n",
    "    #    del params['num_topics']\n",
    "    return pd.DataFrame(params)"
   ]
  },
  {
   "cell_type": "code",
   "execution_count": 97,
   "metadata": {},
   "outputs": [],
   "source": [
    "def to_df3(res):\n",
    "    params=defaultdict(list)\n",
    "    for exp in res.keys():\n",
    "        params['excl_we'].append(res[exp]['coherence_metrics']['c_we']['excl_we'])\n",
    "        params['excl_we_std'].append(res[exp]['coherence_metrics']['c_we']['excl_we_std'])\n",
    "        #params['num_topics'].append(res[exp]['number_topics'])\n",
    "        for p in res[exp]['hyperparameters'].keys():\n",
    "            params[p].append(res[exp]['hyperparameters'][p])\n",
    "    #if params['num_topics'][0]==None:\n",
    "    #    del params['num_topics']\n",
    "    return pd.DataFrame(params)"
   ]
  },
  {
   "cell_type": "markdown",
   "metadata": {},
   "source": [
    "# select experiment of interest"
   ]
  },
  {
   "cell_type": "code",
   "execution_count": 127,
   "metadata": {},
   "outputs": [],
   "source": [
    "experiment=res['lftm_experiment']"
   ]
  },
  {
   "cell_type": "markdown",
   "metadata": {},
   "source": [
    "## word embedding coherence"
   ]
  },
  {
   "cell_type": "markdown",
   "metadata": {},
   "source": [
    "#### DATASET 1"
   ]
  },
  {
   "cell_type": "code",
   "execution_count": 128,
   "metadata": {},
   "outputs": [
    {
     "data": {
      "text/html": [
       "<div>\n",
       "<style scoped>\n",
       "    .dataframe tbody tr th:only-of-type {\n",
       "        vertical-align: middle;\n",
       "    }\n",
       "\n",
       "    .dataframe tbody tr th {\n",
       "        vertical-align: top;\n",
       "    }\n",
       "\n",
       "    .dataframe thead th {\n",
       "        text-align: right;\n",
       "    }\n",
       "</style>\n",
       "<table border=\"1\" class=\"dataframe\">\n",
       "  <thead>\n",
       "    <tr style=\"text-align: right;\">\n",
       "      <th></th>\n",
       "      <th>c_we</th>\n",
       "      <th>c_we_std</th>\n",
       "      <th>num_topics</th>\n",
       "      <th>alpha</th>\n",
       "      <th>beta</th>\n",
       "      <th>_lambda</th>\n",
       "    </tr>\n",
       "  </thead>\n",
       "  <tbody>\n",
       "    <tr>\n",
       "      <th>8</th>\n",
       "      <td>0.273267</td>\n",
       "      <td>0.076950</td>\n",
       "      <td>11</td>\n",
       "      <td>0.132584</td>\n",
       "      <td>0.050000</td>\n",
       "      <td>0.750871</td>\n",
       "    </tr>\n",
       "    <tr>\n",
       "      <th>11</th>\n",
       "      <td>0.271825</td>\n",
       "      <td>0.093425</td>\n",
       "      <td>10</td>\n",
       "      <td>0.145718</td>\n",
       "      <td>0.231992</td>\n",
       "      <td>0.690472</td>\n",
       "    </tr>\n",
       "    <tr>\n",
       "      <th>0</th>\n",
       "      <td>0.266815</td>\n",
       "      <td>0.089807</td>\n",
       "      <td>10</td>\n",
       "      <td>0.050000</td>\n",
       "      <td>0.233173</td>\n",
       "      <td>0.844202</td>\n",
       "    </tr>\n",
       "    <tr>\n",
       "      <th>18</th>\n",
       "      <td>0.263140</td>\n",
       "      <td>0.088836</td>\n",
       "      <td>9</td>\n",
       "      <td>0.204683</td>\n",
       "      <td>0.050000</td>\n",
       "      <td>0.736920</td>\n",
       "    </tr>\n",
       "    <tr>\n",
       "      <th>7</th>\n",
       "      <td>0.262716</td>\n",
       "      <td>0.094656</td>\n",
       "      <td>11</td>\n",
       "      <td>0.176057</td>\n",
       "      <td>0.173020</td>\n",
       "      <td>0.789664</td>\n",
       "    </tr>\n",
       "    <tr>\n",
       "      <th>6</th>\n",
       "      <td>0.262028</td>\n",
       "      <td>0.083986</td>\n",
       "      <td>10</td>\n",
       "      <td>0.057984</td>\n",
       "      <td>0.119486</td>\n",
       "      <td>0.801961</td>\n",
       "    </tr>\n",
       "    <tr>\n",
       "      <th>3</th>\n",
       "      <td>0.254952</td>\n",
       "      <td>0.089734</td>\n",
       "      <td>8</td>\n",
       "      <td>0.228030</td>\n",
       "      <td>0.250000</td>\n",
       "      <td>0.718774</td>\n",
       "    </tr>\n",
       "    <tr>\n",
       "      <th>4</th>\n",
       "      <td>0.250968</td>\n",
       "      <td>0.113905</td>\n",
       "      <td>8</td>\n",
       "      <td>0.116173</td>\n",
       "      <td>0.096624</td>\n",
       "      <td>0.690027</td>\n",
       "    </tr>\n",
       "    <tr>\n",
       "      <th>1</th>\n",
       "      <td>0.249829</td>\n",
       "      <td>0.072830</td>\n",
       "      <td>11</td>\n",
       "      <td>0.071085</td>\n",
       "      <td>0.249383</td>\n",
       "      <td>0.630468</td>\n",
       "    </tr>\n",
       "    <tr>\n",
       "      <th>19</th>\n",
       "      <td>0.249544</td>\n",
       "      <td>0.086321</td>\n",
       "      <td>11</td>\n",
       "      <td>0.055084</td>\n",
       "      <td>0.213985</td>\n",
       "      <td>0.765648</td>\n",
       "    </tr>\n",
       "    <tr>\n",
       "      <th>15</th>\n",
       "      <td>0.246727</td>\n",
       "      <td>0.113530</td>\n",
       "      <td>10</td>\n",
       "      <td>0.141656</td>\n",
       "      <td>0.050000</td>\n",
       "      <td>0.697260</td>\n",
       "    </tr>\n",
       "    <tr>\n",
       "      <th>17</th>\n",
       "      <td>0.243816</td>\n",
       "      <td>0.109985</td>\n",
       "      <td>8</td>\n",
       "      <td>0.233924</td>\n",
       "      <td>0.129943</td>\n",
       "      <td>0.842333</td>\n",
       "    </tr>\n",
       "    <tr>\n",
       "      <th>14</th>\n",
       "      <td>0.241082</td>\n",
       "      <td>0.079026</td>\n",
       "      <td>8</td>\n",
       "      <td>0.116551</td>\n",
       "      <td>0.050000</td>\n",
       "      <td>0.730768</td>\n",
       "    </tr>\n",
       "    <tr>\n",
       "      <th>5</th>\n",
       "      <td>0.240893</td>\n",
       "      <td>0.060917</td>\n",
       "      <td>10</td>\n",
       "      <td>0.185282</td>\n",
       "      <td>0.250000</td>\n",
       "      <td>0.775107</td>\n",
       "    </tr>\n",
       "    <tr>\n",
       "      <th>2</th>\n",
       "      <td>0.239515</td>\n",
       "      <td>0.092338</td>\n",
       "      <td>8</td>\n",
       "      <td>0.132911</td>\n",
       "      <td>0.209092</td>\n",
       "      <td>0.792174</td>\n",
       "    </tr>\n",
       "    <tr>\n",
       "      <th>10</th>\n",
       "      <td>0.239275</td>\n",
       "      <td>0.108220</td>\n",
       "      <td>8</td>\n",
       "      <td>0.148082</td>\n",
       "      <td>0.250000</td>\n",
       "      <td>0.619519</td>\n",
       "    </tr>\n",
       "    <tr>\n",
       "      <th>9</th>\n",
       "      <td>0.237153</td>\n",
       "      <td>0.076648</td>\n",
       "      <td>8</td>\n",
       "      <td>0.055995</td>\n",
       "      <td>0.176363</td>\n",
       "      <td>0.788550</td>\n",
       "    </tr>\n",
       "    <tr>\n",
       "      <th>12</th>\n",
       "      <td>0.236619</td>\n",
       "      <td>0.081930</td>\n",
       "      <td>7</td>\n",
       "      <td>0.080531</td>\n",
       "      <td>0.050000</td>\n",
       "      <td>0.682565</td>\n",
       "    </tr>\n",
       "    <tr>\n",
       "      <th>13</th>\n",
       "      <td>0.236362</td>\n",
       "      <td>0.114063</td>\n",
       "      <td>8</td>\n",
       "      <td>0.112736</td>\n",
       "      <td>0.050000</td>\n",
       "      <td>0.710442</td>\n",
       "    </tr>\n",
       "    <tr>\n",
       "      <th>16</th>\n",
       "      <td>0.231125</td>\n",
       "      <td>0.071939</td>\n",
       "      <td>9</td>\n",
       "      <td>0.050000</td>\n",
       "      <td>0.250000</td>\n",
       "      <td>0.619707</td>\n",
       "    </tr>\n",
       "  </tbody>\n",
       "</table>\n",
       "</div>"
      ],
      "text/plain": [
       "        c_we  c_we_std  num_topics     alpha      beta   _lambda\n",
       "8   0.273267  0.076950          11  0.132584  0.050000  0.750871\n",
       "11  0.271825  0.093425          10  0.145718  0.231992  0.690472\n",
       "0   0.266815  0.089807          10  0.050000  0.233173  0.844202\n",
       "18  0.263140  0.088836           9  0.204683  0.050000  0.736920\n",
       "7   0.262716  0.094656          11  0.176057  0.173020  0.789664\n",
       "6   0.262028  0.083986          10  0.057984  0.119486  0.801961\n",
       "3   0.254952  0.089734           8  0.228030  0.250000  0.718774\n",
       "4   0.250968  0.113905           8  0.116173  0.096624  0.690027\n",
       "1   0.249829  0.072830          11  0.071085  0.249383  0.630468\n",
       "19  0.249544  0.086321          11  0.055084  0.213985  0.765648\n",
       "15  0.246727  0.113530          10  0.141656  0.050000  0.697260\n",
       "17  0.243816  0.109985           8  0.233924  0.129943  0.842333\n",
       "14  0.241082  0.079026           8  0.116551  0.050000  0.730768\n",
       "5   0.240893  0.060917          10  0.185282  0.250000  0.775107\n",
       "2   0.239515  0.092338           8  0.132911  0.209092  0.792174\n",
       "10  0.239275  0.108220           8  0.148082  0.250000  0.619519\n",
       "9   0.237153  0.076648           8  0.055995  0.176363  0.788550\n",
       "12  0.236619  0.081930           7  0.080531  0.050000  0.682565\n",
       "13  0.236362  0.114063           8  0.112736  0.050000  0.710442\n",
       "16  0.231125  0.071939           9  0.050000  0.250000  0.619707"
      ]
     },
     "execution_count": 128,
     "metadata": {},
     "output_type": "execute_result"
    }
   ],
   "source": [
    "df=to_df(experiment)\n",
    "df.iloc[df.nlargest(20, 'c_we').index]"
   ]
  },
  {
   "cell_type": "markdown",
   "metadata": {},
   "source": [
    "extract word distrib of model of choice"
   ]
  },
  {
   "cell_type": "code",
   "execution_count": 123,
   "metadata": {},
   "outputs": [],
   "source": [
    "exp_number = 10\n",
    "with open('res.txt', 'w') as fout:\n",
    "    for i in range(10):\n",
    "        fout.write('\\n')\n",
    "        for t in experiment['exp_'+str(exp_number)]['word_topic_pvalues']:\n",
    "            fout.write(t['words'][i]+' & ')"
   ]
  },
  {
   "cell_type": "code",
   "execution_count": 101,
   "metadata": {},
   "outputs": [
    {
     "name": "stdout",
     "output_type": "stream",
     "text": [
      "                            OLS Regression Results                            \n",
      "==============================================================================\n",
      "Dep. Variable:                   c_we   R-squared:                       0.230\n",
      "Model:                            OLS   Adj. R-squared:                  0.130\n",
      "Method:                 Least Squares   F-statistic:                     2.296\n",
      "Date:                Sat, 11 Nov 2023   Prob (F-statistic):              0.105\n",
      "Time:                        11:58:26   Log-Likelihood:                 69.101\n",
      "No. Observations:                  27   AIC:                            -130.2\n",
      "Df Residuals:                      23   BIC:                            -125.0\n",
      "Df Model:                           3                                         \n",
      "Covariance Type:            nonrobust                                         \n",
      "==============================================================================\n",
      "                 coef    std err          t      P>|t|      [0.025      0.975]\n",
      "------------------------------------------------------------------------------\n",
      "const          0.2505      0.024     10.277      0.000       0.200       0.301\n",
      "num_topics    -0.0030      0.002     -1.914      0.068      -0.006       0.000\n",
      "decay          0.0058      0.024      0.247      0.807      -0.043       0.055\n",
      "passes        -0.0041      0.002     -1.779      0.088      -0.009       0.001\n",
      "==============================================================================\n",
      "Omnibus:                        0.145   Durbin-Watson:                   1.884\n",
      "Prob(Omnibus):                  0.930   Jarque-Bera (JB):                0.358\n",
      "Skew:                          -0.072   Prob(JB):                        0.836\n",
      "Kurtosis:                       2.454   Cond. No.                         85.7\n",
      "==============================================================================\n",
      "\n",
      "Notes:\n",
      "[1] Standard Errors assume that the covariance matrix of the errors is correctly specified.\n"
     ]
    }
   ],
   "source": [
    "import statsmodels.api as sm\n",
    "y = df['c_we']\n",
    "x=df.drop(columns=['c_we', 'c_we_std'])\n",
    "x = sm.add_constant(x)\n",
    "model = sm.OLS(y, x).fit()\n",
    "print(model.summary())"
   ]
  },
  {
   "cell_type": "code",
   "execution_count": 129,
   "metadata": {},
   "outputs": [
    {
     "name": "stdout",
     "output_type": "stream",
     "text": [
      "topic 1 generated topic name:  People's Republic of China want to make a bill that makes it clear that white people want to make a bill that makes it clear that white people want to make a bill that makes it clear that white people want to make a bill that makes it clear that white people want to make a bill that makes it clear that white people want to make a bill that makes it clear that white people want to make a bill that makes it clear that white people want to\n",
      "topic 2 generated topic name:  A black man was killed by a police officer after he was arrested on suspicion of armed robbery and armed robbery.\n",
      "topic 3 generated topic name:  children are taken to a church for the first time in their lives after being vaccinated.\n",
      "topic 4 generated topic name:  image for tumblr: tumblr.com/tumblr/tumblr/tumblr/tumblr/tumblr/tumblr/tumblr/tumblr/tumblr/tumblr/tumblr/tumblr/tumblr/tumblr/tumblr/tumblr/tumbl\n",
      "topic 5 generated topic name:  Science/Tech\n",
      "topic 6 generated topic name:  World\n",
      "topic 7 generated topic name:  islamic religion in india - a video, photo, image, protest\n",
      "topic 8 generated topic name:  birdwatching\n",
      "topic 9 generated topic name:  Facebook page claiming to be the first state in the world to post a claim for free food in the past year\n",
      "topic 10 generated topic name:  World\n",
      "topic 11 generated topic name:  American presidential election, presidential election, presidential election, presidential election, presidential election, presidential election, presidential election, presidential election, presidential election, presidential election, presidential election, presidential election, presidential election, presidential election, presidential election, presidential election, presidential election, presidential election, presidential election, presidential election, presidential election, presidential election, presidential election, presidential election, presidential election, presidential election, presidential election, presidential election, presidential election, presidential election, presidential election, presidential election, presidential election\n"
     ]
    }
   ],
   "source": [
    "gen_topic_titles(experiment, exp_number)"
   ]
  },
  {
   "cell_type": "markdown",
   "metadata": {},
   "source": [
    "## UMASS coherence"
   ]
  },
  {
   "cell_type": "code",
   "execution_count": 106,
   "metadata": {},
   "outputs": [
    {
     "data": {
      "text/html": [
       "<div>\n",
       "<style scoped>\n",
       "    .dataframe tbody tr th:only-of-type {\n",
       "        vertical-align: middle;\n",
       "    }\n",
       "\n",
       "    .dataframe tbody tr th {\n",
       "        vertical-align: top;\n",
       "    }\n",
       "\n",
       "    .dataframe thead th {\n",
       "        text-align: right;\n",
       "    }\n",
       "</style>\n",
       "<table border=\"1\" class=\"dataframe\">\n",
       "  <thead>\n",
       "    <tr style=\"text-align: right;\">\n",
       "      <th></th>\n",
       "      <th>u_mass</th>\n",
       "      <th>u_mass_std</th>\n",
       "      <th>num_topics</th>\n",
       "      <th>decay</th>\n",
       "      <th>passes</th>\n",
       "    </tr>\n",
       "  </thead>\n",
       "  <tbody>\n",
       "    <tr>\n",
       "      <th>15</th>\n",
       "      <td>-0.699165</td>\n",
       "      <td>0.354241</td>\n",
       "      <td>10</td>\n",
       "      <td>0.90</td>\n",
       "      <td>1</td>\n",
       "    </tr>\n",
       "    <tr>\n",
       "      <th>24</th>\n",
       "      <td>-0.703127</td>\n",
       "      <td>0.659281</td>\n",
       "      <td>13</td>\n",
       "      <td>0.90</td>\n",
       "      <td>1</td>\n",
       "    </tr>\n",
       "    <tr>\n",
       "      <th>1</th>\n",
       "      <td>-0.706969</td>\n",
       "      <td>0.410704</td>\n",
       "      <td>7</td>\n",
       "      <td>0.50</td>\n",
       "      <td>2</td>\n",
       "    </tr>\n",
       "    <tr>\n",
       "      <th>3</th>\n",
       "      <td>-0.730332</td>\n",
       "      <td>0.540555</td>\n",
       "      <td>7</td>\n",
       "      <td>0.75</td>\n",
       "      <td>1</td>\n",
       "    </tr>\n",
       "    <tr>\n",
       "      <th>12</th>\n",
       "      <td>-0.761578</td>\n",
       "      <td>0.498565</td>\n",
       "      <td>10</td>\n",
       "      <td>0.75</td>\n",
       "      <td>1</td>\n",
       "    </tr>\n",
       "  </tbody>\n",
       "</table>\n",
       "</div>"
      ],
      "text/plain": [
       "      u_mass  u_mass_std  num_topics  decay  passes\n",
       "15 -0.699165    0.354241          10   0.90       1\n",
       "24 -0.703127    0.659281          13   0.90       1\n",
       "1  -0.706969    0.410704           7   0.50       2\n",
       "3  -0.730332    0.540555           7   0.75       1\n",
       "12 -0.761578    0.498565          10   0.75       1"
      ]
     },
     "execution_count": 106,
     "metadata": {},
     "output_type": "execute_result"
    }
   ],
   "source": [
    "df=to_df2(experiment)\n",
    "df.iloc[df.nlargest(5, 'u_mass').index]"
   ]
  },
  {
   "cell_type": "code",
   "execution_count": 107,
   "metadata": {},
   "outputs": [],
   "source": [
    "exp_number = 15\n",
    "\n",
    "with open('res.txt', 'w') as fout:\n",
    "    for i in range(10):\n",
    "        fout.write('\\n')\n",
    "        for t in experiment['exp_'+str(exp_number)]['word_topic_pvalues']:\n",
    "            fout.write(t['words'][i]+' & ')"
   ]
  },
  {
   "cell_type": "code",
   "execution_count": 112,
   "metadata": {},
   "outputs": [
    {
     "name": "stdout",
     "output_type": "stream",
     "text": [
      "topic 1 generated topic name:  Science/Tech\n",
      "topic 2 generated topic name:  Science/Tech\n",
      "topic 3 generated topic name:  Science/Tech\n",
      "topic 4 generated topic name:  Science/Tech\n",
      "topic 5 generated topic name:  Facebook\n",
      "topic 6 generated topic name:  Science/Tech\n",
      "topic 7 generated topic name:  Facebook - Facebook - Tagged with: u093e, u093e, u093e, u093e, u093e, u093e, u093e, u093e, u093e, u093e, u093e, u093e, u093e, u093e, u093e\n",
      "topic 8 generated topic name:  Science/Tech\n",
      "topic 9 generated topic name:  Science/Tech\n",
      "topic 10 generated topic name:  Science/Tech\n"
     ]
    }
   ],
   "source": [
    "gen_topic_titles(experiment, exp_number)"
   ]
  },
  {
   "cell_type": "code",
   "execution_count": 108,
   "metadata": {},
   "outputs": [
    {
     "name": "stdout",
     "output_type": "stream",
     "text": [
      "                            OLS Regression Results                            \n",
      "==============================================================================\n",
      "Dep. Variable:                 u_mass   R-squared:                       0.476\n",
      "Model:                            OLS   Adj. R-squared:                  0.408\n",
      "Method:                 Least Squares   F-statistic:                     6.965\n",
      "Date:                Sat, 11 Nov 2023   Prob (F-statistic):            0.00168\n",
      "Time:                        12:04:20   Log-Likelihood:                -6.4845\n",
      "No. Observations:                  27   AIC:                             20.97\n",
      "Df Residuals:                      23   BIC:                             26.15\n",
      "Df Model:                           3                                         \n",
      "Covariance Type:            nonrobust                                         \n",
      "==============================================================================\n",
      "                 coef    std err          t      P>|t|      [0.025      0.975]\n",
      "------------------------------------------------------------------------------\n",
      "const         -0.9334      0.401     -2.330      0.029      -1.762      -0.105\n",
      "num_topics    -0.0197      0.026     -0.754      0.459      -0.074       0.034\n",
      "decay          0.7102      0.389      1.827      0.081      -0.094       1.514\n",
      "passes        -0.1556      0.038     -4.122      0.000      -0.234      -0.077\n",
      "==============================================================================\n",
      "Omnibus:                       35.276   Durbin-Watson:                   2.124\n",
      "Prob(Omnibus):                  0.000   Jarque-Bera (JB):              102.235\n",
      "Skew:                          -2.527   Prob(JB):                     6.31e-23\n",
      "Kurtosis:                      11.082   Cond. No.                         85.7\n",
      "==============================================================================\n",
      "\n",
      "Notes:\n",
      "[1] Standard Errors assume that the covariance matrix of the errors is correctly specified.\n"
     ]
    }
   ],
   "source": [
    "y = df['u_mass']\n",
    "x=df.drop(columns=['u_mass', 'u_mass_std'])\n",
    "x = sm.add_constant(x)\n",
    "model = sm.OLS(y, x).fit()\n",
    "print(model.summary())"
   ]
  },
  {
   "cell_type": "markdown",
   "metadata": {},
   "source": [
    "### LDA exclusivity metric"
   ]
  },
  {
   "cell_type": "code",
   "execution_count": 113,
   "metadata": {},
   "outputs": [
    {
     "data": {
      "text/html": [
       "<div>\n",
       "<style scoped>\n",
       "    .dataframe tbody tr th:only-of-type {\n",
       "        vertical-align: middle;\n",
       "    }\n",
       "\n",
       "    .dataframe tbody tr th {\n",
       "        vertical-align: top;\n",
       "    }\n",
       "\n",
       "    .dataframe thead th {\n",
       "        text-align: right;\n",
       "    }\n",
       "</style>\n",
       "<table border=\"1\" class=\"dataframe\">\n",
       "  <thead>\n",
       "    <tr style=\"text-align: right;\">\n",
       "      <th></th>\n",
       "      <th>excl_we</th>\n",
       "      <th>excl_we_std</th>\n",
       "      <th>num_topics</th>\n",
       "      <th>decay</th>\n",
       "      <th>passes</th>\n",
       "    </tr>\n",
       "  </thead>\n",
       "  <tbody>\n",
       "    <tr>\n",
       "      <th>11</th>\n",
       "      <td>0.189541</td>\n",
       "      <td>0.117069</td>\n",
       "      <td>10</td>\n",
       "      <td>0.50</td>\n",
       "      <td>5</td>\n",
       "    </tr>\n",
       "    <tr>\n",
       "      <th>20</th>\n",
       "      <td>0.207283</td>\n",
       "      <td>0.074082</td>\n",
       "      <td>13</td>\n",
       "      <td>0.50</td>\n",
       "      <td>5</td>\n",
       "    </tr>\n",
       "    <tr>\n",
       "      <th>5</th>\n",
       "      <td>0.230796</td>\n",
       "      <td>0.094637</td>\n",
       "      <td>7</td>\n",
       "      <td>0.75</td>\n",
       "      <td>5</td>\n",
       "    </tr>\n",
       "    <tr>\n",
       "      <th>26</th>\n",
       "      <td>0.233819</td>\n",
       "      <td>0.131302</td>\n",
       "      <td>13</td>\n",
       "      <td>0.90</td>\n",
       "      <td>5</td>\n",
       "    </tr>\n",
       "    <tr>\n",
       "      <th>2</th>\n",
       "      <td>0.237208</td>\n",
       "      <td>0.101380</td>\n",
       "      <td>7</td>\n",
       "      <td>0.50</td>\n",
       "      <td>5</td>\n",
       "    </tr>\n",
       "  </tbody>\n",
       "</table>\n",
       "</div>"
      ],
      "text/plain": [
       "     excl_we  excl_we_std  num_topics  decay  passes\n",
       "11  0.189541     0.117069          10   0.50       5\n",
       "20  0.207283     0.074082          13   0.50       5\n",
       "5   0.230796     0.094637           7   0.75       5\n",
       "26  0.233819     0.131302          13   0.90       5\n",
       "2   0.237208     0.101380           7   0.50       5"
      ]
     },
     "execution_count": 113,
     "metadata": {},
     "output_type": "execute_result"
    }
   ],
   "source": [
    "df=to_df3(experiment)\n",
    "df.iloc[df.nsmallest(5, 'excl_we').index]"
   ]
  },
  {
   "cell_type": "code",
   "execution_count": 114,
   "metadata": {},
   "outputs": [],
   "source": [
    "exp_number = 11\n",
    "\n",
    "with open('res.txt', 'w') as fout:\n",
    "    for i in range(10):\n",
    "        fout.write('\\n')\n",
    "        for t in experiment['exp_'+ str(exp_number)]['word_topic_pvalues']:\n",
    "            fout.write(t['words'][i]+' & ')"
   ]
  },
  {
   "cell_type": "code",
   "execution_count": 119,
   "metadata": {},
   "outputs": [
    {
     "name": "stdout",
     "output_type": "stream",
     "text": [
      "topic 1 generated topic name:  presidential candidate trump claims he has been sworn in as president of the united states on fb\n",
      "topic 2 generated topic name:  Facebook\n",
      "topic 3 generated topic name:  Science/Tech\n",
      "topic 4 generated topic name:  Science/Tech\n",
      "topic 5 generated topic name:  Science/Tech\n",
      "topic 6 generated topic name:  Science/Tech\n",
      "topic 7 generated topic name:  Science/Tech\n",
      "topic 8 generated topic name:  Science/Tech\n",
      "topic 9 generated topic name:  Science/Tech\n",
      "topic 10 generated topic name:  Science/Tech\n"
     ]
    }
   ],
   "source": [
    "gen_topic_titles(experiment, exp_number)"
   ]
  },
  {
   "cell_type": "code",
   "execution_count": 115,
   "metadata": {},
   "outputs": [
    {
     "name": "stdout",
     "output_type": "stream",
     "text": [
      "                            OLS Regression Results                            \n",
      "==============================================================================\n",
      "Dep. Variable:                excl_we   R-squared:                       0.624\n",
      "Model:                            OLS   Adj. R-squared:                  0.575\n",
      "Method:                 Least Squares   F-statistic:                     12.72\n",
      "Date:                Sat, 11 Nov 2023   Prob (F-statistic):           4.16e-05\n",
      "Time:                        12:13:56   Log-Likelihood:                 63.413\n",
      "No. Observations:                  27   AIC:                            -118.8\n",
      "Df Residuals:                      23   BIC:                            -113.6\n",
      "Df Model:                           3                                         \n",
      "Covariance Type:            nonrobust                                         \n",
      "==============================================================================\n",
      "                 coef    std err          t      P>|t|      [0.025      0.975]\n",
      "------------------------------------------------------------------------------\n",
      "const          0.3155      0.030     10.484      0.000       0.253       0.378\n",
      "num_topics    -0.0022      0.002     -1.140      0.266      -0.006       0.002\n",
      "decay          0.0416      0.029      1.424      0.168      -0.019       0.102\n",
      "passes        -0.0167      0.003     -5.902      0.000      -0.023      -0.011\n",
      "==============================================================================\n",
      "Omnibus:                        0.109   Durbin-Watson:                   2.285\n",
      "Prob(Omnibus):                  0.947   Jarque-Bera (JB):                0.193\n",
      "Skew:                           0.129   Prob(JB):                        0.908\n",
      "Kurtosis:                       2.676   Cond. No.                         85.7\n",
      "==============================================================================\n",
      "\n",
      "Notes:\n",
      "[1] Standard Errors assume that the covariance matrix of the errors is correctly specified.\n"
     ]
    }
   ],
   "source": [
    "y = df['excl_we']\n",
    "x=df.drop(columns=['excl_we', 'excl_we_std'])\n",
    "x = sm.add_constant(x)\n",
    "model = sm.OLS(y, x).fit()\n",
    "print(model.summary())"
   ]
  },
  {
   "cell_type": "code",
   "execution_count": null,
   "metadata": {},
   "outputs": [],
   "source": []
  },
  {
   "cell_type": "code",
   "execution_count": null,
   "metadata": {},
   "outputs": [],
   "source": []
  },
  {
   "cell_type": "code",
   "execution_count": null,
   "metadata": {},
   "outputs": [],
   "source": []
  },
  {
   "cell_type": "code",
   "execution_count": null,
   "metadata": {},
   "outputs": [],
   "source": []
  }
 ],
 "metadata": {
  "kernelspec": {
   "display_name": "tomodapiArm",
   "language": "python",
   "name": "python3"
  },
  "language_info": {
   "codemirror_mode": {
    "name": "ipython",
    "version": 3
   },
   "file_extension": ".py",
   "mimetype": "text/x-python",
   "name": "python",
   "nbconvert_exporter": "python",
   "pygments_lexer": "ipython3",
   "version": "3.8.18"
  }
 },
 "nbformat": 4,
 "nbformat_minor": 2
}
