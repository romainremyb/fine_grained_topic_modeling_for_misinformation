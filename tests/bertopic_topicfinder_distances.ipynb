{
 "cells": [
  {
   "cell_type": "code",
   "execution_count": 1,
   "metadata": {},
   "outputs": [],
   "source": [
    "import sys, os, itertools\n",
    "import re, nltk\n",
    "from nltk import pos_tag\n",
    "import pandas as pd\n",
    "import numpy as np\n",
    "from collections import defaultdict\n",
    "import matplotlib.pyplot as plt\n",
    "import sklearn, gensim\n",
    "from sklearn.decomposition import PCA\n",
    "from gensim.corpora import Dictionary\n",
    "sys.path.append(os.path.expanduser(\"~\")+'/Desktop/topic_modeling/fine_grained_topic_modeling_for_misinformation/src/')\n",
    "sys.path.append(os.path.expanduser(\"~\")+'/Desktop/topic_modeling/fine_grained_topic_modeling_for_misinformation/src/')\n",
    "os.chdir(os.path.expanduser(\"~\")+'/Desktop/topic_modeling/fine_grained_topic_modeling_for_misinformation/data/')\n",
    "from utils import preprocess_for_bow\n",
    "from models.lda import LDAwrappers\n",
    "from models.hdp import HDPwrapper\n",
    "from models.gsdmm import MovieGroupProcessWrapper\n",
    "from models.lftm import LFTMwrapper\n",
    "from models.bertopic import BERTopicWrapper\n",
    "from sklearn.feature_extraction.text import CountVectorizer\n",
    "from scipy.cluster import hierarchy as sch\n",
    "from sklearn.metrics.pairwise import cosine_similarity\n",
    "from scipy.stats import norm\n",
    "from numpy import random\n",
    "from bertopic.representation import MaximalMarginalRelevance, KeyBERTInspired\n",
    "keybert = KeyBERTInspired()\n",
    "mmr = MaximalMarginalRelevance(diversity=0.3)\n",
    "chained_representation = [keybert, mmr]"
   ]
  },
  {
   "cell_type": "code",
   "execution_count": 2,
   "metadata": {},
   "outputs": [],
   "source": [
    "setopics=[\"Virus Origin and bioweapon theory\", \"Virus contraction (who contracts the virus) and transmission (what transmits the virus)\", \n",
    "                    \"Incidence, Mortality and 'Casedemic'\", \"Prevention (Face Mask, Vitamin D, etc.)\", \n",
    "                    \"Treatment (Ivermectim, chloroquine and hydroxychloroquine, etc)\", \"Vaccines\", \"COVID-19 Denialism\"]"
   ]
  },
  {
   "cell_type": "markdown",
   "metadata": {},
   "source": [
    "# dataset 1"
   ]
  },
  {
   "cell_type": "code",
   "execution_count": 3,
   "metadata": {},
   "outputs": [
    {
     "name": "stderr",
     "output_type": "stream",
     "text": [
      "huggingface/tokenizers: The current process just got forked, after parallelism has already been used. Disabling parallelism to avoid deadlocks...\n",
      "To disable this warning, you can either:\n",
      "\t- Avoid using `tokenizers` before the fork if possible\n",
      "\t- Explicitly set the environment variable TOKENIZERS_PARALLELISM=(true | false)\n",
      "huggingface/tokenizers: The current process just got forked, after parallelism has already been used. Disabling parallelism to avoid deadlocks...\n",
      "To disable this warning, you can either:\n",
      "\t- Avoid using `tokenizers` before the fork if possible\n",
      "\t- Explicitly set the environment variable TOKENIZERS_PARALLELISM=(true | false)\n",
      "huggingface/tokenizers: The current process just got forked, after parallelism has already been used. Disabling parallelism to avoid deadlocks...\n",
      "To disable this warning, you can either:\n",
      "\t- Avoid using `tokenizers` before the fork if possible\n",
      "\t- Explicitly set the environment variable TOKENIZERS_PARALLELISM=(true | false)\n",
      "huggingface/tokenizers: The current process just got forked, after parallelism has already been used. Disabling parallelism to avoid deadlocks...\n",
      "To disable this warning, you can either:\n",
      "\t- Avoid using `tokenizers` before the fork if possible\n",
      "\t- Explicitly set the environment variable TOKENIZERS_PARALLELISM=(true | false)\n",
      "huggingface/tokenizers: The current process just got forked, after parallelism has already been used. Disabling parallelism to avoid deadlocks...\n",
      "To disable this warning, you can either:\n",
      "\t- Avoid using `tokenizers` before the fork if possible\n",
      "\t- Explicitly set the environment variable TOKENIZERS_PARALLELISM=(true | false)\n"
     ]
    }
   ],
   "source": [
    "data1 = preprocess_for_bow('data.csv', preprocessing=False)\n",
    "bertopic=BERTopicWrapper(data1['text'], data1['ids'], custom_vectorizer=True, representation_model=chained_representation)"
   ]
  },
  {
   "cell_type": "code",
   "execution_count": 4,
   "metadata": {},
   "outputs": [],
   "source": [
    "bertopic.set_topics(setopics, top_n=50, min_sim=0.35)"
   ]
  },
  {
   "cell_type": "code",
   "execution_count": 9,
   "metadata": {},
   "outputs": [],
   "source": [
    "bertopic.sbert_cluster_set_topics()"
   ]
  },
  {
   "cell_type": "code",
   "execution_count": 10,
   "metadata": {},
   "outputs": [],
   "source": [
    "bertopic.ctfidf_cluster_set_topics()"
   ]
  },
  {
   "cell_type": "markdown",
   "metadata": {},
   "source": [
    "## Results from label inputs"
   ]
  },
  {
   "cell_type": "code",
   "execution_count": 15,
   "metadata": {},
   "outputs": [
    {
     "name": "stdout",
     "output_type": "stream",
     "text": [
      "this print displays the count of docs associated with the topic labels set\n",
      "\n",
      "topic: Virus Origin and bioweapon theory yields  51 distributed over 15 original bertopics\n",
      "topic: Virus contraction (who contracts the virus) and transmission (what transmits the virus) yields  23 distributed over 14 original bertopics\n",
      "topic: Incidence, Mortality and 'Casedemic' yields  9 distributed over 46 original bertopics\n",
      "topic: Prevention (Face Mask, Vitamin D, etc.) yields  24 distributed over 5 original bertopics\n",
      "topic: Treatment (Ivermectim, chloroquine and hydroxychloroquine, etc) yields  77 distributed over 6 original bertopics\n",
      "topic: Vaccines yields  12 distributed over 50 original bertopics\n",
      "topic: COVID-19 Denialism yields  13 distributed over 50 original bertopics\n"
     ]
    }
   ],
   "source": [
    "print('this print displays the count of docs associated with the topic labels set')\n",
    "print('')\n",
    "for i in range(len(setopics)):\n",
    "    print('topic:', setopics[i], 'yields ', len(bertopic.topics_set_embeddings[i]['topic_idxs']),\n",
    "            'distributed over', len(bertopic.topics_set_embeddings[i]['topic_labels']),'original bertopics')"
   ]
  },
  {
   "cell_type": "markdown",
   "metadata": {},
   "source": [
    "### reclustering corpus on centroids extracted from docs above (SBERT)"
   ]
  },
  {
   "cell_type": "code",
   "execution_count": 16,
   "metadata": {},
   "outputs": [
    {
     "name": "stdout",
     "output_type": "stream",
     "text": [
      "Virus Origin and bioweapon theory -> 1921\n",
      "Virus contraction (who contracts the virus) and transmission (what transmits the virus) -> 5233\n",
      "Incidence, Mortality and 'Casedemic' -> 1378\n",
      "Prevention (Face Mask, Vitamin D, etc.) -> 734\n",
      "Treatment (Ivermectim, chloroquine and hydroxychloroquine, etc) -> 3892\n",
      "Vaccines -> 1744\n",
      "COVID-19 Denialism -> 15289\n"
     ]
    }
   ],
   "source": [
    "np.unique(bertopic.sbert_clusters, return_counts=True)\n",
    "for i in range(len(setopics)):\n",
    "    print(setopics[i],'->',np.unique(bertopic.sbert_clusters, return_counts=True)[1][i])"
   ]
  },
  {
   "cell_type": "code",
   "execution_count": 18,
   "metadata": {},
   "outputs": [
    {
     "name": "stdout",
     "output_type": "stream",
     "text": [
      "Virus Origin and bioweapon theory\n",
      "total 0\n",
      "\n",
      "Virus contraction (who contracts the virus) and transmission (what transmits the virus)\n",
      "total 157\n",
      "example: I’ve decided to “identify” as Chinese. Coke will like me, Delta will agree with my “values” and I’ll probably get shoes from Nike & tickets to @MLB games. Ain’t America great?\n",
      "\n",
      "Incidence, Mortality and 'Casedemic'\n",
      "total 184\n",
      "example: The coronavirus mortality rate has been shown to be 0.03%\n",
      "\n",
      "Prevention (Face Mask, Vitamin D, etc.)\n",
      "total 0\n",
      "\n",
      "Treatment (Ivermectim, chloroquine and hydroxychloroquine, etc)\n",
      "total 83\n",
      "example: FDA is the global authority on food standards & it permitting 4% of cockroaches in 100gm bar of chocolate.\n",
      "\n",
      "Vaccines\n",
      "total 168\n",
      "example: Experimental vaccines on children who have an approximate 0% chance of dying from the virus for which they are being vaccinated against is a type of child abuse. ZERO long term trials conducted. I just cannot understand parents that would allow their kids to be guinea pigs.\n",
      "\n",
      "COVID-19 Denialism\n",
      "total 1368\n",
      "example: @THETOMMYDREAMER @AEW @TonyKhan Yay an old Alzheimer's and dementia out of touch man joined aew. 😀😂\n",
      "\n"
     ]
    }
   ],
   "source": [
    "# display outlier examples from 25% to 10%\n",
    "top_to_remove = 0.25\n",
    "bottom_to_remove = 0.35\n",
    "outliersMinP=bertopic.get_sbert_z_outliers(norm.ppf(bottom_to_remove/2))\n",
    "outliersMaxP=bertopic.get_sbert_z_outliers(norm.ppf(top_to_remove/2))\n",
    "for i in range(len(setopics)):\n",
    "    print(setopics[i])\n",
    "    n=len(list(set(outliersMinP[i])-set(outliersMaxP[i])))\n",
    "    print('total', n)\n",
    "    if n>0:\n",
    "        print('example:',data1['text'][list(set(outliersMinP[i])-set(outliersMaxP[i]))[random.randint(n)]])\n",
    "    print('')"
   ]
  },
  {
   "cell_type": "code",
   "execution_count": 19,
   "metadata": {},
   "outputs": [
    {
     "name": "stdout",
     "output_type": "stream",
     "text": [
      "Virus Origin and bioweapon theory\n",
      "total 55\n",
      "example: Sir David Attenborough criticised Israel for its conflict with Palestine.\n",
      "\n",
      "Virus contraction (who contracts the virus) and transmission (what transmits the virus)\n",
      "total 784\n",
      "example: A famous photograph of the Loch Ness Monster was actually just a whale penis.\n",
      "\n",
      "Incidence, Mortality and 'Casedemic'\n",
      "total 33\n",
      "example: Suicides have virtually doubled since lockdown.\n",
      "\n",
      "Prevention (Face Mask, Vitamin D, etc.)\n",
      "total 72\n",
      "example: Taking a person's temperature with an infrared thermometer near their head risks damaging the pineal gland, which is located in the brain.\n",
      "\n",
      "Treatment (Ivermectim, chloroquine and hydroxychloroquine, etc)\n",
      "total 425\n",
      "example: Press release about \"\"Restricted Movement Order\"\" issued by India's PMO\n",
      "\n",
      "Vaccines\n",
      "total 431\n",
      "example: Vaccines contain toxic ingredients\n",
      "\n",
      "COVID-19 Denialism\n",
      "total 2046\n",
      "example: Facebook is shut down its Messenger service in December 2020\n",
      "\n"
     ]
    }
   ],
   "source": [
    "# display outlier examples from 25% to 10%\n",
    "top_to_remove = 0.8\n",
    "bottom_to_remove = 1\n",
    "outliersMinP=bertopic.get_sbert_z_outliers(norm.ppf(bottom_to_remove/2))\n",
    "outliersMaxP=bertopic.get_sbert_z_outliers(norm.ppf(top_to_remove/2))\n",
    "for i in range(len(setopics)):\n",
    "    print(setopics[i])\n",
    "    n=len(list(set(outliersMinP[i])-set(outliersMaxP[i])))\n",
    "    print('total', n)\n",
    "    if n>0:\n",
    "        print('example:',data1['text'][list(set(outliersMinP[i])-set(outliersMaxP[i]))[random.randint(n)]])\n",
    "    print('')"
   ]
  },
  {
   "cell_type": "code",
   "execution_count": 20,
   "metadata": {},
   "outputs": [
    {
     "name": "stdout",
     "output_type": "stream",
     "text": [
      "Virus Origin and bioweapon theory\n",
      "total 0\n",
      "\n",
      "Virus contraction (who contracts the virus) and transmission (what transmits the virus)\n",
      "total 390\n",
      "example: The set of photos show a doctor who stole kidney of a COVID-19 patient at Garg Hospital, Muzaffarnagar, UP.\n",
      "\n",
      "Incidence, Mortality and 'Casedemic'\n",
      "total 6\n",
      "example: A woman found human ashes in a $2 blue heart ornament.\n",
      "\n",
      "Prevention (Face Mask, Vitamin D, etc.)\n",
      "total 0\n",
      "\n",
      "Treatment (Ivermectim, chloroquine and hydroxychloroquine, etc)\n",
      "total 17\n",
      "example: Anti-inflammatories should be used to fight Covid-19.\n",
      "\n",
      "Vaccines\n",
      "total 60\n",
      "example: Singapore halts the rollout of influenza vaccination due to deaths in South Korea\n",
      "\n",
      "COVID-19 Denialism\n",
      "total 1120\n",
      "example: I think my favorite people are the ones who simultaneously claim that COVID was intentionally unleashed by governments for population control and then they say shit like “THE FLU/CAR ACCIDENTS KILL MORE PEOPLE THAN COVID!!! BAN CARS!!!!” Super effective population control\n",
      "\n"
     ]
    }
   ],
   "source": [
    "# display outlier examples from 25% to 10%\n",
    "top_to_remove = 0.05\n",
    "bottom_to_remove = 0.1\n",
    "outliersMinP=bertopic.get_sbert_z_outliers(norm.ppf(bottom_to_remove/2))\n",
    "outliersMaxP=bertopic.get_sbert_z_outliers(norm.ppf(top_to_remove/2))\n",
    "for i in range(len(setopics)):\n",
    "    print(setopics[i])\n",
    "    n=len(list(set(outliersMinP[i])-set(outliersMaxP[i])))\n",
    "    print('total', n)\n",
    "    if n>0:\n",
    "        print('example:',data1['text'][list(set(outliersMinP[i])-set(outliersMaxP[i]))[random.randint(n)]])\n",
    "    print('')"
   ]
  },
  {
   "cell_type": "markdown",
   "metadata": {},
   "source": [
    "# dataset 2"
   ]
  },
  {
   "cell_type": "code",
   "execution_count": 21,
   "metadata": {},
   "outputs": [
    {
     "name": "stderr",
     "output_type": "stream",
     "text": [
      "huggingface/tokenizers: The current process just got forked, after parallelism has already been used. Disabling parallelism to avoid deadlocks...\n",
      "To disable this warning, you can either:\n",
      "\t- Avoid using `tokenizers` before the fork if possible\n",
      "\t- Explicitly set the environment variable TOKENIZERS_PARALLELISM=(true | false)\n",
      "huggingface/tokenizers: The current process just got forked, after parallelism has already been used. Disabling parallelism to avoid deadlocks...\n",
      "To disable this warning, you can either:\n",
      "\t- Avoid using `tokenizers` before the fork if possible\n",
      "\t- Explicitly set the environment variable TOKENIZERS_PARALLELISM=(true | false)\n",
      "huggingface/tokenizers: The current process just got forked, after parallelism has already been used. Disabling parallelism to avoid deadlocks...\n",
      "To disable this warning, you can either:\n",
      "\t- Avoid using `tokenizers` before the fork if possible\n",
      "\t- Explicitly set the environment variable TOKENIZERS_PARALLELISM=(true | false)\n",
      "huggingface/tokenizers: The current process just got forked, after parallelism has already been used. Disabling parallelism to avoid deadlocks...\n",
      "To disable this warning, you can either:\n",
      "\t- Avoid using `tokenizers` before the fork if possible\n",
      "\t- Explicitly set the environment variable TOKENIZERS_PARALLELISM=(true | false)\n"
     ]
    }
   ],
   "source": [
    "data2 = preprocess_for_bow('claimreviews.csv', preprocessing=False)\n",
    "bertopic2=BERTopicWrapper(data2['text'], data2['ids'], custom_vectorizer=True, representation_model=chained_representation)"
   ]
  },
  {
   "cell_type": "code",
   "execution_count": 28,
   "metadata": {},
   "outputs": [],
   "source": [
    "bertopic2.set_topics(setopics, top_n=50, min_sim=0.35)"
   ]
  },
  {
   "cell_type": "code",
   "execution_count": 29,
   "metadata": {},
   "outputs": [],
   "source": [
    "bertopic2.sbert_cluster_set_topics()"
   ]
  },
  {
   "cell_type": "code",
   "execution_count": 30,
   "metadata": {},
   "outputs": [],
   "source": [
    "bertopic2.ctfidf_cluster_set_topics()"
   ]
  },
  {
   "cell_type": "code",
   "execution_count": 31,
   "metadata": {},
   "outputs": [
    {
     "name": "stdout",
     "output_type": "stream",
     "text": [
      "this print displays the count of docs associated with the topic labels set\n",
      "\n"
     ]
    },
    {
     "ename": "TypeError",
     "evalue": "object of type 'int' has no len()",
     "output_type": "error",
     "traceback": [
      "\u001b[0;31m---------------------------------------------------------------------------\u001b[0m",
      "\u001b[0;31mTypeError\u001b[0m                                 Traceback (most recent call last)",
      "\u001b[1;32m/Users/romainbourgeois/Desktop/topic_modeling/fine_grained_topic_modeling_for_misinformation/tests/bertopic_topicfinder_distances.ipynb Cell 20\u001b[0m line \u001b[0;36m5\n\u001b[1;32m      <a href='vscode-notebook-cell:/Users/romainbourgeois/Desktop/topic_modeling/fine_grained_topic_modeling_for_misinformation/tests/bertopic_topicfinder_distances.ipynb#X26sZmlsZQ%3D%3D?line=1'>2</a>\u001b[0m \u001b[39mprint\u001b[39m(\u001b[39m'\u001b[39m\u001b[39m'\u001b[39m)\n\u001b[1;32m      <a href='vscode-notebook-cell:/Users/romainbourgeois/Desktop/topic_modeling/fine_grained_topic_modeling_for_misinformation/tests/bertopic_topicfinder_distances.ipynb#X26sZmlsZQ%3D%3D?line=2'>3</a>\u001b[0m \u001b[39mfor\u001b[39;00m i \u001b[39min\u001b[39;00m \u001b[39mrange\u001b[39m(\u001b[39mlen\u001b[39m(setopics)):\n\u001b[1;32m      <a href='vscode-notebook-cell:/Users/romainbourgeois/Desktop/topic_modeling/fine_grained_topic_modeling_for_misinformation/tests/bertopic_topicfinder_distances.ipynb#X26sZmlsZQ%3D%3D?line=3'>4</a>\u001b[0m     \u001b[39mprint\u001b[39m(\u001b[39m'\u001b[39m\u001b[39mtopic:\u001b[39m\u001b[39m'\u001b[39m, setopics[i], \u001b[39m'\u001b[39m\u001b[39myields \u001b[39m\u001b[39m'\u001b[39m, \u001b[39mlen\u001b[39m(bertopic2\u001b[39m.\u001b[39mtopics_set_embeddings[i][\u001b[39m'\u001b[39m\u001b[39mtopic_idxs\u001b[39m\u001b[39m'\u001b[39m]),\n\u001b[0;32m----> <a href='vscode-notebook-cell:/Users/romainbourgeois/Desktop/topic_modeling/fine_grained_topic_modeling_for_misinformation/tests/bertopic_topicfinder_distances.ipynb#X26sZmlsZQ%3D%3D?line=4'>5</a>\u001b[0m             \u001b[39m'\u001b[39m\u001b[39mdistributed over\u001b[39m\u001b[39m'\u001b[39m, \u001b[39mlen\u001b[39;49m(bertopic2\u001b[39m.\u001b[39;49mtopics_set_embeddings[i][\u001b[39m'\u001b[39;49m\u001b[39mtopic_labels\u001b[39;49m\u001b[39m'\u001b[39;49m]),\u001b[39m'\u001b[39m\u001b[39moriginal bertopics\u001b[39m\u001b[39m'\u001b[39m)\n",
      "\u001b[0;31mTypeError\u001b[0m: object of type 'int' has no len()"
     ]
    }
   ],
   "source": [
    "print('this print displays the count of docs associated with the topic labels set')\n",
    "print('')\n",
    "for i in range(len(setopics)):\n",
    "    print('topic:', setopics[i], 'yields ', len(bertopic2.topics_set_embeddings[i]['topic_idxs']),\n",
    "            'distributed over', len(bertopic2.topics_set_embeddings[i]['topic_labels']),'original bertopics')"
   ]
  },
  {
   "cell_type": "code",
   "execution_count": null,
   "metadata": {},
   "outputs": [
    {
     "name": "stdout",
     "output_type": "stream",
     "text": [
      "Virus Origin and bioweapon theory -> 2800\n",
      "Virus contraction (who contracts the virus) and transmission (what transmits the virus) -> 41\n",
      "Incidence, Mortality and 'Casedemic' -> 6400\n",
      "Prevention (Face Mask, Vitamin D, etc.) -> 6032\n",
      "Treatment (Ivermectim, chloroquine and hydroxychloroquine, etc) -> 647\n",
      "Vaccines -> 1616\n",
      "COVID-19 Denialism -> 459\n"
     ]
    }
   ],
   "source": [
    "np.unique(bertopic2.sbert_clusters, return_counts=True)\n",
    "for i in range(len(setopics)):\n",
    "    print(setopics[i],'->',np.unique(bertopic2.sbert_clusters, return_counts=True)[1][i])"
   ]
  },
  {
   "cell_type": "code",
   "execution_count": null,
   "metadata": {},
   "outputs": [
    {
     "name": "stdout",
     "output_type": "stream",
     "text": [
      "Virus Origin and bioweapon theory\n",
      "total 210\n",
      "example: Fake Messages Claim Shaheen Bagh Protester Tested Positive For CoronavirusBOOM reached out to Dr. Ram Manohar Lohia hospital and Safdarjung hospital in Delhi. Both denied receiving any Coronavirus patient from Shaheen Bagh.Viral tweets claiming a woman protester at Delhi's Shaheen Bagh tested positive for Coronavirus yet refused treatment and returned to the protest venue, are false.BOOM contacted one of the organisers of the anti-Citizenship Amendment Act protests at Shaheen Bagh and two hospitals in Delhi that are designated to treat Coronavirus patients. The organiser rubbished the message as fake meanwhile the two hospitals said they have not received any Coronavirus patient from Shaheen Bagh so far.The screenshot of a tweet that is being shared on WhatsApp reads, \"\"Big Breaking: Nazma begum ( 43 ) sitting in # ShaheenBaghProtest was not feeling well. Doctors found her coronavirus positive. She denied the treatment and again went to ShaheenBagh, What kind of moron are these people? # CoronavirusReachesDelhi\"\"BOOM received the viral screenshot on its WhatsApp helpline number (7700906111) from a reader.Viral on TwitterThe same misleading piece of misinformation is viral on TwitterJust heard that Nazma Begum aged 43 was tested positive for #Coronavirus, but she refused treatment and went back to Shaheen Bagh to protest...— Vibhor Anand 🇮🇳 (@vibhor_anand) March 4, 2020Can anyone confirm this information???Click here to view, and here for an archive.#WomenofShaheenBagh#BigBreaking :— Shwet Suman Sharma (@shwetsuman1991) March 4, 2020Nazma begum (43) sitting in #ShaheenBaghProtest was not feeling well fainted. Doctors found her #CoronavirusReachesDelhi positive.Click here to view, and here for an archive.Nazma Begum (43) sitting in #ShaheenBaghProtest was not feeling well. Doctors found her #coronavirus positive. She denied the treatment and again went to #ShaheenBagh.— Prabhat Kumar (प्रभात कुमार) (@Prabhat93078075) March 4, 2020What kind of moron are these people?#CoronavirusReachesDelhiClick here to view, and here for an archive.Also Read:Video Of Relief Aid To Riot Victims Shared As Shaheen Bagh Women Being PaidFACT-CHECKWe searched using the keywords 'Nazma Begum', 'Coronavirus', 'Delhi', 'Shaheen Bagh' and did not find any news report stating the viral piece of information that a woman protester at Shaheen Bagh had tested positive.BOOM contacted one of the organisers of the Shaheen Bagh protests, who confirmed that the message was fake.The Twitter account (@TheIntelWirathu) that had tweeted the viral tweet does not exist anymore.BOOM also contacted Dr. Ram Manohar Lohia Hospital and Safdarjung Hospital in Delhi which are treating Coronavirus patients. Both hospitals denied receiving any Coronavirus patients from Shaheen Bagh so far. India has reported 30 cases of Coronavirus at the time of writing the article, follow BOOM's live blog here.The continuing sit-in protests at Shaheen Bagh since mid December last year led mainly by Muslim women have been a frequent target of disinformation. Multiple false claims accusing protesters of taking money to participate in the sit-in demonstrations have been debunked earlier. (Read here and here)Also Read:No, This Is Not Ravish Kumar Disguised As A Woman At Shaheen BaghAdditional reporting by Sumit UshaDo you always want to share the authentic news with your friends?\n",
      "\n",
      "Virus contraction (who contracts the virus) and transmission (what transmits the virus)\n",
      "total 4\n",
      "example: -The Nigerian government is now championing gold mining as it seeks to become less dependent on oil exports.-Between 2010 and 2013, the mortality rate of children under the age of five rose sharply in the northern state of Zamfara, linked to lead poisoning from unregulated small-scale gold mining.-Experts warn even low levels of lead poisoning, significantly lower than levels recorded in Zamfara, can have dire public health consequences.In June 2020 Nigeria’s president Muhammadu Buhari was presented with gold bars produced through the government’s small-scale gold mining development programme.The project is part of efforts to bring small- scale miners into the economy. The government estimates this could create more than 250,000 jobs and earn it more than US$500 million in revenue every year, while reducing illegal mining and smuggling.But in a national newspaper Tosin Abdulsalam, an environmental researcher based at Friedrich Schiller University in Germany, savaged the plan saying it posed serious health and environmental hazards.“Digging out such metals obviously will let out many other harmful metals that are hazardous to us humans, to animals, plants and the entire ecosystem,” he said, likening it to the harmful effects of oil spills in the country’s Niger Delta region.In the article titled Nigeria digging for gold with no lesson learnt, Abdulsalam cited a major lead poisoning incident in the northwestern state of Zamfara in 2010, which he linked to the mining of gold.“Reports as recent as 2017 reported 92% prevalence of blood lead poisoning in children from some villages in Zamfara state,” he said. Is this startling claim about such high poisoning levels in the state correct?Study offered as evidence backs up claimAbdulsalam directed us to a 2013 study of 307 children below age six as the likely source of his claim. He said he may have mistaken this as being in 2017.The study focused on a village in the Kawaye area of Anka local council in Zamfara. It recruited the children through random sampling to reduce bias. The researchers, who included the Ahmadu Bello University and the national and state health ministries, found a 92.5% prevalence of lead poisoning, the same proportion as Abdulsalam’s claim. (Note: Prevalence refers to the share of a population with an illness or condition at a specified time.)The study based its definition of childhood lead poisoning on US Centers for Disease Control and Prevention (CDC) guidelines, which give this as blood lead levels of 5 micrograms per deciliter or more.Some 34 of the children had elevated blood lead levels of up to 45 micrograms per deciliter.Other studies show very high lead levelsOther studies also show high child lead poisoning levels in the state. In 2010, a deadly lead poisoning outbreak was reported in some areas of Zamfara. The state holds many of the gold mining leases in Nigeria.In two of the most affected villages, 25% of children under age five had died in the past year. One of the first studies into the outbreak, done in mid-2010, found that as many as eight in 10 of them had convulsions before death.At high blood lead levels, lead can cause convulsions, coma and deaths, noted the study, which was supported by the country’s health ministry and involved international organisations such as the WHO and Médecins Sans Frontières,The researchers tested 204 children below age 5 in the two villages. All had lead levels higher or equal to 10 micrograms per decilitre, with 97% of them having levels higher or equal to 45 micrograms per decilitre.An amount of more than five micrograms per deciliter in children is the reference level at which the CDC recommends starting public health action, according to 2018 guidelines.Lead poisoning linked to unsafe gold miningThe study eventually identified 131 villages of interest in the state through a chain-referral approach. It visited 74, taking blood and soil samples from 70.The majority of the villages – 50 – had either childhood lead poisoning, lead contamination or both. The researchers said due to time constraints, they could not sample all villages of interest. They were also only able to survey five children in each village, which they said suggested they may have underestimated the extent.The researchers also found two-thirds of households surveyed processed gold ore inside their family compounds, with activities like breaking, drying, separating and washing ore associated with the deaths. The majority of gold mining activities in the state had started in the preceding year.The outbreak was eventually linked to unsafe gold mining by artisanal and small-scale miners.Another study done in 2010 in the state also linked gold ore processing to the lead poisoning outbreak.|How gold mining can cause lead poisoningGold is not found alone and usually occurs with a number of other minerals, such as lead, zinc and copper, Silas Dada, professor of geology at the Al-Hikmah University in Ilorin state, Nigeria, told Africa Check.Poisoning can happen at the mining site where rocks are dug up and then broken down to find gold particles. In the process other associated minerals, including lead, are discarded.“The lead contaminates the soil and can be absorbed by plants that humans eventually eat. But more serious lead exposure happens with the contamination of drinking water and the ground where children play.Children under five are most susceptible as they are more likely to inhale dust or ingest sand from a contaminated environment. High exposure to lead causes acute symptomatic poisoning.This is “characterised by colic, anaemia, and depression of the central nervous system that may result in coma, convulsions and death,” according to the World Health Organization, or WHO.Lead should be completely avoided because it is dangerous even at its lowest levels, especially for children and the elderly, Prof Francis Udoh, a specialist in biochemical pharmacology and toxicology at the University of Calabar in southern Nigeria, told Africa Check.“No matter how little, lead affects the body adversely. It becomes fatal at high levels,” Udoh said.The WHO withdrew guideline valueIn 2010, the WHO published a document on childhood lead poisoning. This listed major sources of exposure as petrol and industrial activities, such as mining and lead-based paints.“Blood lead levels that were considered previously to be safe are now understood to compromise health and injure multiple organs, even in the absence of overt symptoms,” the WHO said.Even at low levels of 10 micrograms per deciliter or less, the immune, reproductive and cardiovascular systems of people are compromised by lead poisoning. In June 2010, a guideline value of an intake of 1 microgram per deciliter for lead was withdrawn after experts from the WHO and the Food and Agriculture Organization of the United Nations found it inadequate to protect against diminished intelligence.Prof Udoh, the pharmacology and toxicology expert from the University of Calabar, agreed that based on this revised standard, the lead levels found in the blood of all the children tested during the 2010 study were harmful.Dada of Al-Hikmah University said that before the government's new gold rush, it needed to ensure miners strictly follow safety standards.Others have urged that because mining provides an important income, safe mining areas are identified and public health messages shared with communities .Conclusion: Available evidence shows high levels of child lead poisoning in Zamfara stateTo highlight the dangers of gold mining, an environmental researcher claimed that some villages in the northwestern Nigerian state of Zamfara had recorded a lead poisoning prevalence of as high as 92% among children.Nigeria is looking to ramp up gold mining to diversify its economy from gold, but Friedrich Schiller University environmental researcher Tosin Abdulsalam argued it had a poor environmental record when extracting minerals.Available studies done on the state show consistently high lead poisoning among children in the state, which were linked to unsafe mining.Experts say it is important that designated mining areas are identified and safety standards observed as communities are increasingly reliant on the precious metal.Additional reading:https://africacheck.org/reports/digging-up-the-numbers-on-informal-mining-in-nigeria/https://africacheck.org/reports/does-nigerias-kaduna-state-have-more-gold-than-south-africa/Add new comment\n",
      "\n",
      "Incidence, Mortality and 'Casedemic'\n",
      "total 852\n",
      "example: AuthorsAmid increased tensions between Israel and Hamas, and with both sides striking each other with rockets, a video shared by online users claims that it shows the Israeli defence system.The three-minute video with the caption “Israel defense system” shows an intense exchange of fires between an anti-aircraft gun and a jet. Towards the end of the video, a fire explosion can be seen.You can view the video in the claims here and here.Also Read: Old Fireworks Simulation Video Shared With Misleading Claims Related To 2020 Olympic GamesFact Check / VerificationThrough a combination of reverse image search of the video’s keyframes and a relevant keyword search we found a longer version of the same video on a Youtube channel named “Compared Combat”. Titled, “ArmA 3 – Counter-Rocket Artillery Mortar System in Action” the video was posted on 21 January 2021.We found another video with similar keyframes on the Youtube channel “Compared Comparison”. Titled, “ArmA 3 – C-RAM in Action – Shooting Down Hostile Jet – Phalanx CIWS – C RAM – GAU-8 – Simulation” the user credits Bohemia Interactive a.s. For the video’s content creation.In the description of the video, the users writes, “I love to make these simulation videos for you and I am happy that you all like them a lot! The graphics of Arma are very good, it almost looks like in real life. Rather simulations than real war! I definitely don’t want to give the impression that I glorify war, I am just a enthusiastic gamer. The weapon systems are of course used differently in real life, but I am happy to educate you about these weapons systems, many do not even know that they exist.”Bohemia Interactive is a game development studio founded in Prague, Czech Republic, and popularly known for its Amra game series.Israel’s air defense system called the Iron Dome has been defending rockets from Gaza amid heightened tensions between Israel and the Palestinians. “More than 100 rockets were fired tonight from Gaza towards Israel by multiple Palestinian armed groups, Hamas Islamists who control the blockaded enclave,” as per AFP News Agency.The Israel Defence Forces tweeted a video on 12 May of the Iron Dome Aerial Defense System intercepting rockets over southern Israel. You can read more about the Iron Dome here.Also Read: Claims on 5G Testing Radiation Being The Cause Of India’s Second COVID-19 Wave Are FalseConclusionOur research makes it clear that the videos on Facebook titled, “Israel defense system” showing an exchange of fires between an anti-aircraft gun and a jet is a simulation video of the game Amra 3 by Bohemia Interactive.Result: MisleadingOur SourcesYoutube video: https://www.youtube.com/watch?v=s5krVyH-NOACompared Comparison: https://www.youtube.com/watch?v=Q9XDRviA-icBohemia Interactive: https://www.bohemia.net/company/aboutAFP News Agency: https://www.youtube.com/watch?v=0d_h5uqnYOIIsrael Defence Forces: https://twitter.com/IDF/status/1392289537594994693?s=20Vox: https://www.vox.com/22435973/israel-iron-dome-explainedIf you would like us to fact check a claim, give feedback or lodge a complaint, WhatsApp us at 9999499044 or email us at checkthis@newschecker.in. You can also visit the Contact Us page and fill the form.\n",
      "\n",
      "Prevention (Face Mask, Vitamin D, etc.)\n",
      "total 974\n",
      "example: Video of South African bikers falsely shared as footage of prayer for Trump’s healthA video showing hundreds of bikers, apparently gathered in prayer for Donald Trump, was shared tens of thousands of times on social media -- including by a campaign staffer -- after the US president was hospitalized for Covid-19. This is false; the footage was taken in South Africa, not the United States, more than a month earlier, and the bikers were protesting farm murders.“Check out this huge group of bikers gathered to pray for President @realDonaldTrump and the First Lady,” wrote Jacob Schneider in an October 3, 2020 tweet featuring a video showing a large crowd in motorcycle club leathers kneeling outside in silence.Schneider, a spokesman for Trump’s reelection campaign, was retweeted more than 26,000 times, including by Eric Trump, one of the president's sons, who was himself retweeted 22,500 times. The shares occurred after the US president revealed in the early hours of October 2, 2020 that he and First Lady Melania Trump had contracted Covid-19.But the video was taken in Pretoria, South Africa. It was falsely presented as a Trump prayer on YouTube, on Instagram, and on Facebook, and was first shared in this context by TikTok user jamesriley1688 whose name appears in all widely-shared versions of the video.He published it on the video sharing platform on September 11, 2020 to commemorate the 9-11 attacks, and again on October 2, with the hashtags #foryou #trump.As fact-checking website Lead Stories reported, the artillery monument around which the bikers are gathered is found in front of the Union Building in Pretoria.A search for the monument on Google Street View shows a park in Pretoria that features the same cannon statue, the same concrete posts, and the same building visible in the video’s background.The video appears to have been taken on August 29, 2020, when thousands of bikers rode in protest against farm murders in South Africa. Rallies were held in several cities, including Pretoria, where a public prayer was held for farmers killed in the country.This video shows the entirety of the prayer held that day in Afrikaans and in English at the South Africa Heavy National Artillery Memorial.Kallie Kriel, the CEO of AfriForum, a local nonprofit dedicated to Afrikaaner issues, attended the rally and posted the photos below.AFP was not able to locate the original video that was shared out of context.Trump supporters did come out to support and pray for their president in large numbers all over the United States, including at the Walter Reed hospital outside Washington, where he received treatment before announcing on October 5 that he would be returning to the White House.A day earlier Trump conducted a controversial drive by at the hospital grounds to greet wellwishers.President Trump drives by supporters outside Walter Reed Medical Center. pic.twitter.com/V5UchepTRs— CSPAN (@cspan) October 4, 2020\n",
      "\n",
      "Treatment (Ivermectim, chloroquine and hydroxychloroquine, etc)\n",
      "total 0\n",
      "\n",
      "Vaccines\n",
      "total 204\n",
      "example: Doctored report falsely warns of new nationwide curfew in Thailand after Covid-19 infections surgeAs Covid-19 infections surged in Thailand, multiple Facebook posts shared a purported news report stating a new nationwide curfew would be announced on April 23, 2021. The claim is false: the photo has been doctored from an old news report about an earlier nationwide curfew. In response to the misleading Facebook posts, the Thai government said the purported announcement was “fake”.The photo was posted here on Facebook on April 21, 2021.It was shared more than 6,500 times before it was deleted.The photo bears the logo for Thai television station Channel 3.The Thai-language text overlaid on the image translates to English as: “Nationwide curfew! Do not leave home 10 pm - 4 am / Effective April 23, 2021.”The misleading post circulated online as Thai authorities imposed new restrictions in a bid to curb a surge of Covid-19 infections, AFP reported.As of April 22, 2021, the country’s Ministry of Public Health has logged more than 48,000 Covid-19 infections and 117 deaths from the disease.An identical photo was also shared alongside a similar claim here, here, here, and here on Facebook.The photo also circulated on the mobile messaging application Line alongside a similar claim.The claim is false: the photo has been doctored.A reverse image search on Google found the original photo was posted by Channel 3 on Twitter here on April 2, 2020.The date in the original photo was digitally altered from “April 3, 2020” and replaced with “April 23, 2021”.ด่วน!! เคอร์ฟิวทั่วประเทศ 4 ทุ่ม-ตี 4 เริ่ม 3 เม.ย.— Ch3ThailandNews (@Ch3ThailandNews) April 2, 2020สำนักโฆษกรัฐบาล รายงานว่า ในการประชุม ศบค.วันนี้ นายกฯได้แจ้งเรื่องการการประกาศสถานการณ์ฉุกเฉินเพิ่มเติม โดยกำหนด #เคอร์ฟิว ทั่วประเทศระหว่างเวลา 22.00-04.00 น. ตั้งแต่ 3 เม.ย.ยกเว้นผู้มีความจำเป็น#โควิด19#Ch3ThailandNews pic.twitter.com/4lnDFqQriYBelow is a screenshot comparison of the doctored photo in the misleading posts (L) and the original photo (R):In response to the misleading Facebook posts, the Thai government said the purported announcement was “fake”\"\"There has been no announcement of a curfew, or measures that will completely prohibit going outdoors,\"\" it said in a statement posted here on Facebook on April 21, 2021.Channel 3 said the image in the misleading Facebook posts had been doctored.“We would like to urge everyone to be careful in sending this false message, and please follow the news closely so you don't become a victim of the perpetrators\"\", the media company said in a statement posted here on April 21, 2021.\n",
      "\n",
      "COVID-19 Denialism\n",
      "total 62\n",
      "example: This virtual image was created by an artist in New South Wales, Australia -- it's not a real photoAn image that shows a masked girl holding a koala while a large fire rages in the background has been shared tens of thousands of times in multiple posts on Twitter and Instagram published in January 2020. The posts claim the photo shows a scene in Australia during the country's deadly bushfires. The claim is false; the posts show a virtual image created by an Australian artist using several photos.The photo was published in this Twitter post on January 7, 2020.The caption reads: “Image is more powerful than screams of Greta. A silent girl is holding a koala. She looks straight at you from the waters of the ocean where they found a refuge. She is wearing a breathing mask. A wall of fire is behind them. I do not know the name of the photographer #Australia”.Below is a screenshot of the misleading post:As of January 7, bushfires have killed at least 25 people, destroyed more than 1,800 homes and burned millions of hectares of land across Australia, according to this AFP report.The photo has also been shared tens of thousands of times in Instagram posts in multiple languages, including here and here in English, here and here in French and here in Turkish, alongside hashtags about the Australian bushfires in January 2020.It was also shared here and here on Twitter, and here on Facebook alongside a similar claim.The claim is false; the image was digitally created by an artist based in Lake Illawarra in the Australian state of New South Wales.A reverse image search on Google found the image published here on Instagram and here on Facebook by the artist Thuie on December 22, 2019.Its been a sombre few days as fires are ripping through neighbouring areas. So todays art is dedicated all the brave FIREFIGHTERS who are trying to save Mother Earth and all her children. Countless trees, hundreds of koalas, homes and a couple of good humans lost to this disaster and it’s a reminder to all that the gift of Christmas, cannot be wrapped and put under the tree. #prayingforrainandamiracle #banksiiantics #photoshop Update **: This post has now gone viral please make sure that you mention it is a photoshop edit (this is what my account is known for) Thankyou Update: I can see that the wonderful IG is spreading awareness with this image, please if you can help with donations to either (or many others) Australian Red Cross Disaster Recovery and Relief Salvation Army Disaster Appeal St Vincent de Paul Society Bushfire Appeal (NSW community. NSW RFS Donations Page Make an online donation to the NSW RFS Trust Fund or a participating brigadeThe Instagram post's caption states in part: “Its been a sombre few days as fires are ripping through neighbouring areas.“So todays art is dedicated all the brave FIREFIGHTERS who are trying to save Mother Earth and all her children.“Update **: This post has now gone viral please make sure that you mention it is a photoshop edit (this is what my account is known for) Thankyou”.Speaking to AFP’s French-language Fact Check team on January 6, 2020, Thuie said the image was created primarily from a photo of her daughter standing in water.“My work was intended to represent what we are going through right now, the fires, the people affected by these fires and the masks that those who live in endangered areas must wear, and the fact that animals are as affected as humans,” the artist said.New South Wales Premier Gladys Berejiklian said more than 130 fires were burning in the state of New South Wales on January 6, according to this AFP report.Below is a screenshot comparison of the photo in the misleading posts (L) and the one posted by Thuie (R):Another reverse image search on Google found a mirror image of the koala in the misleading posts published here on stock photo website Unsplash in May 2016.Below is a screenshot comparison of the image of the koala in the misleading posts (L) and that on Unsplash (R):Reverse image searches on other elements of the image found the smoke and fire originated in two separate Unsplash stock photos, seen here and here.Below are two sets of screenshot comparison of the smoke and fire in the image in the misleading posts (L) and two corresponding stock images (R) with similar features circled in red by AFP:Misinformation about the Australian bushfires crisis has circulated online as the deadly blazes continue to devastate the country’s southeastern region into the new year, as reported by AFP Fact Check here.\n",
      "\n"
     ]
    }
   ],
   "source": [
    "# display outlier examples from 25% to 10%\n",
    "top_to_remove = 0.4\n",
    "bottom_to_remove = 0.5\n",
    "outliersMinP=bertopic2.get_sbert_z_outliers(norm.ppf(bottom_to_remove/2))\n",
    "outliersMaxP=bertopic2.get_sbert_z_outliers(norm.ppf(top_to_remove/2))\n",
    "for i in range(len(setopics)):\n",
    "    print(setopics[i])\n",
    "    n=len(list(set(outliersMinP[i])-set(outliersMaxP[i])))\n",
    "    print('total', n)\n",
    "    if n>0:\n",
    "        print('example:',data2['text'][list(set(outliersMinP[i])-set(outliersMaxP[i]))[random.randint(n)]])\n",
    "    print('')"
   ]
  },
  {
   "cell_type": "code",
   "execution_count": null,
   "metadata": {},
   "outputs": [],
   "source": []
  }
 ],
 "metadata": {
  "kernelspec": {
   "display_name": "tomodapiArm",
   "language": "python",
   "name": "python3"
  },
  "language_info": {
   "codemirror_mode": {
    "name": "ipython",
    "version": 3
   },
   "file_extension": ".py",
   "mimetype": "text/x-python",
   "name": "python",
   "nbconvert_exporter": "python",
   "pygments_lexer": "ipython3",
   "version": "3.8.18"
  }
 },
 "nbformat": 4,
 "nbformat_minor": 2
}
