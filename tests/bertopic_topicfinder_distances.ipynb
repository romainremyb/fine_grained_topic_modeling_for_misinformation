{
 "cells": [
  {
   "cell_type": "code",
   "execution_count": 1,
   "metadata": {},
   "outputs": [],
   "source": [
    "import sys, os, itertools\n",
    "import re, nltk\n",
    "from nltk import pos_tag\n",
    "import pandas as pd\n",
    "import numpy as np\n",
    "from collections import defaultdict\n",
    "import matplotlib.pyplot as plt\n",
    "import sklearn, gensim\n",
    "from sklearn.decomposition import PCA\n",
    "from gensim.corpora import Dictionary\n",
    "sys.path.append(os.path.expanduser(\"~\")+'/Desktop/topic_modeling/fine_grained_topic_modeling_for_misinformation/src/')\n",
    "sys.path.append(os.path.expanduser(\"~\")+'/Desktop/topic_modeling/fine_grained_topic_modeling_for_misinformation/src/')\n",
    "os.chdir(os.path.expanduser(\"~\")+'/Desktop/topic_modeling/fine_grained_topic_modeling_for_misinformation/data/')\n",
    "from utils import preprocess_for_bow\n",
    "from models.lda import LDAwrappers\n",
    "from models.hdp import HDPwrapper\n",
    "from models.gsdmm import MovieGroupProcessWrapper\n",
    "from models.lftm import LFTMwrapper\n",
    "from models.bertopic import BERTopicWrapper\n",
    "from sklearn.feature_extraction.text import CountVectorizer\n",
    "from scipy.cluster import hierarchy as sch\n",
    "from sklearn.metrics.pairwise import cosine_similarity\n",
    "from scipy.stats import norm\n",
    "from numpy import random\n",
    "from bertopic.representation import MaximalMarginalRelevance, KeyBERTInspired\n",
    "keybert = KeyBERTInspired()\n",
    "mmr = MaximalMarginalRelevance(diversity=0.3)\n",
    "chained_representation = [keybert, mmr]"
   ]
  },
  {
   "cell_type": "code",
   "execution_count": 94,
   "metadata": {},
   "outputs": [],
   "source": [
    "setopics=[\"Virus Origin and bioweapon theory\", \"Virus contraction (who contracts the virus) and transmission (what transmits the virus)\", \n",
    "                    \"Incidence, Mortality and 'Casedemic'\", \"Prevention (Face Mask, Vitamin D, etc.)\", \n",
    "                    \"Treatment (Ivermectim, chloroquine and hydroxychloroquine, etc)\", \"Vaccines\", \"COVID-19 Denialism\"]"
   ]
  },
  {
   "cell_type": "markdown",
   "metadata": {},
   "source": [
    "# dataset 1"
   ]
  },
  {
   "cell_type": "code",
   "execution_count": 3,
   "metadata": {},
   "outputs": [
    {
     "name": "stderr",
     "output_type": "stream",
     "text": [
      "huggingface/tokenizers: The current process just got forked, after parallelism has already been used. Disabling parallelism to avoid deadlocks...\n",
      "To disable this warning, you can either:\n",
      "\t- Avoid using `tokenizers` before the fork if possible\n",
      "\t- Explicitly set the environment variable TOKENIZERS_PARALLELISM=(true | false)\n",
      "huggingface/tokenizers: The current process just got forked, after parallelism has already been used. Disabling parallelism to avoid deadlocks...\n",
      "To disable this warning, you can either:\n",
      "\t- Avoid using `tokenizers` before the fork if possible\n",
      "\t- Explicitly set the environment variable TOKENIZERS_PARALLELISM=(true | false)\n",
      "huggingface/tokenizers: The current process just got forked, after parallelism has already been used. Disabling parallelism to avoid deadlocks...\n",
      "To disable this warning, you can either:\n",
      "\t- Avoid using `tokenizers` before the fork if possible\n",
      "\t- Explicitly set the environment variable TOKENIZERS_PARALLELISM=(true | false)\n",
      "huggingface/tokenizers: The current process just got forked, after parallelism has already been used. Disabling parallelism to avoid deadlocks...\n",
      "To disable this warning, you can either:\n",
      "\t- Avoid using `tokenizers` before the fork if possible\n",
      "\t- Explicitly set the environment variable TOKENIZERS_PARALLELISM=(true | false)\n",
      "huggingface/tokenizers: The current process just got forked, after parallelism has already been used. Disabling parallelism to avoid deadlocks...\n",
      "To disable this warning, you can either:\n",
      "\t- Avoid using `tokenizers` before the fork if possible\n",
      "\t- Explicitly set the environment variable TOKENIZERS_PARALLELISM=(true | false)\n"
     ]
    }
   ],
   "source": [
    "data1 = preprocess_for_bow('data.csv', preprocessing=False)\n",
    "bertopic=BERTopicWrapper(data1['text'], data1['ids'], representation_model=chained_representation)"
   ]
  },
  {
   "cell_type": "code",
   "execution_count": 5,
   "metadata": {},
   "outputs": [
    {
     "data": {
      "text/plain": [
       "([63, 100, 648, 76, 532, 363, 56, 70, 12, 53],\n",
       " [0.6851774,\n",
       "  0.6429924,\n",
       "  0.6380904,\n",
       "  0.62540233,\n",
       "  0.6118401,\n",
       "  0.61149764,\n",
       "  0.6108924,\n",
       "  0.60702056,\n",
       "  0.59038246,\n",
       "  0.58231115])"
      ]
     },
     "execution_count": 5,
     "metadata": {},
     "output_type": "execute_result"
    }
   ],
   "source": [
    "bertopic.find_topics('covid 19 iss such a scam, I swear this is just a conspiracy from Big Pharma', top_n=10)"
   ]
  },
  {
   "cell_type": "code",
   "execution_count": 6,
   "metadata": {},
   "outputs": [
    {
     "data": {
      "text/html": [
       "<div>\n",
       "<style scoped>\n",
       "    .dataframe tbody tr th:only-of-type {\n",
       "        vertical-align: middle;\n",
       "    }\n",
       "\n",
       "    .dataframe tbody tr th {\n",
       "        vertical-align: top;\n",
       "    }\n",
       "\n",
       "    .dataframe thead th {\n",
       "        text-align: right;\n",
       "    }\n",
       "</style>\n",
       "<table border=\"1\" class=\"dataframe\">\n",
       "  <thead>\n",
       "    <tr style=\"text-align: right;\">\n",
       "      <th></th>\n",
       "      <th>Topic</th>\n",
       "      <th>Count</th>\n",
       "      <th>Name</th>\n",
       "      <th>Representation</th>\n",
       "      <th>Representative_Docs</th>\n",
       "    </tr>\n",
       "  </thead>\n",
       "  <tbody>\n",
       "    <tr>\n",
       "      <th>64</th>\n",
       "      <td>63</td>\n",
       "      <td>50</td>\n",
       "      <td>63_covid_covidcoverup_covid19_covid1984</td>\n",
       "      <td>[covid, covidcoverup, covid19, covid1984, covi...</td>\n",
       "      <td>[COVID IS A HOAX!, Covid is a cover up for the...</td>\n",
       "    </tr>\n",
       "    <tr>\n",
       "      <th>101</th>\n",
       "      <td>100</td>\n",
       "      <td>35</td>\n",
       "      <td>100_coronavirus_patent_coronaviruspandemic_cor...</td>\n",
       "      <td>[coronavirus, patent, coronaviruspandemic, cor...</td>\n",
       "      <td>[COVID-19 Testing Patent Was Submitted In 2015...</td>\n",
       "    </tr>\n",
       "    <tr>\n",
       "      <th>649</th>\n",
       "      <td>648</td>\n",
       "      <td>7</td>\n",
       "      <td>648_covid_pandemic_flu_viruses</td>\n",
       "      <td>[covid, pandemic, flu, viruses, vaccinations, ...</td>\n",
       "      <td>[There are different strains of covid that's w...</td>\n",
       "    </tr>\n",
       "    <tr>\n",
       "      <th>77</th>\n",
       "      <td>76</td>\n",
       "      <td>40</td>\n",
       "      <td>76_covid_treatments_treatment_remedy</td>\n",
       "      <td>[covid, treatments, treatment, remedy, cure, a...</td>\n",
       "      <td>[A student from Pondicherry University has fou...</td>\n",
       "    </tr>\n",
       "    <tr>\n",
       "      <th>533</th>\n",
       "      <td>532</td>\n",
       "      <td>9</td>\n",
       "      <td>532_vaccine_vaccinated_vaccins_covid19</td>\n",
       "      <td>[vaccine, vaccinated, vaccins, covid19, immuni...</td>\n",
       "      <td>[The vaccine is too fight against so called co...</td>\n",
       "    </tr>\n",
       "  </tbody>\n",
       "</table>\n",
       "</div>"
      ],
      "text/plain": [
       "     Topic  Count                                               Name  \\\n",
       "64      63     50            63_covid_covidcoverup_covid19_covid1984   \n",
       "101    100     35  100_coronavirus_patent_coronaviruspandemic_cor...   \n",
       "649    648      7                     648_covid_pandemic_flu_viruses   \n",
       "77      76     40               76_covid_treatments_treatment_remedy   \n",
       "533    532      9             532_vaccine_vaccinated_vaccins_covid19   \n",
       "\n",
       "                                        Representation  \\\n",
       "64   [covid, covidcoverup, covid19, covid1984, covi...   \n",
       "101  [coronavirus, patent, coronaviruspandemic, cor...   \n",
       "649  [covid, pandemic, flu, viruses, vaccinations, ...   \n",
       "77   [covid, treatments, treatment, remedy, cure, a...   \n",
       "533  [vaccine, vaccinated, vaccins, covid19, immuni...   \n",
       "\n",
       "                                   Representative_Docs  \n",
       "64   [COVID IS A HOAX!, Covid is a cover up for the...  \n",
       "101  [COVID-19 Testing Patent Was Submitted In 2015...  \n",
       "649  [There are different strains of covid that's w...  \n",
       "77   [A student from Pondicherry University has fou...  \n",
       "533  [The vaccine is too fight against so called co...  "
      ]
     },
     "execution_count": 6,
     "metadata": {},
     "output_type": "execute_result"
    }
   ],
   "source": [
    "bertopic.get_topic_info().iloc[[64,101,649,77,533]]"
   ]
  },
  {
   "cell_type": "code",
   "execution_count": 7,
   "metadata": {},
   "outputs": [],
   "source": [
    "bertopic.set_topics(setopics, top_n=50, min_sim=0.45)"
   ]
  },
  {
   "cell_type": "code",
   "execution_count": 8,
   "metadata": {},
   "outputs": [],
   "source": [
    "bertopic.sbert_cluster_set_topics()"
   ]
  },
  {
   "cell_type": "markdown",
   "metadata": {},
   "source": [
    "## Results from label inputs"
   ]
  },
  {
   "cell_type": "code",
   "execution_count": 9,
   "metadata": {},
   "outputs": [
    {
     "name": "stdout",
     "output_type": "stream",
     "text": [
      "this print displays the count of docs associated with the topic labels set\n",
      "\n",
      "topic: Virus Origin and bioweapon theory yields  187 distributed over 5 original bertopics\n",
      "topic: Virus contraction (who contracts the virus) and transmission (what transmits the virus) yields  20 distributed over 2 original bertopics\n",
      "topic: Incidence, Mortality and 'Casedemic' yields  402 distributed over 14 original bertopics\n",
      "topic: Prevention (Face Mask, Vitamin D, etc.) yields  540 distributed over 2 original bertopics\n",
      "topic: Treatment (Ivermectim, chloroquine and hydroxychloroquine, etc) yields  79 distributed over 2 original bertopics\n",
      "topic: Vaccines yields  895 distributed over 38 original bertopics\n",
      "topic: COVID-19 Denialism yields  13817 distributed over 50 original bertopics\n"
     ]
    }
   ],
   "source": [
    "print('this print displays the count of docs associated with the topic labels set')\n",
    "print('')\n",
    "for i in range(len(setopics)):\n",
    "    print('topic:', bertopic.topics_set_embeddings[i]['topic_title'], 'yields ', len(bertopic.topics_set_embeddings[i]['topic_idxs']),\n",
    "            'distributed over', len(bertopic.topics_set_embeddings[i]['topic_labels']),'original bertopics')"
   ]
  },
  {
   "cell_type": "markdown",
   "metadata": {},
   "source": [
    "### reclustering corpus on centroids extracted from docs above (SBERT)"
   ]
  },
  {
   "cell_type": "code",
   "execution_count": 10,
   "metadata": {},
   "outputs": [
    {
     "name": "stdout",
     "output_type": "stream",
     "text": [
      "Virus Origin and bioweapon theory -> 7610\n",
      "Virus contraction (who contracts the virus) and transmission (what transmits the virus) -> 1412\n",
      "Incidence, Mortality and 'Casedemic' -> 1617\n",
      "Prevention (Face Mask, Vitamin D, etc.) -> 655\n",
      "Treatment (Ivermectim, chloroquine and hydroxychloroquine, etc) -> 1978\n",
      "Vaccines -> 1769\n",
      "COVID-19 Denialism -> 15150\n"
     ]
    }
   ],
   "source": [
    "np.unique(bertopic.sbert_clusters, return_counts=True)\n",
    "for i in range(len(setopics)):\n",
    "    print(bertopic.topics_set_embeddings[i]['topic_title'],'->',np.unique(bertopic.sbert_clusters, return_counts=True)[1][i])"
   ]
  },
  {
   "cell_type": "code",
   "execution_count": 39,
   "metadata": {},
   "outputs": [
    {
     "name": "stdout",
     "output_type": "stream",
     "text": [
      "examples clusteres\n",
      "Virus Origin and bioweapon theory -> No lab is capable of engineering it. It would be idiotic to use the Coronavirus for a bioweapon. They'd use a far more deadly pathogen. Coronavirus readily trades genetic material. We've already had 2 zoonotic diseases from the species SARS & MERS. Not man made.\n",
      "Virus contraction (who contracts the virus) and transmission (what transmits the virus) -> Covid-19 does not exist as a virus, but rather a bacterium that has been exposed to 5G radiation.\n",
      "Incidence, Mortality and 'Casedemic' -> Fascinating concept. You’re referencing the fact that they aren’t testing the dead only the living? Instead relying on expert opinion. Where did a plane crash death get attributed to covid19? Or a cancer patient dying of cancer get reclassified as a covid19 death?\n",
      "Prevention (Face Mask, Vitamin D, etc.) -> Vitamin D treatment for COVID-19 patients can reduce deaths by up to 60%.\n",
      "Treatment (Ivermectim, chloroquine and hydroxychloroquine, etc) -> Hydroxychloroquine works. The election was rigged! If you agree, follow me on Twitter and join the Telegram:\n",
      "Vaccines -> My wife turned 40 last month. Went for a Mammogram today... first question. Have you been vaxxed if so what arm? She says i havent why? Oh the vax is causing false positives on mamos? Wtf.\n",
      "COVID-19 Denialism -> This is satire and fake you know that right? Not the chemtrail stuff but the fact that COVID19 got mixed into the chemtrails. Even the author listed \"\"satire\"\" in the post. They are making fun of people that think COVID19 is a hoax.\n"
     ]
    }
   ],
   "source": [
    "print('examples clusteres')\n",
    "np.unique(bertopic.sbert_clusters, return_counts=True)\n",
    "for i in range(len(setopics)):\n",
    "    print(bertopic.topics_set_embeddings[i]['topic_title'],'->',data1['text'][bertopic.topics_set_embeddings[i]['topic_idxs'][5]])"
   ]
  },
  {
   "cell_type": "markdown",
   "metadata": {},
   "source": [
    "## using examples instead of labels"
   ]
  },
  {
   "cell_type": "code",
   "execution_count": 42,
   "metadata": {},
   "outputs": [],
   "source": [
    "topic_examples=[\"Harvard epidemiologist says he is not saying the Corona virus was bioengineered as a bioweapon but a new study says it does have a center segment in its genome encoding a special protein to get it into human cells and it did not get there through natural random mechanisms\", \n",
    "                \"Viruses are dead material expelled from healing cells. Everyone has thousands of viruses inside their body. Viruses do not kill humans, unhealthy immune systems do\",\n",
    "                    \"This isn’t new information-6% of the deaths were in people that had no other issues. We know that COVID preys on people with comorbidies-which unfortunately there are a lot of in the US. But that information doesn’t help with your arguement...I realize. But the data makes sense\", \n",
    "                    \"This is a very important study on vitamin D and Covid-19. Its findings are incredibly clear. An 80% reduction in need for ICU and a 60% reduction in deaths, simply by giving a very cheap and very safe therapy - calcifediol, or activated vitamin D.\", \n",
    "                    \"Hydroxychloroquine is not an antiviral it is an antimalarial drug Science isn't 'silly or ideological' it is based on hypothesis testing - the hypothesis that HQ was an effective treatment for #Covid19 was tested and it was found to have no effect As I say sorry to disappoint\", \n",
    "                    \"Worth another listen. 700 babies and children will be injected with the experimental MODERNA vaccine in about 45 days in Rochester, NY. How is this even REMOTELY ethical? How can a BABY ‘consent’ to being a lab rat? @DrMikeMendoza @CountyExecBello\", \n",
    "                    \"HOW.MANY AMERICANS BELIEVE THIS COVID HOAX ?? I DO! I BELIEVE R MILITARY R COPS ICE AGENTS NATIONAL GUARD SHOULD DO WHATS RIGHT ONLY TAKE ORDERS FROM TRUMP (NEVER THESE DEMOCRATE GOVS& MAYORS WHO WERE ELECTED BY FAKE BALLOTS PAID 4 BY SOROS)\"]"
   ]
  },
  {
   "cell_type": "code",
   "execution_count": 50,
   "metadata": {},
   "outputs": [],
   "source": [
    "bertopic.set_topics(topic_examples, top_n=50, min_sim=0.55)\n",
    "bertopic.sbert_cluster_set_topics()"
   ]
  },
  {
   "cell_type": "code",
   "execution_count": 51,
   "metadata": {},
   "outputs": [
    {
     "name": "stdout",
     "output_type": "stream",
     "text": [
      "this print displays the count of docs associated with the topic labels set\n",
      "\n",
      "topic: 0 yields  119 distributed over 5 original bertopics\n",
      "topic: 1 yields  36 distributed over 3 original bertopics\n",
      "topic: 2 yields  519 distributed over 18 original bertopics\n",
      "topic: 3 yields  47 distributed over 2 original bertopics\n",
      "topic: 4 yields  77 distributed over 3 original bertopics\n",
      "topic: 5 yields  255 distributed over 11 original bertopics\n",
      "topic: 6 yields  148 distributed over 8 original bertopics\n"
     ]
    }
   ],
   "source": [
    "print('this print displays the count of docs associated with the topic labels set')\n",
    "print('')\n",
    "for i in range(len(setopics)):\n",
    "    print('topic:', i, 'yields ', len(bertopic.topics_set_embeddings[i]['topic_idxs']),\n",
    "            'distributed over', len(bertopic.topics_set_embeddings[i]['topic_labels']),'original bertopics')"
   ]
  },
  {
   "cell_type": "code",
   "execution_count": 56,
   "metadata": {},
   "outputs": [
    {
     "name": "stdout",
     "output_type": "stream",
     "text": [
      "examples clusteres\n",
      "Virus Origin and bioweapon theory -> No lab is capable of engineering it. It would be idiotic to use the Coronavirus for a bioweapon. They'd use a far more deadly pathogen. Coronavirus readily trades genetic material. We've already had 2 zoonotic diseases from the species SARS & MERS. Not man made.\n",
      "Virus contraction (who contracts the virus) and transmission (what transmits the virus) -> Covid-19 does not exist as a virus, but rather a bacterium that has been exposed to 5G radiation.\n",
      "Incidence, Mortality and 'Casedemic' -> Fascinating concept. You’re referencing the fact that they aren’t testing the dead only the living? Instead relying on expert opinion. Where did a plane crash death get attributed to covid19? Or a cancer patient dying of cancer get reclassified as a covid19 death?\n",
      "Prevention (Face Mask, Vitamin D, etc.) -> Vitamin D treatment for COVID-19 patients can reduce deaths by up to 60%.\n",
      "Treatment (Ivermectim, chloroquine and hydroxychloroquine, etc) -> Hydroxychloroquine works. The election was rigged! If you agree, follow me on Twitter and join the Telegram:\n",
      "Vaccines -> My wife turned 40 last month. Went for a Mammogram today... first question. Have you been vaxxed if so what arm? She says i havent why? Oh the vax is causing false positives on mamos? Wtf.\n",
      "COVID-19 Denialism -> This is satire and fake you know that right? Not the chemtrail stuff but the fact that COVID19 got mixed into the chemtrails. Even the author listed \"\"satire\"\" in the post. They are making fun of people that think COVID19 is a hoax.\n"
     ]
    }
   ],
   "source": [
    "print('examples clusteres')\n",
    "np.unique(bertopic.sbert_clusters, return_counts=True)\n",
    "for i in range(len(setopics)):\n",
    "    print(setopics[i],'->',data1['text'][bertopic.topics_set_embeddings[i]['topic_idxs'][5]])"
   ]
  },
  {
   "cell_type": "code",
   "execution_count": 73,
   "metadata": {},
   "outputs": [
    {
     "name": "stdout",
     "output_type": "stream",
     "text": [
      "reclustering\n",
      "Virus Origin and bioweapon theory -> 2319\n",
      "Virus contraction (who contracts the virus) and transmission (what transmits the virus) -> 7946\n",
      "Incidence, Mortality and 'Casedemic' -> 2206\n",
      "Prevention (Face Mask, Vitamin D, etc.) -> 1561\n",
      "Treatment (Ivermectim, chloroquine and hydroxychloroquine, etc) -> 509\n",
      "Vaccines -> 1658\n",
      "COVID-19 Denialism -> 13992\n"
     ]
    }
   ],
   "source": [
    "print('reclustering')\n",
    "np.unique(bertopic.sbert_clusters, return_counts=True)\n",
    "for i in range(len(setopics)):\n",
    "    print(setopics[i],'->',np.unique(bertopic.sbert_clusters, return_counts=True)[1][i])"
   ]
  },
  {
   "cell_type": "markdown",
   "metadata": {},
   "source": [
    "### SBERT threshold exploration"
   ]
  },
  {
   "cell_type": "code",
   "execution_count": 61,
   "metadata": {},
   "outputs": [
    {
     "name": "stdout",
     "output_type": "stream",
     "text": [
      "Virus Origin and bioweapon theory\n",
      "total 60\n",
      "example: Jailed Samsung heir Lee Jae-yong wrote a letter announcing plans to move the company abroad\n",
      "\n",
      "Virus contraction (who contracts the virus) and transmission (what transmits the virus)\n",
      "total 3170\n",
      "example: A religious young soldier mocked for his belief in God miraculously started and drove a jeep that had no engine.\n",
      "\n",
      "Incidence, Mortality and 'Casedemic'\n",
      "total 45\n",
      "example: Canadian Pension Plan payments decreased in 2021\n",
      "\n",
      "Prevention (Face Mask, Vitamin D, etc.)\n",
      "total 0\n",
      "\n",
      "Treatment (Ivermectim, chloroquine and hydroxychloroquine, etc)\n",
      "total 4\n",
      "example: Dr. Anthony Fauci wrote a paper that found most 1918-1919 Spanish Influenza pandemic deaths were \"\"because of bacterial pneumonia from wearing masks.\"\"\n",
      "\n",
      "Vaccines\n",
      "total 361\n",
      "example: Just saw something saying the Covid 19 is going away to fast for them to find a vaccine. You mean to tell me y’all need it around to treat it. I tell you white people are the worst moral and spiritual leaders this world has ever seen. No Holistic Integrity\n",
      "\n",
      "COVID-19 Denialism\n",
      "total 1051\n",
      "example: There is nothing that I would want more for our Country than true FREEDOM OF THE PRESS. The fact is that the Press is FREE to write and say anything it wants, but much of what it says is FAKE NEWS, pushing a political agenda or just plain trying to hurt people. HONESTY WINS! — Donald J. Trump (@realDonaldTrump) August 16, 2018I mean, he’s literally just translating Mein Kampf at this point. pic.twitter.com/Gddw4WqjDT — Jules Suzdaltsev (@jules_su) August 16, 2018\n",
      "\n"
     ]
    }
   ],
   "source": [
    "# 105% of distribution with smallest distance to centroids\n",
    "top_to_remove = 0.9\n",
    "bottom_to_remove = 1\n",
    "outliersMinP=bertopic.get_sbert_z_outliers(norm.ppf(bottom_to_remove/2))\n",
    "outliersMaxP=bertopic.get_sbert_z_outliers(norm.ppf(top_to_remove/2))\n",
    "for i in range(len(setopics)):\n",
    "    print(setopics[i])\n",
    "    n=len(list(set(outliersMinP[i])-set(outliersMaxP[i])))\n",
    "    print('total', n)\n",
    "    if n>0:\n",
    "        print('example:',data1['text'][list(set(outliersMinP[i])-set(outliersMaxP[i]))[random.randint(n)]])\n",
    "    print('')"
   ]
  },
  {
   "cell_type": "code",
   "execution_count": 75,
   "metadata": {},
   "outputs": [
    {
     "name": "stdout",
     "output_type": "stream",
     "text": [
      "Virus Origin and bioweapon theory\n",
      "total 634\n",
      "example: COVID-19 contact-tracing apps like Healthy Together and ABTraceTogether are tracking you and also the people in your phone contacts and Facebook friends lists.\n",
      "\n",
      "Virus contraction (who contracts the virus) and transmission (what transmits the virus)\n",
      "total 1472\n",
      "example: James Franco said, \"\"Coronavirus kills 3,000 people and we lose our shit. Obesity kills ~300,000 people annually and we come out with a new flavor of Doritos.\"\"\n",
      "\n",
      "Incidence, Mortality and 'Casedemic'\n",
      "total 1077\n",
      "example: Thirteen Felician sisters from one convent died from COVID-19.\n",
      "\n",
      "Prevention (Face Mask, Vitamin D, etc.)\n",
      "total 1197\n",
      "example: French study published public health data which appeared to show that people who smoke are 80% less likely to catch COVID-19 than non-smokers of the same age and sex. I also read somewhere that smoking also prevent Chemtrail nanoparticles ready access due to tar.\n",
      "\n",
      "Treatment (Ivermectim, chloroquine and hydroxychloroquine, etc)\n",
      "total 282\n",
      "example: Face masks intended to stop the spread of COVID-19, including that they violate US labor standards for oxygen deprivation, cloth masks “do not filter anything” and trap carbon dioxide, surgical masks spread germs, and N95 masks expel unfiltered air.\n",
      "\n",
      "Vaccines\n",
      "total 0\n",
      "\n",
      "COVID-19 Denialism\n",
      "total 2327\n",
      "example: Cow farts are a major source of greenhouse gas emissions.\n",
      "\n"
     ]
    }
   ],
   "source": [
    "# from 50% to 75% of the distribution with smallest distance\n",
    "top_to_remove = 0.25\n",
    "bottom_to_remove = 0.5\n",
    "outliersMinP=bertopic.get_sbert_z_outliers(norm.ppf(bottom_to_remove/2))\n",
    "outliersMaxP=bertopic.get_sbert_z_outliers(norm.ppf(top_to_remove/2))\n",
    "for i in range(len(setopics)):\n",
    "    print(setopics[i])\n",
    "    n=len(list(set(outliersMinP[i])-set(outliersMaxP[i])))\n",
    "    print('total', n)\n",
    "    if n>0:\n",
    "        print('example:',data1['text'][list(set(outliersMinP[i])-set(outliersMaxP[i]))[random.randint(n)]])\n",
    "    print('')"
   ]
  },
  {
   "cell_type": "code",
   "execution_count": 60,
   "metadata": {},
   "outputs": [
    {
     "name": "stdout",
     "output_type": "stream",
     "text": [
      "Virus Origin and bioweapon theory\n",
      "total 212\n",
      "example: Viral forward states the timings for the distribution of essential items\n",
      "\n",
      "Virus contraction (who contracts the virus) and transmission (what transmits the virus)\n",
      "total 6\n",
      "example: World Health Organisation (WHO) has taken a ‘U-turn’ and that the asymptomatic COVID-19 patients needn’t be isolated or quarantined as they cannot spread coronavirus.\n",
      "\n",
      "Incidence, Mortality and 'Casedemic'\n",
      "total 532\n",
      "example: Audio clip attributed to Dr Trehan from Medanta Hospitals makes multiple claims including that the COVID-19 situation from “27 March the situation is going to become very serious.”\n",
      "\n",
      "Prevention (Face Mask, Vitamin D, etc.)\n",
      "total 76\n",
      "example: C-vitamin forhindrer coronavirus\n",
      "\n",
      "Treatment (Ivermectim, chloroquine and hydroxychloroquine, etc)\n",
      "total 105\n",
      "example: COVID 19 Kits for home linked to Tata Health\n",
      "\n",
      "Vaccines\n",
      "total 0\n",
      "\n",
      "COVID-19 Denialism\n",
      "total 1354\n",
      "example: I believe Covid-19 was a Deep State attack against China's economy. Is this the case? Why is Trump so confident that it won't cause a problem in the US? If he has the means to mitigate the virus why isn't he helping the people in China?\n",
      "\n"
     ]
    }
   ],
   "source": [
    "# from 75% to 95% of the distribution with smallest distance - strongest outliers\n",
    "top_to_remove = 0.05\n",
    "bottom_to_remove = 0.25\n",
    "outliersMinP=bertopic.get_sbert_z_outliers(norm.ppf(bottom_to_remove/2))\n",
    "outliersMaxP=bertopic.get_sbert_z_outliers(norm.ppf(top_to_remove/2))\n",
    "for i in range(len(setopics)):\n",
    "    print(setopics[i])\n",
    "    n=len(list(set(outliersMinP[i])-set(outliersMaxP[i])))\n",
    "    print('total', n)\n",
    "    if n>0:\n",
    "        print('example:',data1['text'][list(set(outliersMinP[i])-set(outliersMaxP[i]))[random.randint(n)]])\n",
    "    print('')"
   ]
  },
  {
   "cell_type": "markdown",
   "metadata": {},
   "source": [
    "## Removing with respect to distance threshold "
   ]
  },
  {
   "cell_type": "code",
   "execution_count": 76,
   "metadata": {},
   "outputs": [
    {
     "name": "stdout",
     "output_type": "stream",
     "text": [
      "Virus Origin and bioweapon theory\n",
      "total 0.8171625700733075\n",
      "example: @jewlicious @HenMazzig It is an Iranian dish called Salad Shirazi. Israelis have nothing, they colonize everything.\n",
      "\n",
      "Virus contraction (who contracts the virus) and transmission (what transmits the virus)\n",
      "total 0.940095645607853\n",
      "example: Rail freight tanker is stamped with 'COVID-19'.\n",
      "\n",
      "Incidence, Mortality and 'Casedemic'\n",
      "total 0.6119673617407072\n",
      "example: “But from 2013, and in only 7 years of my presidency, we have connected close to 3.5 million households, bringing the number of households connected close to 8 million.”\n",
      "\n",
      "Prevention (Face Mask, Vitamin D, etc.)\n",
      "total 0.6194746957078796\n",
      "example: Coronavirus: ¿Los infectados asintomáticos al final \"\"no contagian\"\" a otras personas?\n",
      "\n",
      "Treatment (Ivermectim, chloroquine and hydroxychloroquine, etc)\n",
      "total 0.8860510805500982\n",
      "example: The number visible in the red dot decides the strength of your eyes\n",
      "\n",
      "Vaccines\n",
      "total 0.25814234016887816\n",
      "example: @CawthornforNC Pfizer was not part of operation warp speed.\n",
      "\n",
      "COVID-19 Denialism\n",
      "total 0.8910806174957119\n",
      "example: Photos show Hillary Clinton detained in Guantanamo Bay\n",
      "\n"
     ]
    }
   ],
   "source": [
    "# docs above 80% similarity\n",
    "\n",
    "threshold = 0.8\n",
    "idxtokeep=bertopic.get_sbert_norm_outliers(threshold)\n",
    "for i in range(len(setopics)):\n",
    "    print(setopics[i])\n",
    "    n=len(idxtokeep[i])\n",
    "    print('total', n/np.unique(bertopic.sbert_clusters, return_counts=True)[1][i])\n",
    "    if n>0:\n",
    "        print('example:',data1['text'][idxtokeep[i][random.randint(n)]])\n",
    "    print('')"
   ]
  },
  {
   "cell_type": "code",
   "execution_count": 77,
   "metadata": {},
   "outputs": [
    {
     "name": "stdout",
     "output_type": "stream",
     "text": [
      "Virus Origin and bioweapon theory\n",
      "total 0.7744717550668392\n",
      "example: Incredible! #MarsPerseverance\n",
      "\n",
      "Virus contraction (who contracts the virus) and transmission (what transmits the virus)\n",
      "total 0.9217216209413541\n",
      "example: Video shows Chinese Army provoking India to go to war at Ladakh border\n",
      "\n",
      "Incidence, Mortality and 'Casedemic'\n",
      "total 0.5775158658204895\n",
      "example: CNN anchor decries controversial police unit, Covid-19 deaths in Nigeria\n",
      "\n",
      "Prevention (Face Mask, Vitamin D, etc.)\n",
      "total 0.5765534913516976\n",
      "example: İsrailin oyununu görün.. Yahudi ürünleri almaya devam ederseniz çocuklarınızı kendi elinizle ölümüne sebep olabilirsiniz.\n",
      "\n",
      "Treatment (Ivermectim, chloroquine and hydroxychloroquine, etc)\n",
      "total 0.7406679764243614\n",
      "example: A Centers for Disease Control report released in September shows that masks and face coverings are not effective in preventing the spread of COVID-19\n",
      "\n",
      "Vaccines\n",
      "total 0.16103739445114595\n",
      "example: Purdue University engineers developed a magnetic hair-sized robot that is capable of transporting pharmaceutical drugs throughout the colons of mice and pigs after entering through the anus.\n",
      "\n",
      "COVID-19 Denialism\n",
      "total 0.8702115494568324\n",
      "example: Trump won and EVERYONE knows it!!\n",
      "\n"
     ]
    }
   ],
   "source": [
    "# docs above 95% similarity\n",
    "\n",
    "threshold = 0.95\n",
    "idxtokeep=bertopic.get_sbert_norm_outliers(threshold)\n",
    "for i in range(len(setopics)):\n",
    "    print(setopics[i])\n",
    "    n=len(idxtokeep[i])\n",
    "    print('total', n/np.unique(bertopic.sbert_clusters, return_counts=True)[1][i])\n",
    "    if n>0:\n",
    "        print('example:',data1['text'][idxtokeep[i][random.randint(n)]])\n",
    "    print('')"
   ]
  },
  {
   "cell_type": "markdown",
   "metadata": {},
   "source": [
    "# dataset 2"
   ]
  },
  {
   "cell_type": "code",
   "execution_count": 4,
   "metadata": {},
   "outputs": [
    {
     "name": "stderr",
     "output_type": "stream",
     "text": [
      "huggingface/tokenizers: The current process just got forked, after parallelism has already been used. Disabling parallelism to avoid deadlocks...\n",
      "To disable this warning, you can either:\n",
      "\t- Avoid using `tokenizers` before the fork if possible\n",
      "\t- Explicitly set the environment variable TOKENIZERS_PARALLELISM=(true | false)\n",
      "huggingface/tokenizers: The current process just got forked, after parallelism has already been used. Disabling parallelism to avoid deadlocks...\n",
      "To disable this warning, you can either:\n",
      "\t- Avoid using `tokenizers` before the fork if possible\n",
      "\t- Explicitly set the environment variable TOKENIZERS_PARALLELISM=(true | false)\n",
      "huggingface/tokenizers: The current process just got forked, after parallelism has already been used. Disabling parallelism to avoid deadlocks...\n",
      "To disable this warning, you can either:\n",
      "\t- Avoid using `tokenizers` before the fork if possible\n",
      "\t- Explicitly set the environment variable TOKENIZERS_PARALLELISM=(true | false)\n",
      "huggingface/tokenizers: The current process just got forked, after parallelism has already been used. Disabling parallelism to avoid deadlocks...\n",
      "To disable this warning, you can either:\n",
      "\t- Avoid using `tokenizers` before the fork if possible\n",
      "\t- Explicitly set the environment variable TOKENIZERS_PARALLELISM=(true | false)\n"
     ]
    }
   ],
   "source": [
    "data2 = preprocess_for_bow('claimreviews.csv', preprocessing=False)\n",
    "bertopic2=BERTopicWrapper(data2['text'], data2['ids'], custom_vectorizer=True, representation_model=chained_representation)"
   ]
  },
  {
   "cell_type": "code",
   "execution_count": 25,
   "metadata": {},
   "outputs": [],
   "source": [
    "bertopic2.set_topics(setopics, top_n=50, min_sim=0.35)"
   ]
  },
  {
   "cell_type": "code",
   "execution_count": 26,
   "metadata": {},
   "outputs": [],
   "source": [
    "bertopic2.sbert_cluster_set_topics()"
   ]
  },
  {
   "cell_type": "code",
   "execution_count": 27,
   "metadata": {},
   "outputs": [
    {
     "name": "stdout",
     "output_type": "stream",
     "text": [
      "this print displays the count of docs associated with the topic labels set\n",
      "\n",
      "topic: Virus Origin and bioweapon theory yields  156 distributed over 10 original bertopics\n",
      "topic: Virus contraction (who contracts the virus) and transmission (what transmits the virus) yields  98 distributed over 5 original bertopics\n",
      "topic: Incidence, Mortality and 'Casedemic' yields  803 distributed over 42 original bertopics\n",
      "topic: Prevention (Face Mask, Vitamin D, etc.) yields  451 distributed over 5 original bertopics\n",
      "topic: Treatment (Ivermectim, chloroquine and hydroxychloroquine, etc) yields  102 distributed over 4 original bertopics\n",
      "topic: Vaccines yields  802 distributed over 45 original bertopics\n",
      "topic: COVID-19 Denialism yields  1129 distributed over 50 original bertopics\n"
     ]
    }
   ],
   "source": [
    "print('this print displays the count of docs associated with the topic labels set')\n",
    "print('')\n",
    "for i in range(len(setopics)):\n",
    "    print('topic:', setopics[i], 'yields ', len(bertopic2.topics_set_embeddings[i]['topic_idxs']),\n",
    "            'distributed over', len(bertopic2.topics_set_embeddings[i]['topic_labels']),'original bertopics')"
   ]
  },
  {
   "cell_type": "code",
   "execution_count": 28,
   "metadata": {},
   "outputs": [
    {
     "name": "stdout",
     "output_type": "stream",
     "text": [
      "Virus Origin and bioweapon theory -> 253\n",
      "Virus contraction (who contracts the virus) and transmission (what transmits the virus) -> 317\n",
      "Incidence, Mortality and 'Casedemic' -> 7937\n",
      "Prevention (Face Mask, Vitamin D, etc.) -> 7103\n",
      "Treatment (Ivermectim, chloroquine and hydroxychloroquine, etc) -> 636\n",
      "Vaccines -> 1539\n",
      "COVID-19 Denialism -> 210\n"
     ]
    }
   ],
   "source": [
    "np.unique(bertopic2.sbert_clusters, return_counts=True)\n",
    "for i in range(len(setopics)):\n",
    "    print(bertopic2.topics_set_embeddings[i]['topic_title'],'->',np.unique(bertopic2.sbert_clusters, return_counts=True)[1][i])"
   ]
  },
  {
   "cell_type": "code",
   "execution_count": 84,
   "metadata": {},
   "outputs": [
    {
     "name": "stdout",
     "output_type": "stream",
     "text": [
      "examples clusteres\n",
      "Virus Origin and bioweapon theory -> We’ve been asked to look into claims that the Covid-19 virus hasn’t been isolated, doesn’t fulfil “Koch’s postulates”, and that this means PCR diagnosis tests aren’t working.Honesty in public debate mattersYou can help us take action – and get our regular free emailI’m inIsolating a virusFirstly it is incorrect to say that the virus that causes Covid-19 has not been isolated.Isolating a virus means taking a pure sample of a virus from an infected being so it can be studied. There are numerous reports of the virus being isolated by teams around the world.“SARS-CoV2 has been sampled millions of times over from infected people, including those originally found to be infected in China,” Dr Stephen Griffin, a virologist and Associate Professor at Leeds Institute of Medical Research, told Full Fact.Koch’s postulatesIt’s also incorrect to say that the virus that causes Covid-19 would need to meet Koch’s postulates, primarily because Koch’s postulates weren’t written for viruses.Koch’s postulates were a set of rules outlined by scientist Robert Koch in 1890 to decide whether a bacteria causes a disease. The original four criteria are:“1. The microorganism must be found in the diseased animal, and not found in healthy animals.“2. The microorganism must be extracted and isolated from the diseased animal and subsequently grown in culture.“3. The microorganism must cause disease when introduced to a healthy experimental animal.“4. The microorganism must be extracted from the diseased experimental animal and demonstrated to be the same microorganism that was originally isolated from the first diseased animal.”As noted by many, these criteria were written before the discovery of viruses, so fail to include them in their consideration of what a disease is.Dr Griffin outlined other shortcomings in Koch’s rules.“The first postulate in particular is void as even at Koch’s time (which he later admitted)” he told us. “Folks knew that you could catch e.g. Cholera without necessarily becoming unwell - asymptomatic infection is a massive issue for these ideas (first and third postulates), as is the arrival of molecular biology!”Another of Koch’s postulates was that bacteria must be able to be isolated from the host. Viruses, unlike bacteria, require host cells in which to replicate, so also cannot be isolated in the same way Koch defined with bacteria, which according to Dr Griffin, required “culture as in a flask of media, so viruses don’t fit this idea.”So simply put, Koch’s postulates are not a good measure of what causes disease in 2020.PCR testsWe also know that PCR tests are identifying the virus that causes Covid-19 and working well.As we have written before, PCR tests used in Covid-19 testing are extremely sensitive and specific at detecting Covid-19 and do not confuse other coronaviruses, such as ones that cause the common cold, for Covid-19.“The PCR test is incredibly stringent and specific, requires two separate reactions to be positive ... and EVERY test is also sequenced, so we know it is SARS-CoV2 and not another virus,” said Dr Griffin.So in summary, Covid-19 has been isolated, Koch’s postulates don’t have to universally apply for something to cause disease, and tests to identify the Covid-19 virus do work.\n",
      "Virus contraction (who contracts the virus) and transmission (what transmits the virus) -> The StatementA widely-shared Facebook post features a medical text from 1989 and claims that coronaviruses equal the common cold.The post is titled, “From the AMA encyclopedia of disease published 1989, page 1051. Corona is a cold” and shows an excerpt from the American Medical Association Encyclopedia. Under a heading “Types of Virus”, the page shows depictions of different diseases and lists the virus family with examples of related symptoms. Among the viruses listed is “Coronaviruses” and written next to it in the conditions column is “Common Cold.”The post includes the comment, “American Medical Association Encyclopedia, published 1989. Coronaviruses = common cold. Print off and put in EVERY police station letterbox or post with words, ‘Jail Politicians’ written on the back’.”The July 10 post has attracted 1.1 million views and more than 520 shares.The AnalysisThe 2019 novel coronavirus (COVID-19) was first detected in the Chinese city of Wuhan in December 2019. It is a new strain in the coronavirus family – a group of viruses linked to the SARS and MERS respiratory infections and some types of common cold, according to the World Health Organization.WHO lists common symptoms of COVID-19 as fever, dry cough, and tiredness but can also “range from no symptoms… to severe pneumonia or death”.The US government agency, Centers for Disease Control and Prevention (CDC), lists symptoms of the common cold to include sore throat, runny nose, coughing, sneezing, headaches and body aches. The CDC also says many different respiratory viruses can cause the common cold, but rhinoviruses are the most common.The CDC also states on its website that the “virus causing coronavirus disease 2019 (COVID-19), is not the same as the coronaviruses that commonly circulate among humans and cause mild illness, like the common cold.”Viral infectious diseases expert Professor Damian Purcell from the Doherty Institute at the University of Melbourne, says coronaviruses do cause common colds, but to circulate such a statement as contained in the Facebook post during a coronavirus pandemic is misleading.“It’s quite important when talking about this particular strain of virus, not to call it a coronavirus or coronaviruses,” Prof Purcell told AAP FactCheck“It should be called SARS CoV 2, and the name means severe acute respiratory syndrome. Strictly speaking the American Medical Association in 1989 were completely correct in saying coronaviruses cause the common cold, but it’s absolutely misleading to say that about SARS Covid 2.“It’s the difference between saying something is seasonal influenza and pandemic influenza which killed millions of people.”Prof Purcell said while the AMA’s “sweeping statement” was true of its time, it’s important to note that it was made before the SARS epidemic (2002-2003).“Before this coronaviruses were only associated with the common cold,” he said.The VerdictBased on the evidence, AAP FactCheck found the claims in the Facebook post to be partly false. While it is true that common colds are associated with human coronaviruses, the post’s claim that coronaviruses equal a common cold is not accurate. The Centers for Disease Control and Prevention (CDC) states that different respiratory viruses cause the common cold with rhinoviruses the most common.Partly False – The claims of the content are a mixture of accurate and inaccurate.* AAP FactCheck is accredited by the Poynter Institute’s International Fact-Checking Network, which promotes best practice through a stringent and transparent Code of Principles. https://aap.com.au/All information, text and images included on the AAP Websites is for personal use only and may not be re-written, copied, re-sold or re-distributed, framed, linked, shared onto social media or otherwise used whether for compensation of any kind or not, unless you have the prior written permission of AAP. For more information, please refer to our standard terms and conditions.\n",
      "Incidence, Mortality and 'Casedemic' -> “As many as 56% of people in some parts of England are only diagnosed [with lung cancer] when they visit A&E”“They are five times more likely to die within a year than those whose condition has been identified either by their GP or through the NHS cancer screening programme”“…diagnosed late in A&E because their GP missed signs of the disease despite often repeated visits”The Guardian, 31 January 2020An article published last month in the Guardian contains several claims about the route to lung cancer diagnosis and subsequent survival rates for patients in England. These claims come from information provided by the UK Lung Cancer Coalition.Firstly, it claims that the proportion of lung cancer cases only diagnosed after a visit to an A&E ranges from 15% in Guildford and Waverley in Surrey to 56% in Tower Hamlets and Manchester. That’s not correct, the range is less than that.Secondly, the article claims that patients diagnosed following an A&E visit are five times more likely to die compared to other diagnosis routes, when the correct figure is around three times.Thirdly, it claims that the diagnoses occur in A&E because GPs miss signs of the disease, which is just one reason why a diagnosis may occur at A&E.The figures on cancer diagnosisWe looked at the underlying data and found that the differences across the country and survival rates by diagnosis route were not as pronounced as had been claimed.In addition, these figures include diagnoses following “any emergency presentation” to secondary care, not just through A&E. As explained above, that can include things like an emergency GP referral.The estimated proportion of lung cancers diagnosed following an emergency presentation ranged from 26% in Harrogate and Rural District to 47% in Tower Hamlets.So there was a 21 percentage point difference between the areas with the lowest and highest estimated proportion of lung cancers diagnosed following this route, not a 41 point difference as the article suggested.However, we don’t know exactly what proportion of diagnoses came about because of A&E attendances, as (unlike the national data) the local data wasn’t broken down in that amount of detail.We spoke to Professor Mick Peake, chair of the UK Lung Cancer Coalition, who quoted the incorrect figures for Guildford and Waverley and Tower Hamlets reported in the article. He said that he had mistakenly quoted numbers from the wrong data column, but that this did not alter the message of the article.Are patients diagnosed after an A&E visit five times more likely to die?Between 2012 and 2016, 17% of people with lung cancer diagnosed after an emergency presentation survived at least 12-months post diagnosis. This was the lowest rate of all diagnosis routes.The diagnosis route with the highest 12-month survival rate was those people diagnosed after an ‘other outpatient visit’, which includes self-referrals, consultant to consultant referral, and other or unknown referrals. There were 54% in this group who survived 12 months between 2012 and 2016.For patients diagnosed following a GP referral, their 12-month survival rate was 49%. This is almost three times the survival rate of people diagnosed after an emergency presentation, not five timesWe think the Guardian article was quoting a statistic presented in a now-deleted press release about a new report from the UK Lung Cancer Coalition. The press release mentions a statistic about survival rates by stage of cancer at diagnosis published by the Office of National Statistics.Between 2013 and 2017, the estimated age-adjusted rate of 1-year survival following lung cancer diagnoses was 88% for people diagnosed early (stage 1 cancer) compared with 19% for cancers diagnosed late (stage 4). This is roughly a five-fold difference. This data is not broken down by diagnosis route.We’ve asked the UK Lung Cancer Coalition for more information.Are lung cancers being diagnosed late because GPs miss symptoms?There is research suggesting that some late diagnoses may represent missed opportunities for GPs to identify lung cancer. However, this does not mean that all diagnoses following an emergency presentation is due to GPs missing early symptoms.A University of Nottingham study published in 2015 looked at the difference between lung cancer patients who survived or died within 90 days of diagnosis. Patients who died earlier were more likely to interact with primary care in the run up to diagnosis. The authors of the study suggest that these likely represent some missed opportunities for GPs to identify lung cancer earlier. However, this does not mean that all diagnoses that happen at a later stage or after an emergency presentation are because GPs miss signs of lung cancer.As mentioned further down the Guardian article, “GPs’ failure to spot symptoms of lung cancer is only one reason for Britain’s low rate of early diagnosis and high rate of lung cancer mortality”.\n",
      "Prevention (Face Mask, Vitamin D, etc.) -> Children Are At Risk Of Contracting COVID-19 And Should Wear MasksDoctors say children can die from COVID-19 and US health authorities recommend that most youngsters over the age of two wear masks.\"\"Get rid of mask orders!! Let our kids breathe,\"\" demands an August 17, 2020 Facebook post which shared an \"\"Un-mask our kids\"\" flyer.The flyer was created by Jodie Meschuk, who has more than 36,000 Instagram followers and often posts anti-mask and anti-vaccination content.The link in Meschuk's profile offers an easily downloadable version of the flyer from a Dropbox account, leading others to share it on Facebook, including here, here and here. It was also shared on Twitter.What is known about how COVID-19 affects children is continually being updated by the scientific community, but multiple doctors told AFP that the flyer makes false and misleading claims, and disregards advice that children should wear masks to help curb the spread of the disease.Also Read: Does Using \"\"Temperature Gun\"\" Damage The Pineal Gland In The Brain?Claim 1: 'The chance of a child dying from COVID-19 rounds to zero'According to the US Centers for Disease Control and Prevention (CDC), most reported SARS-CoV-2 infections in children younger than 18 are asymptomatic or mild.Current evidence from North America and China suggests that children with certain underlying medical conditions and infants might be at increased risk for severe illness from SARS-CoV-2 infection.Dr Dean Blumberg, Chief of Pediatric Infectious Diseases at UC Davis Health, told AFP by phone: \"\"Children are less likely to get infected compared to adults when they're exposed to an infectious case, but they still do get infected. And we know that children have died from COVID-19.\"\"This was echoed by Dr Erin Silverman, clinical research coordinator at the University of Florida College of Medicine.\"\"We know that COVID-19 is less fatal in children than adults and children are less likely to be hospitalized with COVID-19,\"\" Silverman said in an email.However, she cautioned that the number and rate of cases in children in the United States has been steadily increasing from March to July 2020, with the percentage of children with COVID-19 requiring hospitalization also on the rise.\"\"Nearly 100 kids have died as a direct result of COVID-19 this year. The claim that you can take that number and 'round to zero' isn't as comforting if it's your child or the child of someone you care about dying,\"\" Silverman said.Blumberg also pointed to the post-infection risk of Multisystem Inflammatory Syndrome (MIS-C), which causes multiple organs to become painfully inflamed.\"\"Those children are quite ill, many of them in the intensive care unit,\"\" he explained.Claim 2: 'The chances of an asymptomatic child transmitting COVID-19 rounds to zero'An August 19 CDC publication for pediatric health care workers reported that 16 percent of children with a SARS-CoV-2 infection are asymptomatic. While this study from France suggested it could be as many as 45 percent of infected children.Dr Benjamin Lee, associate professor in the Department of Pediatrics at the University of Vermont, said by email: \"\"The chance of an asymptomatic child transmitting COVID-19 is low, but is not zero, and nobody in the scientific community has ever argued that children are incapable of transmitting the virus.\"\"Dr Sunil Sood, chairman of Pediatrics - Infectious Disease at Northwell Health's Southside Hospital, agreed, telling AFP by phone that there is no biological reason that a child would not be able to transmit the virus to somebody else.Also Read: Plandemic Sequel Clip Makes Misleading Claims About COVID-19 VaccineClaim 3: 'Children and anyone healthy are extremely resilient and natural exposure to viruses helps build an even stronger immunity.'University of Vermont's Lee explained that this claim is misleading.\"\"The adverse consequences of infection with many viruses can be devastating -- which is why vaccines against them were developed,\"\" he said. \"\"Nobody would trade 'stronger immunity' to poliovirus for the paralysis that might result from natural infection.\"\"Lee also pointed to this study, which found \"\"measles infection can greatly diminish previously acquired immune memory, potentially leaving individuals at risk for infection by other pathogens.\"\"The University of Florida's Silverman also pointed to the measles in saying, \"\"Vaccines are much, much safer than non-vaccine exposure.\"\"Claim 4: Wearing a mask will lead to a slow build-up of CO2.AFP Fact Check has previously debunked false claims that mask-wearing will lead to hypoxia, a lack of oxygen in the body, or hypercapnia, a build-up of carbon dioxide in the blood.Lee agreed, saying: \"\"There is no scientific evidence that wearing a mask causes a slow build-up of CO2 in quantities sufficient to cause health effects.\"\"\"\"CO2 is a gas, made up of individual molecules infinitesimally smaller than even a virus, and can easily diffuse through cloth. To argue that masks cause a significant build-up of CO2 is akin to arguing that cloth facial coverings are air-tight.\"\"This was echoed by the American Academy of Pediatrics.Claim 5: Wearing a mask will lead to 'suffocation for babies or toddlers who cannot communicate when they need more oxygen'No public health agency recommends masks for babies.The CDC recommends children older than two wear a mask over their nose and mouth when in public settings in which it is difficult to practice social distancing.As of August 21, the World Health Organization advises that children under age five not be required to wear a mask.UC Davis's Blumberg said mask exemptions should extend to any child who cannot safely remove the mask themselves, including \"\"older children who may have impaired neurodevelopment.\"\"Also Read: Anti-mask Posts Use Fake WHO Document To Spread MisinformationClaim 6: Wearing a mask will lead to 'inhaling micro-mold caused by trapped water vapors from exhalation'Asked about this claim, Sood, an expert in infectious diseases, said: \"\"It is just completely false and baseless.\"\"\"\"The mask itself is not a risk,\"\" he said.The CDC recommends everyone wash and completely dry cloth face coverings after each wearing.If a mask gets wet, it is advisable to change it, but Blumberg, who specializes in preventing and treating childhood infections, said: \"\"Even if they do get wet by the child's own mouth -- their own oral fora -- they've already been exposed to those bacteria… so that's not going to expose them to additional bacteria.\"\"Claim 7: Wearing a mask will lead to 'ingestion of bacteria or parasites on the mask from kids' unwashed hands touching it'Good hand hygiene is key to avoiding infection from the novel coronavirus and other bacteria or parasites.Lee said, \"\"Pinworms and diarrheal illnesses have been with us from time immemorial, long before COVID-19. There is no evidence to suggest that these infections have been occurring more frequently in areas where more children are wearing masks.\"\"\"\"Ultimately, we are not putting children at risk by asking that they wear a mask. When everyone wears a mask, even children, that makes everyone's child more safe,\"\" Lee added.AFP Fact Check has debunked numerous false and misleading claims about face masks. A complete list in English is available here.Do you always want to share the authentic news with your friends?\n",
      "Treatment (Ivermectim, chloroquine and hydroxychloroquine, etc) -> Have multiple studies shown that countries treating COVID-19 with hydroxychloroquine suffer fewer deaths than those like the U.S. where its use is restricted? No, that's not true: The claim was made without citing any such studies. Lead Stories has not found peer-reviewed clinical studies that declare hydroxychloroquine is a cure, and the World Health Organization has declared the opposite putting a stop to a multi-national test of the drug when French and British researchers found it does not cut the mortality rate of hospitalized COVID-19 patients and may contribute to heart problems.The claim appeared in a video posted to YouTube on August 1, 2020, titled, \"\"Studies show countries using hydroxychloroquine have far fewer COVID-19 deaths\"\" (archived here), which opened:While the media continues to slam the use of hydroxychloroquine, numerous studies have revealed countries that used the drug are doing much better than those that haven't. One America's Pearson Sharp has the details.Click below to watch the video on YouTube:This One America News video makes several claims that either cannot be substantiated or have been rejected by the U.S. Food & Drug Administration, the World Health Organization and the Center for Disease Control.'Numerous studies' claimed -- but no citations or titles providedThe video refers to \"\"numerous studies,\"\" but does not provide the author nor title of any specific study.Although Dr. David Nazarian of Los Angeles, California, is not interviewed on camera and the time and place of his comments is not provided by the narrator, the One America News video says (at time code 1:00) that Nazarian says patients taking hydroxychloroquine are doing better than those who aren't.Board certified in internal medicine, Nazarian operates My Concierge MD, Executive Health in Los Angeles, California. On his website, he says he has worked as an emergency room doctor, as a doctor providing medical service on movie production sites and as a hospitalist. As a medical student, his website says, he served a one-month rotation in 2008 in epidemiology, the study of how diseases spread. He lists one scholarly publication, a 2004 journal article about stroke medication. Lead Stories reached out to Nazarian by phone and email on August 3, 2020, to check the research and statements attributed to him. This story will be updated, if appropriate, when Nazarian replies.Describing Nazarian as having conducted a study, the One America News narrator says:He points to countries in Africa where hydroxychloroquine is taken widely and prophylactically to protect against diseases like malaria. Incidentally, these countries have some of the lowest levels of coronavirus infections and deaths anywhere in the world.Here's the video segment containing the reference to Nazarian's research and analysis:Later in the video, the One America News narrator says \"\"doctors say\"\" hydroxychloroquine could cure between 70% to 90% of the patients diagnosed with the disease and that a Yale University School of Public Health professor of epidemiology, Dr. Harvey Risch, agrees that it could easily save 100,000 Americans.Risch, who also holds a Ph.D., specializes in cancer research and has, according to Yale's website, published hundreds of scholarly articles, told Lead Stories in an August 3, 2020, email exchange that One America's video \"\"is somewhat approximate of what I said, at the end of a Laura Ingraham episode.\"\" He appeared on the July 21 episode of \"\"The Ingraham Angle,\"\" on which he said the preventive use of hydroxychloroquine for outpatients could save thousands of lives. He told Lead Stories:What I did say is that if HCQ became immediately available and into use, some 50,000-100,000 lives could be saved.Though the One America News report does not refer to it, Risch told Lead Stories he has recently written a letter accepted for publication in the American Journal of Epidemiology taking issue with research into hydroxychloroquine. In it, he criticizes the study by which hydroxychloroquine was ruled out as a treatment for COVID-19 and calls attention to other clinical studies that say hydroxychloroquine will save COVID-19 patients. He discloses in his letter that he has done consulting work for two of the 50 manufacturers of hydroxychloroquine, azithromycin and doxycycline, but not on those drugs and not in the last two years and that he has not planned future work with those pharmaceutical companies. Such disclosures are not unusual in medical journals, as much research is underwritten by corporate sponsors.The basis for claims that hydroxychloroquine cures COVID-19Contradicting current findings of the Food and Drug Administration and the World Health Organization, Risch told Lead Stories \"\"it is also completely possible that the medication cuts the mortality by two-thirds\"\" although he concedes a claim like his, based on a review of someone else's clinical studies, is hard to assess.In 150 days there would be 100,000 lives saved in this scenario. That's 5 months. There are some assumptions in this of course, but all within reasonableness. The one-half-to-two-thirds is in the range of the various studies showing positive benefit in risk reduction for hospitalization or mortality of high-risk outpatients, the people most likely to die if they are not treated.Risch told Lead Stories he does not treat patients with COVID-19, but bases his estimates on clinical studies he has reviewed, plus his contention that the World Health Organization and FDA decisions were based on weak evidence. \"\"The whole system was wrong, to allow fraudulent papers to be uncritically peer-reviewed and vetted by the journal editors-in-chief.\"\" Risch is Editor of the American Journal of Cancer.FDA and WHO findings about hydroxychloroquineIn declaring hydroxychloroquine a life-saving COVID-19 drug, the One America News video narrator adds, at 2:38 on the timecode: \"\"That means that radical leftist governors and politicians in Washington have allowed nearly 140,000 Americans to die just to prove President Trump wrong.\"\"But, Washington-based agencies originally agreed with President Trump's position, clearing hydroxychloroquine for a rapid clinical trial to learn if it would save COVID-19 patients.The Food and Drug Administration announced an Emergency Use Authorization on March 28, 2020, for doctors to test hydroxychloroquine from the national strategic stockpile to treat COVID-19. Based on early results of studies from multiple locations, the Food & Drug Administration on June 15 revoked that permission, saying:...in light of ongoing serious cardiac adverse events and other serious side effects, the known and potential benefits of CQ and HCQ no longer outweigh the known and potential risks for the authorized use.The World Health Organization (WHO) led the multi-nation test. In an August 3, 2020, email exchange with Lead Stories, World Health Organization Communications Officer Carla Drysdale said WHO is confident in its findings that hydroxychloroquine does not improve survival rates for COVID-19 patients. She wrote:Hydroxychloroquine was found to have no impact on reducing deaths in hospitalized COVID-19 patients in large, international randomized control trials including the WHO Solidarity Trial. These trials did not study the impact of hydroxychloroquine in mild patients or in preventing COVID-19. Their focus was on its impact on mortality in COVID-19 patients.Drysdale said WHO warns patients hydroxychloroquine can have side-effects and if used for COVID-19, should only be done so with medical supervision. She said it is accepted as generally safe for patients with malaria, for which the drug was originally created.Video recycles disproven claims about COVID-19 death tallyIn addition to claiming 140,000 Americans were allowed to die preventable deaths, the video makes a somewhat contradictory claim, at 2:00 on the timecode, without offering specific states, names or numbers, that \"\"credible evidence has proven a significant number of those deaths are due to totally unrelated causes like car accidents and have nothing to do with the virus itself.\"\"Lead Stories has previously debunked similar false claims, including:- Fact Check: There Was NO Shooting Death Of A Child In Florida Counted As A COVID-19 Death- Fact Check: A Florida Motorcycle Death Is NOT Undermining The Accuracy of State's Coronavirus Death Numbers- Fact Check: The CDC Does NOT Count Pneumonia And Seasonal Flu In The COVID-19 TollLead Stories reached out via email to the One America News narrator identified as Pearson Sharp for citations, details and dates for the claims in the video. This report will be updated, as appropriate, when Sharp responds.Lead Stories has also written several articles on various claims involving hydroxychloroquine, including:- Fact Check: Dr. Fauci Did NOT Say In 2005 That Hydroxychloroquine Was Both A Cure And A Vaccine For Coronavirus- Fact Check: Hydroxychloroquine, Zinc And Zithromax Are NOT A Cure For COVID-19- Fact Check: Hydroxychloroquine Is NOT A Drug Being Held Back, And Studies ARE Underway For Vaccines That Will NOT Be Immediately Injected In People- Fact Check: No 'Deep State' Operators Trying To Ban Hydroxychloroquine\n",
      "Vaccines -> A Covid-19 vaccine “Q&A” sheet has been circulating on social media. It presents a checklist of claims about the vaccine, alongside ‘Yes’ or ‘No’ answers. Some of the claims are inaccurate and suggest the mRNA vaccines may be dangerous.The Covid-19 vaccines have been tested to the same high standards as any vaccine would be. While side effects are common, these are overwhelmingly minor and pass within a few days.Honesty in public debate mattersYou can help us take action – and get our regular free emailI’m in“Are the MRNA vaccines experimental? Yes”While these are the first mRNA vaccines to be rolled out to the general public, the technology behind mRNA vaccines has been developed over a number of years.In the UK, two of the three approved Covid-19 vaccines , the Pfizer vaccine and the Moderna vaccine - use mRNA technology.Both mRNA Covid-19 vaccines have passed the same safety tests and procedures any other vaccine would.Many vaccines work by introducing a weakened or inactive virus or bacteria into the body which triggers the immune system to produce antibodies in response. These antibodies then protect the body if it comes into contact with the real thing.Covid-19 mRNA vaccines go one step back in the process. Once inside the body, the mRNA works to build the spike proteins on the surface of the Covid-19 virus. The body then responds by producing antibodies which attack those proteins.This means that if it is later infected, the body will be able to generate a faster and more effective immune response to the virus.“Have they been safety tested on animals? No”This is untrue. The Moderna, Pfizer and AstraZeneca vaccines have all been tested on animals.The Associated Press reports this confusion may have arisen because Moderna and Pfizer were given permission to test their vaccines on human trial participants concurrently with animal tests. Ordinarily animal tests are done before human trials.“Have they been subject to medium or long term safety testing on humans? No”This depends on how you define medium or long term. The vaccines have been trialled on humans since mid-2020, so we do have over six months of safety data for each vaccine. Pfizer and Moderna have said they will continue monitoring their trialists for safety.“Are the effects of the vaccines reversible? No”It’s unclear what’s meant by “reversible”.All the vaccines are intended to protect people against Covid-19. It is unclear how long that protection will last, and so in that sense the effects of the vaccines may wear off over time.The vaccines can cause side effects but the vast majority of these, such as pain around the injection site, fatigue or nausea, are mild and pass within a few days.The evidence suggesting vaccinations can cause more serious side effects resulting in permanent damage is far more limited. For example in the Pfizer trial, the proportion of people who experienced a serious “adverse event” after vaccination with the Pfizer vaccine was 0.6% and among the group of people who received the placebo it was 0.5%.Vaccine safety is continually monitored. People in the UK who suspect they have experienced a side effect due to a vaccine are encouraged to report this to the Yellow Card scheme. These reports are then investigated to determine whether there is any link to the vaccines.The Yellow Card website says: “For all COVID-19 vaccines, the overwhelming majority of reports relate to injection-site reactions (sore arm for example) and generalised symptoms such as ‘flu-like’ illness, headache, chills, fatigue (tiredness), nausea (feeling sick), fever, dizziness, weakness, aching muscles, and rapid heartbeat. Generally, these happen shortly after the vaccination and are not associated with more serious or lasting illness.”“Will the vaccines stop me getting COVID? No”All the vaccines available significantly reduce the risk of developing Covid-19.Studies have found that people given one dose of the Pfizer vaccine have a 70% reduced risk of becoming infected, both with and without symptoms, rising to 85% after the second dose. This data comes from healthcare workers who were tested for Covid every two weeks, regardless of whether they had symptoms.Data in adults over 70 shows that both the Pfizer and the AstraZeneca vaccines are between 60-70% effective against symptomatic disease around a month after the first dose, and 85-90% after the second dose of Pfizer (this particular study didn’t look at the effect after two doses of the AstraZeneca vaccine).“Will the vaccines stop me spreading COVID? No”Evidence suggests the vaccines also stop the spread of the SARS-CoV-2 virus which causes Covid-19.The evidence suggests that one dose of either the AstraZeneca or Pfizer vaccines significantly reduces your chances of passing on the virus to members of your household, if you do catch it.Initial research, covering over a million contacts in the UK, has found that people who became infected three weeks after their first vaccination were between 38% and 49% less likely to pass the virus onto household contacts. This protection appeared from around two weeks after the vaccination, and was regardless of age.“Will the vaccines allow me to stop wearing a mask? No”Current UK government guidelines still encourage vaccinated people to follow the same rules as unvaccinated people when it comes to wearing a mask. From 19 July, the legal requirement to wear a face mask in indoor settings or public transport in England ended regardless of vaccination status. Businesses, including transport operators, can still ask their employees and customers to wear face coverings.“Do the vaccines contain genetically modified organisms (GMOs)? Yes”Some of the vaccines do contain GMOs. For example, the AstraZeneca vaccine uses a modified version of a virus, which carries the genetic instructions for producing the coronavirus spike protein into human cells, without replicating itself and infecting the body.“Do the Astra-Zeneka [sic] & Johnson & Johnson vaccines contain aborted human or monkey cells? Yes”Some vaccines use a virus as the active ingredient. As mentioned, for example, the AstraZeneca Covid-19 vaccine uses a virus.Viruses need cells to replicate, so vaccine manufacturers use cells to manufacture enough of the virus for their vaccines. For example, the influenza vaccine is often made using chicken eggs.For the AstraZeneca Covid-19 vaccine, the virus is replicated using modified copies of cells taken from an aborted foetus in the 1970s. This cell line is called HEK-293 and we’ve written about it before.The Johnson & Johnson vaccine uses a different virus grown in cells taken from an aborted foetus in 1985.So both vaccines are produced using copies of copies of these cells, rather than the original foetal cells themselves.And while the cells are used to grow the virus, they are filtered out of the vaccine, meaning neither vaccine “contain[s] aborted human...cells.”It’s unclear where the reference to monkey cells comes from, but it may be a misinterpretation of the fact that the virus used in the AstraZeneca vaccine is an altered version of a virus that typically infects chimpanzees. This doesn’t mean it comes from chimpanzees.“Do doctors have concerns about the mRNA vaccine’s long term effect on fertility? Yes”The Royal College of Obstetricians & Gynaecologists (RCOG) says that there is “no evidence” to suggest that the Covid-19 vaccines affect fertility. Similar statements have been issued by the British Fertility Association, the NHS and Public Health England.The RCOG also states that there is no biologically plausible mechanism by which the vaccine would cause fertility problems.The RCOG and the NHS recommend pregnant women get vaccinated.We’ve written more about fertility and vaccines.“Is there a risk of auto immune disease, strokes, seizures, convulsions or other side effects? Yes”As mentioned, many people may experience side effects with Covid-19 vaccines but these are overwhelmingly mild and pass within a few days.Vaccine safety is continually monitored. People in the UK who suspect they have experienced a side effect due to a vaccine are encouraged to report this to the Yellow Card scheme. As we’ve said, these are then investigated to determine whether the vaccine was the cause or not.In the US there is a similar system for reporting suspected side effects called VAERS.We’ve written more about claims linking vaccinations and specific side effects.“Have the vaccines caused any deaths or injuries? Yes”When this article was originally published, no deaths had been directly attributed to Covid-19 vaccinations. As mentioned, in the UK, deaths and side effects can be reported to the Yellow Card scheme for investigation.Since then, and as of 18 August 2021, there have been 72 deaths in the UK from a certain extremely rare type of blood clot, occurring alongside a low level of platelets (a component of the blood), following vaccination with the AstraZeneca vaccine. The MHRA has concluded there is a possible link between the two and advised that people under the age of 40 should receive a different vaccine.The Joint Committee on Vaccination and Immunisation says: “Adverse events following the Oxford/AstraZeneca vaccine are extremely rare and, for the vast majority of people, the benefits of preventing serious illness and death far outweigh any risks.”“Are the vaccine manufacturers liable for injuries or deaths caused by the vaccines? No”In the UK the vaccines have gone through all the normal safety checks and received temporary authorisation to be rolled out, but they have not been fully “licensed”. This means that vaccine manufacturers are free from some types of liability.However manufacturers aren’t fully protected. For example, the UK government says that manufacturers will still be liable if their vaccines do not meet safety standards or are “defective”.“Are there doctors and scientists recommending people NOT to take it? Yes”Some doctors and scientists are recommending people not to take Covid-19 vaccines.Far more doctors, health professionals and public health bodies are recommending the vaccine and they have been found to be safe and effective.The information included in this article contains the latest evidence and official guidance available at the time it was written. This is not a substitute for medical advice. If you require specific medical advice please consult your GP or midwife.\n",
      "COVID-19 Denialism -> A video interview of conspiracy theorist David Icke, posted on Facebook, makes a number of misleading and dangerous claims about Covid-19 vaccine manufacturers, gene therapy and asymptomatic cases of the virus.Honesty in public debate mattersYou can help us take action – and get our regular free emailI’m inAsymptomatic transmission is realDuring the video, Mr Icke claims the transmission of Covid-19 through those with asymptomatic cases of the virus is a “hoax” and brands asymptomatic Covid-19 a “load of nonsense”.This is not accurate. There is evidence that asymptomatic transmission of Covid-19 has played an important part in the spread of the Covid-19. The World Health Organisation has stated: “Whether or not they have symptoms, infected people can be contagious and the virus can spread from them to other people”. However, the extent that asymptomatic Covid-19 cases contribute to overall transmission has been debated.One analysis published in the Lancet in January 2021 states that asymptomatic Covid-19 patients are infectious (although may be less so than symptomatic patients, as has been suggested by other research). It concluded that “where resources permit, contact tracing should proactively seek people with asymptomatic COVID-19 because they can transmit disease and will need to be contained if a national policy objective is to minimise cases and transmission.”Other analysis has been more forthright – a meta-analysis of eight Chinese studies, published in the Journal of the American Medicine Association, says that transmission from asymptomatic individuals was estimated in some cases to have accounted for more than half of all Covid-19 transmissions.As we have said elsewhere, other meta analysis studies (which analyse the results of several studies together) have shown asymptomatic infections make up between 17% and 20% of cases. However, there were large ranges within the studies.The founder of the World Economic Forum did not suggest Covid-19 was a conspiracy to promote climate change agendasMr Icke also claims that Klaus Schwab, founder and executive chairman of the World Economic Forum said Covid-19 was “an opportunity for a great reset to save the world from human caused climate change” and later states that Covid-19 and climate change are “two hoaxes perpetuated by the same force”.The basis for this, he says, was a book by Mr Schwab and author Theirry Mallaret called “The Great Reset”. Since its publication in 2020 it has drawn the attention of conspiracy theorists.The Great Reset (very broadly summarised) discusses how the world’s political, business and social institutions may wish to address pre-existing geo-political concerns, such as global warming, in the aftermath of the Covid-19 pandemic.In the book Mr Schwab suggests the possibility of creating “long-lasting and wider environmental changes” through changes in behaviours and new activism as society readapts to a world in which it must co-exist with Covid-19. He also provides some evidence of some of the efforts being made by big business and others to achieve this.However, Mr Schwab also states the pandemic has created significant risk that the climate change agenda could be deprioritised as nations attempt to deal with other pressures caused by the virus.Mr Schwab states that some economies may even “put aside” concerns about global warming to concentrate on their recovery following Covid-19, which may well include subsidising “fossil-fuel heavy and carbon emitting industries”.So while Mr Schwab did talk about climate change policy and action in respect of the global recovery from Covid-19, there is nothing to suggest the pandemic was engineered to promote this agenda.Covid-19 vaccines reduce transmissionMr Icke also suggests that none of the manufacturers of Covid-19 vaccines are “claiming to stop transmission”.Evidence shows vaccines reduce the risk of infection for those who have been vaccinated, and the risk of people who have been vaccinated from passing on the virus.While manufacturers of Covid-19 vaccines have not claimed they prevent 100% of transmission, as they do not, evidence suggests the vaccines significantly reduce the risk.Evidence from Public Health England showed that the vaccine reduces the risk of infection by more than 70% which rises to 85% after two weeks. Other studies have shown recipients of the Pfizer vaccine were 95% less likely to contract Covid-19. For the Moderna vaccine that was 94% and for AstraZeneca it was 76%.Initial research, covering over a million contacts in the UK, has found that people who became infected three weeks after their first vaccination were between 38% and 49% less likely to pass the virus onto household contacts. This protection appeared from around two weeks after the vaccination, and was regardless of age.We also have repeatedly written about the links between transmission of Covid-19 and vaccines.Vaccines are not gene therapyMr Icke says plainly at one point that none of the Covid-19 vaccines fulfill the definition of a vaccine but that “they are a gene therapy”. Gene therapy is a technique to treat illnesses by modifying an individuals' genes, for example by replacing a faulty gene with a healthy one.As we have stated before, some of the Covid-19 vaccines contain messenger RNA (mRNA) that codes a protein specific to a pathogen’s surface. This mRNA provides instructions to make the proteins usually found on the surface of the Covid-19 virus. This in turn prompts the body to make Covid-19 antibodies.However, introduction of mRNA into human cells does not change the DNA of the human cells and if these cells replicate, the mRNA would not be incorporated into the new cells’ genetic information.David Icke’s other claimsThere are a number of other claims within the video which we’ve already debunked including false claims that that the inventor of PCR said it couldn’t be used to detect infectious diseases, that vaccines make you infertile and that the current Covid-19 vaccines don’t fulfil the definition of what a vaccine is.Image courtesy of Tyler Merbler, licensed under CC BY 2.0\n"
     ]
    }
   ],
   "source": [
    "print('examples clusteres')\n",
    "np.unique(bertopic2.sbert_clusters, return_counts=True)\n",
    "for i in range(len(setopics)):\n",
    "    print(bertopic2.topics_set_embeddings[i]['topic_title'],'->',data2['text'][bertopic2.topics_set_embeddings[i]['topic_idxs'][5]])"
   ]
  },
  {
   "cell_type": "markdown",
   "metadata": {},
   "source": [
    "## using examples instead of labels"
   ]
  },
  {
   "cell_type": "code",
   "execution_count": 92,
   "metadata": {},
   "outputs": [],
   "source": [
    "topic_examples2=[data2['text'][bertopic2.topics_set_embeddings[0]['topic_idxs'][2]], \n",
    "          data2['text'][bertopic2.topics_set_embeddings[-1]['topic_idxs'][1]], \n",
    "        data2['text'][bertopic2.topics_set_embeddings[2]['topic_idxs'][1]], \n",
    "        data2['text'][bertopic2.topics_set_embeddings[3]['topic_idxs'][0]], \n",
    "        data2['text'][bertopic2.topics_set_embeddings[4]['topic_idxs'][0]], \n",
    "        data2['text'][bertopic2.topics_set_embeddings[5]['topic_idxs'][0]], \n",
    "        data2['text'][bertopic2.topics_set_embeddings[-1]['topic_idxs'][5]]]"
   ]
  },
  {
   "cell_type": "code",
   "execution_count": 95,
   "metadata": {},
   "outputs": [],
   "source": [
    "bertopic2.set_topics(topic_examples2, top_n=50, min_sim=0.55)\n",
    "bertopic2.sbert_cluster_set_topics()"
   ]
  },
  {
   "cell_type": "code",
   "execution_count": 102,
   "metadata": {},
   "outputs": [
    {
     "name": "stdout",
     "output_type": "stream",
     "text": [
      "this print displays the count of docs associated with the topic labels set\n",
      "\n",
      "topic: 0 yields  567 distributed over 15 original bertopics\n",
      "topic: 1 yields  7555 distributed over 50 original bertopics\n",
      "topic: 2 yields  7096 distributed over 31 original bertopics\n",
      "topic: 3 yields  472 distributed over 17 original bertopics\n",
      "topic: 4 yields  346 distributed over 14 original bertopics\n",
      "topic: 5 yields  594 distributed over 31 original bertopics\n",
      "topic: 6 yields  7065 distributed over 21 original bertopics\n"
     ]
    }
   ],
   "source": [
    "print('this print displays the count of docs associated with the topic labels set')\n",
    "print('')\n",
    "for i in range(len(setopics)):\n",
    "    print('topic:', i, 'yields ', len(bertopic2.topics_set_embeddings[i]['topic_idxs']),\n",
    "            'distributed over', len(bertopic2.topics_set_embeddings[i]['topic_labels']),'original bertopics')"
   ]
  },
  {
   "cell_type": "code",
   "execution_count": 103,
   "metadata": {},
   "outputs": [
    {
     "name": "stdout",
     "output_type": "stream",
     "text": [
      "examples clusteres\n",
      "Virus Origin and bioweapon theory -> We’ve been asked to look into claims that the Covid-19 virus hasn’t been isolated, doesn’t fulfil “Koch’s postulates”, and that this means PCR diagnosis tests aren’t working.Honesty in public debate mattersYou can help us take action – and get our regular free emailI’m inIsolating a virusFirstly it is incorrect to say that the virus that causes Covid-19 has not been isolated.Isolating a virus means taking a pure sample of a virus from an infected being so it can be studied. There are numerous reports of the virus being isolated by teams around the world.“SARS-CoV2 has been sampled millions of times over from infected people, including those originally found to be infected in China,” Dr Stephen Griffin, a virologist and Associate Professor at Leeds Institute of Medical Research, told Full Fact.Koch’s postulatesIt’s also incorrect to say that the virus that causes Covid-19 would need to meet Koch’s postulates, primarily because Koch’s postulates weren’t written for viruses.Koch’s postulates were a set of rules outlined by scientist Robert Koch in 1890 to decide whether a bacteria causes a disease. The original four criteria are:“1. The microorganism must be found in the diseased animal, and not found in healthy animals.“2. The microorganism must be extracted and isolated from the diseased animal and subsequently grown in culture.“3. The microorganism must cause disease when introduced to a healthy experimental animal.“4. The microorganism must be extracted from the diseased experimental animal and demonstrated to be the same microorganism that was originally isolated from the first diseased animal.”As noted by many, these criteria were written before the discovery of viruses, so fail to include them in their consideration of what a disease is.Dr Griffin outlined other shortcomings in Koch’s rules.“The first postulate in particular is void as even at Koch’s time (which he later admitted)” he told us. “Folks knew that you could catch e.g. Cholera without necessarily becoming unwell - asymptomatic infection is a massive issue for these ideas (first and third postulates), as is the arrival of molecular biology!”Another of Koch’s postulates was that bacteria must be able to be isolated from the host. Viruses, unlike bacteria, require host cells in which to replicate, so also cannot be isolated in the same way Koch defined with bacteria, which according to Dr Griffin, required “culture as in a flask of media, so viruses don’t fit this idea.”So simply put, Koch’s postulates are not a good measure of what causes disease in 2020.PCR testsWe also know that PCR tests are identifying the virus that causes Covid-19 and working well.As we have written before, PCR tests used in Covid-19 testing are extremely sensitive and specific at detecting Covid-19 and do not confuse other coronaviruses, such as ones that cause the common cold, for Covid-19.“The PCR test is incredibly stringent and specific, requires two separate reactions to be positive ... and EVERY test is also sequenced, so we know it is SARS-CoV2 and not another virus,” said Dr Griffin.So in summary, Covid-19 has been isolated, Koch’s postulates don’t have to universally apply for something to cause disease, and tests to identify the Covid-19 virus do work.\n",
      "Virus contraction (who contracts the virus) and transmission (what transmits the virus) -> Were Texas and other states ordered by the Centers for Disease Control and Prevention, and the World Health Organization to fraudulently increase by 15-fold the tally of COVID-19 cases? No, that's not true. The CDC gathers data based on the non-binding suggestions of the Council of State and Territorial Epidemiologists. Aside from that, Texas Department of State Health Services data show no 15-fold increase in reported cases in Collin County, which used as the basis for the claim.The claim originated in a video and article (archived here) published by The Alex Jones Show on June 29, 2020, on the banned.video channel under the title \"\"Breaking: States Ordered To Fraudulently Inflate COVID-19 Cases 15 Times Actual Rate.\"\" The video opened with a clip from what Jones dated as a May 18, 2020, public meeting of Collin County Commissioners Court in which officials explained changes in the way \"\"probable\"\" cases of COVID-19 are counted. Jones came out of the clip saying:This is complete proof that the covid19 testing regime and the definitions they semantically use from the NIH and CDC are frauds. This has been confirmed. If one person tests positive for COVID 19, fifteen people in the computer model are then said to have it.This is what the video looked like at the time of writing:The Council of State and Territorial Epidemiologists did send states new COVID-19 case-counting guidelines in May that directed public health officials to help chart the spread of COVID-19 by listing both confirmed cases and probable cases. That change reflected what field epidemiologists had noted, that people were spreading the contagion before they knew they were carriers and disease fighters needed an earlier warning.Rather than wait for confirmed cases to show up, the epidemiologists urged public health officials to include in the count anyone for whom COVID-19 was the most likely explanation for symptoms such as high fever, respiratory difficulty and taste disorders. That way, CDC mapping would give public health officials advance notice where the contagion was moving, allowing time to warn the public to avoid events and venues where contagion spreads.But the guidelines are non-binding and The Washington Post reported June 8, 2020, that less than half of all U.S. states had adopted the new tally, including large states such as California, Florida and New York.Texas did adopt the new reporting scheme, but there has been no 15-fold rise in the number of cases there, according to these Texas data graphed by The New York Times, showing the July 3 total and the total at the time the new reporting rules were put into effect. The change over that period has been from 960 cases to 7,158, a seven-fold increase during a period when CDC data show the U.S. case total has doubled. Searching U.S. case data and state data, Lead Stories was not able to locate any instance of the 15-fold increase in reported cases referred to in Jones' claim.Here's how the Council of State and Territorial Epidemiologists explained their proposal to start counting probable cases along with confirmed cases:Epidemiological reports from the field are demonstrating a growing importance of presymptomatic and asymptomatic infections from two lines of evidence: the serial interval of COVID-19 appears to be close to or shorter than its median incubation period and clusters linked to presymptomatic and asymptomatic index cases...Here are the rules for counting suspected or probable cases, adopted April 5, 2020, and circulated for state approval:In cases where a definite diagnosis of COVID-19 cannot be made, but it is suspected or likely (e.g., the circumstances are compelling within a reasonable degree of certainty), it is acceptable to report COVID-19 on a death certificate as \"\"probable\"\" or \"\"presumed.\"\" In these instances, certifiers should use their best clinical judgement in determining if a COVID-19 infection was likely. However, please note that testing for COVID-19 should be conducted whenever possible.Clinical Criteria: At least two of the following symptoms:- fever (measured or subjective),- chills,- rigors,- myalgia,- headache,- sore throat,- new olfactory and taste disorder(s)ORAt least one of the following symptoms:- cough,- shortness of breath, or,- difficulty breathingORSevere respiratory illness with at least one of the following:- Clinical or radiographic evidence of pneumonia, OR- Acute respiratory distress syndrome (ARDS).ANDNo alternative more likely diagnosis.For this report, Lead Stories reached out to the office of Texas Gov. Greg Abbott, Texas Department of State Health Services, Collin County Public Health District, Centers for Disease Control and Prevention and to the epidemiologist who drafted the new guidelines for the Council of State and Territorial Epidemiologists. This story will be updated as needed when they reply.\n",
      "Incidence, Mortality and 'Casedemic' -> Data from the Office for National Statistics (ONS) has been shared on social media, which apparently shows the number of deaths from various non-Covid causes was far lower in December 2020 than in previous Decembers.This has been used to suggest that deaths which are now being classed as Covid-19 deaths are actually just miscategorised deaths from other causes.But this is not the case. In fact, the data from the ONS was just produced incorrectly. There were falls in the number deaths from some non-Covid conditions in December 2020, but nothing like what the tables initially suggested.Honesty in public debate mattersYou can help us take action – and get our regular free emailI’m inWhat was wrong with the data?The data, originally published on 18 January, was meant to show the number of deaths from the leading causes, averaged over the previous five Decembers (2015-2019), but there were some clear indications that there was something wrong.It appeared as if the “five-year average” figures for the number of deaths from the listed causes had been added together, but not actually been divided by five in order to create an average.Firstly, the data claimed to show that there were 114,399 deaths in England from the leading nine causes of death, averaged over the previous five Decembers. But other data within the release showed that the highest number of deaths from all causes in any single December over the previous five years was just 44,286 (in 2019).Also, while the five-year average number of deaths from these leading causes were all far higher than the levels in 2020, the rates of death per 100,000 people all appeared to be more in line with the levels in 2020.After Full Fact, and others including Italian fact checkers Facta, contacted the ONS about the error, it confirmed this was the mistake that had been made and issued new tables.What does the correct data show?The new, correct, data shows that the number of deaths in December 2020 from some non-Covid causes were slightly lower than the previous five-year average.The biggest falls were deaths from influenza and pneumonia, and “chronic lower respiratory diseases.”As we’ve written before, the UK is seeing a very mild flu season, in part due to the fact that flu vaccinations are at their highest ever level and steps the country is taking to reduce the spread of Covid-19 may also be reducing the transmission of influenza.\n",
      "Prevention (Face Mask, Vitamin D, etc.) -> FACT CHECK: No, Drinking Magnesium Citrate Cannot Prevent Or Cure CoronavirusA post shared on Facebook more than 1,100 times claims drinking magnesium citrate can “kill” the new coronavirus and stop it from spreading.Verdict: FalseThere is no scientific evidence that drinking magnesium citrate can prevent or cure the new coronavirus. The misuse of such laxative products can cause serious negative health effects.Fact Check:The internet has become replete with social media posts about alleged preventatives and cures for COVID-19, the disease caused by the new coronavirus. This particular post claims consuming magnesium citrate can “kill” the new virus and stop it from spreading. (RELATED: Does Sunlight Kill Coronavirus?)“As a medical professional I want to help as many people as possible in these hard times. If by any chance you feel sick or that you may of come in contact with Covid19,” reads the viral post. “1 bottle of this will kill the virus and stop it from spreading. IF MUST LEAVE YOUR HOUSE. DRINK A FULL BOTTLE PRIOR TO LEAVING !!! It will give you a few hours of a barrier.”Magnesium citrate is a laxative used to treat constipation on a short-term basis and to empty the bowels before colonoscopies. The misuse of such laxative products can cause dehydration, electrolyte imbalances and bleeding, among other dangerous health effects, according to Brown University.There is no scientific evidence that using magnesium citrate and other laxatives can prevent or cure the new coronavirus. Neither the World Health Organization (WHO) nor the Centers for Disease Control and Prevention (CDC) recommend magnesium citrate for such use on their respective websites. Experts have also warned the public that taking supplements and home remedies that have not been approved for preventing or treating COVID-19 by the Food and Drug Administration can cause serious negative health effects, according to The New York Times.The CDC recommends thorough hand washing, social distancing and avoiding touching the eyes, nose and mouth, among other preventative measures, to reduce the risk of infection.\n",
      "Treatment (Ivermectim, chloroquine and hydroxychloroquine, etc) -> Have multiple studies shown that countries treating COVID-19 with hydroxychloroquine suffer fewer deaths than those like the U.S. where its use is restricted? No, that's not true: The claim was made without citing any such studies. Lead Stories has not found peer-reviewed clinical studies that declare hydroxychloroquine is a cure, and the World Health Organization has declared the opposite putting a stop to a multi-national test of the drug when French and British researchers found it does not cut the mortality rate of hospitalized COVID-19 patients and may contribute to heart problems.The claim appeared in a video posted to YouTube on August 1, 2020, titled, \"\"Studies show countries using hydroxychloroquine have far fewer COVID-19 deaths\"\" (archived here), which opened:While the media continues to slam the use of hydroxychloroquine, numerous studies have revealed countries that used the drug are doing much better than those that haven't. One America's Pearson Sharp has the details.Click below to watch the video on YouTube:This One America News video makes several claims that either cannot be substantiated or have been rejected by the U.S. Food & Drug Administration, the World Health Organization and the Center for Disease Control.'Numerous studies' claimed -- but no citations or titles providedThe video refers to \"\"numerous studies,\"\" but does not provide the author nor title of any specific study.Although Dr. David Nazarian of Los Angeles, California, is not interviewed on camera and the time and place of his comments is not provided by the narrator, the One America News video says (at time code 1:00) that Nazarian says patients taking hydroxychloroquine are doing better than those who aren't.Board certified in internal medicine, Nazarian operates My Concierge MD, Executive Health in Los Angeles, California. On his website, he says he has worked as an emergency room doctor, as a doctor providing medical service on movie production sites and as a hospitalist. As a medical student, his website says, he served a one-month rotation in 2008 in epidemiology, the study of how diseases spread. He lists one scholarly publication, a 2004 journal article about stroke medication. Lead Stories reached out to Nazarian by phone and email on August 3, 2020, to check the research and statements attributed to him. This story will be updated, if appropriate, when Nazarian replies.Describing Nazarian as having conducted a study, the One America News narrator says:He points to countries in Africa where hydroxychloroquine is taken widely and prophylactically to protect against diseases like malaria. Incidentally, these countries have some of the lowest levels of coronavirus infections and deaths anywhere in the world.Here's the video segment containing the reference to Nazarian's research and analysis:Later in the video, the One America News narrator says \"\"doctors say\"\" hydroxychloroquine could cure between 70% to 90% of the patients diagnosed with the disease and that a Yale University School of Public Health professor of epidemiology, Dr. Harvey Risch, agrees that it could easily save 100,000 Americans.Risch, who also holds a Ph.D., specializes in cancer research and has, according to Yale's website, published hundreds of scholarly articles, told Lead Stories in an August 3, 2020, email exchange that One America's video \"\"is somewhat approximate of what I said, at the end of a Laura Ingraham episode.\"\" He appeared on the July 21 episode of \"\"The Ingraham Angle,\"\" on which he said the preventive use of hydroxychloroquine for outpatients could save thousands of lives. He told Lead Stories:What I did say is that if HCQ became immediately available and into use, some 50,000-100,000 lives could be saved.Though the One America News report does not refer to it, Risch told Lead Stories he has recently written a letter accepted for publication in the American Journal of Epidemiology taking issue with research into hydroxychloroquine. In it, he criticizes the study by which hydroxychloroquine was ruled out as a treatment for COVID-19 and calls attention to other clinical studies that say hydroxychloroquine will save COVID-19 patients. He discloses in his letter that he has done consulting work for two of the 50 manufacturers of hydroxychloroquine, azithromycin and doxycycline, but not on those drugs and not in the last two years and that he has not planned future work with those pharmaceutical companies. Such disclosures are not unusual in medical journals, as much research is underwritten by corporate sponsors.The basis for claims that hydroxychloroquine cures COVID-19Contradicting current findings of the Food and Drug Administration and the World Health Organization, Risch told Lead Stories \"\"it is also completely possible that the medication cuts the mortality by two-thirds\"\" although he concedes a claim like his, based on a review of someone else's clinical studies, is hard to assess.In 150 days there would be 100,000 lives saved in this scenario. That's 5 months. There are some assumptions in this of course, but all within reasonableness. The one-half-to-two-thirds is in the range of the various studies showing positive benefit in risk reduction for hospitalization or mortality of high-risk outpatients, the people most likely to die if they are not treated.Risch told Lead Stories he does not treat patients with COVID-19, but bases his estimates on clinical studies he has reviewed, plus his contention that the World Health Organization and FDA decisions were based on weak evidence. \"\"The whole system was wrong, to allow fraudulent papers to be uncritically peer-reviewed and vetted by the journal editors-in-chief.\"\" Risch is Editor of the American Journal of Cancer.FDA and WHO findings about hydroxychloroquineIn declaring hydroxychloroquine a life-saving COVID-19 drug, the One America News video narrator adds, at 2:38 on the timecode: \"\"That means that radical leftist governors and politicians in Washington have allowed nearly 140,000 Americans to die just to prove President Trump wrong.\"\"But, Washington-based agencies originally agreed with President Trump's position, clearing hydroxychloroquine for a rapid clinical trial to learn if it would save COVID-19 patients.The Food and Drug Administration announced an Emergency Use Authorization on March 28, 2020, for doctors to test hydroxychloroquine from the national strategic stockpile to treat COVID-19. Based on early results of studies from multiple locations, the Food & Drug Administration on June 15 revoked that permission, saying:...in light of ongoing serious cardiac adverse events and other serious side effects, the known and potential benefits of CQ and HCQ no longer outweigh the known and potential risks for the authorized use.The World Health Organization (WHO) led the multi-nation test. In an August 3, 2020, email exchange with Lead Stories, World Health Organization Communications Officer Carla Drysdale said WHO is confident in its findings that hydroxychloroquine does not improve survival rates for COVID-19 patients. She wrote:Hydroxychloroquine was found to have no impact on reducing deaths in hospitalized COVID-19 patients in large, international randomized control trials including the WHO Solidarity Trial. These trials did not study the impact of hydroxychloroquine in mild patients or in preventing COVID-19. Their focus was on its impact on mortality in COVID-19 patients.Drysdale said WHO warns patients hydroxychloroquine can have side-effects and if used for COVID-19, should only be done so with medical supervision. She said it is accepted as generally safe for patients with malaria, for which the drug was originally created.Video recycles disproven claims about COVID-19 death tallyIn addition to claiming 140,000 Americans were allowed to die preventable deaths, the video makes a somewhat contradictory claim, at 2:00 on the timecode, without offering specific states, names or numbers, that \"\"credible evidence has proven a significant number of those deaths are due to totally unrelated causes like car accidents and have nothing to do with the virus itself.\"\"Lead Stories has previously debunked similar false claims, including:- Fact Check: There Was NO Shooting Death Of A Child In Florida Counted As A COVID-19 Death- Fact Check: A Florida Motorcycle Death Is NOT Undermining The Accuracy of State's Coronavirus Death Numbers- Fact Check: The CDC Does NOT Count Pneumonia And Seasonal Flu In The COVID-19 TollLead Stories reached out via email to the One America News narrator identified as Pearson Sharp for citations, details and dates for the claims in the video. This report will be updated, as appropriate, when Sharp responds.Lead Stories has also written several articles on various claims involving hydroxychloroquine, including:- Fact Check: Dr. Fauci Did NOT Say In 2005 That Hydroxychloroquine Was Both A Cure And A Vaccine For Coronavirus- Fact Check: Hydroxychloroquine, Zinc And Zithromax Are NOT A Cure For COVID-19- Fact Check: Hydroxychloroquine Is NOT A Drug Being Held Back, And Studies ARE Underway For Vaccines That Will NOT Be Immediately Injected In People- Fact Check: No 'Deep State' Operators Trying To Ban Hydroxychloroquine\n",
      "Vaccines -> FACT CHECK: Does Donald Trump ‘Own Half Of Moderna’?A viral Instagram post claims former President Donald Trump “owns half of Moderna.”View this post on InstagramVerdict: FalseU.S. Securities and Exchange Commission (SEC) filings for Moderna and Trump’s most recent financial disclosure show he does not own 50 percent of Moderna. A spokesperson for Moderna also refuted the claim.Fact Check:Moderna Inc., a publicly-traded pharmaceutical company, developed a COVID-19 vaccine that received emergency use authorization from the Food and Drug Administration (FDA) for adults in December 2020. The Pfizer-BioNTech and Johnson & Johnson COVID-19 vaccines have also been respectively authorized for emergency use by the FDA, according to the agency’s website.An image alleges in an Instagram post that Trump “owns half of Moderna,” adding, “Let that sink in Qtards.” The claim, however, doesn’t hold up under scrutiny. (RELATED: Does The Moderna Vaccine Contain Luciferin?)Publicly available financial information about Moderna shows no indication that Trump holds a 50-percent stake in the company. The company’s most recent DEF-14A, an SEC filing required to be sent whenever a shareholder vote is needed, does not list Trump among its executive officers, directors and director nominees or among the beneficial owners of more than 5 percent of Moderna stock. Moderna’s most recent 10-K filing, an annual report that provides a comprehensive overview of the company’s financials, briefly discusses some actions the Trump administration took that affected the company but otherwise contains nothing that would suggest Trump holds a 50-percent ownership stake.It appears that no single entity owns half of Moderna. The company’s largest stockholder is the investment management company Ballie Gifford & Co, which has just over an 11-percent stake, according to Moderna’s most recent DEF-14A and CNN Business.There is also no evidence of Trump holding a significant ownership stake in Moderna in his most recent financial disclosure from January 2021. While much of his wealth is, according to Forbes, in real estate, the financial disclosure shows that included in his other holdings are three family trusts that are themselves invested in various funds.Check Your Fact didn’t find Moderna listed among the top 10 equity holdings for any of the funds identified in Trump’s most recent financial disclosure. At least two of the funds appear to have Moderna stock in their portfolios, but those holdings make up less than 1 percent of the funds’ assets. The Moderna holdings in those funds do not constitute direct ownership by Trump.When asked about the Instagram post’s claim, Moderna spokesperson Colleen Hussey told Check Your Fact via email, “This is not accurate.” Check Your Fact sent a request for comment to Trump’s office and will update this article if a response is provided.\n",
      "COVID-19 Denialism -> Were Texas and other states ordered by the Centers for Disease Control and Prevention, and the World Health Organization to fraudulently increase by 15-fold the tally of COVID-19 cases? No, that's not true. The CDC gathers data based on the non-binding suggestions of the Council of State and Territorial Epidemiologists. Aside from that, Texas Department of State Health Services data show no 15-fold increase in reported cases in Collin County, which used as the basis for the claim.The claim originated in a video and article (archived here) published by The Alex Jones Show on June 29, 2020, on the banned.video channel under the title \"\"Breaking: States Ordered To Fraudulently Inflate COVID-19 Cases 15 Times Actual Rate.\"\" The video opened with a clip from what Jones dated as a May 18, 2020, public meeting of Collin County Commissioners Court in which officials explained changes in the way \"\"probable\"\" cases of COVID-19 are counted. Jones came out of the clip saying:This is complete proof that the covid19 testing regime and the definitions they semantically use from the NIH and CDC are frauds. This has been confirmed. If one person tests positive for COVID 19, fifteen people in the computer model are then said to have it.This is what the video looked like at the time of writing:The Council of State and Territorial Epidemiologists did send states new COVID-19 case-counting guidelines in May that directed public health officials to help chart the spread of COVID-19 by listing both confirmed cases and probable cases. That change reflected what field epidemiologists had noted, that people were spreading the contagion before they knew they were carriers and disease fighters needed an earlier warning.Rather than wait for confirmed cases to show up, the epidemiologists urged public health officials to include in the count anyone for whom COVID-19 was the most likely explanation for symptoms such as high fever, respiratory difficulty and taste disorders. That way, CDC mapping would give public health officials advance notice where the contagion was moving, allowing time to warn the public to avoid events and venues where contagion spreads.But the guidelines are non-binding and The Washington Post reported June 8, 2020, that less than half of all U.S. states had adopted the new tally, including large states such as California, Florida and New York.Texas did adopt the new reporting scheme, but there has been no 15-fold rise in the number of cases there, according to these Texas data graphed by The New York Times, showing the July 3 total and the total at the time the new reporting rules were put into effect. The change over that period has been from 960 cases to 7,158, a seven-fold increase during a period when CDC data show the U.S. case total has doubled. Searching U.S. case data and state data, Lead Stories was not able to locate any instance of the 15-fold increase in reported cases referred to in Jones' claim.Here's how the Council of State and Territorial Epidemiologists explained their proposal to start counting probable cases along with confirmed cases:Epidemiological reports from the field are demonstrating a growing importance of presymptomatic and asymptomatic infections from two lines of evidence: the serial interval of COVID-19 appears to be close to or shorter than its median incubation period and clusters linked to presymptomatic and asymptomatic index cases...Here are the rules for counting suspected or probable cases, adopted April 5, 2020, and circulated for state approval:In cases where a definite diagnosis of COVID-19 cannot be made, but it is suspected or likely (e.g., the circumstances are compelling within a reasonable degree of certainty), it is acceptable to report COVID-19 on a death certificate as \"\"probable\"\" or \"\"presumed.\"\" In these instances, certifiers should use their best clinical judgement in determining if a COVID-19 infection was likely. However, please note that testing for COVID-19 should be conducted whenever possible.Clinical Criteria: At least two of the following symptoms:- fever (measured or subjective),- chills,- rigors,- myalgia,- headache,- sore throat,- new olfactory and taste disorder(s)ORAt least one of the following symptoms:- cough,- shortness of breath, or,- difficulty breathingORSevere respiratory illness with at least one of the following:- Clinical or radiographic evidence of pneumonia, OR- Acute respiratory distress syndrome (ARDS).ANDNo alternative more likely diagnosis.For this report, Lead Stories reached out to the office of Texas Gov. Greg Abbott, Texas Department of State Health Services, Collin County Public Health District, Centers for Disease Control and Prevention and to the epidemiologist who drafted the new guidelines for the Council of State and Territorial Epidemiologists. This story will be updated as needed when they reply.\n"
     ]
    }
   ],
   "source": [
    "print('examples clusteres')\n",
    "np.unique(bertopic2.sbert_clusters, return_counts=True)\n",
    "for i in range(len(setopics)):\n",
    "    print(setopics[i],'->',data2['text'][bertopic2.topics_set_embeddings[i]['topic_idxs'][5]])"
   ]
  },
  {
   "cell_type": "code",
   "execution_count": 104,
   "metadata": {},
   "outputs": [
    {
     "name": "stdout",
     "output_type": "stream",
     "text": [
      "reclustering\n",
      "Virus Origin and bioweapon theory -> 6824\n",
      "Virus contraction (who contracts the virus) and transmission (what transmits the virus) -> 3819\n",
      "Incidence, Mortality and 'Casedemic' -> 728\n",
      "Prevention (Face Mask, Vitamin D, etc.) -> 150\n",
      "Treatment (Ivermectim, chloroquine and hydroxychloroquine, etc) -> 3194\n",
      "Vaccines -> 952\n",
      "COVID-19 Denialism -> 2328\n"
     ]
    }
   ],
   "source": [
    "print('reclustering')\n",
    "np.unique(bertopic2.sbert_clusters, return_counts=True)\n",
    "for i in range(len(setopics)):\n",
    "    print(setopics[i],'->',np.unique(bertopic2.sbert_clusters, return_counts=True)[1][i])"
   ]
  },
  {
   "cell_type": "markdown",
   "metadata": {},
   "source": [
    "## z-test: exploration of outliers"
   ]
  },
  {
   "cell_type": "code",
   "execution_count": 105,
   "metadata": {},
   "outputs": [
    {
     "name": "stdout",
     "output_type": "stream",
     "text": [
      "Virus Origin and bioweapon theory\n",
      "total 3217\n",
      "example: Did LeBron James and Anthony Davis, the Los Angeles Lakers' leading scorers this season, wear lace collars to honor the life of Supreme Court Justice Ruth Bader Ginsburg after her death? No, that's not true: This is a satirical claim published by a known satire website. Neither James, Davis, nor any other NBA players have worn lace collars in the couple games that have happened since her death.The claim originated from an article published by \"\"The Babylon Bee\"\" on September 22, 2020, titled \"\"NBA Players Wear Special Lace Collars To Honor Ruth Bader Ginsburg\"\" (archived here) which opened:LOS ANGELES, CA--NBA players are honoring the life of Ruth Bader Ginsburg this week by wearing pretty lace collars just like Notorious RBG used to wear. In a touching show of respect for the late Justice Ginsburg, and in solidarity with her progressive cause, Lebron James and the LA Lakers took to the court yesterday wearing a stunning variety of delicate white collars inspired by RBG's wardrobe.Users on social media only saw this title, description and thumbnail:NBA Players Wear Special Lace Collars To Honor Ruth Bader GinsburgLOS ANGELES, CA--NBA players are honoring the life of Ruth Bader Ginsburg this week by wearing pretty lace collars just like Notorious RBG used to wear. In a touching show of respect for the late Justice Ginsburg, and in solidarity with her progressive cause, Lebron James and the LA Lakers took to the court yesterday wearing a stunning variety o ...The following is the actual shot of James and Davis which does not feature the photoshopped lace collars:A clip of the pregame coverage that this shot appeared in can be found here.The Babylon Bee is a satire site with following disclaimer on the 'about' page:What is The Babylon Bee?The Babylon Bee is the world's best satire site, totally inerrant in all its truth claims. We write satire about Christian stuff, political stuff, and everyday life.The Babylon Bee was created ex nihilo on the eighth day of the creation week, exactly 6,000 years ago. We have been the premier news source through every major world event, from the Tower of Babel and the Exodus to the Reformation and the War of 1812. We focus on just the facts, leaving spin and bias to other news sites like CNN and Fox News.If you would like to complain about something on our site, take it up with God.Unlike other satire sites, everything we post is 100% verified by Snopes.com.The site has been feuding with Snopes and CNN in the recent past over accusations that wasn't being transparent enough about being satirical:Satire or Deceit? Christian Humor Site Feuds With SnopesThe Babylon Bee says Snopes went too far in fact-checking a satirical story. Snopes had suggested the Bee twisted its joke to deceive readers. It's a fake-news feud made for 2019. On one side is Snopes, the influential fact-checking website founded 25 years ago.Babylon Bee stings CNN with satirical article: There's only room for 'one fake news site'The Babylon Bee had some fun at the expense of CNN after one of its reporters attacked the conservative satirical site over an article's popularity on social media.At Lead Stories we are big fans of satire but in accordance with our Satire Policy we sometimes fact-check satirical content if it seems there are many people who don't get the joke (or if the joke gets stolen by Macedonian fake news sites and is then presented as \"\"news\"\"). To quote from our Satire Policy:Sometimes jokes need to be fact checked. Not for you, because you are smart and you get the joke. But for the crazy uncle who thinks it is real. Or for the foreign journalist who doesn't know what The Onion is. Or for the people who missed the disclaimer and the hints. Or because the disclaimer and the hints were hidden on purpose.And that is certainly not hypothetical in the case of The Babylon Bee:This is why you sometimes need to fact check @TheBabylonBee-- Lead Stories (@LeadStoriesCom) January 10, 2020Not for the smart people who get the joke, but for Russian journalists who don't :-)Seems like they didn't read our fact check from last year...https://t.co/OwnhkGeCKg https://t.co/0DbZ257ukzEarly in 2020 Sputnik News was fooled by a piece from The Babylon Bee into reporting Jordan Peterson would be hosting the Oscars. If only they had read our fact check from a year before...\n",
      "\n",
      "Virus contraction (who contracts the virus) and transmission (what transmits the virus)\n",
      "total 817\n",
      "example: False: This simulation video does not show Japan’s treated water from Fukushima ‘polluting half of the Pacific ocean in 57 days’On April 11, 2021, a journalist at state-controlled broadcaster China Global Television Network (CGTN), Shen Shiwei, claimed in a tweet that Japan’s plan to release wastewater from the wrecked Fukushima nuclear reactors would pollute half of the Pacific ocean within 57 days.The post contained a simulation video from the German Institute Helmholtz Centre for Ocean Research Kiel (GEOMAR), which supposedly shows how the contaminated nuclear wastewater will spread. Chinese ambassador to the Association of Southeast Asian Nations (ASEAN), Deng Xijun, repeated the claim in his tweet on the following day.The video clip included in the two tweets has been viewed over 400,000 times and each post has been retweeted more than 700 times.A similar video and claim were also posted on Douyin by Chinanews.com, saying the model stimulation from GEOMAR is terrifying. The Douyin video got more than 3,000 shares and 377,000 likes.However, the video is nine years old. It has nothing to do with Japan’s plan that was announced last month to release treated radioactive water containing tritium, possibly starting in 2023.The clip has also been manipulated. It is cropped to make the covered area in the ocean appear bigger than in the original video, presumably to match the claim.In fact, the 2012 original simulation showed the findings of a study titled “Model simulations on the long-term dispersal of Cs-137 released into the Pacific Ocean off Fukushima,” authored by Erik Behrens, Franziska U Schwarzkopf, Joke F Lübbecke, and Claus W Böning at GEOMAR.It demonstrates a projected spread of radioactive cesium-137 in the aftermath of the 2011 Tohoku earthquake and the subsequent nuclear crisis at Fukushima.In the original video, the 57th day looks like the screen capture below.Annie Lab measured the color-coded area by overlaying it on a map through an online tool called Georeferencer.Our estimation indicates the area reached by the tracer cloud covered approximately 2,235,115.25 square kilometers, which is less than two percent of the Pacific Ocean’s total area of 155 million square kilometers.Annie Lab also plotted the colored area on the Pacific Ocean on Google Earth to visualize its comparative size (as seen below).The tracer does not cover half of the Pacific Ocean. It occupies less than two percent of the entire ocean.The manipulated video in the tweets in question cropped the original clip to remove the frame of reference on the map, the scale for radiation isotope concentration and the timescale of isotope dispersion.It also omitted the slower movement at the end of the original and accelerated the speed of the tracer, which made it appear to spread faster.Some dramatic background music was also added to replace the voice-over in the original video that described the rate of the spread of cesium.In it the scientists explained that the simulation showed how the peak concentration will reach the North American coast in five to six years and by that time, it has already been diluted.Japan’s announcement of the plan to release the treated radioactive water from the ruined Fukushima nuclear power plant was immediately denounced by neighboring countries such as South Korea and China.Annie Lab can only confirm that the video used in the tweets in question has been manipulated. It does not show what they claim. We cannot determine the impact of the planned operation on the environment.\n",
      "\n",
      "Incidence, Mortality and 'Casedemic'\n",
      "total 14\n",
      "example: What was claimedThere were no Covid-19 deaths in Ireland in August.Our verdictIncorrect. There were 14 confirmed Covid-19 deaths in Ireland in August.There were no Covid-19 deaths in Ireland in August.Incorrect. There were 14 confirmed Covid-19 deaths in Ireland in August.There were 700 deaths from cancer in Ireland in August.We don’t know these figures yet as it is too soon after the fact. The figure for cancer seems realistic from past trends, as there were around 830 deaths caused by cancer in Ireland per month in Q1 of 2020.There were 70 deaths from alcohol in Ireland in August.We could find no source for this figure. A 2013 average of 88 alcohol-related deaths a month in Ireland includes a number of different factors, such as the coroner mentioning alcohol dependency, certain alcohol-related diseases, and if they were an alcoholic.There were 32 deaths from suicide in Ireland in August.It’s too soon to know this figure as only a coroner can officially rule a death as a suicide, but this figure is realistic looking at past data.A post on Facebook comparing the number of deaths caused by Covid-19, cancer, alcohol and suicide in Ireland in August has been shared over 2,000 times. The post gets a lot wrong, mainly that no-one died of Covid-19 in that time, when 14 people did.Honesty in public debate mattersYou can help us take action – and get our regular free emailThe post claims that there were no Covid-19 deaths in August in Ireland. This is incorrect—there were 14 confirmed Covid-19 deaths in Ireland between 1 August and 31 August.This includes deaths both in hospitals and community settings. Thejournal.ie have written more about how deaths are counted in Ireland here.Although governments are providing much more detailed information around Covid-19 deaths because of the pandemic, we do not generally get official data for the number of deaths from other causes this soon after the fact, either in Ireland or the UK.For example, Ireland’s Central Statistics Office has only published death statistics for the first quarter of 2020.In that period there were 2,483 deaths from malignant neoplasms (cancer). This works out to about 830 a month, making the claim in the post that 700 people died of cancer in August a realistic figure, although as yet unproven.Alcohol itself is not an official cause of death category, and we weren’t able to find a source for the 70 figure claimed in the post.The charity Alcohol Action Ireland claims that 88 deaths every month in Ireland are “directly attributable to alcohol”. This figure seems to come from 2013, when there were 1,055 alcohol related-deaths, or an average of 88 a month, according to Ireland’s National Drug-Related Deaths Index.We have not looked in detail at this figure, but it includes deaths where alcohol was named as a reason for death by the coroner, where it was recorded on the death certificate that the person was an alcoholic, had specific alcohol-related diseases, had a recorded history of treatment for alcohol abuse, and some other cases. This means this figure may well double count some of the other types of death mentioned in the post.In Ireland, thejournal.ie fact checked similar viral claims, that 33 people had died by suicide in a single month (or week) in Ireland. It quoted a coroner as saying the claim was: “speculation at most and hearsay at worst.”It concluded that although that figure wasn’t impossible, there was no evidence to prove it was the case, as it was too soon for deaths that recent to have been ruled as suicide. Looking at data for previous years, it found there were an average of 10 per week, which would make the figure in the post feasible.The Samaritans’ helpline is available at all hours and can be contacted free on 116 123 in the UK and Ireland, or you can email jo@samaritans.org.This article is part of our work fact checking potentially false pictures, videos and stories on Facebook. You can read more about this—and find out how to report Facebook content—here. For the purposes of that scheme, we’ve rated this claim as partly false because the post is a mixture of true and false or unproven claims.Full Fact fights for good, reliable information in the media, online, and in politics.\n",
      "\n",
      "Prevention (Face Mask, Vitamin D, etc.)\n",
      "total 56\n",
      "example: Facebook posts falsely report 'arrest' of discredited US researcher who featured in 'Plandemic' videoMultiple Facebook posts shared in February 2021 claim police have detained discredited US researcher Judy Mikovits for \"\"discovering evidence that deadly retroviruses are transmitted through vaccines\"\". This is false: Mikovits has not been arrested in 2021. She was arrested and briefly jailed in 2011 for unlawfully taking data from her former employer, court documents show. The charges against her were dropped in 2012, according to US media reports. A 2009 study she co-authored on retroviruses did not focus on vaccines and was retracted. There are no credible reports that Mikovits has been detained in 2021.The claims were shared in this Facebook post on February 1, 2021.It features a photo of Mikovits, who has previously falsely claimed that flu vaccines contain coronaviruses and that Covid-19 jabs could kill 50 million Americans. She appeared in the viral 2020 documentary “Plandemic”, which was widely discredited for making false claims about Covid-19.“Thanks to Anthony Fauci, she was arrested without charges and placed on a 5 year gag order, destroying her reputation, career, and personal life,” the post reads.“Molecular biologist Dr. Judy A. Mikovits was thrown in jail after discovering evidence that deadly retroviruses are transmitted through vaccines given to humans.”Identical posts have been shared on Facebook around the world during the pandemic, including Canada, the US and the Philippines.The claim is false. There are no credible reports that Mikovits has been detained in 2021.In 2011, she was arrested and briefly jailed in California. According to documents from a California district court, however, she was arrested on charges of theft from the laboratory that performed the ill-fated study, not for research on retroviruses.\"\"Plaintiff Judy Anne Mikovits... (was terminated) as a researcher with the Whittemore-Peterson Institute (WPI), located in Reno, Nevada, and (subsequently arrested on allegations) that she stole propriety information from the research facility. On November 18, 2011, plaintiff was arrested Ventura County,\"\" this court filing reads.She was earlier charged in Reno with \"\"possession of stolen property\"\" and \"\"unlawful taking of computer data, equipment, supplies, or other computer related property\"\".The same details surrounding her arrest were reported by the New York Times, Science magazine, ABC News, and the Chicago Tribune.The charges against her were eventually dropped, the New York Times reported on June 14, 2012.Discredited researchThe claim that Mikovits was jailed for her allegedly discovering evidence that “deadly retroviruses are transmitted through vaccines” is also misleading.Keyword searches on Google Scholar did not yield any reliable academic publication indicating she made such a discovery.Mikovits’s discredited study on retroviruses found that the retrovirus XMRV was frequently present in the blood of chronic fatigue sufferers, without establishing a causal link.The findings of the research were published in the academic journal Science in 2009 and aroused great interest at the time as it provided a possible explanation for the origins of chronic fatigue syndrome, a debilitating disease that had long baffled scientists.The study did not find that “deadly retroviruses are transmitted through vaccines”.The paper was retracted in 2011. Academic journal Science cited sample contamination and failure by multiple laboratories to replicate its findings.“Multiple laboratories, including those of the original authors, have failed to reliably detect (the retrovirus) or other… related viruses in chronic fatigue syndrome (CFS) patients,” the retraction read. “In addition, there is evidence of poor quality control in a number of specific experiments in the report.”\n",
      "\n",
      "Treatment (Ivermectim, chloroquine and hydroxychloroquine, etc)\n",
      "total 809\n",
      "example: False: Kurnool MLA Hafeez Khan Forced Nurse To Apologise To A ClericBOOM found that the nurse was attending to the man as he had accidentally injured his foot.A photo of nurse cleaning the wound of a patient's feet is viral with a false communal angle that she was forced to apologise to a cleric after she made derogatory remarks about him.The viral picture shows a nurse attending to the feet of Muslim man at a quarantine center in Kurnool, Andhra Pradesh is being shared with a caption that the local Member of the Legislative Assembly (MLA) Hafeez Khan, seen in the picture in a white shirt, ordered her to touch his feet and apologise.The viral photo is being shared with the false claim, \"\"In AP Kurnool medical college , local MLA Hafiz Khan forced a nurse to touch d feet of head of muslim and say sorry . Reason , the nurse was telling her collegues, if these people who went to markaz , if they had gone on Quarantine by themselves , this situation would not have arose .\"\"Click here to view, and here for an archive.We searched with the same caption and found that the photo was being shared with the false claim.Also Read: False: Markaz Attendee Thrashed By Cops For Misbehaving With Hospital StaffFACT-CHECKBOOM contacted Kurnool MLA Hafeez Khan who said that the photo was from his inspection visit to a quarantine center in Rayalaseema University, Kurnool. He explained that during his rounds he saw a nurse tending to a patient who had injured his foot.Speaking to BOOM, Khan said, \"\"I visited the quarantine center about a month ago and while there I saw a patient who was bleeding from his leg. A nurse was attending to him and when the picture was clicked I was asking the nurse whether we should take the patient to the hospital in my car.\"\" He added, that the nurse refused and said an ambulance was on its way for the same. \"\" The patient suffered from diabetes and was taken to the hospital soon after this picture was clicked,\"\" he said.We also came across a Facebook post shared by Khan rubbishing the claims made with the viral image calling them false. \"\"A senior citizen was injured during quarantine, and it was the nurse who is doing first aid to him,\"\" Khan said in his post.Additionally, Khan also shared a video on Facebook of the same man sitting with his leg visibly covered in bloodstained bandages. The man is wearing the same clothes in the viral image as in the video posted by Khan confirming that it is the same person.On comparing the man in the viral video with the viral image we found that in the viral image one can spot blood stains on his foot and the floor is wet where the man is standing. In both the video and the viral image the facial features and clothes match which confirm that both are the same person.Kurnool Police also issued a statement on April 23, 2020, dismissing the communal rumours. In its statement the police said, that man is a diabetic patient and has weak eyesight due to which he had accidently injured his foot on the gate of the building. There was excessive bleeding and Sarasvati, a nurse at the center was washing the wound and fastening the bandage. So the ambulance was called and the patient was sent to the hospital for better treatment said the post when translated from Telgu.A video of the nurse explaining the events was also posted on Facebook by Khan. In the video she says that she was attending to the patient's wounds. Click here.This viral image is the latest example of disinformation targeting Indian Muslims with a narrative that blames them for spreading the novel Coronavirus after several members of the Tablighi Jamaat - an Islamic sect - tested positive and were responsible for a spurt of cases in several states.Also Read: No, A Temple Was Not Turned Into A Quarantine Center For Muslims In APAndra Pradesh has reported 1061 positive COVID-19 cases and 31 deaths while writing this article. Follow BOOM's LIVE blog for recent updates: Coronavirus LIVE Update: India Reports 24,942 Cases, 779 DeathsDo you always want to share the authentic news with your friends?\n",
      "\n",
      "Vaccines\n",
      "total 716\n",
      "example: On May 30, ANM (auxiliary nurse midwife) Neha Khan from Jamalpur Primary Health Centre in Aligarh was booked for allegedly disposing 29 syringes filled with COVID-19 vaccine without administrating them to the beneficiaries. ANI reported that on a complaint of the CMO, the police has lodged an FIR against Khan and the Medical Officer-in-charge of the primary health centre Afreen Zehra. Khan has denied the allegations and called them a conspiracy against her.Zee Hindustan reported on the case and aired a video of a healthcare worker pulling out a syringe without administering the vaccine to a person.कट्ट़रपंथियों से सीधे सवाल करने वाला बहुत बड़ा खुलासा | देश में कौन कर रहा है Vaccine वाला जिहाद ?उत्तर प्रदेश के अलीगढ़ जिले में निहा खान नामक एक नर्स पर बड़ा खुलासा हुआ है…निहा पर आरोप है कि वो बड़ी सफाई से कोरोना वैक्सीन कूड़ेदान में डाल देती थी और मरीजों को खाली सिरिंज चुभा देती थी…Posted by Zee Hindustan on Sunday, 30 May 2021This broadcast is massively widespread on social media. BJP Rajasthan spokesperson Laxmikant Bharadwaj shared the portion of the Zee Hindustan broadcast where the video was played.यूपी में नर्स निहा खान का कारनाम देखिए कैसे इंजेक्शन की सुई चुभोकर बिना वैक्सीन डिस्चार्ज किए वापस निकालकर डस्टबिन में फेंक देती थी।योगी राज था इसलिए गिरफ़्तार भी और बर्खास्त भी हो गई । पर मक़सद क्या था ? pic.twitter.com/rrS9Umwn7o— Laxmikant bhardwaj (@lkantbhardwaj) May 30, 2021BJP Delhi spokesperson Manish Shulka also tweeted the video. And so did BJP supporters Renuka Jain, Arun Pudur and Atul Ahuja.नर्स निहा खान का कारनाम देखिए कैसे इंजेक्शन की सुई चुभोकर बिना वैक्सीन डिस्चार्ज किए वापस निकालकर डस्टबिनमें फेंक देती थी।गिरफ़्तारकर बर्खास्त कर दिया गया है किंतु छोटी-छोटी बातोंपर हल्ला मचानेवाले कैसे चुप्पी साध कर बैठ गये है ।ये शान्ति ख़तरनाक है।@shalabhmani @Lawyer_Kalpana pic.twitter.com/VTccdIFOLj— Manish Shukla (@manishBJPUP) May 30, 2021“The video of the act has gone viral on social media, where Niha Khan can clearly be seen inserting the Covid 19 vaccine in recipients, but skillfully taking it out without releasing the medicine,” reported OpIndia, sharing Barkha Trehan’s tweet.The video is circulating on Facebook as well. It has drawn 9.3 lakh views from the Facebook page ‘Headlines India’.नर्स निहा खान ने कूडे में फेंकी 29 वैक्सीन तो योगी ने कर दी तगड़ी कार्यवाहीनर्स निहा खान ने कूडे में फेंकी 29 वैक्सीन तो योगी ने कर दी तगड़ी कार्यवाहीPosted by Headlines India on Sunday, 30 May 2021This page played another video which is also circulating on social media with the same ‘Neha Khan’ claim.#वैक्सीन_जिहादअलीगढ़ में नर्स निहा खान बड़ी सफाई से मरीजों को खाली💉 syringe लगा देती थी और कोरोना की वैक्सीन कूड़ेदान में डाल देती थी किसी जागरूक नागरिक ने वीडियो बनाया 📸आरोपी नर्स नीहा खान के खिलाफ मुकदमा दर्ज किया गया हैPosted by शिव नारायण on Sunday, 30 May 2021Video 1: Zee Hindustan airs video from EcuadorThe video of a nurse removing the needle without injecting the vaccine was shared by Ecuador-based Twitter handle @gabriela_ma94 on April 26. Former Minsiter of Health of Ecuador Dr Camilo Salinas responded to the handle that the nurse and the patient have been identified and an investigation has been launched.SaludosTenemos identificado al enfermero y el paciente .Se inicia la investigación daremos detalles pronto.— Dr.Camilo Salinas Ochoa (@CamiloSalinasOF) April 25, 2021CNN en Español reported that Secretary-General of the Cabinet of the President of Ecuador Jorge Wated said that the man, 55, fraudulently passed the queue for people above 65 years of age to get vaccinated. The nurse did not vaccinate him at first, as seen in the video, but later did give him a dose. They were both detained for investigation.The Ministry of Health of Ecuador had tweeted a press release on April 26 itself that said the nurse was identified. The incident took place at a vaccination centre in Mucho Lote in Guayaquil.COMUNICADO | Ante lo ocurrido hoy en el punto de vacunación #MuchoLote, informamos a la ciudadanía que el profesional de la salud fue identificado y será investigado por las autoridades pertinentes.Manténgase informado por los canales oficiales. pic.twitter.com/4LaWYvjXUs— Salud_Ec (@Salud_Ec) April 26, 2021Ecuadorian journalist Dayanna Monroy tweeted a video showing the police escorting both the man and the nurse from the centre. She wrote that the nurse was detained for investigation after he was caught pretending to vaccinate a person. The man was also detained because he was not eligible for vaccination at the time.⏩ Detienen para investigaciones al enfermero que fingió vacunar a un ciudadano contra el COVID.El paciente, que fue pinchado sin recibir la dosis, también fue detenido para investigaciones por supuestamente no ser adulto mayor. pic.twitter.com/07Xozx28rF— DayannaMonroy (@dayannamonroy) April 26, 2021Zee Hindustan, therefore, picked up a video from Ecuador and falsely linked it to the case where ANM Neha Khan was booked in UP for allegedly throwing syringes filled with COVID vaccine in the dustbin. The nurse who was detained in the case from Ecuador was a man.Video 2: From MexicoThe other video shared by a few users was debunked by Alt News last month. The incident had occurred in Macro Vaccination Unit based at the National School of Biological Sciences Zacatenco Unit of National Polytechnic Institute (IPN) in Mexico. The volunteer vaccinator was removed from the vaccination centre.Independent journalism that speaks truth to power and is free of corporate and political control is possible only when people start contributing towards the same. Please consider donating towards this endeavour to fight fake news and misinformation.\n",
      "\n",
      "COVID-19 Denialism\n",
      "total 692\n",
      "example: AFP photo of 2018 World Cup celebrations shared online alongside false claim about Covid-19 protest in ParisAn image has been shared hundreds of times in multiple Facebook posts that claim it shows a major protest in Paris against coronavirus restrictions in December 2020. The claim is false; the image, taken by an AFP photographer, actually shows celebrations in Paris following France’s World Cup win in 2018.The Facebook post was published here on December 19, 2020. It has been shared more than 700 times.The text superimposed on the image reads: “Looks Like Paris Has Had Enough Tonight! The World Is Awake. 18.12.2020 Paris”.The post’s caption reads: “I Posted this REVOLUTION IMAGE Last Night!\"\"FB DELETED IT .. Here is is AGAIN!\"\"FRANCE is STANDING UP!!\"\"NO MORE BANKSTERS CONTROL!\"\"NO More Fake Covid Controls ..\"\"NO MORE Money / Financial Controls ..\"\"LIBERTY, EQUALITY, FRATERNITY!!!”The image was also shared alongside a similar claim here, here, here, here, and here.The claim, however, is false.A Google reverse image search of the post found this report on UK news site Metro. The report, which includes the same image, is about celebrations in Paris following the French national football team’s win at the 2018 World Cup.The image was taken by an AFP photographer. It can be viewed here on the AFP website and here on Getty Images. The photo was taken on July 15, 2018.The image's caption reads: “This picture taken from the top of the Arch of Triumph (Arc de Triomphe) on July 15, 2018 shows people lighting flares as they celebrate after France won the Russia 2018 World Cup final football match against Croatia, on the Champs-Elysees avenue in Paris.”Below is a comparison of the image in the misleading Facebook post (L) and the AFP photo (R):The location facing the Champs-Elysees, where the image was taken, can be viewed here on Google Street View.\n",
      "\n"
     ]
    }
   ],
   "source": [
    "# 25% of distribution with smallest distance to centroids\n",
    "top_to_remove = 0.75\n",
    "bottom_to_remove = 1\n",
    "outliersMinP=bertopic2.get_sbert_z_outliers(norm.ppf(bottom_to_remove/2))\n",
    "outliersMaxP=bertopic2.get_sbert_z_outliers(norm.ppf(top_to_remove/2))\n",
    "for i in range(len(setopics)):\n",
    "    print(setopics[i])\n",
    "    n=len(list(set(outliersMinP[i])-set(outliersMaxP[i])))\n",
    "    print('total', n)\n",
    "    if n>0:\n",
    "        print('example:',data2['text'][list(set(outliersMinP[i])-set(outliersMaxP[i]))[random.randint(n)]])\n",
    "    print('')"
   ]
  },
  {
   "cell_type": "code",
   "execution_count": 106,
   "metadata": {},
   "outputs": [
    {
     "name": "stdout",
     "output_type": "stream",
     "text": [
      "Virus Origin and bioweapon theory\n",
      "total 741\n",
      "example: FACT CHECK: Viral Image Claims To Show Nancy Pelosi Violating COVID-19 Safety Guidelines For Social GatheringsAn image shared on Facebook claims to show House Speaker Nancy Pelosi violating coronavirus safety guidelines by attending a party and not wearing a mask.Verdict: FalseThe image was taken in January 2020, over a week before the U.S. confirmed its first COVID-19 case.Fact Check:Under phase two coronavirus restrictions put in place by D.C. Mayor Muriel Bowser, indoor gatherings are currently limited to 10 people, and restaurants are limited to operating at 25 percent capacity indoors. Masks must be worn inside public establishments except while eating or drinking, according to the guidelines.A post on Facebook shares an image of Pelosi gathered around several people. No one appears to be wearing a mask or practicing social distancing. The photo’s caption reads, “Ladies and Gentlemen here’s your speaker of the house enjoying a party after she tells you you can’t have social gatherings.”Through a reverse image search, however, Check Your Fact found that the image is actually from the Jan. 7 opening of Maialino Mare, a restaurant in D.C. The image was taken by Washingtonian Magazine food editor Anna Spiegel and posted on her Twitter account that same day.Nancy Pelosi at Danny Meyer’s Maialino Mare opening in Navy Yard. pic.twitter.com/OMkVtxeEEk— Anna Spiegel (@AnnaSpiegs) January 8, 2020“Nancy Pelosi at Danny Meyer’s Maialino Mare opening in Navy Yard,” Spiegel tweeted along with the photo. (RELATED: Was Nancy Pelosi Pictured With The Manson Family In 1969?)Pelosi was not in violation of any COVID-19 restrictions in D.C. in the image. D.C. reported its first positive COVID-19 case on March 7, two months after the photo of Pelosi was taken, ABC 7 reported. Bowser then declared a public health emergency on March 11 and issued a stay at home order on March 30, according to DCist.The novel coronavirus first emerged in China late last year, according to the New York Times. The Centers for Disease Control and Prevention didn’t confirm the first COVID-19 case in the U.S. until Jan. 21, over a week after Pelosi attended the restaurant opening.Pelosi’s office previously addressed claims that she violated COVID-19 safety guidelines in San Francisco in September while receiving a haircut indoors, CNN reported.\n",
      "\n",
      "Virus contraction (who contracts the virus) and transmission (what transmits the virus)\n",
      "total 1415\n",
      "example: Guinea has not ordered the arrest of all Chinese nationalsA video of a man rebuking foreigners has been viewed thousands of times on social media alongside a claim that the Guinean government has ordered the arrest of all Chinese nationals in the country while awaiting the safe return of Guineans from China. However, the video was actually recorded last year before the pandemic, and the Guinean government has not issued any such order.In the video, a visibly angry French-speaking man is heard rebuking foreigners and demanding that they respect Guineans. Behind him, a group of Asian men and women look on, while cheers and clapping can be heard off-camera.“This can’t go on. Either they respect the laws of this country, or they get out of here,” the man says in French.On April 18, 2020, a Kenyan blogger with more than one million followers tweeted the video and wrote: “Guinea has allegedly arrested Chinese nationals in the country and has asked Beijing to assure the safe return of her citizens from China before they are released. #ChineseInKenyaMustGo”.The video was also posted with the same claim to Instagram on April 17, 2020. It has since been viewed more than 2,000 times and used in an article by a Kenyan website.The same claim was also posted on Facebook here, here and here.This video appeared online after Africans living in southern China report they have been victims of arbitrary evictions and discrimination during the pandemic, as covered by AFP here. In mid-April, the African Union expressed “extreme concern” about the situation and called on Beijing to take action.An old videoThe man in the video is not a government official, as some posts suggested, but the leader of a trade union.AFP was able to identify the man by searching for the keywords (in French) “Chinois” (Chinese) and “Guinée” (Guinea) on YouTube. This led us to another version of the same video, below, where the description identifies the man as a Guinean union member going by the name “Mara.”Further keyword searches using “Mara” and “syndicaliste” (French for unionist) led to numerous photos and articles about Aboubacar Sidiki Mara, the secretary-general of the General Union of Workers of Guinea (UGTG), who is the man seen in the video.Mara is a prominent union figure in Guinea. In May 2018, he was charged with “incitement to revolt” and given six months in jail, with a four-month suspended sentence.AFP contacted Mara, who said that the video was filmed last year before the start of the pandemic near Boffa, a town about 200 kilometres north of the capital, Conakry.“It was a reaction that I had when a Chinese person attacked a Guinean person in the Boffa port. I was present on the scene, and I asked the workers to chase the Chinese out of the region,” he said, adding that the matter was later settled amicably.No arrest orderContrary to the claim being shared alongside the video, there is no record of the Guinean government ordering the arrest of Chinese nationals residing in the west African nation.On April 14, 2020, Guinean Minister of Foreign Affairs Mamadi Touré held a cordial meeting with Huang Wei, the Chinese ambassador to Guinea, where he expressed his “deep concern about the differential treatment and the stigmatization which the Africans were undergoing” in China’s province of Guangdong, according to a statement published on the ministry’s official Facebook page.According to this statement, the Chinese ambassador said that China attached “great importance to this situation” and that “the Chinese central government has given firm instructions to the localities in order to improve the mechanisms, methods and conditions of confinement”.In a statement published on April 20, 2020, the Chinese embassy in Guinea denied any arrests of its citizens had taken place.“Recently, certain online media made noise about articles and videos on 'the arrest of Chinese nationals in Guinea by the Guinean government'. The embassy of China in Guinea attaches great importance to this matter,” the statement said. “Following verification, we have found that these are pure and simple lies. We indignantly protest what is apparent defamation that aims to attack the friendship between China and Guinea and between China and Africa.”\n",
      "\n",
      "Incidence, Mortality and 'Casedemic'\n",
      "total 471\n",
      "example: What was claimed£1 billion was given to 13 companies for PPE but no PPE has been supplied.Our verdictThese contracts appear to be real contracts for PPE, but there is no evidence that the contracts were all unfulfilled.£1 billion was given to 13 companies for PPE but no PPE has been supplied.These contracts appear to be real contracts for PPE, but there is no evidence that the contracts were all unfulfilled.A viral Facebook post claims that the government spent £1 billion on personal protective equipment (PPE) which never arrived.The contracts listed are real, but there is no evidence to say that none of this PPE ever arrived.For example, the first contract listed was to procure face masks from Ayanda Capital Ltd for £252 million. Ayanda Capital Ltd was the only bidder. Its Chief Operating Officer is quoted as saying that the contract was “successfully fulfilled.”While it is undisputed that the PPE was delivered, it was subsequently revealed that the masks were deemed by the Department of Health and Social Care as not suitable for use in the NHS. It is unclear whether they were used elsewhere.The second relates to a series of contracts awarded to Uniserve Ltd, amounting to £186 million. Uniserve Ltd was the only bidder for all five contracts.The company regularly publishes updates on its deliveries of PPE. We asked the company as to the status of PPE deliveries related to those contracts and will update this piece if we receive a response.Concern has been raised about how the government procured PPE and other services during the pandemic. There have been reports of PPE being delayed or unusable.It’s possible that some PPE contracts have not been fulfilled, but there is no evidence we’ve seen that all of the contracts, if any, listed in this Facebook post remain unfulfilled.Update 11 August 2020We have updated this piece with more information about the contract with Ayanda.This article is part of our work fact checking potentially false pictures, videos and stories on Facebook. You can read more about this—and find out how to report Facebook content—here. For the purposes of that scheme, we’ve rated this claim as partly false because while these contracts are real there is no evidence that all these contracts were all unfulfilled.Full Fact fights for good, reliable information in the media, online, and in politics.\n",
      "\n",
      "Prevention (Face Mask, Vitamin D, etc.)\n",
      "total 34\n",
      "example: SUMMARYThis is AI generated summarization, which may have errors. For context, always refer to the full article.At a glance:- Claim: The tally of active COVID-19 cases being done by the Department of Health (DOH) is manipulated by doctors.- Rating: FALSE- The facts: Doctors have no way of manipulating the COVID-19 tally, since the number of those who test positive come from laboratories certified by the DOH and the Research Institute for Tropical Medicine using RT-PCR tests. Since March 30, positive rapid antibody tests in the “NCR Plus” region have also been included in the national count.- Why we fact-checked this: Facebook page “A DUMB Adam Betlog” posted a video with this claim, and the video has garnered over 43,000 reactions, 13,000 comments, and 18,000 shares as of writing.Complete details:A video posted on April 9 by Facebook page “A DUMB Adam Betlog” falsely claimed that doctors had been manipulating data to convert non-COVID-19 cases into active COVID-19 cases in the national tally.In the video, physical therapist Ron Samaniego reiterated previous claims he posted on his former Facebook page, “Bantayan Network by Dr. Ron,” which has since been taken down. In a mix of English and Filipino, Samaniego said, “The matter is, the exact fact is, the figures being released by the DOH aren’t real because the statistics are being manipulated by doctors converting non-COVID cases into COVID.”The Facebook page “A DUMB Adam Betlog” has over 11,400 followers and as of writing, and the video has garnered over 43,000 reactions, 13,000 comments and 18,000 shares. Similar claims have been made by Samaniego or more commonly known as “Dr. Ron,” since March, according to social media monitoring tool CrowdTangle.This claim is false.Doctors have no way of manipulating the data. According to the DOH, confirmed cases are those tested positive by a DOH-RITM-certified lab. In the national tally of COVID-19 cases, the DOH has been using the results of real-time reverse transcription polymerase chain reaction tests since 2020. RT-PCR tests are the more reliable option for determining the presence of the virus, at the expense of being less affordable than the rapid antibody tests and yielding a longer time for processing results at approximately 24 to 48 hours.On March 30, the DOH announced the inclusion of positive rapid antibody tests in the “NCR Plus” region of Metro Manila, Bulacan, Rizal, Laguna, and Cavite in the national count. Rapid antibody tests are used in these “outbreak areas” where, according to the DOH, the RT-PCR tests may not be able to keep up with the spread of the virus.The Philippines also conducts “risk-based testing,” wherein local government units do house-to-house visits to identify those who have symptoms of COVID-19, subject them to RT-PCR testing, and isolate immediately if found positive.Swabs collected from RT-PCR tests at COVID-19 testing centers set up by the DOH and the RITM – the Philippines’ national reference laboratory for infectious and tropical diseases – are monitored, screened, and validated according to a process that spans days. Even if the sample from the swab tests positive, it is still subject to a confirmatory test before the results are released. The released results are encoded and sent to the Regional Epidemiology Surveillance Unit that then forwards them to hospitals, and are collated in the national tally.On April 4, the DOH published a graphic on their official Facebook page debunking Samaniego’s other false claims. Samaniego is also not part of the Philippine Physical Therapy Association Incorporated, and on April 6 the organization released a statement against his videos containing false information and circulating on social media.As of April 19, the Philippines has over 141,375 active cases and the number of deaths has reached 16,000. – Sofia Guanzon/Rappler.comMore fact checks related to COVID-19:- FALSE: Ivermectin approved as COVID-19 cure in the Philippines- FALSE: COVID-19 pandemic is over, vaccine unnecessary- FALSE: Vitamin D can reduce COVID-19 deaths by 60%- FALSE: COVID-19 vaccines are ‘barcodes for life’- FALSE: Duque, Domingo face jail time for delayed Ivermectin approval- FALSE: Media did not report on March 23 COVID-19 case tallySofia Guanzon is a Rappler intern. This fact check was reviewed by a member of Rappler’s research team and a senior editor. Learn more about Rappler’s internship program here.Keep us aware of suspicious Facebook pages, groups, accounts, websites, articles, or photos in your network by contacting us at factcheck@rappler.com. Let us battle disinformation one Fact Check at a time.There are no comments yet. Add your comment to start the conversation.\n",
      "\n",
      "Treatment (Ivermectim, chloroquine and hydroxychloroquine, etc)\n",
      "total 190\n",
      "example: What was claimedYou cannot catch Covid-19 person to person.Our verdictThis is incorrect. Like other coronaviruses, Covid-19 is spread via respiratory droplets from an infected person to an uninfected person.You cannot catch Covid-19 person to person.This is incorrect. Like other coronaviruses, Covid-19 is spread via respiratory droplets from an infected person to an uninfected person.You cannot catch Covid-19 from touching surfaces.Incorrect. Respiratory droplets can land on surfaces and the virus in these droplets have been shown to remain viable for up to 72 hours on some surfaces.Viruses are dead material expelled from healing cells. Everyone has thousands of viruses inside their body.There is debate about whether viruses are technically alive. The human body does contain a number of viruses that don’t do harm. Covid-19 is caused by a virus that is potentially very harmful though.Masks decrease oxygen intake, increase carbon dioxide intake, increase toxin intake, increase stress levels which directly impacts the immune system in a negative way making us more susceptible to illness.Fabric and medical face masks should not affect breathing and the NHS says they are safe for anyone over the age of three who can manage them correctly. Certain types of masks called respirators can affect gas exchange, but can still be safely worn for several hours in a row in healthcare environments. There’s no evidence masks harm the immune system.A graphic on Facebook has made a number of claims about how Covid-19 spreads. It says:“You can not catch Covid-19 from person to person.You can not catch Covid-19 from touching surfaces.Viruses are dead material expelled from healing cells.Everyone has thousands of viruses inside their body.”Covid-19 definitely does spread person to person and via surfaces. Covid-19 is caused by a virus and is potentially dangerous, although it’s true that humans have plenty of harmless viruses in their bodies.Honesty in public debate mattersYou can help us take action – and get our regular free emailThe virus that causes Covid-19, called SARS-CoV-2, does spread from person to person, through respiratory droplets released when an infected person sneezes, coughs, and talks. Close contact with an infected person is how the virus spreads.We have evidence this is the case. Other coronaviruses that infect humans, such as SARS (of which there was an outbreak in 2002) and the common cold, also spread in this way.Social distancing measures which reduce the number of person-to-person interactions have been proven to slow the spread of the virus.Covid-19 also spreads via surfaces. In general, other human coronaviruses (which we’ve had longer to study) survive on objects for up to five days. Studies into SARS-CoV-2 have shown it can survive for between 8 and 72 hours on a surface depending on the material and environment.Just touching a surface that is contaminated with the virus is not enough to become infected—the virus enters the body through membranes present in the nose, mouth, or eyes. The problem is that we touch these parts of ourselves all the time without noticing, which is why it’s so important that you wash your hands with soap and water often, especially outside of your own home.It’s unclear exactly what the graphic means when it claims that viruses are “dead material leaving healing cells”.There is some debate amongst scientists as to whether viruses are technically alive or not, because they need a host cell to replicate and can’t do so themselves. Some argue this means that they are not alive as they can’t reproduce unaided, but others disagree, saying that even though genetically they are very simple, they are still able to evolve.When viruses replicate in host cells, they take over the cell’s mechanics to reproduce, and then leave. The host cell can’t really be said to be healing when that happens, even though it may not have died. Some cells do respond to viral infection by dying.It’s true that humans contain a number of viruses that don’t harm us, or are protecting the human body against bacteria. Many of these are bacteriophages—a type of virus that infects bacteria. This is not the same as being infected with a virus that can cause a potentially dangerous disease, like Covid-19.The text of the Facebook post also claims that masks decrease oxygen intake, increase carbon dioxide intake, increase toxin intake, and increase stress levels which negatively impacts the immune system.The kind of face masks normally used by members of the public do not pose a threat to most people. We could not find any evidence that cloth face coverings and medical (sometimes called surgical) face masks reduce oxygen levels or increase carbon dioxide levels in the body.The UK government says face coverings should not be worn by children under three, or those “who may find it difficult to manage them correctly”, for example “primary age children unassisted, or those with respiratory conditions”.Asthma UK says that for some people with asthma, wearing a face covering could “make it feel harder to breathe” and “so if [they] are finding it hard, then don’t wear one”.The post we’re checking here could be referring to a specific type of mask, called an N95 respirator, which is used in healthcare settings in the US. These are also approved for use in the UK and the equivalent mask usually used here is called the FFP2. These types of masks can be worn for several hours in a row, but some research has shown that they can affect gas exchange.It’s true that face masks of all types can make some people feel claustrophobic. There’s no evidence that masks weaken the immune system though.Full Fact fights for good, reliable information in the media, online, and in politics.\n",
      "\n",
      "Vaccines\n",
      "total 0\n",
      "\n",
      "COVID-19 Denialism\n",
      "total 685\n",
      "example: A video is being shared to claim that it shows a tornado hitting West Bengal ahead of Cyclone Yaas’ landfall in the state.This comes soon after West Bengal Chief Minister Mamata Banerjee reportedly said on Tuesday, 25 May, that two people had lost their lives after being electrocuted during a tornado in Hooghly district, ahead of Cyclone Yaas that made landfall in Odisha on Wednesday, 26 May.While we found that the viral video is old and could be traced back to 2016, we haven’t been able to independently verify its location.CLAIMJournalist Soumyadit Majumder shared the viral visuals claiming that they showed the tornado that hit West Bengal.Media outlet Hindustan Times carried the visuals in its report on the tornado, on Facebook and Instagram accounts and mentioned that they had been “locally sourced”.Other news organisations such as India Today, The Indian Express, Scroll, Firstpost also included the viral video in their recent reports on Cyclone Yaas.WHAT WE FOUND OUTWe divided the video into multiple keyframes using InVid and reverse searched them on Yandex, which led us to a tweet from 2020 carrying the viral visuals.We then came across a YouTube video uploaded in August 2016, which is a longer version of the viral one. The viral visuals can be seen from 0:51 seconds in the two-minute YouTube video.The caption along with the video uploaded by user Musafir Sujon read: ‘Real cyclone seen by Sujon’ and in the comments section, he claimed that the video is from Bangladesh.It is pertinent to note that The Quint’s WebQoof team has not been able to independently verify the location of the video.Here’s a comparison between viral visuals and the one uploaded on YouTube in 2016.With help of the aforementioned information, it can be established that the viral video in question is an old one and unrelated to Cyclone Yaas.WHAT HAPPENED IN WEST BENGAL?On Tuesday, 25 May, Mamata Banerjee, while addressing a press conference said that the tornado in the state lasted for nearly one and a half minute and destroyed as many as 40 houses.\"\"I have spoken to all the district magistrates about Cyclone Yaas. I will stay in Nabanna (the state secretariat) tonight. I will monitor the situation closely,\"\" she added.Causing extensive damage, Cyclone Yaas made its landfall at Balasore in Odisha at 9:15 am on Wednesday, 26 May, after intensifying into a ‘very severe’ cyclonic storm on Tuesday.The low-lying areas and coastal towns of north Odisha and neighbouring West Bengal were severely hit by the storm with a speed of 130-140 kmph. The cyclone completed the landfall process around 1 pm, according to the India Meteorological Department (IMD).(Not convinced of a post or information you came across online and want it verified? Send us the details on WhatsApp at 9643651818, or e-mail it to us atwebqoof@thequint.com and we'll fact-check it for you. You can also read all our fact-checked stories here.)(At The Quint, we are answerable only to our audience. Play an active role in shaping our journalism by becoming a member. Because the truth is worth it.)\n",
      "\n"
     ]
    }
   ],
   "source": [
    "# from 50% to 75% of the distribution with smallest distance\n",
    "top_to_remove = 0.25\n",
    "bottom_to_remove = 0.5\n",
    "outliersMinP=bertopic2.get_sbert_z_outliers(norm.ppf(bottom_to_remove/2))\n",
    "outliersMaxP=bertopic2.get_sbert_z_outliers(norm.ppf(top_to_remove/2))\n",
    "for i in range(len(setopics)):\n",
    "    print(setopics[i])\n",
    "    n=len(list(set(outliersMinP[i])-set(outliersMaxP[i])))\n",
    "    print('total', n)\n",
    "    if n>0:\n",
    "        print('example:',data2['text'][list(set(outliersMinP[i])-set(outliersMaxP[i]))[random.randint(n)]])\n",
    "    print('')"
   ]
  },
  {
   "cell_type": "code",
   "execution_count": 107,
   "metadata": {},
   "outputs": [
    {
     "name": "stdout",
     "output_type": "stream",
     "text": [
      "Virus Origin and bioweapon theory\n",
      "total 514\n",
      "example: The spread of novel coronavirus, which was first declared as a pandemic by the World Health Organisation (WHO) on 11 March has since then become a target of misinformation and conspiracy theories alike.In one such instance, several users on social media are claiming that the 16th century French astrologer Nostradamus predicted the virus in his book ‘Les Propheties’ (The Prophecies). However, after proper checks and verification, we have found that there is no truth to these claims.THE CLAIMAccording to the claim being circulated on the internet, French philosopher Nostradamus in his book, ‘Les Propheties’ (The Prophecies) wrote: “There will be a twin year (2020) from which will arise a queen (corona) who will come from the east (China) and will spread a plague (virus)in the darkness of night, on a country with 7 hills (Italy) and will transform the twilight of men into dust (death), to destroy, and ruin the world. (sic)”WHAT WE FOUND‘Les Propheties’ is a collection of prophecies by French physician Nostradamus. One of his most famous works, it is a collection of poems and quatrains.A Quatrain is a type of stanza/a poem consisting of four lines. The text attributed to Nostradamus in the virus message didn’t qualify to be a quatrain and raised several red flags about its veracity.Further, Stephane Gerson, Professor of French, French Studies, and History at New York University, told Reuters that this text “does not come from Nostradamus’ ‘Prophecies’, ” nor from other prognostications made by him.We followed it up with a Google keyword search using the terms “Nostradamus twin year prophecy” and found no results.The Reuters report further quoted Professor Gerson as saying, “There is nothing surprising about the reemergence of such false Nostradamian prophecies in the wake of a disaster. The same thing has happened for over 400 years: invented or altered predictions, endowed with the aura of Nostradamus, surface, again and again, part of an economy of forgery, mass media circulation, and yearnings for order and design each time an unforeseen event threatens our material well-being and our conceptual frameworks.”Evidently, a false claim saying that Nostradamus predicted COVID-19 is being shared to spread panic among the people.(You can read all our coronavirus related fact-checked stories here.)(Not convinced of a post or information you came across online and want it verified? Send us the details on Whatsapp at 9643651818, or e-mail it to us at webqoof@thequint.com and we'll fact-check it for you. You can also read all our fact-checked stories here.)(At The Quint, we are answerable only to our audience. Play an active role in shaping our journalism by becoming a member. Because the truth is worth it.)\n",
      "\n",
      "Virus contraction (who contracts the virus) and transmission (what transmits the virus)\n",
      "total 530\n",
      "example: Fact Check: Did Union Minister Anurag Thakur Raise Goli Maro Slogan?The State Minister of Finance falsely claimed at a press conference that he had never raised such a slogan.Speaking at a press conference recently, State Minister of Finance and Corporate Affairs Anurag Thakur denied that he raised \"\"Goli Maro\"\" slogans in the run up to the Delhi Elections. However, video footage of a rally held on January 27, 2020, show that Thakur had indeed engaged the crowd in chanting the incendiary sloganThakur was responding to questions by the media on his role in inciting hatred before the polls in the national capital, which was closely followed by widespread riots across different parts of the city.Also Read: Madhya Pradesh Murder Victim Falsely Linked To AAP's Tahir Hussain\"\"You Are Lying!\"\"Thakur was speaking at a press conference, organised by the Income Tax Department on March 1, 2020, following a meeting between the junior Union Minister and stakeholders from various trades and industries. During the course of the interview, many of the reporters present raised questions regarding Thakur's involvement in hate speech, less than a month before the riots erupted in the city.Reporters went on to specify the particular statement Thakur made during one of the rallies: \"\"Desh ke gaddaron ko, goli maaro saalo ko (Shoot the traitors of the country)\"\", to which he replied saying, \"\"You are lying. This is why I say that the media should improve its knowledge.\"\"Thakur refrained to comment further on this issue, stating that the matter is sub judice.Fact CheckFollowing Thakur's speech from January 27, the Election Commission served a show-cause notice to him, stating that, \"\"By making the aforesaid statements which have the potential of disturbing communal harmony and aggravating the existing differences between social and religious communities, you have violated the above said provisions of Model Code of Conduct and Representation of the People Act, 1951.\"\"Thakur responded by claiming he never said \"\"Goli maaro saalo ko (shoot them)\"\", and that he only said the first half of the slogan \"\"Desh ke gaddaron ko (to the traitors of the country)\"\". By this statement, Thakur insinuated that it was the crowd who had raised the slogan and that he could not be held accountable for it.However, multiple footage of the event paint a different picture. In one of the videos published by Indian Express Online, Thakur can be seen very lucidly leading the crowd in chanting the inflammatory slogan. While it is indeed the crowd in front of him that says \"\"Goli maaro saalo ko\"\", he can be seen engaging the crowd to chant even louder.At one point during the chanting, Thakur can be heard saying, \"\"The sound should reach until the back. Girirajji (Union Minister Giriraj Singh) should be able to hear it,\"\" following which he starts leading the chant again. All this while, Thakur seems clearly aware of the slogans being raised by the crowd, as he is seen encouraging them throughout the sloganeering.Eventually, the ECI found Thakur's speech to be in violation of the MCC and Representation of the People Act, 1951, and ordered his removal from the list of star-campaigners for the BJP ahead of the Delhi Elections. In a notification, the ECI found that Thakur, along with BJP leader Parvesh Verma had \"\"made undesirable and objectionable statement which has the tone and tenor to aggravate existing differences or create mutual hatred between different religious communities, and this violated the provisions of Model Code of Conduct and Representation of the People Act, 1951.\"\"Not A New SloganThe notorious slogan is by no means recent. Using relevant keyword searches, BOOM traced the earliest instance of this slogan being raised to February 2016, when members of the ABVP led a march in Delhi while raising the slogan in question. This march was carried out to protest against the anti-national slogans that were allegedly raised in the Jawaharlal Nehru University earlier that month.On December 20, 2019, BJP leader Kapil Mishra led a pro-Citizenship Amendment Act march where the same slogan was raised again.The same slogans were raised on January 5, 2020, when students at JNU were attacked by a group of masked people.A #JNU teacher who was speaking to the media is heckled and interrupted by ABVP, BJP & RSS goons outside JNU main gate with \"\"Desh ke gaddaro ko, goli maro salo ko\"\" slogans.— Sanjay Lakhwad (@SanjayUkroond) January 6, 2020Sickening how teachers are openly being insulted.#JNUattack #ResignAmitShah#अखिल_भारतीय_गुंडा_परिषद pic.twitter.com/fbZXOzgX7uDo you always want to share the authentic news with your friends?\n",
      "\n",
      "Incidence, Mortality and 'Casedemic'\n",
      "total 119\n",
      "example: Nueces County saw 52 positive COVID-19 tests among children aged under 1 year, and 33 positive tests among children aged between 1 and 2 years, making a total of 85 positive tests among children under 2 years old.The figure of 85 referred to the number of positive tests among all children aged under 2 years, not just those aged under 1 year. A misunderstanding led the Nueces County Public Health Director to inadvertently misrepresent the true figure, and the Nueces County Judge, and later CNN, repeated that error.In July 2020, readers asked us to verify reports that a single county in Texas had seen 85 babies test positive for COVID-19 coronavirus disease. On July 18, CNN published an article with the headline \"\"85 Infants Under Age 1 Have Tested Positive for Coronavirus in One Texas County Since March.\"\" The article reported that:\"\"Eighty-five babies under age 1 have tested positive for coronavirus in one Texas county since mid-March. And local officials are imploring residents to help stop its spread as the state becomes one of the newest hotspots [...]. In Texas' Nueces County, where Corpus Christi is located, the number of new coronavirus cases skyrocketed in July after a flattening trend. The virus has infected dozens of babies and local officials are urging people to wear masks and practice social distancing.\"\"'We currently have 85 babies under the age of one year in Nueces County that have all tested positive for Covid-19,\"\" said Annette Rodriguez, director of public health for Corpus Christi Nueces County on Friday. 'These babies have not even had their first birthday yet. Please help us stop the spread of this disease.'\"\"Rodriguez made the remarks during a remote briefing as part of the county's July 17 COVID-19 update and in the context of urging residents to resume and continue taking measures to prevent the spread of the virus. In the interest of thoroughness, the relevant remarks are quoted in full, and can be watched, below:\"\"I've been reviewing our statistics. We currently have 85 babies, under the age of one, here in Nueces County, that have all tested positive for COVID-19. These babies have not even had their first birthday yet. Please help us to stop the spread of this disease. Stay social [sic] distanced from others. Stay protected -- wear a mask when in public, and for everyone else, please do your best to stay home.\"\"AnalysisOn July 18, Nueces County Judge Barbara Canales issued a statement in which she clarified that the figure presented by Rodriguez referred to all positive tests among children aged under 1 year since March, rather than the number of currently active cases among children of that age:\"\"On Friday, July 17, during a press conference, a spokesperson mentioned that 85 infants under the age of one had tested positive for coronavirus. This number reflects the cumulative total of positive tests for infants under the age of 1 since the beginning of testing in mid-March, which has resulted in 8,171 positive test results.\"\"For context, the spokesperson was using that statistic to illustrate that no one is naturally immune to this virus. While the elderly and those with existing medical conditions are at greater risk of illness and death, anyone can get the virus, from the elderly to infants, and without regard to race, gender, or economic status. The number was used to illustrate this point. However, without this context, stating this number during our press conference led many to believe that we had a sudden surge in infants under the age of one testing positive. We have NOT had a sudden surge of 85 infants testing positive.\"\"That clarification provided the basis for CNN's claim, in its headline, that \"\"85 infants under age 1\"\" had tested positive for COVID-19 in Nueces County.However, the clarifying statement itself contained an inaccurate presentation of the true figures. On July 18, Yahoo! News published an article with the headline \"\"85 Children Under Age 2 Tested Positive for Coronavirus in 1 Texas County, as U.S. Sets New Record.\"\" The article reported that:\"\"Rodriguez initially said at a meeting Friday that a review of coronavirus statistics showed that 85 infants have tested positive. She clarified this on Saturday to say that total also includes children between the ages of 1 and 2 years old. The numbers are taken from testing that started on March 21, 2020.\"\"According to Yahoo! News, that figure included 52 positive tests among children aged under 1 year.We couldn't find any public clarification by Rodriguez on Saturday, July 18, so we contacted her directly. Speaking by phone, Rodriguez confirmed for Snopes that the figures presented by Yahoo! News were indeed accurate -- the county had seen 52 positive COVID-19 tests among children aged under 12 months, and 33 among children aged between 12 and 24 months.Rodriguez said a misunderstanding had taken place when she requested the number of COVID-19 diagnoses among 1-year-olds. Health district employees had counted cases involving, for example, 16- and 18-month-old children because they were not yet 2 years old, when Rodriguez was in fact looking only for the number of cases among children aged under 1 year.According to the press release published by Canales on July 18, the total number of positive tests in Nueces County was 8,171. Assuming that figure is accurate, this would mean the 52 children under 1 year old made up 0.64 percent of all positive tests in the county. According to the Texas Department of Health Services' COVID-19 dashboard, there had been 28,606 confirmed cases across the entire state as of July 21. Of those, 127 (or 0.44 percent) involved children aged under 1.Although we're comparing two slightly different measures (positive tests versus confirmed cases, based on completed investigations by local and regional health departments), the available data does suggest that children under 12 months have tested positive for COVID-19 at a slightly higher rate in Nueces County than in the state of Texas as a whole.ConclusionCNN's headline inaccurately claimed that \"\"85 infants under age 1\"\" had tested positive for COVID-19 in Nueces County.\"\" That figure was, in fact, 52. Although the figure of 85 was taken from remarks made by the director of the local health district and a subsequent statement by the County Judge, it was nonetheless inaccurate. Taking into account these factors, we're issuing a rating of \"\"Mostly False.\"\"\n",
      "\n",
      "Prevention (Face Mask, Vitamin D, etc.)\n",
      "total 13\n",
      "example: A message falsely claiming to be a list of people ready to donate plasma in India is being shared over social media amid the COVID-19 pandemic. However, we found that this is actually an old list of blood donors, which is unrelated to coronavirus and dates back to at least 2015.CLAIMThe list, which contains names, blood groups and phone numbers of roughly 64 so-called plasma donors is being shared on platforms as a response to people asking for plasma donations or simply as awareness notices amid the pandemic.Plasma therapy, which uses the plasma of recovered COVID-19 patients, is one of the investigational therapies being tried in India as part of the effort to fight the virus. Recovered COVID patients' immune systems may have created antibodies that fight the novel coronavirus. These antibodies build up and can be found in plasma, the liquid part of blood.We found that the message was being shared on Twitter and Facebook by various people. One person shared it claiming it was a list for people in Mumbai, while one person replying to this Facebook post claimed it was a list of people in Delhi-NCR.WHAT WE FOUNDOn running several keyword searches, we found that the same list, with minor variations in some names, has been shared on Facebook since at least December 2015. We found the same post dated 5 December 2015 on a page called The New Face of Society.Since then, it has been shared on a Facebook page called BLOOD DONOR S on 9 September, 2016 and by a Facebook user on 17 September, 2019.We also found that it was posted on 21 October 2016 with some variations on a blog called I Love Trichy, on a website called Telangana Journalists three years ago with the note that it was for Hyderabad and on Medium.com on 10 November 2017 as a list of blood donors in Chennai.While many of the numbers on the list were non-functional or did not exist, The Quint was able to get in touch with four people on the list who confirmed that they were blood donors based in Chennai. Two of them said that they had also donated blood in recent months.V Mohan, one of the people named in the list, told The Quint that this was a group of blood donors based in Chennai, which had been made two or three years ago and said that it had nothing to do with plasma donation in the COVID context.“This list has been wrongly forwarded as a plasma donor list. So many of the volunteers have been getting calls about plasma donation that some have even had to change their numbers. Please don’t forward as plasma donors, we are all normal blood donors.”V MohanTherefore, it is clear that an old list of blood donors is being circulated as that of plasma donors in context of the coronavirus pandemic.(Not convinced of a post or information you came across online and want it verified? Send us the details on Whatsapp at 9643651818, or e-mail it to us at webqoof@thequint.com and we'll fact-check it for you. You can also read all our fact-checked stories here.)(At The Quint, we are answerable only to our audience. Play an active role in shaping our journalism by becoming a member. Because the truth is worth it.)\n",
      "\n",
      "Treatment (Ivermectim, chloroquine and hydroxychloroquine, etc)\n",
      "total 713\n",
      "example: What was claimedDandelion root is able to kill 98% of cancer cells within 48 hours.Our verdictLaboratory studies using cancer cells have shown that dandelion root extract has anti-cancer effects, but this has not been proven in humans.Dandelion root is able to kill 98% of cancer cells within 48 hours.Laboratory studies using cancer cells have shown that dandelion root extract has anti-cancer effects, but this has not been proven in humans.A Facebook post claims that “dandelion root is able to kill 98% of cancer cells within 48 hours. Not only that, but it acts as a powerful anti-inflammatory, immune booster, antioxidant and organ detoxifier.”Whilst laboratory studies, on cells outside of a living being and on cells in mice, have shown some anti-cancer effects, this has not been replicated in humans.The post doesn’t provide a source for this information, but as previously described by fact checkers Snopes and USA Today, it is likely to have come from a 2016 article which was published on the Health Eternally web site.The headline reads “Scientists Find Root That Kills 98% of Cancer Cells in Only 48 Hours”, and the article includes a story of 72 year old patient, John Di Carlo who was reportedly being treated at the Windsor Regional Cancer Center, in Ontario, Canada.His leukaemia (a type of white blood cell cancer) had continued to advance despite conventional treatment, but went into remission after he started drinking dandelion tea at home.The article also includes the views of Dr Carolyn Hamm, a doctor at the Windsor Regional Cancer Centre, who is reported to have said at the time that dandelion root extract was the only thing that helped with chronic myelomonocytic leukaemia.This was reported slightly differently in 2012, where the same patient’s story was reported, and Dr. Hamm was reported to say that dandelion root extract is one of the only things found to help with chronic myelomonocytic leukaemia.The Windsor Regional Cancer Centre (the centre that Mr. Di Carlo was reportedly treated at, and Dr Hamm was said to have worked at) is known to have conducted studies in this area.The Health Eternally article does not reference any scientific articles, however the specific claim regarding the death of cancer cells within 48 hours potentially came from a University of Windsor study from 2016 which showed that 95% (not 98%) of colon cancer cells were killed within 48 hours of treatment with dandelion root extract.This study did show increased cancer cell death in lab studies and reduced tumour growth in mice that took the extract. But, importantly, this study did not test the extract in humans.The US based Memorial Sloan Kettering Cancer Centre website explains that dandelion has long been used in traditional medicine for a wide range of ailments. It points out, however, that “dandelion has not been shown to treat or prevent cancer”.It also warns that because dandelion has an impact on the activity of the hormone oestrogen, it may actually increase the growth of certain types of hormone sensitive cancers.Martin Ledwick, Cancer Research UK’s head cancer information nurse, told Full Fact: “There is no scientific evidence that dandelion extract is a useful cancer treatment in humans. Any potential new treatment needs to go through rigorous trials in humans before its safety and effectiveness, if any, can be established. We would strongly advise anyone considering taking any supplement or unproven treatment to discuss this with their doctor first.”This article is part of our work fact checking potentially false pictures, videos and stories on Facebook. You can read more about this—and find out how to report Facebook content—here. For the purposes of that scheme, we’ve rated this claim as missing context Because dandelion root has been shown to have some anti-cancer effect in laboratory studies (in vitro and in mice) but not in humans.Full Fact fights for good, reliable information in the media, online, and in politics.\n",
      "\n",
      "Vaccines\n",
      "total 0\n",
      "\n",
      "COVID-19 Denialism\n",
      "total 211\n",
      "example: The woman in the photo has not been crowned youngest doctor by Guinness World Records. The last person to officially hold the title was a male US doctorA Facebook post shared tens of thousands of times on social networks claims to show the Guinness World Records holder of “the youngest doctor in the world” - Cornell graduate, Iqbal El-Assaad, a Palestinian refugee who lived in Lebanon. However, these claims are false: a spokeswoman for the Guinness World Records has told AFP there is no record of Assaad.The Facebook and Twitter posts that we’ve archived here, here, here and here feature a photo of a young woman alongside claims that she’s the world’s youngest doctor, named as Iqbal El-Assaad.One of the Facebook post alleged the “20-year-old Palestinian girl became the youngest doctor in the World Guinness record in 2013”.The post has had more than 274,000 Facebook interactions, including 88,360 shares, since it was first shared on January 3, according to social media analysis tool Crowd Tangle.Another Facebook post (see below) shows a screenshot of a tweet captioned “I cover my hair, not my brain, judge me by what’s in my head, not on my head -- Eqbal a 14-year-old Palestinian girl entered the Guinness Book of records for studying to becoming the youngest doctor (sic)”.The post links out to an article (see below) published by The National, an English-language news outlet based in Abu Dhabi.It features an interview with a young woman called Iqbal Al Assaad who according to The National became the youngest ever medical graduate from Cornell University's Qatar branch in 2013 -- the same year that the misleading posts claim she was crowned the world’s youngest doctor.The story uses the same photo that has been circulating in the recent false claims. The caption identifies the picture as a handout from the Weill Cornell Medical College and says it shows Assaad during her graduation ceremony in Doha in 2013.AFP tried calling Weill Cornell Medical College in Qatar but was unable to get hold of someone.Guinness World Records rejects claimJessica Spillane, a spokeswoman for Guinness World Records, told AFP that Assaad was not part of its record holders.Moreover, she said the “Youngest Physician” category had been closed because certain qualifications cannot be \"\"standardized internationally”, but was unable to specify when it was dropped.However, Spillane confirmed that the last official record holder had been US ophthalmologist Balamurali Ambati who graduated from the Mount Sinai School of Medicine in New York City on May 19, 1995 - a couple of months before his 18th birthday.What we know about AssaadAn online Google search of Assaad's name led to a Harvard-run social networking website, which featured her profile saying she was a clinical fellow in paediatrics at the Boston's Children's hospital.AFP called the hospital and spoke to several nurses who confirmed that Assaad worked there, but has so far been unable to talk with her directly her.A further online search showed that the Dubai-based news site Arabian Business named Assaad as one of the \"\"100 Most Powerful Arab Women\"\" in 2015.She also ranked 82nd on a list of Arab thought leaders on the Global Influence website in 2016.\n",
      "\n"
     ]
    }
   ],
   "source": [
    "# from 75% to 95% of the distribution with smallest distance - strongest outliers\n",
    "top_to_remove = 0.05\n",
    "bottom_to_remove = 0.25\n",
    "outliersMinP=bertopic2.get_sbert_z_outliers(norm.ppf(bottom_to_remove/2))\n",
    "outliersMaxP=bertopic2.get_sbert_z_outliers(norm.ppf(top_to_remove/2))\n",
    "for i in range(len(setopics)):\n",
    "    print(setopics[i])\n",
    "    n=len(list(set(outliersMinP[i])-set(outliersMaxP[i])))\n",
    "    print('total', n)\n",
    "    if n>0:\n",
    "        print('example:',data2['text'][list(set(outliersMinP[i])-set(outliersMaxP[i]))[random.randint(n)]])\n",
    "    print('')"
   ]
  },
  {
   "cell_type": "markdown",
   "metadata": {},
   "source": [
    "## exploration via distance measure"
   ]
  },
  {
   "cell_type": "code",
   "execution_count": 108,
   "metadata": {},
   "outputs": [
    {
     "name": "stdout",
     "output_type": "stream",
     "text": [
      "Virus Origin and bioweapon theory\n",
      "total 0.9673212192262602\n",
      "example: The number of mail collection boxes declined by more than 12,000 nationally from 2011 to 2016, according to an August 2016 report, largely because they were underused.It is difficult to prove that the removal of these mailboxes during the Obama administration was politically motivated, or at all connected to elections.Amidst mounting concerns over the U.S. Postal Service’s ability to handle an influx of mail-in ballots for the November 2020 election due to COVID-19 quarantines, a spate of mailbox removals across the country in the summer of 2020 led to accusations from Democrats that U.S. President Donald Trump’s Republican administration was hindering the voting process. In response, numerous conservative media outlets argued in August 2020 that thousands of mailboxes were also removed during U.S. President Barack Obama's administration — mainly from 2011 to 2016.Snopes readers asked us to verify whether mailboxes had indeed been removed during the Obama years. We learned this was true — but some context is in order.Here's the background: In the summer of 2020, Democrats accused the Trump administration of actively harming the Postal Service’s ability to function in an effort to hurt the voting process in November. Reports mounted of mailboxes being removed, high-speed mail sorting machines being taken out of service, and postal workers being asked to work reduced hours. Trump also said he opposed additional funding for the Postal Service because that could make mail-in voting easier (which he has argued would favor Democrats), though he clarified he was concerned about voter fraud (a claim we have debunked). In mid-August, the Postal Service warned states that workers may not be able to deliver ballots on time based on current election rules. We could neither prove nor disprove the Democrats' claims in a previous investigation.Conservative media — including Fox News, Breitbart, and The Blaze — countered the accusations from Trump's critics by referring to an August 2016 report from the Postal Service's Office of Inspector General that outlined the declining number of mail-collection boxes during the previous five years. Nationally, the number of collection boxes declined by more than 12,000, from 2011 to 2016. This decline was criticized by customers at the time, who said USPS had “gone too far.”However, the reasons for the decline in the number of mailboxes during the Obama years appeared to have little to do with politics surrounding elections. According to the 2016 report:As the Postal Service adapts its collection infrastructure to meet customers’ needs at a reasonable cost, it has eliminated underused collection boxes that on average receive fewer than 25 pieces a day, and added collection boxes that are convenient for customers.In fact, the number of blue steel mailboxes across the U.S. has been steadily declining for decades under various administrations. In 1985, the country had 400,000 mailboxes. In 2011, there were 160,000. Today, there are around 142,000 collection boxes in operation. Many blame the gradual death of the Postal Service on the growth of the internet, labor costs, and congressional meddling.Since he took over in June 2020, Postmaster General Louis DeJoy instituted the aforementioned series of changes that led to accusations from Democrats that the Postal Service was being deliberately gutted. He also announced a hiring freeze and banned “unnecessary overtime,” and reports grew of letters piling up at post offices as mail-sorting equipment was removed. DeJoy has also been a prominent political ally to Trump, which fueled some of the fire, too.On Aug. 18, after public outcry, DeJoy announced that mailboxes would no longer be removed. U.S. House Speaker Nancy Pelosi tweeted that she had a conversation with DeJoy where he admitted that he did not intend to replace the missing infrastructure, which she feared would disenfranchise voters. In his statement, DeJoy said:The Postal Service is ready today to handle whatever volume of election mail it receives this fall. Even with the challenges of keeping our employees and customers safe and healthy as they operate amid a pandemic [...]Snopes reached out to the Postal Service for details about the quantity of mailboxes that had been removed in 2020, and how that compared with the number of mailboxes removed during the Obama years. The agency did not offer specifics, with a spokesperson telling us that removals are often instituted due to declining mail volumes:[...]the Postal Service reviews collection box density every year on a routine basis to identify redundant/seldom used collection boxes as First-Class Mail volume continues to decline. Based on the density testing, boxes are identified for potential removal and notices are placed on boxes to give customers an opportunity to comment before the removal decision is made.To sum up, it is true that the number of mailboxes fell significantly in the Obama years, but this was part of a decades-long decline. The politically motivated argument also established a false equivalency by comparing vastly different time ranges, and disregarding how the many policy changes instituted over the last few months could potentially impact voting by mail. We thus rate this claim as “Mostly True.”\n",
      "\n",
      "Virus contraction (who contracts the virus) and transmission (what transmits the virus)\n",
      "total 0.9444880858863577\n",
      "example: Photo Of Quran Recital Viral As Saudi Woman Marrying Minor SonBOOM found that the viral image was taken out of context and shared with a communal spin.A picture of a woman and a young boy posing with garlands is viral with false communal spin that muslim woman in Saudi Arabia married her son, following the husband's death.The two photos are being shared with the false caption in Hindi and English, \"\"Saudi Muslim mother married her son after the death of her husband\"\"#सऊदी की इस #मुस्लिम_महिला ने पति के #इन्तेकाल के बाद अपने ही े सगे बेटे से किया #निकाह आखिर यही तो है #इस्लाम pic.twitter.com/YpNtK8v05g— Hazrat Allama Mufti Khadim HussaiN Rizvi (@MaulanaaPak) February 5, 2020Click here to view, and here for an archive.(In Hindi - \"\"सऊदी की इस मुस्लिम महिला ने पति के इन्तेकाल के बाद अपने ही े सगे बेटे से किया निकाह आखिर यही तो है इस्लाम\"\")सऊदी की इस महिला का शौहर की मौत के बाद अपने ही सगे भतीजे से निकाह कर लिया।— Pooja Sharma (@mesharmapooja) February 9, 2020क्या ये इस्लाम में सही है, बहुत शर्मनाक 😡 pic.twitter.com/TCI2YEMbFZClick here to view, and here for an archive.Viral on FacebookWe found the picture shared on Facebook with the same false communal spin.Also Read: No, The Chinese PM Did Not Visit A Mosque To Protect Himself From CoronavirusFACT-CHECKA reverse image search using Yandex showed results for a post dated January 31, 2020 on Facebook with the caption which translated to English reads, \"\"Today was my son's Khatam Al-Quran, Who will share by giving us congratulations.\"\" (In Urdu - آج میرے بیٹے کا ختم القرآن تھا, ھمیں مبارک باد دے کر کون کون شئیر کریگا)Khatam Al-Quran is the complete recitation of the Holy Quran from the beginning to the end.While we could not successfully establish where the viral picture was clicked, were ascertained that the picture shows a woman posing with her son after he finished the full recitation of the Quran.A Facebook search for part of the above caption, \"\"Today was my son's Khatam Al-Quran\"\" in Urdu (آج میرے بیٹے کا ختم القرآن تھا) on Facebook showed pictures uploaded by parents of their children with similar garlands around their neck. Some of the pictures also had them posing with their children, with the captions explaining that it was clicked after the 'Khatam Al-Quran' celebration.Mohammed Zubair, co-founder of Alt News had previously posted a thread on Twitter detailing what he found on the viral image.Do you always want to share the authentic news with your friends?\n",
      "\n",
      "Incidence, Mortality and 'Casedemic'\n",
      "total 0.695054945054945\n",
      "example: What was claimedThree in 10 people who should be self-isolating aren’t doing so.Our verdictThere isn’t enough evidence for this claim, which simply takes the midpoint of the results of two different surveys about self-isolation.Three in 10 people who should be self-isolating aren’t doing so.There isn’t enough evidence for this claim, which simply takes the midpoint of the results of two different surveys about self-isolation.“Three in ten people who should be self-isolating aren’t doing so.”Sir Keir Starmer has repeatedly claimed that three in ten people who should be self-isolating aren’t doing so. He made this claim twice during Prime Ministers’ Questions on 24 February, and repeated it on Twitter later the same day. There is not enough evidence to make this claim.The Labour Party told Full Fact that the figure of three in ten was a “reasonable estimate” based on figures suggested by Test and Trace chair Baroness Dido Harding. They said Baroness Harding said between 20% and 40% of people fail to self-isolate. This is not quite right.At an appearance before the science and technology committee on 3 February, Baroness Harding was asked to estimate how many people who are asked to self-isolate are not doing so every day.She cited two separate sources of information. One was internal research from Test and Trace, which she said she had quoted two weeks earlier and suggested that 60% of people fully complied with the instruction to self-isolate.The other was a study from University College London (UCL) which suggested 80% of people who are told they have come into contact with someone with symptoms of Covid-19 isolate for the full 10 days.For people who develop symptoms themselves, this figure was lower at 62%. The survey did not contain data on the self-isolation habits of confirmed Covid-19 cases. We have fact checked Labour’s claims about these findings before.It is important to note that both of these figures were based on people self-reporting their actions, but it is very possible that more people fail to self-isolate fully than are willing to admit to it.To simply choose the midpoint of these two separate estimates, as Mr Starmer has, is not an accurate or reliable way to make an estimate.It’s also worth noting that there are legitimate reasons for people to leave the house when they should be self-isolating. For example, someone self-isolating with symptoms is allowed to leave their house to get a test or seek medical assistance, to buy basic necessities like food if there is no other way to get these and to avoid risk of harm.UCL told Full Fact that the survey did not collect the specific reasons why people did not self-isolate for the full amount of time. However, given the legitimate reasons someone may be allowed to break self-isolation, it may be an oversimplification to use this data to claim it reflects the number of people who “should be self-isolating” but “aren’t doing so.”Baroness Harding highlighted the limitations of these estimates when she gave the figures to the committee.She said: “To directly answer your question, we have to be careful. The evidence we have is based on surveys. We live in a country where we do not track people’s every movement and, therefore, the evidence on compliance with isolation is based on people’s self-reported surveys [...] There are a number of different data points, so I am a bit nervous.”If you test positive for Covid-19 or are told to self-isolate by NHS Test and Trace it is a legal requirement to do so.We got in touch to request a correction regarding a claim made by Keir Starmer on Twitter.They did not respond.Will you add your name for better standards in public debate?Full Fact fights for good, reliable information in the media, online, and in politics.\n",
      "\n",
      "Prevention (Face Mask, Vitamin D, etc.)\n",
      "total 0.15333333333333332\n",
      "example: Did The American Red Cross Say COVID-19 Vaccines Destroy Anti-bodies?Dr Baia Lasky, American Red Cross medical director, said that the claim that COVID-19 vaccines wipe out antibodies is false.Social media posts claim that people who have received a COVID-19 shot are ineligible to donate plasma to the American Red Cross because the vaccine destroys antibodies -- an assertion the non-profit organization says is false.Also Read: Moderna's COVID-19 Vaccine Does Not Contain Chloroform, Say Experts\"\"The American Red Cross says you cannot donate Blood Plasma if you've had the vaccine, because the vaccine wipes out the body's natural antibodies,\"\" a May 22, 2021 Facebook post says.Screenshot of a Facebook post taken on May 26, 2021More examples of the claim -- which is part of a torrent of inaccurate information about COVID-19 and vaccines circulating online -- appeared on Instagram here, here and here.\"\"In most cases, you can donate blood, platelets and plasma after a Covid-19 vaccine as long as you're feeling healthy and well,\"\" an American Red Cross spokeswoman told AFP.The organization's website makes this clear. \"\"As long as donors are symptom-free, feeling well and can provide the vaccine manufacturer's name, there's no waiting period required after receiving a COVID-19 vaccine currently authorized in the US,\"\" it says.And Dr Baia Lasky, American Red Cross medical director, said that \"\"the claim that COVID-19 vaccines wipe out antibodies is false.\"\"Convalescent plasmaAn Instagram video viewed more than 12,000 times made a similar inaccurate claim, saying that the Red Cross has barred the donation of convalescent plasma by people who have been vaccinated against COVID-19 because of how the shot affects antibodies.\"\"That plasma is made up of antibodies from people who have recovered from the virus, but the vaccine wipes out those antibodies, making the convalescent plasma ineffective in treating other COVID-19 patients,\"\" a news anchor says in the video.Also Read: Posts Falsely Claim COVID-19 Vaccines Have Killed More People Than Other VaccinesScreenshot taken May 26, 2021 of an Instagram videoWhile the newscaster is speaking, the chiron said: \"\"RED CROSS NEEDS BLOOD DONORS BUT THOSE VACCINATED CANNOT DONATE PLASMA.\"\"Plasma is the liquid portion of the blood, while \"\"convalescent plasma\"\" refers to \"\"plasma that contains high-levels of specific antibodies that might help fight a specific infection -- in this case COVID-19 antibodies,\"\" according to the Red Cross website.AFP conducted a reverse image search of a screenshot of the Instagram video and identified the speaker as Samantha Jones of KMOV4 in St. Louis, Missouri.The station told AFP that \"\"the incorrect information has been updated on our website\"\" and attributed the problem to a February 2021 comment from a representative of the American Red Cross, which said that a reporter misinterpreted its remarks.The topic is also addressed on the American Red Cross website.\"\"There are claims circulating that incorrectly state that the Red Cross will not accept convalescent plasma donations from those who have received the COVID-19 vaccine because 'the vaccine wipes out those antibodies making the convalescent plasma ineffective in treating other COVID-19 patients.' This is not accurate,\"\" its Q&A section reads.Rather, it discontinued its COVID-19 convalescent plasma donations on March 26, 2021 \"\"due to declining hospital demand and sufficient industry supply.\"\"Also Read: Do COVID-19 Vaccines Contain Magnetic Chips? A Fact CheckThe American Red Cross spokeswoman clarified that \"\"the decline in demand is largely linked to the decline in overall cases in the US,\"\" and said the industry supply was \"\"sufficient\"\" to meet hospital needs.US Food and Drug Administration guidelines permit vaccine recipients to donate convalescent plasma if they have recovered from the disease, indicating that the shot does not automatically disqualify people from donations.Do you always want to share the authentic news with your friends?\n",
      "\n",
      "Treatment (Ivermectim, chloroquine and hydroxychloroquine, etc)\n",
      "total 0.8744520976831559\n",
      "example: An image of a Sikh man praying in a mosque is being shared on social media. On January 12, Indian Navy veteran Harinder S Sikka tweeted, “He went to attend ‘Kissan Rally’, forgot to remove his headgear on return to mosque. His agenda could be anything but their welfare. Pls help in sharing this pic. In the name of Farmer’s Bill, we’ve Jihadi, communists & traitors washing their dirty linen? @narendramodi @AmitShah.” (archive link) Sikka is alluding that a Muslim man posed as a Sikh farmer in the ongoing protests.He went to attend ‘Kissan Rally’, forgot to remove his headgear on return to mosque. His agenda could be anything but their welfare.Pls help in sharing this pic. In the name of Farmer’s Bill we’ve Jihadi,communists & traitors washing their dirty linen?@narendramodi @AmitShah pic.twitter.com/vMCXUchcP4— Harinder S Sikka (@sikka_harinder) January 12, 2021Facebook page Defence360 that has about 30,000 followers shared the image with identical text.Actor Diljit Dosanjh tweeted an image of Manpreet J Singh’s book ‘The Sikh Next Door: An Identity in Transition’. Twitter account @TheAngryLord quote-tweeted him along with the viral image and wrote, “If this is the transition, I feel very sad for what our Gurus fought for…” This tweet was retweeted over 200 times. (archived link)If this is the transition, I feel very sad for what our Gurus fought for… https://t.co/LjAYtOuvFe pic.twitter.com/63Mon4xmrU— INFERNO (@TheAngryLord) January 11, 2021Image is at least five years oldAlt News performed a keyword search on Facebook and found that the viral image dates back to at least 2016.Doha-based Facebook user زيد أولدي posted the image in January 2016. He wrote, “Sikh brother praying namaz in masjid. This is my India #proudIndain“.Sikh brother praying namaz in masjid. This is my India #proudIndainPosted by زيد أولدي on Friday, 22 January 2016Facebook page ياران وطن posted it in May 2016.دا سیک ورور مسلمان شوخو وایې چې خپل کلتوری لباس نه بدلومهر کلی راشی ورورهاسلام ته راتګ په خاطر ضرور لایک او خپور کړئPosted by ياران وطن on Tuesday, 3 May 2016Alt News couldn’t identify the man in the image nor details about its location. However, it is not related to the recent farmers protest as it is at least five years old.Thus, an image of a Sikh man praying in a mosque that dates back to at least 2016 was shared with the false claim that he forgot to remove his turban after returning to the mosque from the farmers’ protest. In the past, Alt News has debunked similar claims that allege people from the Muslim community are posing as farmers in the on-going movement.Independent journalism that speaks truth to power and is free of corporate and political control is possible only when people start contributing towards the same. Please consider donating towards this endeavour to fight fake news and misinformation.\n",
      "\n",
      "Vaccines\n",
      "total 0.25315126050420167\n",
      "example: More than two weeks after initially claiming an urgent warning from the U.S. Consumer Product Safety Commission (CPSC) was \"\"inaccurate and misleading,\"\" Peloton issued a voluntary recall of some of its home treadmills after acknowledging the machines caused one child's death, as well as multiple injuries to other children and one pet.According to CPSC, Peloton recalled approximately 125,000 of its Tread+ treadmill machines with model number TR01 on May 5, 2021.On April 17, 2021, the CPSC warned the public to immediately stop using the treadmills, noting it was aware of 39 incidents of children and a pet being injured after they were sucked under the device by the rolling tread part of the machine.To demonstrate the danger, CPSC released a video of two young children playing on a treadmill in northern Virginia. At one point the smaller one, a 2-year-old boy, gets pulled under and trapped underneath. The child is eventually able to struggle free. (We urge caution: The video is distressing.)CPSC warned that taking the precaution of locking the device while not using it was insufficient to prevent injuries:It is believed that at least one incident occurred while a parent was running on the treadmill, suggesting that the hazard cannot be avoided simply by locking the device when not in use. Reports of a pet and objects being sucked beneath the Tread+ also suggest possible harm to the user if the user loses balance as a result.On that same day, Peloton responded in a news release refuting CPSC's warning, stating, \"\"The company is troubled by the Consumer Product Safety Commission's (CPSC) unilateral press release about the Peloton Tread+ because it is inaccurate and misleading.\"\"The company added that it believed there was \"\"no reason to stop using Tread+\"\" as long as safety instructions were followed. The news release also stated that Peloton notified CPSC in March 2021 when it found out that a child died while using one of the machines.CPSC's announcement on May 5 of Peloton's voluntary recall stated, \"\"Peloton has received 72 reports of adult users, children, pets and/or objects being pulled under the rear of the treadmill, including 29 reports of injuries to children such as second- and third-degree abrasions, broken bones, and lacerations.\"\"We also reached out to Peloton for comment, asking why it initially rebutted CPSC's warning. We will update if we get a response.CPSC's announcement of the recall included a statement by Peloton CEO John Foley apologizing for the company's initial response.\"\"The decision to recall both products was the right thing to do for Peloton’s Members and their families,\"\" Foley's statement said. \"\"I want to be clear, Peloton made a mistake in our initial response to the Consumer Product Safety Commission’s request that we recall the Tread+. We should have engaged more productively with them from the outset. For that, I apologize.\"\"Peloton, which sells home exercise equipment, rocketed into the public awareness in December 2019 with an advertisement for a stationary bicycle that went viral for all the wrong reasons.The ad featured a man gifting his petite partner with a Peloton bike, which she appears to be excited (or horrified) by. She films herself exercising on the bike for a year, then dutifully watches her filmed rides with the man and narrates, \"\"A year ago, I didn't know how much this could change me,\"\" even though she looks exactly the same.The ad was roundly scorched on social media.\n",
      "\n",
      "COVID-19 Denialism\n",
      "total 0.9553264604810997\n",
      "example: Is the American Automobile Association (AAA) offering complimentary tow truck services to people who have been drinking on New Years? No, that's not true: The program has been suspended for the 2020/2021 New Years holiday due to the coronavirus pandemic. \"\"Tipsy Tow will not be offered in any state this year,\"\" said Ellen Edmonds, a public relations manager for AAA's national office.The claim appeared in a Facebook post (archived here) where it was published on December 31, 2017 with the caption \"\"This is important. You're not just putting your own life at risk but other peoples lives too.\"\" The Facebook post, which came in the form of a screenshotted tweet, read:No excuses. Don't drink and drive- and don't ride with anybody who does.Tipsy Tow offered by AAA: You don't have to be a AAA member, from 6pm-6am on New Year's Eve/Day they will take your drunk self and your car home for FREE. Save this number 1-800-222-4357 . RT to save a lifeThis is what the post looked like on Facebook at the time of writing:(Source: Facebook screenshot taken on Mon Dec 28 16:35:23 2020 UTC)Although this Facebook post was originally posted in 2017, it was being widely shared again as New Years 2021 approached.In a typical year and in certain places in the United States, AAA will tow people's cars who have been drinking so that the partiers do not drive under the influence. This service is also available to those who are not AAA members and during all major holidays, including Superbowl Sunday in some areas.\"\"For the protection of our members and our service providers, AAA is not allowing passengers to ride in our tow trucks to ensure compliance with social distancing recommendations provided by the CDC,\"\" Edmonds added in a follow up email.Misinformation about Tipsy Tow has been circulating for a number of years: Snopes reported the facts on the program back in 2011.\n",
      "\n"
     ]
    }
   ],
   "source": [
    "# docs above 80% similarity\n",
    "\n",
    "threshold = 0.8\n",
    "idxtokeep=bertopic2.get_sbert_norm_outliers(threshold)\n",
    "for i in range(len(setopics)):\n",
    "    print(setopics[i])\n",
    "    n=len(idxtokeep[i])\n",
    "    print('total', n/np.unique(bertopic2.sbert_clusters, return_counts=True)[1][i])\n",
    "    if n>0:\n",
    "        print('example:',data2['text'][idxtokeep[i][random.randint(n)]])\n",
    "    print('')"
   ]
  },
  {
   "cell_type": "code",
   "execution_count": 109,
   "metadata": {},
   "outputs": [
    {
     "name": "stdout",
     "output_type": "stream",
     "text": [
      "Virus Origin and bioweapon theory\n",
      "total 0.9572098475967175\n",
      "example: Pennsylvania’s governor did not convert to IslamFacebook posts shared thousands of times link to an article claiming that Pennsylvania Governor Tom Wolf converted to Islam. This is false; his office says he is Christian, and the photos in the article are from a Muslim religious event he hosted in an official capacity.“It has become evident through the photographs that Wolf has in fact already converted. According to Islam it is not permissible for a non-Muslim to pray either in the ranks or on his own,” according to the article, which has been shared here and here on Facebook, here on Twitter and here on Reddit.“He needs to come out and explain to the voters in his state as to why he converted,” a user commented on one of the Facebook posts, while others suggested he should be removed from office.The article claiming that Wolf converted to Islam shows pictures of him joining Muslims in prayer, but they were shot in August 2019 during Eid al-Adha celebrations at the Pennsylvania governor's residence.“Governor Wolf is incredibly proud to be the first Pennsylvania governor to host an Eid al-Adha ceremony and honored to be invited to participate in ceremonial prayers, during which these photos were taken,” his press secretary J.J. Abbott told AFP by email.He “is a person of deep faith and, while a Christian, has great respect for the Muslim community in Pennsylvania and our commonwealth’s founding principle of freedom of conscience,” Abbott added.Wolf has since 2016 hosted Eid al-Adha dinners at the governor’s residence, where he also holds events celebrating holidays from other religions, such as Passover, Easter, and Diwali.\n",
      "\n",
      "Virus contraction (who contracts the virus) and transmission (what transmits the virus)\n",
      "total 0.9376800209478922\n",
      "example: Disturbing Videos Of Capsules With Nails Are Not From IndiaBOOM found that both the clips are from two different places - first likely from Pakistan by a pharmaceutical manufacturer in Karachi and the second, of a company based in Bosnia.Two unrelated videos of iron nails found in medicinal capsules have been clubbed together to make a false viral communal claim that it is a new tactic by Muslims in India to kill Hindus.BOOM found that both the video clips are from two different places and not related with the first clip likely from Pakistan by a pharmaceutical manufacturer in Karachi and the second clip, of a company based in Bosnia and Herzegovina.The first half of the viral video shows a person get a capsule out of a strip, open each of the capsules to reveal tiny iron nails in them and the second clip shows a second set of capsules opened with nails in them.The 30 seconds clip is being shared with the false claim which translates to, \"\"New, dirty and dangerous act of jihadis to kill kafirs (Hindus) ... These are sold cheaply by concealing iron nails and harmful ingredients in branded companies' medicines, capsules etc., which will be bought and killed by the kaafir (Hindus)\"\"Click here to view an archive.(काफिरों(हिन्दूओं) को मारने का जिहादियों का नया, गंदा और खतरनाक कारनामा... ये ब्रांडेड कम्पनियों की दवाओं, कैप्सूल आदि में सफाई से लोहे की कीलें और हानिकारक सामग्री छुपाकर सस्ती बेची जाती हैं, जिसे काफीर(हिन्दू) खरीदेंगें और मारे जाएंगे..!!)Click here to view an archive.Viral on FacebookOn searching on Facebook with the same caption we found that the clip is viral with the false claim.Also Read: Hyderabad Milk Adulteration Incident Revived With Communal ClaimsFACT-CHECKThe viral clip clearly shows that the two videos are from different locations with the capsule packaging and the hands of the people dealing with them, both different. One of the videos has the name of the capsule written in Urdu language on the package and in the other video one can hear the person opening the capsules speaking in Russian language.Taking a cue from this, we ran a search with Urdu and English keywords and found a longer and clearer clip on YouTube, uploaded on February 21, 2021, with the caption, \"\"Medicines are being fed to the public by putting nails inside the capsules.\"\"In this clip, we can see the name on the strip - Esoral. Further, upon zooming into the packaging, 'City Pharmaceutical Laboratories' can be seen with the address of the manufacturer as Karachi. Further the medician strip has Urdu language printing on it. This shows that this packaging is not from India as being claimed.We then ran a search for Esoral and found that it is a drug owned by Eskayef pharmaceuticals, a Bangladesh based drug manufacturer. The capsules seen in the viral video does not mention Eskayef anywhere. BOOM reached out to Eskayef who said, \"\"We do not sell any products in India or Pakistan. No Indian agent is aligned with us and we do not export to either India or Pakistan.\"\"On looking at the Esoral tablet strip on the company website, we found that the packaging is different from the one in the viral video.Click here to viewFor the second video clip, we ran a keyword search with 'nails in tablets' and found a longer video which showed the same capsule strip and the text on the strip Russian 'ЭНТЕРОФУРИЛ 200 мг капсулы Нифуркмазил BOSKALLJEN'.Using Google translate we found that it reads, \"\"ENTEROFURIL 200 mg capsules Nifurkmazil BOSKALLJEN\"\". A search for the same, showed that the company is based in Bosnia and Herzegovina.Click here to viewBOOM was unable to independently verify the incident as shown in the clips, however, we could establish that the clips is not from India as being falsely claimed.Do you always want to share the authentic news with your friends?\n",
      "\n",
      "Incidence, Mortality and 'Casedemic'\n",
      "total 0.6401098901098901\n",
      "example: A widely shared Facebook post compares the cost of the NHS Test and Trace programme with the cost of constructing the Channel Tunnel. It seems to be a screenshot of a post on Twitter from 14 February.The post says that “the failing Test and Trace system cost £22bn in just a few months”, and “building the channel tunnel over 5 years cost £16bn in today’s money”.It is possible that NHS Test and Trace in England will ultimately cost more than the construction of the Channel Tunnel. However we can’t say that Test and Trace has cost more so far.Honesty in public debate mattersYou can help us take action – and get our regular free emailI’m inHow much has Test and Trace cost?The government has allocated a budget of £22 billion to NHS Test and Trace for its first year. This figure has been widely used before, so it may be what this post refers to.The £22 billion covers the programme in England, and contributes some resources, such as Covid-19 test labs, to the other UK nations.However, not all of this budget has been spent. Up to 31 October 2020, which covers roughly the first six months of Test and Trace, about £4 billion was spent, compared with the £6 billion that was expected.We do not yet know how much has been spent since, or how much is likely to be spent in future. However, we do know that it did not spend £22 billion in a few months.The Facebook post also says that Test and Trace is “failing”, despite its cost. This is a matter of opinion, which could be assessed in several ways. As we have written before, the specific effect of contact-tracing has been small, but it is hard to know how much the whole programme has actually reduced the spread of Covid.Most of the cost of Test and Trace goes on testing, which also has other benefits. For instance, it helps to diagnose people who are ill, allows people who test negative to stop self-isolating, and generates data to inform government decisions.How much did the Channel Tunnel cost?According to the Eurostar website: “It took just under six years and 13,000 workers to build the Channel Tunnel. The total cost came at an eye-watering £4.65 billion which would be the equivalent of £12 billion in today's money.”Other estimates at different times have shown a higher construction cost, of £9.5bn or £12bn. We are not sure exactly what these different figures represent, in terms of construction costs and subsequent debt payments, but both would rise if adjusted for inflation.A cost of £16bn in 2016 prices is quoted on the Channel Tunnel Wikipedia page, which may be where the author of the Facebook post found that number.In November, the journalist Ed Conway tweeted a comparison with the cost of Test and Trace, in which he said that the cost of the tunnel was “£9bn at the time, just under £20bn in today’s money”.Which cost more?At the time of writing, we don’t know whether the Channel Tunnel or NHS Test and Trace will prove to be more expensive.The budget for the first year of Test and Trace is higher than most estimates for the cost of the tunnel, but we don’t yet know how much of it will be spent, or how much will be spent in future years.It is therefore not correct to suggest that NHS Test and Trace has already spent more than the cost of building the Channel Tunnel.\n",
      "\n",
      "Prevention (Face Mask, Vitamin D, etc.)\n",
      "total 0.12\n",
      "example: Indian social media posts share fake Covid-19 plasma donor listsSocial media posts circulating in India have shared a purported list of blood and plasma donors as the country’s healthcare system struggled to cope with a second wave of Covid-19 cases. The posts urged “anyone requiring plasma for Covid treatment” to contact the doctors on the list. The contacts, however, are not valid phone numbers and do not relate to plasma donation in India.The misleading posts were shared widely on Facebook, for example here and here, in mid-April as India’s underfunded healthcare system was stretched to the limit by a new wave of coronavirus infections.The country faces major shortages of oxygen, medicines and hospital beds, AFP reported.US authorities approved plasma therapy for Covid-19 treatment in August 2020. The plasma is believed to contain antibodies that can help fight off the disease faster, according to the World Health Organization.Identical posts claiming to provide a list of plasma and blood donors were shared here, here, here, here, here and here on Facebook; and here and here on Twitter.But the claims are false.The purported plasma donor list has actually circulated online since at least 2015, a keyword search on Facebook found.This post shared on December 5, 2015 contains an almost identical list to one that recirculated in 2021.AFP attempted to call some of the numbers on the purported list but almost all of them were out of service.One name on the list, V. Mohan, answered AFP’s call and said that the list was “old” and did not relate to Covid-19 or plasma donations.Speaking from the south Indian city of Chennai, he told AFP: “This is an old list, I donated blood back in 2015. It’s that same blood donor list from south India, nothing to do with plasma donation for Covid-19.”Below is a screenshot comparison of the misleading post (L) and 2015 Facebook post (R)AFP found a similar list was shared on Facebook in 2016 and 2017.Another Facebook post falsely purports to share the number of a volunteer doctor group offering free plasma in Delhi.The text reads: “Please confirm first Anyone needing plasma in Delhi- PLEASE GIVE THEM THIS NO. They arrange it immediately free of cost via Team Step ONe - Dr Monica Bhagat 9810026546 9810039376.”Neither number was in service as of April 26, 2021.Project Step One, a volunteer group of Indian doctors, said the message was “fake” in a tweet on its official Twitter account here on April 15, 2021.A fake message is making rounds in all social media platforms in the name of Team StepOne. Please do not make calls to these numbers. None of the numbers are associated with us nor can they arrange plasma donors. Our helpline number is 9745697456 for any COVID19 related issues. pic.twitter.com/DkkoybQRPO— StepOne (@Projectstepone) April 15, 2021\n",
      "\n",
      "Treatment (Ivermectim, chloroquine and hydroxychloroquine, etc)\n",
      "total 0.841577958672511\n",
      "example: No, This Is Not A National Geographic Cover On Farmers' ProtestsBOOM found that the National Geographic cover is fake and has not been published by the magazine in its recent issue.A viral image claiming to show the latest National Geographic cover with a photo of a farmer from the ongoing farmers' protest, is fake and photoshopped.BOOM found that the latest issue actually has a photo of the Robert E. Lee monument, complete with graffiti and a projection of George Floyd on the magazine cover.The doctored image is being shared in the backdrop of the ongoing protest at different borders of Delhi which has seen farmers from Punjab, Haryana and Western Uttar Pradesh camping there since November 26, 2020. The farmers have been demanding the repeal of three Farm Bills passed by the central government last year.The image shows a Sikh farmer tying his green turban with National Geographic written on the top of the image with the iconic yellow frame of the magazine. It also has a tagline at the bottom reading, \"\"The largest protest in history is happening now and it is not being televised.\"\"The fake cover was tweeted by Congress leader Dr Ajoy Kumar with the caption, \"\"The world is watching and seeing how we are letting down our अन्नदाता ! Jai ho bjp\"\"Click here to view, and here for an archive.Viral on TwitterClick here to view, and here for an archive.Click here to view, and here for an archive.Also Read: Old Video Of Mobile Tower Blaze Linked To Farmers' ProtestFACT-CHECKBOOM found that the viral National Geographic cover covering the ongoing farmers' protests is fake and the January magazine issue has a different cover.On cropping the photo used in the viral fake cover and performing a reverse image search using Google Images, we found that the viral photo has been picked from PTI photos and was clicked by photojournalist Ravi Choudhary. A National Geographic cover would usually not use photos from other outlets for its cover page.The caption of the photo reads, \"\"A farmer at Singhu border during their 'Delhi Chalo' protest against the new farm laws, on Saturday, 12 December.\"\"Additionally, we found several discrepancies with the cover which did not match with National Geographic's recent cover format and shows that it was fake.The logo of National Geographic is different from the original logo in the viral photo as on checking the magazine we can spot that the letter 'N' comes directly above the letter 'E' which is not aligned in the viral image.On looking up the headlines mention on the cover, we did not find any such pieces published by National Geographic. Even the font in the image is different from the one used by the magazine and the iconic yellow border is a mismatch from the one it uses now. Recent issues of Natioanl Geographic magazine also do not have 'Vol 1984 No 2' or the globe above the logo on them.We also spotted a handle name '@anoopreet' on the cover which gives it away that it is not a real cover and has been generated as an original cover would not have a handle name on it.On viewing with the handle name @anoopreet on Instagram, we found that it is an artwork created by the Instagram handle which has also stated that it is an imagined artwork.We also looked at the National Geographic magazine archives and found that the January 2021 cover photo is on the Black Lives Matter protests that occurred in the United States last year after the police shooting of George Floyd.The photo is of the Robert E. Lee monument, complete with graffiti and a projection of George Floyd on the cover of the January 2021 issue of National Geographic magazine. The special issue features 71 photos that sum up what the magazine calls an unforgettable year.One can notice that the yellow border is a complete rectangle and not like in the viral photo which frame size is irregular.Click here to view the archives.Additionaly, there are several fake National Geographic cover generators that are available which can be used to generate a fake cover as in this case.BOOM has previously debunked misinformation around the farmers' protests with protesters being targeted with fake news and old photos and videos being shared as recent.Follow BOOM's thread on misinformation around the farmers' protests.Do you always want to share the authentic news with your friends?\n",
      "\n",
      "Vaccines\n",
      "total 0.16281512605042017\n",
      "example: Several people have shared juxtaposed images of 3D CT scans of the lungs and claimed that the image on the right shows the lungs of a COVID positive patient who is vaccinated, while the one on the left is of a COVID infected person who is yet to be vaccinated.Registrar and Head International Inoculation Centre at New Delhi Municipal Council Dr Sumit K Dubey tweeted the viral image and wrote, “Encourage everyone to get the vaccination done”. His tweet gained 2,000 retweets as of this writing. BJP supporter @RenukaJain6 also made the claim.BJP Andhra state general secretary S Vishnu Vardhan Reddy tweeted as well.Several Facebook pages and users shared the post, including ‘Sri Babu Singh Jai Singh Ayurvedic Medical College & Hospital‘.This slideshow requires JavaScript.There are multiple iterations of this claim. A video is also circulated on social media where a man points to a similar x-ray. CEO of Pakistan-based Positive Media Communications Omar R Quraishi also tweeted the video.Lungs of those infected with CovidOne was vaccinated and didn’t need hospitalisationThe other was not vaccinated and died pic.twitter.com/BWQMt5jYjw— omar r quraishi (@omar_quraishi) April 30, 2021Twitter user Shazia Shafi promoted the claim using a different set of scans. This tweet was retweeted by Radio Mirchi RJ Mehek.Alt News has received multiple verification requests on its WhatsApp helpline (76000 11160) and mobile application. Download our mobile application to send such forwards for verification. (Android, iOS)FACT-CHECKThe juxtaposed image shows a CT scan of the lungs. However, only one of them shows the image of a COVID-19 positive patient. The lungs on left are healthy while the ones on right are of a COVID-19 patient.This image was published in 2020 by Canadian news outlet Richmond News. The article’s headline reads, “New research aims to use CT scans to better diagnose COVID-19”.As per the report researchers and radiologists at Vancouver General Hospital (VGH), the University of British Columbia (UBC) and the Vancouver Coastal Health Research Institute (VCHRI) are at the helm of an international study that aims to better predict the presence of COVID-19 using CT scans.Director, Emergency and Trauma Radiology, at VGH Dr Savvas Nicolaou, told Richmond News that the lungs of COVID-19 patients are white and hazy. “Currently, we can’t predict disease severity and its clinical impact in different patient populations. We’re confident this new tool will help us do that,” he said.In February, Dr Vin Gupta, professor at the University of Washington’s Institute for Health Metrics and Evaluation, tweeted the viral image and said lungs on left are normal while the one on right needs life support. He had shared this image to communicate that people should get vaccinated. For further details read CNBC report.Since many have asked today, all approved covid vaccinations are VERY effective in preventing normal lungs (on the L) from looking like ones that need life support (on the R)Please pass it on: the brand doesn’t matter, as all will prevent severe illness from occurring. pic.twitter.com/kWT6qvXNac— Dr. Vin Gupta (@VinGuptaMD) February 22, 2021The image in question was also used UBC and VCHRI.This slideshow requires JavaScript.Founding editor of Alt News Science Dr Sumaiya Shaikh has opined, “COVID-19 vaccine will save people from symptoms and prevent mortality. While the claim promoted through the CT scans is false, it is indeed true that taking the vaccine will prevent your lungs’ health to deteriorate as shown in the picture.”The viral image, therefore, isn’t a comparison of the lungs of two COVID-19 patients — one vaccinated and the other yet to receive the jab. The image compares a healthy pair of lungs with the lungs of a COVID-19 patient.Independent journalism that speaks truth to power and is free of corporate and political control is possible only when people start contributing towards the same. Please consider donating towards this endeavour to fight fake news and misinformation.\n",
      "\n",
      "COVID-19 Denialism\n",
      "total 0.947594501718213\n",
      "example: On March 18, 2021, author Lance Karlson posted a video to Instagram of an octopus in shallow water lunging toward him in an aggressive manner. \"\"Oh. Golly,\"\" he responded in what would become the latest viral cephalopod video:There is no reason to think the video is anything but legitimate. The video was filmed in Dunsborough, Western Australia. This region is home to the Western Australian common octopus — closely related to the common Sydney octopus but recently determined to be its own species. This species, as seen in the video, is \"\"commonly found in and around inshore reef systems and sandy benthos\"\" and it \"\"completes its life cycle in nearshore and continental shelf waters.\"\"Speaking to The New York Times, Peter Ulric Tse, a professor of cognitive neuroscience at Dartmouth College who studies octopus cognition, said that octopuses, in general, \"\"can express what we would call aggression when they feel threatened or when they feel their territory is under threat.” Tse said that the behavior captured in Karlson's video is likely a warning not an attempted attack.My guess is that the octopus here is sending a warning meaning 'back off' … Octopuses will lunge or shoot an arm out when they feel a fish, another octopus or a human is in their space. I think this is often pre-emptive aggression, meant to signal ‘don’t mess with me,’ rather than aggression seriously meant to harm the 'invader.'Sadly, this cephalopod's potential warning shot was not heeded. \"\"Amused by the interaction but ultimately unfazed, [Karlson] returned ... to the water about 20 minutes later,\"\" the Times reported. \"\"About 30 meters out, he noticed a pile of crab shells piled neatly together. He dove underwater to take a look, and he remembered a documentary that he had watched in which he learned octopuses tended to pile up crab shells.\"\" At this juncture, Karlson was whipped on his arm and on his back by an octopus, causing modest amounts of pain.The Western Australia common octopus is indeed a fan of crabs. In fact, the lunging behavior seen in the video resembles the tactics employed by another Western Australia octopus that went viral for successfully capturing a crab — on land — in 2015:That video was filmed in Yallingup, Western Australia, which is right next to Dunsborough, where Karlson filmed his interaction with the defensive octopus.Because the behavior and setting are consistent with what is known about octopuses in general, and the Western Australia common octopus specifically, we do not doubt the video's authenticity. As such, the claim is \"\"True.\"\"\n",
      "\n"
     ]
    }
   ],
   "source": [
    "# docs above 95% similarity\n",
    "\n",
    "threshold = 0.95\n",
    "idxtokeep=bertopic2.get_sbert_norm_outliers(threshold)\n",
    "for i in range(len(setopics)):\n",
    "    print(setopics[i])\n",
    "    n=len(idxtokeep[i])\n",
    "    print('total', n/np.unique(bertopic2.sbert_clusters, return_counts=True)[1][i])\n",
    "    if n>0:\n",
    "        print('example:',data2['text'][idxtokeep[i][random.randint(n)]])\n",
    "    print('')"
   ]
  },
  {
   "cell_type": "code",
   "execution_count": null,
   "metadata": {},
   "outputs": [],
   "source": []
  }
 ],
 "metadata": {
  "kernelspec": {
   "display_name": "tomodapiArm",
   "language": "python",
   "name": "python3"
  },
  "language_info": {
   "codemirror_mode": {
    "name": "ipython",
    "version": 3
   },
   "file_extension": ".py",
   "mimetype": "text/x-python",
   "name": "python",
   "nbconvert_exporter": "python",
   "pygments_lexer": "ipython3",
   "version": "3.8.18"
  }
 },
 "nbformat": 4,
 "nbformat_minor": 2
}
