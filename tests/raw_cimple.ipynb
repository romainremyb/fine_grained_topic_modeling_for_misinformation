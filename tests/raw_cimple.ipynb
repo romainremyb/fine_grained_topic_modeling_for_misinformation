{
 "cells": [
  {
   "cell_type": "code",
   "execution_count": 1,
   "metadata": {},
   "outputs": [
    {
     "data": {
      "text/plain": [
       "<Graph identifier=Na5fc7400a6f143fa872c1b330272e60f (<class 'rdflib.graph.Graph'>)>"
      ]
     },
     "execution_count": 1,
     "metadata": {},
     "output_type": "execute_result"
    }
   ],
   "source": [
    "from rdflib import Graph, Literal, URIRef, XSD\n",
    "from rdflib.namespace import RDF, FOAF, SDO, Namespace\n",
    "from rdflib.plugins.sparql import prepareQuery\n",
    "import json\n",
    "from collections import defaultdict\n",
    "\n",
    "\n",
    "SCHEMA = Namespace(\"http://schema.org/\")\n",
    "CIMPLE = Namespace(\"http://data.cimple.eu/ontology#\")\n",
    "NIF = Namespace(\"http://persistence.uni-leipzig.org/nlp2rdf/ontologies/nif-core#\")\n",
    "SKOS = Namespace(\"http://www.w3.org/2004/02/skos/core#\")\n",
    "Namespace(\"http://example.org/\")\n",
    "\n",
    "WIKI_prefix = \"http://www.wikidata.org/entity/\"\n",
    "DB_prefix = \"http://dbpedia.org/ontology/\"\n",
    "\n",
    "prefix = \"http://data.cimple.eu/\"\n",
    "\n",
    "g = Graph()\n",
    "g.parse(\"KGs_v6/cimple-ontology.ttl\", format=\"turtle\") #https://github.com/CIMPLE-project/converter/tree/main\n",
    "g.parse(\"KGs_v6/cimple-vocabularies.ttl\", format=\"turtle\") #https://github.com/CIMPLE-project/converter/tree/main\n",
    "g.parse(\"KGs_v6/claim-review.ttl\", format=\"turtle\")\n",
    "g.parse(\"KGs_v6/mediaeval.ttl\", format=\"turtle\")\n",
    "g.parse(\"KGs_v6/propaganda.ttl\", format=\"turtle\")\n",
    "g.parse(\"KGs_v6/check-that.ttl\", format=\"turtle\")\n",
    "g.parse(\"KGs_v6/birdwatch.ttl\", format=\"turtle\")\n",
    "g.parse(\"KGs_v6/afp.ttl\", format=\"turtle\")"
   ]
  },
  {
   "cell_type": "code",
   "execution_count": 2,
   "metadata": {},
   "outputs": [],
   "source": [
    "prefix_namespaces=defaultdict()\n",
    "for prefix, uri in g.namespace_manager.namespaces():\n",
    "    prefix_namespaces[prefix]=uri"
   ]
  },
  {
   "cell_type": "code",
   "execution_count": 3,
   "metadata": {},
   "outputs": [
    {
     "data": {
      "text/plain": [
       "rdflib.term.URIRef('https://schema.org/')"
      ]
     },
     "execution_count": 3,
     "metadata": {},
     "output_type": "execute_result"
    }
   ],
   "source": [
    "prefix_namespaces['schema']"
   ]
  },
  {
   "cell_type": "code",
   "execution_count": 4,
   "metadata": {},
   "outputs": [
    {
     "data": {
      "text/plain": [
       "b'{\"results\": {\"bindings\": []}, \"head\": {\"vars\": [\"predicate\"]}}'"
      ]
     },
     "execution_count": 4,
     "metadata": {},
     "output_type": "execute_result"
    }
   ],
   "source": [
    "query = \"\"\"\n",
    "SELECT DISTINCT ?predicate\n",
    "WHERE {\n",
    "  ?s ?predicate ?o .\n",
    "  ?s a schema:NewsArticle .\n",
    "  }\n",
    "\"\"\"\n",
    "\n",
    "# Execute the query\n",
    "results = g.query(query)\n",
    "results_json = results.serialize(format=\"json\")\n",
    "bindings = json.loads(results_json)[\"results\"]\n",
    "results_json"
   ]
  },
  {
   "cell_type": "code",
   "execution_count": 5,
   "metadata": {},
   "outputs": [
    {
     "data": {
      "text/plain": [
       "[{'predicate': {'type': 'uri',\n",
       "   'value': 'http://www.w3.org/1999/02/22-rdf-syntax-ns#type'}},\n",
       " {'predicate': {'type': 'uri', 'value': 'http://schema.org/articleBody'}},\n",
       " {'predicate': {'type': 'uri', 'value': 'http://schema.org/headline'}},\n",
       " {'predicate': {'type': 'uri', 'value': 'http://schema.org/mentions'}},\n",
       " {'predicate': {'type': 'uri', 'value': 'http://schema.org/dateCreated'}},\n",
       " {'predicate': {'type': 'uri', 'value': 'http://schema.org/author'}},\n",
       " {'predicate': {'type': 'uri',\n",
       "   'value': 'http://data.cimple.eu/ontology#hasPoliticalLeaning'}},\n",
       " {'predicate': {'type': 'uri',\n",
       "   'value': 'http://data.cimple.eu/ontology#hasSentiment'}},\n",
       " {'predicate': {'type': 'uri',\n",
       "   'value': 'http://data.cimple.eu/ontology#readability_score'}},\n",
       " {'predicate': {'type': 'uri',\n",
       "   'value': 'http://data.cimple.eu/ontology#hasEmotion'}},\n",
       " {'predicate': {'type': 'uri',\n",
       "   'value': 'http://data.cimple.eu/ontology#promotesConspiracy'}},\n",
       " {'predicate': {'type': 'uri',\n",
       "   'value': 'http://data.cimple.eu/ontology#mentionsConspiracy'}}]"
      ]
     },
     "execution_count": 5,
     "metadata": {},
     "output_type": "execute_result"
    }
   ],
   "source": [
    "import sys, os\n",
    "from collections import defaultdict\n",
    "sys.path.append(os.path.expanduser(\"~\")+'/Desktop/topic_modeling/fine_grained_topic_modeling_for_misinformation/src/')\n",
    "from cimple_querying import build_SPARQL_wrapper, request, get_predicates_recordType, \\\n",
    "            get_all_statements_with_predicate, get_all_subjects_objects_pairs_from_property_and_subject\n",
    "\n",
    "wrapper=build_SPARQL_wrapper('https://data.cimple.eu/sparql')\n",
    "request(wrapper, query)"
   ]
  },
  {
   "cell_type": "code",
   "execution_count": 6,
   "metadata": {},
   "outputs": [
    {
     "data": {
      "text/plain": [
       "b'{\"results\": {\"bindings\": []}, \"head\": {\"vars\": [\"predicate\"]}}'"
      ]
     },
     "execution_count": 6,
     "metadata": {},
     "output_type": "execute_result"
    }
   ],
   "source": [
    "query = prepareQuery(\"\"\"\n",
    "SELECT DISTINCT ?predicate\n",
    "WHERE {\n",
    "  ?s ?predicate ?o .\n",
    "  ?s a schema:NewsArticle .\n",
    "  }\n",
    "\"\"\",\n",
    "initNs={\"schema\": prefix_namespaces['schema']})\n",
    "\n",
    "results = g.query(query)\n",
    "results_json = results.serialize(format=\"json\")\n",
    "bindings = json.loads(results_json)[\"results\"]\n",
    "results_json"
   ]
  },
  {
   "cell_type": "code",
   "execution_count": 7,
   "metadata": {},
   "outputs": [],
   "source": [
    "triples=g.triples((None, None, None))\n",
    "q=[]\n",
    "for s in triples:\n",
    "    if str(s[2])[:29]=='http://data.cimple.eu/rating/':\n",
    "        q.append(s)"
   ]
  },
  {
   "cell_type": "code",
   "execution_count": 8,
   "metadata": {},
   "outputs": [
    {
     "data": {
      "text/plain": [
       "(rdflib.term.URIRef('http://data.cimple.eu/claim-review/61fe914a2a0a19c795f1aed04196f7321877a3a8aefdef7cec204fc9'),\n",
       " rdflib.term.URIRef('http://schema.org/reviewRating'),\n",
       " rdflib.term.URIRef('http://data.cimple.eu/rating/106253df3b4fcbf1973d3b0cc30bddc25220b07db3df488ad7e34b72'))"
      ]
     },
     "execution_count": 8,
     "metadata": {},
     "output_type": "execute_result"
    }
   ],
   "source": [
    "q[0]"
   ]
  },
  {
   "cell_type": "code",
   "execution_count": null,
   "metadata": {},
   "outputs": [],
   "source": []
  },
  {
   "cell_type": "code",
   "execution_count": null,
   "metadata": {},
   "outputs": [],
   "source": []
  },
  {
   "cell_type": "code",
   "execution_count": null,
   "metadata": {},
   "outputs": [],
   "source": []
  },
  {
   "cell_type": "code",
   "execution_count": null,
   "metadata": {},
   "outputs": [],
   "source": []
  }
 ],
 "metadata": {
  "kernelspec": {
   "display_name": "tomodapiArm",
   "language": "python",
   "name": "python3"
  },
  "language_info": {
   "codemirror_mode": {
    "name": "ipython",
    "version": 3
   },
   "file_extension": ".py",
   "mimetype": "text/x-python",
   "name": "python",
   "nbconvert_exporter": "python",
   "pygments_lexer": "ipython3",
   "version": "3.8.18"
  }
 },
 "nbformat": 4,
 "nbformat_minor": 2
}
