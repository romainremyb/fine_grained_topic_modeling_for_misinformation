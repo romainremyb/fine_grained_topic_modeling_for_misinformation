{
 "cells": [
  {
   "cell_type": "code",
   "execution_count": 1,
   "metadata": {},
   "outputs": [],
   "source": [
    "import sys, os, itertools\n",
    "import re, nltk\n",
    "from nltk import pos_tag\n",
    "import pandas as pd\n",
    "import numpy as np\n",
    "from collections import defaultdict\n",
    "import matplotlib.pyplot as plt\n",
    "import sklearn, gensim\n",
    "from sklearn.decomposition import PCA\n",
    "from gensim.corpora import Dictionary\n",
    "sys.path.append(os.path.expanduser(\"~\")+'/Desktop/topic_modeling/fine_grained_topic_modeling_for_misinformation/src/')\n",
    "sys.path.append(os.path.expanduser(\"~\")+'/Desktop/topic_modeling/fine_grained_topic_modeling_for_misinformation/src/')\n",
    "os.chdir(os.path.expanduser(\"~\")+'/Desktop/topic_modeling/fine_grained_topic_modeling_for_misinformation/data/')\n",
    "from utils import preprocess_for_bow\n",
    "from models.lda import LDAwrappers\n",
    "from models.hdp import HDPwrapper\n",
    "from models.gsdmm import MovieGroupProcessWrapper\n",
    "from models.lftm import LFTMwrapper\n",
    "from models.bertopic import BERTopicWrapper\n",
    "from sklearn.feature_extraction.text import CountVectorizer\n",
    "from scipy.cluster import hierarchy as sch\n",
    "\n",
    "from bertopic.representation import ZeroShotClassification\n",
    "from bertopic import BERTopic"
   ]
  },
  {
   "cell_type": "code",
   "execution_count": 2,
   "metadata": {},
   "outputs": [],
   "source": [
    "data = preprocess_for_bow('data.csv', preprocessing=False)"
   ]
  },
  {
   "cell_type": "code",
   "execution_count": 3,
   "metadata": {},
   "outputs": [
    {
     "name": "stderr",
     "output_type": "stream",
     "text": [
      "huggingface/tokenizers: The current process just got forked, after parallelism has already been used. Disabling parallelism to avoid deadlocks...\n",
      "To disable this warning, you can either:\n",
      "\t- Avoid using `tokenizers` before the fork if possible\n",
      "\t- Explicitly set the environment variable TOKENIZERS_PARALLELISM=(true | false)\n",
      "huggingface/tokenizers: The current process just got forked, after parallelism has already been used. Disabling parallelism to avoid deadlocks...\n",
      "To disable this warning, you can either:\n",
      "\t- Avoid using `tokenizers` before the fork if possible\n",
      "\t- Explicitly set the environment variable TOKENIZERS_PARALLELISM=(true | false)\n",
      "huggingface/tokenizers: The current process just got forked, after parallelism has already been used. Disabling parallelism to avoid deadlocks...\n",
      "To disable this warning, you can either:\n",
      "\t- Avoid using `tokenizers` before the fork if possible\n",
      "\t- Explicitly set the environment variable TOKENIZERS_PARALLELISM=(true | false)\n",
      "huggingface/tokenizers: The current process just got forked, after parallelism has already been used. Disabling parallelism to avoid deadlocks...\n",
      "To disable this warning, you can either:\n",
      "\t- Avoid using `tokenizers` before the fork if possible\n",
      "\t- Explicitly set the environment variable TOKENIZERS_PARALLELISM=(true | false)\n",
      "huggingface/tokenizers: The current process just got forked, after parallelism has already been used. Disabling parallelism to avoid deadlocks...\n",
      "To disable this warning, you can either:\n",
      "\t- Avoid using `tokenizers` before the fork if possible\n",
      "\t- Explicitly set the environment variable TOKENIZERS_PARALLELISM=(true | false)\n"
     ]
    },
    {
     "data": {
      "text/plain": [
       "<bertopic._bertopic.BERTopic at 0x1075d29d0>"
      ]
     },
     "execution_count": 3,
     "metadata": {},
     "output_type": "execute_result"
    }
   ],
   "source": [
    "candidate_topics = [\"Virus Origin\", \"Virus contraction (who contracts the virus) and transmission (what transmits the virus)\", \n",
    "                    \"Incidence, Mortality and 'Casedemic'\", \"Prevention (Face Mask, Vitamin D, etc.)\", \n",
    "                    \"Treatment (Ivermectim, chloroquine and hydroxychloroquine, etc)\", \"Vaccines\", \"COVID-19 Denialism\"]\n",
    "representation_model = ZeroShotClassification(candidate_topics, model=\"facebook/bart-large-mnli\")\n",
    "topic_model = BERTopic() #representation_model=representation_model)\n",
    "topic_model.fit(data['text'])\n"
   ]
  },
  {
   "cell_type": "code",
   "execution_count": 4,
   "metadata": {},
   "outputs": [],
   "source": [
    "topic_model.update_topics(data['text'], representation_model=representation_model)"
   ]
  },
  {
   "cell_type": "code",
   "execution_count": null,
   "metadata": {},
   "outputs": [],
   "source": [
    "topic_model.get_topic_info()"
   ]
  },
  {
   "cell_type": "code",
   "execution_count": 9,
   "metadata": {},
   "outputs": [
    {
     "data": {
      "text/plain": [
       "<370x42630 sparse matrix of type '<class 'numpy.float64'>'\n",
       "\twith 158094 stored elements in Compressed Sparse Row format>"
      ]
     },
     "execution_count": 9,
     "metadata": {},
     "output_type": "execute_result"
    }
   ],
   "source": [
    "topic_model.c_tf_idf_"
   ]
  },
  {
   "cell_type": "code",
   "execution_count": null,
   "metadata": {},
   "outputs": [],
   "source": []
  }
 ],
 "metadata": {
  "kernelspec": {
   "display_name": "tomodapiArm",
   "language": "python",
   "name": "python3"
  },
  "language_info": {
   "codemirror_mode": {
    "name": "ipython",
    "version": 3
   },
   "file_extension": ".py",
   "mimetype": "text/x-python",
   "name": "python",
   "nbconvert_exporter": "python",
   "pygments_lexer": "ipython3",
   "version": "3.8.18"
  }
 },
 "nbformat": 4,
 "nbformat_minor": 2
}
