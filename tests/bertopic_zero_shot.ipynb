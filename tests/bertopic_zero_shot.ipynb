{
 "cells": [
  {
   "cell_type": "code",
   "execution_count": 1,
   "metadata": {},
   "outputs": [],
   "source": [
    "import sys, os, itertools\n",
    "import re, nltk\n",
    "from nltk import pos_tag\n",
    "import pandas as pd\n",
    "import numpy as np\n",
    "from collections import defaultdict\n",
    "import matplotlib.pyplot as plt\n",
    "import sklearn, gensim\n",
    "from sklearn.decomposition import PCA\n",
    "from gensim.corpora import Dictionary\n",
    "sys.path.append(os.path.expanduser(\"~\")+'/Desktop/topic_modeling/fine_grained_topic_modeling_for_misinformation/src/')\n",
    "sys.path.append(os.path.expanduser(\"~\")+'/Desktop/topic_modeling/fine_grained_topic_modeling_for_misinformation/src/')\n",
    "os.chdir(os.path.expanduser(\"~\")+'/Desktop/topic_modeling/fine_grained_topic_modeling_for_misinformation/data/')\n",
    "from utils import preprocess_for_bow\n",
    "from models.lda import LDAwrappers\n",
    "from models.hdp import HDPwrapper\n",
    "from models.gsdmm import MovieGroupProcessWrapper\n",
    "from models.lftm import LFTMwrapper\n",
    "from models.bertopic import BERTopicWrapper\n",
    "from sklearn.feature_extraction.text import CountVectorizer\n",
    "from scipy.cluster import hierarchy as sch\n",
    "\n",
    "from bertopic.representation import ZeroShotClassification\n",
    "from bertopic import BERTopic"
   ]
  },
  {
   "cell_type": "code",
   "execution_count": 14,
   "metadata": {},
   "outputs": [],
   "source": [
    "data = preprocess_for_bow('data.csv', preprocessing=False)"
   ]
  },
  {
   "cell_type": "code",
   "execution_count": 15,
   "metadata": {},
   "outputs": [],
   "source": [
    "candidate_topics = [\"Virus Origin\", \"Virus contraction (who contracts the virus) and transmission (what transmits the virus)\", \n",
    "                    \"Incidence, Mortality and 'Casedemic'\", \"Prevention (Face Mask, Vitamin D, etc.)\", \n",
    "                    \"Treatment (Ivermectim, chloroquine and hydroxychloroquine, etc)\", \"Vaccines\", \"COVID-19 Denialism\"]\n",
    "representation_model = ZeroShotClassification(candidate_topics, model=\"facebook/bart-large-mnli\")\n",
    "topic_model = BERTopic(representation_model=representation_model)\n",
    "topic_model.fit(data['text'])\n"
   ]
  },
  {
   "cell_type": "code",
   "execution_count": null,
   "metadata": {},
   "outputs": [],
   "source": [
    "topic_model.extract_topics(documents=data['text'])"
   ]
  },
  {
   "cell_type": "code",
   "execution_count": null,
   "metadata": {},
   "outputs": [
    {
     "ename": "TypeError",
     "evalue": "extract_topics() missing 2 required positional arguments: 'c_tf_idf' and 'topics'",
     "output_type": "error",
     "traceback": [
      "\u001b[0;31m---------------------------------------------------------------------------\u001b[0m",
      "\u001b[0;31mTypeError\u001b[0m                                 Traceback (most recent call last)",
      "\u001b[1;32m/Users/romainbourgeois/Desktop/topic_modeling/fine_grained_topic_modeling_for_misinformation/tests/bertopic_zero_shot.ipynb Cell 4\u001b[0m line \u001b[0;36m1\n\u001b[0;32m----> <a href='vscode-notebook-cell:/Users/romainbourgeois/Desktop/topic_modeling/fine_grained_topic_modeling_for_misinformation/tests/bertopic_zero_shot.ipynb#W3sZmlsZQ%3D%3D?line=0'>1</a>\u001b[0m representation_model\u001b[39m.\u001b[39;49mextract_topics(BERTopic, documents\u001b[39m=\u001b[39;49mdata[\u001b[39m'\u001b[39;49m\u001b[39mtext\u001b[39;49m\u001b[39m'\u001b[39;49m])\n",
      "\u001b[0;31mTypeError\u001b[0m: extract_topics() missing 2 required positional arguments: 'c_tf_idf' and 'topics'"
     ]
    }
   ],
   "source": [
    "representation_model.extract_topics(BERTopic, documents=data['text'])"
   ]
  },
  {
   "cell_type": "code",
   "execution_count": null,
   "metadata": {},
   "outputs": [],
   "source": []
  },
  {
   "cell_type": "code",
   "execution_count": null,
   "metadata": {},
   "outputs": [],
   "source": []
  }
 ],
 "metadata": {
  "kernelspec": {
   "display_name": "tomodapiArm",
   "language": "python",
   "name": "python3"
  },
  "language_info": {
   "codemirror_mode": {
    "name": "ipython",
    "version": 3
   },
   "file_extension": ".py",
   "mimetype": "text/x-python",
   "name": "python",
   "nbconvert_exporter": "python",
   "pygments_lexer": "ipython3",
   "version": "3.8.18"
  }
 },
 "nbformat": 4,
 "nbformat_minor": 2
}
