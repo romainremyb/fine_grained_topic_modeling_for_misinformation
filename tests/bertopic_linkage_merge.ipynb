{
 "cells": [
  {
   "cell_type": "code",
   "execution_count": 1,
   "metadata": {},
   "outputs": [],
   "source": [
    "import sys, os, itertools\n",
    "import re, nltk\n",
    "from nltk import pos_tag\n",
    "import pandas as pd\n",
    "import numpy as np\n",
    "from collections import defaultdict\n",
    "import matplotlib.pyplot as plt\n",
    "import sklearn, gensim\n",
    "from sklearn.decomposition import PCA\n",
    "from gensim.corpora import Dictionary\n",
    "sys.path.append(os.path.expanduser(\"~\")+'/Desktop/topic_modeling/fine_grained_topic_modeling_for_misinformation/src/')\n",
    "sys.path.append(os.path.expanduser(\"~\")+'/Desktop/topic_modeling/fine_grained_topic_modeling_for_misinformation/src/')\n",
    "os.chdir(os.path.expanduser(\"~\")+'/Desktop/topic_modeling/fine_grained_topic_modeling_for_misinformation/data/')\n",
    "from utils import preprocess_for_bow\n",
    "from models.lda import LDAwrappers\n",
    "from models.hdp import HDPwrapper\n",
    "from models.gsdmm import MovieGroupProcessWrapper\n",
    "from models.lftm import LFTMwrapper\n",
    "from models.bertopic import BERTopicWrapper\n",
    "from sklearn.feature_extraction.text import CountVectorizer\n",
    "from scipy.cluster import hierarchy as sch"
   ]
  },
  {
   "cell_type": "code",
   "execution_count": 2,
   "metadata": {},
   "outputs": [
    {
     "name": "stderr",
     "output_type": "stream",
     "text": [
      "huggingface/tokenizers: The current process just got forked, after parallelism has already been used. Disabling parallelism to avoid deadlocks...\n",
      "To disable this warning, you can either:\n",
      "\t- Avoid using `tokenizers` before the fork if possible\n",
      "\t- Explicitly set the environment variable TOKENIZERS_PARALLELISM=(true | false)\n",
      "huggingface/tokenizers: The current process just got forked, after parallelism has already been used. Disabling parallelism to avoid deadlocks...\n",
      "To disable this warning, you can either:\n",
      "\t- Avoid using `tokenizers` before the fork if possible\n",
      "\t- Explicitly set the environment variable TOKENIZERS_PARALLELISM=(true | false)\n",
      "huggingface/tokenizers: The current process just got forked, after parallelism has already been used. Disabling parallelism to avoid deadlocks...\n",
      "To disable this warning, you can either:\n",
      "\t- Avoid using `tokenizers` before the fork if possible\n",
      "\t- Explicitly set the environment variable TOKENIZERS_PARALLELISM=(true | false)\n",
      "huggingface/tokenizers: The current process just got forked, after parallelism has already been used. Disabling parallelism to avoid deadlocks...\n",
      "To disable this warning, you can either:\n",
      "\t- Avoid using `tokenizers` before the fork if possible\n",
      "\t- Explicitly set the environment variable TOKENIZERS_PARALLELISM=(true | false)\n",
      "huggingface/tokenizers: The current process just got forked, after parallelism has already been used. Disabling parallelism to avoid deadlocks...\n",
      "To disable this warning, you can either:\n",
      "\t- Avoid using `tokenizers` before the fork if possible\n",
      "\t- Explicitly set the environment variable TOKENIZERS_PARALLELISM=(true | false)\n"
     ]
    },
    {
     "data": {
      "text/plain": [
       "<bertopic._bertopic.BERTopic at 0x2b5db0e80>"
      ]
     },
     "execution_count": 2,
     "metadata": {},
     "output_type": "execute_result"
    }
   ],
   "source": [
    "data = preprocess_for_bow('data.csv', preprocessing=False)\n",
    "bertopic=BERTopicWrapper(data['text'], data['ids'], custom_vectorizer=True)\n",
    "bertopic.model.fit(data['text'])"
   ]
  },
  {
   "cell_type": "code",
   "execution_count": 3,
   "metadata": {},
   "outputs": [
    {
     "name": "stderr",
     "output_type": "stream",
     "text": [
      "100%|██████████| 675/675 [00:05<00:00, 129.26it/s]\n"
     ]
    }
   ],
   "source": [
    "linkage_function = lambda x: sch.linkage(x, 'average', optimal_ordering=True)\n",
    "hierarchical_topics = bertopic.model.hierarchical_topics(data['text'], linkage_function=linkage_function)"
   ]
  },
  {
   "cell_type": "code",
   "execution_count": 4,
   "metadata": {},
   "outputs": [
    {
     "data": {
      "application/vnd.plotly.v1+json": {
       "config": {
        "plotlyServerURL": "https://plot.ly"
       },
       "data": [
        {
         "hoverinfo": "text",
         "marker": {
          "color": "rgb(61,153,112)"
         },
         "mode": "lines",
         "text": [
          "0629_graph_risk graph_65 70_70 earthquake",
          "",
          "",
          "francisco bay_san francisco_bay_earthquake_francisco"
         ],
         "type": "scatter",
         "x": [
          0,
          0.7017274092933967,
          0.7017274092933967,
          0
         ],
         "xaxis": "x",
         "y": [
          -15,
          -15,
          -25,
          -25
         ],
         "yaxis": "y"
        },
        {
         "hoverinfo": "text",
         "marker": {
          "color": "rgb(61,153,112)"
         },
         "mode": "lines",
         "text": [
          "75 earthquake_65 75_warning 65_likely_65",
          "",
          "",
          "salton_salton sea_sea_swarm_0605"
         ],
         "type": "scatter",
         "x": [
          0,
          0.43753740645800465,
          0.43753740645800465,
          0
         ],
         "xaxis": "x",
         "y": [
          -35,
          -35,
          -45,
          -45
         ],
         "yaxis": "y"
        },
        {
         "hoverinfo": "text",
         "marker": {
          "color": "rgb(61,153,112)"
         },
         "mode": "lines",
         "text": [
          "francisco bay_earthquake_0629_san francisco_bay",
          "",
          "",
          "65 75_75 earthquake_highest risk_salton sea_salton"
         ],
         "type": "scatter",
         "x": [
          0.7017274092933967,
          0.865996067172543,
          0.865996067172543,
          0.43753740645800465
         ],
         "xaxis": "x",
         "y": [
          -20,
          -20,
          -40,
          -40
         ],
         "yaxis": "y"
        },
        {
         "hoverinfo": "text",
         "marker": {
          "color": "rgb(61,153,112)"
         },
         "mode": "lines",
         "text": [
          "san_ca san_likely hayward_hayward ca_hayward",
          "",
          "",
          "65 75_75 earthquake_highest risk_salton sea_salton"
         ],
         "type": "scatter",
         "x": [
          0,
          0.9535370277060384,
          0.9535370277060384,
          0.865996067172543
         ],
         "xaxis": "x",
         "y": [
          -5,
          -5,
          -30,
          -30
         ],
         "yaxis": "y"
        },
        {
         "hoverinfo": "text",
         "marker": {
          "color": "rgb(255,65,54)"
         },
         "mode": "lines",
         "text": [
          "warning 60_60 earthquake_hours likely_california_60",
          "",
          "",
          "sea area_60 earthquake_50 60_salton_salton sea"
         ],
         "type": "scatter",
         "x": [
          0,
          0.6455317456078514,
          0.6455317456078514,
          0
         ],
         "xaxis": "x",
         "y": [
          -65,
          -65,
          -75,
          -75
         ],
         "yaxis": "y"
        },
        {
         "hoverinfo": "text",
         "marker": {
          "color": "rgb(255,65,54)"
         },
         "mode": "lines",
         "text": [
          "earthquake_major earthquake_likely_california_angeles",
          "",
          "",
          "60 earthquake_60_warning 60_earthquake_likely"
         ],
         "type": "scatter",
         "x": [
          0,
          0.7122588823827015,
          0.7122588823827015,
          0.6455317456078514
         ],
         "xaxis": "x",
         "y": [
          -55,
          -55,
          -70,
          -70
         ],
         "yaxis": "y"
        },
        {
         "hoverinfo": "text",
         "marker": {
          "color": "rgb(0,116,217)"
         },
         "mode": "lines",
         "text": [
          "earthquake_major earthquake_likely_california_angeles",
          "",
          "",
          "60 earthquake_60_warning 60_earthquake_likely"
         ],
         "type": "scatter",
         "x": [
          0.9535370277060384,
          1.0156905601863766,
          1.0156905601863766,
          0.7122588823827015
         ],
         "xaxis": "x",
         "y": [
          -17.5,
          -17.5,
          -62.5,
          -62.5
         ],
         "yaxis": "y"
        },
        {
         "hoverinfo": "text",
         "marker": {
          "color": "rgb(35,205,205)"
         },
         "mode": "lines",
         "text": [
          "floyd_george_george floyd_floyds death_george floyds",
          "",
          "",
          "george floyd_floyd_floyd protests_george_vandalized"
         ],
         "type": "scatter",
         "x": [
          0,
          0.7223130056416254,
          0.7223130056416254,
          0
         ],
         "xaxis": "x",
         "y": [
          -95,
          -95,
          -105,
          -105
         ],
         "yaxis": "y"
        },
        {
         "hoverinfo": "text",
         "marker": {
          "color": "rgb(35,205,205)"
         },
         "mode": "lines",
         "text": [
          "floyd_george floyd_george_floyds death_george floyds",
          "",
          "",
          "george floyd_floyd_floyd protests_shows boston_boston police"
         ],
         "type": "scatter",
         "x": [
          0.7223130056416254,
          0.7853587098273159,
          0.7853587098273159,
          0
         ],
         "xaxis": "x",
         "y": [
          -100,
          -100,
          -115,
          -115
         ],
         "yaxis": "y"
        },
        {
         "hoverinfo": "text",
         "marker": {
          "color": "rgb(35,205,205)"
         },
         "mode": "lines",
         "text": [
          "derek_derek chauvin_chauvin_floyd_officer derek",
          "",
          "",
          "floyd_george floyd_george_floyds death_george floyds"
         ],
         "type": "scatter",
         "x": [
          0,
          0.9100787641360792,
          0.9100787641360792,
          0.7853587098273159
         ],
         "xaxis": "x",
         "y": [
          -85,
          -85,
          -107.5,
          -107.5
         ],
         "yaxis": "y"
        },
        {
         "hoverinfo": "text",
         "marker": {
          "color": "rgb(35,205,205)"
         },
         "mode": "lines",
         "text": [
          "floyd_george floyd_george_derek_derek chauvin",
          "",
          "",
          "obama foundation_floyd days_tweeted image_days death_17 2020"
         ],
         "type": "scatter",
         "x": [
          0.9100787641360792,
          0.9510067887375114,
          0.9510067887375114,
          0
         ],
         "xaxis": "x",
         "y": [
          -96.25,
          -96.25,
          -125,
          -125
         ],
         "yaxis": "y"
        },
        {
         "hoverinfo": "text",
         "marker": {
          "color": "rgb(133,20,75)"
         },
         "mode": "lines",
         "text": [
          "add context_context tweets_birdwatch add_going youd_notes birdwatch",
          "",
          "",
          "started youd_tweets wrote_add valuable_valuable context_misleading tweets"
         ],
         "type": "scatter",
         "x": [
          0,
          0.6448138421473566,
          0.6448138421473566,
          0
         ],
         "xaxis": "x",
         "y": [
          -145,
          -145,
          -155,
          -155
         ],
         "yaxis": "y"
        },
        {
         "hoverinfo": "text",
         "marker": {
          "color": "rgb(133,20,75)"
         },
         "mode": "lines",
         "text": [
          "notes_elevate helpful_helpful just_site view_help rating",
          "",
          "",
          "like jump_jump try_writing note_note tweet_welcome birdwatch"
         ],
         "type": "scatter",
         "x": [
          0,
          0.913053137998356,
          0.913053137998356,
          0.6448138421473566
         ],
         "xaxis": "x",
         "y": [
          -135,
          -135,
          -150,
          -150
         ],
         "yaxis": "y"
        },
        {
         "hoverinfo": "text",
         "marker": {
          "color": "rgb(255,220,0)"
         },
         "mode": "lines",
         "text": [
          "voting systems_dominion voting_dominion_systems_transition team",
          "",
          "",
          "dominion_dominion voting_voting systems_systems_voting"
         ],
         "type": "scatter",
         "x": [
          0,
          0.6067031605313561,
          0.6067031605313561,
          0
         ],
         "xaxis": "x",
         "y": [
          -165,
          -165,
          -175,
          -175
         ],
         "yaxis": "y"
        },
        {
         "hoverinfo": "text",
         "marker": {
          "color": "rgb(40,35,35)"
         },
         "mode": "lines",
         "text": [
          "ballots_mailin_mailin ballots_ballot_votes",
          "",
          "",
          "fulton_fulton county_county_county georgia_ballots"
         ],
         "type": "scatter",
         "x": [
          0,
          0.8372276685507831,
          0.8372276685507831,
          0
         ],
         "xaxis": "x",
         "y": [
          -195,
          -195,
          -205,
          -205
         ],
         "yaxis": "y"
        },
        {
         "hoverinfo": "text",
         "marker": {
          "color": "rgb(40,35,35)"
         },
         "mode": "lines",
         "text": [
          "ballots_mailin_mailin ballots_ballot_votes",
          "",
          "",
          "georgia_georgias_georgias elections_gbi_fraud georgia"
         ],
         "type": "scatter",
         "x": [
          0.8372276685507831,
          0.9097570478807738,
          0.9097570478807738,
          0
         ],
         "xaxis": "x",
         "y": [
          -200,
          -200,
          -215,
          -215
         ],
         "yaxis": "y"
        },
        {
         "hoverinfo": "text",
         "marker": {
          "color": "rgb(40,35,35)"
         },
         "mode": "lines",
         "text": [
          "rigged_election_rig election_election rigged_mike lindell",
          "",
          "",
          "ballots_mailin_mailin ballots_ballot_voter"
         ],
         "type": "scatter",
         "x": [
          0,
          0.9772345690060252,
          0.9772345690060252,
          0.9097570478807738
         ],
         "xaxis": "x",
         "y": [
          -185,
          -185,
          -207.5,
          -207.5
         ],
         "yaxis": "y"
        },
        {
         "hoverinfo": "text",
         "marker": {
          "color": "rgb(61,153,112)"
         },
         "mode": "lines",
         "text": [
          "kemp_gov brian_shows georgia_georgia gov_brian kemp",
          "",
          "",
          "food water_line_georgia_water_food"
         ],
         "type": "scatter",
         "x": [
          0,
          0.9250665435721761,
          0.9250665435721761,
          0
         ],
         "xaxis": "x",
         "y": [
          -225,
          -225,
          -235,
          -235
         ],
         "yaxis": "y"
        },
        {
         "hoverinfo": "text",
         "marker": {
          "color": "rgb(255,65,54)"
         },
         "mode": "lines",
         "text": [
          "senators_voting rights_senate_people act_act",
          "",
          "",
          "georgia_stacey_stacey abrams_abrams_georgia republicans"
         ],
         "type": "scatter",
         "x": [
          0,
          0.9129782046449859,
          0.9129782046449859,
          0
         ],
         "xaxis": "x",
         "y": [
          -245,
          -245,
          -255,
          -255
         ],
         "yaxis": "y"
        },
        {
         "hoverinfo": "text",
         "marker": {
          "color": "rgb(255,65,54)"
         },
         "mode": "lines",
         "text": [
          "senators_voting rights_georgia_voting_vote",
          "",
          "",
          "filibuster_open express_filibuster existed_express lane_states senate"
         ],
         "type": "scatter",
         "x": [
          0.9129782046449859,
          0.9650622488778686,
          0.9650622488778686,
          0
         ],
         "xaxis": "x",
         "y": [
          -250,
          -250,
          -265,
          -265
         ],
         "yaxis": "y"
        },
        {
         "hoverinfo": "text",
         "marker": {
          "color": "rgb(0,116,217)"
         },
         "mode": "lines",
         "text": [
          "georgia_kemp_gov brian_food water_georgia gov",
          "",
          "",
          "filibuster_open express_filibuster existed_express lane_states senate"
         ],
         "type": "scatter",
         "x": [
          0.9250665435721761,
          1.0248595983973867,
          1.0248595983973867,
          0.9650622488778686
         ],
         "xaxis": "x",
         "y": [
          -230,
          -230,
          -257.5,
          -257.5
         ],
         "yaxis": "y"
        },
        {
         "hoverinfo": "text",
         "marker": {
          "color": "rgb(0,116,217)"
         },
         "mode": "lines",
         "text": [
          "georgia_kemp_gov brian_food water_georgia gov",
          "",
          "",
          "filibuster_open express_filibuster existed_express lane_states senate"
         ],
         "type": "scatter",
         "x": [
          0.9772345690060252,
          1.0793987172571644,
          1.0793987172571644,
          1.0248595983973867
         ],
         "xaxis": "x",
         "y": [
          -196.25,
          -196.25,
          -243.75,
          -243.75
         ],
         "yaxis": "y"
        },
        {
         "hoverinfo": "text",
         "marker": {
          "color": "rgb(0,116,217)"
         },
         "mode": "lines",
         "text": [
          "dominion_dominion voting_voting systems_systems_voting",
          "",
          "",
          "filibuster_open express_filibuster existed_express lane_states senate"
         ],
         "type": "scatter",
         "x": [
          0.6067031605313561,
          1.2245974745526935,
          1.2245974745526935,
          1.0793987172571644
         ],
         "xaxis": "x",
         "y": [
          -170,
          -170,
          -220,
          -220
         ],
         "yaxis": "y"
        },
        {
         "hoverinfo": "text",
         "marker": {
          "color": "rgb(35,205,205)"
         },
         "mode": "lines",
         "text": [
          "kavanaugh_judge kavanaughs_kavanaughs_judge_allegations",
          "",
          "",
          "kavanaugh_kavanaughs_judge_brett_nomination"
         ],
         "type": "scatter",
         "x": [
          0,
          0.7612211913760462,
          0.7612211913760462,
          0
         ],
         "xaxis": "x",
         "y": [
          -275,
          -275,
          -285,
          -285
         ],
         "yaxis": "y"
        },
        {
         "hoverinfo": "text",
         "marker": {
          "color": "rgb(35,205,205)"
         },
         "mode": "lines",
         "text": [
          "kavanaugh_kavanaughs_judge_judge kavanaughs_brett",
          "",
          "",
          "amy coney_coney_barrett_amy_coney barrett"
         ],
         "type": "scatter",
         "x": [
          0.7612211913760462,
          0.9334838578629707,
          0.9334838578629707,
          0
         ],
         "xaxis": "x",
         "y": [
          -280,
          -280,
          -295,
          -295
         ],
         "yaxis": "y"
        },
        {
         "hoverinfo": "text",
         "marker": {
          "color": "rgb(61,153,112)"
         },
         "mode": "lines",
         "text": [
          "stimulus_stimulus payments_payments_covid19 stimulus_relief",
          "",
          "",
          "stimulus_voted_republicans voted_democrats voted_1400"
         ],
         "type": "scatter",
         "x": [
          0,
          0.8389545959980953,
          0.8389545959980953,
          0
         ],
         "xaxis": "x",
         "y": [
          -315,
          -315,
          -325,
          -325
         ],
         "yaxis": "y"
        },
        {
         "hoverinfo": "text",
         "marker": {
          "color": "rgb(61,153,112)"
         },
         "mode": "lines",
         "text": [
          "relief_american rescue_rescue plan_aid_rescue",
          "",
          "",
          "stimulus_stimulus payments_payments_relief_covid19 stimulus"
         ],
         "type": "scatter",
         "x": [
          0,
          0.9198780146218398,
          0.9198780146218398,
          0.8389545959980953
         ],
         "xaxis": "x",
         "y": [
          -305,
          -305,
          -320,
          -320
         ],
         "yaxis": "y"
        },
        {
         "hoverinfo": "text",
         "marker": {
          "color": "rgb(255,65,54)"
         },
         "mode": "lines",
         "text": [
          "wants tax_tax_bernie_sanders_bernie sanders",
          "",
          "",
          "sen bernie_bernie sanders_bernie_sanders_vermont"
         ],
         "type": "scatter",
         "x": [
          0,
          0.8352456648002231,
          0.8352456648002231,
          0
         ],
         "xaxis": "x",
         "y": [
          -345,
          -345,
          -355,
          -355
         ],
         "yaxis": "y"
        },
        {
         "hoverinfo": "text",
         "marker": {
          "color": "rgb(255,65,54)"
         },
         "mode": "lines",
         "text": [
          "tax_gains_raise taxes_capital gains_taxes",
          "",
          "",
          "bernie sanders_bernie_sanders_sen bernie_vermont"
         ],
         "type": "scatter",
         "x": [
          0,
          0.9521183670192657,
          0.9521183670192657,
          0.8352456648002231
         ],
         "xaxis": "x",
         "y": [
          -335,
          -335,
          -350,
          -350
         ],
         "yaxis": "y"
        },
        {
         "hoverinfo": "text",
         "marker": {
          "color": "rgb(0,116,217)"
         },
         "mode": "lines",
         "text": [
          "stimulus_relief_stimulus payments_payments_checks",
          "",
          "",
          "tax_bernie_bernie sanders_sanders_sen bernie"
         ],
         "type": "scatter",
         "x": [
          0.9198780146218398,
          1.1591065108842304,
          1.1591065108842304,
          0.9521183670192657
         ],
         "xaxis": "x",
         "y": [
          -312.5,
          -312.5,
          -342.5,
          -342.5
         ],
         "yaxis": "y"
        },
        {
         "hoverinfo": "text",
         "marker": {
          "color": "rgb(35,205,205)"
         },
         "mode": "lines",
         "text": [
          "nigeria_terrorism index_global terrorism_index_2020 global",
          "",
          "",
          "buhari_nigeria_postponed_nigerians_nigerias"
         ],
         "type": "scatter",
         "x": [
          0,
          0.8985079829006701,
          0.8985079829006701,
          0
         ],
         "xaxis": "x",
         "y": [
          -375,
          -375,
          -385,
          -385
         ],
         "yaxis": "y"
        },
        {
         "hoverinfo": "text",
         "marker": {
          "color": "rgb(35,205,205)"
         },
         "mode": "lines",
         "text": [
          "nigerian_boko_haram_boko haram_nigeria",
          "",
          "",
          "nigeria_nigerians_terrorism index_global terrorism_buhari"
         ],
         "type": "scatter",
         "x": [
          0,
          0.9066574108548788,
          0.9066574108548788,
          0.8985079829006701
         ],
         "xaxis": "x",
         "y": [
          -365,
          -365,
          -380,
          -380
         ],
         "yaxis": "y"
        },
        {
         "hoverinfo": "text",
         "marker": {
          "color": "rgb(133,20,75)"
         },
         "mode": "lines",
         "text": [
          "ghana_claims ghanas_ghanas_ghanas economic_economic performance",
          "",
          "",
          "ghana_akufoaddo_ghanas_president nana_president akufoaddo"
         ],
         "type": "scatter",
         "x": [
          0,
          0.861488272744198,
          0.861488272744198,
          0
         ],
         "xaxis": "x",
         "y": [
          -395,
          -395,
          -405,
          -405
         ],
         "yaxis": "y"
        },
        {
         "hoverinfo": "text",
         "marker": {
          "color": "rgb(0,116,217)"
         },
         "mode": "lines",
         "text": [
          "nigeria_nigerian_boko haram_haram_boko",
          "",
          "",
          "ghana_ghanas_akufoaddo_claims ghanas_ghanas economic"
         ],
         "type": "scatter",
         "x": [
          0.9066574108548788,
          1.084823816129049,
          1.084823816129049,
          0.861488272744198
         ],
         "xaxis": "x",
         "y": [
          -372.5,
          -372.5,
          -400,
          -400
         ],
         "yaxis": "y"
        },
        {
         "hoverinfo": "text",
         "marker": {
          "color": "rgb(255,220,0)"
         },
         "mode": "lines",
         "text": [
          "kobe_bryant_kobe bryant_kobe bryants_bryants",
          "",
          "",
          "lebron james_lebron_basketball_james_girl stab"
         ],
         "type": "scatter",
         "x": [
          0,
          0.8991392985851601,
          0.8991392985851601,
          0
         ],
         "xaxis": "x",
         "y": [
          -415,
          -415,
          -425,
          -425
         ],
         "yaxis": "y"
        },
        {
         "hoverinfo": "text",
         "marker": {
          "color": "rgb(40,35,35)"
         },
         "mode": "lines",
         "text": [
          "bader_ruth bader_ruth_bader ginsburg_ginsburg",
          "",
          "",
          "age_age consent_consent_lowered_lowered age"
         ],
         "type": "scatter",
         "x": [
          0,
          0.8174169130424636,
          0.8174169130424636,
          0
         ],
         "xaxis": "x",
         "y": [
          -435,
          -435,
          -445,
          -445
         ],
         "yaxis": "y"
        },
        {
         "hoverinfo": "text",
         "marker": {
          "color": "rgb(0,116,217)"
         },
         "mode": "lines",
         "text": [
          "kobe_bryant_kobe bryant_kobe bryants_bryants",
          "",
          "",
          "ruth bader_bader_age_ruth_age consent"
         ],
         "type": "scatter",
         "x": [
          0.8991392985851601,
          1.04608445885159,
          1.04608445885159,
          0.8174169130424636
         ],
         "xaxis": "x",
         "y": [
          -420,
          -420,
          -440,
          -440
         ],
         "yaxis": "y"
        },
        {
         "hoverinfo": "text",
         "marker": {
          "color": "rgb(0,116,217)"
         },
         "mode": "lines",
         "text": [
          "kobe_bryant_kobe bryant_kobe bryants_bryants",
          "",
          "",
          "kobe_ruth bader_bader_ruth_ginsburg"
         ],
         "type": "scatter",
         "x": [
          1.084823816129049,
          1.1802118623243123,
          1.1802118623243123,
          1.04608445885159
         ],
         "xaxis": "x",
         "y": [
          -386.25,
          -386.25,
          -430,
          -430
         ],
         "yaxis": "y"
        },
        {
         "hoverinfo": "text",
         "marker": {
          "color": "rgb(61,153,112)"
         },
         "mode": "lines",
         "text": [
          "drawings_melania_melania trump_lady melania_dress",
          "",
          "",
          "melania_melania trump_christmas_lady melania_lady"
         ],
         "type": "scatter",
         "x": [
          0,
          0.8012989561671789,
          0.8012989561671789,
          0
         ],
         "xaxis": "x",
         "y": [
          -455,
          -455,
          -465,
          -465
         ],
         "yaxis": "y"
        },
        {
         "hoverinfo": "text",
         "marker": {
          "color": "rgb(255,65,54)"
         },
         "mode": "lines",
         "text": [
          "impeachment_impeach_impeached_senators_unconstitutional",
          "",
          "",
          "second impeachment_impeachment trial_second_impeachment_supporters jan"
         ],
         "type": "scatter",
         "x": [
          0,
          0.9218746383802155,
          0.9218746383802155,
          0
         ],
         "xaxis": "x",
         "y": [
          -475,
          -475,
          -485,
          -485
         ],
         "yaxis": "y"
        },
        {
         "hoverinfo": "text",
         "marker": {
          "color": "rgb(35,205,205)"
         },
         "mode": "lines",
         "text": [
          "rally_trump rally_rally tulsa_tulsa_oct",
          "",
          "",
          "today march_2021 president_trump legitimate_reinstated_trump reinstated"
         ],
         "type": "scatter",
         "x": [
          0,
          0.9498271254702747,
          0.9498271254702747,
          0
         ],
         "xaxis": "x",
         "y": [
          -495,
          -495,
          -505,
          -505
         ],
         "yaxis": "y"
        },
        {
         "hoverinfo": "text",
         "marker": {
          "color": "rgb(35,205,205)"
         },
         "mode": "lines",
         "text": [
          "inauguration_maralago_disoriented_howroute_retake",
          "",
          "",
          "oval office_oval_postpresidency_trumps departure_2024 sign"
         ],
         "type": "scatter",
         "x": [
          0,
          0.9551805758189413,
          0.9551805758189413,
          0
         ],
         "xaxis": "x",
         "y": [
          -515,
          -515,
          -525,
          -525
         ],
         "yaxis": "y"
        },
        {
         "hoverinfo": "text",
         "marker": {
          "color": "rgb(35,205,205)"
         },
         "mode": "lines",
         "text": [
          "rally_trump rally_rally tulsa_2021 president_tulsa",
          "",
          "",
          "oval office_oval_postpresidency_trumps departure_2024 sign"
         ],
         "type": "scatter",
         "x": [
          0.9498271254702747,
          0.9699262717732605,
          0.9699262717732605,
          0.9551805758189413
         ],
         "xaxis": "x",
         "y": [
          -500,
          -500,
          -520,
          -520
         ],
         "yaxis": "y"
        },
        {
         "hoverinfo": "text",
         "marker": {
          "color": "rgb(35,205,205)"
         },
         "mode": "lines",
         "text": [
          "rally_trump rally_rally tulsa_2021 president_tulsa",
          "",
          "",
          "pardons_pardoned_pardon_hammond_trump pardoned"
         ],
         "type": "scatter",
         "x": [
          0.9699262717732605,
          0.9866699324810511,
          0.9866699324810511,
          0
         ],
         "xaxis": "x",
         "y": [
          -510,
          -510,
          -535,
          -535
         ],
         "yaxis": "y"
        },
        {
         "hoverinfo": "text",
         "marker": {
          "color": "rgb(0,116,217)"
         },
         "mode": "lines",
         "text": [
          "impeachment_impeached_impeach_senators_unconstitutional",
          "",
          "",
          "pardons_pardoned_pardon_hammond_trump pardoned"
         ],
         "type": "scatter",
         "x": [
          0.9218746383802155,
          1.0232295930812132,
          1.0232295930812132,
          0.9866699324810511
         ],
         "xaxis": "x",
         "y": [
          -480,
          -480,
          -522.5,
          -522.5
         ],
         "yaxis": "y"
        },
        {
         "hoverinfo": "text",
         "marker": {
          "color": "rgb(61,153,112)"
         },
         "mode": "lines",
         "text": [
          "dying died_oldies die_people dying_died president_oldies",
          "",
          "",
          "trump tweeted_2009_pandemic office_let thousands_pandemic 2009"
         ],
         "type": "scatter",
         "x": [
          0,
          0.9178972441304859,
          0.9178972441304859,
          0
         ],
         "xaxis": "x",
         "y": [
          -545,
          -545,
          -555,
          -555
         ],
         "yaxis": "y"
        },
        {
         "hoverinfo": "text",
         "marker": {
          "color": "rgb(61,153,112)"
         },
         "mode": "lines",
         "text": [
          "trump tweeted_tweeted_dying died_oldies die_people dying",
          "",
          "",
          "haaretzcom_tmz_tweeted_retweeted_yad vashem"
         ],
         "type": "scatter",
         "x": [
          0.9178972441304859,
          0.9746513641276662,
          0.9746513641276662,
          0
         ],
         "xaxis": "x",
         "y": [
          -550,
          -550,
          -565,
          -565
         ],
         "yaxis": "y"
        },
        {
         "hoverinfo": "text",
         "marker": {
          "color": "rgb(0,116,217)"
         },
         "mode": "lines",
         "text": [
          "trump tweeted_tweeted_dying died_oldies die_people dying",
          "",
          "",
          "trump tweeted_tweeted_dying died_oldies die_president donald"
         ],
         "type": "scatter",
         "x": [
          1.0232295930812132,
          1.0377652077494635,
          1.0377652077494635,
          0.9746513641276662
         ],
         "xaxis": "x",
         "y": [
          -501.25,
          -501.25,
          -557.5,
          -557.5
         ],
         "yaxis": "y"
        },
        {
         "hoverinfo": "text",
         "marker": {
          "color": "rgb(0,116,217)"
         },
         "mode": "lines",
         "text": [
          "melania_melania trump_lady melania_drawings_lady",
          "",
          "",
          "trump tweeted_tweeted_dying died_oldies die_president donald"
         ],
         "type": "scatter",
         "x": [
          0.8012989561671789,
          1.150917009396045,
          1.150917009396045,
          1.0377652077494635
         ],
         "xaxis": "x",
         "y": [
          -460,
          -460,
          -529.375,
          -529.375
         ],
         "yaxis": "y"
        },
        {
         "hoverinfo": "text",
         "marker": {
          "color": "rgb(255,65,54)"
         },
         "mode": "lines",
         "text": [
          "tesla_autopilot_cars_tesla cars_safer",
          "",
          "",
          "musk_elon musk_elon_tesla_factory explosion"
         ],
         "type": "scatter",
         "x": [
          0,
          0.8896283020635231,
          0.8896283020635231,
          0
         ],
         "xaxis": "x",
         "y": [
          -575,
          -575,
          -585,
          -585
         ],
         "yaxis": "y"
        },
        {
         "hoverinfo": "text",
         "marker": {
          "color": "rgb(255,65,54)"
         },
         "mode": "lines",
         "text": [
          "tesla_musk_elon musk_elon_autopilot",
          "",
          "",
          "elonmusk_dogecoin_takes event_event information_information website"
         ],
         "type": "scatter",
         "x": [
          0.8896283020635231,
          0.9267132325869585,
          0.9267132325869585,
          0
         ],
         "xaxis": "x",
         "y": [
          -580,
          -580,
          -595,
          -595
         ],
         "yaxis": "y"
        },
        {
         "hoverinfo": "text",
         "marker": {
          "color": "rgb(35,205,205)"
         },
         "mode": "lines",
         "text": [
          "insulin_insulin prices_prices_price_insulin prescription",
          "",
          "",
          "prices_gas prices_gas_gallon_oil"
         ],
         "type": "scatter",
         "x": [
          0,
          0.922573419694971,
          0.922573419694971,
          0
         ],
         "xaxis": "x",
         "y": [
          -605,
          -605,
          -615,
          -615
         ],
         "yaxis": "y"
        },
        {
         "hoverinfo": "text",
         "marker": {
          "color": "rgb(35,205,205)"
         },
         "mode": "lines",
         "text": [
          "prices_insulin_gas prices_gas_price",
          "",
          "",
          "gasoline_plastic_bag_plastic bags_bags"
         ],
         "type": "scatter",
         "x": [
          0.922573419694971,
          0.9840513951833367,
          0.9840513951833367,
          0
         ],
         "xaxis": "x",
         "y": [
          -610,
          -610,
          -625,
          -625
         ],
         "yaxis": "y"
        },
        {
         "hoverinfo": "text",
         "marker": {
          "color": "rgb(133,20,75)"
         },
         "mode": "lines",
         "text": [
          "emissions_fossil_fuels_fossil fuels_renewable",
          "",
          "",
          "wind_turbines_energy_wind turbines_texas"
         ],
         "type": "scatter",
         "x": [
          0,
          0.9291855765775578,
          0.9291855765775578,
          0
         ],
         "xaxis": "x",
         "y": [
          -635,
          -635,
          -645,
          -645
         ],
         "yaxis": "y"
        },
        {
         "hoverinfo": "text",
         "marker": {
          "color": "rgb(133,20,75)"
         },
         "mode": "lines",
         "text": [
          "wind_energy_turbines_wind turbines_texas",
          "",
          "",
          "texas_abbott_texas texas_boing_texas gov"
         ],
         "type": "scatter",
         "x": [
          0.9291855765775578,
          0.9763310079260015,
          0.9763310079260015,
          0
         ],
         "xaxis": "x",
         "y": [
          -640,
          -640,
          -655,
          -655
         ],
         "yaxis": "y"
        },
        {
         "hoverinfo": "text",
         "marker": {
          "color": "rgb(0,116,217)"
         },
         "mode": "lines",
         "text": [
          "wind_energy_turbines_wind turbines_texas",
          "",
          "",
          "wind_texas_energy_turbines_wind turbines"
         ],
         "type": "scatter",
         "x": [
          0.9840513951833367,
          1.029476788096174,
          1.029476788096174,
          0.9763310079260015
         ],
         "xaxis": "x",
         "y": [
          -617.5,
          -617.5,
          -647.5,
          -647.5
         ],
         "yaxis": "y"
        },
        {
         "hoverinfo": "text",
         "marker": {
          "color": "rgb(255,220,0)"
         },
         "mode": "lines",
         "text": [
          "pipeline_keystone_keystone pipeline_oil_earthjustice",
          "",
          "",
          "fracking_ban fracking_pipeline_ban_american jobs"
         ],
         "type": "scatter",
         "x": [
          0,
          0.8822679491312047,
          0.8822679491312047,
          0
         ],
         "xaxis": "x",
         "y": [
          -665,
          -665,
          -675,
          -675
         ],
         "yaxis": "y"
        },
        {
         "hoverinfo": "text",
         "marker": {
          "color": "rgb(0,116,217)"
         },
         "mode": "lines",
         "text": [
          "pipeline_keystone_keystone pipeline_oil_earthjustice",
          "",
          "",
          "pipeline_fracking_keystone_ban fracking_keystone pipeline"
         ],
         "type": "scatter",
         "x": [
          1.029476788096174,
          1.0568722930377206,
          1.0568722930377206,
          0.8822679491312047
         ],
         "xaxis": "x",
         "y": [
          -632.5,
          -632.5,
          -670,
          -670
         ],
         "yaxis": "y"
        },
        {
         "hoverinfo": "text",
         "marker": {
          "color": "rgb(40,35,35)"
         },
         "mode": "lines",
         "text": [
          "explosion_gas_pipeline_shows explosion_photos gas",
          "",
          "",
          "beirut_explosion_blast_beirut explosion_missile"
         ],
         "type": "scatter",
         "x": [
          0,
          0.8722818835284668,
          0.8722818835284668,
          0
         ],
         "xaxis": "x",
         "y": [
          -685,
          -685,
          -695,
          -695
         ],
         "yaxis": "y"
        },
        {
         "hoverinfo": "text",
         "marker": {
          "color": "rgb(61,153,112)"
         },
         "mode": "lines",
         "text": [
          "pyramids_giza_egypt_pyramids giza_palestinian flag",
          "",
          "",
          "israel_israeli_gaza_palestinian_palestinians"
         ],
         "type": "scatter",
         "x": [
          0,
          0.9389588825638108,
          0.9389588825638108,
          0
         ],
         "xaxis": "x",
         "y": [
          -705,
          -705,
          -715,
          -715
         ],
         "yaxis": "y"
        },
        {
         "hoverinfo": "text",
         "marker": {
          "color": "rgb(0,116,217)"
         },
         "mode": "lines",
         "text": [
          "explosion_beirut_blast_beirut explosion_august 2020",
          "",
          "",
          "israeli_israel_gaza_palestinian_palestine"
         ],
         "type": "scatter",
         "x": [
          0.8722818835284668,
          1.0350523215988854,
          1.0350523215988854,
          0.9389588825638108
         ],
         "xaxis": "x",
         "y": [
          -690,
          -690,
          -710,
          -710
         ],
         "yaxis": "y"
        },
        {
         "hoverinfo": "text",
         "marker": {
          "color": "rgb(255,65,54)"
         },
         "mode": "lines",
         "text": [
          "iran_syria_obama_realdonaldtrump_trump realdonaldtrump",
          "",
          "",
          "iraq_drone_soleimani_missile_missiles"
         ],
         "type": "scatter",
         "x": [
          0,
          0.8812062317540659,
          0.8812062317540659,
          0
         ],
         "xaxis": "x",
         "y": [
          -725,
          -725,
          -735,
          -735
         ],
         "yaxis": "y"
        },
        {
         "hoverinfo": "text",
         "marker": {
          "color": "rgb(0,116,217)"
         },
         "mode": "lines",
         "text": [
          "israeli_israel_gaza_palestinian_palestine",
          "",
          "",
          "iran_iranian_syria_irans_obama"
         ],
         "type": "scatter",
         "x": [
          1.0350523215988854,
          1.0781656398437671,
          1.0781656398437671,
          0.8812062317540659
         ],
         "xaxis": "x",
         "y": [
          -700,
          -700,
          -730,
          -730
         ],
         "yaxis": "y"
        },
        {
         "hoverinfo": "text",
         "marker": {
          "color": "rgb(0,116,217)"
         },
         "mode": "lines",
         "text": [
          "israeli_israel_gaza_palestinian_palestine",
          "",
          "",
          "iran_iranian_syria_irans_obama"
         ],
         "type": "scatter",
         "x": [
          1.0568722930377206,
          1.1228831445024205,
          1.1228831445024205,
          1.0781656398437671
         ],
         "xaxis": "x",
         "y": [
          -651.25,
          -651.25,
          -715,
          -715
         ],
         "yaxis": "y"
        },
        {
         "hoverinfo": "text",
         "marker": {
          "color": "rgb(0,116,217)"
         },
         "mode": "lines",
         "text": [
          "tesla_musk_elon_elon musk_elonmusk",
          "",
          "",
          "iran_iranian_syria_irans_obama"
         ],
         "type": "scatter",
         "x": [
          0.9267132325869585,
          1.1539143601240016,
          1.1539143601240016,
          1.1228831445024205
         ],
         "xaxis": "x",
         "y": [
          -587.5,
          -587.5,
          -683.125,
          -683.125
         ],
         "yaxis": "y"
        },
        {
         "hoverinfo": "text",
         "marker": {
          "color": "rgb(35,205,205)"
         },
         "mode": "lines",
         "text": [
          "tom hanks_hanks_tom_actor tom_hanks arrested",
          "",
          "",
          "hanks_hankey_mr hankey_race row_following race"
         ],
         "type": "scatter",
         "x": [
          0,
          0.8435684583463506,
          0.8435684583463506,
          0
         ],
         "xaxis": "x",
         "y": [
          -745,
          -745,
          -755,
          -755
         ],
         "yaxis": "y"
        },
        {
         "hoverinfo": "text",
         "marker": {
          "color": "rgb(61,153,112)"
         },
         "mode": "lines",
         "text": [
          "korean_south korean_korean president_south_korea",
          "",
          "",
          "south_south koreans_koreans_south korea_korea"
         ],
         "type": "scatter",
         "x": [
          0,
          0.8529364309489054,
          0.8529364309489054,
          0
         ],
         "xaxis": "x",
         "y": [
          -765,
          -765,
          -775,
          -775
         ],
         "yaxis": "y"
        },
        {
         "hoverinfo": "text",
         "marker": {
          "color": "rgb(255,65,54)"
         },
         "mode": "lines",
         "text": [
          "looting_wouldnt big_looting houses_staff sell_twentynine",
          "",
          "",
          "south african_south_african_african police_south africans"
         ],
         "type": "scatter",
         "x": [
          0,
          0.9376310165822394,
          0.9376310165822394,
          0
         ],
         "xaxis": "x",
         "y": [
          -785,
          -785,
          -795,
          -795
         ],
         "yaxis": "y"
        },
        {
         "hoverinfo": "text",
         "marker": {
          "color": "rgb(255,65,54)"
         },
         "mode": "lines",
         "text": [
          "south_south african_african_looting_south africa",
          "",
          "",
          "jobs facebook_oreo_advertises_oreos_advertises jobs"
         ],
         "type": "scatter",
         "x": [
          0.9376310165822394,
          0.9765359629243806,
          0.9765359629243806,
          0
         ],
         "xaxis": "x",
         "y": [
          -790,
          -790,
          -805,
          -805
         ],
         "yaxis": "y"
        },
        {
         "hoverinfo": "text",
         "marker": {
          "color": "rgb(35,205,205)"
         },
         "mode": "lines",
         "text": [
          "examination_matric_000_exams_grade",
          "",
          "",
          "exam_ias_upsc_revathi_exams"
         ],
         "type": "scatter",
         "x": [
          0,
          0.9599824743608408,
          0.9599824743608408,
          0
         ],
         "xaxis": "x",
         "y": [
          -815,
          -815,
          -825,
          -825
         ],
         "yaxis": "y"
        },
        {
         "hoverinfo": "text",
         "marker": {
          "color": "rgb(0,116,217)"
         },
         "mode": "lines",
         "text": [
          "examination_matric_000_exams_grade",
          "",
          "",
          "exam_exams_ias_examination_upsc"
         ],
         "type": "scatter",
         "x": [
          0.9765359629243806,
          1.0224459210531323,
          1.0224459210531323,
          0.9599824743608408
         ],
         "xaxis": "x",
         "y": [
          -797.5,
          -797.5,
          -820,
          -820
         ],
         "yaxis": "y"
        },
        {
         "hoverinfo": "text",
         "marker": {
          "color": "rgb(0,116,217)"
         },
         "mode": "lines",
         "text": [
          "korean_south korean_south_korea_korean president",
          "",
          "",
          "exam_exams_ias_examination_upsc"
         ],
         "type": "scatter",
         "x": [
          0.8529364309489054,
          1.0681270502786289,
          1.0681270502786289,
          1.0224459210531323
         ],
         "xaxis": "x",
         "y": [
          -770,
          -770,
          -808.75,
          -808.75
         ],
         "yaxis": "y"
        },
        {
         "hoverinfo": "text",
         "marker": {
          "color": "rgb(0,116,217)"
         },
         "mode": "lines",
         "text": [
          "hanks_tom hanks_tom_actor tom_hanks arrested",
          "",
          "",
          "south_korean_south african_exam_south korean"
         ],
         "type": "scatter",
         "x": [
          0.8435684583463506,
          1.1276273382838766,
          1.1276273382838766,
          1.0681270502786289
         ],
         "xaxis": "x",
         "y": [
          -750,
          -750,
          -789.375,
          -789.375
         ],
         "yaxis": "y"
        },
        {
         "hoverinfo": "text",
         "marker": {
          "color": "rgb(133,20,75)"
         },
         "mode": "lines",
         "text": [
          "australian_australia_work western_document calls_western australian",
          "",
          "",
          "australia_australian_australian government_malcolm turnbull_australia country"
         ],
         "type": "scatter",
         "x": [
          0,
          0.9350480671020662,
          0.9350480671020662,
          0
         ],
         "xaxis": "x",
         "y": [
          -835,
          -835,
          -845,
          -845
         ],
         "yaxis": "y"
        },
        {
         "hoverinfo": "text",
         "marker": {
          "color": "rgb(133,20,75)"
         },
         "mode": "lines",
         "text": [
          "australia_australian_australian government_australia country_malcolm turnbull",
          "",
          "",
          "bushfires_wildfires_australian bushfires_australian_fires"
         ],
         "type": "scatter",
         "x": [
          0.9350480671020662,
          0.9588902619117332,
          0.9588902619117332,
          0
         ],
         "xaxis": "x",
         "y": [
          -840,
          -840,
          -855,
          -855
         ],
         "yaxis": "y"
        },
        {
         "hoverinfo": "text",
         "marker": {
          "color": "rgb(255,220,0)"
         },
         "mode": "lines",
         "text": [
          "ufo_shows ufo_ufo hovering_iss_declassified",
          "",
          "",
          "himalayas_international space_space station_space_station"
         ],
         "type": "scatter",
         "x": [
          0,
          0.9588647082602055,
          0.9588647082602055,
          0
         ],
         "xaxis": "x",
         "y": [
          -865,
          -865,
          -875,
          -875
         ],
         "yaxis": "y"
        },
        {
         "hoverinfo": "text",
         "marker": {
          "color": "rgb(40,35,35)"
         },
         "mode": "lines",
         "text": [
          "moon_moon landing_landing_neil_neil armstrongs",
          "",
          "",
          "mars_nasa_moon_sun_surface"
         ],
         "type": "scatter",
         "x": [
          0,
          0.920435497787834,
          0.920435497787834,
          0
         ],
         "xaxis": "x",
         "y": [
          -885,
          -885,
          -895,
          -895
         ],
         "yaxis": "y"
        },
        {
         "hoverinfo": "text",
         "marker": {
          "color": "rgb(40,35,35)"
         },
         "mode": "lines",
         "text": [
          "mars_nasa_moon_sun_surface",
          "",
          "",
          "asteroid_earth_hit earth_nasa warned_warned asteroid"
         ],
         "type": "scatter",
         "x": [
          0.920435497787834,
          0.9837941257236893,
          0.9837941257236893,
          0
         ],
         "xaxis": "x",
         "y": [
          -890,
          -890,
          -905,
          -905
         ],
         "yaxis": "y"
        },
        {
         "hoverinfo": "text",
         "marker": {
          "color": "rgb(0,116,217)"
         },
         "mode": "lines",
         "text": [
          "ufo_himalayas_space station_international space_space",
          "",
          "",
          "mars_nasa_moon_sun_earth"
         ],
         "type": "scatter",
         "x": [
          0.9588647082602055,
          1.0159767769814567,
          1.0159767769814567,
          0.9837941257236893
         ],
         "xaxis": "x",
         "y": [
          -870,
          -870,
          -897.5,
          -897.5
         ],
         "yaxis": "y"
        },
        {
         "hoverinfo": "text",
         "marker": {
          "color": "rgb(0,116,217)"
         },
         "mode": "lines",
         "text": [
          "bushfires_wildfires_australian_australia_australian bushfires",
          "",
          "",
          "nasa_mars_moon_space_sun"
         ],
         "type": "scatter",
         "x": [
          0.9588902619117332,
          1.0729833297207112,
          1.0729833297207112,
          1.0159767769814567
         ],
         "xaxis": "x",
         "y": [
          -847.5,
          -847.5,
          -883.75,
          -883.75
         ],
         "yaxis": "y"
        },
        {
         "hoverinfo": "text",
         "marker": {
          "color": "rgb(61,153,112)"
         },
         "mode": "lines",
         "text": [
          "greta thunberg_thunberg_greta_activist greta_environmental activist",
          "",
          "",
          "ladens_ladens daughter_bin ladens_pradeep_pradeep maurya"
         ],
         "type": "scatter",
         "x": [
          0,
          0.878053158664102,
          0.878053158664102,
          0
         ],
         "xaxis": "x",
         "y": [
          -915,
          -915,
          -925,
          -925
         ],
         "yaxis": "y"
        },
        {
         "hoverinfo": "text",
         "marker": {
          "color": "rgb(255,65,54)"
         },
         "mode": "lines",
         "text": [
          "penises_china seizes_human penises_seizes_seizes 7200",
          "",
          "",
          "suez_suez canal_canal_ship_cargo ship"
         ],
         "type": "scatter",
         "x": [
          0,
          0.9331947845877488,
          0.9331947845877488,
          0
         ],
         "xaxis": "x",
         "y": [
          -935,
          -935,
          -945,
          -945
         ],
         "yaxis": "y"
        },
        {
         "hoverinfo": "text",
         "marker": {
          "color": "rgb(35,205,205)"
         },
         "mode": "lines",
         "text": [
          "twins_born_conjoined twins_born germany_conjoined",
          "",
          "",
          "abortion_babies_abortions_birth_planned parenthood"
         ],
         "type": "scatter",
         "x": [
          0,
          0.9690685309280875,
          0.9690685309280875,
          0
         ],
         "xaxis": "x",
         "y": [
          -955,
          -955,
          -965,
          -965
         ],
         "yaxis": "y"
        },
        {
         "hoverinfo": "text",
         "marker": {
          "color": "rgb(35,205,205)"
         },
         "mode": "lines",
         "text": [
          "trafficking_human trafficking_children_traffickers_human",
          "",
          "",
          "chelsea_chelsea clinton_clinton_wedding_cross"
         ],
         "type": "scatter",
         "x": [
          0,
          0.9841622094043997,
          0.9841622094043997,
          0
         ],
         "xaxis": "x",
         "y": [
          -975,
          -975,
          -985,
          -985
         ],
         "yaxis": "y"
        },
        {
         "hoverinfo": "text",
         "marker": {
          "color": "rgb(35,205,205)"
         },
         "mode": "lines",
         "text": [
          "abortion_babies_birth_abortions_born",
          "",
          "",
          "chelsea_chelsea clinton_clinton_wedding_cross"
         ],
         "type": "scatter",
         "x": [
          0.9690685309280875,
          0.9959729344443793,
          0.9959729344443793,
          0.9841622094043997
         ],
         "xaxis": "x",
         "y": [
          -960,
          -960,
          -980,
          -980
         ],
         "yaxis": "y"
        },
        {
         "hoverinfo": "text",
         "marker": {
          "color": "rgb(61,153,112)"
         },
         "mode": "lines",
         "text": [
          "children_elderly_blood_adults_kids",
          "",
          "",
          "malnutrition_children admitted_hospitals_acute malnutrition_656"
         ],
         "type": "scatter",
         "x": [
          0,
          0.9510200305308781,
          0.9510200305308781,
          0
         ],
         "xaxis": "x",
         "y": [
          -995,
          -995,
          -1005,
          -1005
         ],
         "yaxis": "y"
        },
        {
         "hoverinfo": "text",
         "marker": {
          "color": "rgb(0,116,217)"
         },
         "mode": "lines",
         "text": [
          "children_elderly_blood_adults_kids",
          "",
          "",
          "malnutrition_children_hospitals_children admitted_adults"
         ],
         "type": "scatter",
         "x": [
          0.9959729344443793,
          1.0243372840306635,
          1.0243372840306635,
          0.9510200305308781
         ],
         "xaxis": "x",
         "y": [
          -970,
          -970,
          -1000,
          -1000
         ],
         "yaxis": "y"
        },
        {
         "hoverinfo": "text",
         "marker": {
          "color": "rgb(0,116,217)"
         },
         "mode": "lines",
         "text": [
          "suez_suez canal_canal_ship_cargo ship",
          "",
          "",
          "malnutrition_children_hospitals_children admitted_adults"
         ],
         "type": "scatter",
         "x": [
          0.9331947845877488,
          1.0393624861504729,
          1.0393624861504729,
          1.0243372840306635
         ],
         "xaxis": "x",
         "y": [
          -940,
          -940,
          -985,
          -985
         ],
         "yaxis": "y"
        },
        {
         "hoverinfo": "text",
         "marker": {
          "color": "rgb(255,65,54)"
         },
         "mode": "lines",
         "text": [
          "suicide_suicides_200 lockdown_suicides increased_pods",
          "",
          "",
          "gender clinic_detransawarenessday_clinic_gender_suicide"
         ],
         "type": "scatter",
         "x": [
          0,
          0.9668711173332991,
          0.9668711173332991,
          0
         ],
         "xaxis": "x",
         "y": [
          -1025,
          -1025,
          -1035,
          -1035
         ],
         "yaxis": "y"
        },
        {
         "hoverinfo": "text",
         "marker": {
          "color": "rgb(255,65,54)"
         },
         "mode": "lines",
         "text": [
          "mother_peopletodaycom recounted_orphan lost_story mother_son went",
          "",
          "",
          "gender clinic_detransawarenessday_clinic_gender_suicide"
         ],
         "type": "scatter",
         "x": [
          0,
          0.9793513287057898,
          0.9793513287057898,
          0.9668711173332991
         ],
         "xaxis": "x",
         "y": [
          -1015,
          -1015,
          -1030,
          -1030
         ],
         "yaxis": "y"
        },
        {
         "hoverinfo": "text",
         "marker": {
          "color": "rgb(35,205,205)"
         },
         "mode": "lines",
         "text": [
          "sports_trans_transgender_girls_womens",
          "",
          "",
          "trans_gender_sex_trans people_gendered"
         ],
         "type": "scatter",
         "x": [
          0,
          0.9121279253586888,
          0.9121279253586888,
          0
         ],
         "xaxis": "x",
         "y": [
          -1045,
          -1045,
          -1055,
          -1055
         ],
         "yaxis": "y"
        },
        {
         "hoverinfo": "text",
         "marker": {
          "color": "rgb(0,116,217)"
         },
         "mode": "lines",
         "text": [
          "sports_trans_transgender_girls_womens",
          "",
          "",
          "trans_sports_girls_gender_transgender"
         ],
         "type": "scatter",
         "x": [
          0.9793513287057898,
          1.034679884553904,
          1.034679884553904,
          0.9121279253586888
         ],
         "xaxis": "x",
         "y": [
          -1022.5,
          -1022.5,
          -1050,
          -1050
         ],
         "yaxis": "y"
        },
        {
         "hoverinfo": "text",
         "marker": {
          "color": "rgb(0,116,217)"
         },
         "mode": "lines",
         "text": [
          "sports_trans_transgender_girls_womens",
          "",
          "",
          "trans_sports_girls_gender_transgender"
         ],
         "type": "scatter",
         "x": [
          1.0393624861504729,
          1.0600882075110454,
          1.0600882075110454,
          1.034679884553904
         ],
         "xaxis": "x",
         "y": [
          -962.5,
          -962.5,
          -1036.25,
          -1036.25
         ],
         "yaxis": "y"
        },
        {
         "hoverinfo": "text",
         "marker": {
          "color": "rgb(133,20,75)"
         },
         "mode": "lines",
         "text": [
          "dubai robot_bodyguard_robot bodyguard_robot_bahrain",
          "",
          "",
          "cat_carving_henry viii_armour_armour king"
         ],
         "type": "scatter",
         "x": [
          0,
          0.9766842357654107,
          0.9766842357654107,
          0
         ],
         "xaxis": "x",
         "y": [
          -1065,
          -1065,
          -1075,
          -1075
         ],
         "yaxis": "y"
        },
        {
         "hoverinfo": "text",
         "marker": {
          "color": "rgb(255,220,0)"
         },
         "mode": "lines",
         "text": [
          "human zoos_zoo_zoos_1958visitors_jan busselen",
          "",
          "",
          "dog_dogs_hyundai_beds_police dog"
         ],
         "type": "scatter",
         "x": [
          0,
          0.9777889004332345,
          0.9777889004332345,
          0
         ],
         "xaxis": "x",
         "y": [
          -1085,
          -1085,
          -1095,
          -1095
         ],
         "yaxis": "y"
        },
        {
         "hoverinfo": "text",
         "marker": {
          "color": "rgb(0,116,217)"
         },
         "mode": "lines",
         "text": [
          "cat_robot_bodyguard_robot bodyguard_dubai robot",
          "",
          "",
          "dog_dogs_hyundai_human zoos_zoo"
         ],
         "type": "scatter",
         "x": [
          0.9766842357654107,
          1.0044936088917755,
          1.0044936088917755,
          0.9777889004332345
         ],
         "xaxis": "x",
         "y": [
          -1070,
          -1070,
          -1090,
          -1090
         ],
         "yaxis": "y"
        },
        {
         "hoverinfo": "text",
         "marker": {
          "color": "rgb(40,35,35)"
         },
         "mode": "lines",
         "text": [
          "homeless_homeless people_flat_apartment_jordans want",
          "",
          "",
          "shows apartment_apartment_huge singapore_incinerators combat_apartment singapore"
         ],
         "type": "scatter",
         "x": [
          0,
          0.9718894353956653,
          0.9718894353956653,
          0
         ],
         "xaxis": "x",
         "y": [
          -1105,
          -1105,
          -1115,
          -1115
         ],
         "yaxis": "y"
        },
        {
         "hoverinfo": "text",
         "marker": {
          "color": "rgb(40,35,35)"
         },
         "mode": "lines",
         "text": [
          "apartment_shows apartment_apartment building_homeless_homeless people",
          "",
          "",
          "snake_horse_noose stall_torch clap_rear end"
         ],
         "type": "scatter",
         "x": [
          0.9718894353956653,
          0.9922928439058859,
          0.9922928439058859,
          0
         ],
         "xaxis": "x",
         "y": [
          -1110,
          -1110,
          -1125,
          -1125
         ],
         "yaxis": "y"
        },
        {
         "hoverinfo": "text",
         "marker": {
          "color": "rgb(61,153,112)"
         },
         "mode": "lines",
         "text": [
          "frog_photograph_photograph shows_hairy_albino",
          "",
          "",
          "shark_whales_reef_whale_fish"
         ],
         "type": "scatter",
         "x": [
          0,
          0.9638182523302845,
          0.9638182523302845,
          0
         ],
         "xaxis": "x",
         "y": [
          -1145,
          -1145,
          -1155,
          -1155
         ],
         "yaxis": "y"
        },
        {
         "hoverinfo": "text",
         "marker": {
          "color": "rgb(61,153,112)"
         },
         "mode": "lines",
         "text": [
          "statue liberty_liberty_ghost_statue_artist",
          "",
          "",
          "shark_frog_whales_photograph_reef"
         ],
         "type": "scatter",
         "x": [
          0,
          0.9829903538720524,
          0.9829903538720524,
          0.9638182523302845
         ],
         "xaxis": "x",
         "y": [
          -1135,
          -1135,
          -1150,
          -1150
         ],
         "yaxis": "y"
        },
        {
         "hoverinfo": "text",
         "marker": {
          "color": "rgb(0,116,217)"
         },
         "mode": "lines",
         "text": [
          "apartment_shows apartment_apartment building_homeless_homeless people",
          "",
          "",
          "shark_photograph_photograph shows_whales_frog"
         ],
         "type": "scatter",
         "x": [
          0.9922928439058859,
          1.0199809416447971,
          1.0199809416447971,
          0.9829903538720524
         ],
         "xaxis": "x",
         "y": [
          -1117.5,
          -1117.5,
          -1142.5,
          -1142.5
         ],
         "yaxis": "y"
        },
        {
         "hoverinfo": "text",
         "marker": {
          "color": "rgb(0,116,217)"
         },
         "mode": "lines",
         "text": [
          "apartment_shows apartment_apartment building_homeless_homeless people",
          "",
          "",
          "shark_photograph_photograph shows_whales_frog"
         ],
         "type": "scatter",
         "x": [
          1.0044936088917755,
          1.0267910630504096,
          1.0267910630504096,
          1.0199809416447971
         ],
         "xaxis": "x",
         "y": [
          -1080,
          -1080,
          -1130,
          -1130
         ],
         "yaxis": "y"
        },
        {
         "hoverinfo": "text",
         "marker": {
          "color": "rgb(255,65,54)"
         },
         "mode": "lines",
         "text": [
          "leopard_bear_cubs_deer_polar",
          "",
          "",
          "hunter_hunter biden_laptop_biden laptop_biden"
         ],
         "type": "scatter",
         "x": [
          0,
          0.9677859355009115,
          0.9677859355009115,
          0
         ],
         "xaxis": "x",
         "y": [
          -1175,
          -1175,
          -1185,
          -1185
         ],
         "yaxis": "y"
        },
        {
         "hoverinfo": "text",
         "marker": {
          "color": "rgb(255,65,54)"
         },
         "mode": "lines",
         "text": [
          "lions_russia released_500 lions_raisen_released 500",
          "",
          "",
          "hunter_hunter biden_laptop_biden laptop_biden"
         ],
         "type": "scatter",
         "x": [
          0,
          0.9902283620560903,
          0.9902283620560903,
          0.9677859355009115
         ],
         "xaxis": "x",
         "y": [
          -1165,
          -1165,
          -1180,
          -1180
         ],
         "yaxis": "y"
        },
        {
         "hoverinfo": "text",
         "marker": {
          "color": "rgb(35,205,205)"
         },
         "mode": "lines",
         "text": [
          "cnns_pornhub_pornhub notification_notification_magic wall",
          "",
          "",
          "sen tammy_duckworth lieutenant_tammy duckworth_duckworth_tammy"
         ],
         "type": "scatter",
         "x": [
          0,
          0.9687326061853079,
          0.9687326061853079,
          0
         ],
         "xaxis": "x",
         "y": [
          -1195,
          -1195,
          -1205,
          -1205
         ],
         "yaxis": "y"
        },
        {
         "hoverinfo": "text",
         "marker": {
          "color": "rgb(0,116,217)"
         },
         "mode": "lines",
         "text": [
          "cnns_pornhub_pornhub notification_notification_magic wall",
          "",
          "",
          "cnns_pornhub_pornhub notification_notification_pornhub logo"
         ],
         "type": "scatter",
         "x": [
          0.9902283620560903,
          1.018105274289104,
          1.018105274289104,
          0.9687326061853079
         ],
         "xaxis": "x",
         "y": [
          -1172.5,
          -1172.5,
          -1200,
          -1200
         ],
         "yaxis": "y"
        },
        {
         "hoverinfo": "text",
         "marker": {
          "color": "rgb(0,116,217)"
         },
         "mode": "lines",
         "text": [
          "cnns_pornhub_pornhub notification_notification_magic wall",
          "",
          "",
          "cnns_pornhub_pornhub notification_notification_pornhub logo"
         ],
         "type": "scatter",
         "x": [
          1.0267910630504096,
          1.0327589661180647,
          1.0327589661180647,
          1.018105274289104
         ],
         "xaxis": "x",
         "y": [
          -1105,
          -1105,
          -1186.25,
          -1186.25
         ],
         "yaxis": "y"
        },
        {
         "hoverinfo": "text",
         "marker": {
          "color": "rgb(61,153,112)"
         },
         "mode": "lines",
         "text": [
          "condo_collapsed_levinecava_paper discovered_gunmans hotel",
          "",
          "",
          "flyover_flyover collapse_collapse_balanagar_jeedimetla route"
         ],
         "type": "scatter",
         "x": [
          0,
          0.9777186346951867,
          0.9777186346951867,
          0
         ],
         "xaxis": "x",
         "y": [
          -1215,
          -1215,
          -1225,
          -1225
         ],
         "yaxis": "y"
        },
        {
         "hoverinfo": "text",
         "marker": {
          "color": "rgb(255,65,54)"
         },
         "mode": "lines",
         "text": [
          "flooding_floods_river_dam_shows flooding",
          "",
          "",
          "cow_washed away_cows_washed_cattle"
         ],
         "type": "scatter",
         "x": [
          0,
          0.9626097146043356,
          0.9626097146043356,
          0
         ],
         "xaxis": "x",
         "y": [
          -1235,
          -1235,
          -1245,
          -1245
         ],
         "yaxis": "y"
        },
        {
         "hoverinfo": "text",
         "marker": {
          "color": "rgb(35,205,205)"
         },
         "mode": "lines",
         "text": [
          "elephant_dyed pink_pregnant elephant_white elephant_malappuram kerala",
          "",
          "",
          "sedition_arrested_attack bijapur_arrested charges_charges sedition"
         ],
         "type": "scatter",
         "x": [
          0,
          0.9708303373054845,
          0.9708303373054845,
          0
         ],
         "xaxis": "x",
         "y": [
          -1255,
          -1255,
          -1265,
          -1265
         ],
         "yaxis": "y"
        },
        {
         "hoverinfo": "text",
         "marker": {
          "color": "rgb(0,116,217)"
         },
         "mode": "lines",
         "text": [
          "flooding_floods_river_dam_washed away",
          "",
          "",
          "sedition_arrested_attack bijapur_arrested charges_charges sedition"
         ],
         "type": "scatter",
         "x": [
          0.9626097146043356,
          1.0080363712642308,
          1.0080363712642308,
          0.9708303373054845
         ],
         "xaxis": "x",
         "y": [
          -1240,
          -1240,
          -1260,
          -1260
         ],
         "yaxis": "y"
        },
        {
         "hoverinfo": "text",
         "marker": {
          "color": "rgb(0,116,217)"
         },
         "mode": "lines",
         "text": [
          "flooding_floods_river_dam_washed away",
          "",
          "",
          "sedition_arrested_attack bijapur_arrested charges_charges sedition"
         ],
         "type": "scatter",
         "x": [
          0.9777186346951867,
          1.0186182173669995,
          1.0186182173669995,
          1.0080363712642308
         ],
         "xaxis": "x",
         "y": [
          -1220,
          -1220,
          -1250,
          -1250
         ],
         "yaxis": "y"
        },
        {
         "hoverinfo": "text",
         "marker": {
          "color": "rgb(133,20,75)"
         },
         "mode": "lines",
         "text": [
          "lightning_river video_bolt_shows lightning_lightning strike",
          "",
          "",
          "tornado_ryguysa_june 2017_ryguysa ryguysa_capetown"
         ],
         "type": "scatter",
         "x": [
          0,
          0.9671063411657113,
          0.9671063411657113,
          0
         ],
         "xaxis": "x",
         "y": [
          -1275,
          -1275,
          -1285,
          -1285
         ],
         "yaxis": "y"
        },
        {
         "hoverinfo": "text",
         "marker": {
          "color": "rgb(0,116,217)"
         },
         "mode": "lines",
         "text": [
          "lightning_river video_bolt_shows lightning_lightning strike",
          "",
          "",
          "tornado_lightning_ryguysa_shows tornado_june 2017"
         ],
         "type": "scatter",
         "x": [
          1.0186182173669995,
          1.0240089716925391,
          1.0240089716925391,
          0.9671063411657113
         ],
         "xaxis": "x",
         "y": [
          -1235,
          -1235,
          -1280,
          -1280
         ],
         "yaxis": "y"
        },
        {
         "hoverinfo": "text",
         "marker": {
          "color": "rgb(255,220,0)"
         },
         "mode": "lines",
         "text": [
          "tunnel_atal tunnel_atal_ukhrul manipur_ukhrul",
          "",
          "",
          "fireworks_tokyo_olympics_olympic_fireworks set"
         ],
         "type": "scatter",
         "x": [
          0,
          0.9658474563247728,
          0.9658474563247728,
          0
         ],
         "xaxis": "x",
         "y": [
          -1295,
          -1295,
          -1305,
          -1305
         ],
         "yaxis": "y"
        },
        {
         "hoverinfo": "text",
         "marker": {
          "color": "rgb(0,116,217)"
         },
         "mode": "lines",
         "text": [
          "tunnel_atal tunnel_atal_ukhrul manipur_ukhrul",
          "",
          "",
          "tunnel_atal tunnel_atal_fireworks_tokyo"
         ],
         "type": "scatter",
         "x": [
          1.0240089716925391,
          1.027819365575693,
          1.027819365575693,
          0.9658474563247728
         ],
         "xaxis": "x",
         "y": [
          -1257.5,
          -1257.5,
          -1300,
          -1300
         ],
         "yaxis": "y"
        },
        {
         "hoverinfo": "text",
         "marker": {
          "color": "rgb(0,116,217)"
         },
         "mode": "lines",
         "text": [
          "tunnel_atal tunnel_atal_ukhrul manipur_ukhrul",
          "",
          "",
          "tunnel_atal tunnel_atal_fireworks_tokyo"
         ],
         "type": "scatter",
         "x": [
          1.0327589661180647,
          1.0402661501868753,
          1.0402661501868753,
          1.027819365575693
         ],
         "xaxis": "x",
         "y": [
          -1145.625,
          -1145.625,
          -1278.75,
          -1278.75
         ],
         "yaxis": "y"
        },
        {
         "hoverinfo": "text",
         "marker": {
          "color": "rgb(40,35,35)"
         },
         "mode": "lines",
         "text": [
          "passed away_bhagat_kapil_kaur died_singh yadav",
          "",
          "",
          "yadav_tejashwi_tejashwi yadav_youngest_youngest politician"
         ],
         "type": "scatter",
         "x": [
          0,
          0.9288919878892932,
          0.9288919878892932,
          0
         ],
         "xaxis": "x",
         "y": [
          -1315,
          -1315,
          -1325,
          -1325
         ],
         "yaxis": "y"
        },
        {
         "hoverinfo": "text",
         "marker": {
          "color": "rgb(61,153,112)"
         },
         "mode": "lines",
         "text": [
          "michelle_michelle obama_obama_lady michelle_phd",
          "",
          "",
          "kenya_kenyan_kenya grandmothers_grandmothers_president kenya"
         ],
         "type": "scatter",
         "x": [
          0,
          0.9473594091193077,
          0.9473594091193077,
          0
         ],
         "xaxis": "x",
         "y": [
          -1335,
          -1335,
          -1345,
          -1345
         ],
         "yaxis": "y"
        },
        {
         "hoverinfo": "text",
         "marker": {
          "color": "rgb(255,65,54)"
         },
         "mode": "lines",
         "text": [
          "funeral_funeral video_ahmed_leader ahmed_ahmed patel",
          "",
          "",
          "maradona_diego_diego maradona_maradonas_diego maradonas"
         ],
         "type": "scatter",
         "x": [
          0,
          0.9519539588145373,
          0.9519539588145373,
          0
         ],
         "xaxis": "x",
         "y": [
          -1355,
          -1355,
          -1365,
          -1365
         ],
         "yaxis": "y"
        },
        {
         "hoverinfo": "text",
         "marker": {
          "color": "rgb(0,116,217)"
         },
         "mode": "lines",
         "text": [
          "michelle_michelle obama_obama_lady michelle_barack",
          "",
          "",
          "maradona_funeral_diego_diego maradona_maradonas"
         ],
         "type": "scatter",
         "x": [
          0.9473594091193077,
          1.0222492132196852,
          1.0222492132196852,
          0.9519539588145373
         ],
         "xaxis": "x",
         "y": [
          -1340,
          -1340,
          -1360,
          -1360
         ],
         "yaxis": "y"
        },
        {
         "hoverinfo": "text",
         "marker": {
          "color": "rgb(0,116,217)"
         },
         "mode": "lines",
         "text": [
          "yadav_tejashwi_tejashwi yadav_passed away_bhagat",
          "",
          "",
          "maradona_funeral_diego_diego maradona_maradonas"
         ],
         "type": "scatter",
         "x": [
          0.9288919878892932,
          1.0610993242579136,
          1.0610993242579136,
          1.0222492132196852
         ],
         "xaxis": "x",
         "y": [
          -1320,
          -1320,
          -1350,
          -1350
         ],
         "yaxis": "y"
        },
        {
         "hoverinfo": "text",
         "marker": {
          "color": "rgb(35,205,205)"
         },
         "mode": "lines",
         "text": [
          "mcafee_fbmd23000965010000290400004b0400009d0400007a0c0000f90d0000af1000005e1200000414000068170000_instructions fbmd23000965010000290400004b0400009d0400007a0c0000f90d0000af1000005e1200000414000068170000_embedded image_cryptographic",
          "",
          "",
          "da ne_dame da_dame_ne_da"
         ],
         "type": "scatter",
         "x": [
          0,
          0.9412908144324192,
          0.9412908144324192,
          0
         ],
         "xaxis": "x",
         "y": [
          -1375,
          -1375,
          -1385,
          -1385
         ],
         "yaxis": "y"
        },
        {
         "hoverinfo": "text",
         "marker": {
          "color": "rgb(61,153,112)"
         },
         "mode": "lines",
         "text": [
          "musiccheck_dos_foi_vocalista_mozart",
          "",
          "",
          "je_da je_pandemija_da_bu"
         ],
         "type": "scatter",
         "x": [
          0,
          0.9818903192951571,
          0.9818903192951571,
          0
         ],
         "xaxis": "x",
         "y": [
          -1395,
          -1395,
          -1405,
          -1405
         ],
         "yaxis": "y"
        },
        {
         "hoverinfo": "text",
         "marker": {
          "color": "rgb(61,153,112)"
         },
         "mode": "lines",
         "text": [
          "fraude_en wisconsin_biden en_votos_fraude electoral",
          "",
          "",
          "rittenhouse_kenosha_kyle_kyle rittenhouse_wisconsin"
         ],
         "type": "scatter",
         "x": [
          0,
          0.969943666449394,
          0.969943666449394,
          0
         ],
         "xaxis": "x",
         "y": [
          -1415,
          -1415,
          -1425,
          -1425
         ],
         "yaxis": "y"
        },
        {
         "hoverinfo": "text",
         "marker": {
          "color": "rgb(61,153,112)"
         },
         "mode": "lines",
         "text": [
          "fraude_en wisconsin_biden en_votos_fraude electoral",
          "",
          "",
          "rittenhouse_kenosha_kyle_kyle rittenhouse_wisconsin"
         ],
         "type": "scatter",
         "x": [
          0.9818903192951571,
          0.9999800892366617,
          0.9999800892366617,
          0.969943666449394
         ],
         "xaxis": "x",
         "y": [
          -1400,
          -1400,
          -1420,
          -1420
         ],
         "yaxis": "y"
        },
        {
         "hoverinfo": "text",
         "marker": {
          "color": "rgb(0,116,217)"
         },
         "mode": "lines",
         "text": [
          "mcafee_fbmd23000965010000290400004b0400009d0400007a0c0000f90d0000af1000005e1200000414000068170000_instructions fbmd23000965010000290400004b0400009d0400007a0c0000f90d0000af1000005e1200000414000068170000_photoshop_cryptographic",
          "",
          "",
          "rittenhouse_kenosha_kyle_kyle rittenhouse_wisconsin"
         ],
         "type": "scatter",
         "x": [
          0.9412908144324192,
          1.03956762885341,
          1.03956762885341,
          0.9999800892366617
         ],
         "xaxis": "x",
         "y": [
          -1380,
          -1380,
          -1410,
          -1410
         ],
         "yaxis": "y"
        },
        {
         "hoverinfo": "text",
         "marker": {
          "color": "rgb(255,65,54)"
         },
         "mode": "lines",
         "text": [
          "oswald_frameup_cia_sonic_intelligence agent",
          "",
          "",
          "cia_records_cias_regimechange operation_declassify"
         ],
         "type": "scatter",
         "x": [
          0,
          0.9424000021161645,
          0.9424000021161645,
          0
         ],
         "xaxis": "x",
         "y": [
          -1435,
          -1435,
          -1445,
          -1445
         ],
         "yaxis": "y"
        },
        {
         "hoverinfo": "text",
         "marker": {
          "color": "rgb(35,205,205)"
         },
         "mode": "lines",
         "text": [
          "assange_wikileaks_guardian_julian_julian assange",
          "",
          "",
          "journalism_mainstream_media_socalled_mainstream media"
         ],
         "type": "scatter",
         "x": [
          0,
          0.9740318113581227,
          0.9740318113581227,
          0
         ],
         "xaxis": "x",
         "y": [
          -1465,
          -1465,
          -1475,
          -1475
         ],
         "yaxis": "y"
        },
        {
         "hoverinfo": "text",
         "marker": {
          "color": "rgb(35,205,205)"
         },
         "mode": "lines",
         "text": [
          "assange_wikileaks_guardian_julian_julian assange",
          "",
          "",
          "did report_media did_report progress_cavite_progress"
         ],
         "type": "scatter",
         "x": [
          0.9740318113581227,
          0.9845764816607983,
          0.9845764816607983,
          0
         ],
         "xaxis": "x",
         "y": [
          -1470,
          -1470,
          -1485,
          -1485
         ],
         "yaxis": "y"
        },
        {
         "hoverinfo": "text",
         "marker": {
          "color": "rgb(35,205,205)"
         },
         "mode": "lines",
         "text": [
          "checkers_fact checkers_disinformation_worked calling_government executive",
          "",
          "",
          "assange_wikileaks_guardian_julian_julian assange"
         ],
         "type": "scatter",
         "x": [
          0,
          0.9930966013553324,
          0.9930966013553324,
          0.9845764816607983
         ],
         "xaxis": "x",
         "y": [
          -1455,
          -1455,
          -1477.5,
          -1477.5
         ],
         "yaxis": "y"
        },
        {
         "hoverinfo": "text",
         "marker": {
          "color": "rgb(133,20,75)"
         },
         "mode": "lines",
         "text": [
          "pandemic video_italy_pray4theworld video_praying amid_outbreak country",
          "",
          "",
          "shooter anurag_anurag mishra_anurag_uddhav thackeray_uddhav"
         ],
         "type": "scatter",
         "x": [
          0,
          0.9684259726626772,
          0.9684259726626772,
          0
         ],
         "xaxis": "x",
         "y": [
          -1495,
          -1495,
          -1505,
          -1505
         ],
         "yaxis": "y"
        },
        {
         "hoverinfo": "text",
         "marker": {
          "color": "rgb(0,116,217)"
         },
         "mode": "lines",
         "text": [
          "pandemic video_italy_pray4theworld video_praying amid_outbreak country",
          "",
          "",
          "shooter anurag_anurag mishra_anurag_uddhav thackeray_uddhav"
         ],
         "type": "scatter",
         "x": [
          0.9930966013553324,
          1.025091532139993,
          1.025091532139993,
          0.9684259726626772
         ],
         "xaxis": "x",
         "y": [
          -1466.25,
          -1466.25,
          -1500,
          -1500
         ],
         "yaxis": "y"
        },
        {
         "hoverinfo": "text",
         "marker": {
          "color": "rgb(0,116,217)"
         },
         "mode": "lines",
         "text": [
          "cia_oswald_records_frameup_cias",
          "",
          "",
          "shooter anurag_anurag mishra_anurag_uddhav thackeray_uddhav"
         ],
         "type": "scatter",
         "x": [
          0.9424000021161645,
          1.0338263524022633,
          1.0338263524022633,
          1.025091532139993
         ],
         "xaxis": "x",
         "y": [
          -1440,
          -1440,
          -1483.125,
          -1483.125
         ],
         "yaxis": "y"
        },
        {
         "hoverinfo": "text",
         "marker": {
          "color": "rgb(255,220,0)"
         },
         "mode": "lines",
         "text": [
          "adams_garcia_mayor_bronx_kathryn",
          "",
          "",
          "apc_edo_osagie izeiyamu_2020 edo_izeiyamu"
         ],
         "type": "scatter",
         "x": [
          0,
          0.9872743183484082,
          0.9872743183484082,
          0
         ],
         "xaxis": "x",
         "y": [
          -1525,
          -1525,
          -1535,
          -1535
         ],
         "yaxis": "y"
        },
        {
         "hoverinfo": "text",
         "marker": {
          "color": "rgb(255,220,0)"
         },
         "mode": "lines",
         "text": [
          "city bus_gotabaya rajapaksa_gotabaya_president gotabaya_bus",
          "",
          "",
          "apc_edo_osagie izeiyamu_2020 edo_izeiyamu"
         ],
         "type": "scatter",
         "x": [
          0,
          0.997920346259506,
          0.997920346259506,
          0.9872743183484082
         ],
         "xaxis": "x",
         "y": [
          -1515,
          -1515,
          -1530,
          -1530
         ],
         "yaxis": "y"
        },
        {
         "hoverinfo": "text",
         "marker": {
          "color": "rgb(40,35,35)"
         },
         "mode": "lines",
         "text": [
          "adam schiff_schiff_adam_schiff arrested_arrested lax",
          "",
          "",
          "winston churchill_fascism_churchill_marxism_winston"
         ],
         "type": "scatter",
         "x": [
          0,
          0.9890328073831147,
          0.9890328073831147,
          0
         ],
         "xaxis": "x",
         "y": [
          -1545,
          -1545,
          -1555,
          -1555
         ],
         "yaxis": "y"
        },
        {
         "hoverinfo": "text",
         "marker": {
          "color": "rgb(0,116,217)"
         },
         "mode": "lines",
         "text": [
          "adam schiff_schiff_adam_schiff arrested_arrested lax",
          "",
          "",
          "winston churchill_fascism_churchill_marxism_winston"
         ],
         "type": "scatter",
         "x": [
          0.997920346259506,
          1.0027715605389542,
          1.0027715605389542,
          0.9890328073831147
         ],
         "xaxis": "x",
         "y": [
          -1522.5,
          -1522.5,
          -1550,
          -1550
         ],
         "yaxis": "y"
        },
        {
         "hoverinfo": "text",
         "marker": {
          "color": "rgb(61,153,112)"
         },
         "mode": "lines",
         "text": [
          "spiritairlines_airline_airline doesnt_charges military_fly",
          "",
          "",
          "hat_wearing trump_nashville bomber_trump 2020_bomber"
         ],
         "type": "scatter",
         "x": [
          0,
          0.989048086701356,
          0.989048086701356,
          0
         ],
         "xaxis": "x",
         "y": [
          -1565,
          -1565,
          -1575,
          -1575
         ],
         "yaxis": "y"
        },
        {
         "hoverinfo": "text",
         "marker": {
          "color": "rgb(255,65,54)"
         },
         "mode": "lines",
         "text": [
          "snapchat_charmin_drake_2018_loomer lauraloomer",
          "",
          "",
          "omar_ilhan omar_ilhan_married brother_dartell"
         ],
         "type": "scatter",
         "x": [
          0,
          0.9861414818377225,
          0.9861414818377225,
          0
         ],
         "xaxis": "x",
         "y": [
          -1585,
          -1585,
          -1595,
          -1595
         ],
         "yaxis": "y"
        },
        {
         "hoverinfo": "text",
         "marker": {
          "color": "rgb(0,116,217)"
         },
         "mode": "lines",
         "text": [
          "snapchat_charmin_drake_2018_loomer lauraloomer",
          "",
          "",
          "omar_ilhan omar_ilhan_married brother_dartell"
         ],
         "type": "scatter",
         "x": [
          0.989048086701356,
          1.0016405409917306,
          1.0016405409917306,
          0.9861414818377225
         ],
         "xaxis": "x",
         "y": [
          -1570,
          -1570,
          -1590,
          -1590
         ],
         "yaxis": "y"
        },
        {
         "hoverinfo": "text",
         "marker": {
          "color": "rgb(35,205,205)"
         },
         "mode": "lines",
         "text": [
          "ford_fords_ms ford_ms_blasey",
          "",
          "",
          "steinle_steinles_steinles death_kate steinle_zarate"
         ],
         "type": "scatter",
         "x": [
          0,
          0.9889242235504221,
          0.9889242235504221,
          0
         ],
         "xaxis": "x",
         "y": [
          -1605,
          -1605,
          -1615,
          -1615
         ],
         "yaxis": "y"
        },
        {
         "hoverinfo": "text",
         "marker": {
          "color": "rgb(0,116,217)"
         },
         "mode": "lines",
         "text": [
          "ford_fords_ms ford_ms_blasey",
          "",
          "",
          "steinle_steinles_steinles death_kate steinle_zarate"
         ],
         "type": "scatter",
         "x": [
          1.0016405409917306,
          1.0045451015706781,
          1.0045451015706781,
          0.9889242235504221
         ],
         "xaxis": "x",
         "y": [
          -1580,
          -1580,
          -1610,
          -1610
         ],
         "yaxis": "y"
        },
        {
         "hoverinfo": "text",
         "marker": {
          "color": "rgb(61,153,112)"
         },
         "mode": "lines",
         "text": [
          "harry_harry styles_styles_doesnt matter_literally doesnt",
          "",
          "",
          "cair_polish_soldiers_soldiers died_memorial day"
         ],
         "type": "scatter",
         "x": [
          0,
          0.9875736455417828,
          0.9875736455417828,
          0
         ],
         "xaxis": "x",
         "y": [
          -1625,
          -1625,
          -1635,
          -1635
         ],
         "yaxis": "y"
        },
        {
         "hoverinfo": "text",
         "marker": {
          "color": "rgb(255,65,54)"
         },
         "mode": "lines",
         "text": [
          "veterans_ptsd_veteran_veterans ptsd_october 2016",
          "",
          "",
          "audit_forensic_arizona_forensic audit_election audit"
         ],
         "type": "scatter",
         "x": [
          0,
          0.9846145393673519,
          0.9846145393673519,
          0
         ],
         "xaxis": "x",
         "y": [
          -1645,
          -1645,
          -1655,
          -1655
         ],
         "yaxis": "y"
        },
        {
         "hoverinfo": "text",
         "marker": {
          "color": "rgb(0,116,217)"
         },
         "mode": "lines",
         "text": [
          "veterans_ptsd_veteran_veterans ptsd_october 2016",
          "",
          "",
          "audit_forensic_arizona_forensic audit_election audit"
         ],
         "type": "scatter",
         "x": [
          0.9875736455417828,
          1.0058773061499382,
          1.0058773061499382,
          0.9846145393673519
         ],
         "xaxis": "x",
         "y": [
          -1630,
          -1630,
          -1650,
          -1650
         ],
         "yaxis": "y"
        },
        {
         "hoverinfo": "text",
         "marker": {
          "color": "rgb(0,116,217)"
         },
         "mode": "lines",
         "text": [
          "veterans_ptsd_veteran_veterans ptsd_october 2016",
          "",
          "",
          "audit_forensic_arizona_forensic audit_election audit"
         ],
         "type": "scatter",
         "x": [
          1.0045451015706781,
          1.0067009335530084,
          1.0067009335530084,
          1.0058773061499382
         ],
         "xaxis": "x",
         "y": [
          -1595,
          -1595,
          -1640,
          -1640
         ],
         "yaxis": "y"
        },
        {
         "hoverinfo": "text",
         "marker": {
          "color": "rgb(0,116,217)"
         },
         "mode": "lines",
         "text": [
          "veterans_ptsd_veteran_veterans ptsd_october 2016",
          "",
          "",
          "audit_forensic_arizona_forensic audit_election audit"
         ],
         "type": "scatter",
         "x": [
          1.0027715605389542,
          1.0137902745364835,
          1.0137902745364835,
          1.0067009335530084
         ],
         "xaxis": "x",
         "y": [
          -1536.25,
          -1536.25,
          -1617.5,
          -1617.5
         ],
         "yaxis": "y"
        },
        {
         "hoverinfo": "text",
         "marker": {
          "color": "rgb(35,205,205)"
         },
         "mode": "lines",
         "text": [
          "ajc_candy_cocaine_look like_seized",
          "",
          "",
          "snow_winter_record breaking_snow texas_texas fake"
         ],
         "type": "scatter",
         "x": [
          0,
          0.9816084492679547,
          0.9816084492679547,
          0
         ],
         "xaxis": "x",
         "y": [
          -1675,
          -1675,
          -1685,
          -1685
         ],
         "yaxis": "y"
        },
        {
         "hoverinfo": "text",
         "marker": {
          "color": "rgb(35,205,205)"
         },
         "mode": "lines",
         "text": [
          "21st_date_day_year february_chhatrapati day",
          "",
          "",
          "snow_winter_record breaking_snow texas_texas fake"
         ],
         "type": "scatter",
         "x": [
          0,
          0.989380278196071,
          0.989380278196071,
          0.9816084492679547
         ],
         "xaxis": "x",
         "y": [
          -1665,
          -1665,
          -1680,
          -1680
         ],
         "yaxis": "y"
        },
        {
         "hoverinfo": "text",
         "marker": {
          "color": "rgb(133,20,75)"
         },
         "mode": "lines",
         "text": [
          "photos destruction_photos videos_july 22_22 2020_alaska",
          "",
          "",
          "think world_convinced_stinks_said oncoming_destruction world"
         ],
         "type": "scatter",
         "x": [
          0,
          0.9895227876380127,
          0.9895227876380127,
          0
         ],
         "xaxis": "x",
         "y": [
          -1695,
          -1695,
          -1705,
          -1705
         ],
         "yaxis": "y"
        },
        {
         "hoverinfo": "text",
         "marker": {
          "color": "rgb(0,116,217)"
         },
         "mode": "lines",
         "text": [
          "photos destruction_photos videos_july 22_22 2020_alaska",
          "",
          "",
          "think world_convinced_stinks_said oncoming_destruction world"
         ],
         "type": "scatter",
         "x": [
          0.989380278196071,
          1.0044058962115125,
          1.0044058962115125,
          0.9895227876380127
         ],
         "xaxis": "x",
         "y": [
          -1672.5,
          -1672.5,
          -1700,
          -1700
         ],
         "yaxis": "y"
        },
        {
         "hoverinfo": "text",
         "marker": {
          "color": "rgb(0,116,217)"
         },
         "mode": "lines",
         "text": [
          "photos destruction_photos videos_july 22_22 2020_alaska",
          "",
          "",
          "think world_convinced_stinks_said oncoming_destruction world"
         ],
         "type": "scatter",
         "x": [
          1.0137902745364835,
          1.0200677047362305,
          1.0200677047362305,
          1.0044058962115125
         ],
         "xaxis": "x",
         "y": [
          -1576.875,
          -1576.875,
          -1686.25,
          -1686.25
         ],
         "yaxis": "y"
        },
        {
         "hoverinfo": "text",
         "marker": {
          "color": "rgb(255,220,0)"
         },
         "mode": "lines",
         "text": [
          "mystery_wild_putting case_wild kicks_yall realistic",
          "",
          "",
          "murillo_murillo wrote_tamash_tamash murugan_murugan"
         ],
         "type": "scatter",
         "x": [
          0,
          0.9888400342487462,
          0.9888400342487462,
          0
         ],
         "xaxis": "x",
         "y": [
          -1715,
          -1715,
          -1725,
          -1725
         ],
         "yaxis": "y"
        },
        {
         "hoverinfo": "text",
         "marker": {
          "color": "rgb(40,35,35)"
         },
         "mode": "lines",
         "text": [
          "invented_device_invented device_device world_man invented",
          "",
          "",
          "lewis_cs lewis_cs_lewis wrote_satan"
         ],
         "type": "scatter",
         "x": [
          0,
          0.9866775982412703,
          0.9866775982412703,
          0
         ],
         "xaxis": "x",
         "y": [
          -1735,
          -1735,
          -1745,
          -1745
         ],
         "yaxis": "y"
        },
        {
         "hoverinfo": "text",
         "marker": {
          "color": "rgb(40,35,35)"
         },
         "mode": "lines",
         "text": [
          "worst thing_thing life_time feature_pain irreparable_saddest thing",
          "",
          "",
          "tennis_serena_serena williams_williams_williams wrote"
         ],
         "type": "scatter",
         "x": [
          0,
          0.9877935544371597,
          0.9877935544371597,
          0
         ],
         "xaxis": "x",
         "y": [
          -1755,
          -1755,
          -1765,
          -1765
         ],
         "yaxis": "y"
        },
        {
         "hoverinfo": "text",
         "marker": {
          "color": "rgb(40,35,35)"
         },
         "mode": "lines",
         "text": [
          "worst thing_thing life_time feature_pain irreparable_saddest thing",
          "",
          "",
          "tennis_serena_serena williams_williams_williams wrote"
         ],
         "type": "scatter",
         "x": [
          0.9866775982412703,
          0.9995229951902882,
          0.9995229951902882,
          0.9877935544371597
         ],
         "xaxis": "x",
         "y": [
          -1740,
          -1740,
          -1760,
          -1760
         ],
         "yaxis": "y"
        },
        {
         "hoverinfo": "text",
         "marker": {
          "color": "rgb(0,116,217)"
         },
         "mode": "lines",
         "text": [
          "worst thing_thing life_time feature_pain irreparable_saddest thing",
          "",
          "",
          "tennis_serena_serena williams_williams_williams wrote"
         ],
         "type": "scatter",
         "x": [
          0.9888400342487462,
          1.0046336304930148,
          1.0046336304930148,
          0.9995229951902882
         ],
         "xaxis": "x",
         "y": [
          -1720,
          -1720,
          -1750,
          -1750
         ],
         "yaxis": "y"
        },
        {
         "hoverinfo": "text",
         "marker": {
          "color": "rgb(61,153,112)"
         },
         "mode": "lines",
         "text": [
          "doval_ajit_ajit doval_chief secretary_kumbh mela",
          "",
          "",
          "dawood ibrahim_dawood_ibrahim_amitabh_amitabh bachchan"
         ],
         "type": "scatter",
         "x": [
          0,
          0.9968129372040601,
          0.9968129372040601,
          0
         ],
         "xaxis": "x",
         "y": [
          -1775,
          -1775,
          -1785,
          -1785
         ],
         "yaxis": "y"
        },
        {
         "hoverinfo": "text",
         "marker": {
          "color": "rgb(255,65,54)"
         },
         "mode": "lines",
         "text": [
          "rowan_actor rowan_actor_died 29_atkinson",
          "",
          "",
          "sheeple_covidcompliant sheeple_covidcompliant_late night_youve"
         ],
         "type": "scatter",
         "x": [
          0,
          0.9895181297327165,
          0.9895181297327165,
          0
         ],
         "xaxis": "x",
         "y": [
          -1795,
          -1795,
          -1805,
          -1805
         ],
         "yaxis": "y"
        },
        {
         "hoverinfo": "text",
         "marker": {
          "color": "rgb(0,116,217)"
         },
         "mode": "lines",
         "text": [
          "dawood ibrahim_dawood_ibrahim_amitabh_amitabh bachchan",
          "",
          "",
          "sheeple_covidcompliant sheeple_covidcompliant_late night_youve"
         ],
         "type": "scatter",
         "x": [
          0.9968129372040601,
          1.000143270283539,
          1.000143270283539,
          0.9895181297327165
         ],
         "xaxis": "x",
         "y": [
          -1780,
          -1780,
          -1800,
          -1800
         ],
         "yaxis": "y"
        },
        {
         "hoverinfo": "text",
         "marker": {
          "color": "rgb(35,205,205)"
         },
         "mode": "lines",
         "text": [
          "handcuffs_french police_french_investigate rape_police sweden",
          "",
          "",
          "nrc_assam_evicting_evicting people_assam nrc"
         ],
         "type": "scatter",
         "x": [
          0,
          0.9946360607225322,
          0.9946360607225322,
          0
         ],
         "xaxis": "x",
         "y": [
          -1815,
          -1815,
          -1825,
          -1825
         ],
         "yaxis": "y"
        },
        {
         "hoverinfo": "text",
         "marker": {
          "color": "rgb(61,153,112)"
         },
         "mode": "lines",
         "text": [
          "yes yes_peacefully god_god wrongfully_grew love_god um",
          "",
          "",
          "fake cashews_cashews_machine fake_manufactured market_social workers"
         ],
         "type": "scatter",
         "x": [
          0,
          0.9908851388024159,
          0.9908851388024159,
          0
         ],
         "xaxis": "x",
         "y": [
          -1835,
          -1835,
          -1845,
          -1845
         ],
         "yaxis": "y"
        },
        {
         "hoverinfo": "text",
         "marker": {
          "color": "rgb(61,153,112)"
         },
         "mode": "lines",
         "text": [
          "yes yes_peacefully god_god wrongfully_grew love_god um",
          "",
          "",
          "dolly_parton_dolly parton_dixie_singer"
         ],
         "type": "scatter",
         "x": [
          0.9908851388024159,
          0.9969372455248854,
          0.9969372455248854,
          0
         ],
         "xaxis": "x",
         "y": [
          -1840,
          -1840,
          -1855,
          -1855
         ],
         "yaxis": "y"
        },
        {
         "hoverinfo": "text",
         "marker": {
          "color": "rgb(0,116,217)"
         },
         "mode": "lines",
         "text": [
          "yes yes_peacefully god_god wrongfully_grew love_god um",
          "",
          "",
          "dolly_parton_dolly parton_dixie_singer"
         ],
         "type": "scatter",
         "x": [
          0.9946360607225322,
          1.0032136055974383,
          1.0032136055974383,
          0.9969372455248854
         ],
         "xaxis": "x",
         "y": [
          -1820,
          -1820,
          -1847.5,
          -1847.5
         ],
         "yaxis": "y"
        },
        {
         "hoverinfo": "text",
         "marker": {
          "color": "rgb(0,116,217)"
         },
         "mode": "lines",
         "text": [
          "yes yes_peacefully god_god wrongfully_grew love_god um",
          "",
          "",
          "dolly_parton_dolly parton_dixie_singer"
         ],
         "type": "scatter",
         "x": [
          1.000143270283539,
          1.0072556165869455,
          1.0072556165869455,
          1.0032136055974383
         ],
         "xaxis": "x",
         "y": [
          -1790,
          -1790,
          -1833.75,
          -1833.75
         ],
         "yaxis": "y"
        },
        {
         "hoverinfo": "text",
         "marker": {
          "color": "rgb(255,65,54)"
         },
         "mode": "lines",
         "text": [
          "physical evidence_archaeologists_shropshire_caves_library discovered",
          "",
          "",
          "mental_diagnose_mental illness_tier_mental health"
         ],
         "type": "scatter",
         "x": [
          0,
          0.9959554546499988,
          0.9959554546499988,
          0
         ],
         "xaxis": "x",
         "y": [
          -1865,
          -1865,
          -1875,
          -1875
         ],
         "yaxis": "y"
        },
        {
         "hoverinfo": "text",
         "marker": {
          "color": "rgb(35,205,205)"
         },
         "mode": "lines",
         "text": [
          "himalaya_drug company_himalaya drug_10 income_donates 10",
          "",
          "",
          "idols_indians throwing_indians_statues_throwing idols"
         ],
         "type": "scatter",
         "x": [
          0,
          0.9911531014906817,
          0.9911531014906817,
          0
         ],
         "xaxis": "x",
         "y": [
          -1885,
          -1885,
          -1895,
          -1895
         ],
         "yaxis": "y"
        },
        {
         "hoverinfo": "text",
         "marker": {
          "color": "rgb(0,116,217)"
         },
         "mode": "lines",
         "text": [
          "himalaya_drug company_himalaya drug_10 income_donates 10",
          "",
          "",
          "idols_indians throwing_indians_statues_throwing idols"
         ],
         "type": "scatter",
         "x": [
          0.9959554546499988,
          1.0008007087121853,
          1.0008007087121853,
          0.9911531014906817
         ],
         "xaxis": "x",
         "y": [
          -1870,
          -1870,
          -1890,
          -1890
         ],
         "yaxis": "y"
        },
        {
         "hoverinfo": "text",
         "marker": {
          "color": "rgb(133,20,75)"
         },
         "mode": "lines",
         "text": [
          "bobi_ugandas_uganda_bobi wine_wine",
          "",
          "",
          "ethiopia_ethiopian_tplf_tigray_ethiopias"
         ],
         "type": "scatter",
         "x": [
          0,
          0.9866119595380095,
          0.9866119595380095,
          0
         ],
         "xaxis": "x",
         "y": [
          -1905,
          -1905,
          -1915,
          -1915
         ],
         "yaxis": "y"
        },
        {
         "hoverinfo": "text",
         "marker": {
          "color": "rgb(133,20,75)"
         },
         "mode": "lines",
         "text": [
          "ethiopia_bobi_ethiopian_tplf_ugandas",
          "",
          "",
          "parliament_serving_judiciary_global average_ksh38"
         ],
         "type": "scatter",
         "x": [
          0.9866119595380095,
          0.9985922180777446,
          0.9985922180777446,
          0
         ],
         "xaxis": "x",
         "y": [
          -1910,
          -1910,
          -1925,
          -1925
         ],
         "yaxis": "y"
        },
        {
         "hoverinfo": "text",
         "marker": {
          "color": "rgb(0,116,217)"
         },
         "mode": "lines",
         "text": [
          "ethiopia_bobi_ethiopian_tplf_ugandas",
          "",
          "",
          "parliament_serving_judiciary_global average_ksh38"
         ],
         "type": "scatter",
         "x": [
          1.0008007087121853,
          1.0055427991984998,
          1.0055427991984998,
          0.9985922180777446
         ],
         "xaxis": "x",
         "y": [
          -1880,
          -1880,
          -1917.5,
          -1917.5
         ],
         "yaxis": "y"
        },
        {
         "hoverinfo": "text",
         "marker": {
          "color": "rgb(255,220,0)"
         },
         "mode": "lines",
         "text": [
          "armenia_azerbaijan_azerbaijani_azerbaijan armenia_iranians",
          "",
          "",
          "volleyball video_drones playing_playing volleyball_drones_volleyball"
         ],
         "type": "scatter",
         "x": [
          0,
          0.9959319180359344,
          0.9959319180359344,
          0
         ],
         "xaxis": "x",
         "y": [
          -1935,
          -1935,
          -1945,
          -1945
         ],
         "yaxis": "y"
        },
        {
         "hoverinfo": "text",
         "marker": {
          "color": "rgb(40,35,35)"
         },
         "mode": "lines",
         "text": [
          "rickshaw_rickshaw puller_puller_vehicle seized_india video",
          "",
          "",
          "monkeys_india monkeys_hospital india_pool islamabad_hospital ward"
         ],
         "type": "scatter",
         "x": [
          0,
          0.9911084176704753,
          0.9911084176704753,
          0
         ],
         "xaxis": "x",
         "y": [
          -1955,
          -1955,
          -1965,
          -1965
         ],
         "yaxis": "y"
        },
        {
         "hoverinfo": "text",
         "marker": {
          "color": "rgb(0,116,217)"
         },
         "mode": "lines",
         "text": [
          "rickshaw_rickshaw puller_puller_vehicle seized_india video",
          "",
          "",
          "monkeys_india monkeys_hospital india_pool islamabad_hospital ward"
         ],
         "type": "scatter",
         "x": [
          0.9959319180359344,
          1.0020733813334197,
          1.0020733813334197,
          0.9911084176704753
         ],
         "xaxis": "x",
         "y": [
          -1940,
          -1940,
          -1960,
          -1960
         ],
         "yaxis": "y"
        },
        {
         "hoverinfo": "text",
         "marker": {
          "color": "rgb(0,116,217)"
         },
         "mode": "lines",
         "text": [
          "rickshaw_rickshaw puller_puller_vehicle seized_india video",
          "",
          "",
          "monkeys_india monkeys_hospital india_pool islamabad_hospital ward"
         ],
         "type": "scatter",
         "x": [
          1.0055427991984998,
          1.008417289319342,
          1.008417289319342,
          1.0020733813334197
         ],
         "xaxis": "x",
         "y": [
          -1898.75,
          -1898.75,
          -1950,
          -1950
         ],
         "yaxis": "y"
        },
        {
         "hoverinfo": "text",
         "marker": {
          "color": "rgb(0,116,217)"
         },
         "mode": "lines",
         "text": [
          "rickshaw_rickshaw puller_puller_vehicle seized_india video",
          "",
          "",
          "monkeys_india monkeys_hospital india_pool islamabad_hospital ward"
         ],
         "type": "scatter",
         "x": [
          1.0072556165869455,
          1.0113843462321825,
          1.0113843462321825,
          1.008417289319342
         ],
         "xaxis": "x",
         "y": [
          -1811.875,
          -1811.875,
          -1924.375,
          -1924.375
         ],
         "yaxis": "y"
        },
        {
         "hoverinfo": "text",
         "marker": {
          "color": "rgb(61,153,112)"
         },
         "mode": "lines",
         "text": [
          "starbucks_coffee_frappuccino_starbucks offering_free frappuccino",
          "",
          "",
          "kroger_cash_accepting cash_cash payments_2020 kroger"
         ],
         "type": "scatter",
         "x": [
          0,
          0.9869071878850192,
          0.9869071878850192,
          0
         ],
         "xaxis": "x",
         "y": [
          -1975,
          -1975,
          -1985,
          -1985
         ],
         "yaxis": "y"
        },
        {
         "hoverinfo": "text",
         "marker": {
          "color": "rgb(61,153,112)"
         },
         "mode": "lines",
         "text": [
          "starbucks_coffee_frappuccino_starbucks offering_free frappuccino",
          "",
          "",
          "barrel_cracker_cracker barrel_caucasian_whips sale"
         ],
         "type": "scatter",
         "x": [
          0.9869071878850192,
          0.994005058556437,
          0.994005058556437,
          0
         ],
         "xaxis": "x",
         "y": [
          -1980,
          -1980,
          -1995,
          -1995
         ],
         "yaxis": "y"
        },
        {
         "hoverinfo": "text",
         "marker": {
          "color": "rgb(255,65,54)"
         },
         "mode": "lines",
         "text": [
          "july 11_travel_tourism_warnings_11 2016",
          "",
          "",
          "phones_phones pandemic_siri_situation speak_999 answer"
         ],
         "type": "scatter",
         "x": [
          0,
          0.992064917516496,
          0.992064917516496,
          0
         ],
         "xaxis": "x",
         "y": [
          -2005,
          -2005,
          -2015,
          -2015
         ],
         "yaxis": "y"
        },
        {
         "hoverinfo": "text",
         "marker": {
          "color": "rgb(255,65,54)"
         },
         "mode": "lines",
         "text": [
          "hazard pay_hazard_work coronavirus_citizens entitled_4800 hazard",
          "",
          "",
          "time running_pandemic_97ish_rest pandemic_orgscp gillianmckeith"
         ],
         "type": "scatter",
         "x": [
          0,
          0.9936515365942747,
          0.9936515365942747,
          0
         ],
         "xaxis": "x",
         "y": [
          -2025,
          -2025,
          -2035,
          -2035
         ],
         "yaxis": "y"
        },
        {
         "hoverinfo": "text",
         "marker": {
          "color": "rgb(255,65,54)"
         },
         "mode": "lines",
         "text": [
          "hazard pay_hazard_work coronavirus_citizens entitled_4800 hazard",
          "",
          "",
          "time running_pandemic_97ish_rest pandemic_orgscp gillianmckeith"
         ],
         "type": "scatter",
         "x": [
          0.992064917516496,
          0.9989757032465004,
          0.9989757032465004,
          0.9936515365942747
         ],
         "xaxis": "x",
         "y": [
          -2010,
          -2010,
          -2030,
          -2030
         ],
         "yaxis": "y"
        },
        {
         "hoverinfo": "text",
         "marker": {
          "color": "rgb(35,205,205)"
         },
         "mode": "lines",
         "text": [
          "cases_covid19 cases_new cases_0100_jhu world",
          "",
          "",
          "death penalty_penalty_execution_incarnation laid_penalty contend"
         ],
         "type": "scatter",
         "x": [
          0,
          0.9937774765221169,
          0.9937774765221169,
          0
         ],
         "xaxis": "x",
         "y": [
          -2045,
          -2045,
          -2055,
          -2055
         ],
         "yaxis": "y"
        },
        {
         "hoverinfo": "text",
         "marker": {
          "color": "rgb(35,205,205)"
         },
         "mode": "lines",
         "text": [
          "cases_covid19 cases_new cases_0100_jhu world",
          "",
          "",
          "bitcoin_ethereum_centralized_apple_facilitates bitcoin"
         ],
         "type": "scatter",
         "x": [
          0.9937774765221169,
          0.9993695742244584,
          0.9993695742244584,
          0
         ],
         "xaxis": "x",
         "y": [
          -2050,
          -2050,
          -2065,
          -2065
         ],
         "yaxis": "y"
        },
        {
         "hoverinfo": "text",
         "marker": {
          "color": "rgb(0,116,217)"
         },
         "mode": "lines",
         "text": [
          "cases_covid19 cases_new cases_0100_jhu world",
          "",
          "",
          "bitcoin_ethereum_centralized_apple_facilitates bitcoin"
         ],
         "type": "scatter",
         "x": [
          0.9989757032465004,
          1.0027439534650255,
          1.0027439534650255,
          0.9993695742244584
         ],
         "xaxis": "x",
         "y": [
          -2020,
          -2020,
          -2057.5,
          -2057.5
         ],
         "yaxis": "y"
        },
        {
         "hoverinfo": "text",
         "marker": {
          "color": "rgb(61,153,112)"
         },
         "mode": "lines",
         "text": [
          "breath_holding breath_covid19 holding_holding_hold breath",
          "",
          "",
          "kits_test kits_covid19 test_kits 2018_test"
         ],
         "type": "scatter",
         "x": [
          0,
          0.9877198921513679,
          0.9877198921513679,
          0
         ],
         "xaxis": "x",
         "y": [
          -2075,
          -2075,
          -2085,
          -2085
         ],
         "yaxis": "y"
        },
        {
         "hoverinfo": "text",
         "marker": {
          "color": "rgb(0,116,217)"
         },
         "mode": "lines",
         "text": [
          "breath_holding breath_covid19 holding_holding_hold breath",
          "",
          "",
          "kits_test kits_covid19 test_kits 2018_test"
         ],
         "type": "scatter",
         "x": [
          1.0027439534650255,
          1.0042766390935782,
          1.0042766390935782,
          0.9877198921513679
         ],
         "xaxis": "x",
         "y": [
          -2038.75,
          -2038.75,
          -2080,
          -2080
         ],
         "yaxis": "y"
        },
        {
         "hoverinfo": "text",
         "marker": {
          "color": "rgb(0,116,217)"
         },
         "mode": "lines",
         "text": [
          "breath_holding breath_covid19 holding_holding_hold breath",
          "",
          "",
          "kits_test kits_covid19 test_kits 2018_test"
         ],
         "type": "scatter",
         "x": [
          0.994005058556437,
          1.0124899258169502,
          1.0124899258169502,
          1.0042766390935782
         ],
         "xaxis": "x",
         "y": [
          -1987.5,
          -1987.5,
          -2059.375,
          -2059.375
         ],
         "yaxis": "y"
        },
        {
         "hoverinfo": "text",
         "marker": {
          "color": "rgb(255,65,54)"
         },
         "mode": "lines",
         "text": [
          "feedback_free dm_feedback talk_pilot takes_stay uptodate",
          "",
          "",
          "tweet_hit contribute_menu hit_helpful context_birdwatch try"
         ],
         "type": "scatter",
         "x": [
          0,
          0.9868416478104615,
          0.9868416478104615,
          0
         ],
         "xaxis": "x",
         "y": [
          -2095,
          -2095,
          -2105,
          -2105
         ],
         "yaxis": "y"
        },
        {
         "hoverinfo": "text",
         "marker": {
          "color": "rgb(35,205,205)"
         },
         "mode": "lines",
         "text": [
          "blue_states turn_turn purple_backtheblue_blue lives",
          "",
          "",
          "lied didnt_liar_liar bruh_didnt numbers_life lie"
         ],
         "type": "scatter",
         "x": [
          0,
          0.9820489312633971,
          0.9820489312633971,
          0
         ],
         "xaxis": "x",
         "y": [
          -2115,
          -2115,
          -2125,
          -2125
         ],
         "yaxis": "y"
        },
        {
         "hoverinfo": "text",
         "marker": {
          "color": "rgb(0,116,217)"
         },
         "mode": "lines",
         "text": [
          "blue_states turn_turn purple_backtheblue_blue lives",
          "",
          "",
          "lied didnt_liar_liar bruh_didnt numbers_life lie"
         ],
         "type": "scatter",
         "x": [
          0.9868416478104615,
          1.011407511926138,
          1.011407511926138,
          0.9820489312633971
         ],
         "xaxis": "x",
         "y": [
          -2100,
          -2100,
          -2120,
          -2120
         ],
         "yaxis": "y"
        },
        {
         "hoverinfo": "text",
         "marker": {
          "color": "rgb(0,116,217)"
         },
         "mode": "lines",
         "text": [
          "blue_states turn_turn purple_backtheblue_blue lives",
          "",
          "",
          "lied didnt_liar_liar bruh_didnt numbers_life lie"
         ],
         "type": "scatter",
         "x": [
          1.0124899258169502,
          1.0167019914658466,
          1.0167019914658466,
          1.011407511926138
         ],
         "xaxis": "x",
         "y": [
          -2023.4375,
          -2023.4375,
          -2110,
          -2110
         ],
         "yaxis": "y"
        },
        {
         "hoverinfo": "text",
         "marker": {
          "color": "rgb(0,116,217)"
         },
         "mode": "lines",
         "text": [
          "blue_states turn_turn purple_backtheblue_blue lives",
          "",
          "",
          "lied didnt_liar_liar bruh_didnt numbers_life lie"
         ],
         "type": "scatter",
         "x": [
          1.0113843462321825,
          1.0178760071090354,
          1.0178760071090354,
          1.0167019914658466
         ],
         "xaxis": "x",
         "y": [
          -1868.125,
          -1868.125,
          -2066.71875,
          -2066.71875
         ],
         "yaxis": "y"
        },
        {
         "hoverinfo": "text",
         "marker": {
          "color": "rgb(0,116,217)"
         },
         "mode": "lines",
         "text": [
          "blue_states turn_turn purple_backtheblue_blue lives",
          "",
          "",
          "lied didnt_liar_liar bruh_didnt numbers_life lie"
         ],
         "type": "scatter",
         "x": [
          1.0046336304930148,
          1.0222991532109154,
          1.0222991532109154,
          1.0178760071090354
         ],
         "xaxis": "x",
         "y": [
          -1735,
          -1735,
          -1967.421875,
          -1967.421875
         ],
         "yaxis": "y"
        },
        {
         "hoverinfo": "text",
         "marker": {
          "color": "rgb(0,116,217)"
         },
         "mode": "lines",
         "text": [
          "blue_states turn_turn purple_backtheblue_blue lives",
          "",
          "",
          "lied didnt_liar_liar bruh_didnt numbers_life lie"
         ],
         "type": "scatter",
         "x": [
          1.0200677047362305,
          1.0233841887730784,
          1.0233841887730784,
          1.0222991532109154
         ],
         "xaxis": "x",
         "y": [
          -1631.5625,
          -1631.5625,
          -1851.2109375,
          -1851.2109375
         ],
         "yaxis": "y"
        },
        {
         "hoverinfo": "text",
         "marker": {
          "color": "rgb(133,20,75)"
         },
         "mode": "lines",
         "text": [
          "psaki_jen psaki_jen_press secretary_kayleigh mcenany",
          "",
          "",
          "electric_electric cars_cars_charge electric_electric vehicles"
         ],
         "type": "scatter",
         "x": [
          0,
          0.972957554818848,
          0.972957554818848,
          0
         ],
         "xaxis": "x",
         "y": [
          -2135,
          -2135,
          -2145,
          -2145
         ],
         "yaxis": "y"
        },
        {
         "hoverinfo": "text",
         "marker": {
          "color": "rgb(255,220,0)"
         },
         "mode": "lines",
         "text": [
          "wales_flights_airlines_makes sense_gym",
          "",
          "",
          "food stamp_food stamps_march 18_stamps_stamp"
         ],
         "type": "scatter",
         "x": [
          0,
          0.9759182184276018,
          0.9759182184276018,
          0
         ],
         "xaxis": "x",
         "y": [
          -2155,
          -2155,
          -2165,
          -2165
         ],
         "yaxis": "y"
        },
        {
         "hoverinfo": "text",
         "marker": {
          "color": "rgb(0,116,217)"
         },
         "mode": "lines",
         "text": [
          "psaki_jen psaki_jen_electric_electric cars",
          "",
          "",
          "airlines_wales_flights_american airlines_food stamp"
         ],
         "type": "scatter",
         "x": [
          0.972957554818848,
          1.014581666427834,
          1.014581666427834,
          0.9759182184276018
         ],
         "xaxis": "x",
         "y": [
          -2140,
          -2140,
          -2160,
          -2160
         ],
         "yaxis": "y"
        },
        {
         "hoverinfo": "text",
         "marker": {
          "color": "rgb(40,35,35)"
         },
         "mode": "lines",
         "text": [
          "dmx_18 2016_song_si robertson_robertson dead",
          "",
          "",
          "married_ariana_kanye_kanye west_kardashian"
         ],
         "type": "scatter",
         "x": [
          0,
          0.9658541324660105,
          0.9658541324660105,
          0
         ],
         "xaxis": "x",
         "y": [
          -2175,
          -2175,
          -2185,
          -2185
         ],
         "yaxis": "y"
        },
        {
         "hoverinfo": "text",
         "marker": {
          "color": "rgb(0,116,217)"
         },
         "mode": "lines",
         "text": [
          "dmx_18 2016_song_si robertson_robertson dead",
          "",
          "",
          "kanye_married_kanye west_dmx_ariana"
         ],
         "type": "scatter",
         "x": [
          1.014581666427834,
          1.017788724281607,
          1.017788724281607,
          0.9658541324660105
         ],
         "xaxis": "x",
         "y": [
          -2150,
          -2150,
          -2180,
          -2180
         ],
         "yaxis": "y"
        },
        {
         "hoverinfo": "text",
         "marker": {
          "color": "rgb(0,116,217)"
         },
         "mode": "lines",
         "text": [
          "dmx_18 2016_song_si robertson_robertson dead",
          "",
          "",
          "kanye_married_kanye west_dmx_ariana"
         ],
         "type": "scatter",
         "x": [
          1.0233841887730784,
          1.030829606264956,
          1.030829606264956,
          1.017788724281607
         ],
         "xaxis": "x",
         "y": [
          -1741.38671875,
          -1741.38671875,
          -2165,
          -2165
         ],
         "yaxis": "y"
        },
        {
         "hoverinfo": "text",
         "marker": {
          "color": "rgb(61,153,112)"
         },
         "mode": "lines",
         "text": [
          "bds_lew_jewish_antisemitic_wrote lew",
          "",
          "",
          "farrakhan_davis_jews_louis farrakhan_danny davis"
         ],
         "type": "scatter",
         "x": [
          0,
          0.968903044935197,
          0.968903044935197,
          0
         ],
         "xaxis": "x",
         "y": [
          -2195,
          -2195,
          -2205,
          -2205
         ],
         "yaxis": "y"
        },
        {
         "hoverinfo": "text",
         "marker": {
          "color": "rgb(255,65,54)"
         },
         "mode": "lines",
         "text": [
          "christian_heard robert_america christian_robert moses_christianity",
          "",
          "",
          "hungary_orban_europes_christianity europes_hungarian prime"
         ],
         "type": "scatter",
         "x": [
          0,
          0.9786494721532356,
          0.9786494721532356,
          0
         ],
         "xaxis": "x",
         "y": [
          -2215,
          -2215,
          -2225,
          -2225
         ],
         "yaxis": "y"
        },
        {
         "hoverinfo": "text",
         "marker": {
          "color": "rgb(35,205,205)"
         },
         "mode": "lines",
         "text": [
          "false_false flag_flag operation_false flags_flag",
          "",
          "",
          "quran_islamic_islam_jihad_infidels"
         ],
         "type": "scatter",
         "x": [
          0,
          0.9711967054827789,
          0.9711967054827789,
          0
         ],
         "xaxis": "x",
         "y": [
          -2235,
          -2235,
          -2245,
          -2245
         ],
         "yaxis": "y"
        },
        {
         "hoverinfo": "text",
         "marker": {
          "color": "rgb(35,205,205)"
         },
         "mode": "lines",
         "text": [
          "false_false flag_flag operation_false flags_flag",
          "",
          "",
          "terrorist_prosecutor fatou_fatou_bensouda_icc prosecutor"
         ],
         "type": "scatter",
         "x": [
          0.9711967054827789,
          0.9940149017043693,
          0.9940149017043693,
          0
         ],
         "xaxis": "x",
         "y": [
          -2240,
          -2240,
          -2255,
          -2255
         ],
         "yaxis": "y"
        },
        {
         "hoverinfo": "text",
         "marker": {
          "color": "rgb(0,116,217)"
         },
         "mode": "lines",
         "text": [
          "false_false flag_flag operation_false flags_flag",
          "",
          "",
          "terrorist_prosecutor fatou_fatou_bensouda_icc prosecutor"
         ],
         "type": "scatter",
         "x": [
          0.9786494721532356,
          1.0104820873844518,
          1.0104820873844518,
          0.9940149017043693
         ],
         "xaxis": "x",
         "y": [
          -2220,
          -2220,
          -2247.5,
          -2247.5
         ],
         "yaxis": "y"
        },
        {
         "hoverinfo": "text",
         "marker": {
          "color": "rgb(61,153,112)"
         },
         "mode": "lines",
         "text": [
          "jeffrey_maxwell_convicted sex_sex offender_offender jeffrey",
          "",
          "",
          "prison_sentence_years prison_20 years_jail"
         ],
         "type": "scatter",
         "x": [
          0,
          0.9754214995427618,
          0.9754214995427618,
          0
         ],
         "xaxis": "x",
         "y": [
          -2265,
          -2265,
          -2275,
          -2275
         ],
         "yaxis": "y"
        },
        {
         "hoverinfo": "text",
         "marker": {
          "color": "rgb(0,116,217)"
         },
         "mode": "lines",
         "text": [
          "jeffrey_maxwell_convicted sex_sex offender_offender jeffrey",
          "",
          "",
          "jeffrey_offender_maxwell_convicted sex_sex offender"
         ],
         "type": "scatter",
         "x": [
          1.0104820873844518,
          1.015951452887914,
          1.015951452887914,
          0.9754214995427618
         ],
         "xaxis": "x",
         "y": [
          -2233.75,
          -2233.75,
          -2270,
          -2270
         ],
         "yaxis": "y"
        },
        {
         "hoverinfo": "text",
         "marker": {
          "color": "rgb(0,116,217)"
         },
         "mode": "lines",
         "text": [
          "farrakhan_bds_jews_jewish_davis",
          "",
          "",
          "jeffrey_offender_maxwell_convicted sex_sex offender"
         ],
         "type": "scatter",
         "x": [
          0.968903044935197,
          1.0226542965402357,
          1.0226542965402357,
          1.015951452887914
         ],
         "xaxis": "x",
         "y": [
          -2200,
          -2200,
          -2251.875,
          -2251.875
         ],
         "yaxis": "y"
        },
        {
         "hoverinfo": "text",
         "marker": {
          "color": "rgb(255,65,54)"
         },
         "mode": "lines",
         "text": [
          "shakespeare_govern blind_terrible era_idiots govern_era idiots",
          "",
          "",
          "george washington_declaration independence_forefathers_founding_lincoln"
         ],
         "type": "scatter",
         "x": [
          0,
          0.9809244695292668,
          0.9809244695292668,
          0
         ],
         "xaxis": "x",
         "y": [
          -2285,
          -2285,
          -2295,
          -2295
         ],
         "yaxis": "y"
        },
        {
         "hoverinfo": "text",
         "marker": {
          "color": "rgb(35,205,205)"
         },
         "mode": "lines",
         "text": [
          "traitor_wikipedia_progressive workplace_400000 americans_workplace",
          "",
          "",
          "article posted_posted permission_wikipedia_permission_article"
         ],
         "type": "scatter",
         "x": [
          0,
          0.9660454342261112,
          0.9660454342261112,
          0
         ],
         "xaxis": "x",
         "y": [
          -2305,
          -2305,
          -2315,
          -2315
         ],
         "yaxis": "y"
        },
        {
         "hoverinfo": "text",
         "marker": {
          "color": "rgb(0,116,217)"
         },
         "mode": "lines",
         "text": [
          "govern_shakespeare_terrible era_govern blind_era idiots",
          "",
          "",
          "wikipedia_article posted_posted permission_permission_traitor"
         ],
         "type": "scatter",
         "x": [
          0.9809244695292668,
          1.0136771606715786,
          1.0136771606715786,
          0.9660454342261112
         ],
         "xaxis": "x",
         "y": [
          -2290,
          -2290,
          -2310,
          -2310
         ],
         "yaxis": "y"
        },
        {
         "hoverinfo": "text",
         "marker": {
          "color": "rgb(133,20,75)"
         },
         "mode": "lines",
         "text": [
          "ginacarano_sound knowledge_san makes_wtf barely_literally posted",
          "",
          "",
          "fuck im_fuck_right im_goodness lol_right maybe"
         ],
         "type": "scatter",
         "x": [
          0,
          0.9830547868161486,
          0.9830547868161486,
          0
         ],
         "xaxis": "x",
         "y": [
          -2335,
          -2335,
          -2345,
          -2345
         ],
         "yaxis": "y"
        },
        {
         "hoverinfo": "text",
         "marker": {
          "color": "rgb(133,20,75)"
         },
         "mode": "lines",
         "text": [
          "fuck_fuck im_ginacarano_wtf_san makes",
          "",
          "",
          "mattythrice_troll_rickastley_caeserpounce_astheworldburnz"
         ],
         "type": "scatter",
         "x": [
          0.9830547868161486,
          0.987481614641094,
          0.987481614641094,
          0
         ],
         "xaxis": "x",
         "y": [
          -2340,
          -2340,
          -2355,
          -2355
         ],
         "yaxis": "y"
        },
        {
         "hoverinfo": "text",
         "marker": {
          "color": "rgb(133,20,75)"
         },
         "mode": "lines",
         "text": [
          "19s_guy sold_things disaster_says connected_somethings adding",
          "",
          "",
          "mattythrice_troll_rickastley_caeserpounce_astheworldburnz"
         ],
         "type": "scatter",
         "x": [
          0,
          0.991191554522294,
          0.991191554522294,
          0.987481614641094
         ],
         "xaxis": "x",
         "y": [
          -2325,
          -2325,
          -2347.5,
          -2347.5
         ],
         "yaxis": "y"
        },
        {
         "hoverinfo": "text",
         "marker": {
          "color": "rgb(133,20,75)"
         },
         "mode": "lines",
         "text": [
          "19s_guy sold_things disaster_says connected_somethings adding",
          "",
          "",
          "dora_new dora_dora wtf_dora looks_elmo"
         ],
         "type": "scatter",
         "x": [
          0.991191554522294,
          0.9944844244889205,
          0.9944844244889205,
          0
         ],
         "xaxis": "x",
         "y": [
          -2336.25,
          -2336.25,
          -2365,
          -2365
         ],
         "yaxis": "y"
        },
        {
         "hoverinfo": "text",
         "marker": {
          "color": "rgb(0,116,217)"
         },
         "mode": "lines",
         "text": [
          "19s_guy sold_things disaster_says connected_somethings adding",
          "",
          "",
          "dora_new dora_dora wtf_dora looks_elmo"
         ],
         "type": "scatter",
         "x": [
          1.0136771606715786,
          1.0216546426032105,
          1.0216546426032105,
          0.9944844244889205
         ],
         "xaxis": "x",
         "y": [
          -2300,
          -2300,
          -2350.625,
          -2350.625
         ],
         "yaxis": "y"
        },
        {
         "hoverinfo": "text",
         "marker": {
          "color": "rgb(0,116,217)"
         },
         "mode": "lines",
         "text": [
          "19s_guy sold_things disaster_says connected_somethings adding",
          "",
          "",
          "dora_new dora_dora wtf_dora looks_elmo"
         ],
         "type": "scatter",
         "x": [
          1.0226542965402357,
          1.0314106797917644,
          1.0314106797917644,
          1.0216546426032105
         ],
         "xaxis": "x",
         "y": [
          -2225.9375,
          -2225.9375,
          -2325.3125,
          -2325.3125
         ],
         "yaxis": "y"
        },
        {
         "hoverinfo": "text",
         "marker": {
          "color": "rgb(0,116,217)"
         },
         "mode": "lines",
         "text": [
          "19s_guy sold_things disaster_says connected_somethings adding",
          "",
          "",
          "dora_new dora_dora wtf_dora looks_elmo"
         ],
         "type": "scatter",
         "x": [
          1.030829606264956,
          1.0372823666826587,
          1.0372823666826587,
          1.0314106797917644
         ],
         "xaxis": "x",
         "y": [
          -1953.193359375,
          -1953.193359375,
          -2275.625,
          -2275.625
         ],
         "yaxis": "y"
        },
        {
         "hoverinfo": "text",
         "marker": {
          "color": "rgb(0,116,217)"
         },
         "mode": "lines",
         "text": [
          "19s_guy sold_things disaster_says connected_somethings adding",
          "",
          "",
          "dora_new dora_dora wtf_dora looks_elmo"
         ],
         "type": "scatter",
         "x": [
          1.0338263524022633,
          1.0490043241224183,
          1.0490043241224183,
          1.0372823666826587
         ],
         "xaxis": "x",
         "y": [
          -1461.5625,
          -1461.5625,
          -2114.4091796875,
          -2114.4091796875
         ],
         "yaxis": "y"
        },
        {
         "hoverinfo": "text",
         "marker": {
          "color": "rgb(0,116,217)"
         },
         "mode": "lines",
         "text": [
          "19s_guy sold_things disaster_says connected_somethings adding",
          "",
          "",
          "dora_new dora_dora wtf_dora looks_elmo"
         ],
         "type": "scatter",
         "x": [
          1.03956762885341,
          1.0585046695204468,
          1.0585046695204468,
          1.0490043241224183
         ],
         "xaxis": "x",
         "y": [
          -1395,
          -1395,
          -1787.98583984375,
          -1787.98583984375
         ],
         "yaxis": "y"
        },
        {
         "hoverinfo": "text",
         "marker": {
          "color": "rgb(255,220,0)"
         },
         "mode": "lines",
         "text": [
          "wap thinking_wap_thinking oomf_boi lineup_started free",
          "",
          "",
          "stage_nazi symbol_cpac_nazi_stage cpac"
         ],
         "type": "scatter",
         "x": [
          0,
          0.9277816750286039,
          0.9277816750286039,
          0
         ],
         "xaxis": "x",
         "y": [
          -2375,
          -2375,
          -2385,
          -2385
         ],
         "yaxis": "y"
        },
        {
         "hoverinfo": "text",
         "marker": {
          "color": "rgb(0,116,217)"
         },
         "mode": "lines",
         "text": [
          "wap thinking_wap_thinking oomf_boi lineup_started free",
          "",
          "",
          "stage_cpac_nazi symbol_nazi_cpac stage"
         ],
         "type": "scatter",
         "x": [
          1.0585046695204468,
          1.0647635042648596,
          1.0647635042648596,
          0.9277816750286039
         ],
         "xaxis": "x",
         "y": [
          -1591.492919921875,
          -1591.492919921875,
          -2380,
          -2380
         ],
         "yaxis": "y"
        },
        {
         "hoverinfo": "text",
         "marker": {
          "color": "rgb(0,116,217)"
         },
         "mode": "lines",
         "text": [
          "wap thinking_wap_thinking oomf_boi lineup_started free",
          "",
          "",
          "stage_cpac_nazi symbol_nazi_cpac stage"
         ],
         "type": "scatter",
         "x": [
          1.0610993242579136,
          1.0673811529133068,
          1.0673811529133068,
          1.0647635042648596
         ],
         "xaxis": "x",
         "y": [
          -1335,
          -1335,
          -1985.7464599609375,
          -1985.7464599609375
         ],
         "yaxis": "y"
        },
        {
         "hoverinfo": "text",
         "marker": {
          "color": "rgb(0,116,217)"
         },
         "mode": "lines",
         "text": [
          "wap thinking_wap_thinking oomf_boi lineup_started free",
          "",
          "",
          "stage_cpac_nazi symbol_nazi_cpac stage"
         ],
         "type": "scatter",
         "x": [
          1.0402661501868753,
          1.077193524817742,
          1.077193524817742,
          1.0673811529133068
         ],
         "xaxis": "x",
         "y": [
          -1212.1875,
          -1212.1875,
          -1660.3732299804688,
          -1660.3732299804688
         ],
         "yaxis": "y"
        },
        {
         "hoverinfo": "text",
         "marker": {
          "color": "rgb(0,116,217)"
         },
         "mode": "lines",
         "text": [
          "wap thinking_wap_thinking oomf_boi lineup_started free",
          "",
          "",
          "stage_cpac_nazi symbol_nazi_cpac stage"
         ],
         "type": "scatter",
         "x": [
          1.0600882075110454,
          1.087482825953916,
          1.087482825953916,
          1.077193524817742
         ],
         "xaxis": "x",
         "y": [
          -999.375,
          -999.375,
          -1436.2803649902344,
          -1436.2803649902344
         ],
         "yaxis": "y"
        },
        {
         "hoverinfo": "text",
         "marker": {
          "color": "rgb(40,35,35)"
         },
         "mode": "lines",
         "text": [
          "taylor swift_swift_taylor_statue liberty_liberty taylor",
          "",
          "",
          "marjorie_marjorie taylor_greene_taylor greene_taylor"
         ],
         "type": "scatter",
         "x": [
          0,
          0.9267555080231487,
          0.9267555080231487,
          0
         ],
         "xaxis": "x",
         "y": [
          -2395,
          -2395,
          -2405,
          -2405
         ],
         "yaxis": "y"
        },
        {
         "hoverinfo": "text",
         "marker": {
          "color": "rgb(40,35,35)"
         },
         "mode": "lines",
         "text": [
          "taylor_marjorie_marjorie taylor_greene_taylor greene",
          "",
          "",
          "breonna_warrant breonna_knee deep_taylors boyfriend_breonna taylors"
         ],
         "type": "scatter",
         "x": [
          0.9267555080231487,
          0.9710267920931889,
          0.9710267920931889,
          0
         ],
         "xaxis": "x",
         "y": [
          -2400,
          -2400,
          -2415,
          -2415
         ],
         "yaxis": "y"
        },
        {
         "hoverinfo": "text",
         "marker": {
          "color": "rgb(0,116,217)"
         },
         "mode": "lines",
         "text": [
          "taylor_marjorie_marjorie taylor_greene_taylor greene",
          "",
          "",
          "taylor_marjorie_marjorie taylor_greene_taylor greene"
         ],
         "type": "scatter",
         "x": [
          1.087482825953916,
          1.0889760559702588,
          1.0889760559702588,
          0.9710267920931889
         ],
         "xaxis": "x",
         "y": [
          -1217.8276824951172,
          -1217.8276824951172,
          -2407.5,
          -2407.5
         ],
         "yaxis": "y"
        },
        {
         "hoverinfo": "text",
         "marker": {
          "color": "rgb(61,153,112)"
         },
         "mode": "lines",
         "text": [
          "disneyland_rides_walt disney_walt_screaming rides",
          "",
          "",
          "disney_loki_ancient norse_norse_charms"
         ],
         "type": "scatter",
         "x": [
          0,
          0.9164237599648312,
          0.9164237599648312,
          0
         ],
         "xaxis": "x",
         "y": [
          -2425,
          -2425,
          -2435,
          -2435
         ],
         "yaxis": "y"
        },
        {
         "hoverinfo": "text",
         "marker": {
          "color": "rgb(255,65,54)"
         },
         "mode": "lines",
         "text": [
          "buttigieg_pete_pete buttigieg_buttigieg arrested_bike",
          "",
          "",
          "gay_pride_cabinet_lgbtq_openly"
         ],
         "type": "scatter",
         "x": [
          0,
          0.9249287314540586,
          0.9249287314540586,
          0
         ],
         "xaxis": "x",
         "y": [
          -2445,
          -2445,
          -2455,
          -2455
         ],
         "yaxis": "y"
        },
        {
         "hoverinfo": "text",
         "marker": {
          "color": "rgb(255,65,54)"
         },
         "mode": "lines",
         "text": [
          "gay_pete_buttigieg_pete buttigieg_pride",
          "",
          "",
          "pride parade_parade_pride_lauderdale_fort lauderdale"
         ],
         "type": "scatter",
         "x": [
          0.9249287314540586,
          0.9776325440065113,
          0.9776325440065113,
          0
         ],
         "xaxis": "x",
         "y": [
          -2450,
          -2450,
          -2465,
          -2465
         ],
         "yaxis": "y"
        },
        {
         "hoverinfo": "text",
         "marker": {
          "color": "rgb(0,116,217)"
         },
         "mode": "lines",
         "text": [
          "disney_loki_disneyland_walt disney_walt",
          "",
          "",
          "pride_gay_pete_buttigieg_pete buttigieg"
         ],
         "type": "scatter",
         "x": [
          0.9164237599648312,
          1.066855957652674,
          1.066855957652674,
          0.9776325440065113
         ],
         "xaxis": "x",
         "y": [
          -2430,
          -2430,
          -2457.5,
          -2457.5
         ],
         "yaxis": "y"
        },
        {
         "hoverinfo": "text",
         "marker": {
          "color": "rgb(0,116,217)"
         },
         "mode": "lines",
         "text": [
          "disney_loki_disneyland_walt disney_walt",
          "",
          "",
          "pride_gay_pete_buttigieg_pete buttigieg"
         ],
         "type": "scatter",
         "x": [
          1.0889760559702588,
          1.0895871968817015,
          1.0895871968817015,
          1.066855957652674
         ],
         "xaxis": "x",
         "y": [
          -1812.6638412475586,
          -1812.6638412475586,
          -2443.75,
          -2443.75
         ],
         "yaxis": "y"
        },
        {
         "hoverinfo": "text",
         "marker": {
          "color": "rgb(0,116,217)"
         },
         "mode": "lines",
         "text": [
          "thunberg_greta thunberg_greta_activist greta_environmental activist",
          "",
          "",
          "pride_gay_pete_buttigieg_pete buttigieg"
         ],
         "type": "scatter",
         "x": [
          0.878053158664102,
          1.103869825941977,
          1.103869825941977,
          1.0895871968817015
         ],
         "xaxis": "x",
         "y": [
          -920,
          -920,
          -2128.2069206237793,
          -2128.2069206237793
         ],
         "yaxis": "y"
        },
        {
         "hoverinfo": "text",
         "marker": {
          "color": "rgb(0,116,217)"
         },
         "mode": "lines",
         "text": [
          "thunberg_greta thunberg_greta_activist greta_environmental activist",
          "",
          "",
          "pride_gay_pete_buttigieg_pete buttigieg"
         ],
         "type": "scatter",
         "x": [
          1.0729833297207112,
          1.1069544006531995,
          1.1069544006531995,
          1.103869825941977
         ],
         "xaxis": "x",
         "y": [
          -865.625,
          -865.625,
          -1524.1034603118896,
          -1524.1034603118896
         ],
         "yaxis": "y"
        },
        {
         "hoverinfo": "text",
         "marker": {
          "color": "rgb(35,205,205)"
         },
         "mode": "lines",
         "text": [
          "robinhood_gme_shares_amc_robinhoodapp",
          "",
          "",
          "gamestop_stock_hedge_jewish hedge_gamers"
         ],
         "type": "scatter",
         "x": [
          0,
          0.9160383566435785,
          0.9160383566435785,
          0
         ],
         "xaxis": "x",
         "y": [
          -2475,
          -2475,
          -2485,
          -2485
         ],
         "yaxis": "y"
        },
        {
         "hoverinfo": "text",
         "marker": {
          "color": "rgb(35,205,205)"
         },
         "mode": "lines",
         "text": [
          "gamestop_robinhood_gme_shares_amc",
          "",
          "",
          "stock market_dow_market_dow jones_goes lose"
         ],
         "type": "scatter",
         "x": [
          0.9160383566435785,
          0.973626461733678,
          0.973626461733678,
          0
         ],
         "xaxis": "x",
         "y": [
          -2480,
          -2480,
          -2495,
          -2495
         ],
         "yaxis": "y"
        },
        {
         "hoverinfo": "text",
         "marker": {
          "color": "rgb(61,153,112)"
         },
         "mode": "lines",
         "text": [
          "time magazine_magazine_magazine cover_cover_featuring donald",
          "",
          "",
          "rachel levine_levine_rachel_dr rachel_assistant"
         ],
         "type": "scatter",
         "x": [
          0,
          0.9146092312956506,
          0.9146092312956506,
          0
         ],
         "xaxis": "x",
         "y": [
          -2505,
          -2505,
          -2515,
          -2515
         ],
         "yaxis": "y"
        },
        {
         "hoverinfo": "text",
         "marker": {
          "color": "rgb(255,65,54)"
         },
         "mode": "lines",
         "text": [
          "hobby_hobby lobby_employees wearing_lobby_american flag",
          "",
          "",
          "seuss_dr seuss_mr potato_dr_potato head"
         ],
         "type": "scatter",
         "x": [
          0,
          0.9288132579911519,
          0.9288132579911519,
          0
         ],
         "xaxis": "x",
         "y": [
          -2525,
          -2525,
          -2535,
          -2535
         ],
         "yaxis": "y"
        },
        {
         "hoverinfo": "text",
         "marker": {
          "color": "rgb(255,65,54)"
         },
         "mode": "lines",
         "text": [
          "seuss_dr seuss_mr potato_hobby_potato head",
          "",
          "",
          "books_barnes noble_barnes_book_noble"
         ],
         "type": "scatter",
         "x": [
          0.9288132579911519,
          0.9875341641366537,
          0.9875341641366537,
          0
         ],
         "xaxis": "x",
         "y": [
          -2530,
          -2530,
          -2545,
          -2545
         ],
         "yaxis": "y"
        },
        {
         "hoverinfo": "text",
         "marker": {
          "color": "rgb(0,116,217)"
         },
         "mode": "lines",
         "text": [
          "magazine_time magazine_rachel levine_levine_rachel",
          "",
          "",
          "dr seuss_seuss_books_hobby_mr potato"
         ],
         "type": "scatter",
         "x": [
          0.9146092312956506,
          1.0528900090350504,
          1.0528900090350504,
          0.9875341641366537
         ],
         "xaxis": "x",
         "y": [
          -2510,
          -2510,
          -2537.5,
          -2537.5
         ],
         "yaxis": "y"
        },
        {
         "hoverinfo": "text",
         "marker": {
          "color": "rgb(35,205,205)"
         },
         "mode": "lines",
         "text": [
          "cruz_ted cruz_ted_sen ted_sen",
          "",
          "",
          "trump donated_military cemeteries_cemeteries_donated_rebuild military"
         ],
         "type": "scatter",
         "x": [
          0,
          0.957901678241524,
          0.957901678241524,
          0
         ],
         "xaxis": "x",
         "y": [
          -2555,
          -2555,
          -2565,
          -2565
         ],
         "yaxis": "y"
        },
        {
         "hoverinfo": "text",
         "marker": {
          "color": "rgb(133,20,75)"
         },
         "mode": "lines",
         "text": [
          "left family_family tears_net worth_worth left_tears",
          "",
          "",
          "golf_pga_golf course_golfer_tiger woods"
         ],
         "type": "scatter",
         "x": [
          0,
          0.9622781482293331,
          0.9622781482293331,
          0
         ],
         "xaxis": "x",
         "y": [
          -2575,
          -2575,
          -2585,
          -2585
         ],
         "yaxis": "y"
        },
        {
         "hoverinfo": "text",
         "marker": {
          "color": "rgb(0,116,217)"
         },
         "mode": "lines",
         "text": [
          "cruz_ted cruz_ted_sen ted_sen",
          "",
          "",
          "golf_pga_golf course_golfer_tiger woods"
         ],
         "type": "scatter",
         "x": [
          0.957901678241524,
          1.010173383296482,
          1.010173383296482,
          0.9622781482293331
         ],
         "xaxis": "x",
         "y": [
          -2560,
          -2560,
          -2580,
          -2580
         ],
         "yaxis": "y"
        },
        {
         "hoverinfo": "text",
         "marker": {
          "color": "rgb(255,220,0)"
         },
         "mode": "lines",
         "text": [
          "bezos_jeff bezos_billion_billion dollars_worth",
          "",
          "",
          "amazon_amazon prime_netflix_prime_subscription"
         ],
         "type": "scatter",
         "x": [
          0,
          0.9431951982154516,
          0.9431951982154516,
          0
         ],
         "xaxis": "x",
         "y": [
          -2595,
          -2595,
          -2605,
          -2605
         ],
         "yaxis": "y"
        },
        {
         "hoverinfo": "text",
         "marker": {
          "color": "rgb(40,35,35)"
         },
         "mode": "lines",
         "text": [
          "child pornography_pornography_netflix ceo_netflix_ceo",
          "",
          "",
          "ps5_netflix_epilepsy_movie_incredibles"
         ],
         "type": "scatter",
         "x": [
          0,
          0.953065220470541,
          0.953065220470541,
          0
         ],
         "xaxis": "x",
         "y": [
          -2615,
          -2615,
          -2625,
          -2625
         ],
         "yaxis": "y"
        },
        {
         "hoverinfo": "text",
         "marker": {
          "color": "rgb(0,116,217)"
         },
         "mode": "lines",
         "text": [
          "child pornography_pornography_netflix ceo_netflix_ceo",
          "",
          "",
          "netflix_ps5_child pornography_epilepsy_pornography"
         ],
         "type": "scatter",
         "x": [
          0.9431951982154516,
          1.0164533657051855,
          1.0164533657051855,
          0.953065220470541
         ],
         "xaxis": "x",
         "y": [
          -2600,
          -2600,
          -2620,
          -2620
         ],
         "yaxis": "y"
        },
        {
         "hoverinfo": "text",
         "marker": {
          "color": "rgb(0,116,217)"
         },
         "mode": "lines",
         "text": [
          "child pornography_pornography_netflix ceo_netflix_ceo",
          "",
          "",
          "netflix_ps5_child pornography_epilepsy_pornography"
         ],
         "type": "scatter",
         "x": [
          1.010173383296482,
          1.040756030888744,
          1.040756030888744,
          1.0164533657051855
         ],
         "xaxis": "x",
         "y": [
          -2570,
          -2570,
          -2610,
          -2610
         ],
         "yaxis": "y"
        },
        {
         "hoverinfo": "text",
         "marker": {
          "color": "rgb(61,153,112)"
         },
         "mode": "lines",
         "text": [
          "nintendo_game_video game_xxl nintendo_rails image",
          "",
          "",
          "nba_play damn_damn game_shut play_larry bird"
         ],
         "type": "scatter",
         "x": [
          0,
          0.9739702697255261,
          0.9739702697255261,
          0
         ],
         "xaxis": "x",
         "y": [
          -2635,
          -2635,
          -2645,
          -2645
         ],
         "yaxis": "y"
        },
        {
         "hoverinfo": "text",
         "marker": {
          "color": "rgb(255,65,54)"
         },
         "mode": "lines",
         "text": [
          "mlb_georgians_hank aaron_hank_woke",
          "",
          "",
          "robert aaron_aaron long_aaron_robert_atlantaarea"
         ],
         "type": "scatter",
         "x": [
          0,
          0.9590859760309007,
          0.9590859760309007,
          0
         ],
         "xaxis": "x",
         "y": [
          -2655,
          -2655,
          -2665,
          -2665
         ],
         "yaxis": "y"
        },
        {
         "hoverinfo": "text",
         "marker": {
          "color": "rgb(0,116,217)"
         },
         "mode": "lines",
         "text": [
          "mlb_georgians_hank aaron_hank_woke",
          "",
          "",
          "aaron_mlb_robert aaron_aaron long_atlanta"
         ],
         "type": "scatter",
         "x": [
          0.9739702697255261,
          1.0091200170123018,
          1.0091200170123018,
          0.9590859760309007
         ],
         "xaxis": "x",
         "y": [
          -2640,
          -2640,
          -2660,
          -2660
         ],
         "yaxis": "y"
        },
        {
         "hoverinfo": "text",
         "marker": {
          "color": "rgb(35,205,205)"
         },
         "mode": "lines",
         "text": [
          "confederate_confederate flag_klux klan_kkk_kkk members",
          "",
          "",
          "sheldon whitehouse_sheldon_whitehouse_club_sen sheldon"
         ],
         "type": "scatter",
         "x": [
          0,
          0.9589774232837106,
          0.9589774232837106,
          0
         ],
         "xaxis": "x",
         "y": [
          -2675,
          -2675,
          -2685,
          -2685
         ],
         "yaxis": "y"
        },
        {
         "hoverinfo": "text",
         "marker": {
          "color": "rgb(61,153,112)"
         },
         "mode": "lines",
         "text": [
          "racism_slavery_slaves_white_racist",
          "",
          "",
          "asian_asian american_asianamericans_wthe_antiasian"
         ],
         "type": "scatter",
         "x": [
          0,
          0.9589171058125944,
          0.9589171058125944,
          0
         ],
         "xaxis": "x",
         "y": [
          -2695,
          -2695,
          -2705,
          -2705
         ],
         "yaxis": "y"
        },
        {
         "hoverinfo": "text",
         "marker": {
          "color": "rgb(0,116,217)"
         },
         "mode": "lines",
         "text": [
          "sheldon whitehouse_sheldon_whitehouse_klan_klux klan",
          "",
          "",
          "racism_slavery_white_slaves_asian"
         ],
         "type": "scatter",
         "x": [
          0.9589774232837106,
          1.0108822652658926,
          1.0108822652658926,
          0.9589171058125944
         ],
         "xaxis": "x",
         "y": [
          -2680,
          -2680,
          -2700,
          -2700
         ],
         "yaxis": "y"
        },
        {
         "hoverinfo": "text",
         "marker": {
          "color": "rgb(255,65,54)"
         },
         "mode": "lines",
         "text": [
          "coke_cocacola_try white_crow law_vanilla",
          "",
          "",
          "cristiano_ronaldo_cristiano ronaldo_hotels_hotels hospitals"
         ],
         "type": "scatter",
         "x": [
          0,
          0.9664397007636396,
          0.9664397007636396,
          0
         ],
         "xaxis": "x",
         "y": [
          -2715,
          -2715,
          -2725,
          -2725
         ],
         "yaxis": "y"
        },
        {
         "hoverinfo": "text",
         "marker": {
          "color": "rgb(0,116,217)"
         },
         "mode": "lines",
         "text": [
          "coke_cocacola_try white_crow law_vanilla",
          "",
          "",
          "coke_cocacola_cristiano_ronaldo_cristiano ronaldo"
         ],
         "type": "scatter",
         "x": [
          1.0108822652658926,
          1.0288902893671734,
          1.0288902893671734,
          0.9664397007636396
         ],
         "xaxis": "x",
         "y": [
          -2690,
          -2690,
          -2720,
          -2720
         ],
         "yaxis": "y"
        },
        {
         "hoverinfo": "text",
         "marker": {
          "color": "rgb(0,116,217)"
         },
         "mode": "lines",
         "text": [
          "coke_cocacola_try white_crow law_vanilla",
          "",
          "",
          "coke_cocacola_cristiano_ronaldo_cristiano ronaldo"
         ],
         "type": "scatter",
         "x": [
          1.0091200170123018,
          1.0404784375740899,
          1.0404784375740899,
          1.0288902893671734
         ],
         "xaxis": "x",
         "y": [
          -2650,
          -2650,
          -2705,
          -2705
         ],
         "yaxis": "y"
        },
        {
         "hoverinfo": "text",
         "marker": {
          "color": "rgb(35,205,205)"
         },
         "mode": "lines",
         "text": [
          "firearms court_firearms_starts_wh gun_killarys",
          "",
          "",
          "gun_guns_amendment_gun control_second amendment"
         ],
         "type": "scatter",
         "x": [
          0,
          0.936447998505363,
          0.936447998505363,
          0
         ],
         "xaxis": "x",
         "y": [
          -2735,
          -2735,
          -2745,
          -2745
         ],
         "yaxis": "y"
        },
        {
         "hoverinfo": "text",
         "marker": {
          "color": "rgb(133,20,75)"
         },
         "mode": "lines",
         "text": [
          "ronald reagan_reagan said_ronald_reagan_restrict",
          "",
          "",
          "narrative surprise_forthepeopleact republicans_united obama_refuse engage_fight democracy"
         ],
         "type": "scatter",
         "x": [
          0,
          0.9888199972592042,
          0.9888199972592042,
          0
         ],
         "xaxis": "x",
         "y": [
          -2755,
          -2755,
          -2765,
          -2765
         ],
         "yaxis": "y"
        },
        {
         "hoverinfo": "text",
         "marker": {
          "color": "rgb(133,20,75)"
         },
         "mode": "lines",
         "text": [
          "republicans_criminalize_dem members_gop playing_congress incited",
          "",
          "",
          "democrats_dem_democrat_pathetic_americans"
         ],
         "type": "scatter",
         "x": [
          0,
          0.9744090542014109,
          0.9744090542014109,
          0
         ],
         "xaxis": "x",
         "y": [
          -2775,
          -2775,
          -2785,
          -2785
         ],
         "yaxis": "y"
        },
        {
         "hoverinfo": "text",
         "marker": {
          "color": "rgb(133,20,75)"
         },
         "mode": "lines",
         "text": [
          "ronald reagan_reagan said_ronald_reagan_restrict",
          "",
          "",
          "democrats_dem_democrat_pathetic_americans"
         ],
         "type": "scatter",
         "x": [
          0.9888199972592042,
          0.9991476314932507,
          0.9991476314932507,
          0.9744090542014109
         ],
         "xaxis": "x",
         "y": [
          -2760,
          -2760,
          -2780,
          -2780
         ],
         "yaxis": "y"
        },
        {
         "hoverinfo": "text",
         "marker": {
          "color": "rgb(255,220,0)"
         },
         "mode": "lines",
         "text": [
          "shooting_shootings_school shooting_school shootings_jrehling",
          "",
          "",
          "schools_schools safe_safe_school_teachers"
         ],
         "type": "scatter",
         "x": [
          0,
          0.9614920373298922,
          0.9614920373298922,
          0
         ],
         "xaxis": "x",
         "y": [
          -2795,
          -2795,
          -2805,
          -2805
         ],
         "yaxis": "y"
        },
        {
         "hoverinfo": "text",
         "marker": {
          "color": "rgb(255,220,0)"
         },
         "mode": "lines",
         "text": [
          "shooting_shootings_school shooting_school shootings_jrehling",
          "",
          "",
          "science_respect_dont respect_wont respect_respect democracy"
         ],
         "type": "scatter",
         "x": [
          0.9614920373298922,
          0.9935722630088301,
          0.9935722630088301,
          0
         ],
         "xaxis": "x",
         "y": [
          -2800,
          -2800,
          -2815,
          -2815
         ],
         "yaxis": "y"
        },
        {
         "hoverinfo": "text",
         "marker": {
          "color": "rgb(0,116,217)"
         },
         "mode": "lines",
         "text": [
          "shooting_shootings_school shooting_school shootings_jrehling",
          "",
          "",
          "science_respect_dont respect_wont respect_respect democracy"
         ],
         "type": "scatter",
         "x": [
          0.9991476314932507,
          1.0094456340836047,
          1.0094456340836047,
          0.9935722630088301
         ],
         "xaxis": "x",
         "y": [
          -2770,
          -2770,
          -2807.5,
          -2807.5
         ],
         "yaxis": "y"
        },
        {
         "hoverinfo": "text",
         "marker": {
          "color": "rgb(0,116,217)"
         },
         "mode": "lines",
         "text": [
          "gun_guns_amendment_gun control_second amendment",
          "",
          "",
          "science_respect_dont respect_wont respect_respect democracy"
         ],
         "type": "scatter",
         "x": [
          0.936447998505363,
          1.0129190809395503,
          1.0129190809395503,
          1.0094456340836047
         ],
         "xaxis": "x",
         "y": [
          -2740,
          -2740,
          -2788.75,
          -2788.75
         ],
         "yaxis": "y"
        },
        {
         "hoverinfo": "text",
         "marker": {
          "color": "rgb(0,116,217)"
         },
         "mode": "lines",
         "text": [
          "gun_guns_amendment_gun control_second amendment",
          "",
          "",
          "science_respect_dont respect_wont respect_respect democracy"
         ],
         "type": "scatter",
         "x": [
          1.0404784375740899,
          1.0514883989801205,
          1.0514883989801205,
          1.0129190809395503
         ],
         "xaxis": "x",
         "y": [
          -2677.5,
          -2677.5,
          -2764.375,
          -2764.375
         ],
         "yaxis": "y"
        },
        {
         "hoverinfo": "text",
         "marker": {
          "color": "rgb(40,35,35)"
         },
         "mode": "lines",
         "text": [
          "puerto_hurricane_puerto rico_rico_dorian",
          "",
          "",
          "directv_cbc_september 27_cancelled_september 26"
         ],
         "type": "scatter",
         "x": [
          0,
          0.9622946139155641,
          0.9622946139155641,
          0
         ],
         "xaxis": "x",
         "y": [
          -2825,
          -2825,
          -2835,
          -2835
         ],
         "yaxis": "y"
        },
        {
         "hoverinfo": "text",
         "marker": {
          "color": "rgb(61,153,112)"
         },
         "mode": "lines",
         "text": [
          "anthem_national anthem_colin_colin kaepernick_kaepernick",
          "",
          "",
          "nike_shoes_crocs_satan shoes_lil nas"
         ],
         "type": "scatter",
         "x": [
          0,
          0.9725658655721335,
          0.9725658655721335,
          0
         ],
         "xaxis": "x",
         "y": [
          -2845,
          -2845,
          -2855,
          -2855
         ],
         "yaxis": "y"
        },
        {
         "hoverinfo": "text",
         "marker": {
          "color": "rgb(0,116,217)"
         },
         "mode": "lines",
         "text": [
          "puerto_puerto rico_hurricane_rico_september",
          "",
          "",
          "nike_shoes_anthem_national anthem_colin kaepernick"
         ],
         "type": "scatter",
         "x": [
          0.9622946139155641,
          1.0092516750190152,
          1.0092516750190152,
          0.9725658655721335
         ],
         "xaxis": "x",
         "y": [
          -2830,
          -2830,
          -2850,
          -2850
         ],
         "yaxis": "y"
        },
        {
         "hoverinfo": "text",
         "marker": {
          "color": "rgb(255,65,54)"
         },
         "mode": "lines",
         "text": [
          "pledge_pledge allegiance_allegiance_banning pledge_phrase god",
          "",
          "",
          "ocasiocortez_alexandria ocasiocortez_alexandria_rep alexandria_ocasiocortez said"
         ],
         "type": "scatter",
         "x": [
          0,
          0.9584325696841581,
          0.9584325696841581,
          0
         ],
         "xaxis": "x",
         "y": [
          -2865,
          -2865,
          -2875,
          -2875
         ],
         "yaxis": "y"
        },
        {
         "hoverinfo": "text",
         "marker": {
          "color": "rgb(0,116,217)"
         },
         "mode": "lines",
         "text": [
          "pledge_pledge allegiance_allegiance_banning pledge_phrase god",
          "",
          "",
          "ocasiocortez_alexandria ocasiocortez_alexandria_rep alexandria_pledge"
         ],
         "type": "scatter",
         "x": [
          1.0092516750190152,
          1.028914439833245,
          1.028914439833245,
          0.9584325696841581
         ],
         "xaxis": "x",
         "y": [
          -2840,
          -2840,
          -2870,
          -2870
         ],
         "yaxis": "y"
        },
        {
         "hoverinfo": "text",
         "marker": {
          "color": "rgb(35,205,205)"
         },
         "mode": "lines",
         "text": [
          "cuomo_nursing_nursing homes_homes_andrew cuomo",
          "",
          "",
          "martial law_martial_austin_draft_law"
         ],
         "type": "scatter",
         "x": [
          0,
          0.9721677100136429,
          0.9721677100136429,
          0
         ],
         "xaxis": "x",
         "y": [
          -2885,
          -2885,
          -2895,
          -2895
         ],
         "yaxis": "y"
        },
        {
         "hoverinfo": "text",
         "marker": {
          "color": "rgb(61,153,112)"
         },
         "mode": "lines",
         "text": [
          "national guard_guard_national_guard troops_rest nearby",
          "",
          "",
          "nancy_pelosi_nancy pelosi_speaker_speaker nancy"
         ],
         "type": "scatter",
         "x": [
          0,
          0.9643394986143345,
          0.9643394986143345,
          0
         ],
         "xaxis": "x",
         "y": [
          -2905,
          -2905,
          -2915,
          -2915
         ],
         "yaxis": "y"
        },
        {
         "hoverinfo": "text",
         "marker": {
          "color": "rgb(0,116,217)"
         },
         "mode": "lines",
         "text": [
          "cuomo_nursing_martial law_martial_nursing homes",
          "",
          "",
          "nancy_pelosi_nancy pelosi_speaker_speaker nancy"
         ],
         "type": "scatter",
         "x": [
          0.9721677100136429,
          1.0058822544134172,
          1.0058822544134172,
          0.9643394986143345
         ],
         "xaxis": "x",
         "y": [
          -2890,
          -2890,
          -2910,
          -2910
         ],
         "yaxis": "y"
        },
        {
         "hoverinfo": "text",
         "marker": {
          "color": "rgb(255,65,54)"
         },
         "mode": "lines",
         "text": [
          "ivanka_ivanka trump_adviser ivanka_daughter ivanka_daughter",
          "",
          "",
          "liz_powell_liz cheney_cheney_habib"
         ],
         "type": "scatter",
         "x": [
          0,
          0.9655715570130518,
          0.9655715570130518,
          0
         ],
         "xaxis": "x",
         "y": [
          -2925,
          -2925,
          -2935,
          -2935
         ],
         "yaxis": "y"
        },
        {
         "hoverinfo": "text",
         "marker": {
          "color": "rgb(35,205,205)"
         },
         "mode": "lines",
         "text": [
          "hutchinson_heyitscarolyn_asa hutchinson_asa_peters",
          "",
          "",
          "45th president_45th_trump 45th_statement donald_states america"
         ],
         "type": "scatter",
         "x": [
          0,
          0.9722169976963185,
          0.9722169976963185,
          0
         ],
         "xaxis": "x",
         "y": [
          -2945,
          -2945,
          -2955,
          -2955
         ],
         "yaxis": "y"
        },
        {
         "hoverinfo": "text",
         "marker": {
          "color": "rgb(0,116,217)"
         },
         "mode": "lines",
         "text": [
          "liz_powell_ivanka_cheney_liz cheney",
          "",
          "",
          "45th president_45th_trump 45th_statement donald_states america"
         ],
         "type": "scatter",
         "x": [
          0.9655715570130518,
          1.0020491614716431,
          1.0020491614716431,
          0.9722169976963185
         ],
         "xaxis": "x",
         "y": [
          -2930,
          -2930,
          -2950,
          -2950
         ],
         "yaxis": "y"
        },
        {
         "hoverinfo": "text",
         "marker": {
          "color": "rgb(0,116,217)"
         },
         "mode": "lines",
         "text": [
          "liz_powell_ivanka_cheney_liz cheney",
          "",
          "",
          "45th president_45th_trump 45th_statement donald_states america"
         ],
         "type": "scatter",
         "x": [
          1.0058822544134172,
          1.0240437862326714,
          1.0240437862326714,
          1.0020491614716431
         ],
         "xaxis": "x",
         "y": [
          -2900,
          -2900,
          -2940,
          -2940
         ],
         "yaxis": "y"
        },
        {
         "hoverinfo": "text",
         "marker": {
          "color": "rgb(0,116,217)"
         },
         "mode": "lines",
         "text": [
          "liz_powell_ivanka_cheney_liz cheney",
          "",
          "",
          "45th president_45th_trump 45th_statement donald_states america"
         ],
         "type": "scatter",
         "x": [
          1.028914439833245,
          1.0344762988884686,
          1.0344762988884686,
          1.0240437862326714
         ],
         "xaxis": "x",
         "y": [
          -2855,
          -2855,
          -2920,
          -2920
         ],
         "yaxis": "y"
        },
        {
         "hoverinfo": "text",
         "marker": {
          "color": "rgb(133,20,75)"
         },
         "mode": "lines",
         "text": [
          "twitter_twitter banned_referencing_account_locked",
          "",
          "",
          "disha_ravi_disha ravi_ravis_disha ravis"
         ],
         "type": "scatter",
         "x": [
          0,
          0.957639348040926,
          0.957639348040926,
          0
         ],
         "xaxis": "x",
         "y": [
          -2965,
          -2965,
          -2975,
          -2975
         ],
         "yaxis": "y"
        },
        {
         "hoverinfo": "text",
         "marker": {
          "color": "rgb(255,220,0)"
         },
         "mode": "lines",
         "text": [
          "deleted_kushner deleted_deleted tweets_jared kushner_kushner",
          "",
          "",
          "fleiss_heidi fleiss_heidi_schumer_chuck"
         ],
         "type": "scatter",
         "x": [
          0,
          0.9685751833934957,
          0.9685751833934957,
          0
         ],
         "xaxis": "x",
         "y": [
          -2985,
          -2985,
          -2995,
          -2995
         ],
         "yaxis": "y"
        },
        {
         "hoverinfo": "text",
         "marker": {
          "color": "rgb(0,116,217)"
         },
         "mode": "lines",
         "text": [
          "disha_ravi_disha ravi_twitter_account",
          "",
          "",
          "fleiss_heidi fleiss_schumer_heidi_chuck"
         ],
         "type": "scatter",
         "x": [
          0.957639348040926,
          1.0093932392656835,
          1.0093932392656835,
          0.9685751833934957
         ],
         "xaxis": "x",
         "y": [
          -2970,
          -2970,
          -2990,
          -2990
         ],
         "yaxis": "y"
        },
        {
         "hoverinfo": "text",
         "marker": {
          "color": "rgb(0,116,217)"
         },
         "mode": "lines",
         "text": [
          "disha_ravi_disha ravi_twitter_account",
          "",
          "",
          "fleiss_heidi fleiss_schumer_heidi_chuck"
         ],
         "type": "scatter",
         "x": [
          1.0344762988884686,
          1.0430807456578617,
          1.0430807456578617,
          1.0093932392656835
         ],
         "xaxis": "x",
         "y": [
          -2887.5,
          -2887.5,
          -2980,
          -2980
         ],
         "yaxis": "y"
        },
        {
         "hoverinfo": "text",
         "marker": {
          "color": "rgb(0,116,217)"
         },
         "mode": "lines",
         "text": [
          "disha_ravi_disha ravi_twitter_account",
          "",
          "",
          "fleiss_heidi fleiss_schumer_heidi_chuck"
         ],
         "type": "scatter",
         "x": [
          1.0514883989801205,
          1.0586273259539156,
          1.0586273259539156,
          1.0430807456578617
         ],
         "xaxis": "x",
         "y": [
          -2720.9375,
          -2720.9375,
          -2933.75,
          -2933.75
         ],
         "yaxis": "y"
        },
        {
         "hoverinfo": "text",
         "marker": {
          "color": "rgb(0,116,217)"
         },
         "mode": "lines",
         "text": [
          "disha_ravi_disha ravi_twitter_account",
          "",
          "",
          "fleiss_heidi fleiss_schumer_heidi_chuck"
         ],
         "type": "scatter",
         "x": [
          1.040756030888744,
          1.0640735630049376,
          1.0640735630049376,
          1.0586273259539156
         ],
         "xaxis": "x",
         "y": [
          -2590,
          -2590,
          -2827.34375,
          -2827.34375
         ],
         "yaxis": "y"
        },
        {
         "hoverinfo": "text",
         "marker": {
          "color": "rgb(40,35,35)"
         },
         "mode": "lines",
         "text": [
          "fox_fox news_news_press conferences_ratings",
          "",
          "",
          "tucker_carlson_tucker carlson_carlson tonight_host tucker"
         ],
         "type": "scatter",
         "x": [
          0,
          0.9442682600392588,
          0.9442682600392588,
          0
         ],
         "xaxis": "x",
         "y": [
          -3015,
          -3015,
          -3025,
          -3025
         ],
         "yaxis": "y"
        },
        {
         "hoverinfo": "text",
         "marker": {
          "color": "rgb(40,35,35)"
         },
         "mode": "lines",
         "text": [
          "rush_rush limbaugh_limbaugh_radio host_host rush",
          "",
          "",
          "tucker_carlson_tucker carlson_fox_fox news"
         ],
         "type": "scatter",
         "x": [
          0,
          0.9799318971092555,
          0.9799318971092555,
          0.9442682600392588
         ],
         "xaxis": "x",
         "y": [
          -3005,
          -3005,
          -3020,
          -3020
         ],
         "yaxis": "y"
        },
        {
         "hoverinfo": "text",
         "marker": {
          "color": "rgb(61,153,112)"
         },
         "mode": "lines",
         "text": [
          "clooney_george clooney_actor george_convict trump_george",
          "",
          "",
          "liber_queman boletas_la salud_motociclistas se_pelosi alcalde"
         ],
         "type": "scatter",
         "x": [
          0,
          0.9337865215980778,
          0.9337865215980778,
          0
         ],
         "xaxis": "x",
         "y": [
          -3035,
          -3035,
          -3045,
          -3045
         ],
         "yaxis": "y"
        },
        {
         "hoverinfo": "text",
         "marker": {
          "color": "rgb(255,65,54)"
         },
         "mode": "lines",
         "text": [
          "pence_mike pence_president mike_mike_vice president",
          "",
          "",
          "ppe_nhs_ok isnt_issues faced_jeremycorbyn"
         ],
         "type": "scatter",
         "x": [
          0,
          0.972849854243064,
          0.972849854243064,
          0
         ],
         "xaxis": "x",
         "y": [
          -3055,
          -3055,
          -3065,
          -3065
         ],
         "yaxis": "y"
        },
        {
         "hoverinfo": "text",
         "marker": {
          "color": "rgb(0,116,217)"
         },
         "mode": "lines",
         "text": [
          "george clooney_clooney_actor george_george_convict trump",
          "",
          "",
          "ppe_nhs_ok isnt_issues faced_jeremycorbyn"
         ],
         "type": "scatter",
         "x": [
          0.9337865215980778,
          1.014712500992929,
          1.014712500992929,
          0.972849854243064
         ],
         "xaxis": "x",
         "y": [
          -3040,
          -3040,
          -3060,
          -3060
         ],
         "yaxis": "y"
        },
        {
         "hoverinfo": "text",
         "marker": {
          "color": "rgb(0,116,217)"
         },
         "mode": "lines",
         "text": [
          "rush_rush limbaugh_limbaugh_tucker_carlson",
          "",
          "",
          "ppe_nhs_ok isnt_issues faced_jeremycorbyn"
         ],
         "type": "scatter",
         "x": [
          0.9799318971092555,
          1.0560427580034448,
          1.0560427580034448,
          1.014712500992929
         ],
         "xaxis": "x",
         "y": [
          -3012.5,
          -3012.5,
          -3050,
          -3050
         ],
         "yaxis": "y"
        },
        {
         "hoverinfo": "text",
         "marker": {
          "color": "rgb(0,116,217)"
         },
         "mode": "lines",
         "text": [
          "rush_rush limbaugh_limbaugh_tucker_carlson",
          "",
          "",
          "ppe_nhs_ok isnt_issues faced_jeremycorbyn"
         ],
         "type": "scatter",
         "x": [
          1.0640735630049376,
          1.067110453651425,
          1.067110453651425,
          1.0560427580034448
         ],
         "xaxis": "x",
         "y": [
          -2708.671875,
          -2708.671875,
          -3031.25,
          -3031.25
         ],
         "yaxis": "y"
        },
        {
         "hoverinfo": "text",
         "marker": {
          "color": "rgb(0,116,217)"
         },
         "mode": "lines",
         "text": [
          "rush_rush limbaugh_limbaugh_tucker_carlson",
          "",
          "",
          "ppe_nhs_ok isnt_issues faced_jeremycorbyn"
         ],
         "type": "scatter",
         "x": [
          1.0528900090350504,
          1.0806458718331926,
          1.0806458718331926,
          1.067110453651425
         ],
         "xaxis": "x",
         "y": [
          -2523.75,
          -2523.75,
          -2869.9609375,
          -2869.9609375
         ],
         "yaxis": "y"
        },
        {
         "hoverinfo": "text",
         "marker": {
          "color": "rgb(0,116,217)"
         },
         "mode": "lines",
         "text": [
          "gamestop_robinhood_gme_stock_shares",
          "",
          "",
          "ppe_nhs_ok isnt_issues faced_jeremycorbyn"
         ],
         "type": "scatter",
         "x": [
          0.973626461733678,
          1.0903163128939044,
          1.0903163128939044,
          1.0806458718331926
         ],
         "xaxis": "x",
         "y": [
          -2487.5,
          -2487.5,
          -2696.85546875,
          -2696.85546875
         ],
         "yaxis": "y"
        },
        {
         "hoverinfo": "text",
         "marker": {
          "color": "rgb(35,205,205)"
         },
         "mode": "lines",
         "text": [
          "race theory_critical race_race_critical_theory",
          "",
          "",
          "white supremacy_graduation ceremonies_supremacy_ceremonies_columbia university"
         ],
         "type": "scatter",
         "x": [
          0,
          0.9038531573594943,
          0.9038531573594943,
          0
         ],
         "xaxis": "x",
         "y": [
          -3085,
          -3085,
          -3095,
          -3095
         ],
         "yaxis": "y"
        },
        {
         "hoverinfo": "text",
         "marker": {
          "color": "rgb(35,205,205)"
         },
         "mode": "lines",
         "text": [
          "juneteenth_holiday_federal holiday_juneteenth federal_juneteenth holiday",
          "",
          "",
          "race theory_critical race_race_critical_theory"
         ],
         "type": "scatter",
         "x": [
          0,
          0.9711625289554148,
          0.9711625289554148,
          0.9038531573594943
         ],
         "xaxis": "x",
         "y": [
          -3075,
          -3075,
          -3090,
          -3090
         ],
         "yaxis": "y"
        },
        {
         "hoverinfo": "text",
         "marker": {
          "color": "rgb(0,116,217)"
         },
         "mode": "lines",
         "text": [
          "juneteenth_holiday_federal holiday_juneteenth federal_juneteenth holiday",
          "",
          "",
          "race theory_critical race_race_critical_theory"
         ],
         "type": "scatter",
         "x": [
          1.0903163128939044,
          1.0920691858994678,
          1.0920691858994678,
          0.9711625289554148
         ],
         "xaxis": "x",
         "y": [
          -2592.177734375,
          -2592.177734375,
          -3082.5,
          -3082.5
         ],
         "yaxis": "y"
        },
        {
         "hoverinfo": "text",
         "marker": {
          "color": "rgb(61,153,112)"
         },
         "mode": "lines",
         "text": [
          "rape_hillary_hillary clinton_clinton died_need rape",
          "",
          "",
          "hillary clinton_clinton_hillary_guantanamo_military tribunal"
         ],
         "type": "scatter",
         "x": [
          0,
          0.8852991909158104,
          0.8852991909158104,
          0
         ],
         "xaxis": "x",
         "y": [
          -3105,
          -3105,
          -3115,
          -3115
         ],
         "yaxis": "y"
        },
        {
         "hoverinfo": "text",
         "marker": {
          "color": "rgb(255,65,54)"
         },
         "mode": "lines",
         "text": [
          "fbi_comey_investigation_page_strzok",
          "",
          "",
          "sessions_jeff sessions_witch hunt_witch_mueller"
         ],
         "type": "scatter",
         "x": [
          0,
          0.9317815168939345,
          0.9317815168939345,
          0
         ],
         "xaxis": "x",
         "y": [
          -3125,
          -3125,
          -3135,
          -3135
         ],
         "yaxis": "y"
        },
        {
         "hoverinfo": "text",
         "marker": {
          "color": "rgb(0,116,217)"
         },
         "mode": "lines",
         "text": [
          "hillary clinton_hillary_clinton_guantanamo_military tribunal",
          "",
          "",
          "sessions_jeff sessions_fbi_witch hunt_general jeff"
         ],
         "type": "scatter",
         "x": [
          0.8852991909158104,
          1.038478475351315,
          1.038478475351315,
          0.9317815168939345
         ],
         "xaxis": "x",
         "y": [
          -3110,
          -3110,
          -3130,
          -3130
         ],
         "yaxis": "y"
        },
        {
         "hoverinfo": "text",
         "marker": {
          "color": "rgb(0,116,217)"
         },
         "mode": "lines",
         "text": [
          "hillary clinton_hillary_clinton_guantanamo_military tribunal",
          "",
          "",
          "sessions_jeff sessions_fbi_witch hunt_general jeff"
         ],
         "type": "scatter",
         "x": [
          1.0920691858994678,
          1.1053829470753713,
          1.1053829470753713,
          1.038478475351315
         ],
         "xaxis": "x",
         "y": [
          -2837.3388671875,
          -2837.3388671875,
          -3120,
          -3120
         ],
         "yaxis": "y"
        },
        {
         "hoverinfo": "text",
         "marker": {
          "color": "rgb(0,116,217)"
         },
         "mode": "lines",
         "text": [
          "hillary clinton_hillary_clinton_guantanamo_military tribunal",
          "",
          "",
          "sessions_jeff sessions_fbi_witch hunt_general jeff"
         ],
         "type": "scatter",
         "x": [
          1.1069544006531995,
          1.11527855650596,
          1.11527855650596,
          1.1053829470753713
         ],
         "xaxis": "x",
         "y": [
          -1194.8642301559448,
          -1194.8642301559448,
          -2978.66943359375,
          -2978.66943359375
         ],
         "yaxis": "y"
        },
        {
         "hoverinfo": "text",
         "marker": {
          "color": "rgb(35,205,205)"
         },
         "mode": "lines",
         "text": [
          "pope_church_catholic_bishops_cardinal",
          "",
          "",
          "pope francis_pope_francis_parachute_health crisis"
         ],
         "type": "scatter",
         "x": [
          0,
          0.8856723902594628,
          0.8856723902594628,
          0
         ],
         "xaxis": "x",
         "y": [
          -3145,
          -3145,
          -3155,
          -3155
         ],
         "yaxis": "y"
        },
        {
         "hoverinfo": "text",
         "marker": {
          "color": "rgb(35,205,205)"
         },
         "mode": "lines",
         "text": [
          "pope_church_catholic_francis_bishops",
          "",
          "",
          "satanic_satanic ritual_satan_ritual_weeknds"
         ],
         "type": "scatter",
         "x": [
          0.8856723902594628,
          0.9527070524568462,
          0.9527070524568462,
          0
         ],
         "xaxis": "x",
         "y": [
          -3150,
          -3150,
          -3165,
          -3165
         ],
         "yaxis": "y"
        },
        {
         "hoverinfo": "text",
         "marker": {
          "color": "rgb(133,20,75)"
         },
         "mode": "lines",
         "text": [
          "holding bible_praying golden_evangelicals_golden_statue",
          "",
          "",
          "hitler_adolf_adolf hitler_york times_goebbels"
         ],
         "type": "scatter",
         "x": [
          0,
          0.917884495911752,
          0.917884495911752,
          0
         ],
         "xaxis": "x",
         "y": [
          -3175,
          -3175,
          -3185,
          -3185
         ],
         "yaxis": "y"
        },
        {
         "hoverinfo": "text",
         "marker": {
          "color": "rgb(255,220,0)"
         },
         "mode": "lines",
         "text": [
          "david rockefeller_father_castro_grandson_david",
          "",
          "",
          "trudeau_justin trudeau_justin_canadian_canadian pm"
         ],
         "type": "scatter",
         "x": [
          0,
          0.9355489639081043,
          0.9355489639081043,
          0
         ],
         "xaxis": "x",
         "y": [
          -3195,
          -3195,
          -3205,
          -3205
         ],
         "yaxis": "y"
        },
        {
         "hoverinfo": "text",
         "marker": {
          "color": "rgb(0,116,217)"
         },
         "mode": "lines",
         "text": [
          "hitler_adolf_adolf hitler_holding bible_praying golden",
          "",
          "",
          "trudeau_justin trudeau_justin_canadian_canadian pm"
         ],
         "type": "scatter",
         "x": [
          0.917884495911752,
          1.0367680869379667,
          1.0367680869379667,
          0.9355489639081043
         ],
         "xaxis": "x",
         "y": [
          -3180,
          -3180,
          -3200,
          -3200
         ],
         "yaxis": "y"
        },
        {
         "hoverinfo": "text",
         "marker": {
          "color": "rgb(0,116,217)"
         },
         "mode": "lines",
         "text": [
          "pope_church_catholic_francis_bishops",
          "",
          "",
          "trudeau_justin trudeau_hitler_justin_adolf"
         ],
         "type": "scatter",
         "x": [
          0.9527070524568462,
          1.0863220319523734,
          1.0863220319523734,
          1.0367680869379667
         ],
         "xaxis": "x",
         "y": [
          -3157.5,
          -3157.5,
          -3190,
          -3190
         ],
         "yaxis": "y"
        },
        {
         "hoverinfo": "text",
         "marker": {
          "color": "rgb(0,116,217)"
         },
         "mode": "lines",
         "text": [
          "pope_church_catholic_francis_bishops",
          "",
          "",
          "trudeau_justin trudeau_hitler_justin_adolf"
         ],
         "type": "scatter",
         "x": [
          1.11527855650596,
          1.1224006210919306,
          1.1224006210919306,
          1.0863220319523734
         ],
         "xaxis": "x",
         "y": [
          -2086.7668318748474,
          -2086.7668318748474,
          -3173.75,
          -3173.75
         ],
         "yaxis": "y"
        },
        {
         "hoverinfo": "text",
         "marker": {
          "color": "rgb(40,35,35)"
         },
         "mode": "lines",
         "text": [
          "student debt_debt_student_loans_initial reporting",
          "",
          "",
          "kenyas_billion_revenue_nigeria_debt"
         ],
         "type": "scatter",
         "x": [
          0,
          0.9586646566497182,
          0.9586646566497182,
          0
         ],
         "xaxis": "x",
         "y": [
          -3215,
          -3215,
          -3225,
          -3225
         ],
         "yaxis": "y"
        },
        {
         "hoverinfo": "text",
         "marker": {
          "color": "rgb(61,153,112)"
         },
         "mode": "lines",
         "text": [
          "revenue_transports_industry transports_revenue goes_fiscal deficit",
          "",
          "",
          "gdp_imf_growth_india 2020_imf predicts"
         ],
         "type": "scatter",
         "x": [
          0,
          0.9473192603472244,
          0.9473192603472244,
          0
         ],
         "xaxis": "x",
         "y": [
          -3235,
          -3235,
          -3245,
          -3245
         ],
         "yaxis": "y"
        },
        {
         "hoverinfo": "text",
         "marker": {
          "color": "rgb(0,116,217)"
         },
         "mode": "lines",
         "text": [
          "revenue_transports_industry transports_revenue goes_fiscal deficit",
          "",
          "",
          "gdp_growth_revenue_imf_gdp growth"
         ],
         "type": "scatter",
         "x": [
          0.9586646566497182,
          1.0003179552185237,
          1.0003179552185237,
          0.9473192603472244
         ],
         "xaxis": "x",
         "y": [
          -3220,
          -3220,
          -3240,
          -3240
         ],
         "yaxis": "y"
        },
        {
         "hoverinfo": "text",
         "marker": {
          "color": "rgb(255,65,54)"
         },
         "mode": "lines",
         "text": [
          "wage_minimum wage_minimum_15 minimum_raise minimum",
          "",
          "",
          "nhs_pay rise_pay_mps_nhs staff"
         ],
         "type": "scatter",
         "x": [
          0,
          0.9381849257690624,
          0.9381849257690624,
          0
         ],
         "xaxis": "x",
         "y": [
          -3255,
          -3255,
          -3265,
          -3265
         ],
         "yaxis": "y"
        },
        {
         "hoverinfo": "text",
         "marker": {
          "color": "rgb(35,205,205)"
         },
         "mode": "lines",
         "text": [
          "connected close_houses_45 million_seven years_households",
          "",
          "",
          "poverty_relative poverty_judith collins_judith_living relative"
         ],
         "type": "scatter",
         "x": [
          0,
          0.9462098933622556,
          0.9462098933622556,
          0
         ],
         "xaxis": "x",
         "y": [
          -3275,
          -3275,
          -3285,
          -3285
         ],
         "yaxis": "y"
        },
        {
         "hoverinfo": "text",
         "marker": {
          "color": "rgb(61,153,112)"
         },
         "mode": "lines",
         "text": [
          "jobs_unemployment_nativeborn_employment_million jobs",
          "",
          "",
          "deported_whites jobs_million mexican_mexico great_mexican americans"
         ],
         "type": "scatter",
         "x": [
          0,
          0.9705035156241435,
          0.9705035156241435,
          0
         ],
         "xaxis": "x",
         "y": [
          -3295,
          -3295,
          -3305,
          -3305
         ],
         "yaxis": "y"
        },
        {
         "hoverinfo": "text",
         "marker": {
          "color": "rgb(0,116,217)"
         },
         "mode": "lines",
         "text": [
          "poverty_relative poverty_judith collins_judith_living relative",
          "",
          "",
          "jobs_unemployment_nativeborn_employment_million jobs"
         ],
         "type": "scatter",
         "x": [
          0.9462098933622556,
          1.0088083320696848,
          1.0088083320696848,
          0.9705035156241435
         ],
         "xaxis": "x",
         "y": [
          -3280,
          -3280,
          -3300,
          -3300
         ],
         "yaxis": "y"
        },
        {
         "hoverinfo": "text",
         "marker": {
          "color": "rgb(0,116,217)"
         },
         "mode": "lines",
         "text": [
          "wage_minimum wage_minimum_nhs_pay",
          "",
          "",
          "jobs_unemployment_nativeborn_employment_million jobs"
         ],
         "type": "scatter",
         "x": [
          0.9381849257690624,
          1.0207115176899524,
          1.0207115176899524,
          1.0088083320696848
         ],
         "xaxis": "x",
         "y": [
          -3260,
          -3260,
          -3290,
          -3290
         ],
         "yaxis": "y"
        },
        {
         "hoverinfo": "text",
         "marker": {
          "color": "rgb(0,116,217)"
         },
         "mode": "lines",
         "text": [
          "wage_minimum wage_minimum_nhs_pay",
          "",
          "",
          "jobs_unemployment_nativeborn_employment_million jobs"
         ],
         "type": "scatter",
         "x": [
          1.0003179552185237,
          1.0423282416240747,
          1.0423282416240747,
          1.0207115176899524
         ],
         "xaxis": "x",
         "y": [
          -3230,
          -3230,
          -3275,
          -3275
         ],
         "yaxis": "y"
        },
        {
         "hoverinfo": "text",
         "marker": {
          "color": "rgb(255,65,54)"
         },
         "mode": "lines",
         "text": [
          "eu_imports_billion_trade_trade deal",
          "",
          "",
          "boris johnson_boris_johnson_compulsory vasectomy_vasectomy"
         ],
         "type": "scatter",
         "x": [
          0,
          0.9535065499632733,
          0.9535065499632733,
          0
         ],
         "xaxis": "x",
         "y": [
          -3325,
          -3325,
          -3335,
          -3335
         ],
         "yaxis": "y"
        },
        {
         "hoverinfo": "text",
         "marker": {
          "color": "rgb(255,65,54)"
         },
         "mode": "lines",
         "text": [
          "scottish_snp_nicola_scottish independence_uk corona",
          "",
          "",
          "eu_boris johnson_boris_johnson_imports"
         ],
         "type": "scatter",
         "x": [
          0,
          0.965654834954882,
          0.965654834954882,
          0.9535065499632733
         ],
         "xaxis": "x",
         "y": [
          -3315,
          -3315,
          -3330,
          -3330
         ],
         "yaxis": "y"
        },
        {
         "hoverinfo": "text",
         "marker": {
          "color": "rgb(0,116,217)"
         },
         "mode": "lines",
         "text": [
          "scottish_snp_nicola_scottish independence_uk corona",
          "",
          "",
          "eu_boris johnson_boris_scottish_snp"
         ],
         "type": "scatter",
         "x": [
          1.0423282416240747,
          1.0551519009666392,
          1.0551519009666392,
          0.965654834954882
         ],
         "xaxis": "x",
         "y": [
          -3252.5,
          -3252.5,
          -3322.5,
          -3322.5
         ],
         "yaxis": "y"
        },
        {
         "hoverinfo": "text",
         "marker": {
          "color": "rgb(0,116,217)"
         },
         "mode": "lines",
         "text": [
          "scottish_snp_nicola_scottish independence_uk corona",
          "",
          "",
          "eu_boris johnson_boris_scottish_snp"
         ],
         "type": "scatter",
         "x": [
          1.1224006210919306,
          1.130957008689002,
          1.130957008689002,
          1.0551519009666392
         ],
         "xaxis": "x",
         "y": [
          -2630.2584159374237,
          -2630.2584159374237,
          -3287.5,
          -3287.5
         ],
         "yaxis": "y"
        },
        {
         "hoverinfo": "text",
         "marker": {
          "color": "rgb(0,116,217)"
         },
         "mode": "lines",
         "text": [
          "scottish_snp_nicola_scottish independence_uk corona",
          "",
          "",
          "eu_boris johnson_boris_scottish_snp"
         ],
         "type": "scatter",
         "x": [
          1.1276273382838766,
          1.1425704966625156,
          1.1425704966625156,
          1.130957008689002
         ],
         "xaxis": "x",
         "y": [
          -769.6875,
          -769.6875,
          -2958.879207968712,
          -2958.879207968712
         ],
         "yaxis": "y"
        },
        {
         "hoverinfo": "text",
         "marker": {
          "color": "rgb(35,205,205)"
         },
         "mode": "lines",
         "text": [
          "paddock_ammunition_haigs_stephen paddock_mandalay bay",
          "",
          "",
          "vegas_las vegas_las_music festival_festival"
         ],
         "type": "scatter",
         "x": [
          0,
          0.8928907861444337,
          0.8928907861444337,
          0
         ],
         "xaxis": "x",
         "y": [
          -3345,
          -3345,
          -3355,
          -3355
         ],
         "yaxis": "y"
        },
        {
         "hoverinfo": "text",
         "marker": {
          "color": "rgb(35,205,205)"
         },
         "mode": "lines",
         "text": [
          "paddock_vegas_las vegas_las_shooting",
          "",
          "",
          "bora_giveaways_giveaway_prizes_facebook"
         ],
         "type": "scatter",
         "x": [
          0.8928907861444337,
          0.9648884600686812,
          0.9648884600686812,
          0
         ],
         "xaxis": "x",
         "y": [
          -3350,
          -3350,
          -3365,
          -3365
         ],
         "yaxis": "y"
        },
        {
         "hoverinfo": "text",
         "marker": {
          "color": "rgb(133,20,75)"
         },
         "mode": "lines",
         "text": [
          "trumps facebook_removed title_designated political_political candidate_title president",
          "",
          "",
          "facebook_page_users_facebooks_posts"
         ],
         "type": "scatter",
         "x": [
          0,
          0.8938785993059016,
          0.8938785993059016,
          0
         ],
         "xaxis": "x",
         "y": [
          -3375,
          -3375,
          -3385,
          -3385
         ],
         "yaxis": "y"
        },
        {
         "hoverinfo": "text",
         "marker": {
          "color": "rgb(133,20,75)"
         },
         "mode": "lines",
         "text": [
          "facebook_page_facebook page_users_facebooks",
          "",
          "",
          "lords prayer_lords_prayer_prayer request_prayer facebook"
         ],
         "type": "scatter",
         "x": [
          0.8938785993059016,
          0.9763717226528371,
          0.9763717226528371,
          0
         ],
         "xaxis": "x",
         "y": [
          -3380,
          -3380,
          -3395,
          -3395
         ],
         "yaxis": "y"
        },
        {
         "hoverinfo": "text",
         "marker": {
          "color": "rgb(255,220,0)"
         },
         "mode": "lines",
         "text": [
          "jio offering_recharge_data_free_jio",
          "",
          "",
          "jio_tower_mobile tower_jio mobile_reliance"
         ],
         "type": "scatter",
         "x": [
          0,
          0.9291364192956778,
          0.9291364192956778,
          0
         ],
         "xaxis": "x",
         "y": [
          -3405,
          -3405,
          -3415,
          -3415
         ],
         "yaxis": "y"
        },
        {
         "hoverinfo": "text",
         "marker": {
          "color": "rgb(40,35,35)"
         },
         "mode": "lines",
         "text": [
          "mukesh_mukesh ambani_ambani_amarinder_amarinder singh",
          "",
          "",
          "whatsapp_hack phone_hack_phone_changed privacy"
         ],
         "type": "scatter",
         "x": [
          0,
          0.9583520605754613,
          0.9583520605754613,
          0
         ],
         "xaxis": "x",
         "y": [
          -3425,
          -3425,
          -3435,
          -3435
         ],
         "yaxis": "y"
        },
        {
         "hoverinfo": "text",
         "marker": {
          "color": "rgb(61,153,112)"
         },
         "mode": "lines",
         "text": [
          "app_android_covidsafe_tracing_contacttracing",
          "",
          "",
          "google maps_maps_google_update_map"
         ],
         "type": "scatter",
         "x": [
          0,
          0.9753303998277475,
          0.9753303998277475,
          0
         ],
         "xaxis": "x",
         "y": [
          -3445,
          -3445,
          -3455,
          -3455
         ],
         "yaxis": "y"
        },
        {
         "hoverinfo": "text",
         "marker": {
          "color": "rgb(0,116,217)"
         },
         "mode": "lines",
         "text": [
          "whatsapp_mukesh_mukesh ambani_ambani_hack phone",
          "",
          "",
          "app_covidsafe_android_google maps_google"
         ],
         "type": "scatter",
         "x": [
          0.9583520605754613,
          1.005845451682813,
          1.005845451682813,
          0.9753303998277475
         ],
         "xaxis": "x",
         "y": [
          -3430,
          -3430,
          -3450,
          -3450
         ],
         "yaxis": "y"
        },
        {
         "hoverinfo": "text",
         "marker": {
          "color": "rgb(0,116,217)"
         },
         "mode": "lines",
         "text": [
          "jio_recharge_tower_jio offering_free recharge",
          "",
          "",
          "app_covidsafe_android_google maps_google"
         ],
         "type": "scatter",
         "x": [
          0.9291364192956778,
          1.0291957580225275,
          1.0291957580225275,
          1.005845451682813
         ],
         "xaxis": "x",
         "y": [
          -3410,
          -3410,
          -3440,
          -3440
         ],
         "yaxis": "y"
        },
        {
         "hoverinfo": "text",
         "marker": {
          "color": "rgb(255,65,54)"
         },
         "mode": "lines",
         "text": [
          "trace_test trace_trace cost_test_cost",
          "",
          "",
          "selfisolate_selfisolation_research shows_11 people_zero hours"
         ],
         "type": "scatter",
         "x": [
          0,
          0.912911175366028,
          0.912911175366028,
          0
         ],
         "xaxis": "x",
         "y": [
          -3465,
          -3465,
          -3475,
          -3475
         ],
         "yaxis": "y"
        },
        {
         "hoverinfo": "text",
         "marker": {
          "color": "rgb(0,116,217)"
         },
         "mode": "lines",
         "text": [
          "trace_test trace_trace cost_test_cost",
          "",
          "",
          "trace_test trace_test_trace cost_cost"
         ],
         "type": "scatter",
         "x": [
          1.0291957580225275,
          1.065997971729884,
          1.065997971729884,
          0.912911175366028
         ],
         "xaxis": "x",
         "y": [
          -3425,
          -3425,
          -3470,
          -3470
         ],
         "yaxis": "y"
        },
        {
         "hoverinfo": "text",
         "marker": {
          "color": "rgb(0,116,217)"
         },
         "mode": "lines",
         "text": [
          "facebook_page_facebook page_users_facebooks",
          "",
          "",
          "trace_test trace_test_trace cost_cost"
         ],
         "type": "scatter",
         "x": [
          0.9763717226528371,
          1.0864124879140618,
          1.0864124879140618,
          1.065997971729884
         ],
         "xaxis": "x",
         "y": [
          -3387.5,
          -3387.5,
          -3447.5,
          -3447.5
         ],
         "yaxis": "y"
        },
        {
         "hoverinfo": "text",
         "marker": {
          "color": "rgb(0,116,217)"
         },
         "mode": "lines",
         "text": [
          "vegas_paddock_las vegas_las_shooting",
          "",
          "",
          "trace_test trace_test_trace cost_cost"
         ],
         "type": "scatter",
         "x": [
          0.9648884600686812,
          1.1037658243836614,
          1.1037658243836614,
          1.0864124879140618
         ],
         "xaxis": "x",
         "y": [
          -3357.5,
          -3357.5,
          -3417.5,
          -3417.5
         ],
         "yaxis": "y"
        },
        {
         "hoverinfo": "text",
         "marker": {
          "color": "rgb(35,205,205)"
         },
         "mode": "lines",
         "text": [
          "anniversary_coupon_pizza_giving away_dominos",
          "",
          "",
          "chickfila_chickfila giving_chain_meals_giving away"
         ],
         "type": "scatter",
         "x": [
          0,
          0.8730622094781784,
          0.8730622094781784,
          0
         ],
         "xaxis": "x",
         "y": [
          -3485,
          -3485,
          -3495,
          -3495
         ],
         "yaxis": "y"
        },
        {
         "hoverinfo": "text",
         "marker": {
          "color": "rgb(35,205,205)"
         },
         "mode": "lines",
         "text": [
          "mcdonalds_tuna_burgers_chicken_tiktok",
          "",
          "",
          "cheesecake factory_2020 cheesecake_cheesecake_factory_closing"
         ],
         "type": "scatter",
         "x": [
          0,
          0.9548513136514334,
          0.9548513136514334,
          0
         ],
         "xaxis": "x",
         "y": [
          -3505,
          -3505,
          -3515,
          -3515
         ],
         "yaxis": "y"
        },
        {
         "hoverinfo": "text",
         "marker": {
          "color": "rgb(35,205,205)"
         },
         "mode": "lines",
         "text": [
          "anniversary_coupon_pizza_giving away_offering",
          "",
          "",
          "cheesecake factory_2020 cheesecake_cheesecake_factory_closing"
         ],
         "type": "scatter",
         "x": [
          0.8730622094781784,
          0.9877719277774567,
          0.9877719277774567,
          0.9548513136514334
         ],
         "xaxis": "x",
         "y": [
          -3490,
          -3490,
          -3510,
          -3510
         ],
         "yaxis": "y"
        },
        {
         "hoverinfo": "text",
         "marker": {
          "color": "rgb(0,116,217)"
         },
         "mode": "lines",
         "text": [
          "anniversary_coupon_pizza_giving away_offering",
          "",
          "",
          "cheesecake factory_2020 cheesecake_cheesecake_factory_closing"
         ],
         "type": "scatter",
         "x": [
          1.1037658243836614,
          1.1266047121240241,
          1.1266047121240241,
          0.9877719277774567
         ],
         "xaxis": "x",
         "y": [
          -3387.5,
          -3387.5,
          -3500,
          -3500
         ],
         "yaxis": "y"
        },
        {
         "hoverinfo": "text",
         "marker": {
          "color": "rgb(0,116,217)"
         },
         "mode": "lines",
         "text": [
          "anniversary_coupon_pizza_giving away_offering",
          "",
          "",
          "cheesecake factory_2020 cheesecake_cheesecake_factory_closing"
         ],
         "type": "scatter",
         "x": [
          1.1425704966625156,
          1.1492387986229982,
          1.1492387986229982,
          1.1266047121240241
         ],
         "xaxis": "x",
         "y": [
          -1864.283353984356,
          -1864.283353984356,
          -3443.75,
          -3443.75
         ],
         "yaxis": "y"
        },
        {
         "hoverinfo": "text",
         "marker": {
          "color": "rgb(0,116,217)"
         },
         "mode": "lines",
         "text": [
          "anniversary_coupon_pizza_giving away_offering",
          "",
          "",
          "cheesecake factory_2020 cheesecake_cheesecake_factory_closing"
         ],
         "type": "scatter",
         "x": [
          1.1539143601240016,
          1.171625001715567,
          1.171625001715567,
          1.1492387986229982
         ],
         "xaxis": "x",
         "y": [
          -635.3125,
          -635.3125,
          -2654.016676992178,
          -2654.016676992178
         ],
         "yaxis": "y"
        },
        {
         "hoverinfo": "text",
         "marker": {
          "color": "rgb(61,153,112)"
         },
         "mode": "lines",
         "text": [
          "yadavs_sushant singh_sushant_singh rajput_rajput",
          "",
          "",
          "sushant_sushant singh_singh_ranaut_singh rajput"
         ],
         "type": "scatter",
         "x": [
          0,
          0.7794983209256614,
          0.7794983209256614,
          0
         ],
         "xaxis": "x",
         "y": [
          -3525,
          -3525,
          -3535,
          -3535
         ],
         "yaxis": "y"
        },
        {
         "hoverinfo": "text",
         "marker": {
          "color": "rgb(0,116,217)"
         },
         "mode": "lines",
         "text": [
          "yadavs_sushant singh_sushant_singh rajput_rajput",
          "",
          "",
          "sushant_sushant singh_singh_singh rajput_rajput"
         ],
         "type": "scatter",
         "x": [
          1.171625001715567,
          1.1772931275214138,
          1.1772931275214138,
          0.7794983209256614
         ],
         "xaxis": "x",
         "y": [
          -1644.664588496089,
          -1644.664588496089,
          -3530,
          -3530
         ],
         "yaxis": "y"
        },
        {
         "hoverinfo": "text",
         "marker": {
          "color": "rgb(0,116,217)"
         },
         "mode": "lines",
         "text": [
          "yadavs_sushant singh_sushant_singh rajput_rajput",
          "",
          "",
          "sushant_sushant singh_singh_singh rajput_rajput"
         ],
         "type": "scatter",
         "x": [
          1.150917009396045,
          1.180384571846773,
          1.180384571846773,
          1.1772931275214138
         ],
         "xaxis": "x",
         "y": [
          -494.6875,
          -494.6875,
          -2587.3322942480445,
          -2587.3322942480445
         ],
         "yaxis": "y"
        },
        {
         "hoverinfo": "text",
         "marker": {
          "color": "rgb(0,116,217)"
         },
         "mode": "lines",
         "text": [
          "yadavs_sushant singh_sushant_singh rajput_rajput",
          "",
          "",
          "sushant_sushant singh_singh_singh rajput_rajput"
         ],
         "type": "scatter",
         "x": [
          1.1802118623243123,
          1.1968322170602848,
          1.1968322170602848,
          1.180384571846773
         ],
         "xaxis": "x",
         "y": [
          -408.125,
          -408.125,
          -1541.0098971240222,
          -1541.0098971240222
         ],
         "yaxis": "y"
        },
        {
         "hoverinfo": "text",
         "marker": {
          "color": "rgb(0,116,217)"
         },
         "mode": "lines",
         "text": [
          "yadavs_sushant singh_sushant_singh rajput_rajput",
          "",
          "",
          "sushant_sushant singh_singh_singh rajput_rajput"
         ],
         "type": "scatter",
         "x": [
          1.1591065108842304,
          1.20374841538641,
          1.20374841538641,
          1.1968322170602848
         ],
         "xaxis": "x",
         "y": [
          -327.5,
          -327.5,
          -974.5674485620111,
          -974.5674485620111
         ],
         "yaxis": "y"
        },
        {
         "hoverinfo": "text",
         "marker": {
          "color": "rgb(255,65,54)"
         },
         "mode": "lines",
         "text": [
          "new zealand_zealand_2020 new_imprisoned vaccinated_contactless payments",
          "",
          "",
          "new zealand_zealand_jacinda ardern_jacinda_ardern"
         ],
         "type": "scatter",
         "x": [
          0,
          0.8667422025044149,
          0.8667422025044149,
          0
         ],
         "xaxis": "x",
         "y": [
          -3545,
          -3545,
          -3555,
          -3555
         ],
         "yaxis": "y"
        },
        {
         "hoverinfo": "text",
         "marker": {
          "color": "rgb(255,65,54)"
         },
         "mode": "lines",
         "text": [
          "zealand_new zealand_jacinda ardern_ardern_jacinda",
          "",
          "",
          "right grow_grow food_trout_food new_new zealand"
         ],
         "type": "scatter",
         "x": [
          0.8667422025044149,
          0.9267884555664856,
          0.9267884555664856,
          0
         ],
         "xaxis": "x",
         "y": [
          -3550,
          -3550,
          -3565,
          -3565
         ],
         "yaxis": "y"
        },
        {
         "hoverinfo": "text",
         "marker": {
          "color": "rgb(255,65,54)"
         },
         "mode": "lines",
         "text": [
          "zealand_new zealand_jacinda ardern_ardern_jacinda",
          "",
          "",
          "social media_censorship_radio new_comments social_government told"
         ],
         "type": "scatter",
         "x": [
          0.9267884555664856,
          0.9476614172694551,
          0.9476614172694551,
          0
         ],
         "xaxis": "x",
         "y": [
          -3557.5,
          -3557.5,
          -3575,
          -3575
         ],
         "yaxis": "y"
        },
        {
         "hoverinfo": "text",
         "marker": {
          "color": "rgb(0,116,217)"
         },
         "mode": "lines",
         "text": [
          "zealand_new zealand_jacinda ardern_ardern_jacinda",
          "",
          "",
          "zealand_new zealand_jacinda ardern_ardern_jacinda"
         ],
         "type": "scatter",
         "x": [
          1.20374841538641,
          1.2111843611041704,
          1.2111843611041704,
          0.9476614172694551
         ],
         "xaxis": "x",
         "y": [
          -651.0337242810056,
          -651.0337242810056,
          -3566.25,
          -3566.25
         ],
         "yaxis": "y"
        },
        {
         "hoverinfo": "text",
         "marker": {
          "color": "rgb(0,116,217)"
         },
         "mode": "lines",
         "text": [
          "kavanaugh_amy coney_coney_judge_barrett",
          "",
          "",
          "zealand_new zealand_jacinda ardern_ardern_jacinda"
         ],
         "type": "scatter",
         "x": [
          0.9334838578629707,
          1.2333521874441828,
          1.2333521874441828,
          1.2111843611041704
         ],
         "xaxis": "x",
         "y": [
          -287.5,
          -287.5,
          -2108.641862140503,
          -2108.641862140503
         ],
         "yaxis": "y"
        },
        {
         "hoverinfo": "text",
         "marker": {
          "color": "rgb(35,205,205)"
         },
         "mode": "lines",
         "text": [
          "defund police_defund_defunded police_defunding police_defunded",
          "",
          "",
          "police_baltimore_chicago_crime_police police"
         ],
         "type": "scatter",
         "x": [
          0,
          0.92084369577423,
          0.92084369577423,
          0
         ],
         "xaxis": "x",
         "y": [
          -3585,
          -3585,
          -3595,
          -3595
         ],
         "yaxis": "y"
        },
        {
         "hoverinfo": "text",
         "marker": {
          "color": "rgb(133,20,75)"
         },
         "mode": "lines",
         "text": [
          "daunte_daunte wright_wright_air freshener_freshener",
          "",
          "",
          "cops_suspect_white men_killed_white"
         ],
         "type": "scatter",
         "x": [
          0,
          0.9428172364041263,
          0.9428172364041263,
          0
         ],
         "xaxis": "x",
         "y": [
          -3605,
          -3605,
          -3615,
          -3615
         ],
         "yaxis": "y"
        },
        {
         "hoverinfo": "text",
         "marker": {
          "color": "rgb(133,20,75)"
         },
         "mode": "lines",
         "text": [
          "makhia_makhia bryant_bryant_columbus_columbus police",
          "",
          "",
          "adam toledo_toledo_chicago_adam_chicago police"
         ],
         "type": "scatter",
         "x": [
          0,
          0.9224830735412981,
          0.9224830735412981,
          0
         ],
         "xaxis": "x",
         "y": [
          -3625,
          -3625,
          -3635,
          -3635
         ],
         "yaxis": "y"
        },
        {
         "hoverinfo": "text",
         "marker": {
          "color": "rgb(133,20,75)"
         },
         "mode": "lines",
         "text": [
          "daunte_daunte wright_wright_freshener_air freshener",
          "",
          "",
          "makhia_makhia bryant_bryant_toledo_adam toledo"
         ],
         "type": "scatter",
         "x": [
          0.9428172364041263,
          0.9639344765680632,
          0.9639344765680632,
          0.9224830735412981
         ],
         "xaxis": "x",
         "y": [
          -3610,
          -3610,
          -3630,
          -3630
         ],
         "yaxis": "y"
        },
        {
         "hoverinfo": "text",
         "marker": {
          "color": "rgb(0,116,217)"
         },
         "mode": "lines",
         "text": [
          "defund police_police_defund_defunded police_crime",
          "",
          "",
          "daunte_daunte wright_wright_air freshener_freshener"
         ],
         "type": "scatter",
         "x": [
          0.92084369577423,
          1.0444094933765142,
          1.0444094933765142,
          0.9639344765680632
         ],
         "xaxis": "x",
         "y": [
          -3590,
          -3590,
          -3620,
          -3620
         ],
         "yaxis": "y"
        },
        {
         "hoverinfo": "text",
         "marker": {
          "color": "rgb(255,220,0)"
         },
         "mode": "lines",
         "text": [
          "2021 photograph_photograph_swastika flag_jan 2021_nazi",
          "",
          "",
          "sicknick_brian sicknick_ashli_officer_police officer"
         ],
         "type": "scatter",
         "x": [
          0,
          0.9439120633177254,
          0.9439120633177254,
          0
         ],
         "xaxis": "x",
         "y": [
          -3645,
          -3645,
          -3655,
          -3655
         ],
         "yaxis": "y"
        },
        {
         "hoverinfo": "text",
         "marker": {
          "color": "rgb(255,220,0)"
         },
         "mode": "lines",
         "text": [
          "insurrection_capitol_6th_january 6th_attack",
          "",
          "",
          "capitol_jan_arrested_people arrested_feb 2021"
         ],
         "type": "scatter",
         "x": [
          0,
          0.890366532378845,
          0.890366532378845,
          0
         ],
         "xaxis": "x",
         "y": [
          -3665,
          -3665,
          -3675,
          -3675
         ],
         "yaxis": "y"
        },
        {
         "hoverinfo": "text",
         "marker": {
          "color": "rgb(255,220,0)"
         },
         "mode": "lines",
         "text": [
          "insurrection_capitol_6th_january 6th_attack",
          "",
          "",
          "insurrection_capitol_jan_6th_january 6th"
         ],
         "type": "scatter",
         "x": [
          0.9439120633177254,
          0.9586130559403477,
          0.9586130559403477,
          0.890366532378845
         ],
         "xaxis": "x",
         "y": [
          -3650,
          -3650,
          -3670,
          -3670
         ],
         "yaxis": "y"
        },
        {
         "hoverinfo": "text",
         "marker": {
          "color": "rgb(40,35,35)"
         },
         "mode": "lines",
         "text": [
          "aoc_alexandriaocasiosmollett_wasnt capitol_alexandriaocasiosmollett aoc_aoc wasnt",
          "",
          "",
          "aoc_stormed hallway_insurrectionists stormed_nancymace_hallway"
         ],
         "type": "scatter",
         "x": [
          0,
          0.9422216077143958,
          0.9422216077143958,
          0
         ],
         "xaxis": "x",
         "y": [
          -3685,
          -3685,
          -3695,
          -3695
         ],
         "yaxis": "y"
        },
        {
         "hoverinfo": "text",
         "marker": {
          "color": "rgb(0,116,217)"
         },
         "mode": "lines",
         "text": [
          "capitol_insurrection_sicknick_jan_capitol police",
          "",
          "",
          "aoc_alexandriaocasiosmollett_wasnt capitol_building_alexandriaocasiosmollett aoc"
         ],
         "type": "scatter",
         "x": [
          0.9586130559403477,
          1.0218027749833378,
          1.0218027749833378,
          0.9422216077143958
         ],
         "xaxis": "x",
         "y": [
          -3660,
          -3660,
          -3690,
          -3690
         ],
         "yaxis": "y"
        },
        {
         "hoverinfo": "text",
         "marker": {
          "color": "rgb(0,116,217)"
         },
         "mode": "lines",
         "text": [
          "capitol_insurrection_sicknick_jan_capitol police",
          "",
          "",
          "aoc_alexandriaocasiosmollett_wasnt capitol_building_alexandriaocasiosmollett aoc"
         ],
         "type": "scatter",
         "x": [
          1.0444094933765142,
          1.1231889553890544,
          1.1231889553890544,
          1.0218027749833378
         ],
         "xaxis": "x",
         "y": [
          -3605,
          -3605,
          -3675,
          -3675
         ],
         "yaxis": "y"
        },
        {
         "hoverinfo": "text",
         "marker": {
          "color": "rgb(61,153,112)"
         },
         "mode": "lines",
         "text": [
          "antifa_capitol_antifa members_antifa terrorist_trump supporters",
          "",
          "",
          "antifa_shows antifa_antifa activist_antifa activists_batman"
         ],
         "type": "scatter",
         "x": [
          0,
          0.8040690200949576,
          0.8040690200949576,
          0
         ],
         "xaxis": "x",
         "y": [
          -3705,
          -3705,
          -3715,
          -3715
         ],
         "yaxis": "y"
        },
        {
         "hoverinfo": "text",
         "marker": {
          "color": "rgb(61,153,112)"
         },
         "mode": "lines",
         "text": [
          "antifa_capitol_antifa activists_activists_trump supporters",
          "",
          "",
          "portland_antifa_portland oregon_oregon_portlandriots"
         ],
         "type": "scatter",
         "x": [
          0.8040690200949576,
          0.9064867705723691,
          0.9064867705723691,
          0
         ],
         "xaxis": "x",
         "y": [
          -3710,
          -3710,
          -3725,
          -3725
         ],
         "yaxis": "y"
        },
        {
         "hoverinfo": "text",
         "marker": {
          "color": "rgb(0,116,217)"
         },
         "mode": "lines",
         "text": [
          "antifa_capitol_antifa activists_activists_trump supporters",
          "",
          "",
          "antifa_portland_capitol_antifa activists_antifa members"
         ],
         "type": "scatter",
         "x": [
          1.1231889553890544,
          1.1617504775135221,
          1.1617504775135221,
          0.9064867705723691
         ],
         "xaxis": "x",
         "y": [
          -3640,
          -3640,
          -3717.5,
          -3717.5
         ],
         "yaxis": "y"
        },
        {
         "hoverinfo": "text",
         "marker": {
          "color": "rgb(0,116,217)"
         },
         "mode": "lines",
         "text": [
          "antifa_capitol_antifa activists_activists_trump supporters",
          "",
          "",
          "antifa_portland_capitol_antifa activists_antifa members"
         ],
         "type": "scatter",
         "x": [
          1.2333521874441828,
          1.2595601698498042,
          1.2595601698498042,
          1.1617504775135221
         ],
         "xaxis": "x",
         "y": [
          -1198.0709310702514,
          -1198.0709310702514,
          -3678.75,
          -3678.75
         ],
         "yaxis": "y"
        },
        {
         "hoverinfo": "text",
         "marker": {
          "color": "rgb(0,116,217)"
         },
         "mode": "lines",
         "text": [
          "antifa_capitol_antifa activists_activists_trump supporters",
          "",
          "",
          "antifa_portland_capitol_antifa activists_antifa members"
         ],
         "type": "scatter",
         "x": [
          1.2245974745526935,
          1.3016961169760708,
          1.3016961169760708,
          1.2595601698498042
         ],
         "xaxis": "x",
         "y": [
          -195,
          -195,
          -2438.4104655351257,
          -2438.4104655351257
         ],
         "yaxis": "y"
        },
        {
         "hoverinfo": "text",
         "marker": {
          "color": "rgb(255,65,54)"
         },
         "mode": "lines",
         "text": [
          "black lives_lives matter_matter_lives_black",
          "",
          "",
          "lives matter_black lives_million black_matter_lives"
         ],
         "type": "scatter",
         "x": [
          0,
          0.655547364264427,
          0.655547364264427,
          0
         ],
         "xaxis": "x",
         "y": [
          -3745,
          -3745,
          -3755,
          -3755
         ],
         "yaxis": "y"
        },
        {
         "hoverinfo": "text",
         "marker": {
          "color": "rgb(255,65,54)"
         },
         "mode": "lines",
         "text": [
          "shirts_tshirt_wetherspoon_poppy_black lives",
          "",
          "",
          "lives matter_black lives_matter_lives_black"
         ],
         "type": "scatter",
         "x": [
          0,
          0.9017161966951356,
          0.9017161966951356,
          0.655547364264427
         ],
         "xaxis": "x",
         "y": [
          -3735,
          -3735,
          -3750,
          -3750
         ],
         "yaxis": "y"
        },
        {
         "hoverinfo": "text",
         "marker": {
          "color": "rgb(0,116,217)"
         },
         "mode": "lines",
         "text": [
          "shirts_tshirt_wetherspoon_poppy_black lives",
          "",
          "",
          "black lives_lives matter_matter_lives_black"
         ],
         "type": "scatter",
         "x": [
          1.3016961169760708,
          1.3129366966800973,
          1.3129366966800973,
          0.9017161966951356
         ],
         "xaxis": "x",
         "y": [
          -1316.7052327675628,
          -1316.7052327675628,
          -3742.5,
          -3742.5
         ],
         "yaxis": "y"
        },
        {
         "hoverinfo": "text",
         "marker": {
          "color": "rgb(0,116,217)"
         },
         "mode": "lines",
         "text": [
          "writing note_jump try_note tweet_like jump_welcome birdwatch",
          "",
          "",
          "black lives_lives matter_matter_lives_black"
         ],
         "type": "scatter",
         "x": [
          0.913053137998356,
          1.321858808987135,
          1.321858808987135,
          1.3129366966800973
         ],
         "xaxis": "x",
         "y": [
          -142.5,
          -142.5,
          -2529.6026163837814,
          -2529.6026163837814
         ],
         "yaxis": "y"
        },
        {
         "hoverinfo": "text",
         "marker": {
          "color": "rgb(35,205,205)"
         },
         "mode": "lines",
         "text": [
          "joe biden_joe_biden_president joe_democratic presidential",
          "",
          "",
          "votes_joe biden_joe_biden_trump joe"
         ],
         "type": "scatter",
         "x": [
          0,
          0.7516134276963664,
          0.7516134276963664,
          0
         ],
         "xaxis": "x",
         "y": [
          -3775,
          -3775,
          -3785,
          -3785
         ],
         "yaxis": "y"
        },
        {
         "hoverinfo": "text",
         "marker": {
          "color": "rgb(35,205,205)"
         },
         "mode": "lines",
         "text": [
          "biden kissing_young girl_kissing_shows joe_biden posing",
          "",
          "",
          "joe biden_joe_biden_president joe_presidential"
         ],
         "type": "scatter",
         "x": [
          0,
          0.9058812896825249,
          0.9058812896825249,
          0.7516134276963664
         ],
         "xaxis": "x",
         "y": [
          -3765,
          -3765,
          -3780,
          -3780
         ],
         "yaxis": "y"
        },
        {
         "hoverinfo": "text",
         "marker": {
          "color": "rgb(61,153,112)"
         },
         "mode": "lines",
         "text": [
          "kamala harris_harris_kamala_harris called_biden trash",
          "",
          "",
          "kamala_kamala harris_harris_president kamala_vice"
         ],
         "type": "scatter",
         "x": [
          0,
          0.535727241430852,
          0.535727241430852,
          0
         ],
         "xaxis": "x",
         "y": [
          -3795,
          -3795,
          -3805,
          -3805
         ],
         "yaxis": "y"
        },
        {
         "hoverinfo": "text",
         "marker": {
          "color": "rgb(255,65,54)"
         },
         "mode": "lines",
         "text": [
          "border_harris_kamala_book_border crisis",
          "",
          "",
          "border_wall_border wall_caravan_southern border"
         ],
         "type": "scatter",
         "x": [
          0,
          0.8189194113563963,
          0.8189194113563963,
          0
         ],
         "xaxis": "x",
         "y": [
          -3815,
          -3815,
          -3825,
          -3825
         ],
         "yaxis": "y"
        },
        {
         "hoverinfo": "text",
         "marker": {
          "color": "rgb(255,65,54)"
         },
         "mode": "lines",
         "text": [
          "border_harris_kamala_book_border crisis",
          "",
          "",
          "immigrants_marry icelandic_male immigrants_welcome million_immigrants 2020"
         ],
         "type": "scatter",
         "x": [
          0.8189194113563963,
          0.983695042072099,
          0.983695042072099,
          0
         ],
         "xaxis": "x",
         "y": [
          -3820,
          -3820,
          -3835,
          -3835
         ],
         "yaxis": "y"
        },
        {
         "hoverinfo": "text",
         "marker": {
          "color": "rgb(0,116,217)"
         },
         "mode": "lines",
         "text": [
          "kamala_kamala harris_harris_president kamala_vice",
          "",
          "",
          "immigrants_marry icelandic_male immigrants_welcome million_immigrants 2020"
         ],
         "type": "scatter",
         "x": [
          0.535727241430852,
          1.1053423469952226,
          1.1053423469952226,
          0.983695042072099
         ],
         "xaxis": "x",
         "y": [
          -3800,
          -3800,
          -3827.5,
          -3827.5
         ],
         "yaxis": "y"
        },
        {
         "hoverinfo": "text",
         "marker": {
          "color": "rgb(0,116,217)"
         },
         "mode": "lines",
         "text": [
          "joe biden_joe_biden_president joe_presidential",
          "",
          "",
          "immigrants_marry icelandic_male immigrants_welcome million_immigrants 2020"
         ],
         "type": "scatter",
         "x": [
          0.9058812896825249,
          1.1771344189621993,
          1.1771344189621993,
          1.1053423469952226
         ],
         "xaxis": "x",
         "y": [
          -3772.5,
          -3772.5,
          -3813.75,
          -3813.75
         ],
         "yaxis": "y"
        },
        {
         "hoverinfo": "text",
         "marker": {
          "color": "rgb(0,116,217)"
         },
         "mode": "lines",
         "text": [
          "joe biden_joe_biden_president joe_presidential",
          "",
          "",
          "immigrants_marry icelandic_male immigrants_welcome million_immigrants 2020"
         ],
         "type": "scatter",
         "x": [
          1.321858808987135,
          1.3848183950501711,
          1.3848183950501711,
          1.1771344189621993
         ],
         "xaxis": "x",
         "y": [
          -1336.0513081918907,
          -1336.0513081918907,
          -3793.125,
          -3793.125
         ],
         "yaxis": "y"
        },
        {
         "hoverinfo": "text",
         "marker": {
          "color": "rgb(35,205,205)"
         },
         "mode": "lines",
         "text": [
          "foto_une_montre_photo montre_la",
          "",
          "",
          "la_et_une_contre_da"
         ],
         "type": "scatter",
         "x": [
          0,
          0.8633393686662292,
          0.8633393686662292,
          0
         ],
         "xaxis": "x",
         "y": [
          -3855,
          -3855,
          -3865,
          -3865
         ],
         "yaxis": "y"
        },
        {
         "hoverinfo": "text",
         "marker": {
          "color": "rgb(35,205,205)"
         },
         "mode": "lines",
         "text": [
          "la_por coronavirus_en_el_que",
          "",
          "",
          "la_en_que_el_por"
         ],
         "type": "scatter",
         "x": [
          0,
          0.8559280280762086,
          0.8559280280762086,
          0
         ],
         "xaxis": "x",
         "y": [
          -3875,
          -3875,
          -3885,
          -3885
         ],
         "yaxis": "y"
        },
        {
         "hoverinfo": "text",
         "marker": {
          "color": "rgb(35,205,205)"
         },
         "mode": "lines",
         "text": [
          "la_en_que_el_por",
          "",
          "",
          "del_en_muestra_video muestra_vdeo"
         ],
         "type": "scatter",
         "x": [
          0.8559280280762086,
          0.8852455957585588,
          0.8852455957585588,
          0
         ],
         "xaxis": "x",
         "y": [
          -3880,
          -3880,
          -3895,
          -3895
         ],
         "yaxis": "y"
        },
        {
         "hoverinfo": "text",
         "marker": {
          "color": "rgb(35,205,205)"
         },
         "mode": "lines",
         "text": [
          "la_une_foto_du_en",
          "",
          "",
          "en_la_el_que_por"
         ],
         "type": "scatter",
         "x": [
          0.8633393686662292,
          0.9412197156116062,
          0.9412197156116062,
          0.8852455957585588
         ],
         "xaxis": "x",
         "y": [
          -3860,
          -3860,
          -3887.5,
          -3887.5
         ],
         "yaxis": "y"
        },
        {
         "hoverinfo": "text",
         "marker": {
          "color": "rgb(35,205,205)"
         },
         "mode": "lines",
         "text": [
          "gates_patente_coronavrus_pentagono_al pentagono",
          "",
          "",
          "la_en_que_el_del"
         ],
         "type": "scatter",
         "x": [
          0,
          0.9809259971971194,
          0.9809259971971194,
          0.9412197156116062
         ],
         "xaxis": "x",
         "y": [
          -3845,
          -3845,
          -3873.75,
          -3873.75
         ],
         "yaxis": "y"
        },
        {
         "hoverinfo": "text",
         "marker": {
          "color": "rgb(35,205,205)"
         },
         "mode": "lines",
         "text": [
          "hospital_resistir_en_en hospital_resistir en",
          "",
          "",
          "por_mortes_por cada_sobre mascarillas_recebem"
         ],
         "type": "scatter",
         "x": [
          0,
          0.9316824739573436,
          0.9316824739573436,
          0
         ],
         "xaxis": "x",
         "y": [
          -3905,
          -3905,
          -3915,
          -3915
         ],
         "yaxis": "y"
        },
        {
         "hoverinfo": "text",
         "marker": {
          "color": "rgb(35,205,205)"
         },
         "mode": "lines",
         "text": [
          "hospital_resistir_en_en hospital_resistir en",
          "",
          "",
          "por_mortes_por cada_sobre mascarillas_recebem"
         ],
         "type": "scatter",
         "x": [
          0.9809259971971194,
          0.9906601446898465,
          0.9906601446898465,
          0.9316824739573436
         ],
         "xaxis": "x",
         "y": [
          -3859.375,
          -3859.375,
          -3910,
          -3910
         ],
         "yaxis": "y"
        },
        {
         "hoverinfo": "text",
         "marker": {
          "color": "rgb(0,116,217)"
         },
         "mode": "lines",
         "text": [
          "hospital_resistir_en_en hospital_resistir en",
          "",
          "",
          "por_mortes_por cada_sobre mascarillas_recebem"
         ],
         "type": "scatter",
         "x": [
          1.3848183950501711,
          1.4263481000581082,
          1.4263481000581082,
          0.9906601446898465
         ],
         "xaxis": "x",
         "y": [
          -2564.5881540959454,
          -2564.5881540959454,
          -3884.6875,
          -3884.6875
         ],
         "yaxis": "y"
        },
        {
         "hoverinfo": "text",
         "marker": {
          "color": "rgb(133,20,75)"
         },
         "mode": "lines",
         "text": [
          "sri_lankan_sri lankan_shows sri_sri lanka",
          "",
          "",
          "sri_sri lanka_lanka_sri lankan_lankan"
         ],
         "type": "scatter",
         "x": [
          0,
          0.6064127605059906,
          0.6064127605059906,
          0
         ],
         "xaxis": "x",
         "y": [
          -3925,
          -3925,
          -3935,
          -3935
         ],
         "yaxis": "y"
        },
        {
         "hoverinfo": "text",
         "marker": {
          "color": "rgb(133,20,75)"
         },
         "mode": "lines",
         "text": [
          "sri_sri lanka_lanka_lankan_sri lankan",
          "",
          "",
          "ranked_sri_ranked sri_sri lanka_lanka"
         ],
         "type": "scatter",
         "x": [
          0.6064127605059906,
          0.8164337616651159,
          0.8164337616651159,
          0
         ],
         "xaxis": "x",
         "y": [
          -3930,
          -3930,
          -3945,
          -3945
         ],
         "yaxis": "y"
        },
        {
         "hoverinfo": "text",
         "marker": {
          "color": "rgb(255,220,0)"
         },
         "mode": "lines",
         "text": [
          "oxygen_camphor_oxygen level_oxygen levels_increase oxygen",
          "",
          "",
          "oxygen_reliance_shows oxygen_oxygen cylinder_cylinder"
         ],
         "type": "scatter",
         "x": [
          0,
          0.8239597306449662,
          0.8239597306449662,
          0
         ],
         "xaxis": "x",
         "y": [
          -3955,
          -3955,
          -3965,
          -3965
         ],
         "yaxis": "y"
        },
        {
         "hoverinfo": "text",
         "marker": {
          "color": "rgb(40,35,35)"
         },
         "mode": "lines",
         "text": [
          "tomb_arabia photo_saudi arabia_arabia_prophet",
          "",
          "",
          "saudi arabia_arabia_saudi_snowing saudi_snowfall"
         ],
         "type": "scatter",
         "x": [
          0,
          0.8171311986143268,
          0.8171311986143268,
          0
         ],
         "xaxis": "x",
         "y": [
          -3975,
          -3975,
          -3985,
          -3985
         ],
         "yaxis": "y"
        },
        {
         "hoverinfo": "text",
         "marker": {
          "color": "rgb(40,35,35)"
         },
         "mode": "lines",
         "text": [
          "saudi arabia_arabia_saudi_tomb_arabia photo",
          "",
          "",
          "saudi_arabia_shopping mall_saudi arabia_mall"
         ],
         "type": "scatter",
         "x": [
          0.8171311986143268,
          0.8512335172322607,
          0.8512335172322607,
          0
         ],
         "xaxis": "x",
         "y": [
          -3980,
          -3980,
          -3995,
          -3995
         ],
         "yaxis": "y"
        },
        {
         "hoverinfo": "text",
         "marker": {
          "color": "rgb(40,35,35)"
         },
         "mode": "lines",
         "text": [
          "saudi_arabia_saudi arabia_tomb_arabia photo",
          "",
          "",
          "birds_crows_parrots_saudi_super market"
         ],
         "type": "scatter",
         "x": [
          0.8512335172322607,
          0.9678617054507925,
          0.9678617054507925,
          0
         ],
         "xaxis": "x",
         "y": [
          -3987.5,
          -3987.5,
          -4005,
          -4005
         ],
         "yaxis": "y"
        },
        {
         "hoverinfo": "text",
         "marker": {
          "color": "rgb(0,116,217)"
         },
         "mode": "lines",
         "text": [
          "oxygen_camphor_oxygen cylinder_cylinder_oxygen level",
          "",
          "",
          "saudi_arabia_saudi arabia_tomb_birds"
         ],
         "type": "scatter",
         "x": [
          0.8239597306449662,
          1.106795654757429,
          1.106795654757429,
          0.9678617054507925
         ],
         "xaxis": "x",
         "y": [
          -3960,
          -3960,
          -3996.25,
          -3996.25
         ],
         "yaxis": "y"
        },
        {
         "hoverinfo": "text",
         "marker": {
          "color": "rgb(61,153,112)"
         },
         "mode": "lines",
         "text": [
          "erdogan_turkish president_recep_turkish_macron",
          "",
          "",
          "french_french products_pogba_french president_french national"
         ],
         "type": "scatter",
         "x": [
          0,
          0.9066165512295455,
          0.9066165512295455,
          0
         ],
         "xaxis": "x",
         "y": [
          -4015,
          -4015,
          -4025,
          -4025
         ],
         "yaxis": "y"
        },
        {
         "hoverinfo": "text",
         "marker": {
          "color": "rgb(255,65,54)"
         },
         "mode": "lines",
         "text": [
          "muslims_praying_muslims praying_praying street_street",
          "",
          "",
          "france_french_muslim woman_woman france_french embassy"
         ],
         "type": "scatter",
         "x": [
          0,
          0.8646225531414159,
          0.8646225531414159,
          0
         ],
         "xaxis": "x",
         "y": [
          -4045,
          -4045,
          -4055,
          -4055
         ],
         "yaxis": "y"
        },
        {
         "hoverinfo": "text",
         "marker": {
          "color": "rgb(255,65,54)"
         },
         "mode": "lines",
         "text": [
          "bones_built bones_church built_church_murdered muslims",
          "",
          "",
          "france_muslims_french_praying_muslims praying"
         ],
         "type": "scatter",
         "x": [
          0,
          0.9848693760865087,
          0.9848693760865087,
          0.8646225531414159
         ],
         "xaxis": "x",
         "y": [
          -4035,
          -4035,
          -4050,
          -4050
         ],
         "yaxis": "y"
        },
        {
         "hoverinfo": "text",
         "marker": {
          "color": "rgb(35,205,205)"
         },
         "mode": "lines",
         "text": [
          "bareilly_bareilly uttar_attacked_cops_muslim",
          "",
          "",
          "idol_temple priest_muslims_temple_attacked"
         ],
         "type": "scatter",
         "x": [
          0,
          0.9280205054132065,
          0.9280205054132065,
          0
         ],
         "xaxis": "x",
         "y": [
          -4065,
          -4065,
          -4075,
          -4075
         ],
         "yaxis": "y"
        },
        {
         "hoverinfo": "text",
         "marker": {
          "color": "rgb(0,116,217)"
         },
         "mode": "lines",
         "text": [
          "bareilly_bareilly uttar_attacked_cops_muslim",
          "",
          "",
          "bareilly_attacked_muslims_muslim_muslim men"
         ],
         "type": "scatter",
         "x": [
          0.9848693760865087,
          1.0192012196911202,
          1.0192012196911202,
          0.9280205054132065
         ],
         "xaxis": "x",
         "y": [
          -4042.5,
          -4042.5,
          -4070,
          -4070
         ],
         "yaxis": "y"
        },
        {
         "hoverinfo": "text",
         "marker": {
          "color": "rgb(0,116,217)"
         },
         "mode": "lines",
         "text": [
          "french_erdogan_macron_french president_french products",
          "",
          "",
          "bareilly_attacked_muslims_muslim_muslim men"
         ],
         "type": "scatter",
         "x": [
          0.9066165512295455,
          1.0563319389037282,
          1.0563319389037282,
          1.0192012196911202
         ],
         "xaxis": "x",
         "y": [
          -4020,
          -4020,
          -4056.25,
          -4056.25
         ],
         "yaxis": "y"
        },
        {
         "hoverinfo": "text",
         "marker": {
          "color": "rgb(61,153,112)"
         },
         "mode": "lines",
         "text": [
          "hindu_love jihad_hindu woman_jihad_muslim man",
          "",
          "",
          "shows hindu_hindu_muslim_delhi video_muslim women"
         ],
         "type": "scatter",
         "x": [
          0,
          0.8473475602294126,
          0.8473475602294126,
          0
         ],
         "xaxis": "x",
         "y": [
          -4095,
          -4095,
          -4105,
          -4105
         ],
         "yaxis": "y"
        },
        {
         "hoverinfo": "text",
         "marker": {
          "color": "rgb(61,153,112)"
         },
         "mode": "lines",
         "text": [
          "muslim_spit_spitting_food_shows muslim",
          "",
          "",
          "hindu_hindu woman_muslim_love jihad_jihad"
         ],
         "type": "scatter",
         "x": [
          0,
          0.9400668341738766,
          0.9400668341738766,
          0.8473475602294126
         ],
         "xaxis": "x",
         "y": [
          -4085,
          -4085,
          -4100,
          -4100
         ],
         "yaxis": "y"
        },
        {
         "hoverinfo": "text",
         "marker": {
          "color": "rgb(0,116,217)"
         },
         "mode": "lines",
         "text": [
          "muslim_spit_spitting_food_shows muslim",
          "",
          "",
          "muslim_hindu_hindu woman_muslim man_love jihad"
         ],
         "type": "scatter",
         "x": [
          1.0563319389037282,
          1.1019183613387427,
          1.1019183613387427,
          0.9400668341738766
         ],
         "xaxis": "x",
         "y": [
          -4038.125,
          -4038.125,
          -4092.5,
          -4092.5
         ],
         "yaxis": "y"
        },
        {
         "hoverinfo": "text",
         "marker": {
          "color": "rgb(255,65,54)"
         },
         "mode": "lines",
         "text": [
          "india 26_shutting_british airways_airways_flights",
          "",
          "",
          "pilots_airways pilots_british airways_airways_pilots died"
         ],
         "type": "scatter",
         "x": [
          0,
          0.9030674909470302,
          0.9030674909470302,
          0
         ],
         "xaxis": "x",
         "y": [
          -4115,
          -4115,
          -4125,
          -4125
         ],
         "yaxis": "y"
        },
        {
         "hoverinfo": "text",
         "marker": {
          "color": "rgb(35,205,205)"
         },
         "mode": "lines",
         "text": [
          "rafale_rafale fighter_jet_jets_fighter",
          "",
          "",
          "helicopter_shot indian_nepal_indian_ladakh"
         ],
         "type": "scatter",
         "x": [
          0,
          0.9110962157148554,
          0.9110962157148554,
          0
         ],
         "xaxis": "x",
         "y": [
          -4145,
          -4145,
          -4155,
          -4155
         ],
         "yaxis": "y"
        },
        {
         "hoverinfo": "text",
         "marker": {
          "color": "rgb(35,205,205)"
         },
         "mode": "lines",
         "text": [
          "sriwijaya air_sriwijaya_air flight_crash_crashed",
          "",
          "",
          "rafale_helicopter_crashed_shot indian_nepal"
         ],
         "type": "scatter",
         "x": [
          0,
          0.9395098271826001,
          0.9395098271826001,
          0.9110962157148554
         ],
         "xaxis": "x",
         "y": [
          -4135,
          -4135,
          -4150,
          -4150
         ],
         "yaxis": "y"
        },
        {
         "hoverinfo": "text",
         "marker": {
          "color": "rgb(35,205,205)"
         },
         "mode": "lines",
         "text": [
          "crashed_rafale_helicopter_crash_jet",
          "",
          "",
          "air force_use air_force campaign_crooked hillary_force"
         ],
         "type": "scatter",
         "x": [
          0.9395098271826001,
          0.9794987196353332,
          0.9794987196353332,
          0
         ],
         "xaxis": "x",
         "y": [
          -4142.5,
          -4142.5,
          -4165,
          -4165
         ],
         "yaxis": "y"
        },
        {
         "hoverinfo": "text",
         "marker": {
          "color": "rgb(0,116,217)"
         },
         "mode": "lines",
         "text": [
          "pilots_british airways_airways_airways pilots_british",
          "",
          "",
          "crashed_rafale_air_helicopter_crash"
         ],
         "type": "scatter",
         "x": [
          0.9030674909470302,
          1.0811843609638234,
          1.0811843609638234,
          0.9794987196353332
         ],
         "xaxis": "x",
         "y": [
          -4120,
          -4120,
          -4153.75,
          -4153.75
         ],
         "yaxis": "y"
        },
        {
         "hoverinfo": "text",
         "marker": {
          "color": "rgb(133,20,75)"
         },
         "mode": "lines",
         "text": [
          "370_article 370_kashmir_want article_abdullah said",
          "",
          "",
          "kashmir_army killing_muslim brothers_rohingya_tortured kashmir"
         ],
         "type": "scatter",
         "x": [
          0,
          0.9075736352609278,
          0.9075736352609278,
          0
         ],
         "xaxis": "x",
         "y": [
          -4175,
          -4175,
          -4185,
          -4185
         ],
         "yaxis": "y"
        },
        {
         "hoverinfo": "text",
         "marker": {
          "color": "rgb(255,220,0)"
         },
         "mode": "lines",
         "text": [
          "soldiers_galwan_galwan valley_valley_indian soldiers",
          "",
          "",
          "pok_army_indian army_army used_ghaznavi missile"
         ],
         "type": "scatter",
         "x": [
          0,
          0.8635122998701503,
          0.8635122998701503,
          0
         ],
         "xaxis": "x",
         "y": [
          -4195,
          -4195,
          -4205,
          -4205
         ],
         "yaxis": "y"
        },
        {
         "hoverinfo": "text",
         "marker": {
          "color": "rgb(0,116,217)"
         },
         "mode": "lines",
         "text": [
          "kashmir_370_article 370_army killing_muslim brothers",
          "",
          "",
          "soldiers_galwan_galwan valley_indian army_army"
         ],
         "type": "scatter",
         "x": [
          0.9075736352609278,
          1.0507723407123388,
          1.0507723407123388,
          0.8635122998701503
         ],
         "xaxis": "x",
         "y": [
          -4180,
          -4180,
          -4200,
          -4200
         ],
         "yaxis": "y"
        },
        {
         "hoverinfo": "text",
         "marker": {
          "color": "rgb(40,35,35)"
         },
         "mode": "lines",
         "text": [
          "flag_indian flag_flag indian_pakistani flag_pakistani",
          "",
          "",
          "red fort_fort_indian flag_flag red_flag"
         ],
         "type": "scatter",
         "x": [
          0,
          0.8120444453458273,
          0.8120444453458273,
          0
         ],
         "xaxis": "x",
         "y": [
          -4215,
          -4215,
          -4225,
          -4225
         ],
         "yaxis": "y"
        },
        {
         "hoverinfo": "text",
         "marker": {
          "color": "rgb(0,116,217)"
         },
         "mode": "lines",
         "text": [
          "flag_indian flag_flag indian_pakistani flag_pakistani",
          "",
          "",
          "flag_indian flag_red fort_fort_indian"
         ],
         "type": "scatter",
         "x": [
          1.0507723407123388,
          1.1021192982648051,
          1.1021192982648051,
          0.8120444453458273
         ],
         "xaxis": "x",
         "y": [
          -4190,
          -4190,
          -4220,
          -4220
         ],
         "yaxis": "y"
        },
        {
         "hoverinfo": "text",
         "marker": {
          "color": "rgb(0,116,217)"
         },
         "mode": "lines",
         "text": [
          "flag_indian flag_flag indian_pakistani flag_pakistani",
          "",
          "",
          "flag_indian flag_red fort_fort_indian"
         ],
         "type": "scatter",
         "x": [
          1.0811843609638234,
          1.1423597045829517,
          1.1423597045829517,
          1.1021192982648051
         ],
         "xaxis": "x",
         "y": [
          -4136.875,
          -4136.875,
          -4205,
          -4205
         ],
         "yaxis": "y"
        },
        {
         "hoverinfo": "text",
         "marker": {
          "color": "rgb(61,153,112)"
         },
         "mode": "lines",
         "text": [
          "welcoming refugees_teacher_welcoming_refugees france_teacher beheaded",
          "",
          "",
          "teacher_online class_class_teacher bullied_55yearold"
         ],
         "type": "scatter",
         "x": [
          0,
          0.9465497132383358,
          0.9465497132383358,
          0
         ],
         "xaxis": "x",
         "y": [
          -4235,
          -4235,
          -4245,
          -4245
         ],
         "yaxis": "y"
        },
        {
         "hoverinfo": "text",
         "marker": {
          "color": "rgb(255,65,54)"
         },
         "mode": "lines",
         "text": [
          "jamia_student_cctv footage_jamia student_injured jamia",
          "",
          "",
          "kidnapped_woman kidnapped_girl_broad daylight_daylight"
         ],
         "type": "scatter",
         "x": [
          0,
          0.9521569576480219,
          0.9521569576480219,
          0
         ],
         "xaxis": "x",
         "y": [
          -4255,
          -4255,
          -4265,
          -4265
         ],
         "yaxis": "y"
        },
        {
         "hoverinfo": "text",
         "marker": {
          "color": "rgb(0,116,217)"
         },
         "mode": "lines",
         "text": [
          "jamia_student_cctv footage_jamia student_injured jamia",
          "",
          "",
          "kidnapped_cctv footage_cctv_jamia_student"
         ],
         "type": "scatter",
         "x": [
          0.9465497132383358,
          1.0185486211098576,
          1.0185486211098576,
          0.9521569576480219
         ],
         "xaxis": "x",
         "y": [
          -4240,
          -4240,
          -4260,
          -4260
         ],
         "yaxis": "y"
        },
        {
         "hoverinfo": "text",
         "marker": {
          "color": "rgb(35,205,205)"
         },
         "mode": "lines",
         "text": [
          "bengal_west bengal_west_postpoll violence_postpoll",
          "",
          "",
          "raped_girl_girl raped_raped murdered_rape"
         ],
         "type": "scatter",
         "x": [
          0,
          0.9409506339989556,
          0.9409506339989556,
          0
         ],
         "xaxis": "x",
         "y": [
          -4285,
          -4285,
          -4295,
          -4295
         ],
         "yaxis": "y"
        },
        {
         "hoverinfo": "text",
         "marker": {
          "color": "rgb(35,205,205)"
         },
         "mode": "lines",
         "text": [
          "cyclone_nivar_cyclone nivar_shows cyclone_yaas",
          "",
          "",
          "raped_girl_girl raped_raped murdered_rape"
         ],
         "type": "scatter",
         "x": [
          0,
          0.9786982265201721,
          0.9786982265201721,
          0.9409506339989556
         ],
         "xaxis": "x",
         "y": [
          -4275,
          -4275,
          -4290,
          -4290
         ],
         "yaxis": "y"
        },
        {
         "hoverinfo": "text",
         "marker": {
          "color": "rgb(61,153,112)"
         },
         "mode": "lines",
         "text": [
          "brigade_kolkata_rally_kamal nath_kamal",
          "",
          "",
          "ke_ki_police unifrm_unifrm_boiler"
         ],
         "type": "scatter",
         "x": [
          0,
          0.9554315696516756,
          0.9554315696516756,
          0
         ],
         "xaxis": "x",
         "y": [
          -4315,
          -4315,
          -4325,
          -4325
         ],
         "yaxis": "y"
        },
        {
         "hoverinfo": "text",
         "marker": {
          "color": "rgb(61,153,112)"
         },
         "mode": "lines",
         "text": [
          "amit shah_amit_shah_owaisi_asaduddin",
          "",
          "",
          "brigade_ke_kolkata_rally_kamal nath"
         ],
         "type": "scatter",
         "x": [
          0,
          0.9890585818493515,
          0.9890585818493515,
          0.9554315696516756
         ],
         "xaxis": "x",
         "y": [
          -4305,
          -4305,
          -4320,
          -4320
         ],
         "yaxis": "y"
        },
        {
         "hoverinfo": "text",
         "marker": {
          "color": "rgb(0,116,217)"
         },
         "mode": "lines",
         "text": [
          "amit shah_amit_shah_owaisi_asaduddin",
          "",
          "",
          "brigade_ke_kolkata_rally_kamal nath"
         ],
         "type": "scatter",
         "x": [
          0.9786982265201721,
          1.0236940621272232,
          1.0236940621272232,
          0.9890585818493515
         ],
         "xaxis": "x",
         "y": [
          -4282.5,
          -4282.5,
          -4312.5,
          -4312.5
         ],
         "yaxis": "y"
        },
        {
         "hoverinfo": "text",
         "marker": {
          "color": "rgb(0,116,217)"
         },
         "mode": "lines",
         "text": [
          "amit shah_amit_shah_owaisi_asaduddin",
          "",
          "",
          "brigade_ke_kolkata_rally_kamal nath"
         ],
         "type": "scatter",
         "x": [
          1.0185486211098576,
          1.0644676213859832,
          1.0644676213859832,
          1.0236940621272232
         ],
         "xaxis": "x",
         "y": [
          -4250,
          -4250,
          -4297.5,
          -4297.5
         ],
         "yaxis": "y"
        },
        {
         "hoverinfo": "text",
         "marker": {
          "color": "rgb(255,65,54)"
         },
         "mode": "lines",
         "text": [
          "gandhi_rahul_sonia_rahul gandhi_sonia gandhi",
          "",
          "",
          "manmohan singh_manmohan_invited_singh invited_chief guest"
         ],
         "type": "scatter",
         "x": [
          0,
          0.9131822253881217,
          0.9131822253881217,
          0
         ],
         "xaxis": "x",
         "y": [
          -4335,
          -4335,
          -4345,
          -4345
         ],
         "yaxis": "y"
        },
        {
         "hoverinfo": "text",
         "marker": {
          "color": "rgb(35,205,205)"
         },
         "mode": "lines",
         "text": [
          "khan_jnu_aamir_aamir khan_khan said",
          "",
          "",
          "ram_ayodhya_ram mandir_ram temple_mandir"
         ],
         "type": "scatter",
         "x": [
          0,
          0.951322588951256,
          0.951322588951256,
          0
         ],
         "xaxis": "x",
         "y": [
          -4355,
          -4355,
          -4365,
          -4365
         ],
         "yaxis": "y"
        },
        {
         "hoverinfo": "text",
         "marker": {
          "color": "rgb(0,116,217)"
         },
         "mode": "lines",
         "text": [
          "gandhi_rahul_sonia_rahul gandhi_sonia gandhi",
          "",
          "",
          "ram_ayodhya_khan_ram mandir_mandir"
         ],
         "type": "scatter",
         "x": [
          0.9131822253881217,
          1.017251940683616,
          1.017251940683616,
          0.951322588951256
         ],
         "xaxis": "x",
         "y": [
          -4340,
          -4340,
          -4360,
          -4360
         ],
         "yaxis": "y"
        },
        {
         "hoverinfo": "text",
         "marker": {
          "color": "rgb(133,20,75)"
         },
         "mode": "lines",
         "text": [
          "rajasthan government_100 crore_crore_rajasthan_dargah rajasthan",
          "",
          "",
          "temples_donations church_pay rs_hundi_donations"
         ],
         "type": "scatter",
         "x": [
          0,
          0.9253090014716622,
          0.9253090014716622,
          0
         ],
         "xaxis": "x",
         "y": [
          -4375,
          -4375,
          -4385,
          -4385
         ],
         "yaxis": "y"
        },
        {
         "hoverinfo": "text",
         "marker": {
          "color": "rgb(255,220,0)"
         },
         "mode": "lines",
         "text": [
          "swiss bank_bank transferred_africa palestine_transferred 75_fathers account",
          "",
          "",
          "rbi_bank_rs_rs 2000_trains"
         ],
         "type": "scatter",
         "x": [
          0,
          0.9553574026181987,
          0.9553574026181987,
          0
         ],
         "xaxis": "x",
         "y": [
          -4395,
          -4395,
          -4405,
          -4405
         ],
         "yaxis": "y"
        },
        {
         "hoverinfo": "text",
         "marker": {
          "color": "rgb(255,220,0)"
         },
         "mode": "lines",
         "text": [
          "bank_rbi_rs_banks_rs 2000",
          "",
          "",
          "banknotes_pandemic australian_australian 10_gift shop_house gift"
         ],
         "type": "scatter",
         "x": [
          0.9553574026181987,
          0.9874851036698203,
          0.9874851036698203,
          0
         ],
         "xaxis": "x",
         "y": [
          -4400,
          -4400,
          -4415,
          -4415
         ],
         "yaxis": "y"
        },
        {
         "hoverinfo": "text",
         "marker": {
          "color": "rgb(0,116,217)"
         },
         "mode": "lines",
         "text": [
          "100 crore_crore_rajasthan government_rs_rs 100",
          "",
          "",
          "banknotes_pandemic australian_australian 10_gift shop_house gift"
         ],
         "type": "scatter",
         "x": [
          0.9253090014716622,
          1.0341973969940794,
          1.0341973969940794,
          0.9874851036698203
         ],
         "xaxis": "x",
         "y": [
          -4380,
          -4380,
          -4407.5,
          -4407.5
         ],
         "yaxis": "y"
        },
        {
         "hoverinfo": "text",
         "marker": {
          "color": "rgb(40,35,35)"
         },
         "mode": "lines",
         "text": [
          "pakistani_pakistani journalist_pakistani pm_shows pakistani_zardari",
          "",
          "",
          "awan_awans_imran awan_imran_stepmother"
         ],
         "type": "scatter",
         "x": [
          0,
          0.9613413133850537,
          0.9613413133850537,
          0
         ],
         "xaxis": "x",
         "y": [
          -4435,
          -4435,
          -4445,
          -4445
         ],
         "yaxis": "y"
        },
        {
         "hoverinfo": "text",
         "marker": {
          "color": "rgb(40,35,35)"
         },
         "mode": "lines",
         "text": [
          "curve_curve flattening_flattening_upside_imran khan",
          "",
          "",
          "awan_awans_imran awan_imran_stepmother"
         ],
         "type": "scatter",
         "x": [
          0,
          0.9781387702500716,
          0.9781387702500716,
          0.9613413133850537
         ],
         "xaxis": "x",
         "y": [
          -4425,
          -4425,
          -4440,
          -4440
         ],
         "yaxis": "y"
        },
        {
         "hoverinfo": "text",
         "marker": {
          "color": "rgb(61,153,112)"
         },
         "mode": "lines",
         "text": [
          "pakistan_pakistan super_pakistan pilot_resume march_naval ship",
          "",
          "",
          "balakot_trees crow_casualties balakot_balakot airstrike_admitting trees"
         ],
         "type": "scatter",
         "x": [
          0,
          0.9541703613495394,
          0.9541703613495394,
          0
         ],
         "xaxis": "x",
         "y": [
          -4455,
          -4455,
          -4465,
          -4465
         ],
         "yaxis": "y"
        },
        {
         "hoverinfo": "text",
         "marker": {
          "color": "rgb(0,116,217)"
         },
         "mode": "lines",
         "text": [
          "pakistan_pakistan super_pakistan pilot_resume march_naval ship",
          "",
          "",
          "pakistan_balakot_trees crow_casualties balakot_balakot airstrike"
         ],
         "type": "scatter",
         "x": [
          0.9781387702500716,
          1.004079690973673,
          1.004079690973673,
          0.9541703613495394
         ],
         "xaxis": "x",
         "y": [
          -4432.5,
          -4432.5,
          -4460,
          -4460
         ],
         "yaxis": "y"
        },
        {
         "hoverinfo": "text",
         "marker": {
          "color": "rgb(0,116,217)"
         },
         "mode": "lines",
         "text": [
          "pakistan_pakistan super_pakistan pilot_resume march_naval ship",
          "",
          "",
          "pakistan_balakot_trees crow_casualties balakot_balakot airstrike"
         ],
         "type": "scatter",
         "x": [
          1.0341973969940794,
          1.0700116644016064,
          1.0700116644016064,
          1.004079690973673
         ],
         "xaxis": "x",
         "y": [
          -4393.75,
          -4393.75,
          -4446.25,
          -4446.25
         ],
         "yaxis": "y"
        },
        {
         "hoverinfo": "text",
         "marker": {
          "color": "rgb(0,116,217)"
         },
         "mode": "lines",
         "text": [
          "pakistan_pakistan super_pakistan pilot_resume march_naval ship",
          "",
          "",
          "pakistan_balakot_trees crow_casualties balakot_balakot airstrike"
         ],
         "type": "scatter",
         "x": [
          1.017251940683616,
          1.081938769840833,
          1.081938769840833,
          1.0700116644016064
         ],
         "xaxis": "x",
         "y": [
          -4350,
          -4350,
          -4420,
          -4420
         ],
         "yaxis": "y"
        },
        {
         "hoverinfo": "text",
         "marker": {
          "color": "rgb(0,116,217)"
         },
         "mode": "lines",
         "text": [
          "pakistan_pakistan super_pakistan pilot_resume march_naval ship",
          "",
          "",
          "pakistan_balakot_trees crow_casualties balakot_balakot airstrike"
         ],
         "type": "scatter",
         "x": [
          1.0644676213859832,
          1.0865098257622028,
          1.0865098257622028,
          1.081938769840833
         ],
         "xaxis": "x",
         "y": [
          -4273.75,
          -4273.75,
          -4385,
          -4385
         ],
         "yaxis": "y"
        },
        {
         "hoverinfo": "text",
         "marker": {
          "color": "rgb(255,65,54)"
         },
         "mode": "lines",
         "text": [
          "italy_bodies_victims_italian_coronavirus victims",
          "",
          "",
          "dead body_dead bodies_dead_york hospital_hospital"
         ],
         "type": "scatter",
         "x": [
          0,
          0.8570113604765983,
          0.8570113604765983,
          0
         ],
         "xaxis": "x",
         "y": [
          -4475,
          -4475,
          -4485,
          -4485
         ],
         "yaxis": "y"
        },
        {
         "hoverinfo": "text",
         "marker": {
          "color": "rgb(35,205,205)"
         },
         "mode": "lines",
         "text": [
          "facility_covid facility_covid centre_centre_mumbai",
          "",
          "",
          "adani_adani group_indian oil_sold adani_pune railway"
         ],
         "type": "scatter",
         "x": [
          0,
          0.9716792833671274,
          0.9716792833671274,
          0
         ],
         "xaxis": "x",
         "y": [
          -4495,
          -4495,
          -4505,
          -4505
         ],
         "yaxis": "y"
        },
        {
         "hoverinfo": "text",
         "marker": {
          "color": "rgb(35,205,205)"
         },
         "mode": "lines",
         "text": [
          "mosque_old delhi_delhi railway_railway station_station",
          "",
          "",
          "train_borivali_resumed_hyderabad_iftar"
         ],
         "type": "scatter",
         "x": [
          0,
          0.8960860440083764,
          0.8960860440083764,
          0
         ],
         "xaxis": "x",
         "y": [
          -4515,
          -4515,
          -4525,
          -4525
         ],
         "yaxis": "y"
        },
        {
         "hoverinfo": "text",
         "marker": {
          "color": "rgb(35,205,205)"
         },
         "mode": "lines",
         "text": [
          "mosque_old delhi_delhi railway_railway station_station",
          "",
          "",
          "station_railway station_mosque_railway_old delhi"
         ],
         "type": "scatter",
         "x": [
          0.9716792833671274,
          0.9980097175131155,
          0.9980097175131155,
          0.8960860440083764
         ],
         "xaxis": "x",
         "y": [
          -4500,
          -4500,
          -4520,
          -4520
         ],
         "yaxis": "y"
        },
        {
         "hoverinfo": "text",
         "marker": {
          "color": "rgb(61,153,112)"
         },
         "mode": "lines",
         "text": [
          "infant_image mother_performing labour_song image_child performing",
          "",
          "",
          "beating child_child_beating_woman_policeman"
         ],
         "type": "scatter",
         "x": [
          0,
          0.9534333463069585,
          0.9534333463069585,
          0
         ],
         "xaxis": "x",
         "y": [
          -4535,
          -4535,
          -4545,
          -4545
         ],
         "yaxis": "y"
        },
        {
         "hoverinfo": "text",
         "marker": {
          "color": "rgb(255,65,54)"
         },
         "mode": "lines",
         "text": [
          "bihars hajipur_hajipur jail_hajipur_coronavirus video_bihars",
          "",
          "",
          "roads_potholes_road_kilometres_potholes road"
         ],
         "type": "scatter",
         "x": [
          0,
          0.9656844732522705,
          0.9656844732522705,
          0
         ],
         "xaxis": "x",
         "y": [
          -4565,
          -4565,
          -4575,
          -4575
         ],
         "yaxis": "y"
        },
        {
         "hoverinfo": "text",
         "marker": {
          "color": "rgb(255,65,54)"
         },
         "mode": "lines",
         "text": [
          "beaten_arnab goswami_arnab_goswami_running naked",
          "",
          "",
          "roads_potholes_road_road mumbai_kilometres"
         ],
         "type": "scatter",
         "x": [
          0,
          0.9769631041139305,
          0.9769631041139305,
          0.9656844732522705
         ],
         "xaxis": "x",
         "y": [
          -4555,
          -4555,
          -4570,
          -4570
         ],
         "yaxis": "y"
        },
        {
         "hoverinfo": "text",
         "marker": {
          "color": "rgb(0,116,217)"
         },
         "mode": "lines",
         "text": [
          "child_beating child_child india_showing woman_beating",
          "",
          "",
          "roads_potholes_road_road mumbai_kilometres"
         ],
         "type": "scatter",
         "x": [
          0.9534333463069585,
          1.000765171121153,
          1.000765171121153,
          0.9769631041139305
         ],
         "xaxis": "x",
         "y": [
          -4540,
          -4540,
          -4562.5,
          -4562.5
         ],
         "yaxis": "y"
        },
        {
         "hoverinfo": "text",
         "marker": {
          "color": "rgb(35,205,205)"
         },
         "mode": "lines",
         "text": [
          "patient_corona_kanpur uttar_patient kanpur_home stay",
          "",
          "",
          "gold_gold bars_tonnes gold_gold discovered_photos gold"
         ],
         "type": "scatter",
         "x": [
          0,
          0.9702972253683129,
          0.9702972253683129,
          0
         ],
         "xaxis": "x",
         "y": [
          -4585,
          -4585,
          -4595,
          -4595
         ],
         "yaxis": "y"
        },
        {
         "hoverinfo": "text",
         "marker": {
          "color": "rgb(0,116,217)"
         },
         "mode": "lines",
         "text": [
          "patient_corona_kanpur uttar_patient kanpur_home stay",
          "",
          "",
          "gold_gold bars_uttar_uttar pradesh_photos gold"
         ],
         "type": "scatter",
         "x": [
          1.000765171121153,
          1.0077682008273543,
          1.0077682008273543,
          0.9702972253683129
         ],
         "xaxis": "x",
         "y": [
          -4551.25,
          -4551.25,
          -4590,
          -4590
         ],
         "yaxis": "y"
        },
        {
         "hoverinfo": "text",
         "marker": {
          "color": "rgb(0,116,217)"
         },
         "mode": "lines",
         "text": [
          "adani_railway_station_railway station_mumbai",
          "",
          "",
          "gold_gold bars_uttar_uttar pradesh_photos gold"
         ],
         "type": "scatter",
         "x": [
          0.9980097175131155,
          1.0642082245048996,
          1.0642082245048996,
          1.0077682008273543
         ],
         "xaxis": "x",
         "y": [
          -4510,
          -4510,
          -4570.625,
          -4570.625
         ],
         "yaxis": "y"
        },
        {
         "hoverinfo": "text",
         "marker": {
          "color": "rgb(0,116,217)"
         },
         "mode": "lines",
         "text": [
          "italy_bodies_victims_italian_dead",
          "",
          "",
          "gold_gold bars_uttar_uttar pradesh_photos gold"
         ],
         "type": "scatter",
         "x": [
          0.8570113604765983,
          1.0901746503223881,
          1.0901746503223881,
          1.0642082245048996
         ],
         "xaxis": "x",
         "y": [
          -4480,
          -4480,
          -4540.3125,
          -4540.3125
         ],
         "yaxis": "y"
        },
        {
         "hoverinfo": "text",
         "marker": {
          "color": "rgb(0,116,217)"
         },
         "mode": "lines",
         "text": [
          "italy_bodies_victims_italian_dead",
          "",
          "",
          "gold_gold bars_uttar_uttar pradesh_photos gold"
         ],
         "type": "scatter",
         "x": [
          1.0865098257622028,
          1.1114755714802702,
          1.1114755714802702,
          1.0901746503223881
         ],
         "xaxis": "x",
         "y": [
          -4329.375,
          -4329.375,
          -4510.15625,
          -4510.15625
         ],
         "yaxis": "y"
        },
        {
         "hoverinfo": "text",
         "marker": {
          "color": "rgb(133,20,75)"
         },
         "mode": "lines",
         "text": [
          "robbery_robbery video_shows robbery_shows armed_attempted robbery",
          "",
          "",
          "hong kong_kong_hong_kong police_shows hong"
         ],
         "type": "scatter",
         "x": [
          0,
          0.9298810872715669,
          0.9298810872715669,
          0
         ],
         "xaxis": "x",
         "y": [
          -4605,
          -4605,
          -4615,
          -4615
         ],
         "yaxis": "y"
        },
        {
         "hoverinfo": "text",
         "marker": {
          "color": "rgb(255,220,0)"
         },
         "mode": "lines",
         "text": [
          "train_freight train_shows chinese_freight_china video",
          "",
          "",
          "jack ma_ma_jack_billionaire jack_shows chinese"
         ],
         "type": "scatter",
         "x": [
          0,
          0.9512439036790918,
          0.9512439036790918,
          0
         ],
         "xaxis": "x",
         "y": [
          -4635,
          -4635,
          -4645,
          -4645
         ],
         "yaxis": "y"
        },
        {
         "hoverinfo": "text",
         "marker": {
          "color": "rgb(255,220,0)"
         },
         "mode": "lines",
         "text": [
          "taiwan_chinese military_military vehicles_vehicles_korea videos",
          "",
          "",
          "jack ma_ma_shows chinese_jack_billionaire jack"
         ],
         "type": "scatter",
         "x": [
          0,
          0.9714486236062667,
          0.9714486236062667,
          0.9512439036790918
         ],
         "xaxis": "x",
         "y": [
          -4625,
          -4625,
          -4640,
          -4640
         ],
         "yaxis": "y"
        },
        {
         "hoverinfo": "text",
         "marker": {
          "color": "rgb(255,220,0)"
         },
         "mode": "lines",
         "text": [
          "jack ma_shows chinese_ma_jack_billionaire jack",
          "",
          "",
          "rocket_chinese rocket_debris_indian ocean_video chinese"
         ],
         "type": "scatter",
         "x": [
          0.9714486236062667,
          0.9764739451180044,
          0.9764739451180044,
          0
         ],
         "xaxis": "x",
         "y": [
          -4632.5,
          -4632.5,
          -4655,
          -4655
         ],
         "yaxis": "y"
        },
        {
         "hoverinfo": "text",
         "marker": {
          "color": "rgb(0,116,217)"
         },
         "mode": "lines",
         "text": [
          "hong kong_kong_hong_kong police_shows hong",
          "",
          "",
          "rocket_chinese rocket_debris_indian ocean_video chinese"
         ],
         "type": "scatter",
         "x": [
          0.9298810872715669,
          1.0518310863262545,
          1.0518310863262545,
          0.9764739451180044
         ],
         "xaxis": "x",
         "y": [
          -4610,
          -4610,
          -4643.75,
          -4643.75
         ],
         "yaxis": "y"
        },
        {
         "hoverinfo": "text",
         "marker": {
          "color": "rgb(40,35,35)"
         },
         "mode": "lines",
         "text": [
          "antichinese_indonesias_indonesia_indonesian_wamena indonesias",
          "",
          "",
          "protesters_protests_police brutality_brutality_june 2020"
         ],
         "type": "scatter",
         "x": [
          0,
          0.9590611710502934,
          0.9590611710502934,
          0
         ],
         "xaxis": "x",
         "y": [
          -4665,
          -4665,
          -4675,
          -4675
         ],
         "yaxis": "y"
        },
        {
         "hoverinfo": "text",
         "marker": {
          "color": "rgb(40,35,35)"
         },
         "mode": "lines",
         "text": [
          "antichinese_indonesias_indonesia_indonesian_wamena indonesias",
          "",
          "",
          "anticaa_caa_hijab_protesters_disrobe"
         ],
         "type": "scatter",
         "x": [
          0.9590611710502934,
          0.9789328210764234,
          0.9789328210764234,
          0
         ],
         "xaxis": "x",
         "y": [
          -4670,
          -4670,
          -4685,
          -4685
         ],
         "yaxis": "y"
        },
        {
         "hoverinfo": "text",
         "marker": {
          "color": "rgb(61,153,112)"
         },
         "mode": "lines",
         "text": [
          "covid19 restrictions_restrictions_protest_berlin_restrictions photograph",
          "",
          "",
          "antilockdown_protest london_antilockdown protest_london_attended antilockdown"
         ],
         "type": "scatter",
         "x": [
          0,
          0.9359066903442566,
          0.9359066903442566,
          0
         ],
         "xaxis": "x",
         "y": [
          -4695,
          -4695,
          -4705,
          -4705
         ],
         "yaxis": "y"
        },
        {
         "hoverinfo": "text",
         "marker": {
          "color": "rgb(0,116,217)"
         },
         "mode": "lines",
         "text": [
          "covid19 restrictions_restrictions_protest_berlin_restrictions photograph",
          "",
          "",
          "antilockdown_covid19 restrictions_restrictions_protest_london"
         ],
         "type": "scatter",
         "x": [
          0.9789328210764234,
          1.0119164546664354,
          1.0119164546664354,
          0.9359066903442566
         ],
         "xaxis": "x",
         "y": [
          -4677.5,
          -4677.5,
          -4700,
          -4700
         ],
         "yaxis": "y"
        },
        {
         "hoverinfo": "text",
         "marker": {
          "color": "rgb(255,65,54)"
         },
         "mode": "lines",
         "text": [
          "shaheen bagh_shaheen_bagh_protest shaheen_dadi",
          "",
          "",
          "condoms_durex_condom_emoji_sex toys"
         ],
         "type": "scatter",
         "x": [
          0,
          0.9445695938882364,
          0.9445695938882364,
          0
         ],
         "xaxis": "x",
         "y": [
          -4715,
          -4715,
          -4725,
          -4725
         ],
         "yaxis": "y"
        },
        {
         "hoverinfo": "text",
         "marker": {
          "color": "rgb(0,116,217)"
         },
         "mode": "lines",
         "text": [
          "shaheen bagh_shaheen_bagh_protest shaheen_dadi",
          "",
          "",
          "condoms_durex_condom_emoji_sex toys"
         ],
         "type": "scatter",
         "x": [
          1.0119164546664354,
          1.0318286128582461,
          1.0318286128582461,
          0.9445695938882364
         ],
         "xaxis": "x",
         "y": [
          -4688.75,
          -4688.75,
          -4720,
          -4720
         ],
         "yaxis": "y"
        },
        {
         "hoverinfo": "text",
         "marker": {
          "color": "rgb(0,116,217)"
         },
         "mode": "lines",
         "text": [
          "shaheen bagh_shaheen_bagh_protest shaheen_dadi",
          "",
          "",
          "condoms_durex_condom_emoji_sex toys"
         ],
         "type": "scatter",
         "x": [
          1.0518310863262545,
          1.073532765563662,
          1.073532765563662,
          1.0318286128582461
         ],
         "xaxis": "x",
         "y": [
          -4626.875,
          -4626.875,
          -4704.375,
          -4704.375
         ],
         "yaxis": "y"
        },
        {
         "hoverinfo": "text",
         "marker": {
          "color": "rgb(0,116,217)"
         },
         "mode": "lines",
         "text": [
          "shaheen bagh_shaheen_bagh_protest shaheen_dadi",
          "",
          "",
          "condoms_durex_condom_emoji_sex toys"
         ],
         "type": "scatter",
         "x": [
          1.1114755714802702,
          1.1129012334326653,
          1.1129012334326653,
          1.073532765563662
         ],
         "xaxis": "x",
         "y": [
          -4419.765625,
          -4419.765625,
          -4665.625,
          -4665.625
         ],
         "yaxis": "y"
        },
        {
         "hoverinfo": "text",
         "marker": {
          "color": "rgb(35,205,205)"
         },
         "mode": "lines",
         "text": [
          "thai_thailand_photos thai_thai prime_bangkok",
          "",
          "",
          "thailands_thailand_health minister_thailand health_thai"
         ],
         "type": "scatter",
         "x": [
          0,
          0.8359963911790252,
          0.8359963911790252,
          0
         ],
         "xaxis": "x",
         "y": [
          -4735,
          -4735,
          -4745,
          -4745
         ],
         "yaxis": "y"
        },
        {
         "hoverinfo": "text",
         "marker": {
          "color": "rgb(0,116,217)"
         },
         "mode": "lines",
         "text": [
          "thai_thailand_photos thai_thai prime_bangkok",
          "",
          "",
          "thai_thailand_thailands_health minister_thailand health"
         ],
         "type": "scatter",
         "x": [
          1.1129012334326653,
          1.1286136465297503,
          1.1286136465297503,
          0.8359963911790252
         ],
         "xaxis": "x",
         "y": [
          -4542.6953125,
          -4542.6953125,
          -4740,
          -4740
         ],
         "yaxis": "y"
        },
        {
         "hoverinfo": "text",
         "marker": {
          "color": "rgb(61,153,112)"
         },
         "mode": "lines",
         "text": [
          "singapore_fines_spot fines_tracing program_fines people",
          "",
          "",
          "social distancing_distancing_norms_distancing norms_social"
         ],
         "type": "scatter",
         "x": [
          0,
          0.9134390692249886,
          0.9134390692249886,
          0
         ],
         "xaxis": "x",
         "y": [
          -4755,
          -4755,
          -4765,
          -4765
         ],
         "yaxis": "y"
        },
        {
         "hoverinfo": "text",
         "marker": {
          "color": "rgb(255,65,54)"
         },
         "mode": "lines",
         "text": [
          "delhi_stones_delhi police_delhi riots_riots",
          "",
          "",
          "water crisis_delhi_water_delhi water_flooded"
         ],
         "type": "scatter",
         "x": [
          0,
          0.8861634857240155,
          0.8861634857240155,
          0
         ],
         "xaxis": "x",
         "y": [
          -4775,
          -4775,
          -4785,
          -4785
         ],
         "yaxis": "y"
        },
        {
         "hoverinfo": "text",
         "marker": {
          "color": "rgb(35,205,205)"
         },
         "mode": "lines",
         "text": [
          "arvind kejriwal_arvind_kejriwal_farm_farm bills",
          "",
          "",
          "villagers_vaccination ads_anm_vaccination_needle"
         ],
         "type": "scatter",
         "x": [
          0,
          0.9557036910376088,
          0.9557036910376088,
          0
         ],
         "xaxis": "x",
         "y": [
          -4795,
          -4795,
          -4805,
          -4805
         ],
         "yaxis": "y"
        },
        {
         "hoverinfo": "text",
         "marker": {
          "color": "rgb(0,116,217)"
         },
         "mode": "lines",
         "text": [
          "delhi_stones_delhi police_delhi riots_water crisis",
          "",
          "",
          "villagers_vaccination ads_anm_vaccination_needle"
         ],
         "type": "scatter",
         "x": [
          0.8861634857240155,
          1.0131454839521001,
          1.0131454839521001,
          0.9557036910376088
         ],
         "xaxis": "x",
         "y": [
          -4780,
          -4780,
          -4800,
          -4800
         ],
         "yaxis": "y"
        },
        {
         "hoverinfo": "text",
         "marker": {
          "color": "rgb(0,116,217)"
         },
         "mode": "lines",
         "text": [
          "social distancing_distancing_norms_distancing norms_social",
          "",
          "",
          "villagers_vaccination ads_anm_vaccination_needle"
         ],
         "type": "scatter",
         "x": [
          0.9134390692249886,
          1.0581170390457653,
          1.0581170390457653,
          1.0131454839521001
         ],
         "xaxis": "x",
         "y": [
          -4760,
          -4760,
          -4790,
          -4790
         ],
         "yaxis": "y"
        },
        {
         "hoverinfo": "text",
         "marker": {
          "color": "rgb(133,20,75)"
         },
         "mode": "lines",
         "text": [
          "shows police_officers_police officers_handcuffed_choking",
          "",
          "",
          "lockdown_people violate_recent lockdown_lockdown violators_shows police"
         ],
         "type": "scatter",
         "x": [
          0,
          0.9422148632029638,
          0.9422148632029638,
          0
         ],
         "xaxis": "x",
         "y": [
          -4815,
          -4815,
          -4825,
          -4825
         ],
         "yaxis": "y"
        },
        {
         "hoverinfo": "text",
         "marker": {
          "color": "rgb(255,220,0)"
         },
         "mode": "lines",
         "text": [
          "lockdown_xbox_canada_tier_lockdowns",
          "",
          "",
          "lockdown_lockdown march_military lockdown_total lockdown_15"
         ],
         "type": "scatter",
         "x": [
          0,
          0.9119185256637967,
          0.9119185256637967,
          0
         ],
         "xaxis": "x",
         "y": [
          -4835,
          -4835,
          -4845,
          -4845
         ],
         "yaxis": "y"
        },
        {
         "hoverinfo": "text",
         "marker": {
          "color": "rgb(255,220,0)"
         },
         "mode": "lines",
         "text": [
          "lockdown_total lockdown_lockdowns_military lockdown_lockdown march",
          "",
          "",
          "namaz_jama masjid_jama_masjid_delhis jama"
         ],
         "type": "scatter",
         "x": [
          0.9119185256637967,
          0.9898822597183409,
          0.9898822597183409,
          0
         ],
         "xaxis": "x",
         "y": [
          -4840,
          -4840,
          -4855,
          -4855
         ],
         "yaxis": "y"
        },
        {
         "hoverinfo": "text",
         "marker": {
          "color": "rgb(0,116,217)"
         },
         "mode": "lines",
         "text": [
          "lockdown_total lockdown_lockdowns_military lockdown_lockdown march",
          "",
          "",
          "namaz_jama masjid_jama_masjid_delhis jama"
         ],
         "type": "scatter",
         "x": [
          0.9422148632029638,
          1.0100286957773628,
          1.0100286957773628,
          0.9898822597183409
         ],
         "xaxis": "x",
         "y": [
          -4820,
          -4820,
          -4847.5,
          -4847.5
         ],
         "yaxis": "y"
        },
        {
         "hoverinfo": "text",
         "marker": {
          "color": "rgb(40,35,35)"
         },
         "mode": "lines",
         "text": [
          "migrant_migrant workers_labourers_lockdown migrant_lockdown",
          "",
          "",
          "congress workers_mia_cake mia_cake_khalifas"
         ],
         "type": "scatter",
         "x": [
          0,
          0.9165704457129773,
          0.9165704457129773,
          0
         ],
         "xaxis": "x",
         "y": [
          -4865,
          -4865,
          -4875,
          -4875
         ],
         "yaxis": "y"
        },
        {
         "hoverinfo": "text",
         "marker": {
          "color": "rgb(0,116,217)"
         },
         "mode": "lines",
         "text": [
          "migrant_migrant workers_labourers_lockdown migrant_lockdown",
          "",
          "",
          "migrant_migrant workers_workers_congress workers_labourers"
         ],
         "type": "scatter",
         "x": [
          1.0100286957773628,
          1.0372055404549745,
          1.0372055404549745,
          0.9165704457129773
         ],
         "xaxis": "x",
         "y": [
          -4833.75,
          -4833.75,
          -4870,
          -4870
         ],
         "yaxis": "y"
        },
        {
         "hoverinfo": "text",
         "marker": {
          "color": "rgb(0,116,217)"
         },
         "mode": "lines",
         "text": [
          "migrant_migrant workers_labourers_lockdown migrant_lockdown",
          "",
          "",
          "migrant_migrant workers_workers_congress workers_labourers"
         ],
         "type": "scatter",
         "x": [
          1.0581170390457653,
          1.0958565885376217,
          1.0958565885376217,
          1.0372055404549745
         ],
         "xaxis": "x",
         "y": [
          -4775,
          -4775,
          -4851.875,
          -4851.875
         ],
         "yaxis": "y"
        },
        {
         "hoverinfo": "text",
         "marker": {
          "color": "rgb(0,116,217)"
         },
         "mode": "lines",
         "text": [
          "migrant_migrant workers_labourers_lockdown migrant_lockdown",
          "",
          "",
          "migrant_migrant workers_workers_congress workers_labourers"
         ],
         "type": "scatter",
         "x": [
          1.1286136465297503,
          1.1378624061906075,
          1.1378624061906075,
          1.0958565885376217
         ],
         "xaxis": "x",
         "y": [
          -4641.34765625,
          -4641.34765625,
          -4813.4375,
          -4813.4375
         ],
         "yaxis": "y"
        },
        {
         "hoverinfo": "text",
         "marker": {
          "color": "rgb(0,116,217)"
         },
         "mode": "lines",
         "text": [
          "migrant_migrant workers_labourers_lockdown migrant_lockdown",
          "",
          "",
          "migrant_migrant workers_workers_congress workers_labourers"
         ],
         "type": "scatter",
         "x": [
          1.1423597045829517,
          1.1606924487233534,
          1.1606924487233534,
          1.1378624061906075
         ],
         "xaxis": "x",
         "y": [
          -4170.9375,
          -4170.9375,
          -4727.392578125,
          -4727.392578125
         ],
         "yaxis": "y"
        },
        {
         "hoverinfo": "text",
         "marker": {
          "color": "rgb(61,153,112)"
         },
         "mode": "lines",
         "text": [
          "duterte_philippine_marcos_rodrigo_rodrigo duterte",
          "",
          "",
          "philippines_philippine_highest covid19_lack preparation_philippines relaxed"
         ],
         "type": "scatter",
         "x": [
          0,
          0.9105698971141465,
          0.9105698971141465,
          0
         ],
         "xaxis": "x",
         "y": [
          -4905,
          -4905,
          -4915,
          -4915
         ],
         "yaxis": "y"
        },
        {
         "hoverinfo": "text",
         "marker": {
          "color": "rgb(61,153,112)"
         },
         "mode": "lines",
         "text": [
          "duterte_philippine_marcos_rodrigo_rodrigo duterte",
          "",
          "",
          "manila_metro manila_metro_travel metro_2021 april"
         ],
         "type": "scatter",
         "x": [
          0.9105698971141465,
          0.9368632876927597,
          0.9368632876927597,
          0
         ],
         "xaxis": "x",
         "y": [
          -4910,
          -4910,
          -4925,
          -4925
         ],
         "yaxis": "y"
        },
        {
         "hoverinfo": "text",
         "marker": {
          "color": "rgb(61,153,112)"
         },
         "mode": "lines",
         "text": [
          "communist_philippine communist_philippine_new peoples_peoples army",
          "",
          "",
          "duterte_philippine_marcos_rodrigo_rodrigo duterte"
         ],
         "type": "scatter",
         "x": [
          0,
          0.957955434737316,
          0.957955434737316,
          0.9368632876927597
         ],
         "xaxis": "x",
         "y": [
          -4895,
          -4895,
          -4917.5,
          -4917.5
         ],
         "yaxis": "y"
        },
        {
         "hoverinfo": "text",
         "marker": {
          "color": "rgb(61,153,112)"
         },
         "mode": "lines",
         "text": [
          "eruption_volcano_philippines_volcanic_volcanic eruption",
          "",
          "",
          "philippine_duterte_marcos_rodrigo_philippines"
         ],
         "type": "scatter",
         "x": [
          0,
          0.9761085152424733,
          0.9761085152424733,
          0.957955434737316
         ],
         "xaxis": "x",
         "y": [
          -4885,
          -4885,
          -4906.25,
          -4906.25
         ],
         "yaxis": "y"
        },
        {
         "hoverinfo": "text",
         "marker": {
          "color": "rgb(0,116,217)"
         },
         "mode": "lines",
         "text": [
          "eruption_volcano_philippines_volcanic_volcanic eruption",
          "",
          "",
          "philippine_duterte_philippines_marcos_rodrigo"
         ],
         "type": "scatter",
         "x": [
          1.1606924487233534,
          1.1769278779182148,
          1.1769278779182148,
          0.9761085152424733
         ],
         "xaxis": "x",
         "y": [
          -4449.1650390625,
          -4449.1650390625,
          -4895.625,
          -4895.625
         ],
         "yaxis": "y"
        },
        {
         "hoverinfo": "text",
         "marker": {
          "color": "rgb(255,65,54)"
         },
         "mode": "lines",
         "text": [
          "myanmar_myanmars_coup_myanmar military_military coup",
          "",
          "",
          "myanmar_military helicopter_myanmar military_helicopter shot_helicopter"
         ],
         "type": "scatter",
         "x": [
          0,
          0.7197678997731078,
          0.7197678997731078,
          0
         ],
         "xaxis": "x",
         "y": [
          -4935,
          -4935,
          -4945,
          -4945
         ],
         "yaxis": "y"
        },
        {
         "hoverinfo": "text",
         "marker": {
          "color": "rgb(0,116,217)"
         },
         "mode": "lines",
         "text": [
          "myanmar_myanmars_coup_myanmar military_military coup",
          "",
          "",
          "myanmar_myanmar military_myanmars_military_coup"
         ],
         "type": "scatter",
         "x": [
          1.1769278779182148,
          1.1926373050897079,
          1.1926373050897079,
          0.7197678997731078
         ],
         "xaxis": "x",
         "y": [
          -4672.39501953125,
          -4672.39501953125,
          -4940,
          -4940
         ],
         "yaxis": "y"
        },
        {
         "hoverinfo": "text",
         "marker": {
          "color": "rgb(0,116,217)"
         },
         "mode": "lines",
         "text": [
          "myanmar_myanmars_coup_myanmar military_military coup",
          "",
          "",
          "myanmar_myanmar military_myanmars_military_coup"
         ],
         "type": "scatter",
         "x": [
          1.1019183613387427,
          1.2112758912063881,
          1.2112758912063881,
          1.1926373050897079
         ],
         "xaxis": "x",
         "y": [
          -4065.3125,
          -4065.3125,
          -4806.197509765625,
          -4806.197509765625
         ],
         "yaxis": "y"
        },
        {
         "hoverinfo": "text",
         "marker": {
          "color": "rgb(35,205,205)"
         },
         "mode": "lines",
         "text": [
          "mamata_mamata banerjee_banerjee_injury_leg injury",
          "",
          "",
          "banerjee_mamata_mamata banerjee_bengal_amit"
         ],
         "type": "scatter",
         "x": [
          0,
          0.5913977611745436,
          0.5913977611745436,
          0
         ],
         "xaxis": "x",
         "y": [
          -4955,
          -4955,
          -4965,
          -4965
         ],
         "yaxis": "y"
        },
        {
         "hoverinfo": "text",
         "marker": {
          "color": "rgb(61,153,112)"
         },
         "mode": "lines",
         "text": [
          "bjp_bihar_seats_2000 votes_bjp lost",
          "",
          "",
          "evm_hacking_bihar_krishnamurthy_assembly elections"
         ],
         "type": "scatter",
         "x": [
          0,
          0.8603256987886352,
          0.8603256987886352,
          0
         ],
         "xaxis": "x",
         "y": [
          -4985,
          -4985,
          -4995,
          -4995
         ],
         "yaxis": "y"
        },
        {
         "hoverinfo": "text",
         "marker": {
          "color": "rgb(61,153,112)"
         },
         "mode": "lines",
         "text": [
          "sourav_sourav ganguly_ganguly_ahead 2020_bihar",
          "",
          "",
          "bihar_evm_bjp_elections_assembly elections"
         ],
         "type": "scatter",
         "x": [
          0,
          0.9063182555814268,
          0.9063182555814268,
          0.8603256987886352
         ],
         "xaxis": "x",
         "y": [
          -4975,
          -4975,
          -4990,
          -4990
         ],
         "yaxis": "y"
        },
        {
         "hoverinfo": "text",
         "marker": {
          "color": "rgb(61,153,112)"
         },
         "mode": "lines",
         "text": [
          "bihar_bjp_evm_elections_assembly elections",
          "",
          "",
          "mla_bjp mla_bjp_mlas_sanjay singh"
         ],
         "type": "scatter",
         "x": [
          0.9063182555814268,
          0.9538744983746137,
          0.9538744983746137,
          0
         ],
         "xaxis": "x",
         "y": [
          -4982.5,
          -4982.5,
          -5005,
          -5005
         ],
         "yaxis": "y"
        },
        {
         "hoverinfo": "text",
         "marker": {
          "color": "rgb(255,65,54)"
         },
         "mode": "lines",
         "text": [
          "yogi_yogi adityanath_adityanath_yogi adityanaths_adityanaths",
          "",
          "",
          "hathras_dance_accused_sandeep_rape case"
         ],
         "type": "scatter",
         "x": [
          0,
          0.8177146953964632,
          0.8177146953964632,
          0
         ],
         "xaxis": "x",
         "y": [
          -5015,
          -5015,
          -5025,
          -5025
         ],
         "yaxis": "y"
        },
        {
         "hoverinfo": "text",
         "marker": {
          "color": "rgb(255,65,54)"
         },
         "mode": "lines",
         "text": [
          "yogi_yogi adityanath_adityanath_minister yogi_yogi adityanaths",
          "",
          "",
          "hathras victim_hathras_victim_cremation_watching hathras"
         ],
         "type": "scatter",
         "x": [
          0.8177146953964632,
          0.8925828321860909,
          0.8925828321860909,
          0
         ],
         "xaxis": "x",
         "y": [
          -5020,
          -5020,
          -5035,
          -5035
         ],
         "yaxis": "y"
        },
        {
         "hoverinfo": "text",
         "marker": {
          "color": "rgb(0,116,217)"
         },
         "mode": "lines",
         "text": [
          "bjp_bihar_mla_elections_evm",
          "",
          "",
          "yogi_yogi adityanath_adityanath_hathras_minister yogi"
         ],
         "type": "scatter",
         "x": [
          0.9538744983746137,
          1.1739783446841472,
          1.1739783446841472,
          0.8925828321860909
         ],
         "xaxis": "x",
         "y": [
          -4993.75,
          -4993.75,
          -5027.5,
          -5027.5
         ],
         "yaxis": "y"
        },
        {
         "hoverinfo": "text",
         "marker": {
          "color": "rgb(0,116,217)"
         },
         "mode": "lines",
         "text": [
          "mamata_banerjee_mamata banerjee_injury_bengal",
          "",
          "",
          "yogi_yogi adityanath_adityanath_hathras_minister yogi"
         ],
         "type": "scatter",
         "x": [
          0.5913977611745436,
          1.2371280818550956,
          1.2371280818550956,
          1.1739783446841472
         ],
         "xaxis": "x",
         "y": [
          -4960,
          -4960,
          -5010.625,
          -5010.625
         ],
         "yaxis": "y"
        },
        {
         "hoverinfo": "text",
         "marker": {
          "color": "rgb(0,116,217)"
         },
         "mode": "lines",
         "text": [
          "mamata_banerjee_mamata banerjee_injury_bengal",
          "",
          "",
          "yogi_yogi adityanath_adityanath_hathras_minister yogi"
         ],
         "type": "scatter",
         "x": [
          1.2112758912063881,
          1.290658994841648,
          1.290658994841648,
          1.2371280818550956
         ],
         "xaxis": "x",
         "y": [
          -4435.7550048828125,
          -4435.7550048828125,
          -4985.3125,
          -4985.3125
         ],
         "yaxis": "y"
        },
        {
         "hoverinfo": "text",
         "marker": {
          "color": "rgb(0,116,217)"
         },
         "mode": "lines",
         "text": [
          "oxygen_saudi_arabia_saudi arabia_camphor",
          "",
          "",
          "yogi_yogi adityanath_adityanath_hathras_minister yogi"
         ],
         "type": "scatter",
         "x": [
          1.106795654757429,
          1.316896951223252,
          1.316896951223252,
          1.290658994841648
         ],
         "xaxis": "x",
         "y": [
          -3978.125,
          -3978.125,
          -4710.533752441406,
          -4710.533752441406
         ],
         "yaxis": "y"
        },
        {
         "hoverinfo": "text",
         "marker": {
          "color": "rgb(35,205,205)"
         },
         "mode": "lines",
         "text": [
          "farmers_tractor_farmers protest_protesting_protest",
          "",
          "",
          "rajnath_rajnath singh_farmers_singh_bjp mp"
         ],
         "type": "scatter",
         "x": [
          0,
          0.8172623846969423,
          0.8172623846969423,
          0
         ],
         "xaxis": "x",
         "y": [
          -5065,
          -5065,
          -5075,
          -5075
         ],
         "yaxis": "y"
        },
        {
         "hoverinfo": "text",
         "marker": {
          "color": "rgb(35,205,205)"
         },
         "mode": "lines",
         "text": [
          "sikh_sikhs_nihang_nihang sikhs_farmers protest",
          "",
          "",
          "farmers_tractor_protesting_farmers protest_farmer"
         ],
         "type": "scatter",
         "x": [
          0,
          0.8994645659550363,
          0.8994645659550363,
          0.8172623846969423
         ],
         "xaxis": "x",
         "y": [
          -5055,
          -5055,
          -5070,
          -5070
         ],
         "yaxis": "y"
        },
        {
         "hoverinfo": "text",
         "marker": {
          "color": "rgb(35,205,205)"
         },
         "mode": "lines",
         "text": [
          "farmer_lathicharge_gun farmer_farmer injured_ordered lathicharge",
          "",
          "",
          "farmers_farmers protest_tractor_protesting_protest"
         ],
         "type": "scatter",
         "x": [
          0,
          0.938641229227442,
          0.938641229227442,
          0.8994645659550363
         ],
         "xaxis": "x",
         "y": [
          -5045,
          -5045,
          -5062.5,
          -5062.5
         ],
         "yaxis": "y"
        },
        {
         "hoverinfo": "text",
         "marker": {
          "color": "rgb(133,20,75)"
         },
         "mode": "lines",
         "text": [
          "prokhalistan_farmers_slogans_prokhalistan slogans_propakistan",
          "",
          "",
          "slogans_zindabad slogans_zindabad_pakistan zindabad_slogans raised"
         ],
         "type": "scatter",
         "x": [
          0,
          0.7742133821948882,
          0.7742133821948882,
          0
         ],
         "xaxis": "x",
         "y": [
          -5085,
          -5085,
          -5095,
          -5095
         ],
         "yaxis": "y"
        },
        {
         "hoverinfo": "text",
         "marker": {
          "color": "rgb(0,116,217)"
         },
         "mode": "lines",
         "text": [
          "farmers_farmer_farmers protest_protesting_tractor",
          "",
          "",
          "slogans_zindabad slogans_slogans raised_zindabad_raised"
         ],
         "type": "scatter",
         "x": [
          0.938641229227442,
          1.0719687908543414,
          1.0719687908543414,
          0.7742133821948882
         ],
         "xaxis": "x",
         "y": [
          -5053.75,
          -5053.75,
          -5090,
          -5090
         ],
         "yaxis": "y"
        },
        {
         "hoverinfo": "text",
         "marker": {
          "color": "rgb(255,220,0)"
         },
         "mode": "lines",
         "text": [
          "modi modi_modi_chanted_parliament modi_modi west",
          "",
          "",
          "modi_narendra_narendra modi_pm_pm modi"
         ],
         "type": "scatter",
         "x": [
          0,
          0.7502818257887697,
          0.7502818257887697,
          0
         ],
         "xaxis": "x",
         "y": [
          -5115,
          -5115,
          -5125,
          -5125
         ],
         "yaxis": "y"
        },
        {
         "hoverinfo": "text",
         "marker": {
          "color": "rgb(255,220,0)"
         },
         "mode": "lines",
         "text": [
          "modi_narendra_narendra modi_pm_pm modi",
          "",
          "",
          "pm_pm modis_pm modi_modi bihar_taken haryana"
         ],
         "type": "scatter",
         "x": [
          0.7502818257887697,
          0.8768224896965443,
          0.8768224896965443,
          0
         ],
         "xaxis": "x",
         "y": [
          -5120,
          -5120,
          -5135,
          -5135
         ],
         "yaxis": "y"
        },
        {
         "hoverinfo": "text",
         "marker": {
          "color": "rgb(255,220,0)"
         },
         "mode": "lines",
         "text": [
          "petrol_tiwari said_question petrol_petrol prices_rs 200",
          "",
          "",
          "modi_narendra_narendra modi_pm_pm modi"
         ],
         "type": "scatter",
         "x": [
          0,
          0.9522784060805269,
          0.9522784060805269,
          0.8768224896965443
         ],
         "xaxis": "x",
         "y": [
          -5105,
          -5105,
          -5127.5,
          -5127.5
         ],
         "yaxis": "y"
        },
        {
         "hoverinfo": "text",
         "marker": {
          "color": "rgb(40,35,35)"
         },
         "mode": "lines",
         "text": [
          "prince_prince philip_philip_queen_prince philips",
          "",
          "",
          "meghan_archie_meghan markle_markle_prince"
         ],
         "type": "scatter",
         "x": [
          0,
          0.8186814760215181,
          0.8186814760215181,
          0
         ],
         "xaxis": "x",
         "y": [
          -5155,
          -5155,
          -5165,
          -5165
         ],
         "yaxis": "y"
        },
        {
         "hoverinfo": "text",
         "marker": {
          "color": "rgb(40,35,35)"
         },
         "mode": "lines",
         "text": [
          "thanking_thanking pm_modi sending_modi covid_queen elizabeth",
          "",
          "",
          "prince_prince philip_philip_queen_harry"
         ],
         "type": "scatter",
         "x": [
          0,
          0.9501715278354589,
          0.9501715278354589,
          0.8186814760215181
         ],
         "xaxis": "x",
         "y": [
          -5145,
          -5145,
          -5160,
          -5160
         ],
         "yaxis": "y"
        },
        {
         "hoverinfo": "text",
         "marker": {
          "color": "rgb(0,116,217)"
         },
         "mode": "lines",
         "text": [
          "modi_narendra_narendra modi_pm_pm modi",
          "",
          "",
          "prince_queen elizabeth_queen_prince philip_elizabeth"
         ],
         "type": "scatter",
         "x": [
          0.9522784060805269,
          1.1782958060009738,
          1.1782958060009738,
          0.9501715278354589
         ],
         "xaxis": "x",
         "y": [
          -5116.25,
          -5116.25,
          -5152.5,
          -5152.5
         ],
         "yaxis": "y"
        },
        {
         "hoverinfo": "text",
         "marker": {
          "color": "rgb(0,116,217)"
         },
         "mode": "lines",
         "text": [
          "modi_narendra_narendra modi_pm_pm modi",
          "",
          "",
          "prince_queen elizabeth_queen_prince philip_elizabeth"
         ],
         "type": "scatter",
         "x": [
          1.0719687908543414,
          1.284554588958663,
          1.284554588958663,
          1.1782958060009738
         ],
         "xaxis": "x",
         "y": [
          -5071.875,
          -5071.875,
          -5134.375,
          -5134.375
         ],
         "yaxis": "y"
        },
        {
         "hoverinfo": "text",
         "marker": {
          "color": "rgb(0,116,217)"
         },
         "mode": "lines",
         "text": [
          "modi_narendra_narendra modi_pm_pm modi",
          "",
          "",
          "prince_queen elizabeth_queen_prince philip_elizabeth"
         ],
         "type": "scatter",
         "x": [
          1.316896951223252,
          1.3362712109814918,
          1.3362712109814918,
          1.284554588958663
         ],
         "xaxis": "x",
         "y": [
          -4344.329376220703,
          -4344.329376220703,
          -5103.125,
          -5103.125
         ],
         "yaxis": "y"
        },
        {
         "hoverinfo": "text",
         "marker": {
          "color": "rgb(0,116,217)"
         },
         "mode": "lines",
         "text": [
          "sri_sri lanka_lanka_lankan_sri lankan",
          "",
          "",
          "prince_queen elizabeth_queen_prince philip_elizabeth"
         ],
         "type": "scatter",
         "x": [
          0.8164337616651159,
          1.3908161062774282,
          1.3908161062774282,
          1.3362712109814918
         ],
         "xaxis": "x",
         "y": [
          -3937.5,
          -3937.5,
          -4723.727188110352,
          -4723.727188110352
         ],
         "yaxis": "y"
        },
        {
         "hoverinfo": "text",
         "marker": {
          "color": "rgb(0,116,217)"
         },
         "mode": "lines",
         "text": [
          "sri_sri lanka_lanka_lankan_sri lankan",
          "",
          "",
          "prince_queen elizabeth_queen_prince philip_elizabeth"
         ],
         "type": "scatter",
         "x": [
          1.4263481000581082,
          1.431702814516102,
          1.431702814516102,
          1.3908161062774282
         ],
         "xaxis": "x",
         "y": [
          -3224.6378270479727,
          -3224.6378270479727,
          -4330.613594055176,
          -4330.613594055176
         ],
         "yaxis": "y"
        },
        {
         "hoverinfo": "text",
         "marker": {
          "color": "rgb(0,116,217)"
         },
         "mode": "lines",
         "text": [
          "floyd_george floyd_george_derek_derek chauvin",
          "",
          "",
          "prince_queen elizabeth_queen_prince philip_elizabeth"
         ],
         "type": "scatter",
         "x": [
          0.9510067887375114,
          1.4422171003966677,
          1.4422171003966677,
          1.431702814516102
         ],
         "xaxis": "x",
         "y": [
          -110.625,
          -110.625,
          -3777.6257105515742,
          -3777.6257105515742
         ],
         "yaxis": "y"
        },
        {
         "hoverinfo": "text",
         "marker": {
          "color": "rgb(61,153,112)"
         },
         "mode": "lines",
         "text": [
          "5g_5g tower_cells_5g technology_radiation",
          "",
          "",
          "cov19_5g_5g chip_circuit_equipment"
         ],
         "type": "scatter",
         "x": [
          0,
          0.8558045180334755,
          0.8558045180334755,
          0
         ],
         "xaxis": "x",
         "y": [
          -5185,
          -5185,
          -5195,
          -5195
         ],
         "yaxis": "y"
        },
        {
         "hoverinfo": "text",
         "marker": {
          "color": "rgb(61,153,112)"
         },
         "mode": "lines",
         "text": [
          "bacterium_radiation covid19_virus bacterium_radiation_caused bacteria",
          "",
          "",
          "5g_5g tower_towers_cells_5g technology"
         ],
         "type": "scatter",
         "x": [
          0,
          0.9493563957557679,
          0.9493563957557679,
          0.8558045180334755
         ],
         "xaxis": "x",
         "y": [
          -5175,
          -5175,
          -5190,
          -5190
         ],
         "yaxis": "y"
        },
        {
         "hoverinfo": "text",
         "marker": {
          "color": "rgb(61,153,112)"
         },
         "mode": "lines",
         "text": [
          "5g_radiation_5g tower_5g technology_towers",
          "",
          "",
          "5g_neighbour told_neighbour_digital currency_rollout"
         ],
         "type": "scatter",
         "x": [
          0.9493563957557679,
          0.9643419118991436,
          0.9643419118991436,
          0
         ],
         "xaxis": "x",
         "y": [
          -5182.5,
          -5182.5,
          -5205,
          -5205
         ],
         "yaxis": "y"
        },
        {
         "hoverinfo": "text",
         "marker": {
          "color": "rgb(255,65,54)"
         },
         "mode": "lines",
         "text": [
          "yup fake_disease welcome_king5seattle flu_jaythemuss2_know niallboylan",
          "",
          "",
          "great reset_reset_great_earth primary_examples coming"
         ],
         "type": "scatter",
         "x": [
          0,
          0.9780485469490255,
          0.9780485469490255,
          0
         ],
         "xaxis": "x",
         "y": [
          -5215,
          -5215,
          -5225,
          -5225
         ],
         "yaxis": "y"
        },
        {
         "hoverinfo": "text",
         "marker": {
          "color": "rgb(255,65,54)"
         },
         "mode": "lines",
         "text": [
          "climate_climate change_global warming_warming_change",
          "",
          "",
          "covid 19_world population_stupid_19_obamas"
         ],
         "type": "scatter",
         "x": [
          0,
          0.9759247997286649,
          0.9759247997286649,
          0
         ],
         "xaxis": "x",
         "y": [
          -5245,
          -5245,
          -5255,
          -5255
         ],
         "yaxis": "y"
        },
        {
         "hoverinfo": "text",
         "marker": {
          "color": "rgb(255,65,54)"
         },
         "mode": "lines",
         "text": [
          "nwo_alien_hes_elite_purposely mistreated",
          "",
          "",
          "covid 19_world population_stupid_19_obamas"
         ],
         "type": "scatter",
         "x": [
          0,
          0.9811153115709195,
          0.9811153115709195,
          0.9759247997286649
         ],
         "xaxis": "x",
         "y": [
          -5235,
          -5235,
          -5250,
          -5250
         ],
         "yaxis": "y"
        },
        {
         "hoverinfo": "text",
         "marker": {
          "color": "rgb(255,65,54)"
         },
         "mode": "lines",
         "text": [
          "nwo_alien_hes_elite_purposely mistreated",
          "",
          "",
          "covid 19_world population_stupid_19_obamas"
         ],
         "type": "scatter",
         "x": [
          0.9780485469490255,
          0.9965387178123207,
          0.9965387178123207,
          0.9811153115709195
         ],
         "xaxis": "x",
         "y": [
          -5220,
          -5220,
          -5242.5,
          -5242.5
         ],
         "yaxis": "y"
        },
        {
         "hoverinfo": "text",
         "marker": {
          "color": "rgb(35,205,205)"
         },
         "mode": "lines",
         "text": [
          "corona_corona crisis_new world_world order_install",
          "",
          "",
          "population control_uniform civil_civil code_bring population_population"
         ],
         "type": "scatter",
         "x": [
          0,
          0.9631367054235775,
          0.9631367054235775,
          0
         ],
         "xaxis": "x",
         "y": [
          -5265,
          -5265,
          -5275,
          -5275
         ],
         "yaxis": "y"
        },
        {
         "hoverinfo": "text",
         "marker": {
          "color": "rgb(0,116,217)"
         },
         "mode": "lines",
         "text": [
          "corona_corona crisis_new world_world order_install",
          "",
          "",
          "corona_corona crisis_new world_world order_install"
         ],
         "type": "scatter",
         "x": [
          0.9965387178123207,
          1.000327976407724,
          1.000327976407724,
          0.9631367054235775
         ],
         "xaxis": "x",
         "y": [
          -5231.25,
          -5231.25,
          -5270,
          -5270
         ],
         "yaxis": "y"
        },
        {
         "hoverinfo": "text",
         "marker": {
          "color": "rgb(61,153,112)"
         },
         "mode": "lines",
         "text": [
          "spiritual_spiritually_spirituality_life_pray",
          "",
          "",
          "pandemic_plandemic_control_pandemic plandemic_population control"
         ],
         "type": "scatter",
         "x": [
          0,
          0.9072561712193755,
          0.9072561712193755,
          0
         ],
         "xaxis": "x",
         "y": [
          -5285,
          -5285,
          -5295,
          -5295
         ],
         "yaxis": "y"
        },
        {
         "hoverinfo": "text",
         "marker": {
          "color": "rgb(61,153,112)"
         },
         "mode": "lines",
         "text": [
          "hoax_covid hoax_covid_999 belive_belive",
          "",
          "",
          "qanon_conspiracy_qanon conspiracy_believe qanon_cult"
         ],
         "type": "scatter",
         "x": [
          0,
          0.9294535166506509,
          0.9294535166506509,
          0
         ],
         "xaxis": "x",
         "y": [
          -5305,
          -5305,
          -5315,
          -5315
         ],
         "yaxis": "y"
        },
        {
         "hoverinfo": "text",
         "marker": {
          "color": "rgb(61,153,112)"
         },
         "mode": "lines",
         "text": [
          "hoax_covid hoax_covid_999 belive_belive",
          "",
          "",
          "masks_mask_face_face masks_wear"
         ],
         "type": "scatter",
         "x": [
          0.9294535166506509,
          0.9387168764944868,
          0.9387168764944868,
          0
         ],
         "xaxis": "x",
         "y": [
          -5310,
          -5310,
          -5325,
          -5325
         ],
         "yaxis": "y"
        },
        {
         "hoverinfo": "text",
         "marker": {
          "color": "rgb(61,153,112)"
         },
         "mode": "lines",
         "text": [
          "spiritual_pandemic_spiritually_physically_spirituality",
          "",
          "",
          "masks_mask_face_face masks_wear"
         ],
         "type": "scatter",
         "x": [
          0.9072561712193755,
          0.9589406422906577,
          0.9589406422906577,
          0.9387168764944868
         ],
         "xaxis": "x",
         "y": [
          -5290,
          -5290,
          -5317.5,
          -5317.5
         ],
         "yaxis": "y"
        },
        {
         "hoverinfo": "text",
         "marker": {
          "color": "rgb(255,65,54)"
         },
         "mode": "lines",
         "text": [
          "deep state_deep_state_ish_bad deep",
          "",
          "",
          "mary mary_gullible_mary_news fake_covid didnt"
         ],
         "type": "scatter",
         "x": [
          0,
          0.9557710845711193,
          0.9557710845711193,
          0
         ],
         "xaxis": "x",
         "y": [
          -5345,
          -5345,
          -5355,
          -5355
         ],
         "yaxis": "y"
        },
        {
         "hoverinfo": "text",
         "marker": {
          "color": "rgb(255,65,54)"
         },
         "mode": "lines",
         "text": [
          "hoax trump_hoax_hoax deep_suppose_alex jones",
          "",
          "",
          "deep state_deep_state_ish_mary mary"
         ],
         "type": "scatter",
         "x": [
          0,
          0.9719085250214208,
          0.9719085250214208,
          0.9557710845711193
         ],
         "xaxis": "x",
         "y": [
          -5335,
          -5335,
          -5350,
          -5350
         ],
         "yaxis": "y"
        },
        {
         "hoverinfo": "text",
         "marker": {
          "color": "rgb(0,116,217)"
         },
         "mode": "lines",
         "text": [
          "hoax trump_hoax_hoax deep_suppose_alex jones",
          "",
          "",
          "deep state_deep_state_ish_mary mary"
         ],
         "type": "scatter",
         "x": [
          0.9589406422906577,
          1.0068719109016395,
          1.0068719109016395,
          0.9719085250214208
         ],
         "xaxis": "x",
         "y": [
          -5303.75,
          -5303.75,
          -5342.5,
          -5342.5
         ],
         "yaxis": "y"
        },
        {
         "hoverinfo": "text",
         "marker": {
          "color": "rgb(0,116,217)"
         },
         "mode": "lines",
         "text": [
          "hoax trump_hoax_hoax deep_suppose_alex jones",
          "",
          "",
          "deep state_deep_state_ish_mary mary"
         ],
         "type": "scatter",
         "x": [
          1.000327976407724,
          1.039252847733721,
          1.039252847733721,
          1.0068719109016395
         ],
         "xaxis": "x",
         "y": [
          -5250.625,
          -5250.625,
          -5323.125,
          -5323.125
         ],
         "yaxis": "y"
        },
        {
         "hoverinfo": "text",
         "marker": {
          "color": "rgb(35,205,205)"
         },
         "mode": "lines",
         "text": [
          "microchip_microchips_covid vaccine_vaccine_chip",
          "",
          "",
          "gates_microsoft_melinda_melinda gates_gates foundation"
         ],
         "type": "scatter",
         "x": [
          0,
          0.8798124007475775,
          0.8798124007475775,
          0
         ],
         "xaxis": "x",
         "y": [
          -5375,
          -5375,
          -5385,
          -5385
         ],
         "yaxis": "y"
        },
        {
         "hoverinfo": "text",
         "marker": {
          "color": "rgb(35,205,205)"
         },
         "mode": "lines",
         "text": [
          "beast_mark beast_mark_vaccine mark_revelation 13",
          "",
          "",
          "gates_microchip_microsoft_microchips_vaccine"
         ],
         "type": "scatter",
         "x": [
          0,
          0.9533812558694554,
          0.9533812558694554,
          0.8798124007475775
         ],
         "xaxis": "x",
         "y": [
          -5365,
          -5365,
          -5380,
          -5380
         ],
         "yaxis": "y"
        },
        {
         "hoverinfo": "text",
         "marker": {
          "color": "rgb(35,205,205)"
         },
         "mode": "lines",
         "text": [
          "beast_mark beast_mark_vaccine mark_revelation 13",
          "",
          "",
          "movements activities_rfid_movements_activities_pushing research"
         ],
         "type": "scatter",
         "x": [
          0.9533812558694554,
          0.9791156872358887,
          0.9791156872358887,
          0
         ],
         "xaxis": "x",
         "y": [
          -5372.5,
          -5372.5,
          -5395,
          -5395
         ],
         "yaxis": "y"
        },
        {
         "hoverinfo": "text",
         "marker": {
          "color": "rgb(0,116,217)"
         },
         "mode": "lines",
         "text": [
          "beast_mark beast_mark_vaccine mark_revelation 13",
          "",
          "",
          "movements activities_rfid_movements_activities_pushing research"
         ],
         "type": "scatter",
         "x": [
          1.039252847733721,
          1.0632755127100284,
          1.0632755127100284,
          0.9791156872358887
         ],
         "xaxis": "x",
         "y": [
          -5286.875,
          -5286.875,
          -5383.75,
          -5383.75
         ],
         "yaxis": "y"
        },
        {
         "hoverinfo": "text",
         "marker": {
          "color": "rgb(0,116,217)"
         },
         "mode": "lines",
         "text": [
          "5g_radiation_5g technology_5g tower_towers",
          "",
          "",
          "movements activities_rfid_movements_activities_pushing research"
         ],
         "type": "scatter",
         "x": [
          0.9643419118991436,
          1.17711449702929,
          1.17711449702929,
          1.0632755127100284
         ],
         "xaxis": "x",
         "y": [
          -5193.75,
          -5193.75,
          -5335.3125,
          -5335.3125
         ],
         "yaxis": "y"
        },
        {
         "hoverinfo": "text",
         "marker": {
          "color": "rgb(133,20,75)"
         },
         "mode": "lines",
         "text": [
          "anthony fauci_dr anthony_anthony_fauci_dr",
          "",
          "",
          "fauci_anthony fauci_anthony_dr anthony_dr"
         ],
         "type": "scatter",
         "x": [
          0,
          0.6815803534412171,
          0.6815803534412171,
          0
         ],
         "xaxis": "x",
         "y": [
          -5405,
          -5405,
          -5415,
          -5415
         ],
         "yaxis": "y"
        },
        {
         "hoverinfo": "text",
         "marker": {
          "color": "rgb(0,116,217)"
         },
         "mode": "lines",
         "text": [
          "anthony fauci_dr anthony_anthony_fauci_dr",
          "",
          "",
          "fauci_anthony fauci_anthony_dr anthony_dr"
         ],
         "type": "scatter",
         "x": [
          1.17711449702929,
          1.2047096957748915,
          1.2047096957748915,
          0.6815803534412171
         ],
         "xaxis": "x",
         "y": [
          -5264.53125,
          -5264.53125,
          -5410,
          -5410
         ],
         "yaxis": "y"
        },
        {
         "hoverinfo": "text",
         "marker": {
          "color": "rgb(255,220,0)"
         },
         "mode": "lines",
         "text": [
          "desantis_florida gov_requiring_students faculty_requiring students",
          "",
          "",
          "publix_desantis_ron desantis_pac_florida gov"
         ],
         "type": "scatter",
         "x": [
          0,
          0.8889354970496983,
          0.8889354970496983,
          0
         ],
         "xaxis": "x",
         "y": [
          -5425,
          -5425,
          -5435,
          -5435
         ],
         "yaxis": "y"
        },
        {
         "hoverinfo": "text",
         "marker": {
          "color": "rgb(255,220,0)"
         },
         "mode": "lines",
         "text": [
          "data_desantis_rebekah_rebekah jones_floridas",
          "",
          "",
          "florida_floridas_fl_state florida_reporting"
         ],
         "type": "scatter",
         "x": [
          0,
          0.9187222750498845,
          0.9187222750498845,
          0
         ],
         "xaxis": "x",
         "y": [
          -5445,
          -5445,
          -5455,
          -5455
         ],
         "yaxis": "y"
        },
        {
         "hoverinfo": "text",
         "marker": {
          "color": "rgb(255,220,0)"
         },
         "mode": "lines",
         "text": [
          "desantis_publix_florida gov_ron desantis_ron",
          "",
          "",
          "florida_floridas_floridas covid19_data_desantis"
         ],
         "type": "scatter",
         "x": [
          0.8889354970496983,
          0.9575912263585739,
          0.9575912263585739,
          0.9187222750498845
         ],
         "xaxis": "x",
         "y": [
          -5430,
          -5430,
          -5450,
          -5450
         ],
         "yaxis": "y"
        },
        {
         "hoverinfo": "text",
         "marker": {
          "color": "rgb(40,35,35)"
         },
         "mode": "lines",
         "text": [
          "deaths big_10 previous_look total_urge look_lower 10",
          "",
          "",
          "previous years_previous_15 weeks_2020 lower_higher"
         ],
         "type": "scatter",
         "x": [
          0,
          0.8506178946339717,
          0.8506178946339717,
          0
         ],
         "xaxis": "x",
         "y": [
          -5465,
          -5465,
          -5475,
          -5475
         ],
         "yaxis": "y"
        },
        {
         "hoverinfo": "text",
         "marker": {
          "color": "rgb(61,153,112)"
         },
         "mode": "lines",
         "text": [
          "deaths_death toll_toll_covid19 death_covid19 deaths",
          "",
          "",
          "survival_survival rate_rate_covid19 survival_average"
         ],
         "type": "scatter",
         "x": [
          0,
          0.9131181049645666,
          0.9131181049645666,
          0
         ],
         "xaxis": "x",
         "y": [
          -5485,
          -5485,
          -5495,
          -5495
         ],
         "yaxis": "y"
        },
        {
         "hoverinfo": "text",
         "marker": {
          "color": "rgb(61,153,112)"
         },
         "mode": "lines",
         "text": [
          "deaths_death toll_toll_covid19 death_covid19 deaths",
          "",
          "",
          "ireland_england_deaths_northern ireland_northern"
         ],
         "type": "scatter",
         "x": [
          0.9131181049645666,
          0.9188255600292847,
          0.9188255600292847,
          0
         ],
         "xaxis": "x",
         "y": [
          -5490,
          -5490,
          -5505,
          -5505
         ],
         "yaxis": "y"
        },
        {
         "hoverinfo": "text",
         "marker": {
          "color": "rgb(255,65,54)"
         },
         "mode": "lines",
         "text": [
          "care facilities_coronavirus deaths_facilities_care_deaths",
          "",
          "",
          "65 million_kill 65_003_immunity killed_deaths pass"
         ],
         "type": "scatter",
         "x": [
          0,
          0.9676068779484619,
          0.9676068779484619,
          0
         ],
         "xaxis": "x",
         "y": [
          -5515,
          -5515,
          -5525,
          -5525
         ],
         "yaxis": "y"
        },
        {
         "hoverinfo": "text",
         "marker": {
          "color": "rgb(0,116,217)"
         },
         "mode": "lines",
         "text": [
          "care facilities_coronavirus deaths_facilities_care_deaths",
          "",
          "",
          "care facilities_coronavirus deaths_facilities_care_deaths"
         ],
         "type": "scatter",
         "x": [
          0.9188255600292847,
          1.0053444215545533,
          1.0053444215545533,
          0.9676068779484619
         ],
         "xaxis": "x",
         "y": [
          -5497.5,
          -5497.5,
          -5520,
          -5520
         ],
         "yaxis": "y"
        },
        {
         "hoverinfo": "text",
         "marker": {
          "color": "rgb(0,116,217)"
         },
         "mode": "lines",
         "text": [
          "previous years_2020 lower_previous_lower_lower 10",
          "",
          "",
          "care facilities_coronavirus deaths_facilities_care_deaths"
         ],
         "type": "scatter",
         "x": [
          0.8506178946339717,
          1.0422071888323239,
          1.0422071888323239,
          1.0053444215545533
         ],
         "xaxis": "x",
         "y": [
          -5470,
          -5470,
          -5508.75,
          -5508.75
         ],
         "yaxis": "y"
        },
        {
         "hoverinfo": "text",
         "marker": {
          "color": "rgb(0,116,217)"
         },
         "mode": "lines",
         "text": [
          "florida_desantis_ron_ron desantis_floridas",
          "",
          "",
          "care facilities_coronavirus deaths_facilities_care_deaths"
         ],
         "type": "scatter",
         "x": [
          0.9575912263585739,
          1.1832597977335135,
          1.1832597977335135,
          1.0422071888323239
         ],
         "xaxis": "x",
         "y": [
          -5440,
          -5440,
          -5489.375,
          -5489.375
         ],
         "yaxis": "y"
        },
        {
         "hoverinfo": "text",
         "marker": {
          "color": "rgb(35,205,205)"
         },
         "mode": "lines",
         "text": [
          "vitamin_coronavirus vitamin_antibiotics_fish antibiotics_coronavirus fish",
          "",
          "",
          "vitamin_reduction_need icu_reduction need_icu 60"
         ],
         "type": "scatter",
         "x": [
          0,
          0.8412248820534932,
          0.8412248820534932,
          0
         ],
         "xaxis": "x",
         "y": [
          -5535,
          -5535,
          -5545,
          -5545
         ],
         "yaxis": "y"
        },
        {
         "hoverinfo": "text",
         "marker": {
          "color": "rgb(61,153,112)"
         },
         "mode": "lines",
         "text": [
          "ivermectin_treatment_ivermectin hydroxychloroquine_drug_doh",
          "",
          "",
          "hydroxychloroquine_chloroquine_zinc_hydroxychloroquine cure_cure covid19"
         ],
         "type": "scatter",
         "x": [
          0,
          0.9077620747306892,
          0.9077620747306892,
          0
         ],
         "xaxis": "x",
         "y": [
          -5555,
          -5555,
          -5565,
          -5565
         ],
         "yaxis": "y"
        },
        {
         "hoverinfo": "text",
         "marker": {
          "color": "rgb(61,153,112)"
         },
         "mode": "lines",
         "text": [
          "hydroxychloroquine_ivermectin_chloroquine_zinc_treatment",
          "",
          "",
          "remdesivir_899_groups people_treatment virafin_reduce recovery"
         ],
         "type": "scatter",
         "x": [
          0.9077620747306892,
          0.9558033178018358,
          0.9558033178018358,
          0
         ],
         "xaxis": "x",
         "y": [
          -5560,
          -5560,
          -5575,
          -5575
         ],
         "yaxis": "y"
        },
        {
         "hoverinfo": "text",
         "marker": {
          "color": "rgb(255,65,54)"
         },
         "mode": "lines",
         "text": [
          "hcq_patent_treat covid19_prescriptions_livfavir",
          "",
          "",
          "patent_2015_pirbright institute_patented_pirbright"
         ],
         "type": "scatter",
         "x": [
          0,
          0.9398680766565382,
          0.9398680766565382,
          0
         ],
         "xaxis": "x",
         "y": [
          -5585,
          -5585,
          -5595,
          -5595
         ],
         "yaxis": "y"
        },
        {
         "hoverinfo": "text",
         "marker": {
          "color": "rgb(0,116,217)"
         },
         "mode": "lines",
         "text": [
          "hydroxychloroquine_ivermectin_chloroquine_zinc_remdesivir",
          "",
          "",
          "patent_hcq_2015_patents_pirbright institute"
         ],
         "type": "scatter",
         "x": [
          0.9558033178018358,
          1.0242864441006498,
          1.0242864441006498,
          0.9398680766565382
         ],
         "xaxis": "x",
         "y": [
          -5567.5,
          -5567.5,
          -5590,
          -5590
         ],
         "yaxis": "y"
        },
        {
         "hoverinfo": "text",
         "marker": {
          "color": "rgb(0,116,217)"
         },
         "mode": "lines",
         "text": [
          "vitamin_reduction_need icu_vitamin covid19_reduction need",
          "",
          "",
          "hydroxychloroquine_ivermectin_patent_hcq_chloroquine"
         ],
         "type": "scatter",
         "x": [
          0.8412248820534932,
          1.102838505861488,
          1.102838505861488,
          1.0242864441006498
         ],
         "xaxis": "x",
         "y": [
          -5540,
          -5540,
          -5578.75,
          -5578.75
         ],
         "yaxis": "y"
        },
        {
         "hoverinfo": "text",
         "marker": {
          "color": "rgb(35,205,205)"
         },
         "mode": "lines",
         "text": [
          "benadryl_poisonous_milk poisonous_cough syrup_cough",
          "",
          "",
          "milk_adulterating_adulterating milk_man adulterating_jogeshwari mumbai"
         ],
         "type": "scatter",
         "x": [
          0,
          0.9268147452476907,
          0.9268147452476907,
          0
         ],
         "xaxis": "x",
         "y": [
          -5605,
          -5605,
          -5615,
          -5615
         ],
         "yaxis": "y"
        },
        {
         "hoverinfo": "text",
         "marker": {
          "color": "rgb(133,20,75)"
         },
         "mode": "lines",
         "text": [
          "costco_2021 costco_founder costco_hot dogs_membership letter",
          "",
          "",
          "recalled_costco_recall_bath tissue_costco issued"
         ],
         "type": "scatter",
         "x": [
          0,
          0.9302929336167651,
          0.9302929336167651,
          0
         ],
         "xaxis": "x",
         "y": [
          -5625,
          -5625,
          -5635,
          -5635
         ],
         "yaxis": "y"
        },
        {
         "hoverinfo": "text",
         "marker": {
          "color": "rgb(0,116,217)"
         },
         "mode": "lines",
         "text": [
          "milk_adulterating_adulterating milk_man adulterating_benadryl",
          "",
          "",
          "costco_recalled_2021 costco_recall_issued recall"
         ],
         "type": "scatter",
         "x": [
          0.9268147452476907,
          1.0480478803789923,
          1.0480478803789923,
          0.9302929336167651
         ],
         "xaxis": "x",
         "y": [
          -5610,
          -5610,
          -5630,
          -5630
         ],
         "yaxis": "y"
        },
        {
         "hoverinfo": "text",
         "marker": {
          "color": "rgb(255,220,0)"
         },
         "mode": "lines",
         "text": [
          "fabric_metal_coronavirus lives_hours_wash",
          "",
          "",
          "hand_sanitiser_hand sanitiser_hand sanitizer_sanitizer"
         ],
         "type": "scatter",
         "x": [
          0,
          0.9236445637924046,
          0.9236445637924046,
          0
         ],
         "xaxis": "x",
         "y": [
          -5645,
          -5645,
          -5655,
          -5655
         ],
         "yaxis": "y"
        },
        {
         "hoverinfo": "text",
         "marker": {
          "color": "rgb(40,35,35)"
         },
         "mode": "lines",
         "text": [
          "vegan_cauliflower_vegan food_products_shelves",
          "",
          "",
          "panic buying_supermarket_coronavirus lockdown_panic_looting"
         ],
         "type": "scatter",
         "x": [
          0,
          0.9397177128294341,
          0.9397177128294341,
          0
         ],
         "xaxis": "x",
         "y": [
          -5665,
          -5665,
          -5675,
          -5675
         ],
         "yaxis": "y"
        },
        {
         "hoverinfo": "text",
         "marker": {
          "color": "rgb(61,153,112)"
         },
         "mode": "lines",
         "text": [
          "toilet paper_green giant_export china_birds eye_formula toilet",
          "",
          "",
          "sudha_vegetables_murty_sudha murty_infosys"
         ],
         "type": "scatter",
         "x": [
          0,
          0.9706699731299111,
          0.9706699731299111,
          0
         ],
         "xaxis": "x",
         "y": [
          -5685,
          -5685,
          -5695,
          -5695
         ],
         "yaxis": "y"
        },
        {
         "hoverinfo": "text",
         "marker": {
          "color": "rgb(0,116,217)"
         },
         "mode": "lines",
         "text": [
          "vegan_panic buying_panic_food_supermarket",
          "",
          "",
          "vegetables_sudha_toilet paper_export china_formula toilet"
         ],
         "type": "scatter",
         "x": [
          0.9397177128294341,
          1.0146760715357754,
          1.0146760715357754,
          0.9706699731299111
         ],
         "xaxis": "x",
         "y": [
          -5670,
          -5670,
          -5690,
          -5690
         ],
         "yaxis": "y"
        },
        {
         "hoverinfo": "text",
         "marker": {
          "color": "rgb(255,65,54)"
         },
         "mode": "lines",
         "text": [
          "fruits_tomato virus_coronavirus transmitted_virus affecting_coronavirus spread",
          "",
          "",
          "spread coronavirus_coronavirus muslim_plates_vendors_surat"
         ],
         "type": "scatter",
         "x": [
          0,
          0.9274967033734867,
          0.9274967033734867,
          0
         ],
         "xaxis": "x",
         "y": [
          -5705,
          -5705,
          -5715,
          -5715
         ],
         "yaxis": "y"
        },
        {
         "hoverinfo": "text",
         "marker": {
          "color": "rgb(0,116,217)"
         },
         "mode": "lines",
         "text": [
          "fruits_tomato virus_coronavirus transmitted_virus affecting_coronavirus spread",
          "",
          "",
          "spread coronavirus_spread_fruits_coronavirus transmitted_virus affecting"
         ],
         "type": "scatter",
         "x": [
          1.0146760715357754,
          1.0270824226329682,
          1.0270824226329682,
          0.9274967033734867
         ],
         "xaxis": "x",
         "y": [
          -5680,
          -5680,
          -5710,
          -5710
         ],
         "yaxis": "y"
        },
        {
         "hoverinfo": "text",
         "marker": {
          "color": "rgb(0,116,217)"
         },
         "mode": "lines",
         "text": [
          "hand_sanitiser_hand sanitiser_hand sanitizer_sanitizer",
          "",
          "",
          "spread coronavirus_spread_fruits_coronavirus transmitted_virus affecting"
         ],
         "type": "scatter",
         "x": [
          0.9236445637924046,
          1.054958372680895,
          1.054958372680895,
          1.0270824226329682
         ],
         "xaxis": "x",
         "y": [
          -5650,
          -5650,
          -5695,
          -5695
         ],
         "yaxis": "y"
        },
        {
         "hoverinfo": "text",
         "marker": {
          "color": "rgb(35,205,205)"
         },
         "mode": "lines",
         "text": [
          "red meat_meat_climate plan_cutting 90_90 red",
          "",
          "",
          "vegetarian_vegetarians_lumpy skin_lumpy_vegan"
         ],
         "type": "scatter",
         "x": [
          0,
          0.9411361164199727,
          0.9411361164199727,
          0
         ],
         "xaxis": "x",
         "y": [
          -5725,
          -5725,
          -5735,
          -5735
         ],
         "yaxis": "y"
        },
        {
         "hoverinfo": "text",
         "marker": {
          "color": "rgb(61,153,112)"
         },
         "mode": "lines",
         "text": [
          "halal_eggs_food_bacon_chicken",
          "",
          "",
          "chicken_poultry_broiler chicken_broiler_pakistan issues"
         ],
         "type": "scatter",
         "x": [
          0,
          0.9449013289786966,
          0.9449013289786966,
          0
         ],
         "xaxis": "x",
         "y": [
          -5745,
          -5745,
          -5755,
          -5755
         ],
         "yaxis": "y"
        },
        {
         "hoverinfo": "text",
         "marker": {
          "color": "rgb(0,116,217)"
         },
         "mode": "lines",
         "text": [
          "meat_red meat_vegetarian_vegetarians_climate plan",
          "",
          "",
          "chicken_poultry_broiler chicken_broiler_pakistan issues"
         ],
         "type": "scatter",
         "x": [
          0.9411361164199727,
          1.0045846944217918,
          1.0045846944217918,
          0.9449013289786966
         ],
         "xaxis": "x",
         "y": [
          -5730,
          -5730,
          -5750,
          -5750
         ],
         "yaxis": "y"
        },
        {
         "hoverinfo": "text",
         "marker": {
          "color": "rgb(0,116,217)"
         },
         "mode": "lines",
         "text": [
          "meat_red meat_vegetarian_vegetarians_climate plan",
          "",
          "",
          "chicken_poultry_broiler chicken_broiler_pakistan issues"
         ],
         "type": "scatter",
         "x": [
          1.054958372680895,
          1.0666879159727167,
          1.0666879159727167,
          1.0045846944217918
         ],
         "xaxis": "x",
         "y": [
          -5672.5,
          -5672.5,
          -5740,
          -5740
         ],
         "yaxis": "y"
        },
        {
         "hoverinfo": "text",
         "marker": {
          "color": "rgb(0,116,217)"
         },
         "mode": "lines",
         "text": [
          "meat_red meat_vegetarian_vegetarians_climate plan",
          "",
          "",
          "chicken_poultry_broiler chicken_broiler_pakistan issues"
         ],
         "type": "scatter",
         "x": [
          1.0480478803789923,
          1.0733059473964428,
          1.0733059473964428,
          1.0666879159727167
         ],
         "xaxis": "x",
         "y": [
          -5620,
          -5620,
          -5706.25,
          -5706.25
         ],
         "yaxis": "y"
        },
        {
         "hoverinfo": "text",
         "marker": {
          "color": "rgb(255,65,54)"
         },
         "mode": "lines",
         "text": [
          "marijuana_cannabis_cbd_shark tank_weed",
          "",
          "",
          "alcohol_kills coronavirus_coronavirus alcohol_kombucha_kills"
         ],
         "type": "scatter",
         "x": [
          0,
          0.9684793268588854,
          0.9684793268588854,
          0
         ],
         "xaxis": "x",
         "y": [
          -5765,
          -5765,
          -5775,
          -5775
         ],
         "yaxis": "y"
        },
        {
         "hoverinfo": "text",
         "marker": {
          "color": "rgb(255,65,54)"
         },
         "mode": "lines",
         "text": [
          "marijuana_cannabis_cbd_shark tank_weed",
          "",
          "",
          "smoking_smoke_1958_cigarettes_59"
         ],
         "type": "scatter",
         "x": [
          0.9684793268588854,
          0.9828329437255763,
          0.9828329437255763,
          0
         ],
         "xaxis": "x",
         "y": [
          -5770,
          -5770,
          -5785,
          -5785
         ],
         "yaxis": "y"
        },
        {
         "hoverinfo": "text",
         "marker": {
          "color": "rgb(35,205,205)"
         },
         "mode": "lines",
         "text": [
          "person person_person_uturn_catch covid19_surfaces",
          "",
          "",
          "covid19 patient_throat_xrays look_photo throat_lung covid19"
         ],
         "type": "scatter",
         "x": [
          0,
          0.9684313568995324,
          0.9684313568995324,
          0
         ],
         "xaxis": "x",
         "y": [
          -5795,
          -5795,
          -5805,
          -5805
         ],
         "yaxis": "y"
        },
        {
         "hoverinfo": "text",
         "marker": {
          "color": "rgb(35,205,205)"
         },
         "mode": "lines",
         "text": [
          "eating patients_vaccine patients_start eating_patients_eating",
          "",
          "",
          "cabbage_eating_alkaline_bananas_prevent"
         ],
         "type": "scatter",
         "x": [
          0,
          0.9630340147775847,
          0.9630340147775847,
          0
         ],
         "xaxis": "x",
         "y": [
          -5815,
          -5815,
          -5825,
          -5825
         ],
         "yaxis": "y"
        },
        {
         "hoverinfo": "text",
         "marker": {
          "color": "rgb(35,205,205)"
         },
         "mode": "lines",
         "text": [
          "person person_person_uturn_catch covid19_surfaces",
          "",
          "",
          "cabbage_eating_alkaline_bananas_prevent"
         ],
         "type": "scatter",
         "x": [
          0.9684313568995324,
          0.9967664183300441,
          0.9967664183300441,
          0.9630340147775847
         ],
         "xaxis": "x",
         "y": [
          -5800,
          -5800,
          -5820,
          -5820
         ],
         "yaxis": "y"
        },
        {
         "hoverinfo": "text",
         "marker": {
          "color": "rgb(133,20,75)"
         },
         "mode": "lines",
         "text": [
          "summary_medicine institute_hospital seven_thoranin kongsuk_summary avoiding",
          "",
          "",
          "covid19 treatments_lists treatment_treatments_kem_kem hospital"
         ],
         "type": "scatter",
         "x": [
          0,
          0.9635356004794053,
          0.9635356004794053,
          0
         ],
         "xaxis": "x",
         "y": [
          -5845,
          -5845,
          -5855,
          -5855
         ],
         "yaxis": "y"
        },
        {
         "hoverinfo": "text",
         "marker": {
          "color": "rgb(133,20,75)"
         },
         "mode": "lines",
         "text": [
          "anticoagulants_ibuprofen_used fight_aspirin_fight covid19",
          "",
          "",
          "list covid19_covid19 treatments_lists treatment_treatments_list"
         ],
         "type": "scatter",
         "x": [
          0,
          0.9762437079620854,
          0.9762437079620854,
          0.9635356004794053
         ],
         "xaxis": "x",
         "y": [
          -5835,
          -5835,
          -5850,
          -5850
         ],
         "yaxis": "y"
        },
        {
         "hoverinfo": "text",
         "marker": {
          "color": "rgb(0,116,217)"
         },
         "mode": "lines",
         "text": [
          "anticoagulants_ibuprofen_used fight_aspirin_fight covid19",
          "",
          "",
          "list covid19_covid19 treatments_remedies_lists treatment_covid19 treated"
         ],
         "type": "scatter",
         "x": [
          0.9967664183300441,
          1.0216936065277737,
          1.0216936065277737,
          0.9762437079620854
         ],
         "xaxis": "x",
         "y": [
          -5810,
          -5810,
          -5842.5,
          -5842.5
         ],
         "yaxis": "y"
        },
        {
         "hoverinfo": "text",
         "marker": {
          "color": "rgb(0,116,217)"
         },
         "mode": "lines",
         "text": [
          "anticoagulants_ibuprofen_used fight_aspirin_fight covid19",
          "",
          "",
          "list covid19_covid19 treatments_remedies_lists treatment_covid19 treated"
         ],
         "type": "scatter",
         "x": [
          0.9828329437255763,
          1.029421436525201,
          1.029421436525201,
          1.0216936065277737
         ],
         "xaxis": "x",
         "y": [
          -5777.5,
          -5777.5,
          -5826.25,
          -5826.25
         ],
         "yaxis": "y"
        },
        {
         "hoverinfo": "text",
         "marker": {
          "color": "rgb(255,220,0)"
         },
         "mode": "lines",
         "text": [
          "2627 degrees_2627_degrees_temperature_killed temperature",
          "",
          "",
          "infrared_pineal gland_pineal_gland_thermometers"
         ],
         "type": "scatter",
         "x": [
          0,
          0.9757826400095403,
          0.9757826400095403,
          0
         ],
         "xaxis": "x",
         "y": [
          -5865,
          -5865,
          -5875,
          -5875
         ],
         "yaxis": "y"
        },
        {
         "hoverinfo": "text",
         "marker": {
          "color": "rgb(40,35,35)"
         },
         "mode": "lines",
         "text": [
          "habits_brain damaging_damaging habits_biggest brain_damaging",
          "",
          "",
          "sms_experience required_world health_working home_fight coronavirus"
         ],
         "type": "scatter",
         "x": [
          0,
          0.9620475843593125,
          0.9620475843593125,
          0
         ],
         "xaxis": "x",
         "y": [
          -5885,
          -5885,
          -5895,
          -5895
         ],
         "yaxis": "y"
        },
        {
         "hoverinfo": "text",
         "marker": {
          "color": "rgb(40,35,35)"
         },
         "mode": "lines",
         "text": [
          "habits_damaging habits_brain damaging_world health_biggest brain",
          "",
          "",
          "doctor_patient_zero bedside_real health_liberty florida"
         ],
         "type": "scatter",
         "x": [
          0.9620475843593125,
          0.9919807796577566,
          0.9919807796577566,
          0
         ],
         "xaxis": "x",
         "y": [
          -5890,
          -5890,
          -5905,
          -5905
         ],
         "yaxis": "y"
        },
        {
         "hoverinfo": "text",
         "marker": {
          "color": "rgb(0,116,217)"
         },
         "mode": "lines",
         "text": [
          "infrared_pineal gland_pineal_gland_thermometers",
          "",
          "",
          "habits_brain damaging_damaging habits_world health_biggest brain"
         ],
         "type": "scatter",
         "x": [
          0.9757826400095403,
          1.0170313463794263,
          1.0170313463794263,
          0.9919807796577566
         ],
         "xaxis": "x",
         "y": [
          -5870,
          -5870,
          -5897.5,
          -5897.5
         ],
         "yaxis": "y"
        },
        {
         "hoverinfo": "text",
         "marker": {
          "color": "rgb(61,153,112)"
         },
         "mode": "lines",
         "text": [
          "ebola_bikoro_congo_equateur province_equateur",
          "",
          "",
          "posting coronavirus_management act_disaster management_health ministry_ministry"
         ],
         "type": "scatter",
         "x": [
          0,
          0.9595517977631739,
          0.9595517977631739,
          0
         ],
         "xaxis": "x",
         "y": [
          -5915,
          -5915,
          -5925,
          -5925
         ],
         "yaxis": "y"
        },
        {
         "hoverinfo": "text",
         "marker": {
          "color": "rgb(0,116,217)"
         },
         "mode": "lines",
         "text": [
          "ebola_bikoro_congo_equateur province_equateur",
          "",
          "",
          "ebola_health ministry_bikoro_congo_ministry"
         ],
         "type": "scatter",
         "x": [
          1.0170313463794263,
          1.0247528376854873,
          1.0247528376854873,
          0.9595517977631739
         ],
         "xaxis": "x",
         "y": [
          -5883.75,
          -5883.75,
          -5920,
          -5920
         ],
         "yaxis": "y"
        },
        {
         "hoverinfo": "text",
         "marker": {
          "color": "rgb(0,116,217)"
         },
         "mode": "lines",
         "text": [
          "ebola_bikoro_congo_equateur province_equateur",
          "",
          "",
          "ebola_health ministry_bikoro_congo_ministry"
         ],
         "type": "scatter",
         "x": [
          1.029421436525201,
          1.0477064570917254,
          1.0477064570917254,
          1.0247528376854873
         ],
         "xaxis": "x",
         "y": [
          -5801.875,
          -5801.875,
          -5901.875,
          -5901.875
         ],
         "yaxis": "y"
        },
        {
         "hoverinfo": "text",
         "marker": {
          "color": "rgb(0,116,217)"
         },
         "mode": "lines",
         "text": [
          "ebola_bikoro_congo_equateur province_equateur",
          "",
          "",
          "ebola_health ministry_bikoro_congo_ministry"
         ],
         "type": "scatter",
         "x": [
          1.0733059473964428,
          1.0878981158812753,
          1.0878981158812753,
          1.0477064570917254
         ],
         "xaxis": "x",
         "y": [
          -5663.125,
          -5663.125,
          -5851.875,
          -5851.875
         ],
         "yaxis": "y"
        },
        {
         "hoverinfo": "text",
         "marker": {
          "color": "rgb(255,65,54)"
         },
         "mode": "lines",
         "text": [
          "simpsons_simpsons predicted_episode simpsons_episode_predicted",
          "",
          "",
          "covid19 pandemic_1956_predicted_2020 covid19_predicted covid19"
         ],
         "type": "scatter",
         "x": [
          0,
          0.9516936631983286,
          0.9516936631983286,
          0
         ],
         "xaxis": "x",
         "y": [
          -5935,
          -5935,
          -5945,
          -5945
         ],
         "yaxis": "y"
        },
        {
         "hoverinfo": "text",
         "marker": {
          "color": "rgb(35,205,205)"
         },
         "mode": "lines",
         "text": [
          "coronavirus vaccine_vaccine coronavirus_vaccine_coronavirus_vaccine novel",
          "",
          "",
          "predicted_coronavirus_novel_novel coronavirus_new coronavirus"
         ],
         "type": "scatter",
         "x": [
          0,
          0.9207887510874664,
          0.9207887510874664,
          0
         ],
         "xaxis": "x",
         "y": [
          -5955,
          -5955,
          -5965,
          -5965
         ],
         "yaxis": "y"
        },
        {
         "hoverinfo": "text",
         "marker": {
          "color": "rgb(35,205,205)"
         },
         "mode": "lines",
         "text": [
          "coronavirus_coronavirus vaccine_novel_novel coronavirus_vaccine coronavirus",
          "",
          "",
          "dr devi_devi_tips_prevent coronavirus_leg"
         ],
         "type": "scatter",
         "x": [
          0.9207887510874664,
          0.9704412807934544,
          0.9704412807934544,
          0
         ],
         "xaxis": "x",
         "y": [
          -5960,
          -5960,
          -5975,
          -5975
         ],
         "yaxis": "y"
        },
        {
         "hoverinfo": "text",
         "marker": {
          "color": "rgb(0,116,217)"
         },
         "mode": "lines",
         "text": [
          "simpsons_predicted_covid19 pandemic_1956_simpsons predicted",
          "",
          "",
          "coronavirus_novel_novel coronavirus_coronavirus vaccine_new coronavirus"
         ],
         "type": "scatter",
         "x": [
          0.9516936631983286,
          1.016505189810237,
          1.016505189810237,
          0.9704412807934544
         ],
         "xaxis": "x",
         "y": [
          -5940,
          -5940,
          -5967.5,
          -5967.5
         ],
         "yaxis": "y"
        },
        {
         "hoverinfo": "text",
         "marker": {
          "color": "rgb(61,153,112)"
         },
         "mode": "lines",
         "text": [
          "coronavirus outbreak_friday prayer_mosque_outbreak_friday",
          "",
          "",
          "wuhan_china_lab_bioweapon_chinese"
         ],
         "type": "scatter",
         "x": [
          0,
          0.9199961028035809,
          0.9199961028035809,
          0
         ],
         "xaxis": "x",
         "y": [
          -5985,
          -5985,
          -5995,
          -5995
         ],
         "yaxis": "y"
        },
        {
         "hoverinfo": "text",
         "marker": {
          "color": "rgb(61,153,112)"
         },
         "mode": "lines",
         "text": [
          "wuhan_china_lab_bioweapon_chinese",
          "",
          "",
          "chinese president_xi_hes doing_president xi_china"
         ],
         "type": "scatter",
         "x": [
          0.9199961028035809,
          0.9416647629215096,
          0.9416647629215096,
          0
         ],
         "xaxis": "x",
         "y": [
          -5990,
          -5990,
          -6005,
          -6005
         ],
         "yaxis": "y"
        },
        {
         "hoverinfo": "text",
         "marker": {
          "color": "rgb(0,116,217)"
         },
         "mode": "lines",
         "text": [
          "wuhan_china_lab_bioweapon_chinese",
          "",
          "",
          "wuhan_china_lab_bioweapon_chinese"
         ],
         "type": "scatter",
         "x": [
          1.016505189810237,
          1.0418205221175896,
          1.0418205221175896,
          0.9416647629215096
         ],
         "xaxis": "x",
         "y": [
          -5953.75,
          -5953.75,
          -5997.5,
          -5997.5
         ],
         "yaxis": "y"
        },
        {
         "hoverinfo": "text",
         "marker": {
          "color": "rgb(255,65,54)"
         },
         "mode": "lines",
         "text": [
          "soros_funded_nope_destroy capitalism_funded soros",
          "",
          "",
          "george soros_soros_george_billionaire george_billionaire"
         ],
         "type": "scatter",
         "x": [
          0,
          0.8750767621013769,
          0.8750767621013769,
          0
         ],
         "xaxis": "x",
         "y": [
          -6015,
          -6015,
          -6025,
          -6025
         ],
         "yaxis": "y"
        },
        {
         "hoverinfo": "text",
         "marker": {
          "color": "rgb(35,205,205)"
         },
         "mode": "lines",
         "text": [
          "artificially_genetically_proteins_engineered_manmade",
          "",
          "",
          "luc montagnier_luc_montagnier_die years_montagnier said"
         ],
         "type": "scatter",
         "x": [
          0,
          0.9040078386490459,
          0.9040078386490459,
          0
         ],
         "xaxis": "x",
         "y": [
          -6035,
          -6035,
          -6045,
          -6045
         ],
         "yaxis": "y"
        },
        {
         "hoverinfo": "text",
         "marker": {
          "color": "rgb(0,116,217)"
         },
         "mode": "lines",
         "text": [
          "soros_george soros_george_billionaire george_billionaire",
          "",
          "",
          "montagnier_luc montagnier_luc_montagnier said_die years"
         ],
         "type": "scatter",
         "x": [
          0.8750767621013769,
          1.0739781293566055,
          1.0739781293566055,
          0.9040078386490459
         ],
         "xaxis": "x",
         "y": [
          -6020,
          -6020,
          -6040,
          -6040
         ],
         "yaxis": "y"
        },
        {
         "hoverinfo": "text",
         "marker": {
          "color": "rgb(0,116,217)"
         },
         "mode": "lines",
         "text": [
          "soros_george soros_george_billionaire george_billionaire",
          "",
          "",
          "montagnier_luc montagnier_luc_montagnier said_die years"
         ],
         "type": "scatter",
         "x": [
          1.0418205221175896,
          1.0957956664504267,
          1.0957956664504267,
          1.0739781293566055
         ],
         "xaxis": "x",
         "y": [
          -5975.625,
          -5975.625,
          -6030,
          -6030
         ],
         "yaxis": "y"
        },
        {
         "hoverinfo": "text",
         "marker": {
          "color": "rgb(0,116,217)"
         },
         "mode": "lines",
         "text": [
          "soros_george soros_george_billionaire george_billionaire",
          "",
          "",
          "montagnier_luc montagnier_luc_montagnier said_die years"
         ],
         "type": "scatter",
         "x": [
          1.0878981158812753,
          1.126053401343949,
          1.126053401343949,
          1.0957956664504267
         ],
         "xaxis": "x",
         "y": [
          -5757.5,
          -5757.5,
          -6002.8125,
          -6002.8125
         ],
         "yaxis": "y"
        },
        {
         "hoverinfo": "text",
         "marker": {
          "color": "rgb(0,116,217)"
         },
         "mode": "lines",
         "text": [
          "hydroxychloroquine_ivermectin_patent_vitamin_hcq",
          "",
          "",
          "montagnier_luc montagnier_luc_montagnier said_die years"
         ],
         "type": "scatter",
         "x": [
          1.102838505861488,
          1.14639610061486,
          1.14639610061486,
          1.126053401343949
         ],
         "xaxis": "x",
         "y": [
          -5559.375,
          -5559.375,
          -5880.15625,
          -5880.15625
         ],
         "yaxis": "y"
        },
        {
         "hoverinfo": "text",
         "marker": {
          "color": "rgb(133,20,75)"
         },
         "mode": "lines",
         "text": [
          "talon_operation talon_operation_offenders_canceled",
          "",
          "",
          "insurance_life insurance_receiving_life_companies pay"
         ],
         "type": "scatter",
         "x": [
          0,
          0.9437365740095113,
          0.9437365740095113,
          0
         ],
         "xaxis": "x",
         "y": [
          -6055,
          -6055,
          -6065,
          -6065
         ],
         "yaxis": "y"
        },
        {
         "hoverinfo": "text",
         "marker": {
          "color": "rgb(255,220,0)"
         },
         "mode": "lines",
         "text": [
          "died_nurse_covid19 vaccine_receiving_tiffany dover",
          "",
          "",
          "palsy_bells palsy_bells_developed bells_palsy receiving"
         ],
         "type": "scatter",
         "x": [
          0,
          0.8909374626755123,
          0.8909374626755123,
          0
         ],
         "xaxis": "x",
         "y": [
          -6075,
          -6075,
          -6085,
          -6085
         ],
         "yaxis": "y"
        },
        {
         "hoverinfo": "text",
         "marker": {
          "color": "rgb(0,116,217)"
         },
         "mode": "lines",
         "text": [
          "died_nurse_covid19 vaccine_receiving_tiffany dover",
          "",
          "",
          "died_nurse_receiving_covid19 vaccine_bells palsy"
         ],
         "type": "scatter",
         "x": [
          0.9437365740095113,
          1.01476457315097,
          1.01476457315097,
          0.8909374626755123
         ],
         "xaxis": "x",
         "y": [
          -6060,
          -6060,
          -6080,
          -6080
         ],
         "yaxis": "y"
        },
        {
         "hoverinfo": "text",
         "marker": {
          "color": "rgb(40,35,35)"
         },
         "mode": "lines",
         "text": [
          "putins daughter_putins_vladimir_daughter_vladimir putins",
          "",
          "",
          "russian_putin_russia_kgb_nato"
         ],
         "type": "scatter",
         "x": [
          0,
          0.9108950278212591,
          0.9108950278212591,
          0
         ],
         "xaxis": "x",
         "y": [
          -6105,
          -6105,
          -6115,
          -6115
         ],
         "yaxis": "y"
        },
        {
         "hoverinfo": "text",
         "marker": {
          "color": "rgb(40,35,35)"
         },
         "mode": "lines",
         "text": [
          "bharat_biotech_bharat biotech_vaccine bharat_vk srinivas",
          "",
          "",
          "russian_putin_russia_putins_putins daughter"
         ],
         "type": "scatter",
         "x": [
          0,
          0.986993426310612,
          0.986993426310612,
          0.9108950278212591
         ],
         "xaxis": "x",
         "y": [
          -6095,
          -6095,
          -6110,
          -6110
         ],
         "yaxis": "y"
        },
        {
         "hoverinfo": "text",
         "marker": {
          "color": "rgb(0,116,217)"
         },
         "mode": "lines",
         "text": [
          "bharat_biotech_bharat biotech_vaccine bharat_vk srinivas",
          "",
          "",
          "russian_putin_russia_putins_putins daughter"
         ],
         "type": "scatter",
         "x": [
          1.01476457315097,
          1.0560344251151423,
          1.0560344251151423,
          0.986993426310612
         ],
         "xaxis": "x",
         "y": [
          -6070,
          -6070,
          -6102.5,
          -6102.5
         ],
         "yaxis": "y"
        },
        {
         "hoverinfo": "text",
         "marker": {
          "color": "rgb(61,153,112)"
         },
         "mode": "lines",
         "text": [
          "latin_translates_astrazeneca_astrazeneca means_homework spelled",
          "",
          "",
          "aborted_cells_vaccine contains_contains_aborted human"
         ],
         "type": "scatter",
         "x": [
          0,
          0.9693792736896272,
          0.9693792736896272,
          0
         ],
         "xaxis": "x",
         "y": [
          -6135,
          -6135,
          -6145,
          -6145
         ],
         "yaxis": "y"
        },
        {
         "hoverinfo": "text",
         "marker": {
          "color": "rgb(61,153,112)"
         },
         "mode": "lines",
         "text": [
          "hollywood_mel_mel gibson_gibson_macaulay culkin",
          "",
          "",
          "aborted_cells_vaccine contains_contains_aborted human"
         ],
         "type": "scatter",
         "x": [
          0,
          0.9971062982120975,
          0.9971062982120975,
          0.9693792736896272
         ],
         "xaxis": "x",
         "y": [
          -6125,
          -6125,
          -6140,
          -6140
         ],
         "yaxis": "y"
        },
        {
         "hoverinfo": "text",
         "marker": {
          "color": "rgb(255,65,54)"
         },
         "mode": "lines",
         "text": [
          "aluminum_ingredients_unsafe aluminum_potassium chloride_pediarix vaccine",
          "",
          "",
          "magnetic_magnets_sticking_magnetized_arms"
         ],
         "type": "scatter",
         "x": [
          0,
          0.9688366100726812,
          0.9688366100726812,
          0
         ],
         "xaxis": "x",
         "y": [
          -6155,
          -6155,
          -6165,
          -6165
         ],
         "yaxis": "y"
        },
        {
         "hoverinfo": "text",
         "marker": {
          "color": "rgb(255,65,54)"
         },
         "mode": "lines",
         "text": [
          "aluminum_ingredients_unsafe aluminum_potassium chloride_pediarix vaccine",
          "",
          "",
          "penis_penis size_size_injections_injections penis"
         ],
         "type": "scatter",
         "x": [
          0.9688366100726812,
          0.9894574471726052,
          0.9894574471726052,
          0
         ],
         "xaxis": "x",
         "y": [
          -6160,
          -6160,
          -6175,
          -6175
         ],
         "yaxis": "y"
        },
        {
         "hoverinfo": "text",
         "marker": {
          "color": "rgb(0,116,217)"
         },
         "mode": "lines",
         "text": [
          "aluminum_ingredients_unsafe aluminum_potassium chloride_pediarix vaccine",
          "",
          "",
          "penis_penis size_size_injections_injections penis"
         ],
         "type": "scatter",
         "x": [
          0.9971062982120975,
          1.0150916427446917,
          1.0150916427446917,
          0.9894574471726052
         ],
         "xaxis": "x",
         "y": [
          -6132.5,
          -6132.5,
          -6167.5,
          -6167.5
         ],
         "yaxis": "y"
        },
        {
         "hoverinfo": "text",
         "marker": {
          "color": "rgb(35,205,205)"
         },
         "mode": "lines",
         "text": [
          "pfizer_pfizer vaccine_vaccine cause_pfizer contract_freaked insane",
          "",
          "",
          "myocarditis_hospitalized_healthy kids_lead heart_myocarditis pericarditis"
         ],
         "type": "scatter",
         "x": [
          0,
          0.9612241129391765,
          0.9612241129391765,
          0
         ],
         "xaxis": "x",
         "y": [
          -6185,
          -6185,
          -6195,
          -6195
         ],
         "yaxis": "y"
        },
        {
         "hoverinfo": "text",
         "marker": {
          "color": "rgb(35,205,205)"
         },
         "mode": "lines",
         "text": [
          "pfizer_pfizer vaccine_vaccine cause_pfizer contract_freaked insane",
          "",
          "",
          "socks_lead stroke_bed_stroke_sleep"
         ],
         "type": "scatter",
         "x": [
          0.9612241129391765,
          0.9887852285924347,
          0.9887852285924347,
          0
         ],
         "xaxis": "x",
         "y": [
          -6190,
          -6190,
          -6205,
          -6205
         ],
         "yaxis": "y"
        },
        {
         "hoverinfo": "text",
         "marker": {
          "color": "rgb(0,116,217)"
         },
         "mode": "lines",
         "text": [
          "pfizer_pfizer vaccine_vaccine cause_pfizer contract_freaked insane",
          "",
          "",
          "socks_lead stroke_bed_stroke_sleep"
         ],
         "type": "scatter",
         "x": [
          1.0150916427446917,
          1.0331078009969423,
          1.0331078009969423,
          0.9887852285924347
         ],
         "xaxis": "x",
         "y": [
          -6150,
          -6150,
          -6197.5,
          -6197.5
         ],
         "yaxis": "y"
        },
        {
         "hoverinfo": "text",
         "marker": {
          "color": "rgb(61,153,112)"
         },
         "mode": "lines",
         "text": [
          "unlicensed_unlicensed vaccines_unless_administered_wrong unlicensed",
          "",
          "",
          "vaccines india_395_india_300_vaccines"
         ],
         "type": "scatter",
         "x": [
          0,
          0.9775891089927106,
          0.9775891089927106,
          0
         ],
         "xaxis": "x",
         "y": [
          -6225,
          -6225,
          -6235,
          -6235
         ],
         "yaxis": "y"
        },
        {
         "hoverinfo": "text",
         "marker": {
          "color": "rgb(61,153,112)"
         },
         "mode": "lines",
         "text": [
          "rural_affordable_rural america_quality affordable_access quality",
          "",
          "",
          "unlicensed_unlicensed vaccines_vaccines_395_vaccines india"
         ],
         "type": "scatter",
         "x": [
          0,
          0.9886603540490604,
          0.9886603540490604,
          0.9775891089927106
         ],
         "xaxis": "x",
         "y": [
          -6215,
          -6215,
          -6230,
          -6230
         ],
         "yaxis": "y"
        },
        {
         "hoverinfo": "text",
         "marker": {
          "color": "rgb(255,65,54)"
         },
         "mode": "lines",
         "text": [
          "jab_vaccine_vaccines_shedding_fda",
          "",
          "",
          "experimental_experimental vaccine_eligible vaccine_plan vaccinate_vaccine"
         ],
         "type": "scatter",
         "x": [
          0,
          0.955633873451443,
          0.955633873451443,
          0
         ],
         "xaxis": "x",
         "y": [
          -6255,
          -6255,
          -6265,
          -6265
         ],
         "yaxis": "y"
        },
        {
         "hoverinfo": "text",
         "marker": {
          "color": "rgb(255,65,54)"
         },
         "mode": "lines",
         "text": [
          "nt_munchkins_biki_doesnt prevent_vax",
          "",
          "",
          "experimental_experimental vaccine_eligible vaccine_plan vaccinate_vaccine"
         ],
         "type": "scatter",
         "x": [
          0,
          0.9776167957302594,
          0.9776167957302594,
          0.955633873451443
         ],
         "xaxis": "x",
         "y": [
          -6245,
          -6245,
          -6260,
          -6260
         ],
         "yaxis": "y"
        },
        {
         "hoverinfo": "text",
         "marker": {
          "color": "rgb(35,205,205)"
         },
         "mode": "lines",
         "text": [
          "people vaccine_vaccine_safe force_hold till_injecting vaccine",
          "",
          "",
          "blood_plasma_red cross_donate_donate blood"
         ],
         "type": "scatter",
         "x": [
          0,
          0.9763878566590607,
          0.9763878566590607,
          0
         ],
         "xaxis": "x",
         "y": [
          -6275,
          -6275,
          -6285,
          -6285
         ],
         "yaxis": "y"
        },
        {
         "hoverinfo": "text",
         "marker": {
          "color": "rgb(0,116,217)"
         },
         "mode": "lines",
         "text": [
          "people vaccine_vaccine_safe force_hold till_injecting vaccine",
          "",
          "",
          "blood_plasma_red cross_donate_donate blood"
         ],
         "type": "scatter",
         "x": [
          0.9776167957302594,
          1.001400001098827,
          1.001400001098827,
          0.9763878566590607
         ],
         "xaxis": "x",
         "y": [
          -6252.5,
          -6252.5,
          -6280,
          -6280
         ],
         "yaxis": "y"
        },
        {
         "hoverinfo": "text",
         "marker": {
          "color": "rgb(0,116,217)"
         },
         "mode": "lines",
         "text": [
          "people vaccine_vaccine_safe force_hold till_injecting vaccine",
          "",
          "",
          "blood_plasma_red cross_donate_donate blood"
         ],
         "type": "scatter",
         "x": [
          0.9886603540490604,
          1.0141723319063127,
          1.0141723319063127,
          1.001400001098827
         ],
         "xaxis": "x",
         "y": [
          -6222.5,
          -6222.5,
          -6266.25,
          -6266.25
         ],
         "yaxis": "y"
        },
        {
         "hoverinfo": "text",
         "marker": {
          "color": "rgb(133,20,75)"
         },
         "mode": "lines",
         "text": [
          "biden_admin_plan_biden admin_biden administration",
          "",
          "",
          "biden_vote biden_check months_stayed_neck"
         ],
         "type": "scatter",
         "x": [
          0,
          0.9628514291225422,
          0.9628514291225422,
          0
         ],
         "xaxis": "x",
         "y": [
          -6305,
          -6305,
          -6315,
          -6315
         ],
         "yaxis": "y"
        },
        {
         "hoverinfo": "text",
         "marker": {
          "color": "rgb(133,20,75)"
         },
         "mode": "lines",
         "text": [
          "woke today_dog champ_just signing_press hey_president getting",
          "",
          "",
          "biden_vote biden_check months_stayed_neck"
         ],
         "type": "scatter",
         "x": [
          0,
          0.9862277702537988,
          0.9862277702537988,
          0.9628514291225422
         ],
         "xaxis": "x",
         "y": [
          -6295,
          -6295,
          -6310,
          -6310
         ],
         "yaxis": "y"
        },
        {
         "hoverinfo": "text",
         "marker": {
          "color": "rgb(255,220,0)"
         },
         "mode": "lines",
         "text": [
          "approval_americans approved_approved president_85_approval rating",
          "",
          "",
          "newsom_gavin_gov gavin_gavin newsom_california gov"
         ],
         "type": "scatter",
         "x": [
          0,
          0.9765634822516874,
          0.9765634822516874,
          0
         ],
         "xaxis": "x",
         "y": [
          -6325,
          -6325,
          -6335,
          -6335
         ],
         "yaxis": "y"
        },
        {
         "hoverinfo": "text",
         "marker": {
          "color": "rgb(0,116,217)"
         },
         "mode": "lines",
         "text": [
          "approval_americans approved_approved president_85_approval rating",
          "",
          "",
          "newsom_gavin_approval_gov gavin_gavin newsom"
         ],
         "type": "scatter",
         "x": [
          0.9862277702537988,
          1.0073850221800986,
          1.0073850221800986,
          0.9765634822516874
         ],
         "xaxis": "x",
         "y": [
          -6302.5,
          -6302.5,
          -6330,
          -6330
         ],
         "yaxis": "y"
        },
        {
         "hoverinfo": "text",
         "marker": {
          "color": "rgb(0,116,217)"
         },
         "mode": "lines",
         "text": [
          "approval_americans approved_approved president_85_approval rating",
          "",
          "",
          "newsom_gavin_approval_gov gavin_gavin newsom"
         ],
         "type": "scatter",
         "x": [
          1.0141723319063127,
          1.0271975540820806,
          1.0271975540820806,
          1.0073850221800986
         ],
         "xaxis": "x",
         "y": [
          -6244.375,
          -6244.375,
          -6316.25,
          -6316.25
         ],
         "yaxis": "y"
        },
        {
         "hoverinfo": "text",
         "marker": {
          "color": "rgb(0,116,217)"
         },
         "mode": "lines",
         "text": [
          "approval_americans approved_approved president_85_approval rating",
          "",
          "",
          "newsom_gavin_approval_gov gavin_gavin newsom"
         ],
         "type": "scatter",
         "x": [
          1.0331078009969423,
          1.050522481584705,
          1.050522481584705,
          1.0271975540820806
         ],
         "xaxis": "x",
         "y": [
          -6173.75,
          -6173.75,
          -6280.3125,
          -6280.3125
         ],
         "yaxis": "y"
        },
        {
         "hoverinfo": "text",
         "marker": {
          "color": "rgb(40,35,35)"
         },
         "mode": "lines",
         "text": [
          "hipaa_violation_hipaa violation_vaccination hipaa_requiring proof",
          "",
          "",
          "vaccine passport_vaccine passports_passport_passports_world vaccine"
         ],
         "type": "scatter",
         "x": [
          0,
          0.921390664428844,
          0.921390664428844,
          0
         ],
         "xaxis": "x",
         "y": [
          -6355,
          -6355,
          -6365,
          -6365
         ],
         "yaxis": "y"
        },
        {
         "hoverinfo": "text",
         "marker": {
          "color": "rgb(40,35,35)"
         },
         "mode": "lines",
         "text": [
          "nuremberg_nuremberg code_code_principles nuremberg_war criminals",
          "",
          "",
          "hipaa_violation_hipaa violation_vaccine passport_violation hipaa"
         ],
         "type": "scatter",
         "x": [
          0,
          0.9793663623821488,
          0.9793663623821488,
          0.921390664428844
         ],
         "xaxis": "x",
         "y": [
          -6345,
          -6345,
          -6360,
          -6360
         ],
         "yaxis": "y"
        },
        {
         "hoverinfo": "text",
         "marker": {
          "color": "rgb(0,116,217)"
         },
         "mode": "lines",
         "text": [
          "nuremberg_nuremberg code_code_principles nuremberg_war criminals",
          "",
          "",
          "hipaa_violation_nuremberg_nuremberg code_hipaa violation"
         ],
         "type": "scatter",
         "x": [
          1.050522481584705,
          1.0690837568190503,
          1.0690837568190503,
          0.9793663623821488
         ],
         "xaxis": "x",
         "y": [
          -6227.03125,
          -6227.03125,
          -6352.5,
          -6352.5
         ],
         "yaxis": "y"
        },
        {
         "hoverinfo": "text",
         "marker": {
          "color": "rgb(0,116,217)"
         },
         "mode": "lines",
         "text": [
          "nuremberg_nuremberg code_code_principles nuremberg_war criminals",
          "",
          "",
          "hipaa_violation_nuremberg_nuremberg code_hipaa violation"
         ],
         "type": "scatter",
         "x": [
          1.0560344251151423,
          1.100435549441421,
          1.100435549441421,
          1.0690837568190503
         ],
         "xaxis": "x",
         "y": [
          -6086.25,
          -6086.25,
          -6289.765625,
          -6289.765625
         ],
         "yaxis": "y"
        },
        {
         "hoverinfo": "text",
         "marker": {
          "color": "rgb(61,153,112)"
         },
         "mode": "lines",
         "text": [
          "theyre counted_oaps_counted covid19_dying_deaths covid",
          "",
          "",
          "return rightfully_come reopen_thats biden_business comply_cancer death"
         ],
         "type": "scatter",
         "x": [
          0,
          0.9813103163678468,
          0.9813103163678468,
          0
         ],
         "xaxis": "x",
         "y": [
          -6375,
          -6375,
          -6385,
          -6385
         ],
         "yaxis": "y"
        },
        {
         "hoverinfo": "text",
         "marker": {
          "color": "rgb(61,153,112)"
         },
         "mode": "lines",
         "text": [
          "h1n1_worse_flu_1918_midmay covid19",
          "",
          "",
          "died flu_flu_flu killed_flu 2020_80000 people"
         ],
         "type": "scatter",
         "x": [
          0,
          0.927506034839016,
          0.927506034839016,
          0
         ],
         "xaxis": "x",
         "y": [
          -6395,
          -6395,
          -6405,
          -6405
         ],
         "yaxis": "y"
        },
        {
         "hoverinfo": "text",
         "marker": {
          "color": "rgb(61,153,112)"
         },
         "mode": "lines",
         "text": [
          "died flu_flu_flu killed_h1n1_flu 2020",
          "",
          "",
          "flu vaccine_vulnerable_vulnerable infections_vaccine ineffective_flu"
         ],
         "type": "scatter",
         "x": [
          0.927506034839016,
          0.9687113670625456,
          0.9687113670625456,
          0
         ],
         "xaxis": "x",
         "y": [
          -6400,
          -6400,
          -6415,
          -6415
         ],
         "yaxis": "y"
        },
        {
         "hoverinfo": "text",
         "marker": {
          "color": "rgb(61,153,112)"
         },
         "mode": "lines",
         "text": [
          "died flu_flu_flu killed_h1n1_flu 2020",
          "",
          "",
          "flu_died flu_flu vaccine_flu killed_h1n1"
         ],
         "type": "scatter",
         "x": [
          0.9813103163678468,
          0.999070714167791,
          0.999070714167791,
          0.9687113670625456
         ],
         "xaxis": "x",
         "y": [
          -6380,
          -6380,
          -6407.5,
          -6407.5
         ],
         "yaxis": "y"
        },
        {
         "hoverinfo": "text",
         "marker": {
          "color": "rgb(255,65,54)"
         },
         "mode": "lines",
         "text": [
          "100 years_pandemics_major disease_years pandemics_election years",
          "",
          "",
          "1918_flu pandemic_spanish_poem_spanish flu"
         ],
         "type": "scatter",
         "x": [
          0,
          0.9586927882942581,
          0.9586927882942581,
          0
         ],
         "xaxis": "x",
         "y": [
          -6425,
          -6425,
          -6435,
          -6435
         ],
         "yaxis": "y"
        },
        {
         "hoverinfo": "text",
         "marker": {
          "color": "rgb(35,205,205)"
         },
         "mode": "lines",
         "text": [
          "quarantine_healthy_forced isolation_restrict movement_entire plandemic",
          "",
          "",
          "quarantine_yn_quarantine yn_wish theyd_year quarantine"
         ],
         "type": "scatter",
         "x": [
          0,
          0.9505908876465139,
          0.9505908876465139,
          0
         ],
         "xaxis": "x",
         "y": [
          -6445,
          -6445,
          -6455,
          -6455
         ],
         "yaxis": "y"
        },
        {
         "hoverinfo": "text",
         "marker": {
          "color": "rgb(0,116,217)"
         },
         "mode": "lines",
         "text": [
          "quarantine_healthy_forced isolation_restrict movement_entire plandemic",
          "",
          "",
          "quarantine_yn_healthy_wish theyd_restrict movement"
         ],
         "type": "scatter",
         "x": [
          0.9586927882942581,
          1.0112130213728656,
          1.0112130213728656,
          0.9505908876465139
         ],
         "xaxis": "x",
         "y": [
          -6430,
          -6430,
          -6450,
          -6450
         ],
         "yaxis": "y"
        },
        {
         "hoverinfo": "text",
         "marker": {
          "color": "rgb(0,116,217)"
         },
         "mode": "lines",
         "text": [
          "quarantine_healthy_forced isolation_restrict movement_entire plandemic",
          "",
          "",
          "quarantine_yn_healthy_wish theyd_restrict movement"
         ],
         "type": "scatter",
         "x": [
          0.999070714167791,
          1.0443426285688349,
          1.0443426285688349,
          1.0112130213728656
         ],
         "xaxis": "x",
         "y": [
          -6393.75,
          -6393.75,
          -6440,
          -6440
         ],
         "yaxis": "y"
        },
        {
         "hoverinfo": "text",
         "marker": {
          "color": "rgb(0,116,217)"
         },
         "mode": "lines",
         "text": [
          "quarantine_healthy_forced isolation_restrict movement_entire plandemic",
          "",
          "",
          "quarantine_yn_healthy_wish theyd_restrict movement"
         ],
         "type": "scatter",
         "x": [
          1.100435549441421,
          1.1136053744711143,
          1.1136053744711143,
          1.0443426285688349
         ],
         "xaxis": "x",
         "y": [
          -6188.0078125,
          -6188.0078125,
          -6416.875,
          -6416.875
         ],
         "yaxis": "y"
        },
        {
         "hoverinfo": "text",
         "marker": {
          "color": "rgb(0,116,217)"
         },
         "mode": "lines",
         "text": [
          "quarantine_healthy_forced isolation_restrict movement_entire plandemic",
          "",
          "",
          "quarantine_yn_healthy_wish theyd_restrict movement"
         ],
         "type": "scatter",
         "x": [
          1.14639610061486,
          1.1617338322894886,
          1.1617338322894886,
          1.1136053744711143
         ],
         "xaxis": "x",
         "y": [
          -5719.765625,
          -5719.765625,
          -6302.44140625,
          -6302.44140625
         ],
         "yaxis": "y"
        },
        {
         "hoverinfo": "text",
         "marker": {
          "color": "rgb(0,116,217)"
         },
         "mode": "lines",
         "text": [
          "quarantine_healthy_forced isolation_restrict movement_entire plandemic",
          "",
          "",
          "quarantine_yn_healthy_wish theyd_restrict movement"
         ],
         "type": "scatter",
         "x": [
          1.1832597977335135,
          1.213668063251274,
          1.213668063251274,
          1.1617338322894886
         ],
         "xaxis": "x",
         "y": [
          -5464.6875,
          -5464.6875,
          -6011.103515625,
          -6011.103515625
         ],
         "yaxis": "y"
        },
        {
         "hoverinfo": "text",
         "marker": {
          "color": "rgb(61,153,112)"
         },
         "mode": "lines",
         "text": [
          "mrna_dna_mrna vaccines_moderna_spike",
          "",
          "",
          "covid19 vaccines_vaccines_covid19 vaccine_vaccine_experimental"
         ],
         "type": "scatter",
         "x": [
          0,
          0.8288171981010598,
          0.8288171981010598,
          0
         ],
         "xaxis": "x",
         "y": [
          -6475,
          -6475,
          -6485,
          -6485
         ],
         "yaxis": "y"
        },
        {
         "hoverinfo": "text",
         "marker": {
          "color": "rgb(61,153,112)"
         },
         "mode": "lines",
         "text": [
          "infertility_cause infertility_infertile_infertility covid19_vaccine cause",
          "",
          "",
          "mrna_covid19 vaccines_vaccines_covid19 vaccine_vaccine"
         ],
         "type": "scatter",
         "x": [
          0,
          0.9067426222778331,
          0.9067426222778331,
          0.8288171981010598
         ],
         "xaxis": "x",
         "y": [
          -6465,
          -6465,
          -6480,
          -6480
         ],
         "yaxis": "y"
        },
        {
         "hoverinfo": "text",
         "marker": {
          "color": "rgb(61,153,112)"
         },
         "mode": "lines",
         "text": [
          "mrna_covid19 vaccines_vaccines_covid19 vaccine_vaccine",
          "",
          "",
          "cartridge_vaporizer_vaccine china_covid19 vaccines_vaccines"
         ],
         "type": "scatter",
         "x": [
          0.9067426222778331,
          0.9576090409205507,
          0.9576090409205507,
          0
         ],
         "xaxis": "x",
         "y": [
          -6472.5,
          -6472.5,
          -6495,
          -6495
         ],
         "yaxis": "y"
        },
        {
         "hoverinfo": "text",
         "marker": {
          "color": "rgb(61,153,112)"
         },
         "mode": "lines",
         "text": [
          "covid19 vaccines_data_vaccine deaths_data shows_vaccines",
          "",
          "",
          "pregnant_women avoid_miscarriages_breastfeeding_women"
         ],
         "type": "scatter",
         "x": [
          0,
          0.9372838668793886,
          0.9372838668793886,
          0
         ],
         "xaxis": "x",
         "y": [
          -6505,
          -6505,
          -6515,
          -6515
         ],
         "yaxis": "y"
        },
        {
         "hoverinfo": "text",
         "marker": {
          "color": "rgb(61,153,112)"
         },
         "mode": "lines",
         "text": [
          "covid19 vaccines_mrna_vaccines_covid19 vaccine_vaccine",
          "",
          "",
          "pregnant_women avoid_miscarriages_breastfeeding_women"
         ],
         "type": "scatter",
         "x": [
          0.9576090409205507,
          0.9769204213396543,
          0.9769204213396543,
          0.9372838668793886
         ],
         "xaxis": "x",
         "y": [
          -6483.75,
          -6483.75,
          -6510,
          -6510
         ],
         "yaxis": "y"
        },
        {
         "hoverinfo": "text",
         "marker": {
          "color": "rgb(0,116,217)"
         },
         "mode": "lines",
         "text": [
          "covid19 vaccines_mrna_vaccines_covid19 vaccine_vaccine",
          "",
          "",
          "covid19 vaccines_vaccines_mrna_covid19 vaccine_vaccine"
         ],
         "type": "scatter",
         "x": [
          1.213668063251274,
          1.2210856410947009,
          1.2210856410947009,
          0.9769204213396543
         ],
         "xaxis": "x",
         "y": [
          -5737.8955078125,
          -5737.8955078125,
          -6496.875,
          -6496.875
         ],
         "yaxis": "y"
        },
        {
         "hoverinfo": "text",
         "marker": {
          "color": "rgb(255,65,54)"
         },
         "mode": "lines",
         "text": [
          "positive coronavirus_positive_tested positive_khans wife_imran khans",
          "",
          "",
          "positive covid19_positive_tested positive_tested_covid19 test"
         ],
         "type": "scatter",
         "x": [
          0,
          0.8812103934208303,
          0.8812103934208303,
          0
         ],
         "xaxis": "x",
         "y": [
          -6535,
          -6535,
          -6545,
          -6545
         ],
         "yaxis": "y"
        },
        {
         "hoverinfo": "text",
         "marker": {
          "color": "rgb(255,65,54)"
         },
         "mode": "lines",
         "text": [
          "positive_positive covid19_tested positive_tested_positive coronavirus",
          "",
          "",
          "high consequence_consequence infectious_consequence_asymptomatic_infectious"
         ],
         "type": "scatter",
         "x": [
          0.8812103934208303,
          0.93255344865551,
          0.93255344865551,
          0
         ],
         "xaxis": "x",
         "y": [
          -6540,
          -6540,
          -6555,
          -6555
         ],
         "yaxis": "y"
        },
        {
         "hoverinfo": "text",
         "marker": {
          "color": "rgb(255,65,54)"
         },
         "mode": "lines",
         "text": [
          "20 days_death certificates_die 20_days testing_certificates",
          "",
          "",
          "positive_positive covid19_tested positive_tested_tests"
         ],
         "type": "scatter",
         "x": [
          0,
          0.9518908648303658,
          0.9518908648303658,
          0.93255344865551
         ],
         "xaxis": "x",
         "y": [
          -6525,
          -6525,
          -6547.5,
          -6547.5
         ],
         "yaxis": "y"
        },
        {
         "hoverinfo": "text",
         "marker": {
          "color": "rgb(35,205,205)"
         },
         "mode": "lines",
         "text": [
          "tests_tests day_covid19 tests_uk_tests conducted",
          "",
          "",
          "pcr_pcr tests_tests_pcr test_test"
         ],
         "type": "scatter",
         "x": [
          0,
          0.9068907412163099,
          0.9068907412163099,
          0
         ],
         "xaxis": "x",
         "y": [
          -6565,
          -6565,
          -6575,
          -6575
         ],
         "yaxis": "y"
        },
        {
         "hoverinfo": "text",
         "marker": {
          "color": "rgb(35,205,205)"
         },
         "mode": "lines",
         "text": [
          "pcr_tests_pcr tests_pcr test_test",
          "",
          "",
          "ethylene oxide_ethylene_oxide_thane_cv19"
         ],
         "type": "scatter",
         "x": [
          0.9068907412163099,
          0.9477433690222999,
          0.9477433690222999,
          0
         ],
         "xaxis": "x",
         "y": [
          -6570,
          -6570,
          -6585,
          -6585
         ],
         "yaxis": "y"
        },
        {
         "hoverinfo": "text",
         "marker": {
          "color": "rgb(0,116,217)"
         },
         "mode": "lines",
         "text": [
          "positive_positive covid19_tested positive_tested_testing",
          "",
          "",
          "pcr_tests_pcr tests_pcr test_test"
         ],
         "type": "scatter",
         "x": [
          0.9518908648303658,
          1.0342862362191259,
          1.0342862362191259,
          0.9477433690222999
         ],
         "xaxis": "x",
         "y": [
          -6536.25,
          -6536.25,
          -6577.5,
          -6577.5
         ],
         "yaxis": "y"
        },
        {
         "hoverinfo": "text",
         "marker": {
          "color": "rgb(0,116,217)"
         },
         "mode": "lines",
         "text": [
          "positive_positive covid19_tested positive_tested_testing",
          "",
          "",
          "tests_pcr_positive_pcr tests_test"
         ],
         "type": "scatter",
         "x": [
          1.2210856410947009,
          1.2413302789747072,
          1.2413302789747072,
          1.0342862362191259
         ],
         "xaxis": "x",
         "y": [
          -6117.38525390625,
          -6117.38525390625,
          -6556.875,
          -6556.875
         ],
         "yaxis": "y"
        },
        {
         "hoverinfo": "text",
         "marker": {
          "color": "rgb(133,20,75)"
         },
         "mode": "lines",
         "text": [
          "cervical cancer_cancer_cervical_cancer deaths_cancer secondmost",
          "",
          "",
          "cancer_garlic_cure cancer_black garlic_kills cancer"
         ],
         "type": "scatter",
         "x": [
          0,
          0.8725800684291269,
          0.8725800684291269,
          0
         ],
         "xaxis": "x",
         "y": [
          -6595,
          -6595,
          -6605,
          -6605
         ],
         "yaxis": "y"
        },
        {
         "hoverinfo": "text",
         "marker": {
          "color": "rgb(255,220,0)"
         },
         "mode": "lines",
         "text": [
          "cold water_drinking cold_drinking_water_cold",
          "",
          "",
          "water_lemon_drinking_tea_cure"
         ],
         "type": "scatter",
         "x": [
          0,
          0.7903443526842701,
          0.7903443526842701,
          0
         ],
         "xaxis": "x",
         "y": [
          -6615,
          -6615,
          -6625,
          -6625
         ],
         "yaxis": "y"
        },
        {
         "hoverinfo": "text",
         "marker": {
          "color": "rgb(255,220,0)"
         },
         "mode": "lines",
         "text": [
          "water_drinking_lemon_cure_tea",
          "",
          "",
          "steam_inhalation_inhaling_inhaling steam_hair dryer"
         ],
         "type": "scatter",
         "x": [
          0.7903443526842701,
          0.9409291590908906,
          0.9409291590908906,
          0
         ],
         "xaxis": "x",
         "y": [
          -6620,
          -6620,
          -6635,
          -6635
         ],
         "yaxis": "y"
        },
        {
         "hoverinfo": "text",
         "marker": {
          "color": "rgb(255,220,0)"
         },
         "mode": "lines",
         "text": [
          "water_drinking_lemon_steam_cure",
          "",
          "",
          "onion_onion salt_raw onion_raw_salt"
         ],
         "type": "scatter",
         "x": [
          0.9409291590908906,
          0.9721707640967163,
          0.9721707640967163,
          0
         ],
         "xaxis": "x",
         "y": [
          -6627.5,
          -6627.5,
          -6645,
          -6645
         ],
         "yaxis": "y"
        },
        {
         "hoverinfo": "text",
         "marker": {
          "color": "rgb(0,116,217)"
         },
         "mode": "lines",
         "text": [
          "cancer_garlic_cure cancer_black garlic_kills cancer",
          "",
          "",
          "water_drinking_cure_cure covid19_salt"
         ],
         "type": "scatter",
         "x": [
          0.8725800684291269,
          1.0662585561090072,
          1.0662585561090072,
          0.9721707640967163
         ],
         "xaxis": "x",
         "y": [
          -6600,
          -6600,
          -6636.25,
          -6636.25
         ],
         "yaxis": "y"
        },
        {
         "hoverinfo": "text",
         "marker": {
          "color": "rgb(0,116,217)"
         },
         "mode": "lines",
         "text": [
          "cancer_garlic_cure cancer_black garlic_kills cancer",
          "",
          "",
          "water_drinking_cure_cure covid19_salt"
         ],
         "type": "scatter",
         "x": [
          1.2413302789747072,
          1.2486939004722444,
          1.2486939004722444,
          1.0662585561090072
         ],
         "xaxis": "x",
         "y": [
          -6337.130126953125,
          -6337.130126953125,
          -6618.125,
          -6618.125
         ],
         "yaxis": "y"
        },
        {
         "hoverinfo": "text",
         "marker": {
          "color": "rgb(0,116,217)"
         },
         "mode": "lines",
         "text": [
          "cancer_garlic_cure cancer_black garlic_kills cancer",
          "",
          "",
          "water_drinking_cure_cure covid19_salt"
         ],
         "type": "scatter",
         "x": [
          1.2047096957748915,
          1.2572591831301798,
          1.2572591831301798,
          1.2486939004722444
         ],
         "xaxis": "x",
         "y": [
          -5337.265625,
          -5337.265625,
          -6477.6275634765625,
          -6477.6275634765625
         ],
         "yaxis": "y"
        },
        {
         "hoverinfo": "text",
         "marker": {
          "color": "rgb(40,35,35)"
         },
         "mode": "lines",
         "text": [
          "warp_warp speed_speed_pfizer_operation warp",
          "",
          "",
          "warp speed_warp_speed_pfizer_operation warp"
         ],
         "type": "scatter",
         "x": [
          0,
          0.39432865464200895,
          0.39432865464200895,
          0
         ],
         "xaxis": "x",
         "y": [
          -6655,
          -6655,
          -6665,
          -6665
         ],
         "yaxis": "y"
        },
        {
         "hoverinfo": "text",
         "marker": {
          "color": "rgb(0,116,217)"
         },
         "mode": "lines",
         "text": [
          "warp_warp speed_speed_pfizer_operation warp",
          "",
          "",
          "warp_warp speed_speed_pfizer_operation warp"
         ],
         "type": "scatter",
         "x": [
          1.2572591831301798,
          1.3478430417300062,
          1.3478430417300062,
          0.39432865464200895
         ],
         "xaxis": "x",
         "y": [
          -5907.446594238281,
          -5907.446594238281,
          -6660,
          -6660
         ],
         "yaxis": "y"
        },
        {
         "hoverinfo": "text",
         "marker": {
          "color": "rgb(0,116,217)"
         },
         "mode": "lines",
         "text": [
          "warp_warp speed_speed_pfizer_operation warp",
          "",
          "",
          "warp_warp speed_speed_pfizer_operation warp"
         ],
         "type": "scatter",
         "x": [
          1.4422171003966677,
          1.4755773522164768,
          1.4755773522164768,
          1.3478430417300062
         ],
         "xaxis": "x",
         "y": [
          -1944.1253552757871,
          -1944.1253552757871,
          -6283.723297119141,
          -6283.723297119141
         ],
         "yaxis": "y"
        },
        {
         "hoverinfo": "text",
         "marker": {
          "color": "rgb(61,153,112)"
         },
         "mode": "lines",
         "text": [
          "landslide_won landslide_trump won_won_election landslide",
          "",
          "",
          "trump won_won_won biden_biden_won landslide"
         ],
         "type": "scatter",
         "x": [
          0,
          0.7510334153385375,
          0.7510334153385375,
          0
         ],
         "xaxis": "x",
         "y": [
          -6695,
          -6695,
          -6705,
          -6705
         ],
         "yaxis": "y"
        },
        {
         "hoverinfo": "text",
         "marker": {
          "color": "rgb(61,153,112)"
         },
         "mode": "lines",
         "text": [
          "stolen_stole_election_won_democrats stole",
          "",
          "",
          "trump won_landslide_won_won landslide_won biden"
         ],
         "type": "scatter",
         "x": [
          0,
          0.75637495080434,
          0.75637495080434,
          0.7510334153385375
         ],
         "xaxis": "x",
         "y": [
          -6685,
          -6685,
          -6700,
          -6700
         ],
         "yaxis": "y"
        },
        {
         "hoverinfo": "text",
         "marker": {
          "color": "rgb(61,153,112)"
         },
         "mode": "lines",
         "text": [
          "trump won_won_landslide_won landslide_election",
          "",
          "",
          "won 2020_2020 election_election_trump won_won"
         ],
         "type": "scatter",
         "x": [
          0.75637495080434,
          0.8833930488267339,
          0.8833930488267339,
          0
         ],
         "xaxis": "x",
         "y": [
          -6692.5,
          -6692.5,
          -6715,
          -6715
         ],
         "yaxis": "y"
        },
        {
         "hoverinfo": "text",
         "marker": {
          "color": "rgb(61,153,112)"
         },
         "mode": "lines",
         "text": [
          "patriots_eventually truth_won eventually_good morning_won",
          "",
          "",
          "won 2020_2020 election_election_trump won_won"
         ],
         "type": "scatter",
         "x": [
          0,
          0.9721302129415266,
          0.9721302129415266,
          0.8833930488267339
         ],
         "xaxis": "x",
         "y": [
          -6675,
          -6675,
          -6703.75,
          -6703.75
         ],
         "yaxis": "y"
        },
        {
         "hoverinfo": "text",
         "marker": {
          "color": "rgb(255,65,54)"
         },
         "mode": "lines",
         "text": [
          "trump won_won_won rightfully_rightfully 113_113",
          "",
          "",
          "knows_knows trump_won knows_trump won_won"
         ],
         "type": "scatter",
         "x": [
          0,
          0.749224982621401,
          0.749224982621401,
          0
         ],
         "xaxis": "x",
         "y": [
          -6725,
          -6725,
          -6735,
          -6735
         ],
         "yaxis": "y"
        },
        {
         "hoverinfo": "text",
         "marker": {
          "color": "rgb(255,65,54)"
         },
         "mode": "lines",
         "text": [
          "trump won_won trump_won_won president_won election",
          "",
          "",
          "won trump_trump won_won_won donald_trump"
         ],
         "type": "scatter",
         "x": [
          0,
          0.46552695685834633,
          0.46552695685834633,
          0
         ],
         "xaxis": "x",
         "y": [
          -6745,
          -6745,
          -6755,
          -6755
         ],
         "yaxis": "y"
        },
        {
         "hoverinfo": "text",
         "marker": {
          "color": "rgb(255,65,54)"
         },
         "mode": "lines",
         "text": [
          "trump won_won trump_won_won president_won election",
          "",
          "",
          "trump won_won trump_won_trump_won election"
         ],
         "type": "scatter",
         "x": [
          0.749224982621401,
          0.8069705976408077,
          0.8069705976408077,
          0.46552695685834633
         ],
         "xaxis": "x",
         "y": [
          -6730,
          -6730,
          -6750,
          -6750
         ],
         "yaxis": "y"
        },
        {
         "hoverinfo": "text",
         "marker": {
          "color": "rgb(0,116,217)"
         },
         "mode": "lines",
         "text": [
          "trump won_won trump_won_won president_won election",
          "",
          "",
          "trump won_won_won trump_knows_knows trump"
         ],
         "type": "scatter",
         "x": [
          0.9721302129415266,
          1.0403818328763499,
          1.0403818328763499,
          0.8069705976408077
         ],
         "xaxis": "x",
         "y": [
          -6689.375,
          -6689.375,
          -6740,
          -6740
         ],
         "yaxis": "y"
        },
        {
         "hoverinfo": "text",
         "marker": {
          "color": "rgb(0,116,217)"
         },
         "mode": "lines",
         "text": [
          "trump won_won trump_won_won president_won election",
          "",
          "",
          "trump won_won_landslide_won landslide_won trump"
         ],
         "type": "scatter",
         "x": [
          1.4755773522164768,
          1.877191482593339,
          1.877191482593339,
          1.0403818328763499
         ],
         "xaxis": "x",
         "y": [
          -4113.924326197464,
          -4113.924326197464,
          -6714.6875,
          -6714.6875
         ],
         "yaxis": "y"
        },
        {
         "hoverinfo": "text",
         "marker": {
          "color": "rgb(0,116,217)"
         },
         "mode": "lines",
         "text": [
          "earthquake_likely_earthquake likely_california_san",
          "",
          "",
          "trump won_won_landslide_won landslide_won trump"
         ],
         "type": "scatter",
         "x": [
          1.0156905601863766,
          1.9170925905994374,
          1.9170925905994374,
          1.877191482593339
         ],
         "xaxis": "x",
         "y": [
          -40,
          -40,
          -5414.305913098732,
          -5414.305913098732
         ],
         "yaxis": "y"
        },
        {
         "hoverinfo": "text",
         "hovertext": [
          "francisco bay_earthquake_0629_san francisco_bay",
          "earthquake_major earthquake_likely_california_angeles",
          "floyd_george floyd_george_floyds death_george floyds",
          "floyd_george floyd_george_derek_derek chauvin",
          "ballots_mailin_mailin ballots_ballot_votes",
          "senators_voting rights_georgia_voting_vote",
          "georgia_kemp_gov brian_food water_georgia gov",
          "georgia_kemp_gov brian_food water_georgia gov",
          "dominion_dominion voting_voting systems_systems_voting",
          "kavanaugh_kavanaughs_judge_judge kavanaughs_brett",
          "stimulus_relief_stimulus payments_payments_checks",
          "nigeria_nigerian_boko haram_haram_boko",
          "kobe_bryant_kobe bryant_kobe bryants_bryants",
          "kobe_bryant_kobe bryant_kobe bryants_bryants",
          "rally_trump rally_rally tulsa_2021 president_tulsa",
          "rally_trump rally_rally tulsa_2021 president_tulsa",
          "impeachment_impeached_impeach_senators_unconstitutional",
          "trump tweeted_tweeted_dying died_oldies die_people dying",
          "trump tweeted_tweeted_dying died_oldies die_people dying",
          "melania_melania trump_lady melania_drawings_lady",
          "tesla_musk_elon musk_elon_autopilot",
          "prices_insulin_gas prices_gas_price",
          "wind_energy_turbines_wind turbines_texas",
          "wind_energy_turbines_wind turbines_texas",
          "pipeline_keystone_keystone pipeline_oil_earthjustice",
          "explosion_beirut_blast_beirut explosion_august 2020",
          "israeli_israel_gaza_palestinian_palestine",
          "israeli_israel_gaza_palestinian_palestine",
          "tesla_musk_elon_elon musk_elonmusk",
          "south_south african_african_looting_south africa",
          "examination_matric_000_exams_grade",
          "korean_south korean_south_korea_korean president",
          "hanks_tom hanks_tom_actor tom_hanks arrested",
          "australia_australian_australian government_australia country_malcolm turnbull",
          "mars_nasa_moon_sun_surface",
          "ufo_himalayas_space station_international space_space",
          "bushfires_wildfires_australian_australia_australian bushfires",
          "abortion_babies_birth_abortions_born",
          "children_elderly_blood_adults_kids",
          "suez_suez canal_canal_ship_cargo ship",
          "sports_trans_transgender_girls_womens",
          "sports_trans_transgender_girls_womens",
          "cat_robot_bodyguard_robot bodyguard_dubai robot",
          "apartment_shows apartment_apartment building_homeless_homeless people",
          "apartment_shows apartment_apartment building_homeless_homeless people",
          "apartment_shows apartment_apartment building_homeless_homeless people",
          "cnns_pornhub_pornhub notification_notification_magic wall",
          "cnns_pornhub_pornhub notification_notification_magic wall",
          "flooding_floods_river_dam_washed away",
          "flooding_floods_river_dam_washed away",
          "lightning_river video_bolt_shows lightning_lightning strike",
          "tunnel_atal tunnel_atal_ukhrul manipur_ukhrul",
          "tunnel_atal tunnel_atal_ukhrul manipur_ukhrul",
          "michelle_michelle obama_obama_lady michelle_barack",
          "yadav_tejashwi_tejashwi yadav_passed away_bhagat",
          "fraude_en wisconsin_biden en_votos_fraude electoral",
          "mcafee_fbmd23000965010000290400004b0400009d0400007a0c0000f90d0000af1000005e1200000414000068170000_instructions fbmd23000965010000290400004b0400009d0400007a0c0000f90d0000af1000005e1200000414000068170000_photoshop_cryptographic",
          "assange_wikileaks_guardian_julian_julian assange",
          "pandemic video_italy_pray4theworld video_praying amid_outbreak country",
          "cia_oswald_records_frameup_cias",
          "adam schiff_schiff_adam_schiff arrested_arrested lax",
          "snapchat_charmin_drake_2018_loomer lauraloomer",
          "ford_fords_ms ford_ms_blasey",
          "veterans_ptsd_veteran_veterans ptsd_october 2016",
          "veterans_ptsd_veteran_veterans ptsd_october 2016",
          "veterans_ptsd_veteran_veterans ptsd_october 2016",
          "photos destruction_photos videos_july 22_22 2020_alaska",
          "photos destruction_photos videos_july 22_22 2020_alaska",
          "worst thing_thing life_time feature_pain irreparable_saddest thing",
          "worst thing_thing life_time feature_pain irreparable_saddest thing",
          "dawood ibrahim_dawood_ibrahim_amitabh_amitabh bachchan",
          "yes yes_peacefully god_god wrongfully_grew love_god um",
          "yes yes_peacefully god_god wrongfully_grew love_god um",
          "yes yes_peacefully god_god wrongfully_grew love_god um",
          "himalaya_drug company_himalaya drug_10 income_donates 10",
          "ethiopia_bobi_ethiopian_tplf_ugandas",
          "ethiopia_bobi_ethiopian_tplf_ugandas",
          "rickshaw_rickshaw puller_puller_vehicle seized_india video",
          "rickshaw_rickshaw puller_puller_vehicle seized_india video",
          "rickshaw_rickshaw puller_puller_vehicle seized_india video",
          "starbucks_coffee_frappuccino_starbucks offering_free frappuccino",
          "hazard pay_hazard_work coronavirus_citizens entitled_4800 hazard",
          "cases_covid19 cases_new cases_0100_jhu world",
          "cases_covid19 cases_new cases_0100_jhu world",
          "breath_holding breath_covid19 holding_holding_hold breath",
          "breath_holding breath_covid19 holding_holding_hold breath",
          "blue_states turn_turn purple_backtheblue_blue lives",
          "blue_states turn_turn purple_backtheblue_blue lives",
          "blue_states turn_turn purple_backtheblue_blue lives",
          "blue_states turn_turn purple_backtheblue_blue lives",
          "blue_states turn_turn purple_backtheblue_blue lives",
          "psaki_jen psaki_jen_electric_electric cars",
          "dmx_18 2016_song_si robertson_robertson dead",
          "dmx_18 2016_song_si robertson_robertson dead",
          "false_false flag_flag operation_false flags_flag",
          "false_false flag_flag operation_false flags_flag",
          "jeffrey_maxwell_convicted sex_sex offender_offender jeffrey",
          "farrakhan_bds_jews_jewish_davis",
          "govern_shakespeare_terrible era_govern blind_era idiots",
          "fuck_fuck im_ginacarano_wtf_san makes",
          "19s_guy sold_things disaster_says connected_somethings adding",
          "19s_guy sold_things disaster_says connected_somethings adding",
          "19s_guy sold_things disaster_says connected_somethings adding",
          "19s_guy sold_things disaster_says connected_somethings adding",
          "19s_guy sold_things disaster_says connected_somethings adding",
          "19s_guy sold_things disaster_says connected_somethings adding",
          "wap thinking_wap_thinking oomf_boi lineup_started free",
          "wap thinking_wap_thinking oomf_boi lineup_started free",
          "wap thinking_wap_thinking oomf_boi lineup_started free",
          "wap thinking_wap_thinking oomf_boi lineup_started free",
          "taylor_marjorie_marjorie taylor_greene_taylor greene",
          "taylor_marjorie_marjorie taylor_greene_taylor greene",
          "gay_pete_buttigieg_pete buttigieg_pride",
          "disney_loki_disneyland_walt disney_walt",
          "disney_loki_disneyland_walt disney_walt",
          "thunberg_greta thunberg_greta_activist greta_environmental activist",
          "thunberg_greta thunberg_greta_activist greta_environmental activist",
          "gamestop_robinhood_gme_shares_amc",
          "seuss_dr seuss_mr potato_hobby_potato head",
          "magazine_time magazine_rachel levine_levine_rachel",
          "cruz_ted cruz_ted_sen ted_sen",
          "child pornography_pornography_netflix ceo_netflix_ceo",
          "child pornography_pornography_netflix ceo_netflix_ceo",
          "mlb_georgians_hank aaron_hank_woke",
          "sheldon whitehouse_sheldon_whitehouse_klan_klux klan",
          "coke_cocacola_try white_crow law_vanilla",
          "coke_cocacola_try white_crow law_vanilla",
          "ronald reagan_reagan said_ronald_reagan_restrict",
          "shooting_shootings_school shooting_school shootings_jrehling",
          "shooting_shootings_school shooting_school shootings_jrehling",
          "gun_guns_amendment_gun control_second amendment",
          "gun_guns_amendment_gun control_second amendment",
          "puerto_puerto rico_hurricane_rico_september",
          "pledge_pledge allegiance_allegiance_banning pledge_phrase god",
          "cuomo_nursing_martial law_martial_nursing homes",
          "liz_powell_ivanka_cheney_liz cheney",
          "liz_powell_ivanka_cheney_liz cheney",
          "liz_powell_ivanka_cheney_liz cheney",
          "disha_ravi_disha ravi_twitter_account",
          "disha_ravi_disha ravi_twitter_account",
          "disha_ravi_disha ravi_twitter_account",
          "disha_ravi_disha ravi_twitter_account",
          "george clooney_clooney_actor george_george_convict trump",
          "rush_rush limbaugh_limbaugh_tucker_carlson",
          "rush_rush limbaugh_limbaugh_tucker_carlson",
          "rush_rush limbaugh_limbaugh_tucker_carlson",
          "gamestop_robinhood_gme_stock_shares",
          "juneteenth_holiday_federal holiday_juneteenth federal_juneteenth holiday",
          "hillary clinton_hillary_clinton_guantanamo_military tribunal",
          "hillary clinton_hillary_clinton_guantanamo_military tribunal",
          "hillary clinton_hillary_clinton_guantanamo_military tribunal",
          "pope_church_catholic_francis_bishops",
          "hitler_adolf_adolf hitler_holding bible_praying golden",
          "pope_church_catholic_francis_bishops",
          "pope_church_catholic_francis_bishops",
          "revenue_transports_industry transports_revenue goes_fiscal deficit",
          "poverty_relative poverty_judith collins_judith_living relative",
          "wage_minimum wage_minimum_nhs_pay",
          "wage_minimum wage_minimum_nhs_pay",
          "scottish_snp_nicola_scottish independence_uk corona",
          "scottish_snp_nicola_scottish independence_uk corona",
          "scottish_snp_nicola_scottish independence_uk corona",
          "paddock_vegas_las vegas_las_shooting",
          "facebook_page_facebook page_users_facebooks",
          "whatsapp_mukesh_mukesh ambani_ambani_hack phone",
          "jio_recharge_tower_jio offering_free recharge",
          "trace_test trace_trace cost_test_cost",
          "facebook_page_facebook page_users_facebooks",
          "vegas_paddock_las vegas_las_shooting",
          "anniversary_coupon_pizza_giving away_offering",
          "anniversary_coupon_pizza_giving away_offering",
          "anniversary_coupon_pizza_giving away_offering",
          "anniversary_coupon_pizza_giving away_offering",
          "yadavs_sushant singh_sushant_singh rajput_rajput",
          "yadavs_sushant singh_sushant_singh rajput_rajput",
          "yadavs_sushant singh_sushant_singh rajput_rajput",
          "yadavs_sushant singh_sushant_singh rajput_rajput",
          "zealand_new zealand_jacinda ardern_ardern_jacinda",
          "zealand_new zealand_jacinda ardern_ardern_jacinda",
          "zealand_new zealand_jacinda ardern_ardern_jacinda",
          "kavanaugh_amy coney_coney_judge_barrett",
          "daunte_daunte wright_wright_freshener_air freshener",
          "defund police_police_defund_defunded police_crime",
          "insurrection_capitol_6th_january 6th_attack",
          "capitol_insurrection_sicknick_jan_capitol police",
          "capitol_insurrection_sicknick_jan_capitol police",
          "antifa_capitol_antifa activists_activists_trump supporters",
          "antifa_capitol_antifa activists_activists_trump supporters",
          "antifa_capitol_antifa activists_activists_trump supporters",
          "antifa_capitol_antifa activists_activists_trump supporters",
          "shirts_tshirt_wetherspoon_poppy_black lives",
          "writing note_jump try_note tweet_like jump_welcome birdwatch",
          "border_harris_kamala_book_border crisis",
          "kamala_kamala harris_harris_president kamala_vice",
          "joe biden_joe_biden_president joe_presidential",
          "joe biden_joe_biden_president joe_presidential",
          "la_en_que_el_por",
          "la_une_foto_du_en",
          "hospital_resistir_en_en hospital_resistir en",
          "hospital_resistir_en_en hospital_resistir en",
          "sri_sri lanka_lanka_lankan_sri lankan",
          "saudi arabia_arabia_saudi_tomb_arabia photo",
          "saudi_arabia_saudi arabia_tomb_arabia photo",
          "oxygen_camphor_oxygen cylinder_cylinder_oxygen level",
          "bareilly_bareilly uttar_attacked_cops_muslim",
          "french_erdogan_macron_french president_french products",
          "muslim_spit_spitting_food_shows muslim",
          "crashed_rafale_helicopter_crash_jet",
          "pilots_british airways_airways_airways pilots_british",
          "kashmir_370_article 370_army killing_muslim brothers",
          "flag_indian flag_flag indian_pakistani flag_pakistani",
          "flag_indian flag_flag indian_pakistani flag_pakistani",
          "jamia_student_cctv footage_jamia student_injured jamia",
          "amit shah_amit_shah_owaisi_asaduddin",
          "amit shah_amit_shah_owaisi_asaduddin",
          "gandhi_rahul_sonia_rahul gandhi_sonia gandhi",
          "bank_rbi_rs_banks_rs 2000",
          "100 crore_crore_rajasthan government_rs_rs 100",
          "pakistan_pakistan super_pakistan pilot_resume march_naval ship",
          "pakistan_pakistan super_pakistan pilot_resume march_naval ship",
          "pakistan_pakistan super_pakistan pilot_resume march_naval ship",
          "pakistan_pakistan super_pakistan pilot_resume march_naval ship",
          "mosque_old delhi_delhi railway_railway station_station",
          "child_beating child_child india_showing woman_beating",
          "patient_corona_kanpur uttar_patient kanpur_home stay",
          "adani_railway_station_railway station_mumbai",
          "italy_bodies_victims_italian_dead",
          "italy_bodies_victims_italian_dead",
          "jack ma_shows chinese_ma_jack_billionaire jack",
          "hong kong_kong_hong_kong police_shows hong",
          "antichinese_indonesias_indonesia_indonesian_wamena indonesias",
          "covid19 restrictions_restrictions_protest_berlin_restrictions photograph",
          "shaheen bagh_shaheen_bagh_protest shaheen_dadi",
          "shaheen bagh_shaheen_bagh_protest shaheen_dadi",
          "shaheen bagh_shaheen_bagh_protest shaheen_dadi",
          "thai_thailand_photos thai_thai prime_bangkok",
          "delhi_stones_delhi police_delhi riots_water crisis",
          "social distancing_distancing_norms_distancing norms_social",
          "lockdown_total lockdown_lockdowns_military lockdown_lockdown march",
          "lockdown_total lockdown_lockdowns_military lockdown_lockdown march",
          "migrant_migrant workers_labourers_lockdown migrant_lockdown",
          "migrant_migrant workers_labourers_lockdown migrant_lockdown",
          "migrant_migrant workers_labourers_lockdown migrant_lockdown",
          "migrant_migrant workers_labourers_lockdown migrant_lockdown",
          "duterte_philippine_marcos_rodrigo_rodrigo duterte",
          "eruption_volcano_philippines_volcanic_volcanic eruption",
          "myanmar_myanmars_coup_myanmar military_military coup",
          "myanmar_myanmars_coup_myanmar military_military coup",
          "bihar_bjp_evm_elections_assembly elections",
          "yogi_yogi adityanath_adityanath_minister yogi_yogi adityanaths",
          "bjp_bihar_mla_elections_evm",
          "mamata_banerjee_mamata banerjee_injury_bengal",
          "mamata_banerjee_mamata banerjee_injury_bengal",
          "oxygen_saudi_arabia_saudi arabia_camphor",
          "farmers_farmer_farmers protest_protesting_tractor",
          "modi_narendra_narendra modi_pm_pm modi",
          "modi_narendra_narendra modi_pm_pm modi",
          "modi_narendra_narendra modi_pm_pm modi",
          "modi_narendra_narendra modi_pm_pm modi",
          "sri_sri lanka_lanka_lankan_sri lankan",
          "sri_sri lanka_lanka_lankan_sri lankan",
          "floyd_george floyd_george_derek_derek chauvin",
          "5g_radiation_5g tower_5g technology_towers",
          "nwo_alien_hes_elite_purposely mistreated",
          "corona_corona crisis_new world_world order_install",
          "hoax_covid hoax_covid_999 belive_belive",
          "spiritual_pandemic_spiritually_physically_spirituality",
          "hoax trump_hoax_hoax deep_suppose_alex jones",
          "hoax trump_hoax_hoax deep_suppose_alex jones",
          "beast_mark beast_mark_vaccine mark_revelation 13",
          "beast_mark beast_mark_vaccine mark_revelation 13",
          "5g_radiation_5g technology_5g tower_towers",
          "anthony fauci_dr anthony_anthony_fauci_dr",
          "desantis_publix_florida gov_ron desantis_ron",
          "deaths_death toll_toll_covid19 death_covid19 deaths",
          "care facilities_coronavirus deaths_facilities_care_deaths",
          "previous years_2020 lower_previous_lower_lower 10",
          "florida_desantis_ron_ron desantis_floridas",
          "hydroxychloroquine_ivermectin_chloroquine_zinc_treatment",
          "hydroxychloroquine_ivermectin_chloroquine_zinc_remdesivir",
          "vitamin_reduction_need icu_vitamin covid19_reduction need",
          "milk_adulterating_adulterating milk_man adulterating_benadryl",
          "vegan_panic buying_panic_food_supermarket",
          "fruits_tomato virus_coronavirus transmitted_virus affecting_coronavirus spread",
          "hand_sanitiser_hand sanitiser_hand sanitizer_sanitizer",
          "meat_red meat_vegetarian_vegetarians_climate plan",
          "meat_red meat_vegetarian_vegetarians_climate plan",
          "meat_red meat_vegetarian_vegetarians_climate plan",
          "marijuana_cannabis_cbd_shark tank_weed",
          "person person_person_uturn_catch covid19_surfaces",
          "anticoagulants_ibuprofen_used fight_aspirin_fight covid19",
          "anticoagulants_ibuprofen_used fight_aspirin_fight covid19",
          "habits_damaging habits_brain damaging_world health_biggest brain",
          "infrared_pineal gland_pineal_gland_thermometers",
          "ebola_bikoro_congo_equateur province_equateur",
          "ebola_bikoro_congo_equateur province_equateur",
          "ebola_bikoro_congo_equateur province_equateur",
          "coronavirus_coronavirus vaccine_novel_novel coronavirus_vaccine coronavirus",
          "simpsons_predicted_covid19 pandemic_1956_simpsons predicted",
          "wuhan_china_lab_bioweapon_chinese",
          "wuhan_china_lab_bioweapon_chinese",
          "soros_george soros_george_billionaire george_billionaire",
          "soros_george soros_george_billionaire george_billionaire",
          "soros_george soros_george_billionaire george_billionaire",
          "hydroxychloroquine_ivermectin_patent_vitamin_hcq",
          "died_nurse_covid19 vaccine_receiving_tiffany dover",
          "bharat_biotech_bharat biotech_vaccine bharat_vk srinivas",
          "aluminum_ingredients_unsafe aluminum_potassium chloride_pediarix vaccine",
          "aluminum_ingredients_unsafe aluminum_potassium chloride_pediarix vaccine",
          "pfizer_pfizer vaccine_vaccine cause_pfizer contract_freaked insane",
          "pfizer_pfizer vaccine_vaccine cause_pfizer contract_freaked insane",
          "people vaccine_vaccine_safe force_hold till_injecting vaccine",
          "people vaccine_vaccine_safe force_hold till_injecting vaccine",
          "approval_americans approved_approved president_85_approval rating",
          "approval_americans approved_approved president_85_approval rating",
          "approval_americans approved_approved president_85_approval rating",
          "nuremberg_nuremberg code_code_principles nuremberg_war criminals",
          "nuremberg_nuremberg code_code_principles nuremberg_war criminals",
          "died flu_flu_flu killed_h1n1_flu 2020",
          "died flu_flu_flu killed_h1n1_flu 2020",
          "quarantine_healthy_forced isolation_restrict movement_entire plandemic",
          "quarantine_healthy_forced isolation_restrict movement_entire plandemic",
          "quarantine_healthy_forced isolation_restrict movement_entire plandemic",
          "quarantine_healthy_forced isolation_restrict movement_entire plandemic",
          "quarantine_healthy_forced isolation_restrict movement_entire plandemic",
          "mrna_covid19 vaccines_vaccines_covid19 vaccine_vaccine",
          "covid19 vaccines_mrna_vaccines_covid19 vaccine_vaccine",
          "covid19 vaccines_mrna_vaccines_covid19 vaccine_vaccine",
          "positive_positive covid19_tested positive_tested_positive coronavirus",
          "pcr_tests_pcr tests_pcr test_test",
          "positive_positive covid19_tested positive_tested_testing",
          "positive_positive covid19_tested positive_tested_testing",
          "water_drinking_lemon_cure_tea",
          "water_drinking_lemon_steam_cure",
          "cancer_garlic_cure cancer_black garlic_kills cancer",
          "cancer_garlic_cure cancer_black garlic_kills cancer",
          "cancer_garlic_cure cancer_black garlic_kills cancer",
          "warp_warp speed_speed_pfizer_operation warp",
          "warp_warp speed_speed_pfizer_operation warp",
          "trump won_won_landslide_won landslide_election",
          "trump won_won trump_won_won president_won election",
          "trump won_won trump_won_won president_won election",
          "trump won_won trump_won_won president_won election",
          "earthquake_likely_earthquake likely_california_san"
         ],
         "marker": {
          "color": "black"
         },
         "mode": "markers",
         "showlegend": false,
         "type": "scatter",
         "x": [
          0.7017274092933967,
          0.9535370277060384,
          0.7223130056416254,
          0.9100787641360792,
          0.8372276685507831,
          0.9129782046449859,
          0.9250665435721761,
          0.9772345690060252,
          0.6067031605313561,
          0.7612211913760462,
          0.9198780146218398,
          0.9066574108548788,
          0.8991392985851601,
          1.084823816129049,
          0.9498271254702747,
          0.9699262717732605,
          0.9218746383802155,
          0.9178972441304859,
          1.0232295930812132,
          0.8012989561671789,
          0.8896283020635231,
          0.922573419694971,
          0.9291855765775578,
          0.9840513951833367,
          1.029476788096174,
          0.8722818835284668,
          1.0350523215988854,
          1.0568722930377206,
          0.9267132325869585,
          0.9376310165822394,
          0.9765359629243806,
          0.8529364309489054,
          0.8435684583463506,
          0.9350480671020662,
          0.920435497787834,
          0.9588647082602055,
          0.9588902619117332,
          0.9690685309280875,
          0.9959729344443793,
          0.9331947845877488,
          0.9793513287057898,
          1.0393624861504729,
          0.9766842357654107,
          0.9718894353956653,
          0.9922928439058859,
          1.0044936088917755,
          0.9902283620560903,
          1.0267910630504096,
          0.9626097146043356,
          0.9777186346951867,
          1.0186182173669995,
          1.0240089716925391,
          1.0327589661180647,
          0.9473594091193077,
          0.9288919878892932,
          0.9818903192951571,
          0.9412908144324192,
          0.9740318113581227,
          0.9930966013553324,
          0.9424000021161645,
          0.997920346259506,
          0.989048086701356,
          1.0016405409917306,
          0.9875736455417828,
          1.0045451015706781,
          1.0027715605389542,
          0.989380278196071,
          1.0137902745364835,
          0.9866775982412703,
          0.9888400342487462,
          0.9968129372040601,
          0.9908851388024159,
          0.9946360607225322,
          1.000143270283539,
          0.9959554546499988,
          0.9866119595380095,
          1.0008007087121853,
          0.9959319180359344,
          1.0055427991984998,
          1.0072556165869455,
          0.9869071878850192,
          0.992064917516496,
          0.9937774765221169,
          0.9989757032465004,
          1.0027439534650255,
          0.994005058556437,
          0.9868416478104615,
          1.0124899258169502,
          1.0113843462321825,
          1.0046336304930148,
          1.0200677047362305,
          0.972957554818848,
          1.014581666427834,
          1.0233841887730784,
          0.9711967054827789,
          0.9786494721532356,
          1.0104820873844518,
          0.968903044935197,
          0.9809244695292668,
          0.9830547868161486,
          0.991191554522294,
          1.0136771606715786,
          1.0226542965402357,
          1.030829606264956,
          1.0338263524022633,
          1.03956762885341,
          1.0585046695204468,
          1.0610993242579136,
          1.0402661501868753,
          1.0600882075110454,
          0.9267555080231487,
          1.087482825953916,
          0.9249287314540586,
          0.9164237599648312,
          1.0889760559702588,
          0.878053158664102,
          1.0729833297207112,
          0.9160383566435785,
          0.9288132579911519,
          0.9146092312956506,
          0.957901678241524,
          0.9431951982154516,
          1.010173383296482,
          0.9739702697255261,
          0.9589774232837106,
          1.0108822652658926,
          1.0091200170123018,
          0.9888199972592042,
          0.9614920373298922,
          0.9991476314932507,
          0.936447998505363,
          1.0404784375740899,
          0.9622946139155641,
          1.0092516750190152,
          0.9721677100136429,
          0.9655715570130518,
          1.0058822544134172,
          1.028914439833245,
          0.957639348040926,
          1.0344762988884686,
          1.0514883989801205,
          1.040756030888744,
          0.9337865215980778,
          0.9799318971092555,
          1.0640735630049376,
          1.0528900090350504,
          0.973626461733678,
          1.0903163128939044,
          0.8852991909158104,
          1.0920691858994678,
          1.1069544006531995,
          0.8856723902594628,
          0.917884495911752,
          0.9527070524568462,
          1.11527855650596,
          0.9586646566497182,
          0.9462098933622556,
          0.9381849257690624,
          1.0003179552185237,
          1.0423282416240747,
          1.1224006210919306,
          1.1276273382838766,
          0.8928907861444337,
          0.8938785993059016,
          0.9583520605754613,
          0.9291364192956778,
          1.0291957580225275,
          0.9763717226528371,
          0.9648884600686812,
          0.8730622094781784,
          1.1037658243836614,
          1.1425704966625156,
          1.1539143601240016,
          1.171625001715567,
          1.150917009396045,
          1.1802118623243123,
          1.1591065108842304,
          0.8667422025044149,
          0.9267884555664856,
          1.20374841538641,
          0.9334838578629707,
          0.9428172364041263,
          0.92084369577423,
          0.9439120633177254,
          0.9586130559403477,
          1.0444094933765142,
          0.8040690200949576,
          1.1231889553890544,
          1.2333521874441828,
          1.2245974745526935,
          1.3016961169760708,
          0.913053137998356,
          0.8189194113563963,
          0.535727241430852,
          0.9058812896825249,
          1.321858808987135,
          0.8559280280762086,
          0.8633393686662292,
          0.9809259971971194,
          1.3848183950501711,
          0.6064127605059906,
          0.8171311986143268,
          0.8512335172322607,
          0.8239597306449662,
          0.9848693760865087,
          0.9066165512295455,
          1.0563319389037282,
          0.9395098271826001,
          0.9030674909470302,
          0.9075736352609278,
          1.0507723407123388,
          1.0811843609638234,
          0.9465497132383358,
          0.9786982265201721,
          1.0185486211098576,
          0.9131822253881217,
          0.9553574026181987,
          0.9253090014716622,
          0.9781387702500716,
          1.0341973969940794,
          1.017251940683616,
          1.0644676213859832,
          0.9716792833671274,
          0.9534333463069585,
          1.000765171121153,
          0.9980097175131155,
          0.8570113604765983,
          1.0865098257622028,
          0.9714486236062667,
          0.9298810872715669,
          0.9590611710502934,
          0.9789328210764234,
          1.0119164546664354,
          1.0518310863262545,
          1.1114755714802702,
          1.1129012334326653,
          0.8861634857240155,
          0.9134390692249886,
          0.9119185256637967,
          0.9422148632029638,
          1.0100286957773628,
          1.0581170390457653,
          1.1286136465297503,
          1.1423597045829517,
          0.9105698971141465,
          1.1606924487233534,
          1.1769278779182148,
          1.1019183613387427,
          0.9063182555814268,
          0.8177146953964632,
          0.9538744983746137,
          0.5913977611745436,
          1.2112758912063881,
          1.106795654757429,
          0.938641229227442,
          0.7502818257887697,
          0.9522784060805269,
          1.0719687908543414,
          1.316896951223252,
          0.8164337616651159,
          1.4263481000581082,
          0.9510067887375114,
          0.9493563957557679,
          0.9780485469490255,
          0.9965387178123207,
          0.9294535166506509,
          0.9072561712193755,
          0.9589406422906577,
          1.000327976407724,
          0.9533812558694554,
          1.039252847733721,
          0.9643419118991436,
          1.17711449702929,
          0.8889354970496983,
          0.9131181049645666,
          0.9188255600292847,
          0.8506178946339717,
          0.9575912263585739,
          0.9077620747306892,
          0.9558033178018358,
          0.8412248820534932,
          0.9268147452476907,
          0.9397177128294341,
          1.0146760715357754,
          0.9236445637924046,
          0.9411361164199727,
          1.054958372680895,
          1.0480478803789923,
          0.9684793268588854,
          0.9684313568995324,
          0.9967664183300441,
          0.9828329437255763,
          0.9620475843593125,
          0.9757826400095403,
          1.0170313463794263,
          1.029421436525201,
          1.0733059473964428,
          0.9207887510874664,
          0.9516936631983286,
          0.9199961028035809,
          1.016505189810237,
          0.8750767621013769,
          1.0418205221175896,
          1.0878981158812753,
          1.102838505861488,
          0.9437365740095113,
          1.01476457315097,
          0.9688366100726812,
          0.9971062982120975,
          0.9612241129391765,
          1.0150916427446917,
          0.9776167957302594,
          0.9886603540490604,
          0.9862277702537988,
          1.0141723319063127,
          1.0331078009969423,
          1.050522481584705,
          1.0560344251151423,
          0.927506034839016,
          0.9813103163678468,
          0.9586927882942581,
          0.999070714167791,
          1.100435549441421,
          1.14639610061486,
          1.1832597977335135,
          0.9067426222778331,
          0.9576090409205507,
          1.213668063251274,
          0.8812103934208303,
          0.9068907412163099,
          0.9518908648303658,
          1.2210856410947009,
          0.7903443526842701,
          0.9409291590908906,
          0.8725800684291269,
          1.2413302789747072,
          1.2047096957748915,
          1.2572591831301798,
          1.4422171003966677,
          0.75637495080434,
          0.749224982621401,
          0.9721302129415266,
          1.4755773522164768,
          1.0156905601863766
         ],
         "y": [
          -20,
          -17.5,
          -100,
          -96.25,
          -200,
          -250,
          -230,
          -196.25,
          -170,
          -280,
          -312.5,
          -372.5,
          -420,
          -386.25,
          -500,
          -510,
          -480,
          -550,
          -501.25,
          -460,
          -580,
          -610,
          -640,
          -617.5,
          -632.5,
          -690,
          -700,
          -651.25,
          -587.5,
          -790,
          -797.5,
          -770,
          -750,
          -840,
          -890,
          -870,
          -847.5,
          -960,
          -970,
          -940,
          -1022.5,
          -962.5,
          -1070,
          -1110,
          -1117.5,
          -1080,
          -1172.5,
          -1105,
          -1240,
          -1220,
          -1235,
          -1257.5,
          -1145.625,
          -1340,
          -1320,
          -1400,
          -1380,
          -1470,
          -1466.25,
          -1440,
          -1522.5,
          -1570,
          -1580,
          -1630,
          -1595,
          -1536.25,
          -1672.5,
          -1576.875,
          -1740,
          -1720,
          -1780,
          -1840,
          -1820,
          -1790,
          -1870,
          -1910,
          -1880,
          -1940,
          -1898.75,
          -1811.875,
          -1980,
          -2010,
          -2050,
          -2020,
          -2038.75,
          -1987.5,
          -2100,
          -2023.4375,
          -1868.125,
          -1735,
          -1631.5625,
          -2140,
          -2150,
          -1741.38671875,
          -2240,
          -2220,
          -2233.75,
          -2200,
          -2290,
          -2340,
          -2336.25,
          -2300,
          -2225.9375,
          -1953.193359375,
          -1461.5625,
          -1395,
          -1591.492919921875,
          -1335,
          -1212.1875,
          -999.375,
          -2400,
          -1217.8276824951172,
          -2450,
          -2430,
          -1812.6638412475586,
          -920,
          -865.625,
          -2480,
          -2530,
          -2510,
          -2560,
          -2600,
          -2570,
          -2640,
          -2680,
          -2690,
          -2650,
          -2760,
          -2800,
          -2770,
          -2740,
          -2677.5,
          -2830,
          -2840,
          -2890,
          -2930,
          -2900,
          -2855,
          -2970,
          -2887.5,
          -2720.9375,
          -2590,
          -3040,
          -3012.5,
          -2708.671875,
          -2523.75,
          -2487.5,
          -2592.177734375,
          -3110,
          -2837.3388671875,
          -1194.8642301559448,
          -3150,
          -3180,
          -3157.5,
          -2086.7668318748474,
          -3220,
          -3280,
          -3260,
          -3230,
          -3252.5,
          -2630.2584159374237,
          -769.6875,
          -3350,
          -3380,
          -3430,
          -3410,
          -3425,
          -3387.5,
          -3357.5,
          -3490,
          -3387.5,
          -1864.283353984356,
          -635.3125,
          -1644.664588496089,
          -494.6875,
          -408.125,
          -327.5,
          -3550,
          -3557.5,
          -651.0337242810056,
          -287.5,
          -3610,
          -3590,
          -3650,
          -3660,
          -3605,
          -3710,
          -3640,
          -1198.0709310702514,
          -195,
          -1316.7052327675628,
          -142.5,
          -3820,
          -3800,
          -3772.5,
          -1336.0513081918907,
          -3880,
          -3860,
          -3859.375,
          -2564.5881540959454,
          -3930,
          -3980,
          -3987.5,
          -3960,
          -4042.5,
          -4020,
          -4038.125,
          -4142.5,
          -4120,
          -4180,
          -4190,
          -4136.875,
          -4240,
          -4282.5,
          -4250,
          -4340,
          -4400,
          -4380,
          -4432.5,
          -4393.75,
          -4350,
          -4273.75,
          -4500,
          -4540,
          -4551.25,
          -4510,
          -4480,
          -4329.375,
          -4632.5,
          -4610,
          -4670,
          -4677.5,
          -4688.75,
          -4626.875,
          -4419.765625,
          -4542.6953125,
          -4780,
          -4760,
          -4840,
          -4820,
          -4833.75,
          -4775,
          -4641.34765625,
          -4170.9375,
          -4910,
          -4449.1650390625,
          -4672.39501953125,
          -4065.3125,
          -4982.5,
          -5020,
          -4993.75,
          -4960,
          -4435.7550048828125,
          -3978.125,
          -5053.75,
          -5120,
          -5116.25,
          -5071.875,
          -4344.329376220703,
          -3937.5,
          -3224.6378270479727,
          -110.625,
          -5182.5,
          -5220,
          -5231.25,
          -5310,
          -5290,
          -5303.75,
          -5250.625,
          -5372.5,
          -5286.875,
          -5193.75,
          -5264.53125,
          -5430,
          -5490,
          -5497.5,
          -5470,
          -5440,
          -5560,
          -5567.5,
          -5540,
          -5610,
          -5670,
          -5680,
          -5650,
          -5730,
          -5672.5,
          -5620,
          -5770,
          -5800,
          -5810,
          -5777.5,
          -5890,
          -5870,
          -5883.75,
          -5801.875,
          -5663.125,
          -5960,
          -5940,
          -5990,
          -5953.75,
          -6020,
          -5975.625,
          -5757.5,
          -5559.375,
          -6060,
          -6070,
          -6160,
          -6132.5,
          -6190,
          -6150,
          -6252.5,
          -6222.5,
          -6302.5,
          -6244.375,
          -6173.75,
          -6227.03125,
          -6086.25,
          -6400,
          -6380,
          -6430,
          -6393.75,
          -6188.0078125,
          -5719.765625,
          -5464.6875,
          -6472.5,
          -6483.75,
          -5737.8955078125,
          -6540,
          -6570,
          -6536.25,
          -6117.38525390625,
          -6620,
          -6627.5,
          -6600,
          -6337.130126953125,
          -5337.265625,
          -5907.446594238281,
          -1944.1253552757871,
          -6692.5,
          -6730,
          -6689.375,
          -4113.924326197464,
          -40
         ]
        },
        {
         "hoverinfo": "text",
         "hovertext": [
          "65 75_75 earthquake_highest risk_salton sea_salton",
          "65 75_75 earthquake_highest risk_salton sea_salton",
          "60 earthquake_60_warning 60_earthquake_likely",
          "60 earthquake_60_warning 60_earthquake_likely",
          "floyd_george floyd_george_floyds death_george floyds",
          "like jump_jump try_writing note_note tweet_welcome birdwatch",
          "ballots_mailin_mailin ballots_ballot_voter",
          "filibuster_open express_filibuster existed_express lane_states senate",
          "filibuster_open express_filibuster existed_express lane_states senate",
          "filibuster_open express_filibuster existed_express lane_states senate",
          "stimulus_stimulus payments_payments_relief_covid19 stimulus",
          "bernie sanders_bernie_sanders_sen bernie_vermont",
          "tax_bernie_bernie sanders_sanders_sen bernie",
          "nigeria_nigerians_terrorism index_global terrorism_buhari",
          "ghana_ghanas_akufoaddo_claims ghanas_ghanas economic",
          "ruth bader_bader_age_ruth_age consent",
          "kobe_ruth bader_bader_ruth_ginsburg",
          "oval office_oval_postpresidency_trumps departure_2024 sign",
          "pardons_pardoned_pardon_hammond_trump pardoned",
          "trump tweeted_tweeted_dying died_oldies die_president donald",
          "trump tweeted_tweeted_dying died_oldies die_president donald",
          "wind_texas_energy_turbines_wind turbines",
          "pipeline_fracking_keystone_ban fracking_keystone pipeline",
          "israeli_israel_gaza_palestinian_palestine",
          "iran_iranian_syria_irans_obama",
          "iran_iranian_syria_irans_obama",
          "iran_iranian_syria_irans_obama",
          "exam_exams_ias_examination_upsc",
          "exam_exams_ias_examination_upsc",
          "south_korean_south african_exam_south korean",
          "mars_nasa_moon_sun_earth",
          "nasa_mars_moon_space_sun",
          "chelsea_chelsea clinton_clinton_wedding_cross",
          "malnutrition_children_hospitals_children admitted_adults",
          "malnutrition_children_hospitals_children admitted_adults",
          "gender clinic_detransawarenessday_clinic_gender_suicide",
          "trans_sports_girls_gender_transgender",
          "trans_sports_girls_gender_transgender",
          "dog_dogs_hyundai_human zoos_zoo",
          "shark_frog_whales_photograph_reef",
          "shark_photograph_photograph shows_whales_frog",
          "shark_photograph_photograph shows_whales_frog",
          "hunter_hunter biden_laptop_biden laptop_biden",
          "cnns_pornhub_pornhub notification_notification_pornhub logo",
          "cnns_pornhub_pornhub notification_notification_pornhub logo",
          "sedition_arrested_attack bijapur_arrested charges_charges sedition",
          "sedition_arrested_attack bijapur_arrested charges_charges sedition",
          "tornado_lightning_ryguysa_shows tornado_june 2017",
          "tunnel_atal tunnel_atal_fireworks_tokyo",
          "tunnel_atal tunnel_atal_fireworks_tokyo",
          "maradona_funeral_diego_diego maradona_maradonas",
          "maradona_funeral_diego_diego maradona_maradonas",
          "rittenhouse_kenosha_kyle_kyle rittenhouse_wisconsin",
          "rittenhouse_kenosha_kyle_kyle rittenhouse_wisconsin",
          "assange_wikileaks_guardian_julian_julian assange",
          "shooter anurag_anurag mishra_anurag_uddhav thackeray_uddhav",
          "shooter anurag_anurag mishra_anurag_uddhav thackeray_uddhav",
          "apc_edo_osagie izeiyamu_2020 edo_izeiyamu",
          "winston churchill_fascism_churchill_marxism_winston",
          "omar_ilhan omar_ilhan_married brother_dartell",
          "steinle_steinles_steinles death_kate steinle_zarate",
          "audit_forensic_arizona_forensic audit_election audit",
          "audit_forensic_arizona_forensic audit_election audit",
          "audit_forensic_arizona_forensic audit_election audit",
          "snow_winter_record breaking_snow texas_texas fake",
          "think world_convinced_stinks_said oncoming_destruction world",
          "think world_convinced_stinks_said oncoming_destruction world",
          "tennis_serena_serena williams_williams_williams wrote",
          "tennis_serena_serena williams_williams_williams wrote",
          "sheeple_covidcompliant sheeple_covidcompliant_late night_youve",
          "dolly_parton_dolly parton_dixie_singer",
          "dolly_parton_dolly parton_dixie_singer",
          "idols_indians throwing_indians_statues_throwing idols",
          "parliament_serving_judiciary_global average_ksh38",
          "monkeys_india monkeys_hospital india_pool islamabad_hospital ward",
          "monkeys_india monkeys_hospital india_pool islamabad_hospital ward",
          "monkeys_india monkeys_hospital india_pool islamabad_hospital ward",
          "time running_pandemic_97ish_rest pandemic_orgscp gillianmckeith",
          "bitcoin_ethereum_centralized_apple_facilitates bitcoin",
          "kits_test kits_covid19 test_kits 2018_test",
          "kits_test kits_covid19 test_kits 2018_test",
          "lied didnt_liar_liar bruh_didnt numbers_life lie",
          "lied didnt_liar_liar bruh_didnt numbers_life lie",
          "lied didnt_liar_liar bruh_didnt numbers_life lie",
          "lied didnt_liar_liar bruh_didnt numbers_life lie",
          "lied didnt_liar_liar bruh_didnt numbers_life lie",
          "airlines_wales_flights_american airlines_food stamp",
          "kanye_married_kanye west_dmx_ariana",
          "kanye_married_kanye west_dmx_ariana",
          "terrorist_prosecutor fatou_fatou_bensouda_icc prosecutor",
          "jeffrey_offender_maxwell_convicted sex_sex offender",
          "jeffrey_offender_maxwell_convicted sex_sex offender",
          "wikipedia_article posted_posted permission_permission_traitor",
          "mattythrice_troll_rickastley_caeserpounce_astheworldburnz",
          "dora_new dora_dora wtf_dora looks_elmo",
          "dora_new dora_dora wtf_dora looks_elmo",
          "dora_new dora_dora wtf_dora looks_elmo",
          "dora_new dora_dora wtf_dora looks_elmo",
          "dora_new dora_dora wtf_dora looks_elmo",
          "stage_cpac_nazi symbol_nazi_cpac stage",
          "stage_cpac_nazi symbol_nazi_cpac stage",
          "stage_cpac_nazi symbol_nazi_cpac stage",
          "stage_cpac_nazi symbol_nazi_cpac stage",
          "taylor_marjorie_marjorie taylor_greene_taylor greene",
          "pride_gay_pete_buttigieg_pete buttigieg",
          "pride_gay_pete_buttigieg_pete buttigieg",
          "pride_gay_pete_buttigieg_pete buttigieg",
          "pride_gay_pete_buttigieg_pete buttigieg",
          "dr seuss_seuss_books_hobby_mr potato",
          "golf_pga_golf course_golfer_tiger woods",
          "netflix_ps5_child pornography_epilepsy_pornography",
          "netflix_ps5_child pornography_epilepsy_pornography",
          "aaron_mlb_robert aaron_aaron long_atlanta",
          "racism_slavery_white_slaves_asian",
          "coke_cocacola_cristiano_ronaldo_cristiano ronaldo",
          "coke_cocacola_cristiano_ronaldo_cristiano ronaldo",
          "democrats_dem_democrat_pathetic_americans",
          "science_respect_dont respect_wont respect_respect democracy",
          "science_respect_dont respect_wont respect_respect democracy",
          "science_respect_dont respect_wont respect_respect democracy",
          "nike_shoes_anthem_national anthem_colin kaepernick",
          "ocasiocortez_alexandria ocasiocortez_alexandria_rep alexandria_pledge",
          "nancy_pelosi_nancy pelosi_speaker_speaker nancy",
          "45th president_45th_trump 45th_statement donald_states america",
          "45th president_45th_trump 45th_statement donald_states america",
          "45th president_45th_trump 45th_statement donald_states america",
          "fleiss_heidi fleiss_schumer_heidi_chuck",
          "fleiss_heidi fleiss_schumer_heidi_chuck",
          "fleiss_heidi fleiss_schumer_heidi_chuck",
          "fleiss_heidi fleiss_schumer_heidi_chuck",
          "tucker_carlson_tucker carlson_fox_fox news",
          "ppe_nhs_ok isnt_issues faced_jeremycorbyn",
          "ppe_nhs_ok isnt_issues faced_jeremycorbyn",
          "ppe_nhs_ok isnt_issues faced_jeremycorbyn",
          "ppe_nhs_ok isnt_issues faced_jeremycorbyn",
          "ppe_nhs_ok isnt_issues faced_jeremycorbyn",
          "race theory_critical race_race_critical_theory",
          "race theory_critical race_race_critical_theory",
          "sessions_jeff sessions_fbi_witch hunt_general jeff",
          "sessions_jeff sessions_fbi_witch hunt_general jeff",
          "sessions_jeff sessions_fbi_witch hunt_general jeff",
          "trudeau_justin trudeau_justin_canadian_canadian pm",
          "trudeau_justin trudeau_hitler_justin_adolf",
          "trudeau_justin trudeau_hitler_justin_adolf",
          "gdp_growth_revenue_imf_gdp growth",
          "jobs_unemployment_nativeborn_employment_million jobs",
          "jobs_unemployment_nativeborn_employment_million jobs",
          "jobs_unemployment_nativeborn_employment_million jobs",
          "eu_boris johnson_boris_johnson_imports",
          "eu_boris johnson_boris_scottish_snp",
          "eu_boris johnson_boris_scottish_snp",
          "eu_boris johnson_boris_scottish_snp",
          "app_covidsafe_android_google maps_google",
          "app_covidsafe_android_google maps_google",
          "trace_test trace_test_trace cost_cost",
          "trace_test trace_test_trace cost_cost",
          "trace_test trace_test_trace cost_cost",
          "cheesecake factory_2020 cheesecake_cheesecake_factory_closing",
          "cheesecake factory_2020 cheesecake_cheesecake_factory_closing",
          "cheesecake factory_2020 cheesecake_cheesecake_factory_closing",
          "cheesecake factory_2020 cheesecake_cheesecake_factory_closing",
          "sushant_sushant singh_singh_singh rajput_rajput",
          "sushant_sushant singh_singh_singh rajput_rajput",
          "sushant_sushant singh_singh_singh rajput_rajput",
          "sushant_sushant singh_singh_singh rajput_rajput",
          "zealand_new zealand_jacinda ardern_ardern_jacinda",
          "zealand_new zealand_jacinda ardern_ardern_jacinda",
          "makhia_makhia bryant_bryant_toledo_adam toledo",
          "daunte_daunte wright_wright_air freshener_freshener",
          "insurrection_capitol_jan_6th_january 6th",
          "aoc_alexandriaocasiosmollett_wasnt capitol_building_alexandriaocasiosmollett aoc",
          "aoc_alexandriaocasiosmollett_wasnt capitol_building_alexandriaocasiosmollett aoc",
          "antifa_portland_capitol_antifa activists_antifa members",
          "antifa_portland_capitol_antifa activists_antifa members",
          "antifa_portland_capitol_antifa activists_antifa members",
          "lives matter_black lives_matter_lives_black",
          "black lives_lives matter_matter_lives_black",
          "black lives_lives matter_matter_lives_black",
          "joe biden_joe_biden_president joe_presidential",
          "immigrants_marry icelandic_male immigrants_welcome million_immigrants 2020",
          "immigrants_marry icelandic_male immigrants_welcome million_immigrants 2020",
          "immigrants_marry icelandic_male immigrants_welcome million_immigrants 2020",
          "en_la_el_que_por",
          "la_en_que_el_del",
          "por_mortes_por cada_sobre mascarillas_recebem",
          "por_mortes_por cada_sobre mascarillas_recebem",
          "saudi_arabia_saudi arabia_tomb_birds",
          "france_muslims_french_praying_muslims praying",
          "bareilly_attacked_muslims_muslim_muslim men",
          "bareilly_attacked_muslims_muslim_muslim men",
          "hindu_hindu woman_muslim_love jihad_jihad",
          "muslim_hindu_hindu woman_muslim man_love jihad",
          "rafale_helicopter_crashed_shot indian_nepal",
          "crashed_rafale_air_helicopter_crash",
          "soldiers_galwan_galwan valley_indian army_army",
          "flag_indian flag_red fort_fort_indian",
          "flag_indian flag_red fort_fort_indian",
          "kidnapped_cctv footage_cctv_jamia_student",
          "raped_girl_girl raped_raped murdered_rape",
          "brigade_ke_kolkata_rally_kamal nath",
          "brigade_ke_kolkata_rally_kamal nath",
          "brigade_ke_kolkata_rally_kamal nath",
          "ram_ayodhya_khan_ram mandir_mandir",
          "banknotes_pandemic australian_australian 10_gift shop_house gift",
          "awan_awans_imran awan_imran_stepmother",
          "pakistan_balakot_trees crow_casualties balakot_balakot airstrike",
          "pakistan_balakot_trees crow_casualties balakot_balakot airstrike",
          "pakistan_balakot_trees crow_casualties balakot_balakot airstrike",
          "pakistan_balakot_trees crow_casualties balakot_balakot airstrike",
          "station_railway station_mosque_railway_old delhi",
          "roads_potholes_road_road mumbai_kilometres",
          "roads_potholes_road_road mumbai_kilometres",
          "gold_gold bars_uttar_uttar pradesh_photos gold",
          "gold_gold bars_uttar_uttar pradesh_photos gold",
          "gold_gold bars_uttar_uttar pradesh_photos gold",
          "gold_gold bars_uttar_uttar pradesh_photos gold",
          "jack ma_ma_shows chinese_jack_billionaire jack",
          "rocket_chinese rocket_debris_indian ocean_video chinese",
          "antilockdown_covid19 restrictions_restrictions_protest_london",
          "condoms_durex_condom_emoji_sex toys",
          "condoms_durex_condom_emoji_sex toys",
          "condoms_durex_condom_emoji_sex toys",
          "thai_thailand_thailands_health minister_thailand health",
          "villagers_vaccination ads_anm_vaccination_needle",
          "villagers_vaccination ads_anm_vaccination_needle",
          "namaz_jama masjid_jama_masjid_delhis jama",
          "migrant_migrant workers_workers_congress workers_labourers",
          "migrant_migrant workers_workers_congress workers_labourers",
          "migrant_migrant workers_workers_congress workers_labourers",
          "migrant_migrant workers_workers_congress workers_labourers",
          "duterte_philippine_marcos_rodrigo_rodrigo duterte",
          "philippine_duterte_marcos_rodrigo_philippines",
          "philippine_duterte_philippines_marcos_rodrigo",
          "myanmar_myanmar military_myanmars_military_coup",
          "myanmar_myanmar military_myanmars_military_coup",
          "bihar_evm_bjp_elections_assembly elections",
          "yogi_yogi adityanath_adityanath_hathras_minister yogi",
          "yogi_yogi adityanath_adityanath_hathras_minister yogi",
          "yogi_yogi adityanath_adityanath_hathras_minister yogi",
          "yogi_yogi adityanath_adityanath_hathras_minister yogi",
          "farmers_tractor_protesting_farmers protest_farmer",
          "farmers_farmers protest_tractor_protesting_protest",
          "slogans_zindabad slogans_slogans raised_zindabad_raised",
          "modi_narendra_narendra modi_pm_pm modi",
          "prince_prince philip_philip_queen_harry",
          "prince_queen elizabeth_queen_prince philip_elizabeth",
          "prince_queen elizabeth_queen_prince philip_elizabeth",
          "prince_queen elizabeth_queen_prince philip_elizabeth",
          "prince_queen elizabeth_queen_prince philip_elizabeth",
          "prince_queen elizabeth_queen_prince philip_elizabeth",
          "prince_queen elizabeth_queen_prince philip_elizabeth",
          "5g_5g tower_towers_cells_5g technology",
          "covid 19_world population_stupid_19_obamas",
          "covid 19_world population_stupid_19_obamas",
          "corona_corona crisis_new world_world order_install",
          "masks_mask_face_face masks_wear",
          "deep state_deep_state_ish_mary mary",
          "deep state_deep_state_ish_mary mary",
          "deep state_deep_state_ish_mary mary",
          "gates_microchip_microsoft_microchips_vaccine",
          "movements activities_rfid_movements_activities_pushing research",
          "movements activities_rfid_movements_activities_pushing research",
          "fauci_anthony fauci_anthony_dr anthony_dr",
          "florida_floridas_floridas covid19_data_desantis",
          "care facilities_coronavirus deaths_facilities_care_deaths",
          "care facilities_coronavirus deaths_facilities_care_deaths",
          "care facilities_coronavirus deaths_facilities_care_deaths",
          "patent_hcq_2015_patents_pirbright institute",
          "hydroxychloroquine_ivermectin_patent_hcq_chloroquine",
          "costco_recalled_2021 costco_recall_issued recall",
          "vegetables_sudha_toilet paper_export china_formula toilet",
          "spread coronavirus_spread_fruits_coronavirus transmitted_virus affecting",
          "spread coronavirus_spread_fruits_coronavirus transmitted_virus affecting",
          "chicken_poultry_broiler chicken_broiler_pakistan issues",
          "chicken_poultry_broiler chicken_broiler_pakistan issues",
          "chicken_poultry_broiler chicken_broiler_pakistan issues",
          "cabbage_eating_alkaline_bananas_prevent",
          "list covid19_covid19 treatments_lists treatment_treatments_list",
          "list covid19_covid19 treatments_remedies_lists treatment_covid19 treated",
          "list covid19_covid19 treatments_remedies_lists treatment_covid19 treated",
          "habits_brain damaging_damaging habits_world health_biggest brain",
          "ebola_health ministry_bikoro_congo_ministry",
          "ebola_health ministry_bikoro_congo_ministry",
          "ebola_health ministry_bikoro_congo_ministry",
          "coronavirus_novel_novel coronavirus_coronavirus vaccine_new coronavirus",
          "wuhan_china_lab_bioweapon_chinese",
          "montagnier_luc montagnier_luc_montagnier said_die years",
          "montagnier_luc montagnier_luc_montagnier said_die years",
          "montagnier_luc montagnier_luc_montagnier said_die years",
          "montagnier_luc montagnier_luc_montagnier said_die years",
          "died_nurse_receiving_covid19 vaccine_bells palsy",
          "russian_putin_russia_putins_putins daughter",
          "russian_putin_russia_putins_putins daughter",
          "aborted_cells_vaccine contains_contains_aborted human",
          "penis_penis size_size_injections_injections penis",
          "socks_lead stroke_bed_stroke_sleep",
          "unlicensed_unlicensed vaccines_vaccines_395_vaccines india",
          "experimental_experimental vaccine_eligible vaccine_plan vaccinate_vaccine",
          "blood_plasma_red cross_donate_donate blood",
          "blood_plasma_red cross_donate_donate blood",
          "biden_vote biden_check months_stayed_neck",
          "newsom_gavin_approval_gov gavin_gavin newsom",
          "newsom_gavin_approval_gov gavin_gavin newsom",
          "newsom_gavin_approval_gov gavin_gavin newsom",
          "hipaa_violation_hipaa violation_vaccine passport_violation hipaa",
          "hipaa_violation_nuremberg_nuremberg code_hipaa violation",
          "hipaa_violation_nuremberg_nuremberg code_hipaa violation",
          "flu_died flu_flu vaccine_flu killed_h1n1",
          "quarantine_yn_healthy_wish theyd_restrict movement",
          "quarantine_yn_healthy_wish theyd_restrict movement",
          "quarantine_yn_healthy_wish theyd_restrict movement",
          "quarantine_yn_healthy_wish theyd_restrict movement",
          "quarantine_yn_healthy_wish theyd_restrict movement",
          "mrna_covid19 vaccines_vaccines_covid19 vaccine_vaccine",
          "pregnant_women avoid_miscarriages_breastfeeding_women",
          "covid19 vaccines_vaccines_mrna_covid19 vaccine_vaccine",
          "positive_positive covid19_tested positive_tested_tests",
          "pcr_tests_pcr tests_pcr test_test",
          "tests_pcr_positive_pcr tests_test",
          "water_drinking_cure_cure covid19_salt",
          "water_drinking_cure_cure covid19_salt",
          "water_drinking_cure_cure covid19_salt",
          "warp_warp speed_speed_pfizer_operation warp",
          "warp_warp speed_speed_pfizer_operation warp",
          "trump won_landslide_won_won landslide_won biden",
          "won 2020_2020 election_election_trump won_won",
          "trump won_won trump_won_trump_won election",
          "trump won_won_won trump_knows_knows trump",
          "trump won_won_landslide_won landslide_won trump",
          "trump won_won_landslide_won landslide_won trump"
         ],
         "marker": {
          "color": "black"
         },
         "mode": "markers",
         "showlegend": false,
         "type": "scatter",
         "x": [
          0.43753740645800465,
          0.865996067172543,
          0.6455317456078514,
          0.7122588823827015,
          0.7853587098273159,
          0.6448138421473566,
          0.9097570478807738,
          0.9650622488778686,
          1.0248595983973867,
          1.0793987172571644,
          0.8389545959980953,
          0.8352456648002231,
          0.9521183670192657,
          0.8985079829006701,
          0.861488272744198,
          0.8174169130424636,
          1.04608445885159,
          0.9551805758189413,
          0.9866699324810511,
          0.9746513641276662,
          1.0377652077494635,
          0.9763310079260015,
          0.8822679491312047,
          0.9389588825638108,
          0.8812062317540659,
          1.0781656398437671,
          1.1228831445024205,
          0.9599824743608408,
          1.0224459210531323,
          1.0681270502786289,
          0.9837941257236893,
          1.0159767769814567,
          0.9841622094043997,
          0.9510200305308781,
          1.0243372840306635,
          0.9668711173332991,
          0.9121279253586888,
          1.034679884553904,
          0.9777889004332345,
          0.9638182523302845,
          0.9829903538720524,
          1.0199809416447971,
          0.9677859355009115,
          0.9687326061853079,
          1.018105274289104,
          0.9708303373054845,
          1.0080363712642308,
          0.9671063411657113,
          0.9658474563247728,
          1.027819365575693,
          0.9519539588145373,
          1.0222492132196852,
          0.969943666449394,
          0.9999800892366617,
          0.9845764816607983,
          0.9684259726626772,
          1.025091532139993,
          0.9872743183484082,
          0.9890328073831147,
          0.9861414818377225,
          0.9889242235504221,
          0.9846145393673519,
          1.0058773061499382,
          1.0067009335530084,
          0.9816084492679547,
          0.9895227876380127,
          1.0044058962115125,
          0.9877935544371597,
          0.9995229951902882,
          0.9895181297327165,
          0.9969372455248854,
          1.0032136055974383,
          0.9911531014906817,
          0.9985922180777446,
          0.9911084176704753,
          1.0020733813334197,
          1.008417289319342,
          0.9936515365942747,
          0.9993695742244584,
          0.9877198921513679,
          1.0042766390935782,
          0.9820489312633971,
          1.011407511926138,
          1.0167019914658466,
          1.0178760071090354,
          1.0222991532109154,
          0.9759182184276018,
          0.9658541324660105,
          1.017788724281607,
          0.9940149017043693,
          0.9754214995427618,
          1.015951452887914,
          0.9660454342261112,
          0.987481614641094,
          0.9944844244889205,
          1.0216546426032105,
          1.0314106797917644,
          1.0372823666826587,
          1.0490043241224183,
          0.9277816750286039,
          1.0647635042648596,
          1.0673811529133068,
          1.077193524817742,
          0.9710267920931889,
          0.9776325440065113,
          1.066855957652674,
          1.0895871968817015,
          1.103869825941977,
          0.9875341641366537,
          0.9622781482293331,
          0.953065220470541,
          1.0164533657051855,
          0.9590859760309007,
          0.9589171058125944,
          0.9664397007636396,
          1.0288902893671734,
          0.9744090542014109,
          0.9935722630088301,
          1.0094456340836047,
          1.0129190809395503,
          0.9725658655721335,
          0.9584325696841581,
          0.9643394986143345,
          0.9722169976963185,
          1.0020491614716431,
          1.0240437862326714,
          0.9685751833934957,
          1.0093932392656835,
          1.0430807456578617,
          1.0586273259539156,
          0.9442682600392588,
          0.972849854243064,
          1.014712500992929,
          1.0560427580034448,
          1.067110453651425,
          1.0806458718331926,
          0.9038531573594943,
          0.9711625289554148,
          0.9317815168939345,
          1.038478475351315,
          1.1053829470753713,
          0.9355489639081043,
          1.0367680869379667,
          1.0863220319523734,
          0.9473192603472244,
          0.9705035156241435,
          1.0088083320696848,
          1.0207115176899524,
          0.9535065499632733,
          0.965654834954882,
          1.0551519009666392,
          1.130957008689002,
          0.9753303998277475,
          1.005845451682813,
          0.912911175366028,
          1.065997971729884,
          1.0864124879140618,
          0.9548513136514334,
          0.9877719277774567,
          1.1266047121240241,
          1.1492387986229982,
          0.7794983209256614,
          1.1772931275214138,
          1.180384571846773,
          1.1968322170602848,
          0.9476614172694551,
          1.2111843611041704,
          0.9224830735412981,
          0.9639344765680632,
          0.890366532378845,
          0.9422216077143958,
          1.0218027749833378,
          0.9064867705723691,
          1.1617504775135221,
          1.2595601698498042,
          0.655547364264427,
          0.9017161966951356,
          1.3129366966800973,
          0.7516134276963664,
          0.983695042072099,
          1.1053423469952226,
          1.1771344189621993,
          0.8852455957585588,
          0.9412197156116062,
          0.9316824739573436,
          0.9906601446898465,
          0.9678617054507925,
          0.8646225531414159,
          0.9280205054132065,
          1.0192012196911202,
          0.8473475602294126,
          0.9400668341738766,
          0.9110962157148554,
          0.9794987196353332,
          0.8635122998701503,
          0.8120444453458273,
          1.1021192982648051,
          0.9521569576480219,
          0.9409506339989556,
          0.9554315696516756,
          0.9890585818493515,
          1.0236940621272232,
          0.951322588951256,
          0.9874851036698203,
          0.9613413133850537,
          0.9541703613495394,
          1.004079690973673,
          1.0700116644016064,
          1.081938769840833,
          0.8960860440083764,
          0.9656844732522705,
          0.9769631041139305,
          0.9702972253683129,
          1.0077682008273543,
          1.0642082245048996,
          1.0901746503223881,
          0.9512439036790918,
          0.9764739451180044,
          0.9359066903442566,
          0.9445695938882364,
          1.0318286128582461,
          1.073532765563662,
          0.8359963911790252,
          0.9557036910376088,
          1.0131454839521001,
          0.9898822597183409,
          0.9165704457129773,
          1.0372055404549745,
          1.0958565885376217,
          1.1378624061906075,
          0.9368632876927597,
          0.957955434737316,
          0.9761085152424733,
          0.7197678997731078,
          1.1926373050897079,
          0.8603256987886352,
          0.8925828321860909,
          1.1739783446841472,
          1.2371280818550956,
          1.290658994841648,
          0.8172623846969423,
          0.8994645659550363,
          0.7742133821948882,
          0.8768224896965443,
          0.8186814760215181,
          0.9501715278354589,
          1.1782958060009738,
          1.284554588958663,
          1.3362712109814918,
          1.3908161062774282,
          1.431702814516102,
          0.8558045180334755,
          0.9759247997286649,
          0.9811153115709195,
          0.9631367054235775,
          0.9387168764944868,
          0.9557710845711193,
          0.9719085250214208,
          1.0068719109016395,
          0.8798124007475775,
          0.9791156872358887,
          1.0632755127100284,
          0.6815803534412171,
          0.9187222750498845,
          0.9676068779484619,
          1.0053444215545533,
          1.0422071888323239,
          0.9398680766565382,
          1.0242864441006498,
          0.9302929336167651,
          0.9706699731299111,
          0.9274967033734867,
          1.0270824226329682,
          0.9449013289786966,
          1.0045846944217918,
          1.0666879159727167,
          0.9630340147775847,
          0.9635356004794053,
          0.9762437079620854,
          1.0216936065277737,
          0.9919807796577566,
          0.9595517977631739,
          1.0247528376854873,
          1.0477064570917254,
          0.9704412807934544,
          0.9416647629215096,
          0.9040078386490459,
          1.0739781293566055,
          1.0957956664504267,
          1.126053401343949,
          0.8909374626755123,
          0.9108950278212591,
          0.986993426310612,
          0.9693792736896272,
          0.9894574471726052,
          0.9887852285924347,
          0.9775891089927106,
          0.955633873451443,
          0.9763878566590607,
          1.001400001098827,
          0.9628514291225422,
          0.9765634822516874,
          1.0073850221800986,
          1.0271975540820806,
          0.921390664428844,
          0.9793663623821488,
          1.0690837568190503,
          0.9687113670625456,
          0.9505908876465139,
          1.0112130213728656,
          1.0443426285688349,
          1.1136053744711143,
          1.1617338322894886,
          0.8288171981010598,
          0.9372838668793886,
          0.9769204213396543,
          0.93255344865551,
          0.9477433690222999,
          1.0342862362191259,
          0.9721707640967163,
          1.0662585561090072,
          1.2486939004722444,
          0.39432865464200895,
          1.3478430417300062,
          0.7510334153385375,
          0.8833930488267339,
          0.46552695685834633,
          0.8069705976408077,
          1.0403818328763499,
          1.877191482593339
         ],
         "y": [
          -40,
          -30,
          -70,
          -62.5,
          -107.5,
          -150,
          -207.5,
          -257.5,
          -243.75,
          -220,
          -320,
          -350,
          -342.5,
          -380,
          -400,
          -440,
          -430,
          -520,
          -522.5,
          -557.5,
          -529.375,
          -647.5,
          -670,
          -710,
          -730,
          -715,
          -683.125,
          -820,
          -808.75,
          -789.375,
          -897.5,
          -883.75,
          -980,
          -1000,
          -985,
          -1030,
          -1050,
          -1036.25,
          -1090,
          -1150,
          -1142.5,
          -1130,
          -1180,
          -1200,
          -1186.25,
          -1260,
          -1250,
          -1280,
          -1300,
          -1278.75,
          -1360,
          -1350,
          -1420,
          -1410,
          -1477.5,
          -1500,
          -1483.125,
          -1530,
          -1550,
          -1590,
          -1610,
          -1650,
          -1640,
          -1617.5,
          -1680,
          -1700,
          -1686.25,
          -1760,
          -1750,
          -1800,
          -1847.5,
          -1833.75,
          -1890,
          -1917.5,
          -1960,
          -1950,
          -1924.375,
          -2030,
          -2057.5,
          -2080,
          -2059.375,
          -2120,
          -2110,
          -2066.71875,
          -1967.421875,
          -1851.2109375,
          -2160,
          -2180,
          -2165,
          -2247.5,
          -2270,
          -2251.875,
          -2310,
          -2347.5,
          -2350.625,
          -2325.3125,
          -2275.625,
          -2114.4091796875,
          -1787.98583984375,
          -2380,
          -1985.7464599609375,
          -1660.3732299804688,
          -1436.2803649902344,
          -2407.5,
          -2457.5,
          -2443.75,
          -2128.2069206237793,
          -1524.1034603118896,
          -2537.5,
          -2580,
          -2620,
          -2610,
          -2660,
          -2700,
          -2720,
          -2705,
          -2780,
          -2807.5,
          -2788.75,
          -2764.375,
          -2850,
          -2870,
          -2910,
          -2950,
          -2940,
          -2920,
          -2990,
          -2980,
          -2933.75,
          -2827.34375,
          -3020,
          -3060,
          -3050,
          -3031.25,
          -2869.9609375,
          -2696.85546875,
          -3090,
          -3082.5,
          -3130,
          -3120,
          -2978.66943359375,
          -3200,
          -3190,
          -3173.75,
          -3240,
          -3300,
          -3290,
          -3275,
          -3330,
          -3322.5,
          -3287.5,
          -2958.879207968712,
          -3450,
          -3440,
          -3470,
          -3447.5,
          -3417.5,
          -3510,
          -3500,
          -3443.75,
          -2654.016676992178,
          -3530,
          -2587.3322942480445,
          -1541.0098971240222,
          -974.5674485620111,
          -3566.25,
          -2108.641862140503,
          -3630,
          -3620,
          -3670,
          -3690,
          -3675,
          -3717.5,
          -3678.75,
          -2438.4104655351257,
          -3750,
          -3742.5,
          -2529.6026163837814,
          -3780,
          -3827.5,
          -3813.75,
          -3793.125,
          -3887.5,
          -3873.75,
          -3910,
          -3884.6875,
          -3996.25,
          -4050,
          -4070,
          -4056.25,
          -4100,
          -4092.5,
          -4150,
          -4153.75,
          -4200,
          -4220,
          -4205,
          -4260,
          -4290,
          -4320,
          -4312.5,
          -4297.5,
          -4360,
          -4407.5,
          -4440,
          -4460,
          -4446.25,
          -4420,
          -4385,
          -4520,
          -4570,
          -4562.5,
          -4590,
          -4570.625,
          -4540.3125,
          -4510.15625,
          -4640,
          -4643.75,
          -4700,
          -4720,
          -4704.375,
          -4665.625,
          -4740,
          -4800,
          -4790,
          -4847.5,
          -4870,
          -4851.875,
          -4813.4375,
          -4727.392578125,
          -4917.5,
          -4906.25,
          -4895.625,
          -4940,
          -4806.197509765625,
          -4990,
          -5027.5,
          -5010.625,
          -4985.3125,
          -4710.533752441406,
          -5070,
          -5062.5,
          -5090,
          -5127.5,
          -5160,
          -5152.5,
          -5134.375,
          -5103.125,
          -4723.727188110352,
          -4330.613594055176,
          -3777.6257105515742,
          -5190,
          -5250,
          -5242.5,
          -5270,
          -5317.5,
          -5350,
          -5342.5,
          -5323.125,
          -5380,
          -5383.75,
          -5335.3125,
          -5410,
          -5450,
          -5520,
          -5508.75,
          -5489.375,
          -5590,
          -5578.75,
          -5630,
          -5690,
          -5710,
          -5695,
          -5750,
          -5740,
          -5706.25,
          -5820,
          -5850,
          -5842.5,
          -5826.25,
          -5897.5,
          -5920,
          -5901.875,
          -5851.875,
          -5967.5,
          -5997.5,
          -6040,
          -6030,
          -6002.8125,
          -5880.15625,
          -6080,
          -6110,
          -6102.5,
          -6140,
          -6167.5,
          -6197.5,
          -6230,
          -6260,
          -6280,
          -6266.25,
          -6310,
          -6330,
          -6316.25,
          -6280.3125,
          -6360,
          -6352.5,
          -6289.765625,
          -6407.5,
          -6450,
          -6440,
          -6416.875,
          -6302.44140625,
          -6011.103515625,
          -6480,
          -6510,
          -6496.875,
          -6547.5,
          -6577.5,
          -6556.875,
          -6636.25,
          -6618.125,
          -6477.6275634765625,
          -6660,
          -6283.723297119141,
          -6700,
          -6703.75,
          -6750,
          -6740,
          -6714.6875,
          -5414.305913098732
         ]
        }
       ],
       "layout": {
        "autosize": false,
        "height": 10340,
        "hoverlabel": {
         "bgcolor": "white",
         "font": {
          "family": "Rockwell",
          "size": 16
         }
        },
        "hovermode": "closest",
        "plot_bgcolor": "#ECEFF1",
        "showlegend": false,
        "template": {
         "data": {
          "bar": [
           {
            "error_x": {
             "color": "#2a3f5f"
            },
            "error_y": {
             "color": "#2a3f5f"
            },
            "marker": {
             "line": {
              "color": "white",
              "width": 0.5
             },
             "pattern": {
              "fillmode": "overlay",
              "size": 10,
              "solidity": 0.2
             }
            },
            "type": "bar"
           }
          ],
          "barpolar": [
           {
            "marker": {
             "line": {
              "color": "white",
              "width": 0.5
             },
             "pattern": {
              "fillmode": "overlay",
              "size": 10,
              "solidity": 0.2
             }
            },
            "type": "barpolar"
           }
          ],
          "carpet": [
           {
            "aaxis": {
             "endlinecolor": "#2a3f5f",
             "gridcolor": "#C8D4E3",
             "linecolor": "#C8D4E3",
             "minorgridcolor": "#C8D4E3",
             "startlinecolor": "#2a3f5f"
            },
            "baxis": {
             "endlinecolor": "#2a3f5f",
             "gridcolor": "#C8D4E3",
             "linecolor": "#C8D4E3",
             "minorgridcolor": "#C8D4E3",
             "startlinecolor": "#2a3f5f"
            },
            "type": "carpet"
           }
          ],
          "choropleth": [
           {
            "colorbar": {
             "outlinewidth": 0,
             "ticks": ""
            },
            "type": "choropleth"
           }
          ],
          "contour": [
           {
            "colorbar": {
             "outlinewidth": 0,
             "ticks": ""
            },
            "colorscale": [
             [
              0,
              "#0d0887"
             ],
             [
              0.1111111111111111,
              "#46039f"
             ],
             [
              0.2222222222222222,
              "#7201a8"
             ],
             [
              0.3333333333333333,
              "#9c179e"
             ],
             [
              0.4444444444444444,
              "#bd3786"
             ],
             [
              0.5555555555555556,
              "#d8576b"
             ],
             [
              0.6666666666666666,
              "#ed7953"
             ],
             [
              0.7777777777777778,
              "#fb9f3a"
             ],
             [
              0.8888888888888888,
              "#fdca26"
             ],
             [
              1,
              "#f0f921"
             ]
            ],
            "type": "contour"
           }
          ],
          "contourcarpet": [
           {
            "colorbar": {
             "outlinewidth": 0,
             "ticks": ""
            },
            "type": "contourcarpet"
           }
          ],
          "heatmap": [
           {
            "colorbar": {
             "outlinewidth": 0,
             "ticks": ""
            },
            "colorscale": [
             [
              0,
              "#0d0887"
             ],
             [
              0.1111111111111111,
              "#46039f"
             ],
             [
              0.2222222222222222,
              "#7201a8"
             ],
             [
              0.3333333333333333,
              "#9c179e"
             ],
             [
              0.4444444444444444,
              "#bd3786"
             ],
             [
              0.5555555555555556,
              "#d8576b"
             ],
             [
              0.6666666666666666,
              "#ed7953"
             ],
             [
              0.7777777777777778,
              "#fb9f3a"
             ],
             [
              0.8888888888888888,
              "#fdca26"
             ],
             [
              1,
              "#f0f921"
             ]
            ],
            "type": "heatmap"
           }
          ],
          "heatmapgl": [
           {
            "colorbar": {
             "outlinewidth": 0,
             "ticks": ""
            },
            "colorscale": [
             [
              0,
              "#0d0887"
             ],
             [
              0.1111111111111111,
              "#46039f"
             ],
             [
              0.2222222222222222,
              "#7201a8"
             ],
             [
              0.3333333333333333,
              "#9c179e"
             ],
             [
              0.4444444444444444,
              "#bd3786"
             ],
             [
              0.5555555555555556,
              "#d8576b"
             ],
             [
              0.6666666666666666,
              "#ed7953"
             ],
             [
              0.7777777777777778,
              "#fb9f3a"
             ],
             [
              0.8888888888888888,
              "#fdca26"
             ],
             [
              1,
              "#f0f921"
             ]
            ],
            "type": "heatmapgl"
           }
          ],
          "histogram": [
           {
            "marker": {
             "pattern": {
              "fillmode": "overlay",
              "size": 10,
              "solidity": 0.2
             }
            },
            "type": "histogram"
           }
          ],
          "histogram2d": [
           {
            "colorbar": {
             "outlinewidth": 0,
             "ticks": ""
            },
            "colorscale": [
             [
              0,
              "#0d0887"
             ],
             [
              0.1111111111111111,
              "#46039f"
             ],
             [
              0.2222222222222222,
              "#7201a8"
             ],
             [
              0.3333333333333333,
              "#9c179e"
             ],
             [
              0.4444444444444444,
              "#bd3786"
             ],
             [
              0.5555555555555556,
              "#d8576b"
             ],
             [
              0.6666666666666666,
              "#ed7953"
             ],
             [
              0.7777777777777778,
              "#fb9f3a"
             ],
             [
              0.8888888888888888,
              "#fdca26"
             ],
             [
              1,
              "#f0f921"
             ]
            ],
            "type": "histogram2d"
           }
          ],
          "histogram2dcontour": [
           {
            "colorbar": {
             "outlinewidth": 0,
             "ticks": ""
            },
            "colorscale": [
             [
              0,
              "#0d0887"
             ],
             [
              0.1111111111111111,
              "#46039f"
             ],
             [
              0.2222222222222222,
              "#7201a8"
             ],
             [
              0.3333333333333333,
              "#9c179e"
             ],
             [
              0.4444444444444444,
              "#bd3786"
             ],
             [
              0.5555555555555556,
              "#d8576b"
             ],
             [
              0.6666666666666666,
              "#ed7953"
             ],
             [
              0.7777777777777778,
              "#fb9f3a"
             ],
             [
              0.8888888888888888,
              "#fdca26"
             ],
             [
              1,
              "#f0f921"
             ]
            ],
            "type": "histogram2dcontour"
           }
          ],
          "mesh3d": [
           {
            "colorbar": {
             "outlinewidth": 0,
             "ticks": ""
            },
            "type": "mesh3d"
           }
          ],
          "parcoords": [
           {
            "line": {
             "colorbar": {
              "outlinewidth": 0,
              "ticks": ""
             }
            },
            "type": "parcoords"
           }
          ],
          "pie": [
           {
            "automargin": true,
            "type": "pie"
           }
          ],
          "scatter": [
           {
            "fillpattern": {
             "fillmode": "overlay",
             "size": 10,
             "solidity": 0.2
            },
            "type": "scatter"
           }
          ],
          "scatter3d": [
           {
            "line": {
             "colorbar": {
              "outlinewidth": 0,
              "ticks": ""
             }
            },
            "marker": {
             "colorbar": {
              "outlinewidth": 0,
              "ticks": ""
             }
            },
            "type": "scatter3d"
           }
          ],
          "scattercarpet": [
           {
            "marker": {
             "colorbar": {
              "outlinewidth": 0,
              "ticks": ""
             }
            },
            "type": "scattercarpet"
           }
          ],
          "scattergeo": [
           {
            "marker": {
             "colorbar": {
              "outlinewidth": 0,
              "ticks": ""
             }
            },
            "type": "scattergeo"
           }
          ],
          "scattergl": [
           {
            "marker": {
             "colorbar": {
              "outlinewidth": 0,
              "ticks": ""
             }
            },
            "type": "scattergl"
           }
          ],
          "scattermapbox": [
           {
            "marker": {
             "colorbar": {
              "outlinewidth": 0,
              "ticks": ""
             }
            },
            "type": "scattermapbox"
           }
          ],
          "scatterpolar": [
           {
            "marker": {
             "colorbar": {
              "outlinewidth": 0,
              "ticks": ""
             }
            },
            "type": "scatterpolar"
           }
          ],
          "scatterpolargl": [
           {
            "marker": {
             "colorbar": {
              "outlinewidth": 0,
              "ticks": ""
             }
            },
            "type": "scatterpolargl"
           }
          ],
          "scatterternary": [
           {
            "marker": {
             "colorbar": {
              "outlinewidth": 0,
              "ticks": ""
             }
            },
            "type": "scatterternary"
           }
          ],
          "surface": [
           {
            "colorbar": {
             "outlinewidth": 0,
             "ticks": ""
            },
            "colorscale": [
             [
              0,
              "#0d0887"
             ],
             [
              0.1111111111111111,
              "#46039f"
             ],
             [
              0.2222222222222222,
              "#7201a8"
             ],
             [
              0.3333333333333333,
              "#9c179e"
             ],
             [
              0.4444444444444444,
              "#bd3786"
             ],
             [
              0.5555555555555556,
              "#d8576b"
             ],
             [
              0.6666666666666666,
              "#ed7953"
             ],
             [
              0.7777777777777778,
              "#fb9f3a"
             ],
             [
              0.8888888888888888,
              "#fdca26"
             ],
             [
              1,
              "#f0f921"
             ]
            ],
            "type": "surface"
           }
          ],
          "table": [
           {
            "cells": {
             "fill": {
              "color": "#EBF0F8"
             },
             "line": {
              "color": "white"
             }
            },
            "header": {
             "fill": {
              "color": "#C8D4E3"
             },
             "line": {
              "color": "white"
             }
            },
            "type": "table"
           }
          ]
         },
         "layout": {
          "annotationdefaults": {
           "arrowcolor": "#2a3f5f",
           "arrowhead": 0,
           "arrowwidth": 1
          },
          "autotypenumbers": "strict",
          "coloraxis": {
           "colorbar": {
            "outlinewidth": 0,
            "ticks": ""
           }
          },
          "colorscale": {
           "diverging": [
            [
             0,
             "#8e0152"
            ],
            [
             0.1,
             "#c51b7d"
            ],
            [
             0.2,
             "#de77ae"
            ],
            [
             0.3,
             "#f1b6da"
            ],
            [
             0.4,
             "#fde0ef"
            ],
            [
             0.5,
             "#f7f7f7"
            ],
            [
             0.6,
             "#e6f5d0"
            ],
            [
             0.7,
             "#b8e186"
            ],
            [
             0.8,
             "#7fbc41"
            ],
            [
             0.9,
             "#4d9221"
            ],
            [
             1,
             "#276419"
            ]
           ],
           "sequential": [
            [
             0,
             "#0d0887"
            ],
            [
             0.1111111111111111,
             "#46039f"
            ],
            [
             0.2222222222222222,
             "#7201a8"
            ],
            [
             0.3333333333333333,
             "#9c179e"
            ],
            [
             0.4444444444444444,
             "#bd3786"
            ],
            [
             0.5555555555555556,
             "#d8576b"
            ],
            [
             0.6666666666666666,
             "#ed7953"
            ],
            [
             0.7777777777777778,
             "#fb9f3a"
            ],
            [
             0.8888888888888888,
             "#fdca26"
            ],
            [
             1,
             "#f0f921"
            ]
           ],
           "sequentialminus": [
            [
             0,
             "#0d0887"
            ],
            [
             0.1111111111111111,
             "#46039f"
            ],
            [
             0.2222222222222222,
             "#7201a8"
            ],
            [
             0.3333333333333333,
             "#9c179e"
            ],
            [
             0.4444444444444444,
             "#bd3786"
            ],
            [
             0.5555555555555556,
             "#d8576b"
            ],
            [
             0.6666666666666666,
             "#ed7953"
            ],
            [
             0.7777777777777778,
             "#fb9f3a"
            ],
            [
             0.8888888888888888,
             "#fdca26"
            ],
            [
             1,
             "#f0f921"
            ]
           ]
          },
          "colorway": [
           "#636efa",
           "#EF553B",
           "#00cc96",
           "#ab63fa",
           "#FFA15A",
           "#19d3f3",
           "#FF6692",
           "#B6E880",
           "#FF97FF",
           "#FECB52"
          ],
          "font": {
           "color": "#2a3f5f"
          },
          "geo": {
           "bgcolor": "white",
           "lakecolor": "white",
           "landcolor": "white",
           "showlakes": true,
           "showland": true,
           "subunitcolor": "#C8D4E3"
          },
          "hoverlabel": {
           "align": "left"
          },
          "hovermode": "closest",
          "mapbox": {
           "style": "light"
          },
          "paper_bgcolor": "white",
          "plot_bgcolor": "white",
          "polar": {
           "angularaxis": {
            "gridcolor": "#EBF0F8",
            "linecolor": "#EBF0F8",
            "ticks": ""
           },
           "bgcolor": "white",
           "radialaxis": {
            "gridcolor": "#EBF0F8",
            "linecolor": "#EBF0F8",
            "ticks": ""
           }
          },
          "scene": {
           "xaxis": {
            "backgroundcolor": "white",
            "gridcolor": "#DFE8F3",
            "gridwidth": 2,
            "linecolor": "#EBF0F8",
            "showbackground": true,
            "ticks": "",
            "zerolinecolor": "#EBF0F8"
           },
           "yaxis": {
            "backgroundcolor": "white",
            "gridcolor": "#DFE8F3",
            "gridwidth": 2,
            "linecolor": "#EBF0F8",
            "showbackground": true,
            "ticks": "",
            "zerolinecolor": "#EBF0F8"
           },
           "zaxis": {
            "backgroundcolor": "white",
            "gridcolor": "#DFE8F3",
            "gridwidth": 2,
            "linecolor": "#EBF0F8",
            "showbackground": true,
            "ticks": "",
            "zerolinecolor": "#EBF0F8"
           }
          },
          "shapedefaults": {
           "line": {
            "color": "#2a3f5f"
           }
          },
          "ternary": {
           "aaxis": {
            "gridcolor": "#DFE8F3",
            "linecolor": "#A2B1C6",
            "ticks": ""
           },
           "baxis": {
            "gridcolor": "#DFE8F3",
            "linecolor": "#A2B1C6",
            "ticks": ""
           },
           "bgcolor": "white",
           "caxis": {
            "gridcolor": "#DFE8F3",
            "linecolor": "#A2B1C6",
            "ticks": ""
           }
          },
          "title": {
           "x": 0.05
          },
          "xaxis": {
           "automargin": true,
           "gridcolor": "#EBF0F8",
           "linecolor": "#EBF0F8",
           "ticks": "",
           "title": {
            "standoff": 15
           },
           "zerolinecolor": "#EBF0F8",
           "zerolinewidth": 2
          },
          "yaxis": {
           "automargin": true,
           "gridcolor": "#EBF0F8",
           "linecolor": "#EBF0F8",
           "ticks": "",
           "title": {
            "standoff": 15
           },
           "zerolinecolor": "#EBF0F8",
           "zerolinewidth": 2
          }
         }
        },
        "title": {
         "font": {
          "color": "Black",
          "size": 22
         },
         "text": "<b>Hierarchical Clustering</b>",
         "x": 0.5,
         "xanchor": "center",
         "yanchor": "top"
        },
        "width": 1000,
        "xaxis": {
         "mirror": "allticks",
         "rangemode": "tozero",
         "showgrid": false,
         "showline": true,
         "showticklabels": true,
         "ticks": "outside",
         "type": "linear",
         "zeroline": false
        },
        "yaxis": {
         "mirror": "allticks",
         "range": [
          -6760,
          0
         ],
         "rangemode": "tozero",
         "showgrid": false,
         "showline": true,
         "showticklabels": true,
         "tickmode": "array",
         "ticks": "outside",
         "ticktext": [
          "620_san_ca san_likely hayward",
          "587_0629_graph_risk graph",
          "435_francisco bay_san franc...",
          "343_75 earthquake_65 75_war...",
          "422_salton_salton sea_sea",
          "72_earthquake_major earthqu...",
          "377_warning 60_60 earthquak...",
          "502_sea area_60 earthquake_...",
          "131_derek_derek chauvin_cha...",
          "113_floyd_george_george floyd",
          "193_george floyd_floyd_floy...",
          "557_george floyd_floyd_floy...",
          "674_obama foundation_floyd ...",
          "537_notes_elevate helpful_h...",
          "43_add context_context twee...",
          "27_started youd_tweets wrot...",
          "625_voting systems_dominion...",
          "77_dominion_dominion voting...",
          "279_rigged_election_rig ele...",
          "5_ballots_mailin_mailin bal...",
          "286_fulton_fulton county_co...",
          "374_georgia_georgias_georgi...",
          "546_kemp_gov brian_shows ge...",
          "362_food water_line_georgia",
          "99_senators_voting rights_s...",
          "209_georgia_stacey_stacey a...",
          "617_filibuster_open express...",
          "204_kavanaugh_judge kavanau...",
          "173_kavanaugh_kavanaughs_ju...",
          "197_amy coney_coney_barrett",
          "363_relief_american rescue_...",
          "104_stimulus_stimulus payme...",
          "512_stimulus_voted_republic...",
          "189_tax_gains_raise taxes",
          "426_wants tax_tax_bernie",
          "337_sen bernie_bernie sande...",
          "57_nigerian_boko_haram",
          "148_nigeria_terrorism index...",
          "471_buhari_nigeria_postponed",
          "308_ghana_claims ghanas_gha...",
          "89_ghana_akufoaddo_ghanas",
          "218_kobe_bryant_kobe bryant",
          "317_lebron james_lebron_bas...",
          "510_bader_ruth bader_ruth",
          "205_age_age consent_consent",
          "586_drawings_melania_melani...",
          "565_melania_melania trump_c...",
          "67_impeachment_impeach_impe...",
          "667_second impeachment_impe...",
          "122_rally_trump rally_rally...",
          "273_today march_2021 presid...",
          "200_inauguration_maralago_d...",
          "295_oval office_oval_postpr...",
          "266_pardons_pardoned_pardon",
          "318_dying died_oldies die_p...",
          "528_trump tweeted_2009_pand...",
          "428_haaretzcom_tmz_tweeted",
          "649_tesla_autopilot_cars",
          "452_musk_elon musk_elon",
          "188_elonmusk_dogecoin_takes...",
          "383_insulin_insulin prices_...",
          "255_prices_gas prices_gas",
          "216_gasoline_plastic_bag",
          "230_emissions_fossil_fuels",
          "50_wind_turbines_energy",
          "571_texas_abbott_texas texas",
          "369_pipeline_keystone_keyst...",
          "353_fracking_ban fracking_p...",
          "146_explosion_gas_pipeline",
          "190_beirut_explosion_blast",
          "208_pyramids_giza_egypt",
          "6_israel_israeli_gaza",
          "26_iran_syria_obama",
          "283_iraq_drone_soleimani",
          "235_tom hanks_hanks_tom",
          "558_hanks_hankey_mr hankey",
          "168_korean_south korean_kor...",
          "596_south_south koreans_kor...",
          "382_looting_wouldnt big_loo...",
          "268_south african_south_afr...",
          "347_jobs facebook_oreo_adve...",
          "415_examination_matric_000",
          "245_exam_ias_upsc",
          "535_australian_australia_wo...",
          "195_australia_australian_au...",
          "34_bushfires_wildfires_aust...",
          "373_ufo_shows ufo_ufo hover...",
          "451_himalayas_international...",
          "616_moon_moon landing_landing",
          "13_mars_nasa_moon",
          "404_asteroid_earth_hit earth",
          "203_greta thunberg_thunberg...",
          "461_ladens_ladens daughter_...",
          "547_penises_china seizes_hu...",
          "93_suez_suez canal_canal",
          "328_twins_born_conjoined tw...",
          "52_abortion_babies_abortions",
          "76_trafficking_human traffi...",
          "293_chelsea_chelsea clinton...",
          "141_children_elderly_blood",
          "442_malnutrition_children a...",
          "644_mother_peopletodaycom r...",
          "236_suicide_suicides_200 lo...",
          "660_gender clinic_detransaw...",
          "115_sports_trans_transgender",
          "180_trans_gender_sex",
          "610_dubai robot_bodyguard_r...",
          "305_cat_carving_henry viii",
          "551_human zoos_zoo_zoos",
          "137_dog_dogs_hyundai",
          "570_homeless_homeless peopl...",
          "637_shows apartment_apartme...",
          "585_snake_horse_noose stall",
          "85_statue liberty_liberty_g...",
          "109_frog_photograph_photogr...",
          "48_shark_whales_reef",
          "594_lions_russia released_5...",
          "154_leopard_bear_cubs",
          "144_hunter_hunter biden_lap...",
          "522_cnns_pornhub_pornhub no...",
          "618_sen tammy_duckworth lie...",
          "647_condo_collapsed_levinec...",
          "458_flyover_flyover collaps...",
          "44_flooding_floods_river",
          "302_cow_washed away_cows",
          "304_elephant_dyed pink_preg...",
          "542_sedition_arrested_attac...",
          "505_lightning_river video_b...",
          "486_tornado_ryguysa_june 2017",
          "198_tunnel_atal tunnel_atal",
          "517_fireworks_tokyo_olympics",
          "434_passed away_bhagat_kapil",
          "327_yadav_tejashwi_tejashwi...",
          "103_michelle_michelle obama...",
          "562_kenya_kenyan_kenya gran...",
          "342_funeral_funeral video_a...",
          "265_maradona_diego_diego ma...",
          "153_mcafee_fbmd230009650100...",
          "177_da ne_dame da_dame",
          "187_musiccheck_dos_foi",
          "86_je_da je_pandemija",
          "652_fraude_en wisconsin_bid...",
          "370_rittenhouse_kenosha_kyle",
          "298_oswald_frameup_cia",
          "239_cia_records_cias",
          "462_checkers_fact checkers_...",
          "24_assange_wikileaks_guardian",
          "411_journalism_mainstream_m...",
          "470_did report_media did_re...",
          "627_pandemic video_italy_pr...",
          "533_shooter anurag_anurag m...",
          "552_city bus_gotabaya rajap...",
          "233_adams_garcia_mayor",
          "657_apc_edo_osagie izeiyamu",
          "473_adam schiff_schiff_adam",
          "272_winston churchill_fasci...",
          "602_spiritairlines_airline_...",
          "315_hat_wearing trump_nashv...",
          "142_snapchat_charmin_drake",
          "612_omar_ilhan omar_ilhan",
          "276_ford_fords_ms ford",
          "405_steinle_steinles_steinl...",
          "578_harry_harry styles_styles",
          "379_cair_polish_soldiers",
          "500_veterans_ptsd_veteran",
          "407_audit_forensic_arizona",
          "155_21st_date_day",
          "609_ajc_candy_cocaine",
          "393_snow_winter_record brea...",
          "606_photos destruction_phot...",
          "655_think world_convinced_s...",
          "145_mystery_wild_putting case",
          "579_murillo_murillo wrote_t...",
          "509_invented_device_invente...",
          "544_lewis_cs lewis_cs",
          "621_worst thing_thing life_...",
          "506_tennis_serena_serena wi...",
          "498_doval_ajit_ajit doval",
          "463_dawood ibrahim_dawood_i...",
          "281_rowan_actor rowan_actor",
          "357_sheeple_covidcompliant ...",
          "658_handcuffs_french police...",
          "490_nrc_assam_evicting",
          "513_yes yes_peacefully god_...",
          "507_fake cashews_cashews_ma...",
          "605_dolly_parton_dolly parton",
          "615_physical evidence_archa...",
          "639_mental_diagnose_mental ...",
          "465_himalaya_drug company_h...",
          "354_idols_indians throwing_...",
          "179_bobi_ugandas_uganda",
          "147_ethiopia_ethiopian_tplf",
          "496_parliament_serving_judi...",
          "371_armenia_azerbaijan_azer...",
          "525_volleyball video_drones...",
          "524_rickshaw_rickshaw pulle...",
          "561_monkeys_india monkeys_h...",
          "427_starbucks_coffee_frappu...",
          "635_kroger_cash_accepting c...",
          "613_barrel_cracker_cracker ...",
          "626_july 11_travel_tourism",
          "231_phones_phones pandemic_...",
          "666_hazard pay_hazard_work ...",
          "250_time running_pandemic_9...",
          "549_cases_covid19 cases_new...",
          "591_death penalty_penalty_e...",
          "464_bitcoin_ethereum_centra...",
          "430_breath_holding breath_c...",
          "530_kits_test kits_covid19 ...",
          "494_feedback_free dm_feedba...",
          "0_tweet_hit contribute_menu...",
          "554_blue_states turn_turn p...",
          "508_lied didnt_liar_liar bruh",
          "116_psaki_jen psaki_jen",
          "234_electric_electric cars_...",
          "338_wales_flights_airlines",
          "607_food stamp_food stamps_...",
          "192_dmx_18 2016_song",
          "257_married_ariana_kanye",
          "368_bds_lew_jewish",
          "376_farrakhan_davis_jews",
          "388_christian_heard robert_...",
          "340_hungary_orban_europes",
          "633_false_false flag_flag o...",
          "23_quran_islamic_islam",
          "392_terrorist_prosecutor fa...",
          "102_jeffrey_maxwell_convict...",
          "321_prison_sentence_years p...",
          "599_shakespeare_govern blin...",
          "284_george washington_decla...",
          "136_traitor_wikipedia_progr...",
          "219_article posted_posted p...",
          "320_19s_guy sold_things dis...",
          "574_ginacarano_sound knowle...",
          "73_fuck im_fuck_right im",
          "8_mattythrice_troll_rickast...",
          "366_dora_new dora_dora wtf",
          "624_wap thinking_wap_thinki...",
          "568_stage_nazi symbol_cpac",
          "577_taylor swift_swift_taylor",
          "66_marjorie_marjorie taylor...",
          "553_breonna_warrant breonna...",
          "499_disneyland_rides_walt d...",
          "358_disney_loki_ancient norse",
          "492_buttigieg_pete_pete but...",
          "100_gay_pride_cabinet",
          "527_pride parade_parade_pride",
          "83_robinhood_gme_shares",
          "263_gamestop_stock_hedge",
          "518_stock market_dow_market",
          "394_time magazine_magazine_...",
          "310_rachel levine_levine_ra...",
          "162_hobby_hobby lobby_emplo...",
          "176_seuss_dr seuss_mr potato",
          "309_books_barnes noble_barnes",
          "68_cruz_ted cruz_ted",
          "481_trump donated_military ...",
          "345_left family_family tear...",
          "455_golf_pga_golf course",
          "178_bezos_jeff bezos_billion",
          "126_amazon_amazon prime_net...",
          "539_child pornography_porno...",
          "80_ps5_netflix_epilepsy",
          "614_nintendo_game_video game",
          "425_nba_play damn_damn game",
          "264_mlb_georgians_hank aaron",
          "336_robert aaron_aaron long...",
          "566_confederate_confederate...",
          "541_sheldon whitehouse_shel...",
          "38_racism_slavery_slaves",
          "466_asian_asian american_as...",
          "252_coke_cocacola_try white",
          "487_cristiano_ronaldo_crist...",
          "669_firearms court_firearms...",
          "10_gun_guns_amendment",
          "478_ronald reagan_reagan sa...",
          "648_narrative surprise_fort...",
          "384_republicans_criminalize...",
          "174_democrats_dem_democrat",
          "449_shooting_shootings_scho...",
          "9_schools_schools safe_safe",
          "378_science_respect_dont re...",
          "213_puerto_hurricane_puerto...",
          "410_directv_cbc_september 27",
          "118_anthem_national anthem_...",
          "224_nike_shoes_crocs",
          "303_pledge_pledge allegianc...",
          "123_ocasiocortez_alexandria...",
          "214_cuomo_nursing_nursing h...",
          "274_martial law_martial_aus...",
          "312_national guard_guard_na...",
          "11_nancy_pelosi_nancy pelosi",
          "480_ivanka_ivanka trump_adv...",
          "81_liz_powell_liz cheney",
          "237_hutchinson_heyitscaroly...",
          "300_45th president_45th_tru...",
          "632_twitter_twitter banned_...",
          "248_disha_ravi_disha ravi",
          "619_deleted_kushner deleted...",
          "484_fleiss_heidi fleiss_heidi",
          "139_rush_rush limbaugh_limb...",
          "127_fox_fox news_news",
          "215_tucker_carlson_tucker c...",
          "563_clooney_george clooney_...",
          "636_liber_queman boletas_la...",
          "117_pence_mike pence_presid...",
          "592_ppe_nhs_ok isnt",
          "389_juneteenth_holiday_fede...",
          "299_race theory_critical ra...",
          "260_white supremacy_graduat...",
          "229_rape_hillary_hillary cl...",
          "243_hillary clinton_clinton...",
          "249_fbi_comey_investigation",
          "307_sessions_jeff sessions_...",
          "1_pope_church_catholic",
          "399_pope francis_pope_francis",
          "108_satanic_satanic ritual_...",
          "333_holding bible_praying g...",
          "365_hitler_adolf_adolf hitler",
          "668_david rockefeller_fathe...",
          "267_trudeau_justin trudeau_...",
          "665_student debt_debt_student",
          "124_kenyas_billion_revenue",
          "114_revenue_transports_indu...",
          "332_gdp_imf_growth",
          "334_wage_minimum wage_minimum",
          "29_nhs_pay rise_pay",
          "531_connected close_houses_...",
          "175_poverty_relative povert...",
          "101_jobs_unemployment_nativ...",
          "560_deported_whites jobs_mi...",
          "275_scottish_snp_nicola",
          "453_eu_imports_billion",
          "516_boris johnson_boris_joh...",
          "226_paddock_ammunition_haigs",
          "352_vegas_las vegas_las",
          "572_bora_giveaways_giveaway",
          "420_trumps facebook_removed...",
          "46_facebook_page_users",
          "629_lords prayer_lords_prayer",
          "402_jio offering_recharge_d...",
          "474_jio_tower_mobile tower",
          "515_mukesh_mukesh ambani_am...",
          "132_whatsapp_hack phone_hack",
          "438_app_android_covidsafe",
          "638_google maps_maps_google",
          "169_trace_test trace_trace ...",
          "534_selfisolate_selfisolati...",
          "62_anniversary_coupon_pizza",
          "650_chickfila_chickfila giv...",
          "37_mcdonalds_tuna_burgers",
          "662_cheesecake factory_2020...",
          "631_yadavs_sushant singh_su...",
          "238_sushant_sushant singh_s...",
          "645_new zealand_zealand_202...",
          "289_new zealand_zealand_jac...",
          "555_right grow_grow food_tr...",
          "622_social media_censorship...",
          "532_defund police_defund_de...",
          "217_police_baltimore_chicago",
          "95_daunte_daunte wright_wri...",
          "69_cops_suspect_white men",
          "247_makhia_makhia bryant_br...",
          "242_adam toledo_toledo_chic...",
          "322_2021 photograph_photogr...",
          "151_sicknick_brian sicknick...",
          "40_insurrection_capitol_6th",
          "450_capitol_jan_arrested",
          "294_aoc_alexandriaocasiosmo...",
          "403_aoc_stormed hallway_ins...",
          "64_antifa_capitol_antifa me...",
          "199_antifa_shows antifa_ant...",
          "413_portland_antifa_portlan...",
          "564_shirts_tshirt_wetherspoon",
          "184_black lives_lives matte...",
          "329_lives matter_black live...",
          "444_biden kissing_young gir...",
          "4_joe biden_joe_biden",
          "79_votes_joe biden_joe",
          "291_kamala harris_harris_ka...",
          "30_kamala_kamala harris_har...",
          "210_border_harris_kamala",
          "14_border_wall_border wall",
          "491_immigrants_marry icelan...",
          "301_gates_patente_coronavrus",
          "32_foto_une_montre",
          "55_la_et_une",
          "119_la_por coronavirus_en",
          "19_la_en_que",
          "91_del_en_muestra",
          "285_hospital_resistir_en",
          "364_por_mortes_por cada",
          "401_sri_lankan_sri lankan",
          "61_sri_sri lanka_lanka",
          "456_ranked_sri_ranked sri",
          "262_oxygen_camphor_oxygen l...",
          "271_oxygen_reliance_shows o...",
          "398_tomb_arabia photo_saudi...",
          "476_saudi arabia_arabia_saudi",
          "355_saudi_arabia_shopping m...",
          "288_birds_crows_parrots",
          "316_erdogan_turkish preside...",
          "246_french_french products_...",
          "584_bones_built bones_churc...",
          "129_muslims_praying_muslims...",
          "133_france_french_muslim wo...",
          "282_bareilly_bareilly uttar...",
          "504_idol_temple priest_musl...",
          "150_muslim_spit_spitting",
          "120_hindu_love jihad_hindu ...",
          "314_shows hindu_hindu_muslim",
          "623_india 26_shutting_briti...",
          "514_pilots_airways pilots_b...",
          "191_sriwijaya air_sriwijaya...",
          "326_rafale_rafale fighter_jet",
          "112_helicopter_shot indian_...",
          "548_air force_use air_force...",
          "501_370_article 370_kashmir",
          "601_kashmir_army killing_mu...",
          "21_soldiers_galwan_galwan v...",
          "360_pok_army_indian army",
          "152_flag_indian flag_flag i...",
          "339_red fort_fort_indian flag",
          "671_welcoming refugees_teac...",
          "261_teacher_online class_cl...",
          "604_jamia_student_cctv foot...",
          "194_kidnapped_woman kidnapp...",
          "140_cyclone_nivar_cyclone n...",
          "42_bengal_west bengal_west",
          "58_raped_girl_girl raped",
          "163_amit shah_amit_shah",
          "447_brigade_kolkata_rally",
          "641_ke_ki_police unifrm",
          "54_gandhi_rahul_sonia",
          "488_manmohan singh_manmohan...",
          "60_khan_jnu_aamir",
          "71_ram_ayodhya_ram mandir",
          "559_rajasthan government_10...",
          "670_temples_donations churc...",
          "672_swiss bank_bank transfe...",
          "159_rbi_bank_rs",
          "408_banknotes_pandemic aust...",
          "258_curve_curve flattening_...",
          "165_pakistani_pakistani jou...",
          "477_awan_awans_imran awan",
          "581_pakistan_pakistan super...",
          "400_balakot_trees crow_casu...",
          "18_italy_bodies_victims",
          "367_dead body_dead bodies_d...",
          "324_facility_covid facility...",
          "325_adani_adani group_india...",
          "390_mosque_old delhi_delhi ...",
          "201_train_borivali_resumed",
          "608_infant_image mother_per...",
          "443_beating child_child_bea...",
          "223_beaten_arnab goswami_ar...",
          "319_bihars hajipur_hajipur ...",
          "130_roads_potholes_road",
          "348_patient_corona_kanpur u...",
          "439_gold_gold bars_tonnes g...",
          "630_robbery_robbery video_s...",
          "97_hong kong_kong_hong",
          "643_taiwan_chinese military...",
          "386_train_freight train_sho...",
          "540_jack ma_ma_jack",
          "460_rocket_chinese rocket_d...",
          "526_antichinese_indonesias_...",
          "111_protesters_protests_pol...",
          "290_anticaa_caa_hijab",
          "105_covid19 restrictions_re...",
          "341_antilockdown_protest lo...",
          "421_shaheen bagh_shaheen_bagh",
          "251_condoms_durex_condom",
          "156_thai_thailand_photos thai",
          "287_thailands_thailand_heal...",
          "573_singapore_fines_spot fi...",
          "296_social distancing_dista...",
          "88_delhi_stones_delhi police",
          "269_water crisis_delhi_water",
          "589_arvind kejriwal_arvind_...",
          "211_villagers_vaccination a...",
          "297_shows police_officers_p...",
          "446_lockdown_people violate...",
          "128_lockdown_xbox_canada",
          "59_lockdown_lockdown march_...",
          "331_namaz_jama masjid_jama",
          "182_migrant_migrant workers...",
          "634_congress workers_mia_ca...",
          "134_eruption_volcano_philip...",
          "468_communist_philippine co...",
          "12_duterte_philippine_marcos",
          "359_philippines_philippine_...",
          "416_manila_metro manila_metro",
          "22_myanmar_myanmars_coup",
          "423_myanmar_military helico...",
          "437_mamata_mamata banerjee_...",
          "292_banerjee_mamata_mamata ...",
          "280_sourav_sourav ganguly_g...",
          "220_bjp_bihar_seats",
          "375_evm_hacking_bihar",
          "171_mla_bjp mla_bjp",
          "270_yogi_yogi adityanath_ad...",
          "419_hathras_dance_accused",
          "600_hathras victim_hathras_...",
          "397_farmer_lathicharge_gun ...",
          "232_sikh_sikhs_nihang",
          "28_farmers_tractor_farmers ...",
          "335_rajnath_rajnath singh_f...",
          "240_prokhalistan_farmers_sl...",
          "212_slogans_zindabad slogan...",
          "556_petrol_tiwari said_ques...",
          "485_modi modi_modi_chanted",
          "20_modi_narendra_narendra m...",
          "664_pm_pm modis_pm modi",
          "656_thanking_thanking pm_mo...",
          "278_prince_prince philip_ph...",
          "479_meghan_archie_meghan ma...",
          "593_bacterium_radiation cov...",
          "25_5g_5g tower_cells",
          "356_cov19_5g_5g chip",
          "483_5g_neighbour told_neigh...",
          "675_yup fake_disease welcom...",
          "646_great reset_reset_great",
          "457_nwo_alien_hes",
          "90_climate_climate change_g...",
          "448_covid 19_world populati...",
          "241_corona_corona crisis_ne...",
          "351_population control_unif...",
          "17_spiritual_spiritually_sp...",
          "15_pandemic_plandemic_control",
          "39_hoax_covid hoax_covid",
          "49_qanon_conspiracy_qanon c...",
          "2_masks_mask_face",
          "659_hoax trump_hoax_hoax deep",
          "196_deep state_deep_state",
          "346_mary mary_gullible_mary",
          "186_beast_mark beast_mark",
          "33_microchip_microchips_cov...",
          "7_gates_microsoft_melinda",
          "628_movements activities_rf...",
          "372_anthony fauci_dr anthon...",
          "31_fauci_anthony fauci_anth...",
          "489_desantis_florida gov_re...",
          "431_publix_desantis_ron des...",
          "543_data_desantis_rebekah",
          "143_florida_floridas_fl",
          "417_deaths big_10 previous_...",
          "580_previous years_previous...",
          "78_deaths_death toll_toll",
          "45_survival_survival rate_r...",
          "107_ireland_england_deaths",
          "441_care facilities_coronav...",
          "313_65 million_kill 65_003",
          "654_vitamin_coronavirus vit...",
          "567_vitamin_reduction_need ...",
          "206_ivermectin_treatment_iv...",
          "51_hydroxychloroquine_chlor...",
          "575_remdesivir_899_groups p...",
          "391_hcq_patent_treat covid19",
          "87_patent_2015_pirbright in...",
          "588_benadryl_poisonous_milk...",
          "598_milk_adulterating_adult...",
          "545_costco_2021 costco_foun...",
          "361_recalled_costco_recall",
          "409_fabric_metal_coronaviru...",
          "161_hand_sanitiser_hand san...",
          "436_vegan_cauliflower_vegan...",
          "183_panic buying_supermarke...",
          "244_toilet paper_green gian...",
          "661_sudha_vegetables_murty",
          "454_fruits_tomato virus_cor...",
          "663_spread coronavirus_coro...",
          "414_red meat_meat_climate p...",
          "306_vegetarian_vegetarians_...",
          "106_halal_eggs_food",
          "222_chicken_poultry_broiler...",
          "166_marijuana_cannabis_cbd",
          "207_alcohol_kills coronavir...",
          "583_smoking_smoke_1958",
          "164_person person_person_ut...",
          "590_covid19 patient_throat_...",
          "673_eating patients_vaccine...",
          "277_cabbage_eating_alkaline",
          "433_anticoagulants_ibuprofe...",
          "597_summary_medicine instit...",
          "259_covid19 treatments_list...",
          "523_2627 degrees_2627_degrees",
          "482_infrared_pineal gland_p...",
          "475_habits_brain damaging_d...",
          "511_sms_experience required...",
          "503_doctor_patient_zero bed...",
          "349_ebola_bikoro_congo",
          "611_posting coronavirus_man...",
          "406_simpsons_simpsons predi...",
          "160_covid19 pandemic_1956_p...",
          "135_coronavirus vaccine_vac...",
          "63_predicted_coronavirus_no...",
          "395_dr devi_devi_tips",
          "228_coronavirus outbreak_fr...",
          "3_wuhan_china_lab",
          "467_chinese president_xi_he...",
          "98_soros_funded_nope",
          "94_george soros_soros_george",
          "495_artificially_geneticall...",
          "459_luc montagnier_luc_mont...",
          "651_talon_operation talon_o...",
          "440_insurance_life insuranc...",
          "56_died_nurse_covid19 vaccine",
          "603_palsy_bells palsy_bells",
          "432_bharat_biotech_bharat b...",
          "429_putins daughter_putins_...",
          "75_russian_putin_russia",
          "330_hollywood_mel_mel gibson",
          "424_latin_translates_astraz...",
          "418_aborted_cells_vaccine c...",
          "469_aluminum_ingredients_un...",
          "158_magnetic_magnets_sticking",
          "256_penis_penis size_size",
          "520_pfizer_pfizer vaccine_v...",
          "642_myocarditis_hospitalize...",
          "595_socks_lead stroke_bed",
          "445_rural_affordable_rural ...",
          "350_unlicensed_unlicensed v...",
          "381_vaccines india_395_india",
          "536_nt_munchkins_biki",
          "47_jab_vaccine_vaccines",
          "138_experimental_experiment...",
          "538_people vaccine_vaccine_...",
          "167_blood_plasma_red cross",
          "640_woke today_dog champ_ju...",
          "96_biden_admin_plan",
          "253_biden_vote biden_check ...",
          "385_approval_americans appr...",
          "582_newsom_gavin_gov gavin",
          "569_nuremberg_nuremberg cod...",
          "311_hipaa_violation_hipaa v...",
          "653_vaccine passport_vaccin...",
          "519_theyre counted_oaps_cou...",
          "472_return rightfully_come ...",
          "497_h1n1_worse_flu",
          "344_died flu_flu_flu killed",
          "576_flu vaccine_vulnerable_...",
          "387_100 years_pandemics_maj...",
          "202_1918_flu pandemic_spanish",
          "380_quarantine_healthy_forc...",
          "323_quarantine_yn_quarantin...",
          "172_infertility_cause infer...",
          "36_mrna_dna_mrna vaccines",
          "16_covid19 vaccines_vaccine...",
          "227_cartridge_vaporizer_vac...",
          "65_covid19 vaccines_data_va...",
          "170_pregnant_women avoid_mi...",
          "521_20 days_death certifica...",
          "254_positive coronavirus_po...",
          "529_positive covid19_positi...",
          "74_high consequence_consequ...",
          "125_tests_tests day_covid19...",
          "70_pcr_pcr tests_tests",
          "493_ethylene oxide_ethylene...",
          "412_cervical cancer_cancer_...",
          "84_cancer_garlic_cure cancer",
          "396_cold water_drinking col...",
          "35_water_lemon_drinking",
          "225_steam_inhalation_inhaling",
          "550_onion_onion salt_raw on...",
          "110_warp_warp speed_speed",
          "149_warp speed_warp_speed",
          "221_patriots_eventually tru...",
          "92_stolen_stole_election",
          "181_landslide_won landslide...",
          "41_trump won_won_won biden",
          "121_won 2020_2020 election_...",
          "53_trump won_won_won rightf...",
          "157_knows_knows trump_won k...",
          "82_trump won_won trump_won",
          "185_won trump_trump won_won"
         ],
         "tickvals": [
          -5,
          -15,
          -25,
          -35,
          -45,
          -55,
          -65,
          -75,
          -85,
          -95,
          -105,
          -115,
          -125,
          -135,
          -145,
          -155,
          -165,
          -175,
          -185,
          -195,
          -205,
          -215,
          -225,
          -235,
          -245,
          -255,
          -265,
          -275,
          -285,
          -295,
          -305,
          -315,
          -325,
          -335,
          -345,
          -355,
          -365,
          -375,
          -385,
          -395,
          -405,
          -415,
          -425,
          -435,
          -445,
          -455,
          -465,
          -475,
          -485,
          -495,
          -505,
          -515,
          -525,
          -535,
          -545,
          -555,
          -565,
          -575,
          -585,
          -595,
          -605,
          -615,
          -625,
          -635,
          -645,
          -655,
          -665,
          -675,
          -685,
          -695,
          -705,
          -715,
          -725,
          -735,
          -745,
          -755,
          -765,
          -775,
          -785,
          -795,
          -805,
          -815,
          -825,
          -835,
          -845,
          -855,
          -865,
          -875,
          -885,
          -895,
          -905,
          -915,
          -925,
          -935,
          -945,
          -955,
          -965,
          -975,
          -985,
          -995,
          -1005,
          -1015,
          -1025,
          -1035,
          -1045,
          -1055,
          -1065,
          -1075,
          -1085,
          -1095,
          -1105,
          -1115,
          -1125,
          -1135,
          -1145,
          -1155,
          -1165,
          -1175,
          -1185,
          -1195,
          -1205,
          -1215,
          -1225,
          -1235,
          -1245,
          -1255,
          -1265,
          -1275,
          -1285,
          -1295,
          -1305,
          -1315,
          -1325,
          -1335,
          -1345,
          -1355,
          -1365,
          -1375,
          -1385,
          -1395,
          -1405,
          -1415,
          -1425,
          -1435,
          -1445,
          -1455,
          -1465,
          -1475,
          -1485,
          -1495,
          -1505,
          -1515,
          -1525,
          -1535,
          -1545,
          -1555,
          -1565,
          -1575,
          -1585,
          -1595,
          -1605,
          -1615,
          -1625,
          -1635,
          -1645,
          -1655,
          -1665,
          -1675,
          -1685,
          -1695,
          -1705,
          -1715,
          -1725,
          -1735,
          -1745,
          -1755,
          -1765,
          -1775,
          -1785,
          -1795,
          -1805,
          -1815,
          -1825,
          -1835,
          -1845,
          -1855,
          -1865,
          -1875,
          -1885,
          -1895,
          -1905,
          -1915,
          -1925,
          -1935,
          -1945,
          -1955,
          -1965,
          -1975,
          -1985,
          -1995,
          -2005,
          -2015,
          -2025,
          -2035,
          -2045,
          -2055,
          -2065,
          -2075,
          -2085,
          -2095,
          -2105,
          -2115,
          -2125,
          -2135,
          -2145,
          -2155,
          -2165,
          -2175,
          -2185,
          -2195,
          -2205,
          -2215,
          -2225,
          -2235,
          -2245,
          -2255,
          -2265,
          -2275,
          -2285,
          -2295,
          -2305,
          -2315,
          -2325,
          -2335,
          -2345,
          -2355,
          -2365,
          -2375,
          -2385,
          -2395,
          -2405,
          -2415,
          -2425,
          -2435,
          -2445,
          -2455,
          -2465,
          -2475,
          -2485,
          -2495,
          -2505,
          -2515,
          -2525,
          -2535,
          -2545,
          -2555,
          -2565,
          -2575,
          -2585,
          -2595,
          -2605,
          -2615,
          -2625,
          -2635,
          -2645,
          -2655,
          -2665,
          -2675,
          -2685,
          -2695,
          -2705,
          -2715,
          -2725,
          -2735,
          -2745,
          -2755,
          -2765,
          -2775,
          -2785,
          -2795,
          -2805,
          -2815,
          -2825,
          -2835,
          -2845,
          -2855,
          -2865,
          -2875,
          -2885,
          -2895,
          -2905,
          -2915,
          -2925,
          -2935,
          -2945,
          -2955,
          -2965,
          -2975,
          -2985,
          -2995,
          -3005,
          -3015,
          -3025,
          -3035,
          -3045,
          -3055,
          -3065,
          -3075,
          -3085,
          -3095,
          -3105,
          -3115,
          -3125,
          -3135,
          -3145,
          -3155,
          -3165,
          -3175,
          -3185,
          -3195,
          -3205,
          -3215,
          -3225,
          -3235,
          -3245,
          -3255,
          -3265,
          -3275,
          -3285,
          -3295,
          -3305,
          -3315,
          -3325,
          -3335,
          -3345,
          -3355,
          -3365,
          -3375,
          -3385,
          -3395,
          -3405,
          -3415,
          -3425,
          -3435,
          -3445,
          -3455,
          -3465,
          -3475,
          -3485,
          -3495,
          -3505,
          -3515,
          -3525,
          -3535,
          -3545,
          -3555,
          -3565,
          -3575,
          -3585,
          -3595,
          -3605,
          -3615,
          -3625,
          -3635,
          -3645,
          -3655,
          -3665,
          -3675,
          -3685,
          -3695,
          -3705,
          -3715,
          -3725,
          -3735,
          -3745,
          -3755,
          -3765,
          -3775,
          -3785,
          -3795,
          -3805,
          -3815,
          -3825,
          -3835,
          -3845,
          -3855,
          -3865,
          -3875,
          -3885,
          -3895,
          -3905,
          -3915,
          -3925,
          -3935,
          -3945,
          -3955,
          -3965,
          -3975,
          -3985,
          -3995,
          -4005,
          -4015,
          -4025,
          -4035,
          -4045,
          -4055,
          -4065,
          -4075,
          -4085,
          -4095,
          -4105,
          -4115,
          -4125,
          -4135,
          -4145,
          -4155,
          -4165,
          -4175,
          -4185,
          -4195,
          -4205,
          -4215,
          -4225,
          -4235,
          -4245,
          -4255,
          -4265,
          -4275,
          -4285,
          -4295,
          -4305,
          -4315,
          -4325,
          -4335,
          -4345,
          -4355,
          -4365,
          -4375,
          -4385,
          -4395,
          -4405,
          -4415,
          -4425,
          -4435,
          -4445,
          -4455,
          -4465,
          -4475,
          -4485,
          -4495,
          -4505,
          -4515,
          -4525,
          -4535,
          -4545,
          -4555,
          -4565,
          -4575,
          -4585,
          -4595,
          -4605,
          -4615,
          -4625,
          -4635,
          -4645,
          -4655,
          -4665,
          -4675,
          -4685,
          -4695,
          -4705,
          -4715,
          -4725,
          -4735,
          -4745,
          -4755,
          -4765,
          -4775,
          -4785,
          -4795,
          -4805,
          -4815,
          -4825,
          -4835,
          -4845,
          -4855,
          -4865,
          -4875,
          -4885,
          -4895,
          -4905,
          -4915,
          -4925,
          -4935,
          -4945,
          -4955,
          -4965,
          -4975,
          -4985,
          -4995,
          -5005,
          -5015,
          -5025,
          -5035,
          -5045,
          -5055,
          -5065,
          -5075,
          -5085,
          -5095,
          -5105,
          -5115,
          -5125,
          -5135,
          -5145,
          -5155,
          -5165,
          -5175,
          -5185,
          -5195,
          -5205,
          -5215,
          -5225,
          -5235,
          -5245,
          -5255,
          -5265,
          -5275,
          -5285,
          -5295,
          -5305,
          -5315,
          -5325,
          -5335,
          -5345,
          -5355,
          -5365,
          -5375,
          -5385,
          -5395,
          -5405,
          -5415,
          -5425,
          -5435,
          -5445,
          -5455,
          -5465,
          -5475,
          -5485,
          -5495,
          -5505,
          -5515,
          -5525,
          -5535,
          -5545,
          -5555,
          -5565,
          -5575,
          -5585,
          -5595,
          -5605,
          -5615,
          -5625,
          -5635,
          -5645,
          -5655,
          -5665,
          -5675,
          -5685,
          -5695,
          -5705,
          -5715,
          -5725,
          -5735,
          -5745,
          -5755,
          -5765,
          -5775,
          -5785,
          -5795,
          -5805,
          -5815,
          -5825,
          -5835,
          -5845,
          -5855,
          -5865,
          -5875,
          -5885,
          -5895,
          -5905,
          -5915,
          -5925,
          -5935,
          -5945,
          -5955,
          -5965,
          -5975,
          -5985,
          -5995,
          -6005,
          -6015,
          -6025,
          -6035,
          -6045,
          -6055,
          -6065,
          -6075,
          -6085,
          -6095,
          -6105,
          -6115,
          -6125,
          -6135,
          -6145,
          -6155,
          -6165,
          -6175,
          -6185,
          -6195,
          -6205,
          -6215,
          -6225,
          -6235,
          -6245,
          -6255,
          -6265,
          -6275,
          -6285,
          -6295,
          -6305,
          -6315,
          -6325,
          -6335,
          -6345,
          -6355,
          -6365,
          -6375,
          -6385,
          -6395,
          -6405,
          -6415,
          -6425,
          -6435,
          -6445,
          -6455,
          -6465,
          -6475,
          -6485,
          -6495,
          -6505,
          -6515,
          -6525,
          -6535,
          -6545,
          -6555,
          -6565,
          -6575,
          -6585,
          -6595,
          -6605,
          -6615,
          -6625,
          -6635,
          -6645,
          -6655,
          -6665,
          -6675,
          -6685,
          -6695,
          -6705,
          -6715,
          -6725,
          -6735,
          -6745,
          -6755
         ],
         "type": "linear",
         "zeroline": false
        }
       }
      }
     },
     "metadata": {},
     "output_type": "display_data"
    }
   ],
   "source": [
    "bertopic.model.visualize_hierarchy(hierarchical_topics=hierarchical_topics)"
   ]
  },
  {
   "cell_type": "code",
   "execution_count": null,
   "metadata": {},
   "outputs": [],
   "source": []
  },
  {
   "cell_type": "code",
   "execution_count": 19,
   "metadata": {},
   "outputs": [
    {
     "name": "stdout",
     "output_type": "stream",
     "text": [
      "Virus Origin [495, 87, 63, 135, 454] [0.7720082, 0.7150917, 0.6854383, 0.6851345, 0.6796175]\n",
      "Virus contraction (who contracts the virus) and transmission (what transmits the virus) [495, 454, 523, 593, 63] [0.7720082, 0.7150917, 0.6854383, 0.6851345, 0.6796175]\n",
      "Incidence, Mortality and 'Casedemic' [78, 519, 387, 107, 45] [0.7720082, 0.7150917, 0.6854383, 0.6851345, 0.6796175]\n",
      "Prevention (Face Mask, Vitamin D, etc.) [567, 2, 654, 277, 372] [0.7720082, 0.7150917, 0.6854383, 0.6851345, 0.6796175]\n",
      "Treatment (Ivermectim, chloroquine and hydroxychloroquine, etc) [51, 206, 259, 575, 433] [0.7720082, 0.7150917, 0.6854383, 0.6851345, 0.6796175]\n",
      "Vaccines [47, 36, 469, 576, 16] [0.7720082, 0.7150917, 0.6854383, 0.6851345, 0.6796175]\n",
      "COVID-19 Denialism [39, 74, 448, 128, 259] [0.7720082, 0.7150917, 0.6854383, 0.6851345, 0.6796175]\n"
     ]
    }
   ],
   "source": [
    "indexes=[]\n",
    "double=[]\n",
    "for i in [\"Virus Origin\", \"Virus contraction (who contracts the virus) and transmission (what transmits the virus)\", \n",
    "                    \"Incidence, Mortality and 'Casedemic'\", \"Prevention (Face Mask, Vitamin D, etc.)\", \n",
    "                    \"Treatment (Ivermectim, chloroquine and hydroxychloroquine, etc)\", \"Vaccines\", \"COVID-19 Denialism\"]:\n",
    "    print(i, bertopic.model.find_topics(i)[0], bertopic.model.find_topics(\"vaccines\")[1])\n",
    "    for j in bertopic.model.find_topics(i)[0]: \n",
    "        if j not in indexes:\n",
    "            indexes.append(j)\n",
    "        else:\n",
    "            double.append(j)"
   ]
  },
  {
   "cell_type": "code",
   "execution_count": 23,
   "metadata": {},
   "outputs": [
    {
     "data": {
      "text/plain": [
       "1444"
      ]
     },
     "execution_count": 23,
     "metadata": {},
     "output_type": "execute_result"
    }
   ],
   "source": [
    "idx_to_keep = [i for i in range(len(bertopic.model.topics_)) if bertopic.model.topics_[i] in indexes]\n",
    "len([data['text'][i] for i in idx_to_keep])"
   ]
  },
  {
   "cell_type": "code",
   "execution_count": 21,
   "metadata": {},
   "outputs": [
    {
     "data": {
      "text/plain": [
       "[495, 454, 63, 259]"
      ]
     },
     "execution_count": 21,
     "metadata": {},
     "output_type": "execute_result"
    }
   ],
   "source": [
    "double"
   ]
  },
  {
   "cell_type": "code",
   "execution_count": null,
   "metadata": {},
   "outputs": [],
   "source": []
  },
  {
   "cell_type": "code",
   "execution_count": 22,
   "metadata": {},
   "outputs": [
    {
     "data": {
      "text/plain": [
       "['Man spits in tea bottle and puts it back in supermarket to spread coronavirus',\n",
       " 'The novel coronavirus can be spread through fruits and vegetables because it remains viable on them for 12 hours',\n",
       " 'Tomato virus is affecting humans. More deadly than Coronavirus',\n",
       " 'TikTok user Shadab Khan showing how to spread coronavirus',\n",
       " 'A virus found affecting tomatoes in Maharashtra could be more dangerous than coronavirus and can kill humans.',\n",
       " 'Eating infant flesh caused novel coronavirus outbreak',\n",
       " 'Tomato virus is worse than coronavirus',\n",
       " 'Man used injection filled with spit on fruits to spread coronavirus',\n",
       " 'Coronavirus can spread through vegetables and fruits skin',\n",
       " 'New mysterious virus attacking tomatoes is linked to the coronavirus, can be transmitted to humans upon consumption.',\n",
       " 'Novel coronavirus transmitted through worms in food and drink?']"
      ]
     },
     "execution_count": 22,
     "metadata": {},
     "output_type": "execute_result"
    }
   ],
   "source": [
    "idx_to_keep = [i for i in range(len(bertopic.model.topics_)) if bertopic.model.topics_[i] in [454]]\n",
    "[data['text'][i] for i in idx_to_keep]"
   ]
  },
  {
   "cell_type": "markdown",
   "metadata": {},
   "source": [
    "## virus origin"
   ]
  },
  {
   "cell_type": "code",
   "execution_count": 9,
   "metadata": {},
   "outputs": [
    {
     "data": {
      "text/plain": [
       "['In 2015 a ‘System and Method for Testing for COVID-19’ was patented by Richard Rothschild with a Dutch government organisation. Did you catch that? In 2015 – four years before the disease even existed – a testing method for COVID-19 was developed. (2B)',\n",
       " 'Coronavirus is a FAMILY of viruses ranging from a cold to pneumonia. Covid-19 is specific. We were warned EARLY that a second wave of the flu would hit. It did. As usual. This is a gimmick being used to wage a war on the people. #QAnon #IwillNOTComply',\n",
       " 'China made it. It\\'s a biological agent to aid in population control. They have the vaccine for it as well and as soon as they have crippled enough of the world economy they will miraculously \"\"discover\"\" it and save the planet. #CoronavirusPandemic #CoronaVirusUpdate #coronavirus',\n",
       " 'Interesting to find that this Pirbright institute seems to own the patent on some other nice supposed pandemics from the past. SO far PATENT for the CORONAVIRUS # 1010701B2 7720825B1 3172319B1THIS IS A FALSE FLAG EVENT please WAKE UP PEOPLE',\n",
       " 'So let me get this straight... 👉The same Dr. Fauci advising on the #coronavirus 👉Knew about the effectiveness of Chloroquine and Hydrochloroquine back in 2005 👉AND owns several vaccine patents developed with taxpayer funding. #FireFauci #QAnon #COVID19',\n",
       " 'I think there are many corona viruses. It looks like the \"\"tests\"\" suck. I\\'ve studied history and have a SENSE of what an epidemic OR pandemic would look like - this is NONE of the former. You don\\'t need vaccines for fake viruses. Finally: being over 80 is bad for your health.',\n",
       " 'Why is there a patent on Corona Virus? Makes you wonder about Big Pharma’s role is in this as well. And Americans with other countries will go in to space. When the technology allows mankind will enter space and colonize other planets. No need for population control.',\n",
       " 'I wish people would stop calling it \"\"the Coronavirus\"\" there are many Coronaviruses such as the common cold. Call it what it is Covid19/sars-cov-2/Wuhan Bioweapon Disease: coronavirus disease2019 (COVID-19) Virus: severe acute respiratory syndrome coronavirus 2 (SARS-CoV-2)',\n",
       " \"The purpose of inserting parts of HIV's genes into the #nCoV/#COVID19 bioweapon is so that it bonds more easily with receptor cells which is what makes this virus so infectious. This is why many people are getting reinfected with #coronavirus even after being cleared by doctors.\",\n",
       " 'Why didn’t any of the “spiritual mediums” predict the #2020 #CoronavirusOutbreak? Not even with “I feel the letters C and V they will become important”? Well because there r no valid “mediums”. But if you know somebody who did and is (valid medium) please reply here. 🔮 #Corona',\n",
       " 'How much do you want to bet that Pfizer got some help from the #CCP to develop this state-of-the-art mRNA vaccine? How much do you want o bet #coronavirus is a BIOWEAPON and the vaccine was mostly ready? I also bet Pfizer knew the vaccine would be rdy by Nov n Aug (already was)',\n",
       " \"It's actually not even a cold it's exosomes not viral. I continue to seek details on the claimed cases and whether they all had the flu vaccines. I believe that the flu vax and COVID are directly connected. We know electromagnetics and the COVID exosomes are. Huawei admitted-\",\n",
       " 'I know the answer is no but is there any medical person brave enough to get a sample of #coronavirus to a genetics lab get it sequenced and then open source it? We need to compare to what the #CCP opensourced in 31 January to see if non-coding RNA is there (bioweapon death)',\n",
       " \"This particular coronavirus is weaponized. It is contagious while being asymptomatic. Four proteins common with HIV are part of it's genome which makes me wonder if it may be a retrovirus which causes immunosuppression. I found out George Soros owns the level 4 lab in Wuhan.\",\n",
       " 'My point of telling you that part was to explain that corona can be a asymptomatic or display signs and symptoms that look like the flu. Thus someone with those signs and symptoms could be confused with corona if not tested. They are pressured to assume it’s corona if they die.',\n",
       " 'Coronaviruses aren’t new They aren’t made by “big pharma” They don’t come from chemtrails It’s not from “corona” the beer You are actually exposed to #coronavirus all the time - in fact we routinely screen for them at the hospital Thanks for coming to today’s #TedTalk y’all',\n",
       " 'Man spits in tea bottle and puts it back in supermarket to spread coronavirus',\n",
       " 'Israel sends novel coronavirus vaccine to Wuhan, China',\n",
       " 'Egyptian doctor who invented coronavirus vaccine',\n",
       " 'Coronavirus was infecting people in the US since November 2019.',\n",
       " 'Lab-Made Coronavirus Triggers Debate',\n",
       " 'A 1989 medical textbook lists the common cold as a disease caused by coronaviruses.',\n",
       " 'Registered patents mean that the viruses causing major past epidemics have been man-made.',\n",
       " 'Newspaper clipping used derogatory language to indicate that the impact of third coronavirus wave will be less',\n",
       " 'Russia confirms the novel coronavirus is man-made',\n",
       " 'Coronavirus vaccine is ready, able to cure a patient within 3 hours',\n",
       " 'COVID-19 testing patent was submitted in 2015 and COVID19 is a scam',\n",
       " 'European patent 3172319B1 is a vaccine for the new coronavirus.',\n",
       " 'COVID-19 Testing Patent Was Submitted In 2015',\n",
       " 'The novel coronavirus can be spread through fruits and vegetables because it remains viable on them for 12 hours',\n",
       " 'The University of Oxford has developed a vaccine for coronavirus.',\n",
       " 'The CDC Is Warning People About The Morel Mushroom And Coronavirus',\n",
       " 'Facebook posts shared more than 1,000 times appear to show a billboard advertisement from US pharmaceutical giant Merck encouraging viewers to take a novel coronavirus vaccine',\n",
       " '\"\"Roche Medical company\"\" will launch the vaccine developed for coronavirus in United States',\n",
       " 'Scientists knew about the new coronavirus long ago and called it “Disease X”.',\n",
       " 'Coronavirus may have been genetically engineered for “efficient spreading in the human population,” a bombshell new study has claimed.',\n",
       " 'Tomato virus is affecting humans. More deadly than Coronavirus',\n",
       " 'Romania develops Coronavirus Vaccine able to Cure White People only | EUTimes.net',\n",
       " 'US patent 10130701 is for coronavirus.',\n",
       " 'A peer-reviewed research paper says that the new coronavirus has been artificially engineered.',\n",
       " 'A viral social media post in January 2020 represented an authentic, accurate \"\"health bulletin\"\" about the new coronavirus outbreak from an official public health authority.',\n",
       " 'Nine-day timeline of the symptoms of the novel coronavirus.',\n",
       " 'Dean Koontz 1981 book predicted coronavirus',\n",
       " 'The Coronavirus is patented by the US',\n",
       " 'A government employee named Christopher Harrington filed a patent for a \"\"CV19-N95\"\" mask in 2015.',\n",
       " 'Did the album of Madonna released in 2019 predict the coronavirus?',\n",
       " 'The vaccine for coronavirus existed since 2001 and 19 years later they say there is no vaccine',\n",
       " 'A Facebook post claims the SARS-CoV-2 coronavirus shares a spike glycoprotein with HIV, and that the glycoprotein is patented by US health official Dr Anthony Fauci.',\n",
       " 'Tucker Carlson is the source of these comments on coronavirus-related measures',\n",
       " 'claims the novel coronavirus is \"\"simply the common cold\"\"',\n",
       " 'Patents Mean Deadly Diseases And Viruses Were Created Or Invented In A Lab',\n",
       " 'morel mushrooms are the source of the new coronavirus',\n",
       " 'A Facebook post features a medical text from 1989 and claims that coronaviruses equal the common cold.',\n",
       " 'A woman is seeking medical help and suing the manufacturer after she sprayed Gorilla Glue in her hair.',\n",
       " 'claims a vaccine against the novel coronavirus has been used on American cattle \"\"for years.\"\"',\n",
       " 'A new vaccine to cure coronavirus has been developed by US Scientists',\n",
       " 'Vice President of Bharat Biotech became the first person to undergo clinical trial of coronavirus vaccine',\n",
       " 'A patent claim for COVID-19 testing was filed in 2015.',\n",
       " 'A vaccine for the coronavirus was being trialled in January 2020 days before the outbreak.',\n",
       " 'A vaccine for the new coronavirus has been created by US scientists and will be ready to use from next Sunday.',\n",
       " '16th century French astrologer Michel de Nostredame, commonly referred to as Nostradamus, predicted the coronavirus outbreak.',\n",
       " 'WHO doctors claim that coronavirus is a flu-like virus',\n",
       " 'Nostradamus predicted the spread of novel coronavirus',\n",
       " 'Russian Ministry of Health confirmed in a document that the novel coronavirus, COVID-19, is man-made.',\n",
       " 'Vaccine for Coronavirus already exists in name of Scourguard-4K',\n",
       " 'Scientists in Israel are likely to announce the development of a coronavirus vaccine.',\n",
       " 'US-Patent 8835624 is for the H1N1 virus.',\n",
       " 'En testmetode for covid-19 ble patentert i 2015.',\n",
       " 'US patent 2006257852 is for the new coronavirus.',\n",
       " 'Vaccine Available Now Our team created first vaccine for Novel coronavirus (2019-nCoV)',\n",
       " 'A new vaccine and a new drug have been developed to prevent and treat the novel Coronavirus by scientists in Japan and Phillipines.',\n",
       " 'Rothschild a breveté un test Covid-19 en 2015',\n",
       " 'Subaru released a new car model with the acronym F.U.C.K.S.',\n",
       " \"Claims the WHO declared the coronavirus a 'plague'\",\n",
       " 'The novel Coronavirus is like the common cold stated on the Rush Limbaugh show.',\n",
       " 'A 2019 blogpost authored by Dominic Cummings was recently edited to include a warning about coronavirus.',\n",
       " 'The Simpsons predicted the novel coronavirus outbreak',\n",
       " 'Fit people are immune to novel coronavirus',\n",
       " 'Richard A Rothschild Patented A Covid-19 Test Kit In 2015',\n",
       " '0070031450 A1 is a US patent for BSE (mad cow disease).',\n",
       " 'Two authors predicted the coronavirus decades before the outbreak.',\n",
       " 'TikTok user Shadab Khan showing how to spread coronavirus',\n",
       " 'Interferon alpha-2b is a vaccine for the new coronavirus.',\n",
       " 'Novel coronavirus is just the common cold',\n",
       " 'A virus found affecting tomatoes in Maharashtra could be more dangerous than coronavirus and can kill humans.',\n",
       " 'A friend of mine checked the back of her Clorox wipes and, what do you know, the human coronavirus is listed among the things that these wipes kill. I checked our wipes and, sure enough, it is listed. So my take is, as I suspected, this is no “NEW VIRUS” as the news media wants us to believe.',\n",
       " 'The Pirbright Institute has the main patent for coronavirus, which was granted by Serco.',\n",
       " 'Facebook user Lea Andoy Lugo posted on Friday, March 13, that a vaccine for the 2019 novel coronavirus has been found and there will be no more deaths due to the coronavirus.',\n",
       " 'There is a US patent on the novel Coronavirus and a European one for a vaccine.',\n",
       " 'A vaccine for coronavirus has been discovered',\n",
       " 'A Facebook post claims The Eyes of Darkness by Dean Koontz predicted the coronavirus outbreak.',\n",
       " 'Richard A. Rothschild zgłosił w 2015 r. patent na test Covid-19',\n",
       " 'US patent number 20120251502 is for Ebola.',\n",
       " 'People over six foot tall are twice as likely to get coronavirus.',\n",
       " 'Facebook user Chase Michael Morris prediction in 2015 \"\"By 2020, a mass virus gonna hit us all\"\"',\n",
       " 'US patent number CA2741523 is for swine flu.',\n",
       " 'Does the report presented to the German assembly in 2012 mention the epidemic of the new coronavirus?',\n",
       " 'There is a US patent for the novel coronavirus and a European one for a vaccine to prevent it',\n",
       " 'The novel Coronavirus is not a new disease, photos of vials of coronavirus vaccines for animals is evidence.',\n",
       " 'Trump accounced Roche Diagnostics has successfully developed a coronavirus vaccine',\n",
       " 'The Pirbright Institute was responsible for foot and mouth.',\n",
       " 'Israel discovers vaccine against novel coronavirus',\n",
       " 'Clorox already know about coronavirus and coronavirus isn’t new virus',\n",
       " 'The 2019 novel coronavirus has triggered multiple false and misleading claims about the origins of the disease outbreak across social media. A new claim is that the potentially deadly infection is a “man-made” combination of parts of the HIV-1 virus and the SARS virus.',\n",
       " 'Dr. Creep, a rapper, predicted the 2020 coronavirus pandemic in his 2013 song “Pandemic,” where he sang: “2020 combined with coronavirus, bodies stacking.”',\n",
       " 'Eating infant flesh caused novel coronavirus outbreak',\n",
       " 'As cases of the 2019 Novel Coronavirus continue to climb, information on the number of people infected and the World Health Organisation’s (WHO) response to the outbreak continues to spread on social media.',\n",
       " 'Tomato virus is worse than coronavirus',\n",
       " 'The Simpsons memprediksi wabah virus corona',\n",
       " 'a company is threatening to sue Italians who 3D printed patented valves for ventilators used to treat coronavirus patients',\n",
       " 'Patent filed for coronavirus, covid-19, in 2015',\n",
       " 'Man used injection filled with spit on fruits to spread coronavirus',\n",
       " 'US patents 7897744 and 8506968 are for SARS.',\n",
       " 'A Dog Vaccine Can Be Used To Inoculate People Against Coronavirus',\n",
       " 'SARS-CoV-2 is man-made',\n",
       " 'Author Dean Koontz predicted the 2020 new coronavirus outbreak in his 1981 novel \"\"The Eyes of Darkness.\"\"',\n",
       " 'First Case Of Postmortem Study In A Patient Vaccinated Against SARS-CoV-2 Finds Viral RNA In Every Organ Of The Body',\n",
       " 'Coronavirus already existed because vaccine for animal coronavirus exists',\n",
       " 'Sales of Corona beer dropped sharply in early 2020 because consumers mistakenly associated the brand name with the new coronavirus.',\n",
       " 'A patent for coronavirus was granted in 2018 to the Pirbright Institute UK, founded by Bill and Melinda Gates.',\n",
       " 'the new coronavirus has HIV proteins that indicate it was genetically modified in a laboratory.',\n",
       " '\"\"The Simpsons\"\" TV show predicted the 2020 new coronavirus outbreak in a 1993 episode.',\n",
       " 'A viral photograph showing a canine coronavirus vaccine demonstrates that there should already exist a human vaccine for COVID-19.',\n",
       " 'Lysol label is evidence that novel coronavirus is not new',\n",
       " 'WHO said coronavirus is losing potency',\n",
       " 'Social media users are questioning the origins of the 2019 Novel Coronavirus as it continues to spread after discovering that some Dettol cleaning products “kill” the human coronavirus.',\n",
       " 'Dr. Abdu Sharkawy, an infectious diseases specialist, penned a viral Facebook post warning about the loss of reason in the face of panic over the new coronavirus in 2020.',\n",
       " 'The coronavirus patent was applied for in 2015.',\n",
       " 'Native Americans in North Dakota will be the first subjects to receive a novel coronavirus vaccine',\n",
       " 'Rapper Eminem was the first celebrity to be diagnosed with new coronavirus in February 2020.',\n",
       " 'ATTC VR-84 is a patent for Zika virus that comes from the Rockefeller Foundation.',\n",
       " 'A vaccine for coronavirus was made in 2001.',\n",
       " 'Coronavirus can spread through vegetables and fruits skin',\n",
       " 'New mysterious virus attacking tomatoes is linked to the coronavirus, can be transmitted to humans upon consumption.',\n",
       " 'US-Patent 5676977 is for AIDS.',\n",
       " 'Books The Eyes of Darkness by Dean Koontz and End Of Days by Sylvia Browne predict the novel Coronavirus (COVID-19) outbreak.',\n",
       " 'A coronavirus vaccine for cows shows that the virus behind the current outbreak is not new.',\n",
       " 'Novel coronavirus transmitted through worms in food and drink?',\n",
       " '2008 Nobel Prize winner Luc Montagnier said that COVID-19 coronavirus disease was artificially created in a lab by biologists working on an AIDS vaccine.']"
      ]
     },
     "execution_count": 9,
     "metadata": {},
     "output_type": "execute_result"
    }
   ],
   "source": [
    "idx_to_keep = [i for i in range(len(bertopic.model.topics_)) if bertopic.model.topics_[i] in [495, 87, 63, 135, 454]]\n",
    "[data['text'][i] for i in idx_to_keep]"
   ]
  },
  {
   "cell_type": "markdown",
   "metadata": {},
   "source": [
    "## Virus contraction"
   ]
  },
  {
   "cell_type": "code",
   "execution_count": 10,
   "metadata": {},
   "outputs": [
    {
     "data": {
      "text/plain": [
       "['Coronavirus is a FAMILY of viruses ranging from a cold to pneumonia. Covid-19 is specific. We were warned EARLY that a second wave of the flu would hit. It did. As usual. This is a gimmick being used to wage a war on the people. #QAnon #IwillNOTComply',\n",
       " 'I think there are many corona viruses. It looks like the \"\"tests\"\" suck. I\\'ve studied history and have a SENSE of what an epidemic OR pandemic would look like - this is NONE of the former. You don\\'t need vaccines for fake viruses. Finally: being over 80 is bad for your health.',\n",
       " 'I wish people would stop calling it \"\"the Coronavirus\"\" there are many Coronaviruses such as the common cold. Call it what it is Covid19/sars-cov-2/Wuhan Bioweapon Disease: coronavirus disease2019 (COVID-19) Virus: severe acute respiratory syndrome coronavirus 2 (SARS-CoV-2)',\n",
       " \"The purpose of inserting parts of HIV's genes into the #nCoV/#COVID19 bioweapon is so that it bonds more easily with receptor cells which is what makes this virus so infectious. This is why many people are getting reinfected with #coronavirus even after being cleared by doctors.\",\n",
       " 'Why didn’t any of the “spiritual mediums” predict the #2020 #CoronavirusOutbreak? Not even with “I feel the letters C and V they will become important”? Well because there r no valid “mediums”. But if you know somebody who did and is (valid medium) please reply here. 🔮 #Corona',\n",
       " \"It's actually not even a cold it's exosomes not viral. I continue to seek details on the claimed cases and whether they all had the flu vaccines. I believe that the flu vax and COVID are directly connected. We know electromagnetics and the COVID exosomes are. Huawei admitted-\",\n",
       " 'I know the answer is no but is there any medical person brave enough to get a sample of #coronavirus to a genetics lab get it sequenced and then open source it? We need to compare to what the #CCP opensourced in 31 January to see if non-coding RNA is there (bioweapon death)',\n",
       " \"This particular coronavirus is weaponized. It is contagious while being asymptomatic. Four proteins common with HIV are part of it's genome which makes me wonder if it may be a retrovirus which causes immunosuppression. I found out George Soros owns the level 4 lab in Wuhan.\",\n",
       " 'My point of telling you that part was to explain that corona can be a asymptomatic or display signs and symptoms that look like the flu. Thus someone with those signs and symptoms could be confused with corona if not tested. They are pressured to assume it’s corona if they die.',\n",
       " 'Coronaviruses aren’t new They aren’t made by “big pharma” They don’t come from chemtrails It’s not from “corona” the beer You are actually exposed to #coronavirus all the time - in fact we routinely screen for them at the hospital Thanks for coming to today’s #TedTalk y’all',\n",
       " 'Man spits in tea bottle and puts it back in supermarket to spread coronavirus',\n",
       " 'Coronavirus was infecting people in the US since November 2019.',\n",
       " 'Lab-Made Coronavirus Triggers Debate',\n",
       " 'A 1989 medical textbook lists the common cold as a disease caused by coronaviruses.',\n",
       " 'Newspaper clipping used derogatory language to indicate that the impact of third coronavirus wave will be less',\n",
       " 'Russia confirms the novel coronavirus is man-made',\n",
       " 'The novel coronavirus can be spread through fruits and vegetables because it remains viable on them for 12 hours',\n",
       " 'The CDC Is Warning People About The Morel Mushroom And Coronavirus',\n",
       " 'Facebook posts shared more than 1,000 times appear to show a billboard advertisement from US pharmaceutical giant Merck encouraging viewers to take a novel coronavirus vaccine',\n",
       " 'Scientists knew about the new coronavirus long ago and called it “Disease X”.',\n",
       " 'Coronavirus may have been genetically engineered for “efficient spreading in the human population,” a bombshell new study has claimed.',\n",
       " 'Tomato virus is affecting humans. More deadly than Coronavirus',\n",
       " 'A peer-reviewed research paper says that the new coronavirus has been artificially engineered.',\n",
       " 'A viral social media post in January 2020 represented an authentic, accurate \"\"health bulletin\"\" about the new coronavirus outbreak from an official public health authority.',\n",
       " 'Nine-day timeline of the symptoms of the novel coronavirus.',\n",
       " 'Dean Koontz 1981 book predicted coronavirus',\n",
       " 'Did the album of Madonna released in 2019 predict the coronavirus?',\n",
       " 'Tucker Carlson is the source of these comments on coronavirus-related measures',\n",
       " 'If the virus is exposed to a temperatureof 26 - 27 degrees celcius it will be killed',\n",
       " 'claims the novel coronavirus is \"\"simply the common cold\"\"',\n",
       " 'morel mushrooms are the source of the new coronavirus',\n",
       " 'A Facebook post features a medical text from 1989 and claims that coronaviruses equal the common cold.',\n",
       " '16th century French astrologer Michel de Nostredame, commonly referred to as Nostradamus, predicted the coronavirus outbreak.',\n",
       " 'WHO doctors claim that coronavirus is a flu-like virus',\n",
       " 'Nostradamus predicted the spread of novel coronavirus',\n",
       " 'Russian Ministry of Health confirmed in a document that the novel coronavirus, COVID-19, is man-made.',\n",
       " 'COVID-19 caused by bacteria and worsens with 5G radiation',\n",
       " 'Coronavirus is not lethal',\n",
       " \"Claims the WHO declared the coronavirus a 'plague'\",\n",
       " 'The novel Coronavirus is like the common cold stated on the Rush Limbaugh show.',\n",
       " 'A 2019 blogpost authored by Dominic Cummings was recently edited to include a warning about coronavirus.',\n",
       " 'The Simpsons predicted the novel coronavirus outbreak',\n",
       " 'Virus removal cards destroys novel coronavirus',\n",
       " 'Fit people are immune to novel coronavirus',\n",
       " 'Covid-19 does not exist as a virus, but rather a bacterium that has been exposed to 5G radiation.',\n",
       " 'Two authors predicted the coronavirus decades before the outbreak.',\n",
       " 'TikTok user Shadab Khan showing how to spread coronavirus',\n",
       " 'Novel coronavirus is just the common cold',\n",
       " 'A virus found affecting tomatoes in Maharashtra could be more dangerous than coronavirus and can kill humans.',\n",
       " 'A friend of mine checked the back of her Clorox wipes and, what do you know, the human coronavirus is listed among the things that these wipes kill. I checked our wipes and, sure enough, it is listed. So my take is, as I suspected, this is no “NEW VIRUS” as the news media wants us to believe.',\n",
       " 'Coronavirus can be sanitized using Dettol',\n",
       " '26-27 degrees temperature kill coronavirus: UNICEF',\n",
       " 'A Facebook post claims The Eyes of Darkness by Dean Koontz predicted the coronavirus outbreak.',\n",
       " 'People over six foot tall are twice as likely to get coronavirus.',\n",
       " 'The Covid-19 pandemic is caused by radiation',\n",
       " 'Warmer weather will inhibit the spread of the new coronavirus.',\n",
       " 'Facebook user Chase Michael Morris prediction in 2015 \"\"By 2020, a mass virus gonna hit us all\"\"',\n",
       " 'Does the report presented to the German assembly in 2012 mention the epidemic of the new coronavirus?',\n",
       " 'COVID-19 is caused by bacteria, exacerbated by 5G technology and can be cured using painkillers and antibiotics.',\n",
       " 'COVID-19 is not a virus but rather a bacterium',\n",
       " 'Clorox already know about coronavirus and coronavirus isn’t new virus',\n",
       " 'The 2019 novel coronavirus has triggered multiple false and misleading claims about the origins of the disease outbreak across social media. A new claim is that the potentially deadly infection is a “man-made” combination of parts of the HIV-1 virus and the SARS virus.',\n",
       " 'Dr. Creep, a rapper, predicted the 2020 coronavirus pandemic in his 2013 song “Pandemic,” where he sang: “2020 combined with coronavirus, bodies stacking.”',\n",
       " 'Eating infant flesh caused novel coronavirus outbreak',\n",
       " 'COVID-19 is a bacterium not virus',\n",
       " 'As cases of the 2019 Novel Coronavirus continue to climb, information on the number of people infected and the World Health Organisation’s (WHO) response to the outbreak continues to spread on social media.',\n",
       " 'Tomato virus is worse than coronavirus',\n",
       " 'The Simpsons memprediksi wabah virus corona',\n",
       " 'Man used injection filled with spit on fruits to spread coronavirus',\n",
       " 'Author Dean Koontz predicted the 2020 new coronavirus outbreak in his 1981 novel \"\"The Eyes of Darkness.\"\"',\n",
       " 'Sales of Corona beer dropped sharply in early 2020 because consumers mistakenly associated the brand name with the new coronavirus.',\n",
       " 'the new coronavirus has HIV proteins that indicate it was genetically modified in a laboratory.',\n",
       " '\"\"The Simpsons\"\" TV show predicted the 2020 new coronavirus outbreak in a 1993 episode.',\n",
       " 'Covid-19 is not a virus, but a bacterium being amplified by 5G which causes inflammation and hypoxia.',\n",
       " 'Lysol label is evidence that novel coronavirus is not new',\n",
       " 'The new virus is not heat-resistant and will be killed by a temperature of 26/27 degrees. It hates the Sun.',\n",
       " 'WHO said coronavirus is losing potency',\n",
       " 'Social media users are questioning the origins of the 2019 Novel Coronavirus as it continues to spread after discovering that some Dettol cleaning products “kill” the human coronavirus.',\n",
       " 'Coronavirus isn’t dangerous as it can be killed by Dettol products.',\n",
       " 'Dr. Abdu Sharkawy, an infectious diseases specialist, penned a viral Facebook post warning about the loss of reason in the face of panic over the new coronavirus in 2020.',\n",
       " 'Rapper Eminem was the first celebrity to be diagnosed with new coronavirus in February 2020.',\n",
       " 'Coronavirus can spread through vegetables and fruits skin',\n",
       " 'New mysterious virus attacking tomatoes is linked to the coronavirus, can be transmitted to humans upon consumption.',\n",
       " 'Books The Eyes of Darkness by Dean Koontz and End Of Days by Sylvia Browne predict the novel Coronavirus (COVID-19) outbreak.',\n",
       " 'Novel coronavirus transmitted through worms in food and drink?',\n",
       " '2008 Nobel Prize winner Luc Montagnier said that COVID-19 coronavirus disease was artificially created in a lab by biologists working on an AIDS vaccine.',\n",
       " 'This new virus is not heat-resistant and will be killed by a temperature of just 26/27 degrees. It hates the Sun.']"
      ]
     },
     "execution_count": 10,
     "metadata": {},
     "output_type": "execute_result"
    }
   ],
   "source": [
    "idx_to_keep = [i for i in range(len(bertopic.model.topics_)) if bertopic.model.topics_[i] in [495, 454, 523, 593, 63]]\n",
    "[data['text'][i] for i in idx_to_keep]"
   ]
  },
  {
   "cell_type": "markdown",
   "metadata": {},
   "source": [
    "## Incidence, Mortality and 'Casedemic'"
   ]
  },
  {
   "cell_type": "code",
   "execution_count": 11,
   "metadata": {},
   "outputs": [
    {
     "data": {
      "text/plain": [
       "['Do you support more deaths by Covid? Schools have opened only to close because of an increase of COVID! Just saw that more than 70 people now have Covid from that Sturgis bikers convention? What motivates your desire to see Americas die?',\n",
       " \"Until Covid he had a roughly 60% chance to win. 2018 proved he had a major counter movement against him. 60% is a good chance. But then Covid hit and his chances fell to at best 40%. Still not bad but not odds I'd take in Vegas.\",\n",
       " \"Since the new World Order started the covid-19 global pandemic scare all natural deaths of the elderly the sick and The Dying was cancelled there hasn't been a single case of death by natural causes it's all been put down to covid-19 doctors in USA speaking out about now\",\n",
       " 'The #COVID_19italy has a mortality % of nearly 10%. That is 1 in 10 infections resulting in death. If the Chinese JapaneseTaiwanese succeed in tracking this back to Ft. Detrick bioweapons lab in US by sampling post mortem blood of false labeled dead Vapers months prior to Wuhan',\n",
       " 'This isn’t new information-6% of the deaths were in people that had no other issues. We know that COVID preys on people with comorbidies-which unfortunately there are a lot of in the US. But that information doesn’t help with your arguement...I realize. But the data makes sense',\n",
       " 'What ur speaking about is some highlighted portion by some qanon crazy trying to minimize the deaths from covid. They died FROM covid. The fact that they had high blood pressure or asthma makes no difference that they wouldn’t be dead if not for covid',\n",
       " 'A big deal is that the % of deaths attributed pneumonia increased to 8.2%. The epidemic threshold is 7.2%. Whether labeled COVID19 or not the death toll is 8 times what is was last year & flu deaths alone are down. Plus COVID19 has become the leading cause of death in the US.',\n",
       " 'MSM only talks about how many new cases there are of COVID they don’t tell you how many people are dying from it. Truth: COVID is no more deadlier than the flu. We never locked down the whole world for the flu. Something more sinister is in play here. #Plandemic',\n",
       " 'You understand the media is simply reporting all deaths as Covid-19 deaths right? If I have Covid-19 but have a heart attack and die Covid didn’t kill me. No chance hospitals know the true cause of 4500 in one day the same day. Don’t be a sheeple',\n",
       " 'The Chinese News Network (CNN) & MSNBC will never report this truth: that if you are infected with Covid-19 and are between the ages 0-19 you have a 99.97% Survival Rate. The Dems Deep State Medical Communitues & MSM have been lying to us for months! Now let that sink in.',\n",
       " 'Covid kills less than 1% those who get it. Election Fraud Deep State Corrupt Politicians Central Bankers Multinational Corporations Fake News and China 🇨🇳 Destroying the Constitution for a U.S. take over! Insert The Trump Card to save America 🇺🇸',\n",
       " 'Average age of death for someone that dies WITH Covid 19 = 78. Average lifespan of an American Citizen = 78. CDC reports National deaths no different than ‘19 ‘18 ‘17 ‘16. You are a liar extraordinaire. A Con woman. A Marxist insurrectionist. A planDEMic spreader of fear.',\n",
       " 'This number is substantially lower than any of the years included. How many deaths due to the flu or pneumonia are being included in the COVID-19 deaths reported? Even when adding U.S. COVID-19 deaths to the flu and pneumonia deaths we are still lower than our average. #plandemic',\n",
       " '4 means one of the least likely places to catch covid! The one by me is pretty spacious and clean and empty. Erewhon is likely full of 70% spiritual wellness wackadoo anti-vaxers has narrow aisles 0 crowd control and people crowded around the hot foods bar breathing heavily...',\n",
       " \"Deaths going down bc flu season ending. Healthy OAPs used to break a hip go into hospital & die of pneumonia.(Lack of care.) Now they're counted as Covid19. Every year thousands of OAPs died in winter bc of fuel poverty. Now they're counted as Covid19. #Plandemic #vaccination\",\n",
       " 'Every 100 years a plague comes along to thin out our population. I do not think its a coincidence that it happens every hundred years. 1820 1920 Spanish Flu 2020 COVID 19. I have my Earthquake supplies so Im ready for ANY disaster. Got to be ready in CA. Fire Quake Flood',\n",
       " 'I’m pointing out that 1) people who interpret what the CDC is saying as meaning that covid is only 6% as deadly are idiots 2) Trump is one of those idiots 3) Trump promotes QAnon trash 4) the official count is still less than the true count from excess deaths (from CDC btw).',\n",
       " 'Huh... Okay well the synopsis is this: in a study of 1216 covid-19 cases (worldwide) 55% had new (was not there before they contracted covid-19) heart damage. It ranged from slight to a lot in terms of severity of damage and was found only because of electrocardiogram.',\n",
       " 'So Joe can you tell everyone here how many died from Covid vs. just having it in their system at time of death? Can you let all know that CDC estimates survival rate at better than 99% and CDC average age of death is 78? Please let the sheeple know Joe.',\n",
       " \"Just a small town girl stuck in a Covid world ...or let's call it what it is a plandemic. The news isn't going to tell you median age of death is 81. Big difference not knowing where you are in time and saying something so extemporaneously fast that you blur speech. Go Brady!\",\n",
       " \"If luck for you is quantum of success then it's all dumb luck. Eric Yuan did not know covid was coming and zoom will become a $100b company...if luck is probability of success...then yes I think it evens out in a lifetime...\",\n",
       " \"Damn have you not been watching over the past months. There's more to Covid-19 than dying. People are very sick having trouble breathing in hospital and on respirators. Many have ongoing problems that can last for months or longer. It's not just dying dammit!\",\n",
       " 'Thank you! Some of us need that. My first day of quarantine i found out i have multiple sclerosis. Now I’m out of work and can’t get proper doctors appts over covid. I’m not scared of covid it’s the media and Dems trying to crash the economy! POTUS still wins!!!!',\n",
       " \"I dont know why everyone's fixated on 100K dead when that figure has passed 3 wks ago. Same with 130K austerity dead that figure was 3yrs ago. Please do keep up. In all reality since tories came into power a decade ago the preventable deaths are over 500K. #Tory #Depopulation\",\n",
       " 'not saying there is no virus saying the numbers are conflated and a hoax used to push fear and get more money. the hospitals are charging the government instead of insurance at least in the states. they use every death as covid so they can collect more money for the hospital.',\n",
       " \"@business So it's 100% effective on people who already have as close to a 100% survival rate as you can get. Neat.\",\n",
       " 'A reminder: in a vegan world there would be no pandemics. 100% of pandemics are zoonotic in origin. #veganforlife',\n",
       " 'COVID deaths are replacing deaths from other causes in the data. Since 15th Jan, 37% of COVID labelled deaths were misattributed non-COVID deaths. In week ending 19th Feb it was nearly half of COVID labelled deaths.',\n",
       " 'CDC: Only 6% of COVID deaths currently recorded have COVID-19 as the leading cause of death Flu/Pneumonia was listed as a co-morbidity on 153,620 deaths Hypertension listed on 69,492 deaths Diabetes on 54,928 deaths & Alzheimers on 52,091 deaths',\n",
       " 'Nearly 19% more Americans died in 2020 than in 2019, according to the @CDCgov. This is the biggest such increase since 1918, when deaths rose 30%. Deadly pandemics will do that',\n",
       " 'in 12 days i will have only a 5% chance of getting Covid-19... The countdown begins!',\n",
       " \"The 1981 Farmer's Almanac contained a passage predicting that a severe, pneumatic illness would spread around the globe in 2020.\",\n",
       " 'The US CDC is cutting reported COVID-19 death toll.',\n",
       " 'The death rate for COVID-19 deaths is 50% higher in Northern Ireland than Ireland.',\n",
       " 'Even when including those with pre-existing conditions, for the under 60s there is a 1 in 300,000 chance of death, for the over 60s there is a 99% survival rate and for the over 80s it’s still 90%.',\n",
       " '57 parents and grandparents of COMEDK UGET aspirants dead',\n",
       " 'There is only a 0.26% chance of catching Covid-19.',\n",
       " 'Covid-19 does not kill 99.99% of us.',\n",
       " 'Smoking ban credited for 74% drop in heart attacks in Scotland.',\n",
       " 'Johns Hopkins Lecturer Proves There Are No Excess 2020 Deaths Due To COVID',\n",
       " 'It took 51 days for the UK to go from announcing its first Covid-19 death to 20,319.',\n",
       " '57 people died due to covid-19 deaths and 5731 people infected because of COMEDK exams in Karnataka',\n",
       " 'Daily dementia deaths in England in October were at 192.',\n",
       " 'The deaths of 131 care workers have involved Covid-19.',\n",
       " 'The survival rate from Covid-19 is 99.8%.',\n",
       " 'As of April 25, 2020, the rate of people dying from the COVID-19 coronavirus disease in New York City was at least 250 times \"\"higher\"\" than Tokyo\\'s — and growing with time.',\n",
       " '4,717 Covid-19 deaths out of the 0-59 year-old UK population means a 0.009% fatality rate.',\n",
       " 'The US CDC has reduced its COVID-19 death toll',\n",
       " 'There is a greater chance of dying in a bus collision than by COVID-19.',\n",
       " 'Staying at least 1m away from people cuts your risk of catching Covid-19 by 80%.',\n",
       " 'Over a million Africans die in road accidents every year.',\n",
       " 'Global COVID-19 death toll tops 1.6 million',\n",
       " 'The same number of people died in the US in 2020 as in the previous five years, despite the COVID-19 pandemic.',\n",
       " 'The number of deaths in the UK from Covid-19 is just shy of the capacity of the Manchester arena.',\n",
       " 'The CDC readjusted the COVID-19 death toll from 60,000 down to 37,000.',\n",
       " 'UCLA, Stanford study finds for average 50-64 year old, chances of dying from COVID-19 are 1 in 19.1M',\n",
       " 'There were 32 deaths from suicide in Ireland in August.',\n",
       " 'A meme accurately reports that the U.S. recorded roughly 2.9 million deaths in 2020 — almost the same total as previous years — despite COVID-19.',\n",
       " 'COVID-19 deaths overblown, and story by Johns Hopkins student paper was censored for reporting that',\n",
       " 'The US has seen deaths fall in 2020 despite the COVID-19 pandemic.',\n",
       " 'The Republic of Ireland’s COVID-19 death rate is two-thirds of that in Northern Ireland.',\n",
       " 'Fatality rates among those infected by COVID-19 range up to 0.054% in those aged 70 and over.',\n",
       " 'Just 2.9% of deaths were caused by Covid-19 in the first three months of 2020.',\n",
       " 'Mosquitoes kill 2,740 people every day.',\n",
       " 'Up to week 47 of 2020, there were only 511,883 deaths in England and Wales, 20,000 fewer than the number of deaths in 2019.',\n",
       " 'the Centers for Disease Control and Prevention (CDC) \"\"quietly updated\"\" its coronavirus death count to show that only 9,210 people \"\"actually died\"\" from COVID-19',\n",
       " 'A post claims that outbreaks of disease and pandemics align with election years.',\n",
       " '1,852 people died in one day in England from a heart attack.',\n",
       " 'You’re far more likely to die in a car crash this year.',\n",
       " 'If you do catch Covid-19, you have a “one in a 100 percent” chance of dying.',\n",
       " 'CDC Reveals Hospitals Counted Heart Attacks as COVID-19 Deaths',\n",
       " 'An Instagram post claims that a new Centers for Disease Control and Prevention (CDC) report \"\"shows that 94% of COVID-19 deaths in the US had underlying medical conditions\"\".',\n",
       " '1,295 died of a stroke in England in one day.',\n",
       " 'The death rate for COVID-19 deaths in hospital is 50% higher in Northern Ireland than Ireland.',\n",
       " 'If the rate of infection in late June continues for nine months, the UK will experience 27,000 more deaths from Covid-19.',\n",
       " 'The survival rate for Covid-19 is 98.54% in the UK.',\n",
       " 'From 21 July to 25 July, 12 people died from Covid-19 in Spain.',\n",
       " 'Vapers with Covid-19 are up to 17% more likely to transmit the virus.',\n",
       " 'The Covid-19 death rate for “most of us” is 0.05%.',\n",
       " '18 people died of Covid-19 in one day in England.',\n",
       " 'The COVID-19 Positivity Rate Among Illegal Migrants At Border Is Upwards Of 50%.',\n",
       " '39 people were murdered in one day in England.',\n",
       " 'The US Centers for Disease Control and Prevention cut the national COVID-19 death toll by 94 percent.',\n",
       " \"New York COVID-19 death rate 200 times higher than world's largest 10 cities\",\n",
       " 'A major disease outbreak occurred in \"\"every election year\"\" since 2004.',\n",
       " 'How many who have no other morbidities under the age of 60 have died from this Covid-19? 350',\n",
       " 'Deaths have risen in the UK since 2011.',\n",
       " 'Death toll chart (deaths per day) compares other epidemics with the novel Coronavirus, saying the danger of the COVID-19 is exaggerated.',\n",
       " 'There were 99 daily deaths from stroke in England in October.',\n",
       " 'Mersey Care NHS Foundation Trust have had five deaths related to Covid-19 and all patients that passed away had pre-existing conditions.',\n",
       " '99% of people recover from COVID-19.',\n",
       " 'This is Fraud: 10% of Reported COVID-19 Deaths for Those Under 35 as Reported by the CDC Are Due to Poisoning, Trauma and Unintentional Injuries',\n",
       " 'A drop of 21 million cellphone subscribers in China in early 2020 documents that the death toll from COVID-19 was vastly underreported in that country.',\n",
       " 'US election years coincide with major disease outbreaks.',\n",
       " 'COVID DEATH TOTALS OFF BY NEARLY 25%',\n",
       " 'Martial arts movie star Chuck Norris has died from the COVID-19 coronavirus disease.',\n",
       " 'Far more people have died of Covid-19 in the UK than in Japan',\n",
       " 'COVID-19 patients died of other causes contribute to coronavirus death tolls in Dallas, Texas',\n",
       " 'The CDC \"\"quietly updated\"\" its COVID-19 mortality statistics in summer 2020 to show only 6% of previously reported deaths were actually due to the coronavirus, while the remaining 94% died from preexisting health conditions.',\n",
       " 'There were 700 deaths from cancer in Ireland in August.',\n",
       " 'Daily deaths from heart disease in England were at 174 in October.',\n",
       " 'Every election year has a disease',\n",
       " 'Covid-19 has a survival rate of 99.998%.',\n",
       " 'The number of deaths in England and Wales is below average for this time of year.',\n",
       " 'There were 70 deaths from alcohol in Ireland in August.',\n",
       " 'Survival rates of COVID-19 in these countries over 99.9%',\n",
       " 'The fatality rate in Scotland is 13.9%, the same as in Italy.',\n",
       " 'There are 400 people a year who drown',\n",
       " 'The number of deaths so far this year in the UK (up to week 39) has been 454,000.',\n",
       " 'Just 748.6 people per 100,000 died in England in May.',\n",
       " \"there were fewer deaths in 2020 despite the COVID-19 pandemic raging versus 2019 when there wasn't the virus\",\n",
       " 'CLAIM: There have been just 113 COVID-19 deaths in all in Northern Ireland.',\n",
       " 'You’re more likely to drown than die from Covid-19.',\n",
       " 'The chances of dying if you are under 70 and have COVID-19 is 0.05% to 0.07%.',\n",
       " '21 people were dying daily of Covid-19 in October in England.',\n",
       " 'The CDC Simply Made 30,000 COVID-19 Deaths Disappear In Scam On Americans',\n",
       " 'An estimated 0.5% of people arriving into the UK have Covid-19.',\n",
       " 'This means in the UK the Covid-19 survival rate for 0-59 year olds is 99.991%.',\n",
       " 'Suicide is the cause of death for around 3,000 people per day',\n",
       " 'Malaria kills 822 people in Nigeria every day',\n",
       " 'Disease deaths per day worldwide show there are only 56 COVID-19 deaths per day',\n",
       " 'A post claims to show \"\"survival rates\"\" of COVID-19 for a number of countries.',\n",
       " 'the US Centers for Disease Control and Prevention cut the national Covid-19 death toll by 94 percent',\n",
       " 'Covid-19’s infection fatality rate is 0.1%',\n",
       " 'The ONS has registered 4,122 deaths in 2020 due to Covid-19.',\n",
       " 'Daily deaths from cancer in England were in 450 in October.',\n",
       " 'Covid-19 death statistics have been manipulated.',\n",
       " 'The ONS have estimated that the restrictions across 2020 will have resulted in 200,000 non-Covid excess deaths.',\n",
       " 'The average age of death from Covid-19 is 82.',\n",
       " 'Obesity kills 30,000 people a year, or 82 a day.',\n",
       " 'a pandemic occurs exactly every 100 years',\n",
       " 'An article titled “COVID-19 Deaths: A Look at U.S. Data” was published in the Johns Hopkins student-run newspaper on Nov. 22, 2020, and subsequently retracted.',\n",
       " 'The Republic of Ireland’s COVID-19 hospital death rate is two-thirds of that in Northern Ireland.',\n",
       " 'From 21 July to 25 July the UK reported 426 Covid-19 deaths.',\n",
       " '33 people died by suicide during the first week of September in Northern Ireland.',\n",
       " 'Pandemics occur every 100 years.',\n",
       " 'COVID-19 patients are dying on the streets of Ecuador.',\n",
       " 'The return to universities could cause 50,000 deaths from Covid-19 without “strong controls”.',\n",
       " '24,641 die of heart disease every day.',\n",
       " 'A meme documents that plagues occur every 100 years.',\n",
       " 'CDC releases “actual cause” of over 200,000 US COVID-19 deaths',\n",
       " 'Pandemics recur every 100 years',\n",
       " 'The total number of COVID-19 deaths in the U.S. will be double the American death toll from the Vietnam War by fall 2020.',\n",
       " 'The chances of catching Covid-19 are 44 million to one.',\n",
       " 'COVID-19 Being Blamed For Deaths Primarily Due To Unrelated Causes',\n",
       " 'The recovery rate from Covid-19 is 99.9% to 99.994%.',\n",
       " 'In England the fatality rate is 50% higher than Scotland, at 20.9%.',\n",
       " 'On average there are less than 10 deaths a week from Covid-19.',\n",
       " 'Covid-19 kills no more than 0.1% of the people who catch it',\n",
       " 'The murder rate in Belfast was sixth highest in a list of cities in Europe (according to 2010 data).',\n",
       " 'Tanzanian president John Magufuli was murdered due to his views on COVID-19.',\n",
       " 'The number of UK deaths was 610,000 in 2000, 612,000 in 2003, 552,000 in 2011, 603,000 in 2015 and 616,000 in 2018.',\n",
       " 'This week the CDC quietly updated the Covid number to admit that only 6% of all the 153,504 deaths recorded actually died from Covid.',\n",
       " 'The Covid-19 death rate as a percentage of the population is 0.0024%.',\n",
       " 'About 1% of the population is infected with Covid-19 today.',\n",
       " 'The global COVID-19 death toll is 1.6 million.',\n",
       " 'Hair salons responsible for almost half of COVID-19 deaths',\n",
       " 'Covid-19 has a survival rate of 99.8%.',\n",
       " 'But how likely is that?']"
      ]
     },
     "execution_count": 11,
     "metadata": {},
     "output_type": "execute_result"
    }
   ],
   "source": [
    "idx_to_keep = [i for i in range(len(bertopic.model.topics_)) if bertopic.model.topics_[i] in [78, 519, 387, 107, 45]]\n",
    "[data['text'][i] for i in idx_to_keep]"
   ]
  },
  {
   "cell_type": "markdown",
   "metadata": {},
   "source": [
    "## Prevention (Face Mask, Vitamin D, etc.)"
   ]
  },
  {
   "cell_type": "code",
   "execution_count": 12,
   "metadata": {},
   "outputs": [
    {
     "data": {
      "text/plain": [
       "['Fauci is just another Deep State operative. We’ve always known masks can’t filter virus particles larger than .3 microns. ( covid particles are .125 microns) but what they can do esp in uncontrolled environment & worn by untrained ppl is spread virus via fomite transmission',\n",
       " '....ELDERLY ... IT MAY PROTECT YOU SOME....OTHERWISE THE ONLY USE FOR THE MASK IS TO MIND CONTROL YOU WITH FEAR GENERATION SO THEY CAN STRIP YOU OF YOUR RIGHTS. COVID19 DID NOT AND IS NOT GOING TO KILL BY THE MASSES. THROW THE FACE MASK AWAY',\n",
       " 'I haven’t seen any arrest for No face masks and no social distancing....so....this false flag has just broken the death grip you have on us law abiding citizens!!! Your comrades screwed you bad. 🤣 Riots have CURED YOUR COVID HOAX YOU MURDERER',\n",
       " 'All on this thread.... sheeple so much for science about effectiveness of masks some studies say they work others show they’re useless even if everyone at the rally got Covid at .99% survival rate maybe 10 out of 1000 die maybe. 10/1000 will die in auto wrecks.',\n",
       " \"Yeah. Right. Your defiance to masks and mask orders thus ensuring that this pandemic continues can only come from one of three places: the President the hack right-wing media that supports him or QANON and their ilk. If you actually did your own research you'd wear a mask.\",\n",
       " \"Noncompliance. PLEASE don't comply with wearing face diapers. This insanity has to stop. YOU need to end it now. There is no viral pandemic. TURN OFF MSM & IT ENDS This is an IQ test If you fell for the covid False Flag terror attack YOU created it.\",\n",
       " 'Recovering from Covid-19 at home that might have been avoided if a certain Orange Cult Leader had promoted mask wearing hadn’t called it a hoax adding fuel to the Plandemic fire and actually cared about someone other than himself.',\n",
       " 'One more thing this covid was nothing more than a PLANdemic EVENT 201 givin by Bill Gates in October 2019 I have not worn a mask but a couple of times since this began its not real they are putting fear into ppl to usher in the 💉 vax warn the people! ⚠️🙏🏼',\n",
       " 'Lone ranger wore mask w/ holes for EYES Not over his mouth. #YupHesThatDumb So Trump would be BLIND LONE RANGER!? While his mouth & nose remain open & clearly hoping to be lung raped by Covid Virus!? & implanted w/ covid baby-makers?#IncubatorLungDonny Genius.... Hi Ho Silver!!',\n",
       " \"The Spanish lockdown was particularly strict. In Spain masks must be worn inside and outdoors. Despite this Spanish cases skyrocketed throughout October. Mandatory distancing/mask wearing does not work. Boris's arbitrary coronavirus restrictions will achieve nothing.\",\n",
       " 'It’s horrendous but when I see people being harassed for *wearing* a mask for spreading a “false narrative of fear” during a global pandemic...I just have to think that there’s nothing left to do. You can’t force them even with a mandate. They think vaccines have microchips 😳.',\n",
       " \"Right? Especially considering the heart and vascular complications that pro/college level athletes are experiencing post-Covid. If that's what elite athletes are experiencing the everyday person is screwed if they experience severe symptoms. So why not just wear the maaaskkkk?\",\n",
       " \"Absolutely and no masks don't hurt anyone. Don't worry Helen lot's of us out there are conscious of the vulnerable & their needs like free access to healthcare social security and protection from Virus' like Covid19 Qanon Trump and Christianity. Best Regards Stay Well!\",\n",
       " \"No quarantine no masks The evil dog handler association meeting in place Queen: now how tight can we make the plebs leash? Scott: pretty tight Queen: I love to watch Boris at work He's in our evil satanic freemasonry movement too Jesus is the only answer guys\",\n",
       " 'The rest of the world who hasn’t awakened yet will be once it’s widely disclosed the masks and COVID19 is a big hoax perpetuated by the deep state. For all the normies to finally discover their health has been compromised by their own actions based on lies will set it off!',\n",
       " 'The thing is....Tam and WHO recommend NOT to wear masks as they could lead to false security and infect more people. While this Plandemic chick is clearly crazy I think you should be calling out Tam and WHO for making false claims about masks and helping to spread COVID',\n",
       " \"If they think it's an epidemic aka Plandemic now they will be in for a rude awakening as their health is severely compromised by wearking masks I'm immune compromised & don't wear a mask or gloves I like to keep my wee army of immune fighters strengthened not weakened\",\n",
       " 'The solution is to implant tiny explosive devices in everyone’s brain. Then when asked if they’d been around anyone without a mask they explode if they lie. If they have & tell the truth they get quarantined. It’ll be over in a month. One way or the other. 👍',\n",
       " 'Wearing a mask defeats the facial recognition software in all those surveillance cameras set up by George Soros Bill Gates and the rest of the Deep State globalist elite. Even if you don’t care about COVID-19 wear a mask to keep Gates & Soros from tracking your every move 😏',\n",
       " 'Covid was planned and funded to defeat the Right and instill worldwide chaos. It’s the flu and the MSM was paid to make it more than it is. Masks are a mind control devise and people are afraid to speak up. We have created a world of puppets to comply!',\n",
       " 'Way fewer than 100 people in a day before covid and interacted within 2 meters with only a handful. So why the fuk should I be forced to wear a mask? The chances I will actually meet and interact with a covid carrying Albertan is almost nil. Fuking sheeple Figure it out!',\n",
       " 'You wear a mask because you believe a lie. Turn off the news- research the truth for yourself. Zero risk for healthy people. The survival rate for this strain of corona is 99.01%. Masks and extra spacing are useless and a form of control. #scamdemic #scamdemic2020 #Plandemic',\n",
       " 'I bet you wear a mask in your car. Do you think you’re going to go through a cloud of covid? I can’t think of anything that shows an initial indication of Sheeple more than somebody wearing a mask while they’re driving in their own car.',\n",
       " 'What a pack of vicious sheeple there is no medical reason to wear a mask there are 7.000 pple in Victoria with a virus they are in quarantine why do the rest of the state have to be in quarantine too. This is gross over reach by ignorant cops.',\n",
       " \"We never had a Mask mandate in AZ.😷 Bars are open here. The horrid Comedy Club: Chuckleheads was PACKED NO MASKS NO SDing! Folk are acting like there is no virus here & folk have been coming down with a 'cold' all over town but nobody here goes to the docs! Its a covid farm.\",\n",
       " \"would love to but there are just too many levels [spiritual and material world ] to this covid stuff ... at this point one either 'gets' it or doesn't. ps: *not* a political tweet... masks should not be about politics 😇😀😉\",\n",
       " 'So 2020 for sure the year that conspiracies went REAL Spying on US president Covid plandemic Q David Icke Great Reset irony of the crypto link Vaccines Loss of freedom being tracked is ok..... MASKS WORK (Twats) Election fraud CB/DS V DJT. #nocoincidence #17',\n",
       " \"Thought we were on the same page about the whole Plandemic. I'm living in a country where we have to wear a mask when we leave our home or get fined. You wear a mask in the country incase you catch covid of the birds and Bees here. So yeah I see through the bullshit big time..\",\n",
       " \"Gov have changed tack new Regs ALL wear masks or be arrested yet Science tells us masks are ineffective. We're being forced to inhale our own carbon monoxide coupled with new 5G Electro Magnetic Fields. This doesn't bode well for our health. Then there's Covid?\",\n",
       " 'As of tues may 26th the alcohol beverage monopoly in Ontario has mandated that all retail staff Must wear plastic face shields… 74 days AFTER pandemic started stripping employees right of choice. Wear it or go home without pay! #iamawake #freedom #choice #WWG1WGA',\n",
       " 'UNBIASED TRUTH: Republicans are following Trump like pigs to the slaughter this Pandemic is being used as a Minority/Senior population reduction method “WEAR YOUR DAMN MASKS” Donald Trump should be charged with “Mass Murder” and executed by firing squad on Primetime TV...',\n",
       " 'Your “big mistake” was opening your mouth at all. You said mask-wearers would get COVID & you gave an approving callout to the crazy QAnoners. You keep trying to turn reality into your own fantasy world where the MSM always lies about you & Covid is gone. It isn’t working.',\n",
       " 'You wear a mask because you believe the lies shoveled into your TV. There is zero risk for healthy people. The survival rate for this strain of corona is 99.01%. Masks are useless and extra spacing along with the masks is a form of control. #scamdemic #scamdemic2020 #Plandemic',\n",
       " 'Humans: Covid19 is a hoax & I won’t wear a mask! You can’t convince me otherwise! Same humans: Wayfair is for sure absolutely 100% selling stolen children stuffed in prefab furniture & shipping them world-wide from their website. You can’t convince me otherwise! #WeAreDoomed',\n",
       " 'Hi George hope you’re not locked down with your busy schedule . How are you managing the COVID & travelling hope U R wearing a mask for us plebeians I don’t wear one I’ve decided against vaccinations 💉.What if I have a reaction to it. I watch with anticipation Thanks Jenny',\n",
       " 'Co-worker say his kids private school \"\"don\\'t give a flying fu*k\"\" (his words) about COVID - and if a kid comes in with runny nose coughing etc no problem. Masks? yeah whatever... Regular \"\"schools are making sheeple\"\" (again his words) I DON\\'T KNOW WHAT TO SAY!',\n",
       " 'They also know by distracting and dividing people (averting their attention) or creating fake stories to keep everyone fighting and in fear of each-other (like by a fake virus \"\"epidemic\"\") that will create distance and prevent people from joining together in protests.',\n",
       " 'text conversation from today me: \"\"I\\'m at aldi looking at a guy wearing a \\'covid is a hoax wake up sheeple\\' mask.\"\" friend with a reputation for peace and non-violence in the hospital for the past week with covid: \"\"punch him in the face for me.\"\"',\n",
       " \"From all the studies of experts in the field of RF 60GHZ summer time heat would greatly increase the effects as to where a virus would die down not increase like what is happeningit's all lies this covid cover it's also why masks wouldn't protect you from RF transmission\",\n",
       " \"My thoughts are these: If you are wanted for a crime and you choose NOT to wear a mask in a time of pandemic while giving an on air interview getting caught seems to be a forgone conclusion. People just can't help themselves can they?\",\n",
       " 'That wasnt what I asked though. Implant sickness just requires removal and almost always symptoms dissipate immdiately. Even reductions can cause longterm pain. Having large breasts causes longterm pain. Now what connection does cosmetic surgery have with the opiod epidemic?',\n",
       " \"The moment I was told that I should stay home because of the #coronavirus scare I jumped on a bus and visited at least 18 states no maskI have yet to meet a sick person and no one knew of someone dying from it it's propaganda masks are slave muzzles broI love America #QAnon\",\n",
       " \"See what you just did was gaslighting. Youre gonna tell us we're crazy and didn't watch the same town hall where trump said 85% of mask wearers get COVID and didn't denounce QANON. You're just gonna give us another reality? You need to book an appt for Nov 4 with your therapist\",\n",
       " 'F--- it! So fine believe what trump tells his sheeple and that Covid is over and done with. Don\\'t need your mask anymore!. We who believe in Science will win in the long run. As for me and my family we will wear mask. However I am told we have thousands of \"\"Ventilators\"\"',\n",
       " 'Nwo & Great Reset Plenty of evidence if u used ur cop on 2 SIMPLE Questions Where are flu figures? Why is there NO increase in death toll from the big scary pandemic? Deaths in 2020 were LOWER than 2019 U must be a halfwit a condition not helped by mask wearing',\n",
       " \"Resist tyranny through arbitrary dictates. Masking has nothing to do with caring. They aren't mind control but they are conditioning tools. There's no evidence that masking saves or has saved anyone. You had covid and lived to tell about it! Pretty sure I had it back in Feb\",\n",
       " 'I’ll wear a mask when hell freezes over. The virus is an utter #hoax. I eat corona for breakfast. If you can’t see the nwo satanic agenda here not only are you blind - you probably deserve to be masked for the rest of your life. Good luck mask wearing lemmings!',\n",
       " \"They wanted Depopulation they Got it. Covid19 is putting people at risk with Asthma by forcing face masks for long periods of time in work spaces. It's one thing to go in & out of a store. Covid19 is causing problems by breathing in old air thru masks😎\",\n",
       " \"The DemonRats don't want you to know this. They are endeavoring to kill you with the #WuhanVirus and if that doesn't work they'll deprive your brain of the O2 it needs to function properly so you will turn into sheeples and follow their commands! MASKS DON'T WORK!\",\n",
       " 'I hope you\\'re joking. That is the whole farce that is being played. You can\\'t make others sick if you\\'re not sick!! Covid supposedly is spread by \"\"droplets\"\" therefore the reason for the mask. If you\\'re not \"\"sick\"\" you are not coughing and sneezing you are not spreading droplets',\n",
       " \"Then supplement Vitamin D3 K2 to reduce Covid risk by half and ICU admittance by 97% and wear a mask. No need for forced vaccinations or invasive tracking. Just saying just in case - don't support control freakish agendas.\",\n",
       " 'Meaning that the mask / lockdown / covid procedure protests are fantasy-based as Qanon then let’s look at facts strictly from the mainstream media and government agencies. Although I’m in the US we’ll start with info from the UK.',\n",
       " \"This conversation makes me wanna commit suicide I swear if you don't believe in COVID than just walk through Walmart or go to a hospital with your mask off and I'll make sure to remember you in the mass graves.\",\n",
       " 'It is TRUE!!! It is a Covert Mil OP! Think LOGICALLY…. POTUS45 sends 30000 troops to Europe w/o MASKS?!? Only #HollyWeird & Politicians & Italy = #EvilVATICAN shut down? Hanx & wife test ? Certain Others #COVID19 WHY?? #AdrenoChrome was tainted by with COVID19 Virus!#EvilMSM',\n",
       " 'She must be a liberal teacher. Definitely Ignorant let’s skip over the fact mask don’t work and they’re unconstitutional and go right to the fact Covid19 was a false flags. Labs are getting busted all over for massive amounts of false positives. If Covid19 is SO bad by pad #s.',\n",
       " \"It saves a lot of time. Plus no matter how unintelligent I feel I'll eventually run into someone arguing that wearing a mask in public will turn me into a soyboy and Soros is spreading COVID-19 in chemtrails and then I feel smart again.\",\n",
       " 'When will you arrest Cyril Ramophosa for being part of this Plandemic? Do you realise Covid-19 is a hoax and that wearing a mask: - increases hypoxia (suffocation) - increases stress hormones - kills brain cells Ramophosa is deliberately burning this country to the ground',\n",
       " \"Other than the fact #Masks don't track you. Other than the fact #Masks aren't permanent. Other than the fact #Masks are like apparel. That other government control item. Other than the fact #Masks protect you from deadly #COVID even if the #QAnon conspiracy theory is true.\",\n",
       " \"The mask mandate is ridiculous and does not keep you or anyone from catching covid-19. Do your research and I don't mean to listen to the media and government pertaining to this Plandemic and fake numbers. Give people a choice and stop this socialist agenda to wear mask!\",\n",
       " 'Indoctrination by those that run the world. Seriously you are incorrect to think healthy people should wear a mask. Plandemic not pandemic. The virus can differentiate between those shopping at Walmart and those shopping in a ma and pop shop? Use your God given brain.',\n",
       " \"He also refuses to wear a mask in the workplace. Started the pandemic saying that it was a hoax. Months ago says he won't get vaccinated because it'll have microchips. Now currently wondering why he can't get his vaccine before anybody says his pre-existing condition is smoking.\",\n",
       " \"I wonder if mask wearing would have been all the rage amongst conservatives if they had stuck with the conspiracy theory of COVID-19 being a Chinese bioweapon which was only shut down because Trump didn't want to be responsible for handling that either.\",\n",
       " 'America is tired of the MAGA and QAnon dolts spreading misinformation and outright lies. Being required to wear a mask during worldwide pandemic is no more a violation of your rights than being required to wear your seatbelt when you drive.',\n",
       " 'Let me add though that Covid 19 is a bioweapon. It is no joke. Protect the elderly and immune compromised. First sign of symptoms get tested and treated with hydroxychloroquine zinc and Z pack. There is a cure use it. Get rid of the damn masks. Live your lives. WWG1WGA',\n",
       " 'Masks do not work it never has and it never will. Masks are symbolic. Literally states on the box it does not protect you from Covid or any other virus. Masks are useless. Now the six foot thing I am good with that. I don’t want to be around most people anyways.',\n",
       " 'I wish ppl are more kinder to Govt’s efforts. Centre/State both. No one was prepared for a pandemic of this quantum they are trying to counter it. Think what can you do to help - Wear mask stay indoors remain healthy physically & mentally. Be kind.',\n",
       " 'The mind control tactics/manipulation the news portrays will not work on people too much longer. They are waking up and realizing this whole pandemic is a mess. How do you have to walk into a restaurant with a mask but publicly dine without one??',\n",
       " \"According to a COVID denier and anti vac person I'm suffering from cognitive dissonance or I'm a Freemason - because I support vaccination / mask wearing. No. I'm a person from a grieving family. I'm also 'clinically vulnerable' I WON'T take chances with lives.\",\n",
       " 'I was more offended than afraid of him. He called me \"\"an old bitch who was gonna die anyway\"\" when I merely asked him not sit in a closed seat. He then told me COVID was less harmful than dirt and I looked stupid in my mask.',\n",
       " 'Headline will be like “2000 more deaths due to COVID reported today- Vaccine distribution ramps up” and they will respond “and yet you say masks work HAHA SHEEPLE 😂” and their profile picture is them with a bad perm and an overlay of an American flag',\n",
       " 'Because people refused to follow them and got violent over refusing a mask not going out to party etc. Don’t underestimate the power of stupid people in large groups. That and leadership failing to acknowledge the threat that Covid is created this mess.',\n",
       " 'one dozen homeschool moms named rhonda cross stitching me custom face masks with patrick henry’s face on them so that i can destroy covid germs with white hot christ-centered liberty this is why the antichrist pees his leotard rather than face me in the streets',\n",
       " 'Tell the local governments. People are losing their goddamned minds. Implementing mask mandates and the sheeple just follow along and shame anyone not doing it. My state has about 100 deaths and their acting like wuhan=ebola.',\n",
       " \"There's a new activist group called Keep Britain Free devoted to Covid mask and lockdown scepticism (and affiliated with QAnon). Founded by one Simon Dolan resident of Mustique and Monaco who financed Icke's documentary about himself.\",\n",
       " 'If you are vaccinated. Can\\'t get it carry virus why do you have to wear a mask? Is it a \"\"false sense of security\"\"? Everywhere I go everyone is wearing a mask. Yet covid is on the rise. Tell us \"\"Doc\"\" why is that?',\n",
       " \"It's a fact. But the again Trump rallies with out masks following social distancing are bad because of COVID. YET ITS OKAY FOR ALL THESE RIOTERS TO BREAK ALL OF THE RULES BUT THEY ARE GREAT. WE ARE NOT BLIND. WE ANNIHILATE YOU ALL ON NOV. 3RD.\",\n",
       " 'Just say it man. Full blown communist regime. NWO. Give the sheeple what they want. Masks mandatory quarantine away from their families with strangers in random hotels including the mandatory weekly vaccines. Let everyone work out with masks twice a day and throw in a bone or 2.',\n",
       " 'Isn’t it clear yet There’s no deadly pandemic Lockdowns destroy society Vax unnecessary 99.5% survive Masks unnecessary Flu’s been rebranded but will return next winter Many more will die from lockdown than from plandemic SHUN SAGE propaganda and start living again!',\n",
       " \"We ain't outta the woods quite yet ma'am. 80 new cases in just a day... Variant of COVID found in patient in Natrona cty this week. Keep wearing that mask because your fellow Wyomingites are #PeopleNotSheeple and could still get COVID from you without you ever knowing.\",\n",
       " 'Must Do to Counter Democrat Masks Scheme! Trump MANDATES Nationwide plan REQUIRING All Concerned contracting COVID Virus MUST WEAR a Mask! That leaves the rest of America free to NOT Wear one and Totally pees on Libs Narrative! #qanon #maga #TheGreatAwakening',\n",
       " \"O-kay! Flu - has vaccination! Thus can be prevented or at the VERY least the effects of same greatly diminished. Covid-19 - no vaccination as yet. Masks are a way to diminish the spread of it if people have to be out and about. Jesus wept. It's not quantum physics.\",\n",
       " 'I was just pack-harassed & discriminated against at a gas station in Missoula Montana for not having a mask on. A city with ONE Covid death!!! People with disabilities can’t even leave their homes now!!! Does my life matter?',\n",
       " 'I’m not here to convince you. I choose to believe masks and social distancing can slow the spread and you believe that bill gates the deep state and george soros engineered this pandemic just to make sure trump doesn’t win. I know I’m not going to convince you otherwise. Enjoy',\n",
       " 'Wearing a mask is only effective to stop you from stuffing sugar and carbs into your pie holes. Obesity will kill 10-20x more people then COVID ever will. But keep following that shiny penny sheeple. Back to bacon and deadlifts.',\n",
       " 'You make a good point. I wear the dammed thing for one hour a week. My choice. I could make that zero. I’m finding some of the anti-mask anti-vaccine and covid-deniers are becoming rude and insulting. “Fucktards” “open your eyes” “sheeple” “brainwashed” etc.',\n",
       " \"God forbid the reason Offguardian and co (who have yet to comment on this article🤔) feel they have the luxury of bashing all us frightened sheeple who wear these masks is cos they themselves don't have to take a crowded tube every day to their job at a Covid ward or meat factory\",\n",
       " 'Glad you noticed idiot! There is only one solution and that is to \"\"Open Up The Country\"\" NOW! We will never be controlled or forced to be tested tracked traced or take your Nanobot Microchip Vaccines! FAKE PANDEMIC! I don\\'t wear a mask or keep my distance either.',\n",
       " 'Mother Nature has all the answers the Earth is CONSCIOUS she\\'s our Mother so I don\\'t understand why ya\\'ll trying to force COVID19 fear on people when DOCTORS at the SUPREME COURT clearly just stated we DON\\'T NEED masks and it\\'s an hoax \"\"The Deep State\"\" got ya\\'ll in fear',\n",
       " \"Drop the mask mandate!! It's garbage you know it is!! This plandemic is ruining America! Stand it be a true leader and let the masks go.... I seen other state reps stating it didn't matter how you died as long as you had covid 19 in your body it's marked a covid death#all wrong\",\n",
       " 'Have you never seen riots or protests before COVID-19 Wearing Masks covering up faces is the norm. Interesting when this happens in USA it must be Soros & Conspiracy Theories. When it happens in other countries everyone is telling them to rise up & fight 🤦\\u200d♂️',\n",
       " 'The video is joking that the conspiracy theorists think that the masks are part of the bill gates Covid vaccination population control microchipping & super surveillance civil rights destroying Soros MSM fake news anti TrumpAmerican/British/(insert other) agenda!!! (I think)',\n",
       " 'The covid tests are 98% -100% false positives. People that are healthy are showing up positive get retested and then its negative. Masks are clinically proven to not stop virus particles too. And people say this plandemic isnt a hoax? Wow',\n",
       " 'Same thing with BLM and Antifa protests they are not suppressed because of the \"\"pandemic\"\" while Christian and anti-lockdown protests are always suppressed. The double standard is obvious and ridiculous exposing the \"\"pandemic\"\" for what it is a big hoax to push their NWO agenda',\n",
       " \"Has anyone informed this dummy that Carbon filters even the 2.5 filter filters down to PM0.3 and #COVID19's particles are PM0.125? again hun you continue to be on the wrong side of history. Maybe you should stop cashing those George Soros checks.\",\n",
       " 'as a republican trump supporter i think the government implants covid onto masks. my mom tried on her mask in her house for fun and immediately got covid. i don’t wear masks and willingly walk into large crowds without one and i never got covid. trust the process.',\n",
       " \"Why doesn't your mask keep you from talking? At least now you can't sniff hair & kiss children at the swimming pool. Is your mask in lieu of restraining orders like ankle bracelets Were YOU Covid Patient Zero & spread it across America with your sexist behavior? #WWG1WGA #Qnon\",\n",
       " 'Regardless of the total effectiveness of masks leaders have greater responsibilities than others. You do things to set an example. They wear masks sometimes. Are they sheeple? Also non-mask wearing GOP caught Covid. Terrible optics. Terrible management of Covid.',\n",
       " 'The NWO don’t care about U or your health . If Ufollow their advice you will weaken your immune system thru mask wearing over use of hand gel and not mixing with others . Of course it’s a ‘win-win’ for th elite when thousands R ill over winter as they can blame it all on covid',\n",
       " \"If COVID-19 was what the media wants us to believe it is you wouldn't need any curfew or lame laws about wearing masks to keep Kenyans at home. Tanzania saw through the bullshit being peddled. Look through the veil you will see the real agenda the New World Order.\",\n",
       " 'so apparently the clowns are gunna purge the night before halloween , i can’t wait to go clown hunting — Tyler Whalon (@Whalon22) October 14, 2016',\n",
       " 'WRONG! Never heard of so-called”ban”-but that’s NOT Mr. Jones in Vader costume-He NEVER did press for #SW & certainly never in #DarthDrag! — Mark Hamill (@HamillHimself) August 29, 2017',\n",
       " 'By “parasites” they mean unborn babies in the womb. This is truly despicable… pic.twitter.com/0TuGX0taeU — Obianuju Ekeocha (@obianuju) May 22, 2019',\n",
       " 'Americans have the natural right to speak and protest freely; it is not a right to throw Molotov cocktails and beat people who assemble peacefully while hiding behind a mask. My bill adds a penalty for doing so to the decades-old civil rights statutes — Dan Donovan (@RepDanDonovan) July 11, 2018',\n",
       " 'Clown Mask To Be Banned In USA; Wearing One Could Cost You A $50,000 Fine via @thehuzlers — sweet_legacy ☯ (@sweet_legacy) October 7, 2016',\n",
       " 'BREAKING NEWS:Trump Just Declared To Ban Full-Face Veils In Public Places. Do You Support This ? pic.twitter.com/ygE8EOb300— Sonlight (@JOEROWE409) February 4, 2017',\n",
       " 'BREAKING: Trump Just Declare To Ban Full-Face Veils In Public Places. Do You Support This ? pic.twitter.com/9pmmMoYeva— DonaldTrumpNews (@NewssTrump) January 31, 2017',\n",
       " \"My mom won't stop telling me that studies have proven there is poop in ppl's beards..... — boss boy tato (@nathanrain1) March 14, 2017\",\n",
       " 'take off the mask and smell the bullshit, you dumb fucking sheep. PROOF THAT THERE IS NO PANDEMIC #CovidHoax #Covid1984',\n",
       " \"Are you fully vaccinated? Take off that mask. Stop playing hygiene theater. And don't feel bad about it for one moment. My latest @JoinPersuasion.\",\n",
       " \"@LarryVSalzman @SwingTraderCO Yes it is. God didnt make humans to have masks around our mouths. The pandemic is over if you're vaccinated so get over it. the vaccine gives you 100% immunity. So what the hell are you thinking still wearing a mask?\",\n",
       " '3/x @CDCDirector is studying how well double-making works, but a lot of folks, including Dr. Anthony Fauci, have said \"\"it just makes sense\"\" and have started doing it—I have too! I use a KN95 with a construction mask over it (like a surgical mask, non medical grade)',\n",
       " 'How many masks are you wearing today? 2? 3? 4? 10?',\n",
       " '@UsforThemUK All parents should instruct their children to decline to wear mask now. There is zero evidence of a spike in infections. Gradual easing was to see if relaxation affected data. The only imp measure, hospitalisations, dropping . Ergo: schools are SAFE. #NOMASKSINCLASS',\n",
       " '@latimes take off the mask and smell the bullshit. PROOF THAT THERE IS NO PANDEMIC #CovidHoax #Covid1984',\n",
       " '@mrgunn @FatEmperor *After 6 months of masking, there’s no data showing it has prevented death or spread.* ALL the data shows the opposite actually. Yet, families get kicked off flights, people cant shop in person and real harm is happening. Still birth rates up from masking pregnant women in labor.',\n",
       " 'Last week a study conducted by the CDC found that masks were a key factor in stopping the spread of COVID. This is another reckless and dangerous move from the Governor of Texas.',\n",
       " \"@fam_Denn In case your trying to catch up masks don't work. Never did. Sheltering your immune system doesn't work either.\",\n",
       " \"If you haven't been double masking, now's probably the time to start: We know at least the UK variant, which is more transmissible than other variants, is spreading rapidly. But there's a right way and a wrong way to do it: 1/x\",\n",
       " \"@sanderabernathy @wafflepop @AlecMacGillis Pandemic is over, kiddo. Cases are nearly nonexistent, deaths even lower. It will essentially be at this level forever. In LA people aren't wearing masks anymore and our cases are low. We still have a mandate in some contexts but no one follows it. So stfu, k?\",\n",
       " 'Hahaha. Nice try. One gym in the entire fucking country doesn’t a case make. You guys are pathetic. Masks don’t work. And gyms are 100 percent safe. And necessary since covid is mostly an obesity disease. .',\n",
       " 'Stanford study quietly published at proves face masks are absolutely worthless against Covid” -',\n",
       " 'Now the CDC is recommending Americans wear masks \"\"anytime\"\" they are indoors or outdoors with people they do not live with.',\n",
       " '@johangreg @rick4289 @cnnbrk Pandemic is over. Keep wearing your mask while vaccinated, stay home forever in your safe space, and keep being a sheep though.',\n",
       " 'The President of the United States when Texas and Mississippi announced they were lifting mask mandates: That’s “Neanderthal thinking” Reality 5 weeks later: Hospitalizations in enlightened, progressive masked states Michigan, New York & New Jersey are 164% higher',\n",
       " 'Folks, if you’re fully vaccinated — you no longer need to wear a mask. If you’re not vaccinated yet — go to to find a shot, and mask up until you’re fully vaccinated.',\n",
       " 'Man Can’t Wait To Get Vaccine So He Can Go Back To Isolating While Wearing A Mask But Now Doing So While Vaccinated',\n",
       " 'The science is clear: If you are vaccinated against #COVID19, you are safe. The vaccines work. You can take off your mask & are not at risk of severe disease or hospitalization. If you are not vaccinated, you are not safe. Please get vaccinated or continue to wear a mask.',\n",
       " 'Exclusive: People who wore masks were less likely to get sick',\n",
       " '@washingtonpost Just a quick question! Why wear masks if you took the vaccine? Or taking the same precautions as before taking the vaccine',\n",
       " 'Take off the masks. This is theatre right now - because hundreds of millions of Americans are vaccinated naturally (they had Covid) or by a pharmaceutical company.',\n",
       " 'Spoke to a doctor friend - masks are only meant to be used short term in a controlled environment (e.g., surgery). Wearing a dirty mask all day has a good chance of increasing respiratory health risks.',\n",
       " '@CNN @CNNOpinion We’ve been living without masks for over a year now. The pandemic is over, lose the masks lol',\n",
       " 'When is the end game? Sad thing is, people will continue to wear a mask if this scam ever ends.#unmask #scamdemic #POTUS',\n",
       " 'Texas - we hear you. You didn’t want to be part of our electrical grid. And now you’ve removed your mask mandate & are allowing large crowds to gather. We hear you! COVID is a hoax! So u don’t need our precious vaccine. We’ll send it to ppl who are saving lives by wearing masks.',\n",
       " '@RawStory take off the mask and smell the bullshit, you dumb fucking sheep. PROOF THAT THERE IS NO PANDEMIC #CovidHoax #Covid1984',\n",
       " 'How about my Harvard transcripts? Would those suffice? Your assumptions are the problem. Some gyms require masks. Airplanes aren’t totally safe. Airlines are booking middle seats.',\n",
       " \"Children can't have too many red envelopes. And this time a really special one. Containing masks and #COVID19 prevention instructions, it helps the pupils get well-prepared for the new semester.\",\n",
       " '@BenBonnema @TraderJoesUnion lol 90% of these “medical conditions” are... being white and too manly for a mask.',\n",
       " '@DavidBo98115220 @katewand @WG_Gervais @Bret_Sears Masks protect no one. They turn droplets, that would have fallen to the ground in a predictable pattern, into aerosols that are carried through the air for up to 30 feet. This article is written by an expert with a PhD in Chemistry. It is worth a read.',\n",
       " 'In the early days of the ChinaVirus hoax, homemade masks on Etsy all disclaimed they did not stop the transmission of viruses/Covid. Months later, they are lifesaving immunity, better than your God-given immune systems. SERIOUSLY?? 🤔 YOU ARE BEING LIED TO.',\n",
       " 'Double masking is where it’s at.',\n",
       " 'Fauci Says We Can Fight Virus By Wearing Up To Three Leeches',\n",
       " '@JoeSilverman7 @AF632 We double mask in hospitals, so.... #ConvictTrump',\n",
       " 'Andrew Yang for Mayor: He\\'s Sorry, He\\'s Trying to Remove It (unless \"\"it\"\" is a foreskin)',\n",
       " 'Guns protect, masks don’t',\n",
       " \"The simple secret: Vitamin C, Mineral Zinc and Vitamin D3. They simply don't want you to know. It's that simple.\",\n",
       " 'This officially disqualifies those mask fines several of us have for not wearing a mask on the House floor that Speaker Maskhole is trying to take out of our salary. The highest paid employee of the Federal Gov and Covid expert says masks don’t work! #FireFauci',\n",
       " \"Dear Christians: if you don't mind being forced to wear a mask while the government closed your churches, how are you going to resist the Mark of the Beast when it comes? It's time to toughen up.\",\n",
       " \"Infectious disease expert warns double-masking 'can do more harm'\",\n",
       " '@corinhoggard Yeah, Corin, let’s trust King Fauci-the man who lied to the American people in March 2020 saying we didn’t need masks. Virus wasn’t anything to worry about. Now 1 mask, now 2 masks. 6 feet, now 3 feet. This guy changes tune every week. Real scientists from Stanford reject him.',\n",
       " \"These ridiculous mask guidelines need to end. At some point, we have to return to common sense. It's time for people to live their lives.\",\n",
       " 'In a packed Senate chamber with stenographers and colleagues just feet away from him, @RandPaul refuses to put on a mask - and puts the health of everyone around him at risk. This isn’t political. WEAR. A. MASK.',\n",
       " 'New CDC guidance released today said if you are fully vaccinated, you don’t need to wear a mask outside anymore. Yet, fully-vaccinated Biden today 👇🏼',\n",
       " \"@AlexBerenson @pfizer @moderna_tx Forget the data for a minute...if the vaccines worked as well as we have been told, do you really think the epidemiologist would encourage mask use after vaccination? Those two things don't add up. Its obviously not as effective as we are being told.\",\n",
       " '@LozzaFox Lack of seals at the edge of masks is not the only problem. Even the best N95 masks only filter down to 0.3 microns, whereas covid particles are 0.1 microns. That a mask mandate introduced in Summer has utterly failed to stop the ‘second wave’ only confirms the bleedin obvious!',\n",
       " '@dommyjonny11 @DrEricDing @RonDeSantisFL Because we are not as easily fooled and do not accept govt/medical authoritarianism. Masks are not doing anything for you except maybe causing more spread. Florida in the US is faring far better than other large states that have mask mandates and closed schools.',\n",
       " '@KING5Seattle • You don’t need 4 masks after receiving the shot.',\n",
       " '\"\"you realize how disgusting your [yt people] your country is???\"\" - CIC Gazi Y\\'all be wearing cloth masks?! 🤮 It\\'s literally more dangerous than wearing NO mask at all!!!',\n",
       " 'Before the vaccine, Democrats didn’t wear masks at five star restaurants and salons. Now after the vaccine, they still make you wear a mask.',\n",
       " '@politicususa take off the mask and smell the bullshit, you dumb fucking sheep. PROOF THAT THERE IS NO PANDEMIC #CovidHoax #Covid1984',\n",
       " 'Need to cop one of these ASAP (via @ImKASHAMA )',\n",
       " 'Double Masked CNN Reporter @randikayeCNN Aghast at Maskless, Drunk Super Bowl Crowds in Tampa: I Asked the Police, ‘What Are You Doing About This?’ via',\n",
       " 'KEEP WEARING THE MASK—We card-carrying epidemiologists (with formal doctorate in epidemiology) know what we are talking about. Vast majority of 700+ epidemiologists surveyed says we would keep wearing masks for 1 year or longer. #COVID19 #MaskUp',\n",
       " 'The CDC says if you are fully vaccinated, as I am, you can \"\"resume activities without wearing a mask or physical distancing\"\". Well guess who contracted COVID from a fully vaccinated co-worker who has already had COVID once already... be careful there is still much to learn.',\n",
       " '@MarionFiedlerTN Pretty song... but this pandemic is over. Breathe fresh air (not through a mask).... get some vitamin D on your face. 😊😊',\n",
       " '@NoScopedJfk23 @joachimorjoe @stylebender Mask do nothing lol.',\n",
       " '@ElijahSchaffer Mask do nothing. Wore mine, only went work (where everyone else wore a mask), stayed as far away from people as possible and still got it.',\n",
       " 'Keep it up, @TuckerCarlson. Asian woman walking in Manhattan bashed with hammer by stranger demanding victim remove mask',\n",
       " \"Why does Joe Biden still wear a mask if he's been vaccinated twice?\",\n",
       " '@Jim_Jordan As an American I feel safer around a mask wearing immigrant than a conservative who beats a police officer to death on the steps of the Capitol with an American flag.',\n",
       " 'Researchers in Mexico have made a nose-only Covid mask, which they say reduces the risk of infection of coronavirus during eating and talking.',\n",
       " \"People dunking on Peter Alexander for asking this question not realizing that they are *proving* the virtue signaling that constitutes much of outdoor mask wearing. It's mask symbolism, not science. And that's the point Alexander was making.\",\n",
       " 'Vitamin D is more effective than masks. 👇',\n",
       " '@USATODAY take off the mask and smell the bullshit. PROOF THAT THERE IS NO PANDEMIC #CovidHoax #Covid1984',\n",
       " 'Stop wearing face masks. #coronavirus',\n",
       " 'We do not have a federal mask mandate. I’m sorry you live in a slave state. I live in a state where masking is a choice. States without mask mandates have lower infection rates than states with severe lockdown and mask policies.',\n",
       " 'Increase your protection against the virus. Two masks are better than ONE.',\n",
       " 'Fauci’s emails showed that masks were pointless, but that isn’t stopping the Great Reset',\n",
       " '@GirMenon \"\"Stanford Medicine says it \\'strongly supports the use of face masks\\' to prevent the spread of COVID-19\"\"',\n",
       " '@TomCottonAR HELP FIGHT AGAINST THE BULLYING OF KIDS FORCED TO WEAR FACE MASK! THE PANDEMIC IS OVER!!!! Please help AMERICANS GET BACK TO OUR FREEDOM RIGHTS...PEOPLE ARE SHEEP N IT CAUSES FIGHTS IF SHEEP SEE THE SMART ONES NOT WEARING A PHONY FACE MASK!',\n",
       " '@GovMikeDeWine @OhioVets Pandemic is over. Lift the mask mandates. Masks don’t work anyway. Big drop in Ohio cases for Monday!',\n",
       " 'Stanford study quietly published at proves face masks are absolutely worthless against Covid',\n",
       " \"@NebraskaMegan Virtue signaling - Masks don't work or they would have worked already. The decades of RCT of other respiratory viruses with medical masks, cloth masks, etc. all show the same thing - they don't work. They have negative impacts though - so you are pushing to harm others\",\n",
       " \"@odanu @mtgreenee @CoriBush Masks don't work. You're a fool if you think that flimsy thing on your face is going to protect you.\",\n",
       " 'One of the leading public health experts in the country says true IFR for Covid-19 is just 0.15%, which is barely above the 0.1% for the flu. Unless the virus really did come from a lab instead of nature, no more lockdowns or masks. Back to normal.',\n",
       " 'Got the Covid vax? Do you like being LIED to? Because you’ve been led down the primrose path! I still can contract/transmit covid, wear a mask, stay home and avoid travel, PLUS I need bonus boosters indefinitely?! #orpol',\n",
       " 'Masks didn’t work Masks don’t work Masks won’t work End Mask Mandates Everywhere.',\n",
       " '@petezjunior @GovMurphy Texas/Florida did way better than NY/NJ without dumbass restrictions. Masks are useless. Pandemic is over.',\n",
       " 'Where’s Joe’s mask? Where’s the media screaming about CDC guidelines? He’s indoors with elderly people with health issues without a mask and within 6 feet... OOOOOOMMMMMMMMGGGGGG!!!! Nolte: Bidens Go Maskless During Visit with Elderly, Frail Carters',\n",
       " '@NYGovCuomo Remember folks wear double and triple masks so bacterial pneumonia can set in',\n",
       " 'This is a very important study on vitamin D and Covid-19. Its findings are incredibly clear. An 80% reduction in need for ICU and a 60% reduction in deaths, simply by giving a very cheap and very safe therapy - calcifediol, or activated vitamin D.',\n",
       " '#Hogan fat man get the lead out of your butt !! Should have done 3 months ago !! #Masks are BS !! Mask help to Kill you, breathing your own waste',\n",
       " 'Just reading about UK Delta variant deaths and they’re like 12 fully vaccinated people died. But let’s open up and take off masks?',\n",
       " '@seanhmccabe @chemicallycammi @cherese88419639 @DrMikeMendoza @CountyExecBello @WHEC_JLewke I think there needs to be more discussion about the health risks associated with prolonged masking ... the science is very clear that obstructing air passages could have significant negative health impacts. I’d be happy to share the data if anyone is interested.',\n",
       " '@JoeBiden no pandemic because they blocked this bill. Pandemic is over. I just through a party with 15 people over no mask no distancing.',\n",
       " 'Fact check: A graphic shared on social media falsely suggests that wearing a mask will cause bacterial infections and hypoxia. Reuters has previously debunked claims that masks can cause bacterial infections',\n",
       " 'Finally a peer review study on masks! A recent Stanford study released by the NCBI, which is under the National Institutes of Health, showed that masks do absolutely nothing to help prevent the spread of COVID-19 and their use is even harmful.',\n",
       " '@lmcgrew I have not been willing to comply the whole time, so I have not been able to go in public, other than walking or running around my neighborhood. \"\"Science\"\" did not demonstrate that masks as ppl use them are effective until 2020. It\\'s about behavior control, not health.',\n",
       " 'Friends, a simple example of how we know ChinaVirus Covid is a hoax. Seriously, ask yourself why there are countless masks discarded everywhere, yet your state health department isn’t providing hazmat containers to contain the biohazard released in the dirty face diapers. 🤔',\n",
       " 'CDC does not currently recommend the use of facemasks to help prevent novel #coronavirus. Take everyday preventive actions, like staying home when you are sick and washing hands with soap and water, to help slow the spread of respiratory illness. #COVID19',\n",
       " \"In Las Vegas the employees who have been vaccinated twice can stop wearing their mask, the ones that have been vaccinated once can wear their mask under their nose, you can't make this stuff up🙄\",\n",
       " 'The pandemic is over, it never existed, but we still require masks as a political statement to show you not only how low our IQ is but how progressive we are ✨❤️ For your saftey and ourrs #COVID19',\n",
       " 'Masks were never based on science They were worn to show membership in a cult',\n",
       " 'Trashed my masks & wearing this instead #VaccinesWork',\n",
       " \"With new variants of COVID-19 emerging, we can't let up now. When we wear masks and practice social distancing, we protect ourselves and those closest to us. Let's keep up our progress and go #allinillinois.\",\n",
       " '@dcexaminer @RandPaul I wish you would have asked him about the CDC report that states masks are less than 2% effective in both transmission and getting the virus. This is fear mongering to the highest degree to force the vaccine on the American People. I don’t stand for it.',\n",
       " 'A study shows that re-inhaling the air in your mask hydrates your lungs and boosts the immune system. — via @healthing_ca',\n",
       " \"Ted Cruz is now owning the libs by pretending he doesn't understand why it's important to wear masks during a pandemic\",\n",
       " \"He's essentially arguing we should wear masks forever.\",\n",
       " '\"\"I wear my mask because it saves lives and stops the spread. It’s what the science tells us to do.\"\" — @ClimateEnvoy John Kerry. John, can you show us on the chart when wearing masks began to \"\"stop the spread?\"\" Can you show any correlation, scientifically speaking?',\n",
       " \"I don't know if you're stupid or not, that's between you and your high-school transcript. What I do know is that enclosed mask-free spaces with poor ventilation give you a much greater chance of catching #COVID than a 5 hour non-capacity flight\",\n",
       " '@mauradolan After I get vaccinated my masks are going in the garbage. For you to say we “must still wear them” is absurd and authoritarian. Masks are not a religion - they’re an added precaution that vaccinated people have no use for. There is no science behind what you’re saying.',\n",
       " '@SusanooKyojin @britshaniece FOR REAL!!! We’re meant to be exposed to germs... TO BUILD THE IMMUNE SYSTEM UP. The more we isolate the sicker we get because we stay away from being exposed to germs that are immune systems are meant to fight off to built the immunity. People are now afraid of their own germs.',\n",
       " \"@EWoodhouse7 The pandemic is over. Masks will never stop any surge or new viruse. Masks stopping viruses is the stupidest thing I've ever heard of in many decades. Why do people put up with this insanity?\",\n",
       " '#FreeYourFace Masks are oppressive and nothing but a political tool. End the oppression!',\n",
       " 'Interesting messaging from the CDC that previously told you not to wear a mask',\n",
       " \"Since Maricopa County instituted its masks mandate last year, we've seen.... - almost 12x the number of cases; - almost 10x the number of hospitalizations; - and 9x the number of deaths compared to the time before the mandate. Masks do not slow or stop the spread of COVID-19.\",\n",
       " 'There’s a LOT of disinformation online about OSHA recommendations on masks and face coverings. But we’re here to help clear things up. The short version: Masks can save lives. Get the facts here:',\n",
       " 'Members of a large group, including adults, refused to wear masks as flight 2878 was preparing for departure from MIA-LGA. Repeated requests to comply with federal law necessitated their removal from the flight. The issue did not stem from a child under 2.',\n",
       " 'Get vaccinated or wear a mask until you do.',\n",
       " 'Wear a mask. Save lives.',\n",
       " 'The rule is now simple: get vaccinated or wear a mask until you do. The choice is yours.',\n",
       " \"Study: Masks 'Ineffective,' and could have long-term health consequences. We tried to warn you.\",\n",
       " '\"\"The typical mask you buy in the drug store is not really effective in keeping out virus, which is small enough to pass through material. I do not recommend that you wear a mask.\"\" - Dr. Anthony Fauci',\n",
       " 'Hello. Humans have survived since the beginning of time because of God-given immune systems not government-mandated masks. Goodbye.',\n",
       " 'The same Fauci who once said a mask was dangerous now says use 2 masks. Will 2 pair of glasses make us see better? 2 sets of headphones to hear better? 2 watches to stay on time? Makes “common sense,” right?',\n",
       " 'This is my Covid protection 💪 #MakeAmericaHealthyAgain It’s time to #FireFauci',\n",
       " 'Hundreds of people at the 2020 Republican National Convention in Washington, D.C., ignored mask-wearing and social-distancing recommendations as Trump officially accepted the Republican nomination.',\n",
       " 'Grandpa vaccinated and arrested for not wearing a mask?',\n",
       " 'Masks decrease oxygen intake, increase carbon dioxide intake, increase toxin intake, increase stress levels which directly impacts the immune system in a negative way making us more susceptible to illness.',\n",
       " 'The most reliable acne solution has always been and still is toothpaste',\n",
       " 'A Facebook post claims that wearing face masks causes oxygen deprivation, carbon dioxide intoxication and leads to permanent neurological damage, especially in children.',\n",
       " 'Wearing face masks can cause harmful levels of reduced oxygen.',\n",
       " 'Photos show the effects of wearing face masks on skin.',\n",
       " 'A Facebook post claims that a grocery store worker who wore a mask for hours at a time got a lung infection from “breathing in her own bacteria”.',\n",
       " 'Images showing skin problems after wearing a mask',\n",
       " 'UP Police arrested a goat for not wearing a mask',\n",
       " 'Wearing a mask to prevent the spread of COVID-19 is unnecessary because the disease can also be spread via farts.',\n",
       " 'Why Face Masks Don’t Work, According To Science',\n",
       " 'Black fibres on masks are worms and parasites',\n",
       " 'Delhi Police to Put People Not Wearing Masks in Jail for 10 Hours',\n",
       " 'China coronavirus: the correct way to wear a face mask',\n",
       " 'The UK’s police commissioner said that police have no power to enforce rules on people wearing masks in shops.',\n",
       " 'CDC gives contradictory mask advice for fires, Covid-19',\n",
       " 'The World Health Organization (WHO) says face shields are not effective in protecting against COVID-19.',\n",
       " 'No scientific evidence to support wearing masks',\n",
       " 'Robbers lacing face masks with chemicals',\n",
       " 'Wearing a mask increases risk of CO2 toxicity.',\n",
       " 'The official Costco Facebook page sarcastically told \"\"Sharon\"\" that her opposition to wearing a mask in its stores would someday be the subject of a documentary.',\n",
       " 'Man wearing CPI(M) masks made out of briefs',\n",
       " 'The vaccines won’t allow me to stop wearing a mask.',\n",
       " 'eating alkaline foods can help prevent contracting the new coronavirus, which allegedly has a pH between 5.5 and 8.5',\n",
       " 'Photo shows WHO advice says people don’t need to wear a mask',\n",
       " 'Turn wet wipes into face masks to protect against the novel coronavirus',\n",
       " 'A photograph shows U.S. President Donald Trump wearing a protective face mask during a visit to a Ford manufacturing plant in spring 2020.',\n",
       " 'These Lab Results Prove There Are Harmful Microorganisms on Masks',\n",
       " 'A post on social media has claimed that if a deaf person asks you to remove your mask you are legally required to make an adjustment.',\n",
       " 'Photographs depict persons who developed staph infections from wearing masks to prevent the spread of COVID-19.',\n",
       " 'Goat \"\"arrested\"\" for not wearing mask in Kanpur',\n",
       " 'In 2020, two school boys in China died suddenly after wearing face masks during physical exercise.',\n",
       " 'The white and blue sides of surgical masks serve different purposes.',\n",
       " 'According to a WHO report, the novel Coronavirus stays on cabbage for 30 hours. Therefore, people are advised to stay away from cabbage.',\n",
       " 'Wearing a mask can cause harm, vaccines have “killed millions,” hospitals are “incentivized” to report COVID-19 diagnoses, hydroxychloroquine is the most effective treatment for the disease, flu vaccines increase the odds of contracting it',\n",
       " 'Thieves are exploiting the coronavirus pandemic by dousing masks in chemicals that render people unconscious and then robbing them.',\n",
       " 'The new coronavirus is 400-500 micro and for this reason wide enough to be stopped by masks.',\n",
       " 'A Danish study shows face masks are ineffective at preventing COVID-19 infection.',\n",
       " 'The North Face refused to fulfill a clothing order to Innovex Downhole Solutions, a Houston-based oil and gas company, over concerns about the company’s environmental practices.',\n",
       " 'Patients should ask for thyroid guard during mammogram',\n",
       " \"Legionnaires' disease can be contracted from a face mask\",\n",
       " 'In April 2021, Israel lifted the requirement that everyone wear masks outdoors.',\n",
       " 'There aren’t any other countries that enforces mask-wearing mandates in “private car”?',\n",
       " 'Wearing a mask creates a pH imbalance in blood',\n",
       " \"A swab factory in Maine had to destroy medical supplies due to President Donald Trump's refusal to wear a mask during a visit.\",\n",
       " 'Children have little chance of dying of COVID-19. They have essentially no chance of spreading the disease asymptomatically. They face a series of risks from wearing face masks.',\n",
       " 'Eating papaya salad can help protect against COVID-19 infections',\n",
       " 'The Weeknd altered his face with plastic surgery.',\n",
       " \"Fauci's Email On Masks Conflicts With What He Was Saying Publicly\",\n",
       " 'Mask-wearing is ineffective and causes health problems from hypercapnia to bacterial infection.',\n",
       " 'Eating alkaline foods can prevent or cure COVID-19',\n",
       " 'BC Minister of Health warned against asbestos poisoning when using glory holes',\n",
       " 'A photograph shows Michigan Gov. Gretchen Whitmer not wearing a mask at a news conference announcing new COVID-19 restrictions.',\n",
       " 'Graphics show the exact probability of COVID-19 carriers spreading the disease if they or another person wears a mask',\n",
       " \"AAP's Kailash Gahlot addressed a gathering of civil defence volunteers who were not wearing a mask during COVID-19\",\n",
       " 'Democrats caught not wearing masks at White House in video',\n",
       " 'A photograph shows Dr. Anthony Fauci at a baseball game with his mask lowered below his mouth.',\n",
       " '10 hours jail for people without mask in Delhi and soon to be followed in Mumbai, Bangalore, Hyderabad',\n",
       " 'Wearing face masks creates a pH imbalance in the blood, masks are ineffective against viruses, wearing a mask will lead to increased face-touching.',\n",
       " 'Mandatory wearing of face masks invalid and unconstitutional',\n",
       " 'Wearing face masks carries health risks',\n",
       " 'Delhi police arrests for 10 hours for not wearing mask',\n",
       " 'research by scientists at the University of Queensland, Australia has proven that bananas boost immunity due to their vitamin B6 source and helps prevent coronavirus.',\n",
       " 'A Facebook post, featuring an article from The Age, claims it is “disability discrimination” for businesses to refuse people entry for not wearing a mask.',\n",
       " 'Blue surgical masks are sprayed with PTFE, which is harmful to humans.',\n",
       " 'MPs are not following workplace Covid guidance such as wearing masks.',\n",
       " 'the Centers for Disease Control and Prevention (CDC) does not recommend for healthy people to wear face masks',\n",
       " 'Dr Anthony Fauci changed his mind over wearing face masks.',\n",
       " 'The WHO does not recommend wearing masks in public.',\n",
       " 'In 2012 Firefighter Sebastian Gates gave up his oxygen mask to save a young girl and died later of carbon monoxide poisoning',\n",
       " 'Masks can cause fungal infection in lungs',\n",
       " 'Sudanese model, Nyakim, enters Guinness book of records for having the darkest skin tone on Earth',\n",
       " 'The WHO, CDC and New England Journal of Medicine warn against face masks over “severe health issues”',\n",
       " 'A police bulletin warns scammers are going door to door handing out face masks doused in chemicals that cause the wearer to fall unconscious, allowing them to rob the property.',\n",
       " 'Hypercapnia Occurs From Constant Use Of A Mask',\n",
       " 'Woman makes several claims about the usage of face masks.',\n",
       " 'Using face masks will cause children physical and psychological problems.',\n",
       " 'U.S. Sen. Rand Paul was right about unmasking before the Centers for Disease Control and Prevention (CDC) announced on May 13, 2021, that fully vaccinated people no longer need to mask in public or private.',\n",
       " 'Wearing face mask for 20 minutes will contaminate it with bacteria.',\n",
       " 'Genuine news report says Australian scientists found bananas prevent COVID-19',\n",
       " 'Mask wearing is statistically insignificant in preventing the spread of COVID-19.',\n",
       " 'Arizona State Rep. Joseph Chaplik argued against the effectiveness and necessity of face masks by pointing out that mask mandates have not been widely used to combat the spread of HIV.',\n",
       " 'A video screen grab shows U.S. Rep. Pramila Jayapal flouting mask rules in the Capitol.',\n",
       " 'Face masks can cause pleurisy because wearers are breathing in their own bacteria and an excessive amount of carbon dioxide',\n",
       " 'Study by US CDC found face masks do little to prevent the spread of Covid-19',\n",
       " 'US based Centers for Disease Control and Prevention (CDC) issued facial hair recommendations for novel Coronavirus prevention.',\n",
       " 'Woman in Singapore arrested for not wearing a mask',\n",
       " 'WHO issued warning against cooking with aluminium foil due to health concerns',\n",
       " 'WHO warns against consuming cabbage to prevent COVID-19',\n",
       " 'Face masks are ineffective against coronavirus as drywall dust can penetrate masks.',\n",
       " 'Disposable blue face masks were found to contain a toxic, asbestos-like substance that destroys lungs.',\n",
       " \"In a policy that established requirements for people to wear masks in most public settings during the COVID-19 pandemic, Oregon's Lincoln County said in June 2020 residents of color are exempt from the rule.\",\n",
       " 'A new scuba mask by Jeabyun Yeo will allow humans to breathe underwater without the aid of an oxygen tank.',\n",
       " 'White sides of the surgical masks are supposed to be worn outside',\n",
       " 'U.S. second lady Karen Pence did not wear a mask during the vice presidential debate in October 2020.',\n",
       " 'WHO Warns Against Consuming Cabbage To Prevent COVID-19',\n",
       " 'Bill Clinton and Jesse Jackson did not wear a mask at July 30, 2020 funeral',\n",
       " 'Masks caused second Covid surge in South Africa',\n",
       " 'Eating bananas is a preventative against the COVID-19 coronavirus disease.',\n",
       " 'UP police will conduct 30-day mask checking initiative',\n",
       " 'A Facebook post is correct in saying N95 masks, surgical masks, and cloth masks can be dangerous and/or ineffective in protecting against the spread of COVID-19 based on CDC and U.S. Occupational Safety and Health Administration (OSHA) guidelines.',\n",
       " \"The U.S. Department of Justice issued a card that exempts holders from wearing face masks on the grounds that it poses a health risk to them due to medical conditions they aren't required to disclose by authority of the Americans with Disabilities Act (ADA).\",\n",
       " 'Nigerian president gives unprotected handshake while wearing face mask',\n",
       " 'In an interview with “Meet the Press,” Anthony Fauci said that Americans will be required to wear masks indefinitely.',\n",
       " 'CDC issued facial hair recommendations to protect from novel coronavirus',\n",
       " 'people in Pennsylvania that do not wear face masks in public face a $500 fine and up to six months in jail',\n",
       " 'Residents will be fined and imprisoned in Pennsylvania for not wearing masks in public.',\n",
       " 'U.S. Surgeon General Jerome Adams has said that the general public should not wear or buy masks to protect against the spread of the COVID-19 coronavirus disease.',\n",
       " 'A California law specifically prohibits hotel guests from peeling oranges in their rooms.',\n",
       " 'Face Masks Alone Can Help In Preventing COVID-19',\n",
       " 'The FBI raided a synagogue in New York where masks were hoarded during COVID-19.',\n",
       " 'Because of the U.S. Centers for Disease Control and Prevention announcement on May 13, 2021, fully vaccinated people can go anywhere without wearing masks.',\n",
       " 'A photograph shows Queen Elizabeth wearing a yellow face mask during the COVID-19 coronavirus disease pandemic.',\n",
       " 'UV wands are endorsed by the CDC and a doctor',\n",
       " 'Philippine department of health releases guideline on appropriate COVID-19 face shields',\n",
       " 'On April 26, 2021, Fox News host Tucker Carlson said forcing children to wear masks outside is akin to “child abuse” and people “are morally obligated to attempt to prevent it.\"\"',\n",
       " 'Non-medical masks do not prevent the transmission of coronavirus',\n",
       " 'Indian health minister slaps citizens for not wearing face masks',\n",
       " 'CDC Recommends people shave their facial hair to prevent coronavirus.',\n",
       " 'A video of a man with dust from plasterboard - also known as Sheetrock or drywall - beneath a surgical mask shows masks are ineffective at protecting against viruses.',\n",
       " 'UttarPradesh police is running a 30 days mask checking campaign and those who will found guilty will have to pay a Chalaan or may send behind the bars for 10 hours.',\n",
       " 'Long-term face mask use causes lung cancer.',\n",
       " 'Vitamin D prevents coronavirus',\n",
       " 'Richard Rose of Port Clinton, Ohio died of COVID-19 after earlier vowing not to buy a face mask and dismissing advice to use face masks as \"\"hype.\"\"',\n",
       " 'Dr. Anthony Fauci blamed mask use for the majority of deaths during the 1918 flu pandemic.',\n",
       " 'According to a \"\"National Mask Code,\"\" unvaccinated people will have to wear red masks, be restricted from travel, voting, and commerce, and undergo a three-month lockdown. Vaccinated people will wear blue masks and be allowed some travel, regulated commerce, automated voting, and required social distancing.',\n",
       " 'A cowed stooge berating me on the train for not wearing a mask proven to be ineffective against a disease which peaked in March was pretty much the final straw for me.',\n",
       " \"Wearing a face mask causes cancer due to oxygen deficiency and an imbalance in the body's pH levels.\",\n",
       " 'A photograph of non-respirator ear loop mask packaging demonstrates that such masks are ineffective at protecting against the spread of COVID-19.',\n",
       " 'N95 masks will kill virus',\n",
       " 'The U.S. government is requiring people to wear pantyhose sleeves over their masks in order to improve their protection.',\n",
       " 'Eating An Alkaline Diet Helps Prevent You From Getting Coronavirus',\n",
       " 'Face masks cause lung cancer',\n",
       " 'All ‘blue masks’ contain graphene',\n",
       " \"WHO has made a 'u-turn' on its policy of advising people to wear masks and maintain social distancing.\",\n",
       " 'Applying toothpaste on acne spots can help reduce its size.',\n",
       " 'WHO advice says people don’t need to wear a mask',\n",
       " 'A Sudanese minister wore a mask to protect himself from the novel coronavirus during a meeting with a Chinese diplomat',\n",
       " 'Police warn burglars are going \"\"door to door\"\" with contaminated face masks in a new scam',\n",
       " 'CDC Lifts Mask Guidelines Out Of The Blue With No Solid Explanation',\n",
       " 'Landmark Danish study shows face masks have no significant effect.',\n",
       " 'Stanford University study found that face masks were ineffective in protecting against COVID-19.',\n",
       " 'An image showing Arvind Kejriwal and Manish Sisodia without masks, but putting a mask on a young boy amid the COVID-19 pandemic.',\n",
       " 'Accurate graphic over effectiveness of face masks in curbing the spread of COVID-19',\n",
       " 'Nearly 99% of Covid-19 patients who are vitamin D deficient die, according to a research study.',\n",
       " 'Post lists adverse effects of wearing a mask.',\n",
       " 'Masks prevent the spread of coronavirus',\n",
       " 'Tilapia Caused Girl to break out with swollen face and blackened lips and eyelids',\n",
       " 'Masks are ineffective in slowing the spread of COVID-19, and can cause hypercapnia.',\n",
       " 'Masks should only be used by healthcare workers, caretakers, or by people who are sick with symptoms like cough and fever: WHO',\n",
       " 'A study conducted by the Centers for Disease Control and Prevention (CDC) found that an “overwhelming majority” of individuals who contracted coronavirus had worn a mask or face covering, proving that neither are effective at preventing the spread of COVID-19.',\n",
       " '“another child died in Germany from wearing the mask.”',\n",
       " 'Wearing Mask To Protect From COVID-19 Causes Fungal Lung Infection;',\n",
       " 'The coronavirus outbreak is not an emergency that requires social distancing and masks.',\n",
       " 'The government advice is not to challenge someone who is not wearing a face covering.',\n",
       " 'In June 2021, the NFL revised its one-helmet policy to allow teams the option to wear up to two different helmet options for games, beginning in 2022.',\n",
       " 'Video advertisement on Facebook encourages people to buy face masks to protect against the novel coronavirus.',\n",
       " 'Thyroid guards must be used during mammograms to prevent thyroid cancer in women.',\n",
       " 'Pennsylvania stores that refuse to serve maskless customers should be reported',\n",
       " 'Gov. Whitmer pictured today on mackinaw island ignoring social-distancing and mask-wearing rules',\n",
       " 'WHO now saying You do not need to Wear a Mask — Did You Know',\n",
       " 'The Zamboanga City government released a new executive order (EO) that fines P1,500 for violators of the mandatory wearing of face mask and face shield in the city.',\n",
       " \"Sen. Thom Tillis contracted the coronavirus despite wearing a mask at the White House Rose Garden event announcing President Trump's Supreme Court nominee.\",\n",
       " 'If you do challenge someone, you could be fined under the Equality Act 2010.',\n",
       " 'Wearing a mask for a long time reduces oxygen in the blood',\n",
       " \"New CDC and WHO Study Proves 'No Evidence' Face Masks Prevent Virus\",\n",
       " \"Masks decrease oxygen intake; Masks cause toxins to be re-inhaled; Masks shut down the immune system; Masks increases virus risk; Masks can't block the novel coronavirus; Effectiveness of masks has not been studied;\",\n",
       " 'Each side of protective surgical masks has different functions, indicated by colour, and you should choose the way you wear by whether you are ill or not.',\n",
       " \"Ray-Ban sunglasses are 90% off for 24 hours only in honor of the company's anniversary.\",\n",
       " 'According to University of Queensland (Australia) scientists, bananas are an effective defence against the COVID-19.',\n",
       " 'face coverings are “no longer mandatory” in Ohio',\n",
       " 'Facemasks are ineffective to block transmission of viral & infectious disease such as COVID-19',\n",
       " 'Face masks can cause fungal lung infections',\n",
       " \"Face masks don't protect from COVID-19\",\n",
       " 'You face hefty fines if you break these rules.',\n",
       " 'Video shows face masks from China inserted with RFID chips',\n",
       " 'From 9 am today, a 30-day campaign for mask checking will run in all the police stations of Uttarakhand. People of all cities and villages will use masks and avoid challan proceedings as well as a 10-hour jail sentence. Released in the public interest by Uttarakhand Police.',\n",
       " 'Petri dish shows bacteria from a mask after being worn for 20 minutes',\n",
       " \"Former President Barack Obama's administration was to blame for the shortage of protective equipment like N95 respirator masks in the early months of the 2020 COVID-19 pandemic.\",\n",
       " 'Fibres from face masks and test swabs can cause Morgellons disease.',\n",
       " 'Arvind Kejriwal is putting a mask on the face of a kid but is not wearing one himself.',\n",
       " 'Masks are toxic because of carbon dioxide accumulation',\n",
       " 'A Facebook post claims vitamin D supplements can prevent a COVID-19 infection and reduce severity.',\n",
       " 'There are no biohazard bins used for PPE such as masks and gloves.',\n",
       " 'Masks cause bacterial pneumonia, Fauci knew and wrote about it',\n",
       " 'Infographic describing different types of sanitary face masks the Thai Department of Health',\n",
       " 'Wearing a mask reduces oxygen up to 60%',\n",
       " 'Police arrest face mask vendor not wearing one',\n",
       " 'Posts claim that the Delhi Public School has started selling face masks at an exorbitant price of Rs 400 per piece.',\n",
       " 'Drywall dust penetration means face masks are ineffective against the coronavirus',\n",
       " 'Canada has deemed it illegal to require the wearing of masks and other protective measures against COVID-19 illegal',\n",
       " 'Eating foods with a pH level above that of coronavirus could cure or prevent infection.',\n",
       " 'Cloth masks do not filter anything',\n",
       " \"Dr. Anthony Fauci said in a leaked email that masks don't work.\",\n",
       " 'CDC study found that wearing face masks have no impact on preventing spread of COVID-19.',\n",
       " 'Children should not wear masks or be vaccinated against Covid-19',\n",
       " 'Maskless people in Hong Kong gym during pandemic',\n",
       " 'You are not exempt from wearing a face covering unless you have a supporting letter from a doctor, and wearing the invisible disability exemption badge is illegal.',\n",
       " 'Stanford study found masks are ineffective to block transmission of Covid-19',\n",
       " 'A 4-year-old almost died from a bacterial infection in his lungs, confirmed by a doctor to have been caused by prolonged mask usage.',\n",
       " \"People shouldn't wear face-masks to prevent the spread of COVID-19 as masks aren't worn for illnesses such as the common cold, influenza, diphtheria, whooping cough, pneumonia, tuberculosis and bronchitis.\",\n",
       " 'A Facebook post claims thieves are taking advantage of mandatory face mask rules by doorknocking and offering unsuspecting people facemasks doused in chemicals which leave them unconscious.',\n",
       " 'FilterMax masks video ad shows how their product saved one member of a family infected by virus, invented by Infectious Disease specialist, \"\"Dr Hiroshi\"\".',\n",
       " 'US mask requirements exist to protect vaccinated people from those who have not been immunized against COVID-19.',\n",
       " 'Vitamin C protects against coronavirus',\n",
       " 'U.S. President Donald Trump said state governors must \"\"treat me well\"\" in order to obtain masks and ventilators from federal reserves.',\n",
       " 'A Facebook post claims that wearing face masks can cause infections from bacteria such as staphylococcus.',\n",
       " 'Can wearing masks be dangerous',\n",
       " 'it is illegal for people with concealed carry permits to wear face masks in Pennsylvania',\n",
       " 'the image shows a face mask made in China that contains a radio-frequency identification (RFID) chip',\n",
       " \"Wearing a mask is dangerous to one's health\",\n",
       " 'Doctors prove that masks are \"\"irrelevant\"\" to the prevention of COVID-19',\n",
       " 'Democrats did not wear masks at rally',\n",
       " 'Many Studies Find that Cloth Masks Do Not Stop Viruses Like COVID',\n",
       " 'This Sudanese minister wore a mask to meet with a Chinese delegation',\n",
       " 'Face Masks Do Not Work',\n",
       " 'Fauci email is evidence that face masks are ineffective against Covid-19',\n",
       " 'Police will now require written evidence of a medical exemption if people are to avoid a fine for not wearing a mask.',\n",
       " 'Sarah Huckabee Sanders tweeted that masks take away liberties',\n",
       " 'FBI raids synagogue used to hoard face masks',\n",
       " 'National Health Mission and Madhya Pradesh govt has advised to not wear masks',\n",
       " 'A study on vitamin D and Covid-19 shows an 80% reduction in need for ICU and a 60% reduction in deaths. The study demonstrates that the clear relationship between vitamin D and Covid mortality is causal.',\n",
       " 'Wearing face masks causes neurological damage',\n",
       " 'I breathe dust . It makes me feel like Super Woman',\n",
       " 'National Health Mission- Government of India asked healthy people to not wear masks',\n",
       " 'Masks don’t work.',\n",
       " 'If masks work, then let family back into hospitals and nursing homes to be with their loved ones. If they don’t work, get them off our children. Someone is lying…',\n",
       " 'Prolonged use of face masks cause hypercapnia',\n",
       " 'Fibres from face masks and test swabs are evidence that nanoparticles are being inserted into us.',\n",
       " 'In April 2021, the Centers for Disease Control and Prevention (CDC) released new guidelines that suggested the use of tin foil face masks may be effective in preventing the spread of COVID-19.',\n",
       " 'Wearing masks can cause CO2 toxicity in your body',\n",
       " 'People should not be concerned about others not wearing face masks during the coronavirus crisis as long as their own mask \"\"works\"\"',\n",
       " 'According to the Department of Health (DOH), pneumonia is not contracted from wearing face masks; it cited a study stating that bacteria increase at a much lower rate when wearing a face mask.',\n",
       " 'Prolonged use of COVID-19-related face masks cause health problems due to breathing in too much exhaled carbon dioxide.',\n",
       " 'Fibres from face masks and test swabs are evidence of parasites.',\n",
       " 'Face masks are aimed at protecting the wearer from COVID-19',\n",
       " 'Tanzania bans face masks?',\n",
       " 'rolonged use of face masks causes hypoxia -- a lack of oxygen in the body.',\n",
       " 'Filters can “eat any form of virus including coronavirus” on aeroplanes.',\n",
       " 'President Donald Trump’s campaign website sells red \"\"Make America Great Again\"\" face masks.',\n",
       " '82% of the public are now wearing face masks [or coverings] on Translink buses and trains in Northern Ireland.',\n",
       " \"Masks won't prevent coronavirus; Moisture is a breeding ground for viruses; Breathing fresh air naturally is antiviral, antibacterial and antifungal.\",\n",
       " \"Legionnaires' disease can be contracted from a face mask used repeatedly.\",\n",
       " 'No Social Distancing, No Masks',\n",
       " 'UP police to start a month-long mask checking drive',\n",
       " 'Surgical masks have black worms that cause COVID-19',\n",
       " 'A July 2020 letter purportedly sent by the Ohio State Bar Association (OSBA) was accurate in stating that any retailer or manufacturer — including those operating from homes — could be sued for selling or creating COVID-19 protective face masks that were not medically approved, defective, or without proper labeling.',\n",
       " 'Panel of doctors say coronavirus is not a pandemic and people should not wear masks as well that coronavirus is a normal flu',\n",
       " \"The United States' top infectious diseases expert, Dr. Anthony Fauci, said people in the U.S. do not need to wear masks to protect against COVID-19.\",\n",
       " 'A \"\"Stanford/NIH\"\" study concluded that face masks worn to prevent COVID-19 transmission do not work.',\n",
       " 'There was 90% compliance with people wearing face coverings in retail settings in Northern Ireland.',\n",
       " 'Wearing a face mask compromises our immune system',\n",
       " 'Prolonged use of face masks causes hypercapnia, a condition caused by a buildup of carbon dioxide in the blood.',\n",
       " \"President Ramaphosa and ANC members don't wear a mask at a birthday party during lockdown\",\n",
       " '4,000 Cafe de Coral diners given HKD$2,000 fines for failing to wear face masks',\n",
       " 'Thieves use chemical-laced masks to rob people',\n",
       " 'a recent study found \"\"conclusive evidence that people that wear masks have a lower IQ.\"\"',\n",
       " 'Disneyland Texas announced in May 2021 that it was dropping mask requirements for guests.',\n",
       " 'Healthy people should not wear face masks during the COVID-19 pandemic because they are ineffective and dangerous',\n",
       " 'Vitamin D treatment for COVID-19 patients can reduce deaths by up to 60%.',\n",
       " 'Britain’s Queen Elizabeth wears matching masks during COVID-19',\n",
       " 'Dr Anthony Fauci advised against mask use in an email.',\n",
       " 'Pinkeye, or conjunctivitis, is a symptom of COVID-19.',\n",
       " 'blue masks used to prevent spread of covid can expose user to PTFE that causes symptoms similar to COVID',\n",
       " 'Long-term use of face mask for COVID-19 will cause lung cancer',\n",
       " 'Wearing face masks is harmful for health.',\n",
       " 'Surgical masks offer no protection against Covid-19 and are “no good”.',\n",
       " 'Hong Kong police are hoarding face masks',\n",
       " 'the image shows a government-issued laminated card claiming to exempt people from wearing face masks in public under the American with Disabilities Act (ADA)',\n",
       " 'Police in Thailand can issue fines to anyone who does not wear a face mask in public during the novel Coronavirus pandemic.',\n",
       " 'PTFE in masks can lead to symptoms such as fever, chest tightness, shortness of breath, headache, cough, chills, sore throat.',\n",
       " 'FFP3 respirators provide 99% protection against Covid-19.',\n",
       " 'An image collage shows former U.S. Vice President Joe Biden and Sen. Kamala Harris without masks in August 2020, suggesting they were flouting public health guidelines during the COVID-19 pandemic.',\n",
       " 'Police bulletin warns people of burglars going \"\"door to door\"\" offering face masks laced with chemicals which knock out their victim before they rob them.',\n",
       " 'Kejriwal was distributing masks during the pandemic without wearing one',\n",
       " 'The Centers for Disease Control and Prevention do not recommend that people who are healthy wear facemasks',\n",
       " 'A peer-reviewed paper from Stanford University shows face masks don’t work.',\n",
       " 'Image claims Sudanese model Nyakim Gatwech enters Guinness Book of Records for having the darkest skin tone on Earth',\n",
       " 'Cocktail carrots should not be eaten',\n",
       " 'When it comes to protecting against COVID-19 transmission, neck gaiters are worse than wearing no mask at all.',\n",
       " 'Mask-wearing causes people to contract bacterial pneumonia.',\n",
       " 'Face coverings/masks became “mandatory” in shops in Northern Ireland as of 1 August 2020.',\n",
       " 'Face masks intended to stop the spread of COVID-19, including that they violate US labor standards for oxygen deprivation, cloth masks “do not filter anything” and trap carbon dioxide, surgical masks spread germs, and N95 masks expel unfiltered air.',\n",
       " 'People are being affected by fungal lung infections from wearing masks.',\n",
       " 'In May 2021, former baseball star Alex Rodriguez partnered with a cosmetics company to develop a makeup product designed for men.',\n",
       " 'Dr. Anthony Fauci proved the unmasked buried the masked during the 1918 Spanish Flu pandemic and that masks were the reason so many died of bacterial pneumonia',\n",
       " 'On July 25, 2020, a couple wore swastika face masks while shopping at a Walmart store in Minnesota.',\n",
       " 'Virus that causes Covid-19 cannot be blocked by face masks',\n",
       " 'Video shows worms or parasites in masks',\n",
       " '85% of people who test positive for Covid wore masks always or often.',\n",
       " 'The masks they give to hospital staff and in schools say they do not protect against Covid-19.',\n",
       " 'Coronavirus (COVID-19) is large in size where the cell diameter is 400-500 micro and for this reason any mask may prevent its entry - UNICEF',\n",
       " 'Children face risks from wearing masks',\n",
       " 'Irish Health Service admits the COVID-19 virus has not been isolated in a lab and that masks, distancing and lockdowns are not effective in slowing spread of the disease.',\n",
       " 'Wearing masks won’t prevent coronavirus',\n",
       " 'Fish Antibiotics Are A Safe Substitute For Human Antibiotics',\n",
       " 'Police fine 200 Thai Baht for not wearing a mask',\n",
       " 'You should wear the colored side of the mask on the outside when you are sick and the white side on the outside when you are healthy.',\n",
       " 'Consuming large doses of Vitamin C can stop the spread of coronavirus',\n",
       " 'thieves are handing out chemically doused face masks to knock people out before robbing them',\n",
       " 'There are data security risks associated with the face-altering app Voilà AI Artist Cartoon Photo.',\n",
       " 'A video of former Republican presidential candidate Ron Paul accurately claimed \"\"masks don\\'t work\"\" to prevent the spread of COVID-19.',\n",
       " \"Australian police have issued a warning for people to be wary of gangs using children's car seats draped in blankets at the side of the road to lure drivers into stopping before the criminals attack and rob them.\",\n",
       " 'Woman arrested in Singapore for not wearing mask',\n",
       " 'Ear-loop masks are useless at offering protection from COVID-19',\n",
       " 'Having a Banana a day keep the Coronavirus away',\n",
       " 'The Hong Kong police fined 4,000 restaurant diners HKD$2,000 for not wearing masks.',\n",
       " 'WHO does not recommend the public wear masks during COVID-19 pandemic',\n",
       " 'The death rate in Andalucía almost halved between November and December following the introduction of their vitamin D policy.',\n",
       " 'In an interview with \"\"Today,\"\" Dr. Anthony Fauci said that two masks are better than one when it comes to slowing the spread of COVID-19.',\n",
       " 'The World Health Organization recently advised healthy people should stop wearing face masks.',\n",
       " 'Not wearing a mask in Canada during COVID-19 will lead to a $3,000 fine or jail time',\n",
       " 'Eating papaya salad will prevent COVID-19 infection.',\n",
       " 'Geert Vanden Bossche on Twitter says masks and vaccination will make the COVID-19 death toll higher.',\n",
       " 'World Health Organization warns against eating cabbage during COVID-19 pandemic',\n",
       " 'Masks are meant to protect the vaccinated',\n",
       " 'Vitamin C Can Slow Or Stop Coronavirus',\n",
       " 'Steaming face masks makes them reusable during coronavirus outbreak',\n",
       " 'C-vitamin forhindrer coronavirus',\n",
       " 'Face masks contain parasitic worms',\n",
       " 'CDC stated that masks were ineffective.',\n",
       " 'Applying toothpaste on pimples can help to reduce them',\n",
       " 'There is no need for masks and there is a cure for COVID-19',\n",
       " 'These masks protect against the novel coronavirus',\n",
       " 'The pH level of coronavirus varies from 5.5 to 8.5. Therefore all we have to do to eliminate the virus is to consume more alkaline foods above the acidity level of the virus.',\n",
       " \"Legionnaires' disease can be contracted through reusable face masks\",\n",
       " 'Indian government distributing free face masks during COVID-19 pandemic',\n",
       " 'Government says healthy people should not wear masks',\n",
       " 'Image shows a man wearing a red mask with CPM written on it.',\n",
       " 'Face masks should only be worn by medical professionals or people who have become ill during the coronavirus pandemic.',\n",
       " 'OSHA training shows some face masks can do more harm than good in fighting COVID-19',\n",
       " 'Face masks in China have radio-frequency identification (RFID) tracking chip in them.',\n",
       " 'Imported nose masks are contaminated with COVID-19',\n",
       " 'A Facebook post has been promoting the use of a large intravenous dose of vitamin C to “stop COVID-19”.',\n",
       " 'Face masks are dangerous for children',\n",
       " 'Wearing a mask can cause hypercapnia, by making you breathe in too much carbon dioxide.',\n",
       " 'Kentucky governor attended the 2020 Derby without a mask',\n",
       " 'You can get a £3,000 fine for not wearing a face covering and a £10,000 fine for a group gathering.',\n",
       " 'Delhi CM and Deputy CM giving mask to child and not wearing themselves amid COVID',\n",
       " \"OSHA says masks don't work and violate OSHA oxygen levels\",\n",
       " 'People can suffer from reduced oxygen to their blood and brain, possibly leading to death, if they wear a disposable mask for too long.',\n",
       " \"Actor Ricky Schroder filmed himself confronting a Costco employee in California about the store's mask rules.\",\n",
       " 'Nasal dilator named Kovagi can prevent Covid-19',\n",
       " 'Civilians beaten for not wearing masks in Chhattisgarh/ Rajasthan',\n",
       " 'Bacterial pneumonia is caused by people wearing masks and is massively on the rise.',\n",
       " 'A chart accurately shows the effectiveness of wearing face masks during the COVID-19 pandemic.',\n",
       " 'Wearing mask for a long can cause Hypercapnia',\n",
       " 'Dr. Anthony Fauci: \"\"There\\'s no reason to be walking around with a mask.\"\" | 60 Minutes Interview',\n",
       " 'Washing glasses with soap will prevent lenses from fogging whilst wearing a mask.',\n",
       " 'A Facebook post claims the coloured side of a medical mask should be worn on the outside when a person is sick and the white side when healthy.',\n",
       " 'Blowing vape smoke through face masks shows that they do not help prevent the spread of coronavirus',\n",
       " 'Indian Health Minister Harsh Vardhan flouts Covid-19 rules by not wearing a face mask',\n",
       " 'Americans without disabilities can legally use a federal ADA \"\"loophole\"\" to avoid wearing a mask in stores that require them.',\n",
       " 'Copper masks offer better protection than other masks from the novel coronavirus',\n",
       " 'Malaysian TV hosts wear eye patches in support of Palestinians in 2021',\n",
       " \"Face masks shouldn't be worn because Dr. Anthony Fauci at one point recommended against them\",\n",
       " 'A Centers for Disease Control report released in September shows that masks and face coverings are not effective in preventing the spread of COVID-19',\n",
       " 'the World Health Organization (WHO) stated that there is no longer a need to wear face masks',\n",
       " 'A German schoolchild died as a result of wearing their required mask in school.',\n",
       " 'CDC Recommends people shave their facial hair to prevent coronavirus']"
      ]
     },
     "execution_count": 12,
     "metadata": {},
     "output_type": "execute_result"
    }
   ],
   "source": [
    "idx_to_keep = [i for i in range(len(bertopic.model.topics_)) if bertopic.model.topics_[i] in [567, 2, 654, 277, 372]]\n",
    "[data['text'][i] for i in idx_to_keep]"
   ]
  },
  {
   "cell_type": "markdown",
   "metadata": {},
   "source": [
    "## Treatment (Ivermectim, chloroquine and hydroxychloroquine, etc)"
   ]
  },
  {
   "cell_type": "code",
   "execution_count": 13,
   "metadata": {},
   "outputs": [
    {
     "data": {
      "text/plain": [
       "['Fauci needs to answer why he withheld his brief describing Hydroxychloroquine cured covid. This man is a fraud. Bright fights against it too! Why do they want more people to die? Big Pharma money? Deep state instructions? De-population?',\n",
       " 'I would fire him now! 2013 he advocated for hydrochloroquine but now stands eerily silent! He has not advised POTUS properly in any part of this pandemic! He is too busy pandering to the deep state to care about American lives lost and American livelihoods destroyed!',\n",
       " \"Hydroxychloroquine is not an antiviral it is an antimalarial drug Science isn't 'silly or ideological' it is based on hypothesis testing - the hypothesis that HQ was an effective treatment for #Covid19 was tested and it was found to have no effect As I say sorry to disappoint\",\n",
       " \"Trump is still trying to sell hydroxychloroquine to the sheeple. Just told White House reporters that he's been taking it for a week and a half despite testing negative for COVID-19... One has to wonder if that's a great medication for an old guy with an Adderall addiction?\",\n",
       " \"remdesivir is a repurposed drug it also happens to be one that's on patent and makes big money for gilead and for hospitals. AZO and HCQ are low cost generics. they don't have 8 people on the NIH covid panel on payroll to move the goalposts on their trial design. GILD does.\",\n",
       " 'Ivermectin cures covid and the variants. Its being ignored and gaslighted. Climate change and population are concerns of wealthy crust. Testing how a pandemic works in real life/real time on a mild virus was valuable to Gates and the depopulation-to-cure-climate gang.',\n",
       " 'At this point we can say beyond a reasonable doubt that either Fauci knew about the effectiveness of hydroxychloroquine & ivermectin, someone directly below Fauci knew, or multiple people directly below them knew and withheld that information in such a way that resulted in as...',\n",
       " \"@LZgrath @Breaking911 No, it's does not have a form that can be given by IV. It is only available as an oral pill that has to be taken by mouth. You can't just crush up a pill and mix it in water and put it in someone's IV.\",\n",
       " 'Yep, just take hydroxychloroquine.',\n",
       " '@LauraMiers @RioSlade Ivermectin is supposed to help. Did you get the LongCovid from the jab, or from COVID? There are two types.',\n",
       " 'Hydroxychloroquine works. The election was rigged! If you agree, follow me on Twitter and join the Telegram:',\n",
       " 'How many people died bc Dr. Fauci said trust the science and Hydroxychloroquine isn’t effective? New study shows: Hydroxychloroquine + Azithromycin therapy at a higher dose improved survival by nearly 200% in ventilated COVID patients. Trump was right.',\n",
       " '@thehill So we can expect Democrats to ban it like they did with hydroxychloroquine? 😏',\n",
       " 'Sufferers are turning to experimental medicines, like Ivermectin. The FDA warns people should not use the drug, which is used to treat parasites in animals, for humans. But people are desperate.',\n",
       " 'In this tweet YouTube is spreading deadly misinformation. It is creating the false impression that Ivermectin is ineffective against COVID. The evidence is discussed in the video. If there is disagreement on the evidence discussion is required. #FollowTheSilence #CensorshipKills',\n",
       " 'Need we say more? See the power of ivermectin treatment and prophylaxis?',\n",
       " \"@PetriAspvik I know this is difficult to accept. The implications of it are both beautiful and horrifying: Ivermectin is a near-perfect COVID prophylactic. I'm sorry and you're welcome. I mean both, and I don't think they can be disentangled in this case.\",\n",
       " \"'Breakthrough drug' Ivermectin shows 'astounding' results against coronavirus\",\n",
       " 'In Fauci’s emails, we learn what China used to treat the virus in their own country: Hydroxychloroquine',\n",
       " \"FDA: Hydroxychloroquine is banned for off-label treatment of COVID even though it worked successfully in Florida and it's been around for decades. Also FDA: Experimental jab okay for a virus with a 99% survival rate for the majority of the population. #tRuStThEsCiEnCe 🥴\",\n",
       " \"The Oklahoma attorney general is is stuck with the $2 million of Hydroxychloroquine he bought because he's a fucking idiot. Hey Oklahomans - next time you drive on a road that isn't fixed, know that it's because the GOP leadership spent your money on snake oil instead.\",\n",
       " \"@BretWeinstein We've heard back and our team confirmed that your video violates our medical misinformation policies regarding COVID-19 for promoting Ivermectin as an effective treatment. More info here:\",\n",
       " \"Pfizer-BioNTech and Moderna don't want you to know about vitamin D, hydroxychloroquine, ivermectin and remdesivir as therapeutic & prophylactic treatments for COVID-19. They have very powerful lobby groups to keep people silent.\",\n",
       " 'Anticoagulants should be used to fight Covid-19.',\n",
       " 'Pondicherry University student found the cure for covid-19',\n",
       " 'Ivermectin is now approved as COVID-19 treatment in the Philippines.',\n",
       " 'ICMR and Sir Ganga Ram Hospital have made a list of preventive measures for COVID-19',\n",
       " 'U.S. President Donald Trump will benefit financially if hydroxychloroquine becomes an established treatment for COVID-19.',\n",
       " 'Dr. Anthony Fauci is associated with the Virology Journal, which in 2005 published a paper suggesting chloroquine and hydroxychloroquine are a “cure and vaccine” for diseases caused by coronaviruses',\n",
       " 'Studies show countries using hydroxychloroquine have far fewer COVID-19 deaths',\n",
       " 'Hydroxychloroquine can cure COVID-19.',\n",
       " 'Fauci is alone in saying hydroxychloroquine unproven against COVID-19',\n",
       " 'Ivermectin can cure Covid-19 in 48 hours.',\n",
       " 'Hydroxychloroquine is used to treat radiation sickness.',\n",
       " 'COVID-19 is not new and old textbook lists its treatment',\n",
       " 'Tonic water and zinc cure COVID-19',\n",
       " 'List of drugs and preventative steps for COVID-19 from KEM hospital, Mumbai',\n",
       " 'Three decades old Class 12th textbook lists treatment for COVID-19.',\n",
       " 'Accurate health advice about COVID-19 home remedies',\n",
       " 'Message from doctor at KEM Hospital suggesting medication such as azythromycin and HCQ for COVID-19 patients at home',\n",
       " 'Lesotho launches COVID-19 remedy',\n",
       " 'Consuming a high concentration of zinc treats COVID-19 viral infection.',\n",
       " 'A new study shows hydroxychloroquine can increase Covid-19 survival rates by 200%.',\n",
       " 'A majority of 6,200 doctors said hydroxychloroquine is the most effective coronavirus treatment.',\n",
       " \"Cipla to directly supply Remdesivir to patient's hospital.\",\n",
       " 'Hydroxychloroquine, ivermectin are wonderful and Covid-19 vaccines destroy DNA',\n",
       " 'Gargling the antiseptic povidone idodine prevents Covid-19 infection',\n",
       " 'Zinc, tonic water, vitamin C and vitamin D are recommended to fight Covid-19',\n",
       " 'Ivermectin is a miracle drug that cures COVID-19.',\n",
       " 'Accurate list of COVID-19 treatments',\n",
       " 'COVID-19 should be treated in the same way as influenza, with home remedies for those who test positive. It is not a \"\"killer disease\"\" and those who die have underlying conditions.',\n",
       " 'List of COVID-19 treatments',\n",
       " 'United States FDA approves remdesivir as COVID-19 treatment',\n",
       " 'Taking zinc treats Covid-19 and can prevent virus from entering lungs',\n",
       " 'AAP Mohalla clinic in a poor condition during COVID',\n",
       " 'Simone Gold, who gained notoriety for promoting without evidence that hydroxychloroquine is a cure for COVID-19, was in the U.S. Capitol during the Jan. 6, 2021, riot.',\n",
       " 'Hydroxychloroquine is the cure for COVID-19',\n",
       " \"COVID treatment suggested by Nanavati Hospital's Dr. Ansari and Dr. Limaye\",\n",
       " 'These lympathic exercises by a Kerala doctor can tackle covid-19',\n",
       " 'US health institute (NIH) recommends Ivermectin to treat Covid-19',\n",
       " 'Patients should avoid taking ibuprofen to relieve pain and fever associated with COVID-19 infections.',\n",
       " 'Homeopathic drugs such as Arsenicum Album 30 boost immunity against COVID',\n",
       " 'Anti-inflammatories should be used to fight Covid-19.',\n",
       " 'Oklahoma is trying to return a $2 million stockpile of hydroxychloroquine purchased in April 2020 at the request of Gov. Kevin Stitt.',\n",
       " 'Over-the-counter medication cures COVID-19',\n",
       " 'Vitamin D, Ivermectin, zinc and hydroxychloroquine are safe and effective treatments for Covid-19.',\n",
       " 'Can Camphora 1M Provide Prevention and Treatment for COVID-19?',\n",
       " 'A graphic shows contradictory CNN articles about hydroxychloroquine, published three months apart and co-authored by the same person.',\n",
       " 'A series of Instagram posts claim \"\"many people\"\" have recovered from COVID-19 after having the drug chloroquine. It also claims chloroquine is produced from the bark of the Cinchona tree. The posts have links to pages where people can purchase powdered cinchona bark.',\n",
       " 'the governors of New York, Nevada and Michigan have \"\"issued orders banning the prescription of hydroxychloroquine to patients with COVID-19.\"\"',\n",
       " \"Dr. Vladimir Zelenko's 669 COVID-19 patients that were treated with a combination of hydroxychloroquine, azithromycin, and zinc have seen zero hospitalizations, complications, or deaths.\",\n",
       " '2005 paper proves hydroxychloroquine combats coronavirus and Fauci withheld this information',\n",
       " 'Hydroxychloroquine cures Covid-19.',\n",
       " 'Philippine regulators approve ivermectin as a substitute for Covid-19 vaccination',\n",
       " 'Four common COVID-19 treatments recommended by doctors at Nanavati Hospital.',\n",
       " 'Hydroxychloroquine and zinc have been used all over the world to cure Covid-19.',\n",
       " 'ICMR Released Guidelines For Use Of Ivermectin In COVID-19 Treatment',\n",
       " 'Senate President Tito Sotto and The Philippine Senate is promoting and considering Ivermectin for the early prevention and treatment of COVID-19.',\n",
       " 'Ivermectin can prevent and lead to 100% recovery from COVID-19',\n",
       " 'COVID-19 patients should stay home and isolate and treat themselves with zinc, Vitamin C &D, Ivermectin and Doxycylin.',\n",
       " 'Hydroxychloroquine and chloroquine are cures for the new coronavirus.',\n",
       " 'A leader of the National Health Service (NHS) warned against the advice of Gwyneth Paltrow for treating lingering effects of COVID-19.',\n",
       " 'American Medical Association admitted it “lied” about hydroxychloroquine and rescinded a recommendation against using it to treat Covid-19',\n",
       " 'Virafin might reduce recovery time or hospitalisation period during COVID-19',\n",
       " 'Estudio publicado en EClinical Medicine de The Lancet demuestra la efectividad de la ivermectina contra el Covid-19',\n",
       " '“We know for a fact that there are drugs that have been repurposed and used effectively to treat Covid-19.”',\n",
       " 'Several Youtube videos claim that Department of Health (DOH) Secretary Francisco Duque III and Food and Drug Administration (FDA) Director General Eric Domingo are facing imprisonment over the DOH and FDA’s pending approval process of Ivermectin.',\n",
       " 'A Facebook post claims hydroxychloroquine can be made using a recipe that includes \"\"three organic grapefruits\"\" and that \"\"Quinine is Hydroxychloroquine\"\".',\n",
       " 'American Journal of Medicine and Facebook “admit mistakes” on hydroxychloroquine studies',\n",
       " 'Hydroxychloroquine, zinc and Zithromax are a cure for COVID-19',\n",
       " 'Chloroquine can treat new coronavirus',\n",
       " 'Genuine Remdesivir vials thrown in Bhakra canal in Punjab',\n",
       " 'Dr. Anthony Fauci wrote in a 2005 paper published in Virology Journal that hydroxychloroquine was effective in treating SARS.',\n",
       " 'Chikoo can cure COVID-19',\n",
       " 'Chloroquine has cured 12,552 coronavirus patients in China',\n",
       " 'Ivermectin and hydroxychloroquine are used for treating covid-19',\n",
       " 'American Medical Association Rescinds Previous Statement Against Prescription of Hydroxychloroquine to COVID-19 Patients.',\n",
       " 'Remdesivir can be purchased directly from Pradhan Mantri Bhartiya Jan Aushadhi Kendra at the cost of Rs 899.',\n",
       " 'A sprawling conspiracy theory proves numerous individuals and organizations schemed to promote the drug Remdesivir as a COVID-19 treatment over the purportedly highly effective Hydroxychloroquine.',\n",
       " 'Chloroquine is solution to COVID19',\n",
       " 'A new regime of the drugs ivermectin and hydroxychloroquine led to a reduction in COVID-19 cases in India.',\n",
       " \"FDA Warnings Against Hydrochloroquine With COVID-19 Fauci Says Some Promise Mentions 'Immediate Human Injection' With Rushed Drug\",\n",
       " 'Smith Institute study reveals success of hydroxychloroquine as COVID treatment.',\n",
       " 'Madagascan president said WHO offered him $20 million to poison remedy against Covid-19?',\n",
       " 'Coronil is 100% cure for COVID-19',\n",
       " 'Dr. Eric Nepute video discussing Covid 19 CV Coronavirus Quinine and Zinc',\n",
       " 'Chloroquine Effective Against Coronavirus',\n",
       " 'People with Covid-19 should take aspirin 100mg and Apronax or paracetamol.',\n",
       " 'Image shows recipe for antimalarial drugs quinine and hydroxychloroquine',\n",
       " 'People with Covid-19 should not take ibuprofen',\n",
       " 'American Journal of Medicine endorsed hydroxychloroquine as a COVID-19 treatment.',\n",
       " 'The U.S. is an international outlier on hydroxychloroquine',\n",
       " 'Anti-malaria drug Chloroquine Phosphate is a cure for COVID-19.',\n",
       " 'Covid-19 can be cured by antibiotic tablets, anti-inflammatory and taking anticoagulants such as aspirin.',\n",
       " 'The US FDA has approved remdesivir as a treatment for COVID-19.',\n",
       " 'France and South Korea have approved the use of hydroxychloroquine for COVID-19',\n",
       " 'Dr Anthony Fauci has known for 15 years that chloroquine and hydroxychloroquine are effective treatments for coronaviruses.',\n",
       " 'Hydroxychloroquine can be made at home to treat COVID-19.',\n",
       " 'Hydrogen Peroxide can protect you against COVID-19']"
      ]
     },
     "execution_count": 13,
     "metadata": {},
     "output_type": "execute_result"
    }
   ],
   "source": [
    "idx_to_keep = [i for i in range(len(bertopic.model.topics_)) if bertopic.model.topics_[i] in [51, 206, 259, 575, 433]]\n",
    "[data['text'][i] for i in idx_to_keep]"
   ]
  },
  {
   "cell_type": "markdown",
   "metadata": {},
   "source": [
    "## Vaccines"
   ]
  },
  {
   "cell_type": "code",
   "execution_count": 14,
   "metadata": {},
   "outputs": [
    {
     "data": {
      "text/plain": [
       "['Oh I beg to differ. The genetic code of the mrna in this vaccine is different from the viral DNA encapsulated within our own DNA which involved the implantation of embryos. This will have zero effect on that gene and this is known because women who have had covid have had no',\n",
       " 'I gave out a little #RedPill while waiting in a q today. Guy saying all will be better with covid once we get vaccine. I gave him a little list of what was in them and said I wont be having 1. He said \"\"I didnt know that. Thank u very much\"\" #WWG1WGAWORLDWIDE',\n",
       " 'that could render people barren/infertile or cause birth defects or create an even worse Covid. The reason they are having such a hard time now with a vaccine is because it mutates at an exponential rate. I have no problem with a vaccine IF it has gone through the proper vetting',\n",
       " 'As a medical doctor of course I support vaccinations. I have a problem with the FDA being controlled by drug companies. — Dr. Jill Stein (@DrJillStein) July 29, 2016',\n",
       " 'Because the vaccines are not safe.',\n",
       " 'Worth another listen. 700 babies and children will be injected with the experimental MODERNA vaccine in about 45 days in Rochester, NY. How is this even REMOTELY ethical? How can a BABY ‘consent’ to being a lab rat? @DrMikeMendoza @CountyExecBello',\n",
       " '@nprpolitics This is what happens when you falsely label something as a vaccine to get people to take it. It’s a treatment, and you SHOULD get it. However it’s like the flu shot, and it doesn’t make you immune.',\n",
       " 'I think the side effects of my second jab have started.',\n",
       " '@DHPSP NO, NONE ARE SAFE: They are Not even FDA approved These mRΝΑ ναcs are CURRENTLY in *Experimental Investigative Stage*',\n",
       " 'i have a degree in biology and i’m here to tell you that “m” in mRNA stands for “microchipping”',\n",
       " 'A lot of people including friends & family have accused me of promoting Vaccine hesitancy, let me clarify my position. I am not anti Vaccine per se. But I believe it is irresponsible to promote universal vaccination of experimental&untested vaccines esp to young & Covid recovered',\n",
       " 'Not only that, also giving them your genetic information will be used to harm you in the future.',\n",
       " 'My wife turned 40 last month. Went for a Mammogram today... first question. Have you been vaxxed if so what arm? She says i havent why? Oh the vax is causing false positives on mamos? Wtf.',\n",
       " '@JacobAlexSmith @GovAndyBeshear @AndyBeshearKY Just remember that you can still get reinfected if you had covid before. The CDC recommends that you get the shot to be fully immunized against Covid.',\n",
       " 'He said scientists\"\"made a big mistake\"\" that they\"\"didn\\'t realize...until now\"\" when developing vaccines to fight COVID-19 and end the pandemic.\"\"We thought the spike protein was a great target antigen, we never knew the spike protein itself was a toxin and was a pathogenic protein,\"\"',\n",
       " 'Hard Pass on the Jab',\n",
       " 'If it weren’t for President Donald J Trump, there would be no vaccines.',\n",
       " '@NC_Governor Ill get the shot when we have a more effective vaccine that lasts more then 6 months and does not have alot of side effects',\n",
       " \"the #1 post on @Facebook about vaccines today is Tucker Carlson suggesting they don't work. (data via @crowdtangle)\",\n",
       " 'Mississippi man partially paralyzed, unable to talk after J&J vaccine',\n",
       " 'Thought for the day:- You believe in the vaccines. Good. That’s absolutely fine. I respect your belief. I am not against vaccines. I’ve had quite a few in my lifetime. But I am unsure about these vaccines.',\n",
       " '@HHSGov The ‘Vaccine’ can irreversible damage your health and is proven in some cases to be fatal!',\n",
       " '@AlexDGallant For fucking POLIO, MEASLES MUMPS AND TETANUS .... VACCINES THAT ERADICATE THE ISSUE. DISEASES THAT PREVAILED IN CHILDREN AND LITERALLY KILLED THEM. THIS VACCINE LITERALLY DOES NOT PROTECT AGAINST INFECTION. YOU CANT EVEN TAKE IT SAME TIME AS THE FLU VACCINE. DAMN IM TIRED.',\n",
       " '@ashleevance For sure wise for elderly or immunocompromised to take the vaccine. Some debate about the second jab though. Quite a few negative reactions to that.',\n",
       " \"@POTUS Well the vaccinated are still contracting covid. What the problem is vaccine shedding, the vaccinated shed the virus and spread it. Then causing it to mutate. So y'all that got the vaccine are now super spreaders and that vaccine you just took is now pointless. Fact look it up!\",\n",
       " '@guitgui57 @CBSNews Yes it is ... same thought crossed my mind. Nothing like rewarding a non-FDA approved questionable vaccine with a very well known cause of health issues with sugar, carbs, and chemicals!',\n",
       " 'You don’t need a vaccine, you need to eat better.',\n",
       " \"@CDCgov @CDCDirector @10queues Why does this matter? Because the vaccines are excellent, but they're not perfect. All the vaccines prevent serious illness and death, but they do not prevent infection, and they may not prevent transmission\",\n",
       " '@GidMK Not fully anti-vax but you got me SO MESSED UP thinking I’m getting a “vaccine” that was constructed in less than a year. I don’t need it and most people don’t. Not to mention Moderna has never been successful. I’m good.',\n",
       " '@jimcramer Technically, don’t you have covid now that you got the vaccine?',\n",
       " '@michfisher @ryanstruyk You got injected with the covid. You\\'re shedding the virus. Do the unvaccinated right and social distance from them and wear your mask. The \"\"vaccine\"\" doesn\\'t keep you from getting the virus, it keeps you from experiencing the worst of the symptoms. You really should research.',\n",
       " '@WilliamShatner Because someone doesn’t have a vaccine in no way makes yours less effective.',\n",
       " '@SF_emergency @Ebon_Glenn @RafikiCoalition @SF_DPH @sfaaacd Thanks for the information I am digesting all information regarding the vaccine and some of the unfortunate side effects.',\n",
       " '@juliairzyk @Blani_ @harrylitman This specific mRNA keeps ur antibodies in attack mode 24/7 only towards COVID19, so that if & when another virus enters ur body, ur antibodies won’t be able to fight this other virus - meaning u now have a compromised immune system for life. Good luck.',\n",
       " '@mariel_IDSFG @DrTomFrieden Vaccines don’t work AT ALL on the Brazil Variant !',\n",
       " \"@BallouxFrancois Science is and probably always will be a case of, the more we know, the more we realise we don't know. This is what makes mRNA vaccines an unknown risk. Doesn't matter though, the swamp is so deep that they'll cover up any uncomfortable findings.\",\n",
       " 'have they tried this yet???',\n",
       " '@GovMurphy People who got the vaccine are still getting covid and with even worse symptoms. I thought this was suppose to be highly effective and safe?',\n",
       " 'New research published in Microbiology & Infectious Diseases, immunologist J. Bart Classen warns #mRNA technology used in #Pfizer + #Moderna #COVID #vaccines could create “new potential mechanisms” of adverse events that may take years to come to light.',\n",
       " '@teemcee @shilo1949 This is nothing like the vaccines given to kids or anyone EVER!!! Nothing to do with immune response. Everything to do with DNA modification.',\n",
       " 'True! Experts do not yet know how long you are protected from getting sick again after recovering from #COVID19. Get your COVID-19 vaccine as soon as you can. Learn more:',\n",
       " \"Nonstop vax talk at work today. Client's comforting themselves with the thought that 'the more poorly I am with the jab, the more it must be working'. I'm just speechless with this collective madness. Maybe they deserve the jab?!\",\n",
       " \"@JamesDelingpole Madness. The 'm' in mRNA stands for 'modified'. The chemical cocktail attaches itself to your cells' RNA and takes over - tasking it to fight whatever it targets. You become a GMO - literally. It is irreversible with no medical protocol to counter. Yet the sheep applaud.\",\n",
       " '\"\"If for instance my sister got the AZ vaccine and died of a thrombosis when I know it could have been prevented and that she is not in a high risk area, I\\'m not sure I could live with it\"\" - Dr. Quach, from NACI with @EvanLSolomon on @CTV_PowerPlay',\n",
       " 'Luigi Warren says the vaccinated are harmful to the non-vaccinated 👀',\n",
       " 'The \"\"m\"\" in mRNA stands for microchip. Done jadi anti-vaksin.',\n",
       " 'people should get the vaccine because it turns covid from a disease that’s much, much deadlier than the flu into a disease that’s much, much less deadly. simple as that. that should be the message.',\n",
       " 'BREAKING—Novavax says its #COVID19 vaccine is 90% effective, but likely only 50% against the #B1351 variant found in South Africa. 50% better than 0%, but clearly we have challenges with the #B1351 mutation. UPDATES COMING.',\n",
       " '@TessaJeanMiller I, like millions of others have auto immune illness because of vaccines. I do on your book though and I totally respect your choice that you have made. 🙏 this is the tiniest out of all my pages but I asked my 24,700 people if they would be getting the vaccine and only 1 said yes',\n",
       " 'Our COVID-19 immunity should be the sum of those who choose to get shots PLUS those who have been infected and developed natural immunity. There should be no discrimination or coercion of those with natural immunity. And no shaming either way.',\n",
       " '@keenethery @NPR Because the \"\"covid\"\" injection is an experiment, NOT A VACCINE.',\n",
       " 'Take that vaccine... and they might.',\n",
       " \"@camillard @BasicBlaecGirl They might be, but the vaccines arent 100% and don't protect against the new strains.\",\n",
       " 'I know more people who regret getting the jab than not getting the jab',\n",
       " '@musolf_danielle @GabePosey But there is still no long term safety data. Unlike almost every other vaccine to hit the market.',\n",
       " 'Anywayyy...like I was saying, folks are really gonna regret taking that vaccine come summer.',\n",
       " 'Just FYI... the people who have gotten the vaccine, now carry harmful toxins put in the vaccine that is called “Shedding” to poison perfectly healthy people who have chosen not to get the vaccine. Unvaccinated people are having signs of radiation poisoning, digestive, head, etc',\n",
       " 'Surprise! Research what happens when you get the jab. You will have no immune system left. They’re giving people 4-14 months',\n",
       " '@tompccs If vaccinated people get together they promote transmission of vaccine evading variants, leading to breakthrough infections and another round of this pandemic.',\n",
       " 'mRNA regulates gene expression. Gene expression determines epigenetic markings. Epigenetic alterations can effect up to 3 generations. Therefore long term effects of a novel mRNA vaccine are unknown.',\n",
       " '@DrMikeMendoza Moderna is literally saying on their website that the mRNA technology in their ‘vaccine’ is actually an operating platform injected into your body. ‘PLUG AND PLAY’?? An ‘APP’ in your body?? ‘Updates’?? You seriously cannot make this up ... 😂',\n",
       " 'You don’t need a vaccine, you need to stop eating processed foods, get some exercise, get some sunlight, eat fruits and vegetables',\n",
       " '@DxMayhew @LKowolski @IslesRW @AnomalyRemoval @thanny10 @Breaking911 The COVID vaccines are approved by the FDA, though. And they’re safe. And working.',\n",
       " \"It is abundantly clear now that the Astra Zeneca vaccine is far less safe than we were led to believe and Govt, making a crude risk-benefit analysis, went ahead anyway. They've kept MOST OF THE ADVERSE EFFECTS off the news & spun the story to focus on some very rare effects only.\",\n",
       " 'The Covid vaccine is not a guarantee. My wife & I, vaccinated 17 days ago, both tested positive yesterday and are in quarantine. We think the source was a person we had contact with before the shot took full effect. Caution is in order. We’ll be fine, I should add.',\n",
       " 'There’s no such thing as vaccine shedding what the fuck drugs are people on now',\n",
       " \"I'm struggling to keep up with the amount of adverse reactions people are having to these vaccines. Should I keep posting about them? Are there really people still naive about this? I'm starting to suffer burnout, but I'll keep going if I have to.\",\n",
       " '@MartyMakary @MinkkinenSimo @WSJ Herd immunity only works for 6 months. Vaccines only work for 6 months. This will be difficult to eradicate.',\n",
       " 'The Future of Vaccines',\n",
       " '@therecount Some more good news. More than 60-70% already have natural immunity. Good luck with an experimental vaccine. 👍',\n",
       " \"Covid Vaccine is not FDA Approved. Vaccine just experimental Emergency Use Permit. Safe? If safe why do I have to wait 15 min? Long Term Effects? Why can't I sue if get sick or die? Does it even work? J and J has aborted baby cells in it. How can that be safe? Gene therapy.\",\n",
       " 'If that’s the vaccine then @Offside_Tavern immunized me against every disease including ones that don’t even exist yet.',\n",
       " '@JillFilipovic If your faith is in that vaccine what difference does it make to you what I do? Truth is the vaccine causes your DNA to start manufacturing and shedding new viruses. You are a walking contagion to me for the rest of your short lived life. Do your research, start w/ DrPierreKory',\n",
       " 'Good news: Mild COVID-19 induces lasting antibody protection via @wustlmed',\n",
       " '@ZoeLightly @cenkuygur All of the vaccines are FDA approved which means they are NOT trials. FDA approved. It is your right not to vaccinated but I humbly ask that you separate feelings obtained from unreliable sources from actual fact. Just because a body doesn’t like the news doesn’t make it fake ❤️',\n",
       " 'A second @nytimes article quotes doctors who say the mRNA technology used in #COVID #vaccines may cause immune thrombocytopenia, a blood disorder that last month led to the death of a Florida doctor after getting the #Pfizer vaccine. #TheDefender',\n",
       " 'Y’all know that vaccine ain’t approved by the FDA right?',\n",
       " '@HoodHealer Ppl that are vaccinated are mutating whatever was injected into them their literally shedding and spreading new strains of whatever the fuck they have gotten injected. Give it time they’re gonna blame non vaccinated ppl for the death of vaccinated ppl. 🤔🤭',\n",
       " 'People who do not experience side effects after receiving the jab are “unhealthy”',\n",
       " 'Covid-19 precautions for immunized people could mean vaccines are not effective',\n",
       " 'The mRNA vaccines from BioNTech/Pfizer contain polyethylene glycol (PEG). 70% of people develop antibodies against this substance—this means many people can develop allergic, potentially fatal reactions to the vaccination.',\n",
       " 'Flu vaccine ineffective despite decades of use',\n",
       " 'The mRNA COVID-19 vaccine is not safe.',\n",
       " 'mRNA vaccines to prevent COVID-19 cause a severe immune response called a cytokine storm. This was not shown in animal trials because these trials were skipped.',\n",
       " 'Healthy people under 50 or recovered from Covid-19 do not need the vaccine',\n",
       " 'Risk of getting infected with COVID-19 increases after second dose of vaccine',\n",
       " 'Barack Obama has not warned against getting the COVID-19 vaccine.',\n",
       " 'Getting the first dose of Covid-19 vaccine increases risk of catching the novel coronavirus',\n",
       " 'COVID-19 vaccines are gene therapy.',\n",
       " 'A lot of the vaccine ingredients haven’t been tested for their efficacy.',\n",
       " 'People who have taken the COVID-19 vaccine are dangerous to other people.',\n",
       " 'mRNA Covid-19 vaccines are unsafe gene therapy',\n",
       " 'The Makati Medical Center (MMC) released an advisory about COVID-19 vaccines.',\n",
       " 'The blue blood of horseshoe crabs is required for the production of COVID-19 vaccines.',\n",
       " 'The new Covid-19 vaccine will be the first of its kind ever. It will be an mRNA vaccine which will literally alter your DNA. It will wrap itself into your system. You will become a genetically modified human being.',\n",
       " 'The Safety of COVID-19 Vaccinations—We Should Rethink the Policy',\n",
       " 'Nadine Dorries MP’s office said that although vaccines aren’t mandatory, if you choose not to have a Covid-19 vaccine, you will face short-term restrictions to prevent you infecting anyone else.',\n",
       " 'People who were undergoing chemotherapy have been told that they should not receive vaccines, and should stay away from people who had received vaccines, and now because of Covid-19 this has all changed.',\n",
       " 'Doctor on COVID Vax: \"\"We Screwed-Up. We didn\\'t realize the Spike Protein is a TOXIN\"\" Does this mean everyone vaccinated is manufacturing their own Spike Protein Toxins in their own bodies?',\n",
       " 'Covid-19 vaccine alters red blood cells',\n",
       " 'COVID-19 vaccines have not been developed yet',\n",
       " 'COVID-19 vaccine is dangerous',\n",
       " 'Nuns contracted Covid-19 from Moderna vaccine',\n",
       " 'The development of REGN-COV2, the experimental “anti-viral antibody cocktail” given to U.S. President Donald Trump to treat COVID-19, involved the use of human fetal tissues and embryonic stem cells.',\n",
       " 'A study published in The Lancet prove COVID-19 vaccines do not work.',\n",
       " 'The first study of an effective COVID-19 vaccine show that it only reduces symptoms without stopping transmission.',\n",
       " 'US Pharmaceutical develops vaccine for COVID-19 in 3 hours',\n",
       " 'Vitamin K shot for newborns is dangerous',\n",
       " 'Senate President Tito Sotto suggested that two doses of the Sinovac COVID-19 vaccine, which had a 50.4% efficacy rate in a Brazillian trial, will result in 100% efficacy.',\n",
       " 'Five COVID-19 vaccines have lower efficacy than previously announced',\n",
       " 'The available Covid-19 vaccines are a type of gene therapy.',\n",
       " 'The Covid-19 vaccine was only tested on completely healthy people.',\n",
       " 'mRNA COVID-19 vaccine recipients will have neuro-cognitive issues',\n",
       " 'COVID-19 vaccines have not been properly tested and pose long-term health risks.',\n",
       " 'Moderna developed a Covid-19 vaccine in 2019',\n",
       " 'Those who believe immunized people are still at risk do not think vaccines work.',\n",
       " 'COVID-19 mRNA vaccines will become deadly a few months after administration because the antibodies they create have been shown to cause deadly immune reactions resulting in damage to the lungs.',\n",
       " \"Profusa's bionsensors are being injected into humans through COVID-19 vaccines.\",\n",
       " 'Swiss medical orgnisation publishes this poster to advise people not to get vaccinated against Covid-19.',\n",
       " 'Ingredients used in early-years vaccine are carcinogenic and toxic.',\n",
       " \"An ad by Merck pharma tells people to 'Take the Shot' and beat COVID-19.\",\n",
       " 'Vaccination causes the immune system to start attacking the body when the person comes into contact with coronaviruses.',\n",
       " 'The COVID-19 vaccine is deadly and has not been duly tested',\n",
       " 'COVID-19 vaccines will cause more deadly variants of the virus',\n",
       " 'Presidential Spokesperson Harry Roque says poor people have no right to be choosy over a COVID-19 vaccine because they are a burden to the government.',\n",
       " 'Coronavirus vaccines could alter your DNA',\n",
       " 'List of allegedly dangerous ingredients found in vaccines such as Covid-19 jab.',\n",
       " 'The Covid-19 vaccine is a trial drug.',\n",
       " 'Potassium Chloride, an ingredient in vaccines, is also used in lethal injections used to execute death row inmates.',\n",
       " 'All Covid-19 vaccines are experimental.',\n",
       " 'The flu vaccine doesn’t work because the flu has not been eliminated.',\n",
       " 'COVID-19 vaccines will leave people exposed to deadly illness during the next cold and flu season.',\n",
       " 'Covid-19 vaccines have the capacity to change your DNA.',\n",
       " 'Covid-19 vaccines don’t prevent infection or transmission of the disease.',\n",
       " 'Recordings capture Moderna representative making horrific admission about vaccine.',\n",
       " 'Covid-19 vaccines were not tested on animals before they were approved.',\n",
       " 'Flu vaccine makes kids more vulnerable to coronaviruses',\n",
       " 'The Covid-19 vaccine trials have not yet been completed and therefore the results cannot be peer-reviewed.',\n",
       " 'A new vaccine for COVID-19 has been developed.',\n",
       " 'WHO boosts vaccination by changing definition of herd immunity',\n",
       " 'Sloan Kettering study says mRNA Covid-19 vaccines promote cancer',\n",
       " 'The Covid vaccine is an RNA vaccine. This will actually change your DNA.',\n",
       " 'A Facebook post claims that the mRNA vaccine by Moderna contains Luciferin, dissolved with 66.6 mL of distilled phosphate buffer solution.',\n",
       " 'Research in The Lancet shows Covid-19 vaccines offers little to no protection',\n",
       " 'Confidential Documents reveal Moderna sent mRNA Coronavirus Vaccine Candidate to University Researchers',\n",
       " 'Vaccine Ingredients Include Toxic Amounts Of Formaldehyde And Aluminum, And New Vaccines Are Not Tested Against Placebos',\n",
       " 'The American Red Cross said COVID-19 vaccines destroy the bodies natural antibodies.',\n",
       " 'Potassium chloride in vaccines is dangerous',\n",
       " 'Claims the FDA will not authorize or approve any vaccine for COVID-19.',\n",
       " 'the image shows a front page of The Times that features the headline “Doctors and experts advise against taking experimental jab.”',\n",
       " 'The spike protein generated by a Covid-19 vaccine can leave the site of injection and enter the bloodstream, which could possibly be causing deaths and vaccine injuries.',\n",
       " 'The government has brought in legislation that allows DNA from Covid-19 tests to be “harvested” and retained.',\n",
       " 'Covid-19 vaccine recipients shed harmful viral spike proteins that are harmful for other people',\n",
       " 'Efficacy rates of four COVID-19 vaccines are far lower than those claimed by vaccine companies.',\n",
       " '“Vaccines have never been used to control outbreaks.”',\n",
       " 'Yellow Card data will allow the vaccines to move out of the phase 3 clinical trials and be granted full approval.',\n",
       " 'mRNA COVID-19 vaccines will alter your genome and prevent treatment for Covid-19 if you develop symptoms',\n",
       " \"We don't need COVID-19 vaccines because of high recovery rate\",\n",
       " 'An independent review of the vaccines advises that all vaccination should be halted.',\n",
       " 'The Covid-19 vaccine doesn’t stop you catching the disease.',\n",
       " 'A German bakery is making cakes in the shape of syringes in honor of COVID-19 vaccines.',\n",
       " \"Country music icon Dolly Parton helped fund Moderna's COVID-19 vaccine.\",\n",
       " \"Pfizer's Vaccine Candidate To Battle COVID-19 Does Contains Nanoparticles Never Used Before In Vaccines Ingredients Are Lethal\",\n",
       " 'The Covid-19 vaccines in use in the UK are still in the experimental phase.',\n",
       " 'The Covid-19 vaccines are experimental.',\n",
       " 'Indiana woman blames Moderna Covid-19 vaccine for her serious side effects',\n",
       " 'Pfizer has upgraded its COVID-19 vaccine to include a Microsoft chip for reduced symptoms.',\n",
       " 'Moderna Covid-19 vaccine causes degenerative disease shown in these photos',\n",
       " 'Covid-19 vaccines are the “most rushed vaccines ever developed”',\n",
       " 'COVID-19 mRNA vaccines change human DNA and are unsafe.',\n",
       " \"An ingredient (SM-102) in Moderna's COVID-19 vaccine has been deemed unsafe for human use.\",\n",
       " 'Flu vaccine is ineffective.',\n",
       " 'COVID-19 vaccine do not eliminate the virus or stop the virus from transmitting',\n",
       " 'The antibodies in the vaccine recipient’s body can attack the organs using the viral proteins made from the mRNA vaccines',\n",
       " \"The SM-102 in Moderna's COVID vaccine is a deadly poison\",\n",
       " 'The vaccines won’t stop me getting Covid-19.',\n",
       " 'COVID-19 vaccines are poisonous',\n",
       " 'New Covid-19 vaccines contain levels of mercury that cause brain damage.',\n",
       " 'Pediarix vaccine injects an unsafe amount of aluminum into infants',\n",
       " 'Papua New Guinea has not followed regulatory guidelines when approving the Covid-19 vaccine',\n",
       " 'COVID-19 vaccines can cause serious harm by spreading \"\"toxic\"\" spike proteins into a recipient’s bloodstream and internal organs.',\n",
       " 'Reports to the Yellow Card scheme suggest that the Covid vaccine from AstraZeneca is not safe.',\n",
       " 'COVID-19 vaccines are not proven safe or effective.',\n",
       " 'Covid-19 vaccines will change your DNA.',\n",
       " 'The Covid-19 vaccine will kill you so do not take it',\n",
       " 'The coronavirus vaccine will alter the DNA of people who receive it',\n",
       " \"'Radioactive' vaccine stolen from German medical institute\",\n",
       " 'A post shared by a New Zealand Facebook user claims cold-storage vaccines are not legitimate and are aimed at genetic manipulation.',\n",
       " 'Moderna’s Covid-19 vaccine is designed to change people’s DNA.',\n",
       " 'A San Diego biotech company is developing a Covid-19 vaccine in collaboration with Duke University and National University of Singapore.',\n",
       " 'People vaccinated against Covid-19 pose a health risk to others by “shedding” spike proteins',\n",
       " 'The Covid-19 vaccine doesn’t stop you transmitting it.',\n",
       " 'COVID-19 vaccines were developed in 2015',\n",
       " 'A \"\"COVID-19 Vaccine Q&A\"\" includes a series of claims, including that the vaccines currently in use skipped animal testing, contain cells from foreign sources such as monkeys and cause serious harm to human health.',\n",
       " 'Four states have stopped administering the Johnson & Johnson COVID-19 vaccine in response to adverse effects.',\n",
       " 'A Facebook post claims that \"\"a new vaccine for COVID-19\"\" will alter a person’s DNA and genetically modify humans.',\n",
       " 'COVID-19 vaccines can cause sterilization and can change DNA.',\n",
       " \"Presence of COVID-19 restrictions for people who have been vaccinated means vaccines don't work.\",\n",
       " 'Moderna Covid-19 vaccine ingredient SM-102 is not fit for human use',\n",
       " 'Dr Byram Bridle says vaccines against Covid-19 are dangerous',\n",
       " 'Any vaccine that needs to be stored and shipped at -80 degrees isn’t a vaccine. It’s a transfection agent, kept alive so it can infect your cells and transfer genetic material.',\n",
       " 'No update from Johnson & Johnson after Covid-19 vaccine trials paused',\n",
       " 'Dr Judy Mikovits claims a vaccine for COVID-19 will be deadly, warns against immunization, and advocates for a five-year moratorium to test all vaccines.',\n",
       " 'According to research by scientists at the Sloan Kettering Institute, mRNA vaccines may interfere with tumor-suppressing genes in a way that could promote cancer.',\n",
       " 'mRNA vaccines are capable of altering or damaging human DNA.',\n",
       " 'Flu vaccine will give you coronavirus',\n",
       " 'AstraZeneca and Sputnik V COVID-19 vaccines are not effective against the Delta COVID-19 variant',\n",
       " 'Flu vaccines makes children more vulnerable to coronavirus infections.',\n",
       " 'mRNA COVID-19 vaccine reduces life span, causes other severe health issues',\n",
       " 'Unmarried women, children, people with breathing issues, people who smoke or drink alcohol, people with neurological issues, and those who have diabetes should not take the COVID-19 vaccine.',\n",
       " 'The vaccines contain genetically modified organisms.',\n",
       " 'COVID-19 vaccines are self-spreading vaccines',\n",
       " 'Doctors and scientists are recommending people not to take the vaccine.',\n",
       " 'Pediarix vaccine contains unsafe amount of aluminum',\n",
       " 'COVID-19 Vaccines will cause severe harm and even death if vaccinated person is later exposed to COVID-19.',\n",
       " \"Bill Gates and Robert F Kennedy Jr have warned that COVID-19 vaccine can change a person's DNA.\",\n",
       " 'Eight reasons not to get vaccinated against Covid-19',\n",
       " 'Formaldehyde in vaccines is connected to childhood leukaemia',\n",
       " 'Covid-19 vaccines cause vaccine enhancement syndrome which makes you even more vulnerable to the disease.',\n",
       " \"Moderna's chief medical officer says vaccines alters DNA\",\n",
       " 'The Covid-19 vaccines in use are poorly tested experimental vaccines.',\n",
       " 'British Airways have released a statement telling their pilots that they do not need to have a Covid-19 vaccine.',\n",
       " 'Flu vaccine makes recipients more vulnerable to infections and “the first to die” during pandemic',\n",
       " \"COVID-19 vaccines don't provide recipients with immunity\",\n",
       " 'Covid vaccines have not been properly tested and pose long-term health risks',\n",
       " 'Vaccine manufacturers have never claimed their vaccines stop transmission of Covid-19.',\n",
       " 'Aluminium in vaccines can cause Alzheimer’s disease.',\n",
       " 'Animal testing was skipped for the COVID-19 vaccines being administered in the United States.',\n",
       " 'CHRISTOPHER OGHENEBRORIE Okotie, a Nigerian televangelist and the pastor of the Household of God Church International Ministries in a viral video claimed that taking COVID-19 vaccine will turn people into vampire.',\n",
       " \"Moderna's mRNA COVID-19 vaccine could alter human DNA.\",\n",
       " 'The Pfizer and Moderna Covid-19 vaccines use lipid nanoparticles to deliver an mRNA load into cells.',\n",
       " 'The mRNA Covid-19 vaccines have not been tested on animals.',\n",
       " 'The Covid-19 vaccines offer very little protection against the disease.',\n",
       " 'Covid-19 vaccines don’t meet the legal definition of a vaccine.',\n",
       " 'COVID-19 vaccine caused the new variant of coronavirus in UK',\n",
       " 'Phase three trials for Covid-19 vaccines haven’t been done.',\n",
       " 'Covid-19 vaccines are not safe because they contain spike proteins which could be harmful',\n",
       " 'Mass vaccination will cause \"\"monster\"\" Covid-19 variants',\n",
       " 'Messenger RNA (mRNA) vaccine technology has catastrophic side effects, including death',\n",
       " 'The mRNA COVID-19 vaccines will reduce the life expectancy of people who take them.',\n",
       " 'COVID-19 vaccine is a “dangerous experimental gene therapy”',\n",
       " \"Tucker Carlson says he can't get answers to questions about COVID-19 vaccines.\",\n",
       " 'Moderna boss Tal Zaks says mRNA vaccine can alter DNA',\n",
       " 'Recipients of COVID-19 vaccines are being used as guinea pigs',\n",
       " 'COVID-19 messenger RNA (mRNA) vaccines are not real vaccines against coronavirus.',\n",
       " 'Obama warns against Covid vaccines',\n",
       " 'Moderna COVID-19 vaccine contains a cancer-causing ingredient that is not fit for human use.',\n",
       " 'Study on SARS-CoV-2 spike protein proves that mRNA vaccines are harmful for humans.',\n",
       " 'Covid-19 vaccines alter the DNA of recipients, make people infectious',\n",
       " 'Asking what’s in the vaccine before having it is classed as an offence.',\n",
       " 'Flu vaccines make people more vulnerable to infections.',\n",
       " 'A requirement for doctors to have a Hepatitis B vaccine sets a clear precedent for requiring care home workers to have the Covid-19 vaccine.',\n",
       " 'mRNA is injected into your body, then it inserts itself into your cells',\n",
       " 'A scientific study proved there is a causal link between a COVID-19 vaccine and herpes.',\n",
       " \"Singapore has rejected Pfizer-BioNTech and Moderna mRNA vaccines in favour of Sinovac's CoronaVac jab\",\n",
       " 'COVID-19 vaccines do not stop infection with or transmission of the coronavirus.',\n",
       " 'Se encontraron altas concentraciones de la proteína Spike en órganos reproductores de humanos inmunizados',\n",
       " 'FDA will not authorize approve any covid-19 vaccine',\n",
       " 'On April 13, 2021, U.S. government health officials recommended a temporary halt in the distribution of Johnson & Johnson COVID-19 vaccines across the nation citing concerns over a rare but serious blood clotting side effect.',\n",
       " 'Research has proven that male DNA lives forever in a woman after she has sex with a man.',\n",
       " 'mRNA vaccine will make your coronavirus infection worse',\n",
       " 'The Moderna vaccine contains SM-102 which could cause health complaints such as cancer, fertility damage and damage to the nervous system, kidneys or respiratory system.',\n",
       " 'Businesses can ask customers if they have been vaccinated against COVID-19 without legal repercussions.',\n",
       " 'A study from Memorial Sloan Kettering Cancer Center found that COVID-19 mRNA vaccines could be linked to cancer.',\n",
       " 'COVID-19 vaccines introduce long live antibodies that have high specificity for the virus and they out-compete our natural antibodies.',\n",
       " 'The COVID vaccine is supposed to reduce symptoms but not stop spread.',\n",
       " \"The Moderna & Pfizer Covid jabs are not legally vaccines, only attack the S-1 spike protein and won't prevent spread of COVID-19.\",\n",
       " 'Vaccines contain toxic ingredients',\n",
       " 'Measles vaccine won’t work for those born before 1989',\n",
       " 'Covid-19 vaccines are experimental.',\n",
       " 'Depending on the scale of the new outbreak the health ministry might turn to rVSV-ZEBOV, an experimental vaccine which showed signs of promise during testing.']"
      ]
     },
     "execution_count": 14,
     "metadata": {},
     "output_type": "execute_result"
    }
   ],
   "source": [
    "idx_to_keep = [i for i in range(len(bertopic.model.topics_)) if bertopic.model.topics_[i] in [47, 36, 469, 576, 16]]\n",
    "[data['text'][i] for i in idx_to_keep]"
   ]
  },
  {
   "cell_type": "markdown",
   "metadata": {},
   "source": [
    "## COVID 19 denialism"
   ]
  },
  {
   "cell_type": "code",
   "execution_count": 15,
   "metadata": {},
   "outputs": [
    {
     "data": {
      "text/plain": [
       "['CDC REFUSING ANY TESTING AT HOSPITALS EVEN WITH SYMPTOMS OF THE COVID19 UNLESS YOU JUST RETURNED FROM OVERSEAS. THIS IS A SERIOUS SITUATION NO ONE GETTING TESTED ISNT THIS OBVIOUS THEIR PLAN PANDEMIC FOR DEPOPULATION EXISTS HAPPENING NOW!',\n",
       " 'Americans deserve to know who was involved in unleashing the man-made COVID-19 virus on us (& around the world.) We need to know. The Democrats the propagandist fear-mongering media & their deep state puppet masters cannot overcome good with their evil.',\n",
       " \"It's not that Covid isn't real it's that Covid is't something to destroy our lives and change the every fabric our lifestyles. This is a draconian power grab from money hungry individuals compromised by communist china to establish the Great Reset for a new world order..\",\n",
       " \"Lol it makes sense. Just because you can't comprehend it doesn't mean its senseless. What doesn't make sense is that i made zero comment about it being ok to get covid and somehow you managed to get that out of what I said. What are you even referring to?\",\n",
       " \"All it takes for the system to rule and oppress with total impunity is enough of self-muzzled brainwashed covidiot zombies to become the tool of the system to embrace their own oppression cause surely it's 'for your own good'. #AntiLockdown #AntiMask #AntiPlandemic #NoNWO\",\n",
       " 'This is satire and fake you know that right? Not the chemtrail stuff but the fact that COVID19 got mixed into the chemtrails. Even the author listed \"\"satire\"\" in the post. They are making fun of people that think COVID19 is a hoax.',\n",
       " 'Covid is NWO. The government is the virus. Ai has manifested a mind virus that has spread to many people making them believe this is real which is why it is impossible to to even tell them this is a scam. Obviously it has infected you with all your BS proof listed. NWO get it.',\n",
       " \"Yes. I'd love to hear about the level of care they received that most of us don't have access to. Try finding a doctor here in AZ who takes Covid-19 seriously. They're all still using temp checks as an indicator whether you could be sick or not when you go in. Hint: it's not.\",\n",
       " \"Cognitive dissonance of the highest order. It reminds me of the head melters who maintain that Covid is both a hoax AND a bioweapon made by China/Bill Gates. Who gives a fuck if it makes sense it's being angry that's the main thing\",\n",
       " 'The two main reasons for this plandemic is the US general election and Brexit so after the election in America and the first of the new year covid 19 will be a thing in the history books. The Deep state are fighting for their lives',\n",
       " 'What is the reasoning behind people refusing tests? This could help us to understand how to deal with these people. QAnon has been a spreader of so much misinformation around Covid 19 they should be declared a terrorist organisation. Look what they have done to the USA.',\n",
       " 'The covid world is being divided into two main camps : there’s a virus and lockdown is the way to control it. The other main camp rejects the lockdown and says there is no virus Both groups reject any alternative to treating the problem.',\n",
       " 'COVID is real. However when you start looking at how it got here and the current statistics one can only conclude that there is something much larger going on than what we’re being told. I believe it’s a form of population control and an agenda for mandatory vaccinations.',\n",
       " 'I cannot believe that you seem to be under the illusion that a Canada style FTA can be agreed by the end of the year and in the middle of a global pandemic. Unless no deal is your desired position. In which case this is not a good deal for a post pandemic economy.',\n",
       " 'Good point think about it. First you were told Covid was a fake hoax flu then told to \"\"trust the plan\"\" and all other kinds of nonsense. Someone figured out people will believe nonsense and are now using it against the people that created the nonsense.',\n",
       " \"Covid was never a real thing except for the fact that they managed to create a year-round flu thing. Medical and pharmaceutical industry is laughing they're f****** asses off at everybody and the New World Order has even more Insidious fun planned.\",\n",
       " \"It's disgusting. I've screaming about it for months. Everything Covid-related is #Incentived through the #CARESAct & that funding is allocated through 2024! Two weeks to flatten the curve was BS. They're just riding the plandemic knowing full well what they're doing. #EndIt\",\n",
       " 'Covid 19 is the biggest scam hoax ever weaponized and implemented in History! Precisely planned many years ago by the Deep State for a certain time when there power was severely threatened like it is now. I have never seen anything like it for a flu-like virus in my life Ever',\n",
       " 'It’s still here? I thought people moved on to real things. You know like a pandemic massive unemployment bounties on our soldiers the courts telling the chosen one he’s not above the law. Real The Queef is still Obama Hillary JFK Jr aliens. You know bullshit.',\n",
       " 'Sth east Qld magnetic island palm island and Townsville City to enter snap 3 day lockdown. 2 new community cases of COVID. 19yo worker from Prince Charles Hospital. She travelled to Townsville and Magnetic Island late last week. 6pm',\n",
       " \"lol...well that explains it... I tried living at my son's last year in Las Vegas it was short-lived... he is not only a trump lover but a deep state Qanon conspiracy believer. he keeps calling & sending videos to convince me COVID-19 is a hoax\",\n",
       " \"The Covid is Obama's bioweapon made in China. He needs it to destroy Trump and forces Obamacare on American. Kamala is Obama's mistress since 2010. That's how she became AG Senator and now VP nominee. Just listen to her answers and see how bad she really is! ☺️\",\n",
       " \"COVID is a Dem hoax! They were old and were dying anyway so it's not a COVID death it's just recorded as one! The tests are wrong! More testing = more deaths! George Soros did it! Right to get COVIS is one of my FREEDUMS! Pick one of the above or a multitude of others.\",\n",
       " 'Did you know that there are doctors across the nation being fired for confirming the reporting of false covid cases? Which means the amount of covid cases is drastically exaggerated just to add fuel to the fire of sheeple like you. Millions of positive tests are actually fake.',\n",
       " 'We had another court hearing in Brussels today to safeguard our human rights against the covid lockdown measures Mike. The plandemic is the most urgent topic right now and we are fighting the good fight. Our lawyer is pulling out all the stops to put an end to this madness.',\n",
       " \"But is it they know this Covid-19 is a NWO Jew HOAX and they have nothing to worry about? And all the Orthodox Yids that are dropping from it left and right aren't really dropping from it in reality? Just saying? Got to be a real reason they ignore the ILLEGAL DECREE in NY?\",\n",
       " \"Canada has 1/3 the COVID death rate compared to US so I guess we're doing better than you :) And the bamboo hunt is not a lie spread by media. There was a video of an AZ official stating this. And even QAnon ppl say they're looking for bamboo (& QAnon is the opposite of media.)\",\n",
       " 'I think everything is tied into one .i think COVID 19 was part of the Communist NWO sicken a few million people and kill a few hundred thousand world wide . Bring the world population to its knees . Sprinkle in some riots to keep the populous busy .',\n",
       " '🚨WARNING:🚨 This weekend local TV stations owned by Sinclair around America will broadcast \"\"Plandemic\"\" which is a discredited conspiracy that blames Dr. Fauci for inventing COVID-19. It is of course bullshit. PASS IT ON.',\n",
       " 'Earlier prosecutor Kate Prince said police were made aware on November 16 last year of graffiti at the Tri-Centre insurer Zurich’s office base near Swindon bus station. The tags included “Covid lies” “new world order” and “masonic lies”.',\n",
       " 'Trump calling the coronavirus a hoax means he is literally planning TO DO NOTHING TO STOP IT. He has already made sure we were horrendously ill equipped to handle this by eliminating the pandemic response team. Now he’s saying “there is no virus.” #TrumpWillKillUsAll',\n",
       " 'Covid is a Freemason catalyzed TACTICAL felony solidarity deracination project masquerading disease pandemic. You can prove whatever you like but unless you people begin to acknowledge and deal with political radicalism you will make no progress ending this. #cainslewabel',\n",
       " 'I wonder if people who think COVID is a hoax or just the flu ever get tired of spamming Facebook or Twitter comment section everyday non-stop just to show off their massive wolf penises to the rest of us sheeple who believe safety of others is more important than “freedom”.',\n",
       " 'You\\'re right about \\'the market is God\\' sociopaths. You\\'re wrong about this scam/plandemic. Fom the UK gov website: \"\"As of 19 March 2020 COVID-19 is no longer considered to be a high consequence infectious diseases (HCID) in the UK.\"\"',\n",
       " 'Those who carefully consider all of the available evidence of \"\"The Twilight Zone*\"\" may conclude that it was the creation of The Usual Suspects in coordination with THE CCP. *covid hoax election hoax false flag operation at the Capital',\n",
       " \"Covid is a cover up for the 21st century human cull (depopulation) 99.9% of us can't belive. You've been warned. Funniest of all 99.9% of you belive in over population but not the agenda to depopulate. Irony Its not a big or hard mental leap #covid1984 #covidcoverup\",\n",
       " \"Covid is a cover up for the 21st century human cull (depopulation) 99.9% of us can't belive. You've been warned. Funniest of all 99.9% of us belive in over population but not the agenda to depopulate. Irony Its not a big or hard mental leap #covid1984 #covidcoverup\",\n",
       " \"Does it surprise you more or less than: People who claim there is NO #covid19 it's all a lie? People who claim it's bit a mild flu? People who believe it's a man made agent and the pandemic was planned? That pandemic was arranged to force people to be vaccinated & microchipped?\",\n",
       " 'Bc it all goes back to COVID 19. The virus is either A. created by the government so they have a reason to create the stimulus money. Or B. The virus is actually not as serious as the media is portraying it to be which in turn is causing all of the sheeple in the US to freak out.',\n",
       " 'I think my favorite people are the ones who simultaneously claim that COVID was intentionally unleashed by governments for population control and then they say shit like “THE FLU/CAR ACCIDENTS KILL MORE PEOPLE THAN COVID!!! BAN CARS!!!!” Super effective population control',\n",
       " 'That’s what they did to me.... I think what it does is it proves that these people trying to protect the coronavirus narrative are the same example brainwashed people that want to protect all the other false flags... It’s only proving more that the Covid-19 is a scam...',\n",
       " 'Wow great read! They have been planning this One World Order/Agenda 21/2030 for over 50 years and the takeover starts with COVID. It is there in writing from before this plandemic. If anyone wants proof this was planned to start the world takeover/depopulation. WAKE UP!!!!!!',\n",
       " \"Covid19 is a hoax.. used to control mindless sheep who believe everything a patented mind control device tells them. Fake news stats projections based on a lie. Don't ask who stands to benefit...you didn't know them then you won't know now.\",\n",
       " 'I see they are opening health concentration camps around the world like in Canada. Now we know how easy it was for hitler to fool the people. Keep telling a lie over and over. New normal= new world order. After covid we will be dying From climate change. Next hoax please.',\n",
       " '#COVID19 is the tool public enemy no. 1 the has used to manipulate the World for the NWO & big pharma! Every single person should do all that in their power to protect inalienable rights & thwart satanic actions to control them for the gain of a few sick billionaires. 30573,PATRIOTS! Seen any videos of people in China falling out because of CoronaVirus? I HAVE!!! Seen any videos of people anywhere else falling out because of the CoronaVirus? Italy? South Korea? USA? I HAVEN’T!!! These people are sick!!! #QAnon 30574,COVID-19 is a smoke screen to arrest over 150k high profile & wealthiest people with sealed indictments for consuming #Adrenochrome and the heinous practices to produce it and have it manufactured in a #WuhanLab. Be relevant or go silent. Tell the Truth or shut up. 30575,Are you fighting for Medicare for all hazard pay and protective equipment for workers income replacement for people losing their jobs the end to corporate corruption... Wait I’m being told they Want a constitutional amendment to purchase garden supplies during a pandemic 30576,I’m a staunch believer in vaccines but I have my skepticism with this covid vaccine. I don’t expect to receive one for a long long time which gives me time to review my decision then. Anyone who thinks there’s microchips in vaccines is unquestionably sick in the head. 30577,#ForFathersDayIWant A Post Covid World Where: -Leaders held to the SAME STANDARD as the People -The Senate & House have TERM LIMITS -Democrat & Deep State are ACTUALLY PROSECUTED for CRIMES -FBI & DOJ Leadership Prosecuted for their TREASON & MANY Many other FELONIES 30578,Believe me mate what’s coming soon is the Greatest Depression and hopefully not war but that’s what these war pigs may do. We let them take control like what we just did under the guise of a Covid false flag when the time comes welcome 1984. 30579,People\"\"? Like our intelligence community? (oh wait we can\\'t trust the \"\"deep state\"\") Like the scientific team that was stationed in Wuhan--looking for novel viruses? (oh wait they were fired) Like our pandemic response team? (oh wait they were fired) Which \"\"people\"\" Drumpf?',\n",
       " 'I for one was really pleased that idiot William Storey never got his dirty hands on our club after the way he has gone on about the government using COVID as propaganda saying there is no virus just a shame he never caught it then I had a nice die from it a few month ago.',\n",
       " 'there are people in my family who dont believe covid is real but believe joe biden is the antichrist sent to establish a new world order that will usher in the end times whereupon those who believe in a book will be teleported to paradise while hellfire rains on the nonbelievers',\n",
       " \"Covid-19 is fake the public are getting fed up of it now. NWO trying to control the whole population. A friend of mine died a few months ago he had covid then recovered from covid died of a heart attack on his death certificate cause of death was covid. It's a nonsense\",\n",
       " 'Lockdown 1. EatOutToHelpOut. Shit tier system. No Airport Checks. Failed App. Nightingale Hospital flop. Anti-maskers. Spiritual bondage to alcohol and partying. New COVID strain. Spontaneous Tier 4. Lockdown 2. Vaccine needs 45m people injected twice to work (lol with Brits?)',\n",
       " \"COVID 19 IS AGENDA 21 from United Nations totally globalism COVID exerts more control than green new deal climate change rolled together FOR THE NEW WORLD ORDER HE'S THEIR VACCINATION SALESMAN FAUCI birx the fall guys blame them it's how trump operates always a fall guy\",\n",
       " \"They didn't try to end us with covid. They have the means to end us anytime they want. Covid is definitely on purpose. It was used to force mail on voting. It's also being used to crash economy's. It seems to be ushering in the New World Order. Bad things are coming.\",\n",
       " '🤔Did Dr. Henry tell ppl. that the North (magnetic) Pole is shifting... and migrating/moving to Siberia at about 37 miles per year? Maybe \"\"Santa\"\" is a Communist infiltrator... and will deliver COVID-19 as a XMAS \"\"present\"\"?😅😂🤣🤦\\u200d♂️',\n",
       " '26.000 people died from None Covid-19 in the last UK lockdown. Suicide is up. Children abuse is up. Domestic violence is up. Our government has lost control. Say No to government lockdown. Say No to wearing masks. Say No to The New World Order #lockdown #endlockdown #COVID__19',\n",
       " 'If you get the chance you should read ‘The Covid-19 Illusion’ by Gary Jordan. The level of corruption and misdirection at all levels is staggering and will open your eyes to the current hoax as well as past scams all perpetrated in the name of Totalitarianism and depopulation',\n",
       " \"I cough a little bit when I'm in a building with air conditioning.I think CoVid-19 while a 'thing' has given POTUS a path to take down the CB/Fed etc which have Rothschild and Soros fingerprints on themthereby immobilizing their power!\",\n",
       " \"Thankfully they've always been shit so I don't need to stop listening to The Corrs but has ALWAYS been nuts or is it just the Covid thing? Obviously he's an antivaxxer but what else? Flat earth? The Moon landing? Habitable Sun? Chemtrails? Lizard overlords?\",\n",
       " \"Well comparing COVID19 to y2k answers your own question. Coronavirus is real and all we're doing is telling people to question the government that wants to keep you all calm little sheeple but you're right here you are trolling away\",\n",
       " 'Local lockdown might help contain Covid but imposing tighter restrictions on Middlesbrough and Hartlepool is kicking an area when it’s already down. Times are tough on Teesside & I can’t see light at the end of the tunnel for my local area economically culturally or spiritually.',\n",
       " 'NWO/MSM FEAR MONGERING LIES NO ONE DIED OF #COVID19 There\\'s NO TEST for \"\"covid19\"\" Water Goats fruit car oil test It\\'s a False flag to make the world BEG for the eugenicists vaccine to chip make very sick & take over the world INSANE but true! RESEARCH It KSBY won\\'t',\n",
       " 'Their mindset made it inevitable that covid19 was created and then let loose from a lab . Depopulation and control is their agenda and plus too many were waking up . Now we need to truly wake up right now as many as possible and stop their agendas unfolding anymore',\n",
       " 'Orbiting forest fire lasers are being repurposed with beam splitters for a massive array of laser microphones. Aimed at every window they pick up the vibrations of voices inside. But chemtrails come to our rescue and disperse the beams. So Covid was invented to stop air travel.',\n",
       " 'Stupid stupid Americans!! If you only knew the forces that control you and your mind.. we are all a bunch of hypnotized robots that are controlled by the media Chinese and the Dem Party. covid is a bioweapon. It’s all about💰/power. crashing the us economy is revenge for trump..',\n",
       " 'COVID-19 is an intentional spread bio weapon. Fix it or everytime a Democrat or China wants something they use it. They have murdered Americans stold an election destroyed the economy for what? Control. Who do you think is advising Democrats with population control idiots?',\n",
       " \"Or any high profile news anchors celebrities or Mps' contracting Covid 19 any more. It was a a virtue signaling hoax to fool the sheeple. Shame on them .They can fool some of the people some of the time but they can fool all of the people all the time. They've been found out\",\n",
       " \"How do people not think that COVID is real?! The ENTIRE PLANET isn't trying to prank you. This is real people close to me lose loved ones to this every day. Have some dignity or at least some respect and keep your plandemic conspiracies to yourself\",\n",
       " 'Covid is categorically not a \"\"false flag\"\" operation. We\\'re very lucky in NZ not to have had big outbreaks but my medical colleagues in the UK have seen so many people die from this. Calling it fake is incredibly disrespectful to those who\\'ve died their whānau & healthcare staff',\n",
       " \"It's funny. I actually agree with the gist of that video. There is a Foucauldian aspect to it. However Covid 19 is not being used as a means for population control. This situation will not go on indefinitely. Lockdown does not achieve any longterm control over the population\",\n",
       " \"No. I believe COVID19 is a hoax created by a deep state entity (CIA) to trick a brainwashed population into state slavery. I also believe that when the people wake up there will be hell to pay. I just don't know when that will happen.\",\n",
       " 'I have three family members in retirement centers. All have been in isolation since this COVID-19 thing began. We get frequent reports from the center where my in-laws reside! Two employees tested positive!!',\n",
       " 'What or WHO are the new world order --it is all over the internet --Some believe that those who deny covid 19 and advise folk to disobey face coverings etc -want Covid to spread and kill as many as possible to reduce the world population is this true ?',\n",
       " \"I'm sure if this did happen the assorted far right loonies and covid deniers would put it down to some kind of deep state plot rather than evidence that maybe covid does actually exist and that flouting precautions and getting it your mid 70s isn't such a great idea\",\n",
       " 'Does anyone think it\\'s a coincidence that the deep state CDC made a statement about the \"\" hoax\"\" coronavirus on the same day as the democratic debate!! Giving the Democrats a platform to attack President Trump!! They think we are stupid!',\n",
       " \"My one coworker still thinks COVID is a hoax. Yes she's a Trumper and into that QAnon BS. I don't listen to her or another coworker also a Trumper who says she doesn't know what is true regarding COVID. I listen to Fauci and Biden.\",\n",
       " '@drsimonegold This is your daily reminder that Covid-19 is a hoax.',\n",
       " 'Up until about a week ago, Dr. Murray would\\'ve said that it was possible to move beyond the pandemic. But recent vaccine trials showed us that there is no cross-strain protective immunity for a variant of the virus. \"\"COVID-19 is here to stay.\"\"',\n",
       " '@EmeraldRobinson 99% survival rate! Covid is the greatest HOAX ever!!!',\n",
       " 'White House pushes for independent investigation on COVID-19 origins',\n",
       " 'The Great Covid Hoax will be another one. We will have to pay in the end.🙄',\n",
       " 'COVID 19 is a long #AprilFoolsDay #AprilFools PSY OP/HOAX',\n",
       " '‘Strategies to fight Covid’ It was a planned hoax',\n",
       " 'COVID 19, COVID 20, COVID 21, COVID 22, COVID 23, COVI....MEGA PSY OP/HOAX',\n",
       " '@HTScotPol Meanwhile thousands are denied last few precious moments with elderly parents, kids denied education, businesses denied an earner? This covid hoax is looking more like an elitist virus by the day. In it together,lets all do our bit as to not put others at risk? Corrupt trash.',\n",
       " '@phil_hellmuth @AriaLV thats scary. overbooked airplanes & crowded indoor buildings. Covid19 positive cases are spiking in NY, FL, Tx, CA',\n",
       " '@gurpreetscheema No lockdown for sure. Also, covid is a hoax. I will live the way I want. If it goes to 2 lac cases per day, I will still enjoy and be normal. There is no corona.',\n",
       " 'None of you sheeple ever had COVID 19. You’re not a hero for surviving an imaginary virus/hoax/psy op',\n",
       " 'Sen. Ted Cruz will be required to show proof of a negative COVID test within the last three days in order to board the plane to Houston & once again upon arrival. Cancun offers antigen testing right at the airport with results within 30-60 minutes.',\n",
       " '@nytimes So in simple word..covid-19 is just a joke!! Its the biggest hoax of 21st century!!',\n",
       " 'When no1 gives a shit there becomes less of a motivation to push ahead with the lie. Covid is a HOAX may not have started that way (debatable) but it certainly has ended up as the biggest HOAX of all time. Ignore the lies #EndTheLockdown',\n",
       " 'Like the Covid hoax, so is the CO2 hoax--doomed to fail ;o)',\n",
       " '@TaylO_orr COVID 19 is a joke and anyone who believes it’s deadly is a 🤡and a 🐑',\n",
       " 'Canada has a crisis of kids 7 to 11 killing themselves, they permit adults to walk into clinics, no wait period/no doctor consultation required, and get euthanized. They have destroyed their manufacturing and fossil fuel industry but they care about you getting Covid, cos? 🤗',\n",
       " \"Some people still won't call covid a hoax because they don't want to admit that they were fooled for a whole year. Their ego is more important to them than letting children have their childhoods, helping the economy not be destroyed, and getting the world moving again. Amazing.\",\n",
       " 'DHS Secretary Alejandro Mayorkas refuses to answer how many migrants are testing positive for COVID-19',\n",
       " 'COVID IS A HOAX!',\n",
       " 'A new lockdown has been imposed across the West Bank as Palestinians face a fresh surge of coronavirus cases and a continued wait for a proper vaccine rollout',\n",
       " 'Pondicherry University student found the cure for covid-19',\n",
       " 'COVID-19 was downgraded from high consequence infectious disease (HCID) status by the UK government on 19th March, 2020.',\n",
       " 'ICMR and Sir Ganga Ram Hospital have made a list of preventive measures for COVID-19',\n",
       " 'Cornell University professor Rob Oswald said university labs are suing CDC saying Covid-19 does not exist',\n",
       " 'The NHS was not “overwhelmed” during Covid-19.',\n",
       " \"A study found asymptomatic transmission of COVID-19 didn't occur at all.\",\n",
       " 'Russia exposes Covid-19 with Scientific Data as a Hoax, says its a Fake Pandemic',\n",
       " 'Game Cigars have been discontinued due to a COVID-19 outbreak at a factory that produces them.',\n",
       " 'Asymptomatic Covid-19 doesn’t exist.',\n",
       " \"World Health Organisation's protocol and procedure of lockdown periods for controlling the most dangerous virus\",\n",
       " 'COVID-19 is not new and old textbook lists its treatment',\n",
       " 'President Rodrigo Duterte is going to announce a “total lockdown,” where all establishments will be closed to further curb the spread of COVID-19. People are asked to stock up food and other essential items that are good for 2 weeks.',\n",
       " 'Covid-19 is no longer classified as a high consequence infectious disease.',\n",
       " 'The Supreme Court of Canada agreed to hear a case against Justin Trudeau, Doug Ford and other civic officials of \"\"crimes against humanity\"\" due to COVID-19.',\n",
       " 'List of drugs and preventative steps for COVID-19 from KEM hospital, Mumbai',\n",
       " 'COVID-19 is not a medical pandemic',\n",
       " 'Three decades old Class 12th textbook lists treatment for COVID-19.',\n",
       " 'Accurate health advice about COVID-19 home remedies',\n",
       " 'Message from doctor at KEM Hospital suggesting medication such as azythromycin and HCQ for COVID-19 patients at home',\n",
       " 'Lesotho launches COVID-19 remedy',\n",
       " 'CDC admits Covid-19 doesn’t exist?',\n",
       " 'Covid911 - INSURGENCY',\n",
       " 'The World Health Organisation says that the coronavirus that causes Covid-19 is not infectious.',\n",
       " 'WHO issued proposal for extending lockdowns to control COVID-19',\n",
       " 'An email chain documents Canada\\'s Strategic Planning Committee\\'s \"\"global reset plan\"\" to deal with COVID-19, including strict lockdowns and mandatory vaccines.',\n",
       " 'World Health Organization issues guidelines on COVID-19 lockdown',\n",
       " 'the CDC removed the words \"\"COVID-19 Pandemic\"\" from its website and replaced them with \"\"COVID-19 Outbreak.\"\"',\n",
       " 'Accurate list of COVID-19 treatments',\n",
       " 'Late diagnoses in A&E are due to GPs missing signs of the disease.',\n",
       " 'List of COVID-19 treatments',\n",
       " 'Canada\\'s Strategic Planning committee, which is \"\"steered\"\" by the Prime Minister\\'s Office (PMO), is supposedly making plans for stricter lockdowns. They also have plans for \"\"total debt forgiveness\"\" in collaboration with the International Monetary Fund (IMF) in exchange for agreeing to be vaccinated against \"\"COVID-21.\"\"',\n",
       " 'AAP Mohalla clinic in a poor condition during COVID',\n",
       " 'Canada is building confinement camps',\n",
       " \"COVID treatment suggested by Nanavati Hospital's Dr. Ansari and Dr. Limaye\",\n",
       " 'These lympathic exercises by a Kerala doctor can tackle covid-19',\n",
       " 'Lockdowns backfired, increasing COVID-19 deaths instead of saving lives.',\n",
       " 'Xbox and PlayStation congratulated each other on Twitter for the November 2020 launch of Xbox Series X, Xbox Series S, and PS5.',\n",
       " 'President Donald Trump blamed his positive COVID-19 test on Navajo Nation Vice President Myron Lizer',\n",
       " 'U.S. President Donald Trump said he \"\"tested very positively\"\" for COVID-19, meaning his test results came back negative, and he did not have the coronavirus disease.',\n",
       " 'Confirmed COVID-19 cases would have reached 8.2 lakh if lockdown was not imposed as per ICMR study',\n",
       " 'The UK government no longer considers Covid-19 to be a “high consequence infectious disease”.',\n",
       " 'The Prime Minister may not have had Covid-19 and when he was admitted to hospital staff were asked to sign the Official Secrets Act and two who refused were dismissed.',\n",
       " 'Can Camphora 1M Provide Prevention and Treatment for COVID-19?',\n",
       " 'claims that Public Health England (PHE) admitted it “cannot scientifically prove that COVID-19 is contagious.”',\n",
       " 'The Covid-19 pandemic is a hoax and was deliberately planned',\n",
       " 'CDC admits there is no COVID-19',\n",
       " 'COVID-19 is \"\"not true\"\" and there is no evidence of a medical pandemic.',\n",
       " 'A letter from a consultant at a hospital in Surrey claims that hospitals are empty and that there is no pandemic.',\n",
       " 'Four common COVID-19 treatments recommended by doctors at Nanavati Hospital.',\n",
       " 'Covid-19 is not classed as a ‘high consequence infectious disease’.',\n",
       " 'A leader of the National Health Service (NHS) warned against the advice of Gwyneth Paltrow for treating lingering effects of COVID-19.',\n",
       " '“We know for a fact that there are drugs that have been repurposed and used effectively to treat Covid-19.”',\n",
       " 'President Donald Trump said that his COVID-19 test was \"\"sooo negative, that the doctors said they never saw a negative number so low.\"\"',\n",
       " 'Lockdown and the tier systems are deadlier than Covid-19.',\n",
       " 'Covid-19 is not a pandemic.',\n",
       " 'An Instagram post claims that COVID-19 does not exist because the virus that causes the disease has never been isolated.',\n",
       " 'A post criticises the composition of the body advising the Australian government on economic recovery from COVID-19, saying the members of the organisation do not have medical qualifications.',\n",
       " 'COVID-19 is not caused by Coronavirus',\n",
       " 'In late 2020, scientists published studies that proved presymptomatic or asymptomatic COVID-19 patients do not spread the virus in any setting.',\n",
       " 'Study shows asymptomatic transmission of Covid-19 didn’t happen at all',\n",
       " 'Chikoo can cure COVID-19',\n",
       " 'A Facebook post claims COVID-19 tests cannot distinguish between COVID-19, the flu and common cold. It also claims a 99.5 per cent \"\"survival rate\"\" for the coronavirus.',\n",
       " '\"\"False positives\"\" for COVID that are actually cases of the flu or the common cold are inflating the real danger of COVID-19 and the pandemic.',\n",
       " 'Congress prepared a COVID-19 toolkit to target Modi government',\n",
       " 'Cornell University professor Dr. Robert Oswald made a lengthy statement that states in part, “COVID-19 does not exist and is fictitious.”',\n",
       " 'Madagascan president said WHO offered him $20 million to poison remedy against Covid-19?',\n",
       " 'Musician Ted Nugent questioned why there weren’t lockdowns for “COVID one through 18” in a Facebok Live video posted on April 7, 2021.',\n",
       " \"Fauci's emails show there is no such thing as an asymptomatic spread of COVID-19 and no lockdowns were necessary.\",\n",
       " 'The United States \"\"refused\"\" COVID-19 diagnostic tests offered by the World Health Organization.',\n",
       " \"A Facebook post claims New Zealand's COVID-19 lockdown will last for three months rather than the initial four weeks announced.\",\n",
       " 'A widely circulated Facebook post claims that there is no COVID-19 pandemic.',\n",
       " \"WHO's proposal for lockdown periods to control COVID-19\",\n",
       " 'the Supreme Court of Canada agreed to hear a case accusing Prime Minister Justin Trudeau, Ontario Premier Doug Ford and other civic officials of “crimes against humanity” for implementing public health measures against Covid-19',\n",
       " 'Amish religious communities have not been affected by the deadly Covid-19 pandemic',\n",
       " 'On Sept. 18, 2020, Twitter user @JohnCammo predicted that U.S. President Donald Trump would announce in October that he had tested positive for COVID-19.',\n",
       " 'He was being sarcastic when he said he had ordered a slowdown in coronavirus testing to lower the number of cases']"
      ]
     },
     "execution_count": 15,
     "metadata": {},
     "output_type": "execute_result"
    }
   ],
   "source": [
    "idx_to_keep = [i for i in range(len(bertopic.model.topics_)) if bertopic.model.topics_[i] in [39, 74, 448, 128, 259]]\n",
    "[data['text'][i] for i in idx_to_keep]"
   ]
  },
  {
   "cell_type": "code",
   "execution_count": null,
   "metadata": {},
   "outputs": [],
   "source": []
  }
 ],
 "metadata": {
  "kernelspec": {
   "display_name": "tomodapiArm",
   "language": "python",
   "name": "python3"
  },
  "language_info": {
   "codemirror_mode": {
    "name": "ipython",
    "version": 3
   },
   "file_extension": ".py",
   "mimetype": "text/x-python",
   "name": "python",
   "nbconvert_exporter": "python",
   "pygments_lexer": "ipython3",
   "version": "3.8.18"
  }
 },
 "nbformat": 4,
 "nbformat_minor": 2
}
