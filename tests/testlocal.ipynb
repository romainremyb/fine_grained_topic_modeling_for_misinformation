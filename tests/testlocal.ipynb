{
 "cells": [
  {
   "cell_type": "code",
   "execution_count": 1,
   "metadata": {},
   "outputs": [],
   "source": [
    "import sys, os\n",
    "from collections import defaultdict\n",
    "from rdflib import Graph, Literal, URIRef\n",
    "\n",
    "\n",
    "sys.path.append(os.path.expanduser(\"~\")+'/Desktop/topic_modeling/fine_grained_topic_modeling_for_misinformation/src/')\n",
    "from cimple_querying import localGraph\n",
    "\n",
    "cimple = localGraph('KGs_v6/')\n",
    "\n",
    "uris_in_namespaces, unique_uris_in_namespaces = cimple.get_full_namespace_dict()"
   ]
  },
  {
   "cell_type": "code",
   "execution_count": 2,
   "metadata": {},
   "outputs": [
    {
     "data": {
      "text/plain": [
       "defaultdict(list,\n",
       "            {'predicates': [rdflib.term.URIRef('http://schema.org/isBasedOnURL'),\n",
       "              rdflib.term.URIRef('http://schema.org/ratingValue'),\n",
       "              rdflib.term.URIRef('http://schema.org/appearance'),\n",
       "              rdflib.term.URIRef('http://schema.org/author'),\n",
       "              rdflib.term.URIRef('http://schema.org/itemReviewed'),\n",
       "              rdflib.term.URIRef('http://schema.org/articleBody'),\n",
       "              rdflib.term.URIRef('http://schema.org/reviewRating'),\n",
       "              rdflib.term.URIRef('http://schema.org/inLanguage'),\n",
       "              rdflib.term.URIRef('http://schema.org/text'),\n",
       "              rdflib.term.URIRef('http://schema.org/dateCreated'),\n",
       "              rdflib.term.URIRef('http://schema.org/mentions'),\n",
       "              rdflib.term.URIRef('http://schema.org/alternativeHeadline'),\n",
       "              rdflib.term.URIRef('http://schema.org/url'),\n",
       "              rdflib.term.URIRef('http://schema.org/name'),\n",
       "              rdflib.term.URIRef('http://schema.org/headline'),\n",
       "              rdflib.term.URIRef('http://schema.org/reviewBody')],\n",
       "             'objects': [rdflib.term.URIRef('http://schema.org/Organization'),\n",
       "              rdflib.term.URIRef('http://schema.org/Review'),\n",
       "              rdflib.term.URIRef('http://schema.org/CreativeWork'),\n",
       "              rdflib.term.URIRef('http://schema.org/ClaimReview'),\n",
       "              rdflib.term.URIRef('http://schema.org/Claim'),\n",
       "              rdflib.term.URIRef('http://schema.org/NewsArticle'),\n",
       "              rdflib.term.URIRef('http://schema.org/Rating'),\n",
       "              rdflib.term.URIRef('http://schema.org/SocialMediaPosting')]})"
      ]
     },
     "execution_count": 2,
     "metadata": {},
     "output_type": "execute_result"
    }
   ],
   "source": [
    "unique_uris_in_namespaces[URIRef('http://schema.org/')]"
   ]
  },
  {
   "cell_type": "code",
   "execution_count": 3,
   "metadata": {},
   "outputs": [
    {
     "data": {
      "text/plain": [
       "193933"
      ]
     },
     "execution_count": 3,
     "metadata": {},
     "output_type": "execute_result"
    }
   ],
   "source": [
    "from_statements = cimple.get_unique_uris_from_type_statement(URIRef(\"http://schema.org/\" + 'NewsArticle'))\n",
    "len(from_statements)"
   ]
  },
  {
   "cell_type": "code",
   "execution_count": 5,
   "metadata": {},
   "outputs": [
    {
     "data": {
      "text/plain": [
       "193933"
      ]
     },
     "execution_count": 5,
     "metadata": {},
     "output_type": "execute_result"
    }
   ],
   "source": [
    "from_namespaces = cimple.get_unique_uris_from_type_namespace(URIRef('http://data.cimple.eu/news-article/'))\n",
    "len(from_namespaces)"
   ]
  },
  {
   "cell_type": "markdown",
   "metadata": {},
   "source": [
    "# check no missing type statements -> can use indexing with types instead of namespaces (longer)"
   ]
  },
  {
   "cell_type": "code",
   "execution_count": 9,
   "metadata": {},
   "outputs": [
    {
     "data": {
      "text/plain": [
       "defaultdict(list,\n",
       "            {'predicates': [rdflib.term.URIRef('http://www.w3.org/1999/02/22-rdf-syntax-ns#type')]})"
      ]
     },
     "execution_count": 9,
     "metadata": {},
     "output_type": "execute_result"
    }
   ],
   "source": [
    "cimple.unique_uris_in_namespaces[URIRef('http://www.w3.org/1999/02/22-rdf-syntax-ns#')]"
   ]
  },
  {
   "cell_type": "code",
   "execution_count": 14,
   "metadata": {},
   "outputs": [
    {
     "name": "stdout",
     "output_type": "stream",
     "text": [
      "all types\n"
     ]
    },
    {
     "data": {
      "text/plain": [
       "{rdflib.term.URIRef('http://schema.org/Claim'),\n",
       " rdflib.term.URIRef('http://schema.org/ClaimReview'),\n",
       " rdflib.term.URIRef('http://schema.org/NewsArticle'),\n",
       " rdflib.term.URIRef('http://schema.org/Organization'),\n",
       " rdflib.term.URIRef('http://schema.org/Rating'),\n",
       " rdflib.term.URIRef('http://schema.org/Review'),\n",
       " rdflib.term.URIRef('http://schema.org/SocialMediaPosting'),\n",
       " rdflib.term.URIRef('http://www.w3.org/2002/07/owl#ObjectProperty'),\n",
       " rdflib.term.URIRef('http://www.w3.org/2002/07/owl#Ontology'),\n",
       " rdflib.term.URIRef('http://www.w3.org/2004/02/skos/core#Concept')}"
      ]
     },
     "execution_count": 14,
     "metadata": {},
     "output_type": "execute_result"
    }
   ],
   "source": [
    "type_statements = cimple.get_all_triples_from_predicate(URIRef('http://www.w3.org/1999/02/22-rdf-syntax-ns#type'))\n",
    "print('all types')\n",
    "set(type_statements.values())"
   ]
  },
  {
   "cell_type": "code",
   "execution_count": 48,
   "metadata": {},
   "outputs": [
    {
     "name": "stdout",
     "output_type": "stream",
     "text": [
      "http://schema.org/Organization: there are 47 and 47 unique URIs according to type statements and namespace formatting respectively\n",
      "http://schema.org/Review: there are 1983 and 1983 unique URIs according to type statements and namespace formatting respectively\n",
      "http://schema.org/ClaimReview: there are 18008 and 18008 unique URIs according to type statements and namespace formatting respectively\n",
      "http://schema.org/Claim: there are 19867 and 19867 unique URIs according to type statements and namespace formatting respectively\n",
      "http://schema.org/NewsArticle: there are 193933 and 193933 unique URIs according to type statements and namespace formatting respectively\n",
      "http://www.w3.org/2002/07/owl#Ontology: there are 1 and 244334 unique URIs according to type statements and namespace formatting respectively\n",
      "http://www.w3.org/2004/02/skos/core#Concept: there are 19 and 3 unique URIs according to type statements and namespace formatting respectively\n"
     ]
    }
   ],
   "source": [
    "for type in set(cimple.get_all_triples_from_predicate(URIRef('http://www.w3.org/1999/02/22-rdf-syntax-ns#type')).values()):\n",
    "    list_statements = list(cimple.get_unique_uris_from_type_statement(type))\n",
    "    print(f\"{type}: there are {len(list_statements)} and {len(set(cimple.get_unique_uris_from_type_namespace(str(list_statements[0]).rsplit('/', 1)[0]+'/')))} unique URIs according to type statements and namespace formatting respectively\")"
   ]
  },
  {
   "cell_type": "markdown",
   "metadata": {},
   "source": [
    "concept: would need to go 2 / further\n",
    "http://www.w3.org/2002/07/owl#Ontology: only one record -> http://data.cimple.eu/ontology# (scripts looks for http://data.cimple.eu/)\n"
   ]
  },
  {
   "cell_type": "code",
   "execution_count": null,
   "metadata": {},
   "outputs": [],
   "source": []
  }
 ],
 "metadata": {
  "kernelspec": {
   "display_name": "tomodapiArm",
   "language": "python",
   "name": "python3"
  },
  "language_info": {
   "codemirror_mode": {
    "name": "ipython",
    "version": 3
   },
   "file_extension": ".py",
   "mimetype": "text/x-python",
   "name": "python",
   "nbconvert_exporter": "python",
   "pygments_lexer": "ipython3",
   "version": "3.8.18"
  }
 },
 "nbformat": 4,
 "nbformat_minor": 2
}
