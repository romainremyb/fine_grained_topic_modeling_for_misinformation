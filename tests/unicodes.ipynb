{
 "cells": [
  {
   "cell_type": "code",
   "execution_count": 2,
   "metadata": {},
   "outputs": [],
   "source": [
    "import sys, os\n",
    "import re\n",
    "sys.path.append(os.path.expanduser(\"~\")+'/Desktop/topic_modeling/fine_grained_topic_modeling_for_misinformation/src/')\n",
    "os.chdir(os.path.expanduser(\"~\")+'/Desktop/topic_modeling/fine_grained_topic_modeling_for_misinformation/data/')\n",
    "\n",
    "import re, nltk\n",
    "from nltk import pos_tag\n",
    "\n",
    "from utils import input_to_list_string, preprocess, _init\n",
    "from tomodapi.abstract_model import AbstractModel"
   ]
  },
  {
   "cell_type": "code",
   "execution_count": 3,
   "metadata": {},
   "outputs": [],
   "source": [
    "text, idxs = input_to_list_string('data.csv', False, True)\n"
   ]
  },
  {
   "cell_type": "code",
   "execution_count": 113,
   "metadata": {},
   "outputs": [
    {
     "data": {
      "text/plain": [
       "'covid19 is not covid- nor covid '"
      ]
     },
     "execution_count": 113,
     "metadata": {},
     "output_type": "execute_result"
    }
   ],
   "source": [
    "pattern = r'\\b\\d+\\b'\n",
    "\n",
    "filtered_text = re.sub(pattern, '', 'covid19 is not covid-19 nor covid 19')\n",
    "filtered_text"
   ]
  },
  {
   "cell_type": "code",
   "execution_count": 30,
   "metadata": {},
   "outputs": [
    {
     "data": {
      "text/plain": [
       "289"
      ]
     },
     "execution_count": 30,
     "metadata": {},
     "output_type": "execute_result"
    }
   ],
   "source": [
    "pattern = r'\\\\U[0-9A-Za-z]{8}'\n",
    "unique_Us = []\n",
    "for t in text:\n",
    "    filtered_text = re.findall(pattern, t.encode('unicode-escape').decode())\n",
    "    for u in filtered_text:\n",
    "        if u not in unique_Us:\n",
    "            unique_Us.append(u)\n",
    "\n",
    "len(unique_Us)"
   ]
  },
  {
   "cell_type": "code",
   "execution_count": 75,
   "metadata": {},
   "outputs": [
    {
     "name": "stdout",
     "output_type": "stream",
     "text": [
      "unicode 🤷 as count 184\n",
      "unicode 🔲 as count 145\n",
      "unicode 😄 as count 135\n",
      "unicode 🤪 as count 131\n",
      "unicode 🇱 as count 104\n",
      "unicode 🤢 as count 57\n",
      "unicode 🇸 as count 49\n",
      "unicode 😳 as count 44\n",
      "unicode 🤣 as count 43\n",
      "unicode 🇷 as count 37\n",
      "unicode 👶 as count 36\n",
      "unicode 🤬 as count 27\n",
      "unicode 🇺 as count 24\n",
      "unicode 😏 as count 18\n",
      "unicode 💀 as count 18\n",
      "unicode 😁 as count 18\n",
      "unicode 😭 as count 18\n",
      "unicode 🧐 as count 17\n",
      "unicode 🖕 as count 17\n",
      "unicode 🙄 as count 15\n",
      "unicode 🏥 as count 15\n",
      "unicode 🤗 as count 15\n",
      "unicode 🤦 as count 14\n",
      "unicode 😂 as count 13\n",
      "unicode 😂 as count 13\n",
      "unicode 🚨 as count 13\n",
      "unicode 🙄 as count 13\n",
      "unicode 🏼 as count 13\n",
      "unicode 🏴 as count 12\n",
      "unicode 😂 as count 11\n",
      "unicode 💡 as count 10\n",
      "unicode 🤔 as count 10\n",
      "unicode 🤣 as count 9\n",
      "unicode 😍 as count 9\n"
     ]
    }
   ],
   "source": [
    "pattern = r'\\\\U[0-9A-Za-z]{8}'\n",
    "Us = []\n",
    "import numpy as np\n",
    "for t in text:\n",
    "    filtered_text = re.findall(pattern, t.encode('unicode-escape').decode())\n",
    "    for u in filtered_text:\n",
    "        Us.append(u)\n",
    "\n",
    "Us = np.array(Us)\n",
    "for i in range(1,35):\n",
    "    idx=np.argsort(np.unique(Us, return_counts=True)[1])[-i]\n",
    "    print(f\"unicode {Us[idx].encode('utf-8').decode('unicode-escape')} as count {np.unique(Us, return_counts=True)[1][idx]}\")"
   ]
  },
  {
   "cell_type": "markdown",
   "metadata": {},
   "source": [
    "4 character patterns"
   ]
  },
  {
   "cell_type": "code",
   "execution_count": 33,
   "metadata": {},
   "outputs": [
    {
     "data": {
      "text/plain": [
       "487"
      ]
     },
     "execution_count": 33,
     "metadata": {},
     "output_type": "execute_result"
    }
   ],
   "source": [
    "pattern = r'\\\\u[0-9A-Za-z]{4}'\n",
    "unique_small_Us = []\n",
    "for t in text:\n",
    "    filtered_text = re.findall(pattern, t.encode('unicode-escape').decode())\n",
    "    for u in filtered_text:\n",
    "        if u not in unique_small_Us:\n",
    "            unique_small_Us.append(u)\n",
    "\n",
    "len(unique_small_Us)"
   ]
  },
  {
   "cell_type": "code",
   "execution_count": 39,
   "metadata": {},
   "outputs": [
    {
     "name": "stdout",
     "output_type": "stream",
     "text": [
      "’\n",
      "…\n",
      "—\n",
      "‘\n",
      "“\n",
      "”\n",
      "ー\n",
      "⬇\n",
      "️\n",
      "–\n",
      "⚠\n",
      "✅\n",
      "❤\n",
      "™\n",
      "‍\n",
      "♂\n",
      "☹\n",
      "‼\n",
      "✔\n",
      "✨\n"
     ]
    }
   ],
   "source": [
    "for u in unique_small_Us[:20]:\n",
    "    print(u.encode('utf-8').decode('unicode-escape'))"
   ]
  },
  {
   "cell_type": "code",
   "execution_count": 98,
   "metadata": {},
   "outputs": [
    {
     "name": "stdout",
     "output_type": "stream",
     "text": [
      "unicode ’ as count 5414\n",
      "unicode “ as count 2150\n",
      "unicode ” as count 2121\n",
      "unicode • as count 1666\n",
      "unicode — as count 1609\n",
      "unicode ‘ as count 368\n",
      "unicode … as count 242\n",
      "unicode ️ as count 232\n",
      "unicode – as count 221\n",
      "unicode ‍ as count 50\n",
      "unicode ा as count 45\n",
      "unicode क as count 37\n",
      "unicode ✅ as count 33\n",
      "unicode ❌ as count 31\n",
      "unicode ⬇ as count 30\n",
      "unicode ❤ as count 30\n",
      "unicode ् as count 28\n",
      "unicode ı as count 27\n",
      "unicode े as count 26\n",
      "unicode स as count 26\n",
      "unicode ا as count 26\n",
      "unicode ि as count 24\n",
      "unicode ⁦ as count 22\n",
      "unicode ⁩ as count 22\n",
      "unicode ♀ as count 22\n",
      "unicode 。 as count 21\n",
      "unicode İ as count 21\n",
      "unicode ر as count 20\n",
      "unicode ‼ as count 20\n",
      "unicode न as count 19\n",
      "unicode ♂ as count 19\n",
      "unicode र as count 19\n",
      "unicode ह as count 18\n",
      "unicode ⭐ as count 18\n",
      "unicode य as count 18\n",
      "unicode ो as count 18\n",
      "unicode ी as count 18\n",
      "unicode ल as count 17\n",
      "unicode い as count 17\n",
      "unicode म as count 16\n",
      "unicode の as count 16\n",
      "unicode ー as count 16\n",
      "unicode ज as count 15\n",
      "unicode で as count 15\n"
     ]
    }
   ],
   "source": [
    "pattern = r'\\\\u[0-9A-Za-z]{4}'\n",
    "small_Us = []\n",
    "import numpy as np\n",
    "for t in text:\n",
    "    filtered_text = re.findall(pattern, t.encode('unicode-escape').decode())\n",
    "    for u in filtered_text:\n",
    "        small_Us.append(u)\n",
    "\n",
    "# most popular small unicodes\n",
    "small_Us = np.array(small_Us)\n",
    "for i in range(1,45):\n",
    "    idx=np.argsort(np.unique(small_Us, return_counts=True)[1])[-i]\n",
    "    print(f\"unicode {np.unique(small_Us, return_counts=True)[0][idx].encode('utf-8').decode('unicode-escape')} as count {np.unique(small_Us, return_counts=True)[1][idx]}\")"
   ]
  },
  {
   "cell_type": "code",
   "execution_count": 90,
   "metadata": {},
   "outputs": [
    {
     "name": "stdout",
     "output_type": "stream",
     "text": [
      "unicode ⤵ as count 1\n",
      "unicode 取 as count 1\n",
      "unicode 卐 as count 1\n",
      "unicode 半 as count 1\n",
      "unicode 区 as count 1\n",
      "unicode 化 as count 1\n",
      "unicode ― as count 1\n",
      "unicode 勿 as count 1\n",
      "unicode 創 as count 1\n",
      "unicode 刻 as count 1\n",
      "unicode 初 as count 1\n",
      "unicode 分 as count 1\n",
      "unicode 写 as count 1\n",
      "unicode 内 as count 1\n",
      "unicode ″ as count 1\n",
      "unicode 公 as count 1\n",
      "unicode ⁉ as count 1\n",
      "unicode 党 as count 1\n",
      "unicode ⁣ as count 1\n",
      "unicode 偽 as count 1\n"
     ]
    }
   ],
   "source": [
    "# print less popular unicodes\n",
    "for i in range(20):\n",
    "    idx=np.argsort(np.unique(small_Us, return_counts=True)[1])[i]\n",
    "    print(f\"unicode {np.unique(small_Us, return_counts=True)[0][idx].encode('utf-8').decode('unicode-escape')} as count {np.unique(small_Us, return_counts=True)[1][idx]}\")"
   ]
  },
  {
   "cell_type": "code",
   "execution_count": 101,
   "metadata": {},
   "outputs": [
    {
     "data": {
      "text/plain": [
       "['\\\\u2015',\n",
       " '\\\\u2033',\n",
       " '\\\\u2063',\n",
       " '\\\\u0627',\n",
       " '\\\\u2066',\n",
       " '\\\\u2069',\n",
       " '\\\\u200d',\n",
       " '\\\\u2013',\n",
       " '\\\\ufe0f',\n",
       " '\\\\u2026',\n",
       " '\\\\u2018',\n",
       " '\\\\u2014',\n",
       " '\\\\u2022',\n",
       " '\\\\u201d',\n",
       " '\\\\u201c',\n",
       " '\\\\u2019']"
      ]
     },
     "execution_count": 101,
     "metadata": {},
     "output_type": "execute_result"
    }
   ],
   "source": [
    "remove_from_sorted_counts = [6, 14, 18, -21, -23, -24]\n",
    "l = range(-10,0)\n",
    "remove_from_sorted_counts.extend(l)\n",
    "\n",
    "unicodes_to_remove = []\n",
    "for i in remove_from_sorted_counts:\n",
    "    idx=np.argsort(np.unique(small_Us, return_counts=True)[1])[i]\n",
    "    unicodes_to_remove.append(np.unique(small_Us, return_counts=True)[0][idx])\n",
    "\n",
    "unicodes_to_remove\n"
   ]
  },
  {
   "cell_type": "markdown",
   "metadata": {},
   "source": [
    "unicodes to remove"
   ]
  },
  {
   "cell_type": "code",
   "execution_count": 102,
   "metadata": {},
   "outputs": [
    {
     "name": "stdout",
     "output_type": "stream",
     "text": [
      "―\n",
      "″\n",
      "⁣\n",
      "ا\n",
      "⁦\n",
      "⁩\n",
      "‍\n",
      "–\n",
      "️\n",
      "…\n",
      "‘\n",
      "—\n",
      "•\n",
      "”\n",
      "“\n",
      "’\n"
     ]
    }
   ],
   "source": [
    "for i in unicodes_to_remove:\n",
    "    print(i.encode('utf-8').decode('unicode-escape'))"
   ]
  },
  {
   "cell_type": "code",
   "execution_count": null,
   "metadata": {},
   "outputs": [],
   "source": []
  },
  {
   "cell_type": "code",
   "execution_count": null,
   "metadata": {},
   "outputs": [],
   "source": []
  }
 ],
 "metadata": {
  "kernelspec": {
   "display_name": "tomodapiArm",
   "language": "python",
   "name": "python3"
  },
  "language_info": {
   "codemirror_mode": {
    "name": "ipython",
    "version": 3
   },
   "file_extension": ".py",
   "mimetype": "text/x-python",
   "name": "python",
   "nbconvert_exporter": "python",
   "pygments_lexer": "ipython3",
   "version": "3.8.18"
  }
 },
 "nbformat": 4,
 "nbformat_minor": 2
}
